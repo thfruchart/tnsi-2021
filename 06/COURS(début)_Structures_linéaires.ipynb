{
  "nbformat": 4,
  "nbformat_minor": 0,
  "metadata": {
    "colab": {
      "name": "DÉBUT de 06-COURS_Structures_linéaires.ipynb",
      "provenance": [],
      "collapsed_sections": [
        "NW101hdlGmuA",
        "Jh14oHIKI6BH",
        "7eA8pURdI-yn",
        "OuJxfqmVHTxC",
        "MlXrDvhRHfQY",
        "fSr3nnbwLNn9",
        "QS73qft0IyCW",
        "bTpYJVWwNa1X",
        "IlX3Ol1GPLmD",
        "7xqDEM81-kNd",
        "Rco7MIlJHfit",
        "k-q3OHnOFXom",
        "p0QMLQufI5bq",
        "ij-LljAsJKs9",
        "8K-attXhJPXv",
        "1kB7cMR9PrA5",
        "LPgLdSAzJSZH",
        "A3rP32CkPL9k",
        "UEckisW4jTNH",
        "YXcuN_jnjWlB",
        "m6bDwcI3jp9u",
        "E0VbEyFrG4Jk"
      ],
      "authorship_tag": "ABX9TyPbluoszFmBpHgjjncdUWht",
      "include_colab_link": true
    },
    "kernelspec": {
      "name": "python3",
      "display_name": "Python 3"
    }
  },
  "cells": [
    {
      "cell_type": "markdown",
      "metadata": {
        "id": "view-in-github",
        "colab_type": "text"
      },
      "source": [
        "<a href=\"https://colab.research.google.com/github/thfruchart/tnsi/blob/main/06/COURS(d%C3%A9but)_Structures_lin%C3%A9aires.ipynb\" target=\"_parent\"><img src=\"https://colab.research.google.com/assets/colab-badge.svg\" alt=\"Open In Colab\"/></a>"
      ]
    },
    {
      "cell_type": "markdown",
      "metadata": {
        "id": "NW101hdlGmuA"
      },
      "source": [
        "# Structures linéaires"
      ]
    },
    {
      "cell_type": "markdown",
      "metadata": {
        "id": "D6xEY7KQGpTJ"
      },
      "source": [
        "Une **structure linéaire** sur un ensemble E est une suite d'éléments de E, dans laquelle chaque élément de E a une place bien précise.\n",
        "\n",
        "* si les éléments ont un indice (index) : on parle de **tableau**\n",
        "* si les éléments ont un prédécesseur et/ou un successeur : on parle de **liste chaînée**"
      ]
    },
    {
      "cell_type": "markdown",
      "metadata": {
        "id": "Jh14oHIKI6BH"
      },
      "source": [
        "### **Avantage** d'une structure linéaire tableau : "
      ]
    },
    {
      "cell_type": "markdown",
      "metadata": {
        "id": "AIUw75QpHuG1"
      },
      "source": [
        "  =>  rapidité d'accès à chaque élément\n"
      ]
    },
    {
      "cell_type": "markdown",
      "metadata": {
        "id": "7eA8pURdI-yn"
      },
      "source": [
        "### **Avantage** d'une structure linéaire liste chaînée : "
      ]
    },
    {
      "cell_type": "markdown",
      "metadata": {
        "id": "oECCcScEJEYH"
      },
      "source": [
        " =>  souplesse de la structure"
      ]
    },
    {
      "cell_type": "markdown",
      "metadata": {
        "id": "OuJxfqmVHTxC"
      },
      "source": [
        "### En Python, le type `set` définit-il une structure linéaire ?"
      ]
    },
    {
      "cell_type": "markdown",
      "metadata": {
        "id": "y3YQ9GljIZ0P"
      },
      "source": [
        "NON, car les éléments ne sont pas ordonnées dans un ensemble.\n",
        "\n",
        "On peut le constater en testant la cellule suivante :"
      ]
    },
    {
      "cell_type": "code",
      "metadata": {
        "id": "AGWcV74wJV80"
      },
      "source": [
        "{1,2,3} == {3,2,1}"
      ],
      "execution_count": null,
      "outputs": []
    },
    {
      "cell_type": "markdown",
      "metadata": {
        "id": "MlXrDvhRHfQY"
      },
      "source": [
        "### En Python, le type `list` définit-il une structure linéaire ?"
      ]
    },
    {
      "cell_type": "markdown",
      "metadata": {
        "id": "tbbl528oIahG"
      },
      "source": [
        "OUI, puisque chaque élément possède un indice.\n",
        "\n",
        "Le type list de Python permet de manipuler des **tableaux**. \n",
        "\n",
        "Mais il permet également d'ajouter, supprimer, insérer des éléments, ce qui est le propre d'une **liste chaînée**.\n",
        "\n"
      ]
    },
    {
      "cell_type": "markdown",
      "metadata": {
        "id": "fSr3nnbwLNn9"
      },
      "source": [
        "#### A RETENIR : "
      ]
    },
    {
      "cell_type": "markdown",
      "metadata": {
        "id": "J1vIsCqILLvN"
      },
      "source": [
        "\n",
        "* le type `list` de python cherche à cumuler les avantages des deux structures linéaires : tableaux et liste chaînée. \n",
        "* en toute rigueur un objet de type list n'est **ni** un tableau **ni** une liste chaînée. "
      ]
    },
    {
      "cell_type": "markdown",
      "metadata": {
        "id": "QS73qft0IyCW"
      },
      "source": [
        "# Principe d'une liste chaînée"
      ]
    },
    {
      "cell_type": "markdown",
      "metadata": {
        "id": "DjOhdtXXL4Qq"
      },
      "source": [
        "* Chaque élément d'une liste chaînée est stocké en mémoire avec l'adresse de l'élément suivant. \n",
        "* on accède au `n`-ième élément d'une liste chaînée en parcourant les `n-1` prédécesseurs de cet élément. \n",
        "* on peut ajouter des éléments au début, ou à l'intérieur de la liste chaînée. \n",
        "* la taille d'une liste chaînée est donc variable."
      ]
    },
    {
      "cell_type": "markdown",
      "metadata": {
        "id": "bTpYJVWwNa1X"
      },
      "source": [
        "### Exemple 1 : avec des tuples\n",
        "\n",
        "La liste `1-2-3`peut se définir ainsi :"
      ]
    },
    {
      "cell_type": "code",
      "metadata": {
        "id": "5pG4c4rEEtcR"
      },
      "source": [
        "lst1 = (1,(2,(3,None)))"
      ],
      "execution_count": null,
      "outputs": []
    },
    {
      "cell_type": "markdown",
      "metadata": {
        "id": "IlX3Ol1GPLmD"
      },
      "source": [
        "#### Pour ajouter un élément en tête de la liste, on peut écrire"
      ]
    },
    {
      "cell_type": "code",
      "metadata": {
        "id": "4ue9m9J9PSsh"
      },
      "source": [
        "lst0 = (0,lst1)\n",
        "print(lst0)"
      ],
      "execution_count": null,
      "outputs": []
    },
    {
      "cell_type": "markdown",
      "metadata": {
        "id": "4T_fuzBQFjHa"
      },
      "source": [
        "* chaque \"maillon\" d'une liste chaînée `lst` est un tuple\n",
        "* le premier élément du tuple est  `lst[0]` et contient une valeur\n",
        "* le second élément du tuple est `lst[1]` qui est : \n",
        "  * soit un tuple représentant le maillon suivant\n",
        "  * soit `None` s'il n'y a pas de maillon suivant"
      ]
    },
    {
      "cell_type": "markdown",
      "metadata": {
        "id": "7xqDEM81-kNd"
      },
      "source": [
        "#### Pour convertir une telle liste chaînée au format texte"
      ]
    },
    {
      "cell_type": "code",
      "metadata": {
        "id": "HhhjzqvIEDq8"
      },
      "source": [
        "def texte(lst):\n",
        "    if lst[1] is None: # il n'y a pas de maillon suivant\n",
        "        return str(lst[0])\n",
        "    # sinon\n",
        "    return str(lst[0])+ '-' + texte(lst[1])"
      ],
      "execution_count": null,
      "outputs": []
    },
    {
      "cell_type": "code",
      "metadata": {
        "id": "mboTkqBhC1Mp"
      },
      "source": [
        "texte(lst0)"
      ],
      "execution_count": null,
      "outputs": []
    },
    {
      "cell_type": "markdown",
      "metadata": {
        "id": "ZgSizw-2EI_9"
      },
      "source": [
        "Si on souhaite traiter le cas d'une liste chaînée vide, on peut préciser : "
      ]
    },
    {
      "cell_type": "code",
      "metadata": {
        "id": "6rhkD-4d-sIJ"
      },
      "source": [
        "def texte(lst):\n",
        "    if lst is None: # liste chaînée vide\n",
        "        return ''\n",
        "    if lst[1] is None:\n",
        "        return str(lst[0])\n",
        "    return str(lst[0])+ '-' + texte(lst[1])"
      ],
      "execution_count": null,
      "outputs": []
    },
    {
      "cell_type": "markdown",
      "metadata": {
        "id": "Rco7MIlJHfit"
      },
      "source": [
        "#### Remarque : la fonction `texte` est écrite de manière récursive. \n",
        "\n",
        "En effet, une structure linéaire est naturellement une structure récursive !"
      ]
    },
    {
      "cell_type": "markdown",
      "metadata": {
        "id": "k-q3OHnOFXom"
      },
      "source": [
        "### Exemple 2 : programmation orientée objet"
      ]
    },
    {
      "cell_type": "markdown",
      "metadata": {
        "id": "7KcPTwe-GdTB"
      },
      "source": [
        "On commence par définir une classe Maillon (on peut choisir un autre nom comme Cellule, Element...)"
      ]
    },
    {
      "cell_type": "code",
      "metadata": {
        "id": "h127K6uzLVAq"
      },
      "source": [
        "class Maillon:\n",
        "    def __init__(self, val, suiv=None):\n",
        "        self.valeur = val\n",
        "        self.suivant = suiv"
      ],
      "execution_count": 1,
      "outputs": []
    },
    {
      "cell_type": "markdown",
      "metadata": {
        "id": "hzVMNAp1HsQs"
      },
      "source": [
        "Une **liste chaînée** est alors : \n",
        "\n",
        "* soit `None` (liste vide)\n",
        "*  soit une suite de maillons imbriqués."
      ]
    },
    {
      "cell_type": "code",
      "metadata": {
        "id": "V-0Sc_7vH17I"
      },
      "source": [
        "lst = Maillon(30, Maillon(20, Maillon(10)))"
      ],
      "execution_count": 2,
      "outputs": []
    },
    {
      "cell_type": "markdown",
      "metadata": {
        "id": "EnLqsW9OIIXi"
      },
      "source": [
        "Remarque : \n",
        "\n",
        "`Maillon(10)` est équivalent à `Maillon(10, None)`"
      ]
    },
    {
      "cell_type": "markdown",
      "metadata": {
        "id": "V6lRqtCMLZxa"
      },
      "source": [
        "On peut ajouter une méthode `__str__` à la classe Maillon"
      ]
    },
    {
      "cell_type": "code",
      "metadata": {
        "id": "xaZiQJxMHRCu"
      },
      "source": [
        "class Maillon:\n",
        "    def __init__(self, val, suiv=None):\n",
        "        self.valeur = val\n",
        "        self.suivant = suiv\n",
        "\n",
        "    def __str__(self):\n",
        "        if self.suivant is None:\n",
        "            return str(self.valeur)\n",
        "        return str(self.valeur) + '-' + str(self.suivant)"
      ],
      "execution_count": 9,
      "outputs": []
    },
    {
      "cell_type": "code",
      "metadata": {
        "id": "1zWm3680LDLA",
        "outputId": "34572aa2-3449-4626-c516-7e629e639378",
        "colab": {
          "base_uri": "https://localhost:8080/"
        }
      },
      "source": [
        "lst = Maillon(30, Maillon(20, Maillon(10)))\n",
        "\n",
        "print(lst)"
      ],
      "execution_count": 4,
      "outputs": [
        {
          "output_type": "stream",
          "name": "stdout",
          "text": [
            "30-20-10\n"
          ]
        }
      ]
    },
    {
      "cell_type": "markdown",
      "metadata": {
        "id": "p0QMLQufI5bq"
      },
      "source": [
        "### Variable contenant une liste chaînée"
      ]
    },
    {
      "cell_type": "markdown",
      "metadata": {
        "id": "wLz5u0BFIh-i"
      },
      "source": [
        "* dans l'Exemple 1, une variable contenant une liste chaînée a le type `tuple`.\n",
        "* dans l'Exemple 2, une variable contenant une liste chaînée a le type `Maillon` : elle contient le \"premier maillon\" de la chaîne. "
      ]
    },
    {
      "cell_type": "markdown",
      "metadata": {
        "id": "A3rP32CkPL9k"
      },
      "source": [
        "# Définir une classe Chaine"
      ]
    },
    {
      "cell_type": "markdown",
      "metadata": {
        "id": "UEckisW4jTNH"
      },
      "source": [
        "## Encapsulation"
      ]
    },
    {
      "cell_type": "markdown",
      "metadata": {
        "id": "1B3vh9fmgP0c"
      },
      "source": [
        "Pour que l'utilisateur n'ait pas lui-même à manipuler les \"maillons\" d'une liste chaînée, on peut encapsuler le travail effectué jusqu'ici dans une nouvelle Classe.\n",
        "\n",
        "Un objet de type liste chaînée (ici `Chaine`) ne possède qu'un seul attribut : `tete`\n",
        "* pour une liste vide, cet attribut vaut None\n",
        "* pour une liste non vide, cet attribut est un objet de classe Maillon, qui représente le premier maillon de la chaîne. \n",
        "\n",
        "\n"
      ]
    },
    {
      "cell_type": "code",
      "metadata": {
        "id": "cvSwpGhnPju3"
      },
      "source": [
        "class Chaine:\n",
        "    def __init__(self):\n",
        "        self.tete = None\n",
        "\n",
        "    def est_vide(self):\n",
        "        return self.tete is None\n",
        "\n",
        "    def ajoute(self, val):\n",
        "        self.tete = Maillon(val, self.tete)\n"
      ],
      "execution_count": 6,
      "outputs": []
    },
    {
      "cell_type": "markdown",
      "metadata": {
        "id": "v7TMSA4Yg6MN"
      },
      "source": [
        "* Le constructeur de classe **`__init__`** permet de définir une liste chaînée vide.\n",
        "* la méthode **`est_vide`** permet de tester si une liste chaîné est vide.\n",
        "* la méthode **`ajoute`** permet d'ajouter un élément en tête d'une liste chaînée.\n",
        "\n",
        "Ainsi, l'utilisateur n'a pas besoin de faire appel à la classe Maillon"
      ]
    },
    {
      "cell_type": "code",
      "metadata": {
        "id": "nMrBab9ChGvv",
        "outputId": "486f0034-81f6-4959-a1ba-0adfe33c6382",
        "colab": {
          "base_uri": "https://localhost:8080/"
        }
      },
      "source": [
        "lst = Chaine()\n",
        "print(lst.est_vide())\n",
        "lst.ajoute(5)\n",
        "lst.ajoute(7)\n",
        "lst.ajoute(9)\n",
        "print(lst.est_vide())"
      ],
      "execution_count": 7,
      "outputs": [
        {
          "output_type": "stream",
          "name": "stdout",
          "text": [
            "True\n",
            "False\n"
          ]
        }
      ]
    },
    {
      "cell_type": "code",
      "metadata": {
        "id": "C2OlIiDzhp81",
        "outputId": "76bcfb80-eaa3-4700-a110-bc110cd4b4f3",
        "colab": {
          "base_uri": "https://localhost:8080/"
        }
      },
      "source": [
        "print(lst)"
      ],
      "execution_count": 8,
      "outputs": [
        {
          "output_type": "stream",
          "name": "stdout",
          "text": [
            "<__main__.Chaine object at 0x7fe45fa1fa90>\n"
          ]
        }
      ]
    },
    {
      "cell_type": "markdown",
      "metadata": {
        "id": "YXcuN_jnjWlB"
      },
      "source": [
        "## Affichage"
      ]
    },
    {
      "cell_type": "markdown",
      "metadata": {
        "id": "paSmRRlphwS9"
      },
      "source": [
        "Pour pouvoir afficher une liste, il suffit d'afficher la \"tête de liste\" en faisant appel à la fonction str de la classe `Maillon`. On définit ainsi la méthode **`__str__`** de la classe Chaine "
      ]
    },
    {
      "cell_type": "code",
      "metadata": {
        "id": "wlhpMl8oh6dI"
      },
      "source": [
        "class Maillon:\n",
        "    def __init__(self, val, suiv=None):\n",
        "        self.valeur = val\n",
        "        self.suivant = suiv\n",
        "\n",
        "    def __str__(self):\n",
        "        if self is None:\n",
        "            return ''\n",
        "        if self.suivant is None:\n",
        "            return str(self.valeur)\n",
        "        return str(self.valeur) + '-' + str(self.suivant)\n",
        "\n",
        "class Chaine:\n",
        "    def __init__(self):\n",
        "        self.tete = None\n",
        "    \n",
        "    def ajoute(self, val):\n",
        "        self.tete = Maillon(val, self.tete)\n",
        "\n",
        "    def __str__(self):\n",
        "        if self.tete is None:\n",
        "            return ''\n",
        "        return str(self.tete)"
      ],
      "execution_count": 10,
      "outputs": []
    },
    {
      "cell_type": "code",
      "metadata": {
        "id": "OFomv-xhiJps",
        "outputId": "390f9e22-5057-473b-f2b1-38ad84b99414",
        "colab": {
          "base_uri": "https://localhost:8080/"
        }
      },
      "source": [
        "lst = Chaine()\n",
        "lst.ajoute(5)\n",
        "lst.ajoute(7)\n",
        "lst.ajoute(9)\n",
        "\n",
        "print(lst)"
      ],
      "execution_count": 11,
      "outputs": [
        {
          "output_type": "stream",
          "name": "stdout",
          "text": [
            "9-7-5\n"
          ]
        }
      ]
    }
  ]
}