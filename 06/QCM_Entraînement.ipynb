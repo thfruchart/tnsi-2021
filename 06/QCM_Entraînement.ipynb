{
  "nbformat": 4,
  "nbformat_minor": 0,
  "metadata": {
    "colab": {
      "name": "06-QCM-Entraînement.ipynb",
      "provenance": [],
      "collapsed_sections": [],
      "authorship_tag": "ABX9TyOJO0WtnjRGL254Rsc/3Otd",
      "include_colab_link": true
    },
    "kernelspec": {
      "name": "python3",
      "display_name": "Python 3"
    }
  },
  "cells": [
    {
      "cell_type": "markdown",
      "metadata": {
        "id": "view-in-github",
        "colab_type": "text"
      },
      "source": [
        "<a href=\"https://colab.research.google.com/github/thfruchart/tnsi/blob/main/06/QCM_Entra%C3%AEnement.ipynb\" target=\"_parent\"><img src=\"https://colab.research.google.com/assets/colab-badge.svg\" alt=\"Open In Colab\"/></a>"
      ]
    },
    {
      "cell_type": "markdown",
      "metadata": {
        "id": "f-nS-AydZIHd"
      },
      "source": [
        "# Pour entraînement"
      ]
    },
    {
      "cell_type": "markdown",
      "metadata": {
        "id": "SXUrlQWhjS-3"
      },
      "source": [
        "* AVANT d'exécuter les cellules de code ci-dessous, prévoir quel seront les affichages obtenus\n",
        "* EXECUTER ensuite la cellule pour vérifier\n",
        "* Détailler si besoin l'exécution avec PythonTutor (lien ci-dessous)"
      ]
    },
    {
      "cell_type": "code",
      "metadata": {
        "id": "vH1dc28Cth4B"
      },
      "source": [
        "# code n°1\n",
        "class Maillon: \n",
        "    def __init__(self, val, suiv):\n",
        "        self.valeur = val\n",
        "        self.suivant = suiv\n",
        "\n",
        "def mystere(lst):\n",
        "    if lst is  None:\n",
        "        return 0\n",
        "    return lst.valeur + mystere(lst.suivant)\n",
        "\n",
        "a = Maillon(10,None)\n",
        "b = Maillon(20,a)\n",
        "c = Maillon(30,b)\n",
        "\n",
        "print(mystere(c))"
      ],
      "execution_count": null,
      "outputs": []
    },
    {
      "cell_type": "markdown",
      "metadata": {
        "id": "mo8WGDarjvC3"
      },
      "source": [
        "[Visualiser sur PythonTutor](http://www.pythontutor.com/visualize.html#code=class%20Maillon%3A%20%0A%20%20%20%20def%20__init__%28self,%20val,%20suiv%29%3A%0A%20%20%20%20%20%20%20%20self.valeur%20%3D%20val%0A%20%20%20%20%20%20%20%20self.suivant%20%3D%20suiv%0A%0Adef%20mystere%28lst%29%3A%0A%20%20%20%20if%20lst%20is%20%20None%3A%0A%20%20%20%20%20%20%20%20return%200%0A%20%20%20%20return%20lst.valeur%20%2B%20mystere%28lst.suivant%29%0A%0Aa%20%3D%20Maillon%2810,None%29%0Ab%20%3D%20Maillon%2820,a%29%0Ac%20%3D%20Maillon%2830,b%29%0A%0Aprint%28mystere%28c%29%29&cumulative=false&curInstr=17&heapPrimitives=nevernest&mode=display&origin=opt-frontend.js&py=3&rawInputLstJSON=%5B%5D&textReferences=false)"
      ]
    },
    {
      "cell_type": "code",
      "metadata": {
        "id": "S16YahCubj57"
      },
      "source": [
        "# code n°2\n",
        "class Maillon: \n",
        "    def __init__(self, val, suiv):\n",
        "        self.valeur = val\n",
        "        self.suivant = suiv\n",
        "\n",
        "def mystere(lst):\n",
        "    if lst.suivant is  None:\n",
        "        return 0\n",
        "    return lst.valeur + mystere(lst.suivant)\n",
        "\n",
        "a = Maillon(10,None)\n",
        "b = Maillon(20,a)\n",
        "c = Maillon(30,b)\n",
        "\n",
        "print(mystere(c))"
      ],
      "execution_count": null,
      "outputs": []
    },
    {
      "cell_type": "markdown",
      "metadata": {
        "id": "RvdhW1o7j4Nt"
      },
      "source": [
        "[Visualiser sur PythonTutor](http://www.pythontutor.com/visualize.html#code=class%20Maillon%3A%20%0A%20%20%20%20def%20__init__%28self,%20val,%20suiv%29%3A%0A%20%20%20%20%20%20%20%20self.valeur%20%3D%20val%0A%20%20%20%20%20%20%20%20self.suivant%20%3D%20suiv%0A%0Adef%20mystere%28lst%29%3A%0A%20%20%20%20if%20lst.suivant%20is%20%20None%3A%0A%20%20%20%20%20%20%20%20return%200%0A%20%20%20%20return%20lst.valeur%20%2B%20mystere%28lst.suivant%29%0A%0Aa%20%3D%20Maillon%2810,None%29%0Ab%20%3D%20Maillon%2820,a%29%0Ac%20%3D%20Maillon%2830,b%29%0A%0Aprint%28mystere%28c%29%29&cumulative=false&curInstr=17&heapPrimitives=nevernest&mode=display&origin=opt-frontend.js&py=3&rawInputLstJSON=%5B%5D&textReferences=false)"
      ]
    },
    {
      "cell_type": "code",
      "metadata": {
        "id": "kERfSpxtcVxn"
      },
      "source": [
        "# code n°3\n",
        "class Maillon: \n",
        "    def __init__(self, val, suiv):\n",
        "        self.valeur = val\n",
        "        self.suivant = suiv\n",
        "\n",
        "def mystere(lst):\n",
        "    if lst.suivant is  None:\n",
        "        return lst.valeur \n",
        "    return mystere(lst.suivant)\n",
        "\n",
        "a = Maillon(10,None)\n",
        "b = Maillon(20,a)\n",
        "c = Maillon(30,b)\n",
        "\n",
        "print(mystere(c))"
      ],
      "execution_count": null,
      "outputs": []
    },
    {
      "cell_type": "markdown",
      "metadata": {
        "id": "ZKnJGd3OkalN"
      },
      "source": [
        "[Visualiser sur PythonTutor](http://www.pythontutor.com/visualize.html#code=class%20Maillon%3A%20%0A%20%20%20%20def%20__init__%28self,%20val,%20suiv%29%3A%0A%20%20%20%20%20%20%20%20self.valeur%20%3D%20val%0A%20%20%20%20%20%20%20%20self.suivant%20%3D%20suiv%0A%0Adef%20mystere%28lst%29%3A%0A%20%20%20%20if%20lst.suivant%20is%20%20None%3A%0A%20%20%20%20%20%20%20%20return%20lst.valeur%20%0A%20%20%20%20return%20mystere%28lst.suivant%29%0A%0Aa%20%3D%20Maillon%2810,None%29%0Ab%20%3D%20Maillon%2820,a%29%0Ac%20%3D%20Maillon%2830,b%29%0A%0Aprint%28mystere%28c%29%29&cumulative=false&curInstr=17&heapPrimitives=nevernest&mode=display&origin=opt-frontend.js&py=3&rawInputLstJSON=%5B%5D&textReferences=false)"
      ]
    },
    {
      "cell_type": "code",
      "metadata": {
        "id": "DVC3cwpOd2fI"
      },
      "source": [
        "# code n°4 a\n",
        "class Maillon: \n",
        "    def __init__(self, val, suiv):\n",
        "        self.valeur = val\n",
        "        self.suivant = suiv\n",
        "\n",
        "def mystere(lst):\n",
        "    if lst.suivant is not None:\n",
        "        return lst.valeur \n",
        "    else :\n",
        "        return 0\n",
        "\n",
        "a = Maillon(10,None)\n",
        "b = Maillon(20,a)\n",
        "\n",
        "print(mystere(a), mystere(b) )"
      ],
      "execution_count": null,
      "outputs": []
    },
    {
      "cell_type": "code",
      "metadata": {
        "id": "Bx-fcjJVgGDC"
      },
      "source": [
        "# code n°4 b\n",
        "class Maillon: \n",
        "    def __init__(self, val, suiv):\n",
        "        self.valeur = val\n",
        "        self.suivant = suiv\n",
        "\n",
        "def mystere(self):\n",
        "    if self.suivant is None:\n",
        "        return ''\n",
        "    return str(self.valeur) + '-' + mystere(self.suivant)\n",
        "\n",
        "\n",
        "a = Maillon(10,None)\n",
        "b = Maillon(20,a)\n",
        "c = Maillon(30,b)\n",
        "\n",
        "a.suivant=c\n",
        "\n",
        "mystere(c)"
      ],
      "execution_count": null,
      "outputs": []
    },
    {
      "cell_type": "markdown",
      "metadata": {
        "id": "XuISFkoPkz8l"
      },
      "source": [
        "[Visualiser sur PythonTutor](http://www.pythontutor.com/visualize.html#code=class%20Maillon%3A%20%0A%20%20%20%20def%20__init__%28self,%20val,%20suiv%29%3A%0A%20%20%20%20%20%20%20%20self.valeur%20%3D%20val%0A%20%20%20%20%20%20%20%20self.suivant%20%3D%20suiv%0A%0Adef%20mystere%28self%29%3A%0A%20%20%20%20if%20self.suivant%20is%20None%3A%0A%20%20%20%20%20%20%20%20return%20''%0A%20%20%20%20return%20str%28self.valeur%29%20%2B%20'-'%20%2B%20mystere%28self.suivant%29%0A%0A%0Aa%20%3D%20Maillon%2810,None%29%0Ab%20%3D%20Maillon%2820,a%29%0Ac%20%3D%20Maillon%2830,b%29%0A%0Aa.suivant%3Dc&cumulative=false&curInstr=17&heapPrimitives=nevernest&mode=display&origin=opt-frontend.js&py=3&rawInputLstJSON=%5B%5D&textReferences=false)\n",
        "\n",
        "les trois maillons forment une \"chaîne infinie\"... le nombre d'appels récursifs va finir par dépasse la limite (1000 par défaut) fixée par Python."
      ]
    }
  ]
}