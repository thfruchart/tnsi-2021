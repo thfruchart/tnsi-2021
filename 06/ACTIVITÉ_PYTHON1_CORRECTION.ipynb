{
  "nbformat": 4,
  "nbformat_minor": 0,
  "metadata": {
    "colab": {
      "name": "06-ACTIVITÉ-PYTHON1.ipynb",
      "provenance": [],
      "collapsed_sections": [],
      "authorship_tag": "ABX9TyP6ILj7FoTaEhZ1vSx2e5ml",
      "include_colab_link": true
    },
    "kernelspec": {
      "name": "python3",
      "display_name": "Python 3"
    }
  },
  "cells": [
    {
      "cell_type": "markdown",
      "metadata": {
        "id": "view-in-github",
        "colab_type": "text"
      },
      "source": [
        "<a href=\"https://colab.research.google.com/github/thfruchart/tnsi/blob/main/06/ACTIVIT%C3%89_PYTHON1_CORRECTION.ipynb\" target=\"_parent\"><img src=\"https://colab.research.google.com/assets/colab-badge.svg\" alt=\"Open In Colab\"/></a>"
      ]
    },
    {
      "cell_type": "markdown",
      "metadata": {
        "id": "k_3z6KZUZodD"
      },
      "source": [
        "# Activité 1\n",
        "\n",
        "a) Représenter sur feuille l'état de la mémoire après exécution du code suivant : "
      ]
    },
    {
      "cell_type": "code",
      "metadata": {
        "id": "1jeH1uQBYU72"
      },
      "source": [
        "class Maillon:\n",
        "    def __init__(self, val, suiv=None):\n",
        "        self.valeur = val\n",
        "        self.suivant = suiv\n",
        "\n",
        "m1 = Maillon(1)\n",
        "m2 = Maillon(5,m1)\n",
        "m3 = Maillon(12,m2)"
      ],
      "execution_count": null,
      "outputs": []
    },
    {
      "cell_type": "markdown",
      "metadata": {
        "id": "SlhcdBHmZGwu"
      },
      "source": [
        "Vérifier en visualisant le résultat sur [PythonTutor](http://www.pythontutor.com/visualize.html#code=class%20Maillon%3A%0A%20%20%20%20def%20__init__%28self,%20val,%20suiv%3DNone%29%3A%0A%20%20%20%20%20%20%20%20self.valeur%20%3D%20val%0A%20%20%20%20%20%20%20%20self.suivant%20%3D%20suiv%0A%0Am1%20%3D%20Maillon%281%29%0Am2%20%3D%20Maillon%285,m1%29%0Am3%20%3D%20Maillon%2812,m2%29&cumulative=false&curInstr=16&heapPrimitives=nevernest&mode=display&origin=opt-frontend.js&py=3&rawInputLstJSON=%5B%5D&textReferences=false)"
      ]
    },
    {
      "cell_type": "markdown",
      "metadata": {
        "id": "GJaDA6oYaHvA"
      },
      "source": [
        "b) déterminer ce qu'affichera le code suivant... puis tester en exécutant la cellule"
      ]
    },
    {
      "cell_type": "code",
      "metadata": {
        "id": "6pVjRKZeaQdS"
      },
      "source": [
        "def affiche(m):\n",
        "    print (m.valeur)\n",
        "    if m.suivant != None:\n",
        "        affiche(m.suivant)\n",
        "\n",
        "affiche(m3)"
      ],
      "execution_count": null,
      "outputs": []
    },
    {
      "cell_type": "markdown",
      "metadata": {
        "id": "2dTiFK7Ya2WB"
      },
      "source": [
        "c) déterminer ce qu'affichera le code suivant... puis tester en exécutant la cellule"
      ]
    },
    {
      "cell_type": "code",
      "metadata": {
        "id": "90oIwTaza8bs"
      },
      "source": [
        "m0 = Maillon(1, Maillon(2, Maillon(3)))\n",
        "\n",
        "affiche(m0)"
      ],
      "execution_count": null,
      "outputs": []
    },
    {
      "cell_type": "markdown",
      "metadata": {
        "id": "uoFpIJWIkmlK"
      },
      "source": [
        "Vérifier votre raisonnement avec [PythonTutor](http://www.pythontutor.com/visualize.html#code=class%20Maillon%3A%0A%20%20%20%20def%20__init__%28self,%20val,%20suiv%3DNone%29%3A%0A%20%20%20%20%20%20%20%20self.valeur%20%3D%20val%0A%20%20%20%20%20%20%20%20self.suivant%20%3D%20suiv%0A%0Adef%20affiche%28m%29%3A%0A%20%20%20%20print%20%28m.valeur%29%0A%20%20%20%20if%20m.suivant%20is%20not%20None%3A%0A%20%20%20%20%20%20%20%20affiche%28m.suivant%29%0A%20%20%20%20%20%20%20%20%0Am0%20%3D%20Maillon%281,%20Maillon%282,%20Maillon%283%29%29%29%0A%0Aaffiche%28m0%29&cumulative=false&curInstr=15&heapPrimitives=nevernest&mode=display&origin=opt-frontend.js&py=3&rawInputLstJSON=%5B%5D&textReferences=false)"
      ]
    },
    {
      "cell_type": "markdown",
      "metadata": {
        "id": "Eb53v-mQb75x"
      },
      "source": [
        "## Exercice 1\n",
        "\n",
        "a) Compléter le code suivant, de sorte que la **fonction** `affiche` devienne une **méthode** de la classe `Maillon`"
      ]
    },
    {
      "cell_type": "code",
      "metadata": {
        "id": "MxAkvsswcJJN"
      },
      "source": [
        "class Maillon:\n",
        "    def __init__(self, val, suiv=None):\n",
        "        self.valeur = val\n",
        "        self.suivant = suiv\n",
        "\n",
        "    #DÉFINITION À COMPLÉTER !\n",
        "    def affiche(self):\n",
        "        print (self.valeur)\n",
        "        if self.suivant != None:\n",
        "            self.suivant.affiche()\n",
        "    \n",
        "\n",
        "m1 = Maillon(1)\n",
        "m2 = Maillon(5,m1)\n",
        "m3 = Maillon(12,m2)"
      ],
      "execution_count": 9,
      "outputs": []
    },
    {
      "cell_type": "markdown",
      "metadata": {
        "id": "efRpw9ikcZdN"
      },
      "source": [
        "b) Écrire dans la cellule ci-dessous l'instruction qui permet de tester la méthode `affiche` sur l'objet `m3`. "
      ]
    },
    {
      "cell_type": "code",
      "metadata": {
        "id": "WfGt3cqkc2S2",
        "outputId": "518d3c80-1380-41c1-9416-599c39543694",
        "colab": {
          "base_uri": "https://localhost:8080/"
        }
      },
      "source": [
        "m3.affiche()"
      ],
      "execution_count": 5,
      "outputs": [
        {
          "output_type": "stream",
          "name": "stdout",
          "text": [
            "12\n",
            "5\n",
            "1\n"
          ]
        }
      ]
    },
    {
      "cell_type": "markdown",
      "metadata": {
        "id": "lW2McDLTc2_n"
      },
      "source": [
        "c) ***Pour aller plus loin*** : écrire une méthode **`__str__`** pour la classe `Maillon`."
      ]
    },
    {
      "cell_type": "code",
      "metadata": {
        "id": "1IpCVwYVp_z7",
        "outputId": "d2fab3a3-1a44-4614-e16e-816879de6683",
        "colab": {
          "base_uri": "https://localhost:8080/"
        }
      },
      "source": [
        "class Maillon:\n",
        "    def __init__(self, val, suiv=None):\n",
        "        self.valeur = val\n",
        "        self.suivant = suiv\n",
        "\n",
        "    \n",
        "    def affiche(self):\n",
        "        print (self.valeur)\n",
        "        if self.suivant != None:\n",
        "            self.suivant.affiche()\n",
        "    \n",
        "    # Ajout de la méthode __str__\n",
        "    def __str__(self):\n",
        "        if self.suivant == None:\n",
        "            return str(self.valeur)\n",
        "        else : \n",
        "            return str(self.valeur) + '|' + str(self.suivant)\n",
        "\n",
        "m1 = Maillon(1)\n",
        "m2 = Maillon(5,m1)\n",
        "m3 = Maillon(12,m2)\n",
        "\n",
        "print(m3) # appel de la méthode __str__  par Python "
      ],
      "execution_count": 10,
      "outputs": [
        {
          "output_type": "stream",
          "name": "stdout",
          "text": [
            "12|5|1\n"
          ]
        }
      ]
    },
    {
      "cell_type": "code",
      "metadata": {
        "id": "14F6wWlNqUF8"
      },
      "source": [
        "# on peut tester également :  \n",
        "m3.__str__()"
      ],
      "execution_count": null,
      "outputs": []
    }
  ]
}