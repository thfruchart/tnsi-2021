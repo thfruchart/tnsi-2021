{
  "nbformat": 4,
  "nbformat_minor": 0,
  "metadata": {
    "colab": {
      "name": "06-ACTIVITÉ-PYTHON2.ipynb",
      "provenance": [],
      "collapsed_sections": [],
      "authorship_tag": "ABX9TyNj5EJh5khjMfm/cOel4ZyQ",
      "include_colab_link": true
    },
    "kernelspec": {
      "name": "python3",
      "display_name": "Python 3"
    }
  },
  "cells": [
    {
      "cell_type": "markdown",
      "metadata": {
        "id": "view-in-github",
        "colab_type": "text"
      },
      "source": [
        "<a href=\"https://colab.research.google.com/github/thfruchart/tnsi/blob/main/06/ACTIVIT%C3%89_PYTHON2_CORRECTION.ipynb\" target=\"_parent\"><img src=\"https://colab.research.google.com/assets/colab-badge.svg\" alt=\"Open In Colab\"/></a>"
      ]
    },
    {
      "cell_type": "markdown",
      "metadata": {
        "id": "PtzZJeGbdrLJ"
      },
      "source": [
        "# Activité 2"
      ]
    },
    {
      "cell_type": "markdown",
      "metadata": {
        "id": "0X6QQjjvhxmC"
      },
      "source": [
        "On reprend la classe Maillon de l'activité 1, et on définit une fonction `mystere`"
      ]
    },
    {
      "cell_type": "markdown",
      "metadata": {
        "id": "n1RNdYd3AWAP"
      },
      "source": [
        "*Remarque* : la condition `lst is None` est équivalente à `lst == None` du moment que cette valeur booléenne n'a pas été modifiée en programmant une méthode `__eq__`"
      ]
    },
    {
      "cell_type": "code",
      "metadata": {
        "id": "GFl5YOJGgR0z"
      },
      "source": [
        "class Maillon:  # identique à l'activité 1\n",
        "    def __init__(self, val, suiv=None):\n",
        "        self.valeur = val\n",
        "        self.suivant = suiv\n",
        "\n",
        "def mystere(lst):\n",
        "    if lst is None:\n",
        "        return 0\n",
        "    return 1 + mystere(lst.suivant)"
      ],
      "execution_count": 2,
      "outputs": []
    },
    {
      "cell_type": "markdown",
      "metadata": {
        "id": "dWNsEZEnh3FJ"
      },
      "source": [
        "Déterminer ce qui sera affiché à l'éxécution du code suivant, [aide pour la variable lst](http://www.pythontutor.com/visualize.html#code=class%20Maillon%3A%0A%20%20%20%20def%20__init__%28self,%20val,%20suiv%3DNone%29%3A%0A%20%20%20%20%20%20%20%20self.valeur%20%3D%20val%0A%20%20%20%20%20%20%20%20self.suivant%20%3D%20suiv%0A%0Alst%20%3D%20Maillon%2830,%20Maillon%2820,%20Maillon%2810%29%29%29&cumulative=false&curInstr=14&heapPrimitives=nevernest&mode=display&origin=opt-frontend.js&py=3&rawInputLstJSON=%5B%5D&textReferences=false)\n",
        "\n",
        "puis vérifier en exécutant la cellule :"
      ]
    },
    {
      "cell_type": "code",
      "metadata": {
        "id": "3fAbpfmDh-B-",
        "outputId": "687df147-5eac-4f9a-f35b-c2da14f744ef",
        "colab": {
          "base_uri": "https://localhost:8080/"
        }
      },
      "source": [
        "lst = Maillon(30, Maillon(20, Maillon(10)))\n",
        "print (mystere (lst) )"
      ],
      "execution_count": 3,
      "outputs": [
        {
          "output_type": "stream",
          "name": "stdout",
          "text": [
            "3\n"
          ]
        }
      ]
    },
    {
      "cell_type": "markdown",
      "metadata": {
        "id": "ZoI2XNg1j3Lu"
      },
      "source": [
        "## Exercice 2"
      ]
    },
    {
      "cell_type": "markdown",
      "metadata": {
        "id": "CedHjMSpj6gd"
      },
      "source": [
        "Écrire une fonction `longueur(lst)` qui utilise une boucle **while** pour renvoyer la longueur d'une liste, c'est à dire le nombre de maillons qu'elle contient. On convient que `None` représente une liste de longueur 0. "
      ]
    },
    {
      "cell_type": "code",
      "metadata": {
        "id": "olL1jmvq276s"
      },
      "source": [
        "def longueur(lst):\n",
        "    cpt = 0\n",
        "    while lst is not None : \n",
        "        cpt += 1\n",
        "        lst = lst.suivant\n",
        "    return cpt"
      ],
      "execution_count": 4,
      "outputs": []
    },
    {
      "cell_type": "code",
      "metadata": {
        "id": "Vz13bRl-4F66",
        "outputId": "e3c0e2dc-3b74-4573-b629-3c31a8289f92",
        "colab": {
          "base_uri": "https://localhost:8080/"
        }
      },
      "source": [
        "longueur(Maillon(30, Maillon(20, Maillon(10))))"
      ],
      "execution_count": 5,
      "outputs": [
        {
          "output_type": "execute_result",
          "data": {
            "text/plain": [
              "3"
            ]
          },
          "metadata": {},
          "execution_count": 5
        }
      ]
    },
    {
      "cell_type": "code",
      "metadata": {
        "id": "METHk2304NWq",
        "outputId": "ed1d80e0-c4c6-4d73-c4e3-62e1a4583152",
        "colab": {
          "base_uri": "https://localhost:8080/"
        }
      },
      "source": [
        "longueur(Maillon(20, Maillon(10)))"
      ],
      "execution_count": 6,
      "outputs": [
        {
          "output_type": "execute_result",
          "data": {
            "text/plain": [
              "2"
            ]
          },
          "metadata": {},
          "execution_count": 6
        }
      ]
    }
  ]
}