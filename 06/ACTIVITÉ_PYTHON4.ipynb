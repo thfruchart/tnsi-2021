{
  "nbformat": 4,
  "nbformat_minor": 0,
  "metadata": {
    "colab": {
      "name": "06-ACTIVITÉ-PYTHON4.ipynb",
      "provenance": [],
      "collapsed_sections": [],
      "authorship_tag": "ABX9TyNQhKpi0LJgsmNJiqxMrwPg",
      "include_colab_link": true
    },
    "kernelspec": {
      "name": "python3",
      "display_name": "Python 3"
    }
  },
  "cells": [
    {
      "cell_type": "markdown",
      "metadata": {
        "id": "view-in-github",
        "colab_type": "text"
      },
      "source": [
        "<a href=\"https://colab.research.google.com/github/thfruchart/tnsi/blob/main/06/ACTIVIT%C3%89_PYTHON4.ipynb\" target=\"_parent\"><img src=\"https://colab.research.google.com/assets/colab-badge.svg\" alt=\"Open In Colab\"/></a>"
      ]
    },
    {
      "cell_type": "markdown",
      "metadata": {
        "id": "P1apmUYvXVUn"
      },
      "source": [
        "# Activité 4"
      ]
    },
    {
      "cell_type": "markdown",
      "metadata": {
        "id": "sJAgyPEYQAAF"
      },
      "source": [
        "On reprend la classe Maillon, et on définit une fonction `mystere`"
      ]
    },
    {
      "cell_type": "code",
      "metadata": {
        "id": "Gmv8BjqUdvzR"
      },
      "source": [
        "class Maillon:  \n",
        "    def __init__(self, val, suiv=None):\n",
        "        self.valeur = val\n",
        "        self.suivant = suiv\n",
        "\n",
        "    def __str__(self):\n",
        "        if self is None:\n",
        "            return ''\n",
        "        if self.suivant is None:\n",
        "            return str(self.valeur)\n",
        "        return str(self.valeur) + '-' + str(self.suivant)\n",
        "\n",
        "def mystere(lst):\n",
        "    resu = None\n",
        "    m = lst\n",
        "    while m is not None:\n",
        "        resu = Maillon(m.valeur, resu)\n",
        "        m = m.suivant\n",
        "    return resu\n"
      ],
      "execution_count": 1,
      "outputs": []
    },
    {
      "cell_type": "markdown",
      "metadata": {
        "id": "XC76FRrxQsUV"
      },
      "source": [
        "## Pour chacune des deux cellules suivantes : \n",
        "* Déterminer ce qui sera affiché à l'éxécution du code suivant, \n",
        "* puis vérifier en exécutant la cellule :"
      ]
    },
    {
      "cell_type": "markdown",
      "metadata": {
        "id": "yMRfJ7M1Sm_U"
      },
      "source": [
        "### Exemple 1"
      ]
    },
    {
      "cell_type": "code",
      "metadata": {
        "id": "viwcBmpeQwRN"
      },
      "source": [
        "lst = Maillon(50, Maillon(60, Maillon(70)))\n",
        "print(lst)"
      ],
      "execution_count": null,
      "outputs": []
    },
    {
      "cell_type": "markdown",
      "metadata": {
        "id": "q_wA5aHVSpXj"
      },
      "source": [
        "### Exemple 2"
      ]
    },
    {
      "cell_type": "code",
      "metadata": {
        "id": "UwX-c5FBROyF"
      },
      "source": [
        "lst = Maillon(50, Maillon(60, Maillon(70)))\n",
        "x = mystere(lst)\n",
        "print(x)"
      ],
      "execution_count": null,
      "outputs": []
    },
    {
      "cell_type": "markdown",
      "metadata": {
        "id": "XuKAMD9RTzCq"
      },
      "source": [
        "## Exercice 4\n",
        "\n"
      ]
    },
    {
      "cell_type": "markdown",
      "metadata": {
        "id": "prXTtNi3UJ84"
      },
      "source": [
        "1. Expliquer le rôle de la fonction mystere\n",
        "2. Comment pourrait-on définir cette fonction de manière récursive?"
      ]
    }
  ]
}