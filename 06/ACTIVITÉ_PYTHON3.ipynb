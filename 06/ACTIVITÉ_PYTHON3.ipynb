{
  "nbformat": 4,
  "nbformat_minor": 0,
  "metadata": {
    "colab": {
      "name": "06-ACTIVITÉ-PYTHON3.ipynb",
      "provenance": [],
      "collapsed_sections": [],
      "authorship_tag": "ABX9TyMaUEEEpB8uaGbNxnFb9Ami",
      "include_colab_link": true
    },
    "kernelspec": {
      "name": "python3",
      "display_name": "Python 3"
    }
  },
  "cells": [
    {
      "cell_type": "markdown",
      "metadata": {
        "id": "view-in-github",
        "colab_type": "text"
      },
      "source": [
        "<a href=\"https://colab.research.google.com/github/thfruchart/tnsi/blob/main/06/ACTIVIT%C3%89_PYTHON3.ipynb\" target=\"_parent\"><img src=\"https://colab.research.google.com/assets/colab-badge.svg\" alt=\"Open In Colab\"/></a>"
      ]
    },
    {
      "cell_type": "markdown",
      "metadata": {
        "id": "XD0cmHLehdHl"
      },
      "source": [
        "# Activité 3"
      ]
    },
    {
      "cell_type": "markdown",
      "metadata": {
        "id": "sJAgyPEYQAAF"
      },
      "source": [
        "On reprend la classe Maillon de l'activité 1, et on définit une fonction `mystere`"
      ]
    },
    {
      "cell_type": "code",
      "metadata": {
        "id": "Gmv8BjqUdvzR"
      },
      "source": [
        "class Maillon:  \n",
        "    def __init__(self, val, suiv=None):\n",
        "        self.valeur = val\n",
        "        self.suivant = suiv\n",
        "\n",
        "def mystere(lst, n):\n",
        "    if n == 0:\n",
        "        return lst.valeur\n",
        "    else:\n",
        "        return mystere(lst.suivant, n-1)"
      ],
      "execution_count": null,
      "outputs": []
    },
    {
      "cell_type": "markdown",
      "metadata": {
        "id": "XC76FRrxQsUV"
      },
      "source": [
        "## Pour chacune des trois cellules suivantes : \n",
        "* Déterminer ce qui sera affiché à l'éxécution du code suivant, \n",
        "* puis vérifier en exécutant la cellule :"
      ]
    },
    {
      "cell_type": "markdown",
      "metadata": {
        "id": "yMRfJ7M1Sm_U"
      },
      "source": [
        "### Exemple 1"
      ]
    },
    {
      "cell_type": "code",
      "metadata": {
        "id": "viwcBmpeQwRN"
      },
      "source": [
        "lst = Maillon(30, Maillon(20, Maillon(10)))\n",
        "x = mystere(lst, 0)\n",
        "print(x)"
      ],
      "execution_count": null,
      "outputs": []
    },
    {
      "cell_type": "markdown",
      "metadata": {
        "id": "q_wA5aHVSpXj"
      },
      "source": [
        "### Exemple 2"
      ]
    },
    {
      "cell_type": "code",
      "metadata": {
        "id": "UwX-c5FBROyF"
      },
      "source": [
        "lst = Maillon(50, Maillon(60, Maillon(70)))\n",
        "y = mystere(lst, 2)\n",
        "print(y)"
      ],
      "execution_count": null,
      "outputs": []
    },
    {
      "cell_type": "markdown",
      "metadata": {
        "id": "uZUvq82PSs2z"
      },
      "source": [
        "### Exemple 3"
      ]
    },
    {
      "cell_type": "code",
      "metadata": {
        "id": "Ir3iSe5GRiAA"
      },
      "source": [
        "lst = Maillon(1, Maillon(2, Maillon(3)))\n",
        "z = mystere(lst, 3)\n",
        "print(z)"
      ],
      "execution_count": null,
      "outputs": []
    },
    {
      "cell_type": "markdown",
      "metadata": {
        "id": "XuKAMD9RTzCq"
      },
      "source": [
        "## Exercice 3\n",
        "\n"
      ]
    },
    {
      "cell_type": "markdown",
      "metadata": {
        "id": "prXTtNi3UJ84"
      },
      "source": [
        "1. Expliquer le rôle de la fonction mystere\n",
        "2. Améliorer la définition de la fonction mystere, pour qu'un message d'erreur plus explicite soit levé dans le cas rencontré dans l'exemple 3. "
      ]
    },
    {
      "cell_type": "code",
      "metadata": {
        "id": "2vYlERaCUegO"
      },
      "source": [
        ""
      ],
      "execution_count": null,
      "outputs": []
    }
  ]
}