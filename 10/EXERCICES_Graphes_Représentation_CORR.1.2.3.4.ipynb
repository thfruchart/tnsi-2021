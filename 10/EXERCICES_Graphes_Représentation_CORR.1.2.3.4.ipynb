{
  "nbformat": 4,
  "nbformat_minor": 0,
  "metadata": {
    "colab": {
      "name": "Chap10_EXERCICES_Graphes_Représentation.ipynb",
      "provenance": [],
      "collapsed_sections": [],
      "authorship_tag": "ABX9TyMV+m1UZn/sn5l0YqmLuops",
      "include_colab_link": true
    },
    "kernelspec": {
      "name": "python3",
      "display_name": "Python 3"
    }
  },
  "cells": [
    {
      "cell_type": "markdown",
      "metadata": {
        "id": "view-in-github",
        "colab_type": "text"
      },
      "source": [
        "<a href=\"https://colab.research.google.com/github/thfruchart/tnsi/blob/main/10/EXERCICES_Graphes_Repr%C3%A9sentation_CORR.1.2.3.4.ipynb\" target=\"_parent\"><img src=\"https://colab.research.google.com/assets/colab-badge.svg\" alt=\"Open In Colab\"/></a>"
      ]
    },
    {
      "cell_type": "markdown",
      "metadata": {
        "id": "HNE1yauCGZn2"
      },
      "source": [
        "## Exercice 1\n",
        "Utiliser la classe Graphe ci-dessous pour représenter le graphe orienté suivant, qu'on nommera \"`graphex1`\"\n",
        "\n",
        "![graphex](http://pauillac.inria.fr/~levy/courses/X/IF/poly/main003.gif)"
      ]
    },
    {
      "cell_type": "code",
      "metadata": {
        "id": "V8rWsLL53tSw"
      },
      "source": [
        "class Graphe:\n",
        "    ''' graphe représenté par une matrice d'adjacence\n",
        "    les sommets sont les entiers de 0 à n-1, avec n = ordre du graphe'''\n",
        "    def __init__(self, n):\n",
        "        self.n = n \n",
        "        self.tab = [ [0 for j in range(n)] for i in range(n)]\n",
        "\n",
        "    def ajouter_arc(self,s1,s2):\n",
        "        self.tab[s1][s2] = 1\n",
        "\n",
        "    def arc(self,s1,s2):\n",
        "        return self.tab[s1][s2] == 1\n",
        "    \n",
        "    def voisins(self,s):\n",
        "        return [j for j in range(self.n) if self.arc(s,j)] "
      ],
      "execution_count": 1,
      "outputs": []
    },
    {
      "cell_type": "code",
      "source": [
        "graphex1 = Graphe(6)\n",
        "graphex1.ajouter_arc(0,1)\n",
        "graphex1.ajouter_arc(0,2)\n",
        "graphex1.ajouter_arc(1,2)\n",
        "graphex1.ajouter_arc(1,3)\n",
        "graphex1.ajouter_arc(1,5)\n",
        "graphex1.ajouter_arc(2,5)\n",
        "graphex1.ajouter_arc(3,4)\n",
        "graphex1.ajouter_arc(4,1)\n",
        "graphex1.ajouter_arc(5,3)\n",
        "print(graphex1.tab)"
      ],
      "metadata": {
        "id": "VvwXHNRqmRUK",
        "outputId": "94c60c31-6590-482c-f3ff-93304105e33d",
        "colab": {
          "base_uri": "https://localhost:8080/"
        }
      },
      "execution_count": 2,
      "outputs": [
        {
          "output_type": "stream",
          "name": "stdout",
          "text": [
            "[[0, 1, 1, 0, 0, 0], [0, 0, 1, 1, 0, 1], [0, 0, 0, 0, 0, 1], [0, 0, 0, 0, 1, 0], [0, 1, 0, 0, 0, 0], [0, 0, 0, 1, 0, 0]]\n"
          ]
        }
      ]
    },
    {
      "cell_type": "markdown",
      "metadata": {
        "id": "Fxkw96jTG_Ri"
      },
      "source": [
        "## Exercice 2\n",
        "\n",
        "1. Ajouter à la classe Graphe de l'exercice 1 une méthode `Graphe.afficher()` qui affiche, pour chaque sommet du graphe, ses voisins sous la forme suivante :\n",
        "\n",
        "\n",
        "    0 -> 1 2  \n",
        "    1 -> 2 3 5\n",
        "\n",
        "c'est à dire : une ligne par sommet, une flèche, et la liste des sommets voisins. \n",
        "2. Tester cette méthode sur le graphe `graphex1`"
      ]
    },
    {
      "cell_type": "code",
      "source": [
        "class Graphe:\n",
        "    ''' graphe représenté par une matrice d'adjacence\n",
        "    les sommets sont les entiers de 0 à n-1, avec n = ordre du graphe'''\n",
        "    def __init__(self, n):\n",
        "        self.n = n \n",
        "        self.tab = [ [0 for j in range(n)] for i in range(n)]\n",
        "\n",
        "    def ajouter_arc(self,s1,s2):\n",
        "        self.tab[s1][s2] = 1\n",
        "\n",
        "    def arc(self,s1,s2):\n",
        "        return self.tab[s1][s2] == 1\n",
        "    \n",
        "    def voisins(self,s):\n",
        "        return [j for j in range(self.n) if self.arc(s,j)] \n",
        "    \n",
        "    def afficher(self):\n",
        "        for i in range(self.n):\n",
        "            print(i, ' -> ', end = ' ')\n",
        "            for x in self.voisins(i):\n",
        "                print(x, end=' ')\n",
        "            print()\n",
        "\n",
        "graphex1 = Graphe(6)\n",
        "graphex1.ajouter_arc(0,1)\n",
        "graphex1.ajouter_arc(0,2)\n",
        "graphex1.ajouter_arc(1,2)\n",
        "graphex1.ajouter_arc(1,3)\n",
        "graphex1.ajouter_arc(1,5)\n",
        "graphex1.ajouter_arc(2,5)\n",
        "graphex1.ajouter_arc(3,4)\n",
        "graphex1.ajouter_arc(4,1)\n",
        "graphex1.ajouter_arc(5,3)\n",
        "graphex1.afficher()"
      ],
      "metadata": {
        "id": "ef-WVXoxoS8a",
        "outputId": "24aa0e12-93f7-43f8-d932-eedfddaa5d9b",
        "colab": {
          "base_uri": "https://localhost:8080/"
        }
      },
      "execution_count": 14,
      "outputs": [
        {
          "output_type": "stream",
          "name": "stdout",
          "text": [
            "0  ->  1 2 \n",
            "1  ->  2 3 5 \n",
            "2  ->  5 \n",
            "3  ->  4 \n",
            "4  ->  1 \n",
            "5  ->  3 \n"
          ]
        }
      ]
    },
    {
      "cell_type": "markdown",
      "metadata": {
        "id": "pDM2lL0MFDOi"
      },
      "source": [
        "## Exercice 3\n",
        "\n",
        "1. Ecrire dans la classe ci-dessous, une méthode `Graphe.ajouter_arete(s1,s2)`  qui ajoute au graphe l'arête s1-s2 (c'est à dire les deux arc orientés s1-s2  et s2-s1)\n",
        "2. Utiliser cette méthode pour représenter le graphe non orienté suivant, qu'on nommera \"`graphex3`\"\n",
        "\n",
        "![graphex](https://pixees.fr/informatiquelycee/n_site/img/nsi_term_algo_graph_1.png)"
      ]
    },
    {
      "cell_type": "code",
      "metadata": {
        "id": "ZvNAmutJCmI0"
      },
      "source": [
        "class Graphe:\n",
        "    ''' graphe représenté par un dictionnaire d'adjacence'''\n",
        "    def __init__(self):\n",
        "        self.dico = {}\n",
        "    \n",
        "    def ajouter_sommet(self,s):\n",
        "        if s not in self.dico:\n",
        "            self.dico[s] = []\n",
        "    \n",
        "    def ajouter_arc(self,s1,s2):\n",
        "        self.ajouter_sommet(s1)\n",
        "        self.ajouter_sommet(s2)\n",
        "        self.dico[s1].append(s2)\n",
        "    \n",
        "    def arc(self,s1,s2):\n",
        "        return s2 in self.dico[s1]\n",
        "    \n",
        "    def sommets(self):\n",
        "        return list(self.dico)\n",
        "\n",
        "    def voisins(self,s):\n",
        "        return self.dico[s]\n",
        "    \n",
        "    def ajouter_arete(self,s1,s2):\n",
        "        self.ajouter_arc(s1,s2)\n",
        "        self.ajouter_arc(s2,s1)\n",
        "\n",
        "graphex3 = Graphe()\n",
        "graphex3.ajouter_arete('A', 'B')\n",
        "graphex3.ajouter_arete('A', 'F')\n",
        "graphex3.ajouter_arete('B', 'C')\n",
        "graphex3.ajouter_arete('B', 'D')\n",
        "graphex3.ajouter_arete('B', 'G')\n",
        "graphex3.ajouter_arete('F', 'G')\n",
        "graphex3.ajouter_arete('F', 'H')\n",
        "graphex3.ajouter_arete('C', 'E')\n",
        "graphex3.ajouter_arete('D', 'I')\n",
        "graphex3.ajouter_arete('G', 'I')\n",
        "graphex3.ajouter_arete('H', 'I')\n",
        "graphex3.ajouter_arete('E', 'I')"
      ],
      "execution_count": 17,
      "outputs": []
    },
    {
      "cell_type": "markdown",
      "source": [
        "![graphex](https://pixees.fr/informatiquelycee/n_site/img/nsi_term_algo_graph_1.png)"
      ],
      "metadata": {
        "id": "AsCRYe6HetJR"
      }
    },
    {
      "cell_type": "markdown",
      "metadata": {
        "id": "Xy1ewPTQHyuz"
      },
      "source": [
        "## Exercice 4\n",
        "\n",
        "1. Ajouter à la classe Graphe de l'exercice 3 une méthode `Graphe.afficher()` qui affiche, pour chaque sommet du graphe, ses voisins sous la forme suivante :\n",
        "\n",
        "\n",
        "    A -> B F\n",
        "    B -> A C D G\n",
        "\n",
        "c'est à dire : une ligne par sommet, une flèche, et la liste des sommets voisins. \n",
        "2. Tester cette méthode sur le graphe `graphex3`"
      ]
    },
    {
      "cell_type": "code",
      "source": [
        "class Graphe:\n",
        "    ''' graphe représenté par un dictionnaire d'adjacence'''\n",
        "    def __init__(self):\n",
        "        self.dico = {}\n",
        "    \n",
        "    def ajouter_sommet(self,s):\n",
        "        if s not in self.dico:\n",
        "            self.dico[s] = []\n",
        "    \n",
        "    def ajouter_arc(self,s1,s2):\n",
        "        self.ajouter_sommet(s1)\n",
        "        self.ajouter_sommet(s2)\n",
        "        self.dico[s1].append(s2)\n",
        "    \n",
        "    def arc(self,s1,s2):\n",
        "        return s2 in self.dico[s1]\n",
        "    \n",
        "    def sommets(self):\n",
        "        return list(self.dico)\n",
        "\n",
        "    def voisins(self,s):\n",
        "        return self.dico[s]\n",
        "    \n",
        "    def ajouter_arete(self,s1,s2):\n",
        "        self.ajouter_arc(s1,s2)\n",
        "        self.ajouter_arc(s2,s1)\n",
        "    \n",
        "    def afficher(self): # CODE à MODIFIER... \n",
        "        for s in self.dico: # pour chaque sommet présent dans le dictionnaire d'adjacence du graphe\n",
        "            print(s, ' -> ', end = ' ') # on affiche d'abord le sommet\n",
        "            for x in self.voisins(s):\n",
        "                print(x, end=' ')\n",
        "            print()\n",
        "\n",
        "graphex3 = Graphe()\n",
        "graphex3.ajouter_arete('A', 'B')\n",
        "graphex3.ajouter_arete('A', 'F')\n",
        "graphex3.ajouter_arete('B', 'C')\n",
        "graphex3.ajouter_arete('B', 'D')\n",
        "graphex3.ajouter_arete('B', 'G')\n",
        "graphex3.ajouter_arete('F', 'G')\n",
        "graphex3.ajouter_arete('F', 'H')\n",
        "graphex3.ajouter_arete('C', 'E')\n",
        "graphex3.ajouter_arete('D', 'I')\n",
        "graphex3.ajouter_arete('G', 'I')\n",
        "graphex3.ajouter_arete('H', 'I')\n",
        "graphex3.ajouter_arete('E', 'I')\n",
        "\n",
        "graphex3.afficher()"
      ],
      "metadata": {
        "id": "jHcohxuxhNeA",
        "outputId": "89480132-060e-4d0d-cb29-dbebe97d4c2c",
        "colab": {
          "base_uri": "https://localhost:8080/"
        }
      },
      "execution_count": 19,
      "outputs": [
        {
          "output_type": "stream",
          "name": "stdout",
          "text": [
            "A  ->  B F \n",
            "B  ->  A C D G \n",
            "F  ->  A G H \n",
            "C  ->  B E \n",
            "D  ->  B I \n",
            "G  ->  B F I \n",
            "H  ->  F I \n",
            "E  ->  C I \n",
            "I  ->  D G H E \n"
          ]
        }
      ]
    },
    {
      "cell_type": "markdown",
      "source": [
        "![graphex](https://pixees.fr/informatiquelycee/n_site/img/nsi_term_algo_graph_1.png)"
      ],
      "metadata": {
        "id": "VeKObWpIiv2L"
      }
    }
  ]
}