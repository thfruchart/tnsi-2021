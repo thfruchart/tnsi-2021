{
  "nbformat": 4,
  "nbformat_minor": 0,
  "metadata": {
    "colab": {
      "name": "Chap10_EXERCICES_Graphes_Représentation.ipynb",
      "provenance": [],
      "collapsed_sections": [],
      "authorship_tag": "ABX9TyMSNYEu/y3GAJzxXostKPTL",
      "include_colab_link": true
    },
    "kernelspec": {
      "name": "python3",
      "display_name": "Python 3"
    }
  },
  "cells": [
    {
      "cell_type": "markdown",
      "metadata": {
        "id": "view-in-github",
        "colab_type": "text"
      },
      "source": [
        "<a href=\"https://colab.research.google.com/github/thfruchart/tnsi/blob/main/10/EXERCICES_Graphes_Repr%C3%A9sentation_CORR.1.2.ipynb\" target=\"_parent\"><img src=\"https://colab.research.google.com/assets/colab-badge.svg\" alt=\"Open In Colab\"/></a>"
      ]
    },
    {
      "cell_type": "markdown",
      "metadata": {
        "id": "HNE1yauCGZn2"
      },
      "source": [
        "## Exercice 1\n",
        "Utiliser la classe Graphe ci-dessous pour représenter le graphe orienté suivant, qu'on nommera \"`graphex1`\"\n",
        "\n",
        "![graphex](http://pauillac.inria.fr/~levy/courses/X/IF/poly/main003.gif)"
      ]
    },
    {
      "cell_type": "code",
      "metadata": {
        "id": "V8rWsLL53tSw"
      },
      "source": [
        "class Graphe:\n",
        "    ''' graphe représenté par une matrice d'adjacence\n",
        "    les sommets sont les entiers de 0 à n-1, avec n = ordre du graphe'''\n",
        "    def __init__(self, n):\n",
        "        self.n = n \n",
        "        self.tab = [ [0 for j in range(n)] for i in range(n)]\n",
        "\n",
        "    def ajouter_arc(self,s1,s2):\n",
        "        self.tab[s1][s2] = 1\n",
        "\n",
        "    def arc(self,s1,s2):\n",
        "        return self.tab[s1][s2] == 1\n",
        "    \n",
        "    def voisins(self,s):\n",
        "        return [j for j in range(self.n) if self.arc(s,j)] "
      ],
      "execution_count": 1,
      "outputs": []
    },
    {
      "cell_type": "code",
      "source": [
        "graphex1 = Graphe(6)\n",
        "graphex1.ajouter_arc(0,1)\n",
        "graphex1.ajouter_arc(0,2)\n",
        "graphex1.ajouter_arc(1,2)\n",
        "graphex1.ajouter_arc(1,3)\n",
        "graphex1.ajouter_arc(1,5)\n",
        "graphex1.ajouter_arc(2,5)\n",
        "graphex1.ajouter_arc(3,4)\n",
        "graphex1.ajouter_arc(4,1)\n",
        "graphex1.ajouter_arc(5,3)\n",
        "print(graphex1.tab)"
      ],
      "metadata": {
        "id": "VvwXHNRqmRUK",
        "outputId": "cfb72edd-c38b-4bc9-f341-d7d248d1f5bf",
        "colab": {
          "base_uri": "https://localhost:8080/"
        }
      },
      "execution_count": 3,
      "outputs": [
        {
          "output_type": "stream",
          "name": "stdout",
          "text": [
            "[[0, 1, 1, 0, 0, 0], [0, 0, 1, 1, 0, 1], [0, 0, 0, 0, 0, 1], [0, 0, 0, 0, 1, 0], [0, 1, 0, 0, 0, 0], [0, 0, 0, 1, 0, 0]]\n"
          ]
        }
      ]
    },
    {
      "cell_type": "markdown",
      "metadata": {
        "id": "Fxkw96jTG_Ri"
      },
      "source": [
        "## Exercice 2\n",
        "\n",
        "1. Ajouter à la classe Graphe de l'exercice 1 une méthode `Graphe.afficher()` qui affiche, pour chaque sommet du graphe, ses voisins sous la forme suivante :\n",
        "\n",
        "\n",
        "    0 -> 1 2  \n",
        "    1 -> 2 3 5\n",
        "\n",
        "c'est à dire : une ligne par sommet, une flèche, et la liste des sommets voisins. \n",
        "2. Tester cette méthode sur le graphe `graphex1`"
      ]
    },
    {
      "cell_type": "code",
      "source": [
        "class Graphe:\n",
        "    ''' graphe représenté par une matrice d'adjacence\n",
        "    les sommets sont les entiers de 0 à n-1, avec n = ordre du graphe'''\n",
        "    def __init__(self, n):\n",
        "        self.n = n \n",
        "        self.tab = [ [0 for j in range(n)] for i in range(n)]\n",
        "\n",
        "    def ajouter_arc(self,s1,s2):\n",
        "        self.tab[s1][s2] = 1\n",
        "\n",
        "    def arc(self,s1,s2):\n",
        "        return self.tab[s1][s2] == 1\n",
        "    \n",
        "    def voisins(self,s):\n",
        "        return [j for j in range(self.n) if self.arc(s,j)] \n",
        "    \n",
        "    def afficher(self):\n",
        "        for i in range(self.n):\n",
        "            print(i, ' -> ')\n",
        "\n",
        "graphex1 = Graphe(6)\n",
        "graphex1.ajouter_arc(0,1)\n",
        "graphex1.ajouter_arc(0,2)\n",
        "graphex1.ajouter_arc(1,2)\n",
        "graphex1.ajouter_arc(1,3)\n",
        "graphex1.ajouter_arc(1,5)\n",
        "graphex1.ajouter_arc(2,5)\n",
        "graphex1.ajouter_arc(3,4)\n",
        "graphex1.ajouter_arc(4,1)\n",
        "graphex1.ajouter_arc(5,3)\n",
        "graphex1.afficher()"
      ],
      "metadata": {
        "id": "ef-WVXoxoS8a",
        "outputId": "2138a84a-736a-4ae8-e5e6-38b158132dcb",
        "colab": {
          "base_uri": "https://localhost:8080/"
        }
      },
      "execution_count": 4,
      "outputs": [
        {
          "output_type": "stream",
          "name": "stdout",
          "text": [
            "0  -> \n",
            "1  -> \n",
            "2  -> \n",
            "3  -> \n",
            "4  -> \n",
            "5  -> \n"
          ]
        }
      ]
    },
    {
      "cell_type": "markdown",
      "metadata": {
        "id": "pDM2lL0MFDOi"
      },
      "source": [
        "## Exercice 3\n",
        "\n",
        "1. Ecrire dans la classe ci-dessous, une méthode `Graphe.ajouter_arete(s1,s2)`  qui ajoute au graphe l'arête s1-s2 (c'est à dire les deux arc orientés s1-s2  et s2-s1)\n",
        "2. Utiliser cette méthode pour représenter le graphe non orienté suivant, qu'on nommera \"`graphex3`\"\n",
        "\n",
        "![graphex](https://pixees.fr/informatiquelycee/n_site/img/nsi_term_algo_graph_1.png)"
      ]
    },
    {
      "cell_type": "code",
      "metadata": {
        "id": "ZvNAmutJCmI0"
      },
      "source": [
        "class Graphe:\n",
        "    ''' graphe représenté par un dictionnaire d'adjacence'''\n",
        "    def __init__(self):\n",
        "        self.dico = {}\n",
        "    \n",
        "    def ajouter_sommet(self,s):\n",
        "        if s not in self.dico:\n",
        "            self.dico[s] = []\n",
        "    \n",
        "    def ajouter_arc(self,s1,s2):\n",
        "        self.ajouter_sommet(s1)\n",
        "        self.ajouter_sommet(s2)\n",
        "        self.dico[s1].append(s2)\n",
        "    \n",
        "    def arc(self,s1,s2):\n",
        "        return s2 in self.dico[s1]\n",
        "    \n",
        "    def sommets(self):\n",
        "        return list(self.dico)\n",
        "\n",
        "    def voisins(self,s):\n",
        "        return self.dico[s]"
      ],
      "execution_count": null,
      "outputs": []
    },
    {
      "cell_type": "markdown",
      "metadata": {
        "id": "Xy1ewPTQHyuz"
      },
      "source": [
        "## Exercice 4\n",
        "\n",
        "1. Ajouter à la classe Graphe de l'exercice 3 une méthode `Graphe.afficher()` qui affiche, pour chaque sommet du graphe, ses voisins sous la forme suivante :\n",
        "\n",
        "\n",
        "    0 -> 1 2\n",
        "    1 -> 2 3 5\n",
        "\n",
        "c'est à dire : une ligne par sommet, une flèche, et la liste des sommets voisins. \n",
        "2. Tester cette méthode sur le graphe `graphex3`"
      ]
    }
  ]
}