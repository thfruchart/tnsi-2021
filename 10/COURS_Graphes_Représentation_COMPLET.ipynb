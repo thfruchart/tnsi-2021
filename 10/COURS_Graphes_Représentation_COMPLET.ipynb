{
  "nbformat": 4,
  "nbformat_minor": 0,
  "metadata": {
    "colab": {
      "name": "Chap10_COURS_Graphes_Représentation.ipynb",
      "provenance": [],
      "collapsed_sections": [
        "Eo0T1DL9dzf1"
      ],
      "authorship_tag": "ABX9TyMkCWWySQ6/psm283jY9+sw",
      "include_colab_link": true
    },
    "kernelspec": {
      "name": "python3",
      "display_name": "Python 3"
    }
  },
  "cells": [
    {
      "cell_type": "markdown",
      "metadata": {
        "id": "view-in-github",
        "colab_type": "text"
      },
      "source": [
        "<a href=\"https://colab.research.google.com/github/thfruchart/tnsi/blob/main/10/COURS_Graphes_Repr%C3%A9sentation_COMPLET.ipynb\" target=\"_parent\"><img src=\"https://colab.research.google.com/assets/colab-badge.svg\" alt=\"Open In Colab\"/></a>"
      ]
    },
    {
      "cell_type": "markdown",
      "metadata": {
        "id": "VkX2JhMCYIaJ"
      },
      "source": [
        "# Structure de données : GRAPHE"
      ]
    },
    {
      "cell_type": "markdown",
      "metadata": {
        "id": "U6JKXuMdYQZW"
      },
      "source": [
        "### Une situation pour démarrer"
      ]
    },
    {
      "cell_type": "markdown",
      "metadata": {
        "id": "1fGB6EaJYVBe"
      },
      "source": [
        "Alban, Béatrice, Charles, Déborah, Eric, Fatima, Gérald, Hélène et Ivan sont inscrits sur un réseau social. \n",
        "\n",
        "Le principe de ce réseau, est que si « X est ami avec Y » alors « Y est ami avec X ».\n",
        "\n",
        "* Déborah est amie avec Alban, Béatrice, Charles et Gérald.\n",
        "* Eric est ami avec Alban et Béatrice\n",
        "* Alban est ami avec Béatrice, Déborah, Eric et Fatima.\n",
        "* Charles, lui, est ami avec Béatrice, Déborah et Hélène.\n",
        "* Fatima est amie avec Ivan\n",
        "* Gérald est, lui, ami avec Béatrice et Déborah"
      ]
    },
    {
      "cell_type": "markdown",
      "metadata": {
        "id": "tSZUHMVKYiGI"
      },
      "source": [
        "#### 1) qui a le plus de relations? le moins? "
      ]
    },
    {
      "cell_type": "markdown",
      "metadata": {
        "id": "kAWENusqYtcw"
      },
      "source": [
        "#### 2) Donner une représentation graphique des relations sur ce réseau (sur papier)!"
      ]
    },
    {
      "cell_type": "markdown",
      "metadata": {
        "id": "3EtpuTRxY8io"
      },
      "source": [
        "#### Représentation possible en python : **matrice d'adjacence**"
      ]
    },
    {
      "cell_type": "code",
      "metadata": {
        "id": "Qo6lr2koZnfx"
      },
      "source": [
        "membres = ['Alban', 'Béatrice', 'Charles', 'Déborah', 'Eric', 'Fatima', 'Gérald', 'Hélène', 'Ivan']\n",
        "tab = [[0,1,0,1,1,1,0,0,0],\n",
        "       [1,0,1,1,1,0,1,0,0],\n",
        "       [0,1,0,1,0,0,0,1,0],\n",
        "       [1,1,1,0,0,0,1,0,0],\n",
        "       [1,1,0,0,0,0,0,0,0],\n",
        "       [1,0,0,0,0,0,0,0,1],\n",
        "       [0,1,0,1,0,0,0,0,0],\n",
        "       [0,0,1,0,0,0,0,0,0],\n",
        "       [0,0,0,0,0,1,0,0,0]]"
      ],
      "execution_count": 1,
      "outputs": []
    },
    {
      "cell_type": "markdown",
      "metadata": {
        "id": "1on34HuQbj3M"
      },
      "source": [
        "1. Expliquer comment ce tableau permet d'obtenir la liste des relations d'un des membres\n",
        "2. Compléter le programme ci-dessous pour qu'il affiche, pour chaque membre du réseau, le nom de ses relations"
      ]
    },
    {
      "cell_type": "code",
      "metadata": {
        "id": "AoSpSGZYbtBB",
        "outputId": "1a0326b3-a6e2-467e-bb57-9b4d72322d88",
        "colab": {
          "base_uri": "https://localhost:8080/"
        }
      },
      "source": [
        "for i in range(len(membres)):\n",
        "    print(membres[i],'est en relation avec : ')\n",
        "    for j in range(len(membres)):\n",
        "        if tab[i][j]==1:\n",
        "            print('   +', membres[j])\n"
      ],
      "execution_count": 3,
      "outputs": [
        {
          "output_type": "stream",
          "name": "stdout",
          "text": [
            "Alban est en relation avec : \n",
            "   + Béatrice\n",
            "   + Déborah\n",
            "   + Eric\n",
            "   + Fatima\n",
            "Béatrice est en relation avec : \n",
            "   + Alban\n",
            "   + Charles\n",
            "   + Déborah\n",
            "   + Eric\n",
            "   + Gérald\n",
            "Charles est en relation avec : \n",
            "   + Béatrice\n",
            "   + Déborah\n",
            "   + Hélène\n",
            "Déborah est en relation avec : \n",
            "   + Alban\n",
            "   + Béatrice\n",
            "   + Charles\n",
            "   + Gérald\n",
            "Eric est en relation avec : \n",
            "   + Alban\n",
            "   + Béatrice\n",
            "Fatima est en relation avec : \n",
            "   + Alban\n",
            "   + Ivan\n",
            "Gérald est en relation avec : \n",
            "   + Béatrice\n",
            "   + Déborah\n",
            "Hélène est en relation avec : \n",
            "   + Charles\n",
            "Ivan est en relation avec : \n",
            "   + Fatima\n"
          ]
        }
      ]
    },
    {
      "cell_type": "markdown",
      "metadata": {
        "id": "Eo0T1DL9dzf1"
      },
      "source": [
        "#### réponse souhaitée : "
      ]
    },
    {
      "cell_type": "markdown",
      "metadata": {
        "id": "FDHXa3Bod100"
      },
      "source": [
        "\n",
        "\n",
        "```\n",
        "Alban est en relation avec : \n",
        "   + Béatrice\n",
        "   + Déborah\n",
        "   + Eric\n",
        "   + Fatima\n",
        "Béatrice est en relation avec : \n",
        "   + Alban\n",
        "   + Charles\n",
        "   + Déborah\n",
        "   + Eric\n",
        "   + Gérald\n",
        "Charles est en relation avec : \n",
        "   + Béatrice\n",
        "   + Déborah\n",
        "   + Hélène\n",
        "Déborah est en relation avec : \n",
        "   + Alban\n",
        "   + Béatrice\n",
        "   + Charles\n",
        "   + Gérald\n",
        "Eric est en relation avec : \n",
        "   + Alban\n",
        "   + Béatrice\n",
        "Fatima est en relation avec : \n",
        "   + Alban\n",
        "   + Ivan\n",
        "Gérald est en relation avec : \n",
        "   + Béatrice\n",
        "   + Déborah\n",
        "Hélène est en relation avec : \n",
        "   + Charles\n",
        "Ivan est en relation avec : \n",
        "   + Fatima\n",
        "```\n",
        "\n"
      ]
    },
    {
      "cell_type": "markdown",
      "metadata": {
        "id": "P1tCLFZNwlEn"
      },
      "source": [
        "**3)** Compléter le programme suivant qui stocke dans un dictionnaire les données du réseau : \n",
        "* chaque membre du réseau correspond à une clé du dictionnaire\n",
        "* la liste des relations d'un membre doit correspondre à la valeur du dictionnaire"
      ]
    },
    {
      "cell_type": "code",
      "metadata": {
        "colab": {
          "base_uri": "https://localhost:8080/"
        },
        "id": "DvqD5_ncw9y5",
        "outputId": "3f40cbe2-a776-4bd3-94e0-aa7ebbb5ad5d"
      },
      "source": [
        "dico = {}\n",
        "for i in range(len(membres)):\n",
        "    nom = membres[i]\n",
        "    dico[nom]=[]\n",
        "    for j in range(len(membres)):\n",
        "        if tab[i][j]==1:\n",
        "            dico[nom].append(membres[j])\n",
        "\n",
        "print(dico)"
      ],
      "execution_count": 5,
      "outputs": [
        {
          "output_type": "stream",
          "name": "stdout",
          "text": [
            "{'Alban': ['Béatrice', 'Déborah', 'Eric', 'Fatima'], 'Béatrice': ['Alban', 'Charles', 'Déborah', 'Eric', 'Gérald'], 'Charles': ['Béatrice', 'Déborah', 'Hélène'], 'Déborah': ['Alban', 'Béatrice', 'Charles', 'Gérald'], 'Eric': ['Alban', 'Béatrice'], 'Fatima': ['Alban', 'Ivan'], 'Gérald': ['Béatrice', 'Déborah'], 'Hélène': ['Charles'], 'Ivan': ['Fatima']}\n"
          ]
        }
      ]
    },
    {
      "cell_type": "markdown",
      "metadata": {
        "id": "_reciIW7ekbd"
      },
      "source": [
        "# Vocabulaire des GRAPHES"
      ]
    },
    {
      "cell_type": "markdown",
      "metadata": {
        "id": "aXSzaPQIqB8d"
      },
      "source": [
        "## Définition"
      ]
    },
    {
      "cell_type": "markdown",
      "metadata": {
        "id": "btBb--H-euEV"
      },
      "source": [
        "Un **graphe** est une structure de données constituée d’objets, appelés **sommets**, et de **relations** entre ces sommets appelées **arcs**. \n",
        "\n",
        "Pour définir un graphe, il suffit de décrire : \n",
        "* l'ensemble des **sommets**\n",
        "* l'ensembles des **arcs**\n",
        "\n",
        "Le nombre de sommets d'un graphe est appelé : **ordre** du graphe. \n",
        "\n",
        "La somme du nombre de sommets et du nombre d'arcs est appelée : **taille** du graphe.\n",
        "\n",
        "\n",
        "On distingue deux types de graphes\n",
        "* Les graphes **orientés** (définis ci-dessus)\n",
        "* Les graphes **non-orientés** où les relations sont appelées **arêtes** : chaque arête peut être parcourue dans les deux sens\n",
        "   * une arête entre un sommet A et un sommet B correspond donc à deux arcs orientés\n",
        "      * l'un de A vers B\n",
        "      * l'autre de B vers A\n",
        "* Un graphe non orienté peut être vu comme un cas particulier de graphe orienté, dans lequel chaque arc possède un arc réciproque. "
      ]
    },
    {
      "cell_type": "markdown",
      "metadata": {
        "id": "-zq8OI6yqLhi"
      },
      "source": [
        "## Successeur, prédécesseur"
      ]
    },
    {
      "cell_type": "markdown",
      "metadata": {
        "id": "BlskZTLpqPa7"
      },
      "source": [
        "* si un arc relie un sommet `A` à un sommet `B` on dit que : \n",
        "   * `B` est **adjacent** `A`\n",
        "   * `B` est un **successeur** de `A`\n",
        "   * `A` un est **prédécesseur** de `B`\n",
        "   * ou encore `B` est un **voisin** de `A`.\n",
        "* pour **définir** un graphe, on peut donner:\n",
        "   * l'ensemble de ses **sommets**, \n",
        "   * et pour chaque sommet, l'ensemble de ses **voisins**. \n",
        "\n",
        "En Python, on peut utiliser un **dictionnaire** pour représenter un graphe : \n",
        "* chaque **clé** du dictionnaire est un sommet\n",
        "* pour chaque sommet, la **valeur** est la liste de ses voisins."
      ]
    },
    {
      "cell_type": "markdown",
      "metadata": {
        "id": "9GuhTaLCqDtR"
      },
      "source": [
        "## Chemin, Cycle"
      ]
    },
    {
      "cell_type": "markdown",
      "metadata": {
        "id": "3cta-0qnq3Xw"
      },
      "source": [
        "* Un **chemin** (on dit aussi: *chaîne*) est une suite finie de sommets adjacents. On peut décrire un chemin avec : \n",
        "   * la liste des **sommets** qui le composent, ou\n",
        "   * la liste des **arcs** qui le composent\n",
        "* Un **cycle** est un cas particulier de chemin, qui est : \n",
        "   * **fermé** : c'est à dire que le sommet de départ est identique au sommet d'arrivée.\n",
        "   * **simple** : tous les arcs qui le composent  sont distincts. "
      ]
    },
    {
      "cell_type": "markdown",
      "metadata": {
        "id": "qiJ017c4s0g3"
      },
      "source": [
        "## Longueur, distance"
      ]
    },
    {
      "cell_type": "markdown",
      "metadata": {
        "id": "C9wQVqN5s3S_"
      },
      "source": [
        "* la **longueur** d'un chemin est le **nombre d'arcs** qui le composent.\n",
        "* la **distance** entre deux sommets est la longueur du plus petit chemin qui les relie. "
      ]
    },
    {
      "cell_type": "markdown",
      "metadata": {
        "id": "L3x2RJkOtyXv"
      },
      "source": [
        "# Exemples"
      ]
    },
    {
      "cell_type": "markdown",
      "metadata": {
        "id": "lw5RBOHmupt-"
      },
      "source": [
        "#### graphe 1 :  non orienté"
      ]
    },
    {
      "cell_type": "markdown",
      "metadata": {
        "id": "6MFPbkiDuriq"
      },
      "source": [
        "![graphe1](https://pixees.fr/informatiquelycee/n_site/img/nsi_term_structDo_graphe_1.png)"
      ]
    },
    {
      "cell_type": "markdown",
      "metadata": {
        "id": "NuETnKHEuB-_"
      },
      "source": [
        "#### graphe 2 : orienté"
      ]
    },
    {
      "cell_type": "markdown",
      "metadata": {
        "id": "7asNwC4At0K9"
      },
      "source": [
        "![graphe2](https://pixees.fr/informatiquelycee/n_site/img/nsi_term_structDo_graphe_2.png)"
      ]
    },
    {
      "cell_type": "markdown",
      "metadata": {
        "id": "h6Y6CtRUuB5m"
      },
      "source": [
        "#### graphe 3 : pondéré"
      ]
    },
    {
      "cell_type": "markdown",
      "metadata": {
        "id": "37Q3U09_uGyi"
      },
      "source": [
        "![graphe3](https://pixees.fr/informatiquelycee/n_site/img/nsi_term_structDo_graphe_4.png)"
      ]
    },
    {
      "cell_type": "markdown",
      "metadata": {
        "id": "0AIsxpbhveVj"
      },
      "source": [
        "## Exercice \n",
        "pour chacun des graphes ci-dessus, proposer une représentation en python : \n",
        "1. sous forme de **tableau** : matrice d'adjacence\n",
        "2. sous forme de **dictionnaire** : dictionnaire d'adjacence (ou dictionnaire des successeurs)"
      ]
    },
    {
      "cell_type": "markdown",
      "metadata": {
        "id": "ZQIH0Ywtyudy"
      },
      "source": [
        "# Encapsulation dans un objet"
      ]
    },
    {
      "cell_type": "markdown",
      "metadata": {
        "id": "Rvs8FMHnyxcS"
      },
      "source": [
        "Pour programmer des algorithmes sur les graphes, on aura besoin de définir:\n",
        "* des opération pour **construire** un graphe :\n",
        "   * graphe vide\n",
        "   * ajouter des sommets\n",
        "   * ajouter des arcs\n",
        "* des opérations pour \"parcourir\" un graphe : \n",
        "   * tester si deux sommets sont adjacents\n",
        "   * parcourir tous les sommets du graphe\n",
        "   * parcourir tous les voisins d'un sommet..."
      ]
    },
    {
      "cell_type": "markdown",
      "metadata": {
        "id": "WH6lzJK00h3A"
      },
      "source": [
        "## Exemple 1 : graphe représenté par une matrice d'adjacence"
      ]
    },
    {
      "cell_type": "markdown",
      "metadata": {
        "id": "qLjgBc4S0njS"
      },
      "source": [
        "* Les sommets sont des entiers de 0 à (n-1)\n",
        "   * le constructeur de classe prend en paramètre un entier `n` : le nombre de sommets du graphe.\n",
        "   * un tableau `tab` permet de stocker la matrice d'adjacence du graphe\n",
        "   * une méthode `Graphe.ajouter_arc(s1,s2)` permet d'ajouter un arc de s1 vers s2\n",
        "\n",
        "\n",
        "* on définit les méthodes suivantes : \n",
        "   * `Graphe.arc(s1,s2)` qui renvoie `True` si s2 est voisin de s1, et `False` sinon\n",
        "   * `Graphe.voisins(s)` qui renvoie la liste des sommets voisins d'un sommet s. "
      ]
    },
    {
      "cell_type": "code",
      "metadata": {
        "id": "V8rWsLL53tSw"
      },
      "source": [
        "class Graphe:\n",
        "    ''' graphe représenté par une matrice d'adjacence\n",
        "    les sommets sont les entiers de 0 à n-1, avec n = ordre du graphe'''\n",
        "    def __init__(self, n):\n",
        "        self.n = n \n",
        "        self.tab = [ [0 for j in range(n)] for i in range(n)]\n",
        "\n",
        "    def ajouter_arc(self,s1,s2):\n",
        "        self.tab[s1][s2] = 1\n",
        "\n",
        "    def arc(self,s1,s2):\n",
        "        return self.tab[s1][s2] == 1\n",
        "    \n",
        "    def voisins(self,s):\n",
        "        return [j for j in range(self.n) if self.arc(s,j)] "
      ],
      "execution_count": 7,
      "outputs": []
    },
    {
      "cell_type": "code",
      "metadata": {
        "id": "HHoweQ5a5FWf",
        "outputId": "88714eab-0ddb-49a8-ae93-b632f956305b",
        "colab": {
          "base_uri": "https://localhost:8080/"
        }
      },
      "source": [
        "g = Graphe(3)\n",
        "g.ajouter_arc(0,1)\n",
        "g.ajouter_arc(0,2)\n",
        "g.ajouter_arc(2,1)\n",
        "assert g.arc(2,1)\n",
        "assert not g.arc(1,2)\n",
        "print('liste des voisins du sommet 2')\n",
        "print(g.voisins(2))\n",
        "print('voisins du sommet 0 :')\n",
        "for s in g.voisins(0):\n",
        "    print(s)"
      ],
      "execution_count": 8,
      "outputs": [
        {
          "output_type": "stream",
          "name": "stdout",
          "text": [
            "liste des voisins du sommet 2\n",
            "[1]\n",
            "voisins du sommet 0 :\n",
            "1\n",
            "2\n"
          ]
        }
      ]
    },
    {
      "cell_type": "markdown",
      "metadata": {
        "id": "ZWcsxpFF6yu-"
      },
      "source": [
        "observer sur [PythonTutor](http://www.pythontutor.com/visualize.html#code=class%20Graphe%3A%0A%20%20%20%20def%20__init__%28self,%20n%29%3A%0A%20%20%20%20%20%20%20%20self.n%20%3D%20n%20%0A%20%20%20%20%20%20%20%20self.tab%20%3D%20%5B%20%5B0%20for%20j%20in%20range%28n%29%5D%20for%20i%20in%20range%28n%29%5D%0A%0A%20%20%20%20def%20ajouter_arc%28self,s1,s2%29%3A%0A%20%20%20%20%20%20%20%20self.tab%5Bs1%5D%5Bs2%5D%20%3D%201%0A%0A%20%20%20%20def%20arc%28self,s1,s2%29%3A%0A%20%20%20%20%20%20%20%20return%20self.tab%5Bs1%5D%5Bs2%5D%20%3D%3D%201%0A%20%20%20%20%0A%20%20%20%20def%20voisins%28self,s%29%3A%0A%20%20%20%20%20%20%20%20return%20%5Bj%20for%20j%20in%20range%28self.n%29%20if%20self.arc%28s,j%29%5D%20%0A%0Ag%20%3D%20Graphe%283%29%0Ag.ajouter_arc%280,1%29%0Ag.ajouter_arc%280,2%29%0Ag.ajouter_arc%282,1%29%0Aassert%20g.arc%282,1%29%0Aassert%20not%20g.arc%281,2%29%0Aprint%28g.voisins%280%29%29&cumulative=false&curInstr=42&heapPrimitives=nevernest&mode=display&origin=opt-frontend.js&py=3&rawInputLstJSON=%5B%5D&textReferences=false)"
      ]
    },
    {
      "cell_type": "markdown",
      "metadata": {
        "id": "YN4T4yawAv3V"
      },
      "source": [
        "### Exercice 1\n",
        "Utiliser la classe Graphe pour représenter le graphe orienté suivant, qu'on nommera \"`graphex1`\"\n",
        "\n",
        "![graphex](http://pauillac.inria.fr/~levy/courses/X/IF/poly/main003.gif)"
      ]
    },
    {
      "cell_type": "markdown",
      "metadata": {
        "id": "AxA16QsFBhEC"
      },
      "source": [
        "## Exemple 2 : dictionnaire d'adjacence"
      ]
    },
    {
      "cell_type": "markdown",
      "metadata": {
        "id": "b-6o8lg-B_6y"
      },
      "source": [
        "* Les sommets sont définis par l'utilisateur\n",
        "   * le constructeur de classe ne prend aucun argument : initialement un graphe est créé vide, et représenté par un dictionnaire vide.\n",
        "   * une méthode `Graphe.ajouter_sommet(s)` permet d'ajouter un sommet `s`.\n",
        "   * une méthode `Graphe.ajouter_arc(s1,s2)` permet d'ajouter un arc de s1 vers s2\n",
        "\n",
        "\n",
        "* on définit les méthodes suivantes : \n",
        "   * `Graphe.sommets()` qui renvoie la liste des sommets du graphe\n",
        "   * `Graphe.arc(s1,s2)` qui renvoie `True` si s2 est voisin de s1, et `False` sinon\n",
        "   * `Graphe.voisins(s)` qui renvoie la liste des sommets voisins d'un sommet s. "
      ]
    },
    {
      "cell_type": "code",
      "metadata": {
        "id": "ZvNAmutJCmI0"
      },
      "source": [
        "class Graphe:\n",
        "    ''' graphe représenté par un dictionnaire d'adjacence'''\n",
        "    def __init__(self):\n",
        "        self.dico = {}\n",
        "    \n",
        "    def ajouter_sommet(self,s):\n",
        "        if s not in self.dico:\n",
        "            self.dico[s] = []\n",
        "    \n",
        "    def ajouter_arc(self,s1,s2):\n",
        "        self.ajouter_sommet(s1)\n",
        "        self.ajouter_sommet(s2)\n",
        "        self.dico[s1].append(s2)\n",
        "    \n",
        "    def arc(self,s1,s2):\n",
        "        return s2 in self.dico[s1]\n",
        "    \n",
        "    def sommets(self):\n",
        "        return list(self.dico)\n",
        "\n",
        "    def voisins(self,s):\n",
        "        return self.dico[s]"
      ],
      "execution_count": null,
      "outputs": []
    },
    {
      "cell_type": "code",
      "metadata": {
        "id": "tYbJ6RXcDxcQ"
      },
      "source": [
        "g = Graphe()\n",
        "g.ajouter_arc(0,1)\n",
        "g.ajouter_arc(0,2)\n",
        "g.ajouter_arc(2,1)\n",
        "assert g.arc(2,1)\n",
        "assert not g.arc(1,2)\n",
        "print('liste des voisins du sommet 2')\n",
        "print(g.voisins(2))\n",
        "print('voisins du sommet 0 :')\n",
        "for s in g.voisins(0):\n",
        "    print(s)"
      ],
      "execution_count": null,
      "outputs": []
    },
    {
      "cell_type": "markdown",
      "metadata": {
        "id": "pDM2lL0MFDOi"
      },
      "source": [
        "### Exercice 3\n",
        "\n",
        "1. Ecrire dans la classe ci-dessus, une méthode `Graphe.ajouter_arete(s1,s2)`  qui ajoute au graphe l'arête s1-s2 (c'est à dire les deux arc orientés s1-s2  et s2-s1)\n",
        "2. Utiliser cette méthode pour représenter le graphe non orienté suivant, qu'on nommera \"`graphex3`\"\n",
        "\n",
        "![graphex](https://pixees.fr/informatiquelycee/n_site/img/nsi_term_algo_graph_1.png)"
      ]
    }
  ]
}