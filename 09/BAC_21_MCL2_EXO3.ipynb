{
  "nbformat": 4,
  "nbformat_minor": 0,
  "metadata": {
    "colab": {
      "name": "BAC-21-MCL2-EXO3.ipynb",
      "provenance": [],
      "authorship_tag": "ABX9TyM3rgiYzcDbmCnjCGGS6FT6",
      "include_colab_link": true
    },
    "kernelspec": {
      "name": "python3",
      "display_name": "Python 3"
    },
    "language_info": {
      "name": "python"
    }
  },
  "cells": [
    {
      "cell_type": "markdown",
      "metadata": {
        "id": "view-in-github",
        "colab_type": "text"
      },
      "source": [
        "<a href=\"https://colab.research.google.com/github/thfruchart/tnsi/blob/main/09/BAC_21_MCL2_EXO3.ipynb\" target=\"_parent\"><img src=\"https://colab.research.google.com/assets/colab-badge.svg\" alt=\"Open In Colab\"/></a>"
      ]
    },
    {
      "cell_type": "markdown",
      "source": [
        "# Les deux classes de l'exercice"
      ],
      "metadata": {
        "id": "8jdfB81vGN-i"
      }
    },
    {
      "cell_type": "code",
      "execution_count": null,
      "metadata": {
        "id": "i2_ix9UfEpLn"
      },
      "outputs": [],
      "source": [
        "class Noeud :\n",
        "    def __init__(self, cle):\n",
        "        self.cle = cle\n",
        "        self.gauche = None\n",
        "        self.droit = None\n",
        "        \n",
        "    def insere(self, cle):\n",
        "        if cle < self.cle :\n",
        "            if self.gauche == None :\n",
        "                self.gauche = Noeud(cle)\n",
        "            else :\n",
        "                self.gauche.insere(cle)\n",
        "        elif cle > self.cle :\n",
        "            if self.droit == None :\n",
        "                self.droit = Noeud(cle)\n",
        "            else :\n",
        "                self.droit.insere(cle)\n",
        "\n",
        "class Arbre :\n",
        "    def __init__(self, cle):\n",
        "        self.racine = Noeud(cle)\n",
        "    \n",
        "    def insere(self, cle):\n",
        "        self.racine.insere(cle)\n",
        "\n",
        "a = Arbre(10)\n",
        "a.insere(20)\n",
        "a.insere(15)\n",
        "a.insere(12)\n",
        "a.insere(8)\n",
        "a.insere(4)\n",
        "a.insere(5)"
      ]
    },
    {
      "cell_type": "markdown",
      "source": [
        "Visualiser le résultat sur [PythonTutor](https://pythontutor.com/visualize.html#code=class%20Noeud%20%3A%0A%20%20%20%20def%20__init__%28self,%20cle%29%3A%0A%20%20%20%20%20%20%20%20self.cle%20%3D%20cle%0A%20%20%20%20%20%20%20%20self.gauche%20%3D%20None%0A%20%20%20%20%20%20%20%20self.droit%20%3D%20None%0A%20%20%20%20%20%20%20%20%0A%20%20%20%20def%20insere%28self,%20cle%29%3A%0A%20%20%20%20%20%20%20%20if%20cle%20%3C%20self.cle%20%3A%0A%20%20%20%20%20%20%20%20%20%20%20%20if%20self.gauche%20%3D%3D%20None%20%3A%0A%20%20%20%20%20%20%20%20%20%20%20%20%20%20%20%20self.gauche%20%3D%20Noeud%28cle%29%0A%20%20%20%20%20%20%20%20%20%20%20%20else%20%3A%0A%20%20%20%20%20%20%20%20%20%20%20%20%20%20%20%20self.gauche.insere%28cle%29%0A%20%20%20%20%20%20%20%20elif%20cle%20%3E%20self.cle%20%3A%0A%20%20%20%20%20%20%20%20%20%20%20%20if%20self.droit%20%3D%3D%20None%20%3A%0A%20%20%20%20%20%20%20%20%20%20%20%20%20%20%20%20self.droit%20%3D%20Noeud%28cle%29%0A%20%20%20%20%20%20%20%20%20%20%20%20else%20%3A%0A%20%20%20%20%20%20%20%20%20%20%20%20%20%20%20%20self.droit.insere%28cle%29%0A%0Aclass%20Arbre%20%3A%0A%20%20%20%20def%20__init__%28self,%20cle%29%3A%0A%20%20%20%20%20%20%20%20self.racine%20%3D%20Noeud%28cle%29%0A%20%20%20%20%0A%20%20%20%20def%20insere%28self,%20cle%29%3A%0A%20%20%20%20%20%20%20%20self.racine.insere%28cle%29%0A%0Aa%20%3D%20Arbre%2810%29%0Aa.insere%2820%29%0Aa.insere%2815%29%0Aa.insere%2812%29%0Aa.insere%288%29%0Aa.insere%284%29%0Aa.insere%285%29&cumulative=false&curInstr=129&heapPrimitives=nevernest&mode=display&origin=opt-frontend.js&py=3&rawInputLstJSON=%5B%5D&textReferences=false)"
      ],
      "metadata": {
        "id": "i8_S1rVEGwZF"
      }
    },
    {
      "cell_type": "markdown",
      "source": [
        "# Ajout de la méthode `hauteur`"
      ],
      "metadata": {
        "id": "lhMjRPOvGAwi"
      }
    },
    {
      "cell_type": "code",
      "source": [
        "class Noeud :\n",
        "    def __init__(self, cle):\n",
        "        self.cle = cle\n",
        "        self.gauche = None\n",
        "        self.droit = None\n",
        "        \n",
        "    def insere(self, cle):\n",
        "        if cle < self.cle :\n",
        "            if self.gauche == None :\n",
        "                self.gauche = Noeud(cle)\n",
        "            else :\n",
        "                self.gauche.insere(cle)\n",
        "        elif cle > self.cle :\n",
        "            if self.droit == None :\n",
        "                self.droit = Noeud(cle)\n",
        "            else :\n",
        "                self.droit.insere(cle)\n",
        "\n",
        "    def hauteur(self):\n",
        "        if self.gauche == None and self.droit == None:\n",
        "            return 1\n",
        "        if self.gauche == None:\n",
        "            return 1+self.droit.hauteur()\n",
        "        elif self.droit == None:\n",
        "            return 1+self.gauche.hauteur()\n",
        "        else:\n",
        "            hg = self.gauche.hauteur()\n",
        "            hd = self.droit.hauteur()\n",
        "            if hg > hd:\n",
        "                return hg+1\n",
        "            else:\n",
        "                return hd+1"
      ],
      "metadata": {
        "id": "6tZqD9ETFVeb"
      },
      "execution_count": 1,
      "outputs": []
    },
    {
      "cell_type": "code",
      "source": [
        "class Arbre :\n",
        "    def __init__(self, cle):\n",
        "        self.racine = Noeud(cle)\n",
        "    \n",
        "    def insere(self, cle):\n",
        "        self.racine.insere(cle)\n",
        "\n",
        "    def hauteur(self):\n",
        "        return self.racine.hauteur()\n",
        "    "
      ],
      "metadata": {
        "id": "XSuteXnMHFP0"
      },
      "execution_count": 2,
      "outputs": []
    },
    {
      "cell_type": "markdown",
      "source": [
        "## Méthode ou fonction ?\n",
        "* Observer les ressemblances et différences entre les deux codes ci-dessous.\n",
        "* Expliquer l'erreur obtenue à l'exécution du Code 2."
      ],
      "metadata": {
        "id": "25_MSk5FK_Ck"
      }
    },
    {
      "cell_type": "code",
      "source": [
        "# code 1\n",
        "class Noeud :\n",
        "    def __init__(self, cle):\n",
        "        self.cle = cle\n",
        "        self.gauche = None\n",
        "        self.droit = None\n",
        "        \n",
        "    def insere(self, cle):\n",
        "        if cle < self.cle :\n",
        "            if self.gauche == None :\n",
        "                self.gauche = Noeud(cle)\n",
        "            else :\n",
        "                self.gauche.insere(cle)\n",
        "        elif cle > self.cle :\n",
        "            if self.droit == None :\n",
        "                self.droit = Noeud(cle)\n",
        "            else :\n",
        "                self.droit.insere(cle)\n",
        "\n",
        "# fonction hauteur\n",
        "def hauteur(n):\n",
        "    if n == None :\n",
        "        return 0\n",
        "    else : \n",
        "        return 1 + max(hauteur(n.gauche) , hauteur(n.droit))\n",
        "\n",
        "class Arbre :\n",
        "    def __init__(self, cle):\n",
        "        self.racine = Noeud(cle)\n",
        "    \n",
        "    def insere(self, cle):\n",
        "        self.racine.insere(cle)\n",
        "    \n",
        "    def hauteur(self):\n",
        "        return hauteur(self.racine)\n",
        "\n",
        "a = Arbre(10)\n",
        "a.insere(20)\n",
        "a.insere(15)\n",
        "a.insere(12)\n",
        "a.insere(8)\n",
        "a.insere(4)\n",
        "a.insere(5)\n",
        "\n",
        "print(a.hauteur())"
      ],
      "metadata": {
        "id": "BzBRmzUKLGHM",
        "colab": {
          "base_uri": "https://localhost:8080/"
        },
        "outputId": "24da1612-be05-49f7-a999-50353091d772"
      },
      "execution_count": 5,
      "outputs": [
        {
          "output_type": "stream",
          "name": "stdout",
          "text": [
            "4\n"
          ]
        }
      ]
    },
    {
      "cell_type": "code",
      "source": [
        "# Code 2\n",
        "class Noeud :\n",
        "    def __init__(self, cle):\n",
        "        self.cle = cle\n",
        "        self.gauche = None\n",
        "        self.droit = None\n",
        "        \n",
        "    def insere(self, cle):\n",
        "        if cle < self.cle :\n",
        "            if self.gauche == None :\n",
        "                self.gauche = Noeud(cle)\n",
        "            else :\n",
        "                self.gauche.insere(cle)\n",
        "        elif cle > self.cle :\n",
        "            if self.droit == None :\n",
        "                self.droit = Noeud(cle)\n",
        "            else :\n",
        "                self.droit.insere(cle)\n",
        "\n",
        "# méthode hauteur mal définie... \n",
        "    def hauteur(n):\n",
        "        if n == None :\n",
        "            return 0\n",
        "        else : \n",
        "            return 1 + max(n.gauche.hauteur() , n.droit.hauteur())\n",
        "\n",
        "class Arbre :\n",
        "    def __init__(self, cle):\n",
        "        self.racine = Noeud(cle)\n",
        "    \n",
        "    def insere(self, cle):\n",
        "        self.racine.insere(cle)\n",
        "    \n",
        "    def hauteur(self):\n",
        "        return self.racine.hauteur()\n",
        "\n",
        "a = Arbre(10)\n",
        "a.insere(20)\n",
        "a.insere(15)\n",
        "a.insere(12)\n",
        "a.insere(8)\n",
        "a.insere(4)\n",
        "a.insere(5)\n",
        "\n",
        "print(a.hauteur())"
      ],
      "metadata": {
        "id": "32saLn0_Lhsf",
        "colab": {
          "base_uri": "https://localhost:8080/",
          "height": 345
        },
        "outputId": "6c4c86e3-94f7-4988-bc2d-08f4d2ee4200"
      },
      "execution_count": 4,
      "outputs": [
        {
          "output_type": "error",
          "ename": "AttributeError",
          "evalue": "ignored",
          "traceback": [
            "\u001b[0;31m---------------------------------------------------------------------------\u001b[0m",
            "\u001b[0;31mAttributeError\u001b[0m                            Traceback (most recent call last)",
            "\u001b[0;32m<ipython-input-4-e7d8e4059da5>\u001b[0m in \u001b[0;36m<module>\u001b[0;34m()\u001b[0m\n\u001b[1;32m     43\u001b[0m \u001b[0ma\u001b[0m\u001b[0;34m.\u001b[0m\u001b[0minsere\u001b[0m\u001b[0;34m(\u001b[0m\u001b[0;36m5\u001b[0m\u001b[0;34m)\u001b[0m\u001b[0;34m\u001b[0m\u001b[0;34m\u001b[0m\u001b[0m\n\u001b[1;32m     44\u001b[0m \u001b[0;34m\u001b[0m\u001b[0m\n\u001b[0;32m---> 45\u001b[0;31m \u001b[0mprint\u001b[0m\u001b[0;34m(\u001b[0m\u001b[0ma\u001b[0m\u001b[0;34m.\u001b[0m\u001b[0mhauteur\u001b[0m\u001b[0;34m(\u001b[0m\u001b[0;34m)\u001b[0m\u001b[0;34m)\u001b[0m\u001b[0;34m\u001b[0m\u001b[0;34m\u001b[0m\u001b[0m\n\u001b[0m",
            "\u001b[0;32m<ipython-input-4-e7d8e4059da5>\u001b[0m in \u001b[0;36mhauteur\u001b[0;34m(self)\u001b[0m\n\u001b[1;32m     33\u001b[0m \u001b[0;34m\u001b[0m\u001b[0m\n\u001b[1;32m     34\u001b[0m     \u001b[0;32mdef\u001b[0m \u001b[0mhauteur\u001b[0m\u001b[0;34m(\u001b[0m\u001b[0mself\u001b[0m\u001b[0;34m)\u001b[0m\u001b[0;34m:\u001b[0m\u001b[0;34m\u001b[0m\u001b[0;34m\u001b[0m\u001b[0m\n\u001b[0;32m---> 35\u001b[0;31m         \u001b[0;32mreturn\u001b[0m \u001b[0mself\u001b[0m\u001b[0;34m.\u001b[0m\u001b[0mracine\u001b[0m\u001b[0;34m.\u001b[0m\u001b[0mhauteur\u001b[0m\u001b[0;34m(\u001b[0m\u001b[0;34m)\u001b[0m\u001b[0;34m\u001b[0m\u001b[0;34m\u001b[0m\u001b[0m\n\u001b[0m\u001b[1;32m     36\u001b[0m \u001b[0;34m\u001b[0m\u001b[0m\n\u001b[1;32m     37\u001b[0m \u001b[0ma\u001b[0m \u001b[0;34m=\u001b[0m \u001b[0mArbre\u001b[0m\u001b[0;34m(\u001b[0m\u001b[0;36m10\u001b[0m\u001b[0;34m)\u001b[0m\u001b[0;34m\u001b[0m\u001b[0;34m\u001b[0m\u001b[0m\n",
            "\u001b[0;32m<ipython-input-4-e7d8e4059da5>\u001b[0m in \u001b[0;36mhauteur\u001b[0;34m(n)\u001b[0m\n\u001b[1;32m     23\u001b[0m             \u001b[0;32mreturn\u001b[0m \u001b[0;36m0\u001b[0m\u001b[0;34m\u001b[0m\u001b[0;34m\u001b[0m\u001b[0m\n\u001b[1;32m     24\u001b[0m         \u001b[0;32melse\u001b[0m \u001b[0;34m:\u001b[0m\u001b[0;34m\u001b[0m\u001b[0;34m\u001b[0m\u001b[0m\n\u001b[0;32m---> 25\u001b[0;31m             \u001b[0;32mreturn\u001b[0m \u001b[0;36m1\u001b[0m \u001b[0;34m+\u001b[0m \u001b[0mmax\u001b[0m\u001b[0;34m(\u001b[0m\u001b[0mn\u001b[0m\u001b[0;34m.\u001b[0m\u001b[0mgauche\u001b[0m\u001b[0;34m.\u001b[0m\u001b[0mhauteur\u001b[0m\u001b[0;34m(\u001b[0m\u001b[0;34m)\u001b[0m \u001b[0;34m,\u001b[0m \u001b[0mn\u001b[0m\u001b[0;34m.\u001b[0m\u001b[0mdroit\u001b[0m\u001b[0;34m.\u001b[0m\u001b[0mhauteur\u001b[0m\u001b[0;34m(\u001b[0m\u001b[0;34m)\u001b[0m\u001b[0;34m)\u001b[0m\u001b[0;34m\u001b[0m\u001b[0;34m\u001b[0m\u001b[0m\n\u001b[0m\u001b[1;32m     26\u001b[0m \u001b[0;34m\u001b[0m\u001b[0m\n\u001b[1;32m     27\u001b[0m \u001b[0;32mclass\u001b[0m \u001b[0mArbre\u001b[0m \u001b[0;34m:\u001b[0m\u001b[0;34m\u001b[0m\u001b[0;34m\u001b[0m\u001b[0m\n",
            "\u001b[0;32m<ipython-input-4-e7d8e4059da5>\u001b[0m in \u001b[0;36mhauteur\u001b[0;34m(n)\u001b[0m\n\u001b[1;32m     23\u001b[0m             \u001b[0;32mreturn\u001b[0m \u001b[0;36m0\u001b[0m\u001b[0;34m\u001b[0m\u001b[0;34m\u001b[0m\u001b[0m\n\u001b[1;32m     24\u001b[0m         \u001b[0;32melse\u001b[0m \u001b[0;34m:\u001b[0m\u001b[0;34m\u001b[0m\u001b[0;34m\u001b[0m\u001b[0m\n\u001b[0;32m---> 25\u001b[0;31m             \u001b[0;32mreturn\u001b[0m \u001b[0;36m1\u001b[0m \u001b[0;34m+\u001b[0m \u001b[0mmax\u001b[0m\u001b[0;34m(\u001b[0m\u001b[0mn\u001b[0m\u001b[0;34m.\u001b[0m\u001b[0mgauche\u001b[0m\u001b[0;34m.\u001b[0m\u001b[0mhauteur\u001b[0m\u001b[0;34m(\u001b[0m\u001b[0;34m)\u001b[0m \u001b[0;34m,\u001b[0m \u001b[0mn\u001b[0m\u001b[0;34m.\u001b[0m\u001b[0mdroit\u001b[0m\u001b[0;34m.\u001b[0m\u001b[0mhauteur\u001b[0m\u001b[0;34m(\u001b[0m\u001b[0;34m)\u001b[0m\u001b[0;34m)\u001b[0m\u001b[0;34m\u001b[0m\u001b[0;34m\u001b[0m\u001b[0m\n\u001b[0m\u001b[1;32m     26\u001b[0m \u001b[0;34m\u001b[0m\u001b[0m\n\u001b[1;32m     27\u001b[0m \u001b[0;32mclass\u001b[0m \u001b[0mArbre\u001b[0m \u001b[0;34m:\u001b[0m\u001b[0;34m\u001b[0m\u001b[0;34m\u001b[0m\u001b[0m\n",
            "\u001b[0;32m<ipython-input-4-e7d8e4059da5>\u001b[0m in \u001b[0;36mhauteur\u001b[0;34m(n)\u001b[0m\n\u001b[1;32m     23\u001b[0m             \u001b[0;32mreturn\u001b[0m \u001b[0;36m0\u001b[0m\u001b[0;34m\u001b[0m\u001b[0;34m\u001b[0m\u001b[0m\n\u001b[1;32m     24\u001b[0m         \u001b[0;32melse\u001b[0m \u001b[0;34m:\u001b[0m\u001b[0;34m\u001b[0m\u001b[0;34m\u001b[0m\u001b[0m\n\u001b[0;32m---> 25\u001b[0;31m             \u001b[0;32mreturn\u001b[0m \u001b[0;36m1\u001b[0m \u001b[0;34m+\u001b[0m \u001b[0mmax\u001b[0m\u001b[0;34m(\u001b[0m\u001b[0mn\u001b[0m\u001b[0;34m.\u001b[0m\u001b[0mgauche\u001b[0m\u001b[0;34m.\u001b[0m\u001b[0mhauteur\u001b[0m\u001b[0;34m(\u001b[0m\u001b[0;34m)\u001b[0m \u001b[0;34m,\u001b[0m \u001b[0mn\u001b[0m\u001b[0;34m.\u001b[0m\u001b[0mdroit\u001b[0m\u001b[0;34m.\u001b[0m\u001b[0mhauteur\u001b[0m\u001b[0;34m(\u001b[0m\u001b[0;34m)\u001b[0m\u001b[0;34m)\u001b[0m\u001b[0;34m\u001b[0m\u001b[0;34m\u001b[0m\u001b[0m\n\u001b[0m\u001b[1;32m     26\u001b[0m \u001b[0;34m\u001b[0m\u001b[0m\n\u001b[1;32m     27\u001b[0m \u001b[0;32mclass\u001b[0m \u001b[0mArbre\u001b[0m \u001b[0;34m:\u001b[0m\u001b[0;34m\u001b[0m\u001b[0;34m\u001b[0m\u001b[0m\n",
            "\u001b[0;31mAttributeError\u001b[0m: 'NoneType' object has no attribute 'hauteur'"
          ]
        }
      ]
    },
    {
      "cell_type": "markdown",
      "source": [
        "Remarque :     \n",
        "la **méthode** hauteur est plus complexe à écrire qu'une simple **fonction**\n",
        "\n",
        "En effet, l'élément `None` n'a pas d'attribut `gauche`, `droit` ou `cle`\n",
        "\n",
        "**`None` n'a pas non plus de méthode hauteur !**\n",
        "\n",
        "* La syntaxe `hauteur(None)` est correcte avec la **fonction** `hauteur`\n",
        "* Mais la syntaxe `None.hauteur()` est incorrecte avec la **méthode** `hauteur`"
      ],
      "metadata": {
        "id": "lOFgIEFhHYkw"
      }
    },
    {
      "cell_type": "markdown",
      "source": [
        "# Ajout de la méthode `taille`"
      ],
      "metadata": {
        "id": "2F7a4bzFG4Ea"
      }
    },
    {
      "cell_type": "code",
      "source": [
        "class Noeud :\n",
        "    def __init__(self, cle):\n",
        "        self.cle = cle\n",
        "        self.gauche = None\n",
        "        self.droit = None\n",
        "        \n",
        "    def insere(self, cle):\n",
        "        if cle < self.cle :\n",
        "            if self.gauche == None :\n",
        "                self.gauche = Noeud(cle)\n",
        "            else :\n",
        "                self.gauche.insere(cle)\n",
        "        elif cle > self.cle :\n",
        "            if self.droit == None :\n",
        "                self.droit = Noeud(cle)\n",
        "            else :\n",
        "                self.droit.insere(cle)\n",
        "\n",
        "    def hauteur(self):\n",
        "        if self.gauche == None and self.droit == None:\n",
        "            return 1\n",
        "        if self.gauche == None:\n",
        "            return 1+self.droit.hauteur()\n",
        "        elif self.droit == None:\n",
        "            return 1+self.gauche.hauteur()\n",
        "        else:\n",
        "            hg = self.gauche.hauteur()\n",
        "            hd = self.droit.hauteur()\n",
        "            if hg > hd:\n",
        "                return hg+1\n",
        "            else:\n",
        "                return hd+1\n",
        "\n",
        "    def taille(self):\n",
        "        if self.gauche == None and self.droit == None:\n",
        "            return 1\n",
        "        if self.gauche == None:\n",
        "            return 1+self.droit.taille()\n",
        "        elif self.droit == None:\n",
        "            return 1+self.gauche.taille()\n",
        "        else:\n",
        "            tg = self.gauche.taille()\n",
        "            td = self.droit.taille()\n",
        "            return 1+tg+td\n",
        "\n",
        "class Arbre :\n",
        "    def __init__(self, cle):\n",
        "        self.racine = Noeud(cle)\n",
        "    \n",
        "    def insere(self, cle):\n",
        "        self.racine.insere(cle)\n",
        "    \n",
        "    def hauteur(self):\n",
        "        return self.racine.hauteur()\n",
        "    \n",
        "    def taille(self):\n",
        "        return self.racine.taille()\n",
        "\n",
        "a = Arbre(10)\n",
        "a.insere(20)\n",
        "a.insere(15)\n",
        "a.insere(12)\n",
        "a.insere(8)\n",
        "a.insere(4)\n",
        "a.insere(5)\n",
        "print(a.taille())"
      ],
      "metadata": {
        "id": "xV2aj5qQHDBF",
        "colab": {
          "base_uri": "https://localhost:8080/"
        },
        "outputId": "6978420f-1858-4753-a93b-9338389eae0e"
      },
      "execution_count": 6,
      "outputs": [
        {
          "output_type": "stream",
          "name": "stdout",
          "text": [
            "7\n"
          ]
        }
      ]
    },
    {
      "cell_type": "markdown",
      "source": [
        "# Ajout de la méthode `bien_construit`"
      ],
      "metadata": {
        "id": "Smiyit9qCYfi"
      }
    },
    {
      "cell_type": "code",
      "source": [
        "class Arbre :\n",
        "    def __init__(self, cle):\n",
        "        self.racine = Noeud(cle)\n",
        "    \n",
        "    def insere(self, cle):\n",
        "        self.racine.insere(cle)\n",
        "    \n",
        "    def hauteur(self):\n",
        "        return self.racine.hauteur()\n",
        "    \n",
        "    def taille(self):\n",
        "        return self.racine.taille()\n",
        "    \n",
        "    def bien_construit(self):\n",
        "        h = self.hauteur()\n",
        "        t = self.taille()\n",
        "        return t >= 2**(h-1)"
      ],
      "metadata": {
        "id": "VH3a-3GNCdZ5"
      },
      "execution_count": null,
      "outputs": []
    }
  ]
}