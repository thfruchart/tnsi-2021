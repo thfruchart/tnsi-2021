{
  "nbformat": 4,
  "nbformat_minor": 0,
  "metadata": {
    "colab": {
      "name": "Chap09_COURS_Arbres_binaires_de_recherche.ipynb",
      "provenance": [],
      "collapsed_sections": [],
      "authorship_tag": "ABX9TyPi7KUlg7ww3wFSkoK6uD8q",
      "include_colab_link": true
    },
    "kernelspec": {
      "name": "python3",
      "display_name": "Python 3"
    }
  },
  "cells": [
    {
      "cell_type": "markdown",
      "metadata": {
        "id": "view-in-github",
        "colab_type": "text"
      },
      "source": [
        "<a href=\"https://colab.research.google.com/github/thfruchart/tnsi/blob/main/09/COURS_Arbres_binaires_de_recherche.ipynb\" target=\"_parent\"><img src=\"https://colab.research.google.com/assets/colab-badge.svg\" alt=\"Open In Colab\"/></a>"
      ]
    },
    {
      "cell_type": "markdown",
      "metadata": {
        "id": "53k7UGMuV7Ix"
      },
      "source": [
        "# Activité"
      ]
    },
    {
      "cell_type": "markdown",
      "metadata": {
        "id": "b9DXztNhZO_N"
      },
      "source": [
        "On donne le code suivant : "
      ]
    },
    {
      "cell_type": "code",
      "metadata": {
        "id": "Qz8OMCl5ChcL"
      },
      "source": [
        "class ABR:\n",
        "    def __init__(self, val):\n",
        "        self.valeur = val\n",
        "        self.gauche = None\n",
        "        self.droit = None\n",
        "\n",
        "def ajoute(abr, val):\n",
        "    '''abr est un arbre binaire de recherche, instance de classe ABR\n",
        "    val est une valeur du même type que les valeurs de abr\n",
        "    la fonction ajoute val dans abr '''\n",
        "    if val < abr.valeur : \n",
        "        if abr.gauche is None : \n",
        "            abr.gauche = ABR(val)\n",
        "        else : \n",
        "            ajoute(abr.gauche, val)\n",
        "    else : \n",
        "        if abr.droit is None :\n",
        "            abr.droit = ABR(val)\n",
        "        else : \n",
        "            ajoute(abr.droit, val)\n"
      ],
      "execution_count": 1,
      "outputs": []
    },
    {
      "cell_type": "markdown",
      "metadata": {
        "id": "QrLFlgPvV9XK"
      },
      "source": [
        "Représenter schématiquement le contenu de la variable `a` lorsqu'on exécute chacune des commandes suivantes. "
      ]
    },
    {
      "cell_type": "code",
      "metadata": {
        "id": "3BIHH8I1WSiV"
      },
      "source": [
        "a = ABR(100)\n",
        "ajoute(a, 50)\n",
        "ajoute(a, 60)\n",
        "ajoute(a, 40)"
      ],
      "execution_count": 2,
      "outputs": []
    },
    {
      "cell_type": "markdown",
      "metadata": {
        "id": "xgUazbHWWmED"
      },
      "source": [
        "Vérifier ensuite avec [PythonTutor](http://www.pythontutor.com/visualize.html#code=class%20ABR%3A%0A%20%20%20%20def%20__init__%28self,%20val%29%3A%0A%20%20%20%20%20%20%20%20self.valeur%20%3D%20val%0A%20%20%20%20%20%20%20%20self.gauche%20%3D%20None%0A%20%20%20%20%20%20%20%20self.droit%20%3D%20None%0A%0Adef%20ajoute%28abr,%20val%29%3A%0A%20%20%20%20if%20val%20%3C%20abr.valeur%20%3A%20%0A%20%20%20%20%20%20%20%20if%20abr.gauche%20is%20None%20%3A%20%0A%20%20%20%20%20%20%20%20%20%20%20%20abr.gauche%20%3D%20ABR%28val%29%0A%20%20%20%20%20%20%20%20else%20%3A%20%0A%20%20%20%20%20%20%20%20%20%20%20%20ajoute%28abr.gauche,%20val%29%0A%20%20%20%20else%20%3A%20%0A%20%20%20%20%20%20%20%20if%20abr.droit%20is%20None%20%3A%0A%20%20%20%20%20%20%20%20%20%20%20%20abr.droit%20%3D%20ABR%28val%29%0A%20%20%20%20%20%20%20%20else%20%3A%20%0A%20%20%20%20%20%20%20%20%20%20%20%20ajoute%28abr.droit,%20val%29%0A%0Aa%20%3D%20ABR%28100%29%0Aajoute%28a,%2050%29%0Aajoute%28a,%2060%29%0Aajoute%28a,%2040%29&cumulative=false&curInstr=8&heapPrimitives=nevernest&mode=display&origin=opt-frontend.js&py=3&rawInputLstJSON=%5B%5D&textReferences=false)"
      ]
    },
    {
      "cell_type": "markdown",
      "metadata": {
        "id": "lmhRqyQqhMLO"
      },
      "source": [
        "que se passe-t-il si on exécute : "
      ]
    },
    {
      "cell_type": "code",
      "metadata": {
        "id": "JAcy7SsqhQVR"
      },
      "source": [
        "b = ABR(100)\n",
        "ajoute(b, 50)\n",
        "ajoute(b, 50)"
      ],
      "execution_count": 3,
      "outputs": []
    },
    {
      "cell_type": "markdown",
      "metadata": {
        "id": "ZXIjQAvHZVl2"
      },
      "source": [
        "# Arbre binaire de recherche"
      ]
    },
    {
      "cell_type": "markdown",
      "metadata": {
        "id": "_K2vNmJmZYoM"
      },
      "source": [
        "## Définition"
      ]
    },
    {
      "cell_type": "markdown",
      "metadata": {
        "id": "53L8mosDZbd4"
      },
      "source": [
        "Un **arbre binaire de recherche** (en abrégé ABR) est un arbre binaire dans laquelle chaque noeud vérifie la propriété suivante : \n",
        "* les valeurs contenues dans le **sous-arbre gauche** sont **inférieures** à la valeur du noeud\n",
        "* les valeurs contenues dans le **sous-arbre droit** sont **supérieures** à la valeur du noeud\n",
        "\n",
        "Ceci suppose que toutes les valeurs contenues dans l'arbre binaire de recherche sont comparables entre elles.\n",
        "\n",
        "En python c'est le cas avec des valeurs qui sont toutes de type numérique (`int` ou `float`). \n",
        "\n",
        "C'est aussi le cas si toutes les valeurs sont de type `str` (ordre alphabétique)"
      ]
    },
    {
      "cell_type": "markdown",
      "metadata": {
        "id": "cW3dEiZXaPDk"
      },
      "source": [
        "L'activité ci-dessus définit une classe ABR qui modélise des arbres binaires de recherche.\n",
        "\n",
        "La fonction `ajoute` ci-dessus insère une nouvelle valeur dans un arbre binaire, en s'assurant que la définition reste respectée. "
      ]
    },
    {
      "cell_type": "markdown",
      "metadata": {
        "id": "3buSECb4WWMC"
      },
      "source": [
        "## Affichage à l'écran"
      ]
    },
    {
      "cell_type": "markdown",
      "metadata": {
        "id": "rpuXJi2JVSQz"
      },
      "source": [
        "On peut utiliser la fonction `parcours_infixe_indent` [droite/gauche ]des arbres binaires (pas forcément \"de recherche\") déjà étudiés dans le chapitre précédent :"
      ]
    },
    {
      "cell_type": "code",
      "metadata": {
        "id": "1Kn4cdIWVXcH",
        "outputId": "51061a04-2a3a-4d32-c37c-ba7878089661",
        "colab": {
          "base_uri": "https://localhost:8080/"
        }
      },
      "source": [
        "def parcours_infixe_indent(arbre,n=0):\n",
        "    '''affiche le contenu d'un arbre :\n",
        "    - d'abord le sous-arbre droit, \n",
        "    - puis la racine, \n",
        "    - puis le sous-arbre gauche'''\n",
        "    if arbre is not None:\n",
        "        parcours_infixe_indent(arbre.droit,n+1)\n",
        "        print('    '*n+'-', arbre.valeur)\n",
        "        parcours_infixe_indent(arbre.gauche,n+1)\n",
        "\n",
        "affiche = parcours_infixe_indent\n",
        "\n",
        "affiche(a)"
      ],
      "execution_count": 4,
      "outputs": [
        {
          "output_type": "stream",
          "name": "stdout",
          "text": [
            "- 100\n",
            "        - 60\n",
            "    - 50\n",
            "        - 40\n"
          ]
        }
      ]
    },
    {
      "cell_type": "markdown",
      "metadata": {
        "id": "hjAf8_vuaoUw"
      },
      "source": [
        "Remarque : le parcours **infixe** d'un arbre binaire de recherche correspond à l'ordre croissant !"
      ]
    },
    {
      "cell_type": "code",
      "metadata": {
        "id": "gMMsavPnbA0A",
        "outputId": "409cc3cb-d6b8-47a0-929b-9d72ca70aeba",
        "colab": {
          "base_uri": "https://localhost:8080/"
        }
      },
      "source": [
        "def parcours_infixe(arbre):\n",
        "    '''affiche le contenu d'un arbre :\n",
        "    - d'abord le sous-arbre gauche, \n",
        "    - puis la racine, \n",
        "    - puis le sous-arbre droit'''\n",
        "    if arbre is not None:\n",
        "        parcours_infixe(arbre.gauche)\n",
        "        print(arbre.valeur, end=' ')\n",
        "        parcours_infixe(arbre.droit)\n",
        "\n",
        "parcours_infixe(a)"
      ],
      "execution_count": 5,
      "outputs": [
        {
          "output_type": "stream",
          "name": "stdout",
          "text": [
            "40 50 60 100 "
          ]
        }
      ]
    },
    {
      "cell_type": "markdown",
      "metadata": {
        "id": "dZdPCnmYemX1"
      },
      "source": [
        "## Travail personnel"
      ]
    },
    {
      "cell_type": "markdown",
      "metadata": {
        "id": "hk1HtHC5epgr"
      },
      "source": [
        "**Ré-écrire** une fonction `taille` et une fonction `hauteur`, similaires à celles déjà écrites pour les arbres binaires. \n",
        "\n",
        "Pour vérifier le travail, il suffira de se reporter au chapitre 8 !"
      ]
    },
    {
      "cell_type": "code",
      "source": [
        "def taille(abr):\n",
        "    if abr is None:\n",
        "        return 0\n",
        "    else : \n",
        "        return 1 + taille(abr.gauche) + taille(abr.droit)\n",
        "\n",
        "def hauteur(abr):\n",
        "    if abr is None:\n",
        "        return 0\n",
        "    else : \n",
        "        return 1 + max(hauteur(abr.gauche) , hauteur(abr.droit))"
      ],
      "metadata": {
        "id": "K-rbMcaez-aw"
      },
      "execution_count": null,
      "outputs": []
    },
    {
      "cell_type": "markdown",
      "metadata": {
        "id": "BWMAewATbnv8"
      },
      "source": [
        "# Recherche dans un ABR"
      ]
    },
    {
      "cell_type": "markdown",
      "metadata": {
        "id": "9eMl1yS0bsvs"
      },
      "source": [
        "## Activité"
      ]
    },
    {
      "cell_type": "markdown",
      "metadata": {
        "id": "R2_QdcgnbwFJ"
      },
      "source": [
        "Ecrire une fonction `recherche(abr, x)` qui \n",
        "* prend en arguments un arbre binaire de recherche `abr` et une valeur `x`\n",
        "* renvoie `True` si `x` est l'une des valeurs contenues dans `abr`\n",
        "* renvoie `False` sinon\n",
        "\n",
        "On suggère d'écrire cette fonction de manière récursive. "
      ]
    },
    {
      "cell_type": "code",
      "metadata": {
        "id": "_mkP55a2cLse",
        "outputId": "7bdc2d35-0785-4f1b-eeed-5ae2b1306c8d",
        "colab": {
          "base_uri": "https://localhost:8080/"
        }
      },
      "source": [
        "def recherche(abr, x):\n",
        "    # cas de base\n",
        "    if abr is None : \n",
        "        return False\n",
        "    elif x == abr.valeur :\n",
        "        return True   \n",
        "    # cas récursif\n",
        "    elif x < abr.valeur :\n",
        "        return recherche(abr.gauche, x)\n",
        "    else : \n",
        "        return recherche(abr.droit, x)\n",
        "\n",
        "a = ABR(100)\n",
        "ajoute(a, 50)\n",
        "ajoute(a, 60)\n",
        "ajoute(a, 40)\n",
        "print( recherche(a,40))\n",
        "print( recherche(a,0))"
      ],
      "execution_count": 11,
      "outputs": [
        {
          "output_type": "stream",
          "name": "stdout",
          "text": [
            "True\n",
            "False\n"
          ]
        }
      ]
    },
    {
      "cell_type": "markdown",
      "metadata": {
        "id": "KWuibrHZJCwA"
      },
      "source": [
        "# Code complet pour les arbres binaires de recherche"
      ]
    },
    {
      "cell_type": "code",
      "metadata": {
        "id": "fryxu9USJFdq"
      },
      "source": [
        "class ABR:\n",
        "    def __init__(self, val):\n",
        "        self.valeur = val\n",
        "        self.gauche = None\n",
        "        self.droit = None\n",
        "\n",
        "def ajoute(abr, val):\n",
        "    '''abr est un arbre binaire de recherche, instance de classe ABR\n",
        "    val est une valeur du même type que les valeurs de abr\n",
        "    la fonction ajoute val dans abr '''\n",
        "    if val < abr.valeur : \n",
        "        if abr.gauche is None : \n",
        "            abr.gauche = ABR(val)\n",
        "        else : \n",
        "            ajoute(abr.gauche, val)\n",
        "    else : \n",
        "        if abr.droit is None :\n",
        "            abr.droit = ABR(val)\n",
        "        else : \n",
        "            ajoute(abr.droit, val)\n",
        "\n",
        "def parcours_infixe_indent(arbre,n=0):\n",
        "    '''affiche le contenu d'un arbre :\n",
        "    - d'abord le sous-arbre droit, \n",
        "    - puis la racine, \n",
        "    - puis le sous-arbre gauche'''\n",
        "    if arbre is not None:\n",
        "        parcours_infixe_indent(arbre.droit,n+1)\n",
        "        print('    '*n+'-', arbre.valeur)\n",
        "        parcours_infixe_indent(arbre.gauche,n+1)\n",
        "\n",
        "def parcours_infixe(arbre):\n",
        "    '''affiche le contenu d'un arbre :\n",
        "    - d'abord le sous-arbre gauche, \n",
        "    - puis la racine, \n",
        "    - puis le sous-arbre droit'''\n",
        "    if arbre is not None:\n",
        "        parcours_infixe(arbre.gauche)\n",
        "        print(arbre.valeur, end=' ')\n",
        "        parcours_infixe(arbre.droit)\n",
        "\n",
        "def recherche(abr,x):\n",
        "    '''renvoie True si x est l'une des valeurs contenues dans abr\n",
        "    renvoie False sinon'''\n",
        "    if abr is None:\n",
        "        return False\n",
        "    elif x < abr.valeur:\n",
        "        return recherche(abr.gauche, x)\n",
        "    elif x > abr.valeur : \n",
        "        return recherche(abr.droit,x)\n",
        "    else:\n",
        "        return True\n",
        "\n",
        "def taille(arbre):\n",
        "    if arbre is None:\n",
        "        return 0\n",
        "    else:\n",
        "        return 1 + taille(arbre.gauche) + taille(arbre.droit)\n",
        "\n",
        "def hauteur(arbre):\n",
        "    if arbre is None : \n",
        "        return 0\n",
        "    else : return 1 + max(hauteur(arbre.gauche), hauteur(arbre.droit))"
      ],
      "execution_count": null,
      "outputs": []
    },
    {
      "cell_type": "markdown",
      "metadata": {
        "id": "Y264mEORcR1Z"
      },
      "source": [
        "## Efficacité"
      ]
    },
    {
      "cell_type": "markdown",
      "metadata": {
        "id": "FxA6rO8BcV2x"
      },
      "source": [
        "Le **nombre d'appels récursifs** réalisés par la fonction `recherche` est égal, dans le **pire** des cas, à la **hauteur** de l'arbre binaire de recherche  : en effet, à chaque appel récursif, on \"descend\" soit dans le sous-arbre gauche, soit dans le sous arbre droit, donc la profondeur du noeud considéré augmente strictement d'une unité. "
      ]
    },
    {
      "cell_type": "markdown",
      "metadata": {
        "id": "FoVr8K3jc9cL"
      },
      "source": [
        "Dans le cas où l'abre binaire est **équilibré**, cela permet \"d'éliminer la moitié des noeuds\" à chaque appel récursif. Dans ce cas, la recherche est efficace : comme pour la recherche dichotomique dans un tableau trié, le coût est alors **logarithmique** par rapport à la taille de l'arbre. \n",
        "\n",
        "Dans le cas où l'arbre binaire a une structure linéaire, la hauteur de l'abr est égale à sa taille, donc l'efficacité n'est pas meilleure que pour une liste chaînée : on a un coût **linéaire** par rapport à la taille de l'arbre. "
      ]
    }
  ]
}