{
  "nbformat": 4,
  "nbformat_minor": 0,
  "metadata": {
    "colab": {
      "name": "Chap09_EXERCICES_Arbres_binaires_de_recherche.ipynb",
      "provenance": [],
      "collapsed_sections": [],
      "authorship_tag": "ABX9TyPEZxXoqKZs3Lo8M17dTxlc",
      "include_colab_link": true
    },
    "kernelspec": {
      "name": "python3",
      "display_name": "Python 3"
    }
  },
  "cells": [
    {
      "cell_type": "markdown",
      "metadata": {
        "id": "view-in-github",
        "colab_type": "text"
      },
      "source": [
        "<a href=\"https://colab.research.google.com/github/thfruchart/tnsi/blob/main/09/EXERCICES_Arbres_binaires_de_recherche.ipynb\" target=\"_parent\"><img src=\"https://colab.research.google.com/assets/colab-badge.svg\" alt=\"Open In Colab\"/></a>"
      ]
    },
    {
      "cell_type": "markdown",
      "metadata": {
        "id": "53k7UGMuV7Ix"
      },
      "source": [
        "# ABR"
      ]
    },
    {
      "cell_type": "markdown",
      "metadata": {
        "id": "b9DXztNhZO_N"
      },
      "source": [
        "Dans tous les exercices, on pourra utiliser le code suivant, déjà présenté en cours : "
      ]
    },
    {
      "cell_type": "code",
      "metadata": {
        "id": "Qz8OMCl5ChcL"
      },
      "source": [
        "class ABR:\n",
        "    def __init__(self, val):\n",
        "        self.valeur = val\n",
        "        self.gauche = None\n",
        "        self.droit = None\n",
        "\n",
        "def ajoute(abr, val):\n",
        "    '''abr est un arbre binaire de recherche, instance de classe ABR\n",
        "    val est une valeur du même type que les valeurs de abr\n",
        "    la fonction ajoute val dans abr '''\n",
        "    if val < abr.valeur : \n",
        "        if abr.gauche is None : \n",
        "            abr.gauche = ABR(val)\n",
        "        else : \n",
        "            ajoute(abr.gauche, val)\n",
        "    else : \n",
        "        if abr.droit is None :\n",
        "            abr.droit = ABR(val)\n",
        "        else : \n",
        "            ajoute(abr.droit, val)\n",
        "\n",
        "def parcours_infixe_indent(arbre,n=0):\n",
        "    '''affiche le contenu d'un arbre :\n",
        "    - d'abord le sous-arbre droit, \n",
        "    - puis la racine, \n",
        "    - puis le sous-arbre gauche'''\n",
        "    if arbre is not None:\n",
        "        parcours_infixe_indent(arbre.droit,n+1)\n",
        "        print('    '*n+'-', arbre.valeur)\n",
        "        parcours_infixe_indent(arbre.gauche,n+1)\n",
        "\n",
        "def parcours_infixe(arbre):\n",
        "    '''affiche le contenu d'un arbre :\n",
        "    - d'abord le sous-arbre gauche, \n",
        "    - puis la racine, \n",
        "    - puis le sous-arbre droit'''\n",
        "    if arbre is not None:\n",
        "        parcours_infixe(arbre.gauche)\n",
        "        print(arbre.valeur, end=' ')\n",
        "        parcours_infixe(arbre.droit)\n",
        "\n",
        "def recherche(abr,x):\n",
        "    '''renvoie True si x est l'une des valeurs contenues dans abr\n",
        "    renvoie False sinon'''\n",
        "    if abr is None:\n",
        "        return False\n",
        "    elif x < abr.valeur:\n",
        "        return recherche(abr.gauche, x)\n",
        "    elif x > abr.valeur : \n",
        "        return recherche(abr.droit,x)\n",
        "    else:\n",
        "        return True\n",
        "\n",
        "def taille(arbre):\n",
        "    if arbre is None:\n",
        "        return 0\n",
        "    else:\n",
        "        return 1 + taille(arbre.gauche) + taille(arbre.droit)\n",
        "\n",
        "def hauteur(arbre):\n",
        "    if arbre is None : \n",
        "        return 0\n",
        "    else : return 1 + max(hauteur(arbre.gauche), hauteur(arbre.droit))"
      ],
      "execution_count": null,
      "outputs": []
    },
    {
      "cell_type": "markdown",
      "metadata": {
        "id": "d55UM34Wot1t"
      },
      "source": [
        "# Exercice 1 : sur feuille, puis avec Python"
      ]
    },
    {
      "cell_type": "markdown",
      "metadata": {
        "id": "P7asfho_o0Lx"
      },
      "source": [
        "1. Sans exécuter le code : déterminer la taille et la hauteur des arbre binaires de recherche définis dans les cellules ci-dessous\n",
        "2. Vérifier ensuite avec Python..."
      ]
    },
    {
      "cell_type": "code",
      "metadata": {
        "id": "x5pussw9pI8c"
      },
      "source": [
        "a1 = ABR(100)\n",
        "for v in [50,200,150,300,250]:\n",
        "    ajoute(a1,v)"
      ],
      "execution_count": null,
      "outputs": []
    },
    {
      "cell_type": "code",
      "metadata": {
        "id": "rMgNjGImqhC0"
      },
      "source": [
        "a2 = ABR(100)\n",
        "for v in [50,150,200,250,300]:\n",
        "    ajoute(a2,v)"
      ],
      "execution_count": null,
      "outputs": []
    },
    {
      "cell_type": "code",
      "metadata": {
        "id": "hc96QFMmqunN"
      },
      "source": [
        "a3 = ABR(300)\n",
        "for v in [250,200,150,100,50]:\n",
        "    ajoute(a3,v)"
      ],
      "execution_count": null,
      "outputs": []
    },
    {
      "cell_type": "markdown",
      "metadata": {
        "id": "a_lbGnKGtBQ_"
      },
      "source": [
        "# Exercice 2 : sur feuille!"
      ]
    },
    {
      "cell_type": "markdown",
      "metadata": {
        "id": "5glaPtNQtDH6"
      },
      "source": [
        "Représenter tous les arbres binaires de recherche de taille 3 contenant les clés (ou valeurs) 1,2 et 3."
      ]
    },
    {
      "cell_type": "markdown",
      "metadata": {
        "id": "BX9B0ZOVovVX"
      },
      "source": [
        "# Exercice 3 : avec Python"
      ]
    },
    {
      "cell_type": "markdown",
      "metadata": {
        "id": "tJAJHTkJrMXd"
      },
      "source": [
        "1. Dans un arbre binaire de recherche, où se trouve le plus petit élément ?\n",
        "2. En déduire une fonction `minimum(abr)` qui :\n",
        "  * prend en argument un arbre binaire de recherche\n",
        "  * renvoie `None` si cet arbre est vide\n",
        "  * renvoie la **plus petite valeur** contenue dans cet arbre sinon. \n",
        "3. Écrire de même une fonction `maximum(abr)` qui renvoie la **plus grande valeur** contenue dans `abr`, et qui renvoie `None` lorsque `abr` est vide."
      ]
    },
    {
      "cell_type": "code",
      "metadata": {
        "id": "6qeNwHHpxOuE"
      },
      "source": [
        ""
      ],
      "execution_count": null,
      "outputs": []
    },
    {
      "cell_type": "markdown",
      "metadata": {
        "id": "KdzKRsMlow0p"
      },
      "source": [
        "# Exercice 4 : sur feuille!"
      ]
    },
    {
      "cell_type": "markdown",
      "metadata": {
        "id": "VxRc8pEouc1V"
      },
      "source": [
        "On considère les arbres binaires définis par le code Python suivant : "
      ]
    },
    {
      "cell_type": "code",
      "metadata": {
        "id": "0Vzm0ZsZtg1Z"
      },
      "source": [
        "class Noeud:\n",
        "    def __init__(self, g, v, d):\n",
        "        self.gauche = g\n",
        "        self.valeur = v        \n",
        "        self.droit  = d\n",
        "    \n",
        "arb1 = Noeud(Noeud(None,\n",
        "                    50,\n",
        "                    Noeud(None,\n",
        "                          75,\n",
        "                          None)), \n",
        "             100, \n",
        "             Noeud(None,\n",
        "                   150,\n",
        "                   None) )\n",
        "\n",
        "\n",
        "arb2 = Noeud( Noeud(None,\n",
        "                    50,\n",
        "                    None), \n",
        "             100, \n",
        "             Noeud(Noeud(None,\n",
        "                          75,\n",
        "                          None),\n",
        "                   150,\n",
        "                   None) )"
      ],
      "execution_count": null,
      "outputs": []
    },
    {
      "cell_type": "markdown",
      "metadata": {
        "id": "k8Kj4BsIuj2r"
      },
      "source": [
        "1. `arb1` est-il un arbre binaire de recherche ?\n",
        "2. `arb2` est-il un arbre binaire de recherche ?"
      ]
    },
    {
      "cell_type": "markdown",
      "metadata": {
        "id": "wJFEmieUv3d4"
      },
      "source": [
        "# Exercice 5 : sur feuille!"
      ]
    },
    {
      "cell_type": "markdown",
      "metadata": {
        "id": "OXTI4egNv5Q4"
      },
      "source": [
        "On recherche le nombre 28 dans un arbre binaire de recherche : \n",
        "1. Est-il possible que la suite des noeuds parcourus soit : 13, 22, 35, 31, 29, 23, 25, 28\n",
        "1. Est-il possible que la suite des noeuds parcourus soit : 13, 23, 35, 31, 29, 22, 25, 28\n",
        "\n",
        "Expliquer !"
      ]
    }
  ]
}