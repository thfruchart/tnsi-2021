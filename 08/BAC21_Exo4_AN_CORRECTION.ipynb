{
  "nbformat": 4,
  "nbformat_minor": 0,
  "metadata": {
    "colab": {
      "name": "BAC21-Exo4-AN_CORRECTION.ipynb",
      "provenance": [],
      "collapsed_sections": [],
      "authorship_tag": "ABX9TyNgtwSqH83SJFeWutxk6mNv",
      "include_colab_link": true
    },
    "kernelspec": {
      "name": "python3",
      "display_name": "Python 3"
    },
    "language_info": {
      "name": "python"
    }
  },
  "cells": [
    {
      "cell_type": "markdown",
      "metadata": {
        "id": "view-in-github",
        "colab_type": "text"
      },
      "source": [
        "<a href=\"https://colab.research.google.com/github/thfruchart/tnsi/blob/main/08/BAC21_Exo4_AN_CORRECTION.ipynb\" target=\"_parent\"><img src=\"https://colab.research.google.com/assets/colab-badge.svg\" alt=\"Open In Colab\"/></a>"
      ]
    },
    {
      "cell_type": "markdown",
      "source": [
        "### 1.a\n",
        "La racine de l'arbre est \"Léa\"\n",
        "\n",
        "Les valeurs des feuilles sont : \"Marc\", \"Lea\", \"Claire\", \"Theo\", \"Marie\", \"Louis\", \"Anne\", \"Kevin\""
      ],
      "metadata": {
        "id": "VaR4UmJW-VcK"
      }
    },
    {
      "cell_type": "markdown",
      "source": [
        "### 1.b\n",
        "Puisque le vainqueur a son nom en haut de l'arbre, il suffit de renvoyer la valeur de la racine !"
      ],
      "metadata": {
        "id": "yBMHxg0V-stC"
      }
    },
    {
      "cell_type": "code",
      "execution_count": null,
      "metadata": {
        "id": "FnGNVITm-Gs4"
      },
      "outputs": [],
      "source": [
        "def vainqueur(arb):\n",
        "    return racine(arb)"
      ]
    },
    {
      "cell_type": "markdown",
      "source": [
        "### 2.a\n",
        "On calcule le nombre d'occurrences de manière récursive.\n",
        "On compare le nom cherché avec la racine de l'arbre, puis on ajoute les occurrences trouvées dans les sous arbres gauche et droit"
      ],
      "metadata": {
        "id": "bSWY9nWY_HKK"
      }
    },
    {
      "cell_type": "code",
      "source": [
        "def occurrences(arb, nom) : \n",
        "    if nom == racine(arb):\n",
        "        cpt = 1\n",
        "    else : \n",
        "        cpt = 0\n",
        "    return cpt + occurrences(gauche(arb)) +  occurrences(droit(arb))"
      ],
      "metadata": {
        "id": "M2rZ5DMk_Uqq"
      },
      "execution_count": null,
      "outputs": []
    },
    {
      "cell_type": "markdown",
      "source": [
        "### 2.b\n",
        "Un joueur a gagné un match si son nom figure à la racine d'un (sous)arbre qui n'est pas une feuille, c'est à dire, dont les sous-arbres gauche et droit ne sont pas vides!\n",
        "\n",
        "On programme cette fonction de manière récursive."
      ],
      "metadata": {
        "id": "7N61tpRF_vOx"
      }
    },
    {
      "cell_type": "code",
      "source": [
        "def a_gagne(arb, nom) :\n",
        "    # cas de base\n",
        "    if est_vide(droit(arb) ) and est_vide(gauche(arb)) : \n",
        "        return False\n",
        "    elif nom = racine(arb) : \n",
        "        return True\n",
        "    else : # cas récursif\n",
        "        return a_gagne(gauche(arb), nom)  or  a_gagne(droit(arb), nom)"
      ],
      "metadata": {
        "id": "PNfpYVvA_ZT9"
      },
      "execution_count": null,
      "outputs": []
    },
    {
      "cell_type": "markdown",
      "source": [
        "on peut aussi ré-utiliser la fonction de la question précédente :  "
      ],
      "metadata": {
        "id": "ws-KO9Jt4a6m"
      }
    },
    {
      "cell_type": "code",
      "source": [
        "def a_gagne(arb, nom) :\n",
        "    return occurrences(arb, nom) > 1"
      ],
      "metadata": {
        "id": "C4VFVtB94f5V"
      },
      "execution_count": null,
      "outputs": []
    },
    {
      "cell_type": "markdown",
      "source": [
        "### 3.a\n",
        "La fonction renvoie une valeur incorrecte dans le cas suivant :\n",
        "lorsque nom = \"Lea\", occurrences(B, \"Lea\") renvoie 4 et non 3!\n",
        "\n",
        "En effet, le noeud racine ne correspond pas à un match : il donne simplement le nom du vaiqueur du tournoi. \n",
        "\n"
      ],
      "metadata": {
        "id": "x4-l9lfhBFYH"
      }
    },
    {
      "cell_type": "code",
      "source": [
        "# 3.b\n",
        "def nombre_match(arb, nom) : \n",
        "    if racine(arb) == nom :\n",
        "        return occurrences(arb,nom) - 1\n",
        "    else :     \n",
        "        return occurrences(arb,nom)"
      ],
      "metadata": {
        "id": "gsPPn_SFBMR9"
      },
      "execution_count": null,
      "outputs": []
    },
    {
      "cell_type": "markdown",
      "source": [
        "### 4."
      ],
      "metadata": {
        "id": "VjXI__6_BVa3"
      }
    },
    {
      "cell_type": "code",
      "source": [
        "def liste_joueurs(arb):\n",
        "    if est_vide(arb) : \n",
        "        return []\n",
        "    elif est_vide(gauche(arb)) and est_vide(droit(arb)) : \n",
        "        return [racine(arb)]\n",
        "    else : \n",
        "        return liste_joueurs(gauche(arb)) + liste_joueurs(droit(arb))"
      ],
      "metadata": {
        "id": "daZq4rr4BW4l"
      },
      "execution_count": null,
      "outputs": []
    }
  ]
}