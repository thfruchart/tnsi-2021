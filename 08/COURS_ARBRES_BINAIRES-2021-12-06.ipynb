{
  "nbformat": 4,
  "nbformat_minor": 0,
  "metadata": {
    "colab": {
      "name": "Chap08_COURS_ARBRES_BINAIRES.ipynb",
      "provenance": [],
      "collapsed_sections": [
        "tBTIHnjJlCbM",
        "jQFSLPc7k67K",
        "mwuaRiHKkusV",
        "ZaQWR8uqCQKN"
      ]
    },
    "kernelspec": {
      "name": "python3",
      "display_name": "Python 3"
    },
    "celltoolbar": "Slideshow"
  },
  "cells": [
    {
      "cell_type": "markdown",
      "metadata": {
        "id": "inglW8Sj1H5B"
      },
      "source": [
        "# Arborescence, arbre binaire"
      ]
    },
    {
      "cell_type": "markdown",
      "metadata": {
        "id": "t3tO4iz91Ox9"
      },
      "source": [
        "Lire le document : [https://pixees.fr/informatiquelycee/n_site/nsi_term_structDo_arbre.html](https://pixees.fr/informatiquelycee/n_site/nsi_term_structDo_arbre.html)"
      ]
    },
    {
      "cell_type": "markdown",
      "metadata": {
        "id": "PkrEEyG_RAh7"
      },
      "source": [
        "=> Activité 1 du NoteBook Exercice"
      ]
    },
    {
      "cell_type": "markdown",
      "metadata": {
        "id": "EXCQPj8x3ZGw"
      },
      "source": [
        "# Représentation d'un arbre binaire en Python"
      ]
    },
    {
      "cell_type": "markdown",
      "metadata": {
        "id": "eBNI8hRk3dT5"
      },
      "source": [
        "## avec des tuples"
      ]
    },
    {
      "cell_type": "markdown",
      "metadata": {
        "id": "9LbS8oBF3Qhd"
      },
      "source": [
        "On peut convenir de représenter un arbre binaire par un tuple \n",
        "* de longueur 0 pour un arbre vide\n",
        "* de longueur 3  sinon : \n",
        "`( sous_arbre_gauche, valeur, sous_arbre_droit)` "
      ]
    },
    {
      "cell_type": "code",
      "metadata": {
        "id": "Z0z08vLS1BU4",
        "colab": {
          "base_uri": "https://localhost:8080/"
        },
        "trusted": false,
        "outputId": "fd5b11fb-9ee4-4f83-d8b1-ba9d3c06db7e"
      },
      "source": [
        "# arbre vide (hauteur 0)\n",
        "() \n",
        "\n",
        "# arbre réduit à un noeud racine (hauteur 1)\n",
        "( (), \"racine\", () ) \n",
        "\n",
        "# arbre de hauteur 2 où la racine possède un fils gauche A et un fils droit B\n",
        "( ((),\"A\",()), \"racine\", (((),\"B\",())) )  "
      ],
      "execution_count": null,
      "outputs": [
        {
          "output_type": "execute_result",
          "data": {},
          "metadata": {
            "tags": []
          },
          "execution_count": 1
        }
      ]
    },
    {
      "cell_type": "markdown",
      "metadata": {
        "id": "c9gQmtcy4aPD"
      },
      "source": [
        "## programmation orientée objet"
      ]
    },
    {
      "cell_type": "markdown",
      "metadata": {
        "id": "WoS1alpm4dNq"
      },
      "source": [
        "Comme pour les listes chaînées, les files et les piles, on peut définir un arbre comme une structure récursive : \n",
        "* soit un arbre vide, qui sera représenté par `None`\n",
        "* soit un noeud : `Noeud()` qui possède une valeur, et deux attributs gauche et droit, qui seront eux-mêmes des arbres  : \n",
        "  * soit vide : `None`\n",
        "  * soit un nouveau noeud :  `Noeud()`"
      ]
    },
    {
      "cell_type": "code",
      "metadata": {
        "id": "V4rkE_4f4-Wm",
        "trusted": false
      },
      "source": [
        "class Noeud:\n",
        "    def __init__(self, g, v, d):\n",
        "        self.gauche = g\n",
        "        self.valeur = v        \n",
        "        self.droit  = d"
      ],
      "execution_count": null,
      "outputs": []
    },
    {
      "cell_type": "markdown",
      "metadata": {
        "id": "yKV6l1OH6LUe"
      },
      "source": [
        "Un arbre dont la racine possède un fils gauche A et un fils droit B peut alors s'écrire :"
      ]
    },
    {
      "cell_type": "code",
      "metadata": {
        "id": "5i5959iE6SJN",
        "trusted": false
      },
      "source": [
        "arbre1 = Noeud( Noeud(None,'A',None), 'racine', Noeud(None,'B',None) )"
      ],
      "execution_count": null,
      "outputs": []
    },
    {
      "cell_type": "markdown",
      "metadata": {
        "id": "grVyQ6wtQ3hI"
      },
      "source": [
        "=> Activité 2 du NoteBook Exercice"
      ]
    },
    {
      "cell_type": "markdown",
      "metadata": {
        "id": "n_D7Ly3QRd-P"
      },
      "source": [
        "=> Activité 3 du NoteBook Exercice"
      ]
    },
    {
      "cell_type": "markdown",
      "metadata": {
        "id": "uTjkQ5Ra87v4"
      },
      "source": [
        "# Taille d'un arbre binaire"
      ]
    },
    {
      "cell_type": "markdown",
      "metadata": {
        "id": "wlR2aA239FOo"
      },
      "source": [
        "La taille d'un arbre est le nombre de noeuds qu'il contient. \n",
        "\n",
        "On peut programmer simplement le calcul de la taille d'un arbre de manière récursive\n",
        "* la taille d'un arbre vide `None`  vaut 0\n",
        "* la taille d'un arbre non vide vaut : \n",
        "  * 1 , pour le noeud racine \n",
        "  * plus la taille du sous-arbre gauche de ce noeud racine\n",
        "  * plus la taille du sous-arbre droit de ce même noeud racine"
      ]
    },
    {
      "cell_type": "code",
      "metadata": {
        "id": "34idc1s3-xkj",
        "trusted": false
      },
      "source": [
        "def taille(arbre):\n",
        "    if arbre is None:\n",
        "        return 0\n",
        "    else:\n",
        "        return 1 + taille(arbre.gauche) + taille(arbre.droit)"
      ],
      "execution_count": null,
      "outputs": []
    },
    {
      "cell_type": "code",
      "metadata": {
        "id": "QWZiJJ6i_Efx",
        "trusted": false
      },
      "source": [
        "class Noeud:\n",
        "    def __init__(self, g, v, d):\n",
        "        self.gauche = g\n",
        "        self.valeur = v        \n",
        "        self.droit  = d\n",
        "\n",
        "arbre1 = Noeud( Noeud(None,'A',None), 'racine', Noeud(None,'B',None) )\n",
        "arbre2 = Noeud( Noeud(None,'A',None), 'racine', Noeud(None,'B',Noeud(None,'C', Noeud(None,'D',None))) )\n",
        "\n",
        "taille(arbre1)"
      ],
      "execution_count": null,
      "outputs": []
    },
    {
      "cell_type": "code",
      "metadata": {
        "id": "EdoTWksL_J56",
        "trusted": false
      },
      "source": [
        "taille(arbre2)"
      ],
      "execution_count": null,
      "outputs": []
    },
    {
      "cell_type": "markdown",
      "metadata": {
        "id": "kBJdc9xD_PeS"
      },
      "source": [
        "# Hauteur d'un arbre binaire"
      ]
    },
    {
      "cell_type": "markdown",
      "metadata": {
        "id": "RrQWqeAP_SAq"
      },
      "source": [
        "La hauteur d'un arbre est le plus grand nombre de noeuds rencontrés en descendant de la racine jusqu'à une feuille (ou à un sous-arbre vide).\n",
        "\n",
        "Cette notion est simple à définir de manière récursive : \n",
        "* la hauteur d'un arbre vide vaut 0,\n",
        "* la hauteur d'un arbre non vide vaut :\n",
        "  * 1 (pour la racine)\n",
        "  * plus la plus grande hauteur des sous-arbres gauche et droit\n",
        "  "
      ]
    },
    {
      "cell_type": "code",
      "metadata": {
        "id": "zDFfVpRx_OwL",
        "trusted": false
      },
      "source": [
        "def hauteur(arbre):\n",
        "    if arbre is None : \n",
        "        return 0\n",
        "    else : return 1 + max(hauteur(arbre.gauche), hauteur(arbre.droit))"
      ],
      "execution_count": null,
      "outputs": []
    },
    {
      "cell_type": "code",
      "metadata": {
        "id": "8aha-tkbAJc_",
        "trusted": false
      },
      "source": [
        "class Noeud:\n",
        "    def __init__(self, g, v, d):\n",
        "        self.gauche = g\n",
        "        self.valeur = v        \n",
        "        self.droit  = d\n",
        "\n",
        "arbre1 = Noeud( Noeud(None,'A',None), 'racine', Noeud(None,'B',None) )\n",
        "arbre2 = Noeud( Noeud(None,'A',None), 'racine', Noeud(None,'B',Noeud(None,'C', Noeud(None,'D',None))) )\n",
        "\n",
        "hauteur(arbre1)"
      ],
      "execution_count": null,
      "outputs": []
    },
    {
      "cell_type": "code",
      "metadata": {
        "id": "lVTikgqEAL1g",
        "trusted": false
      },
      "source": [
        "hauteur(arbre2)"
      ],
      "execution_count": null,
      "outputs": []
    },
    {
      "cell_type": "markdown",
      "metadata": {
        "id": "KDWZRqHFH58Q"
      },
      "source": [
        "**Remarque** : la fonction taille et la fonction hauteur explorent tous les noeuds de l'arbre. \n",
        "\n",
        "**PROPRIÉTÉ** : Leur **complexité** est **linéaire** en fonction du **nombre `n` de noeuds** de l'arbre: notation **O(`n`)**."
      ]
    },
    {
      "cell_type": "markdown",
      "metadata": {
        "id": "E9d_k81WEWG3"
      },
      "source": [
        "# Affichage des noeuds d'un arbre"
      ]
    },
    {
      "cell_type": "markdown",
      "metadata": {
        "id": "9WCAFE649RHt"
      },
      "source": [
        "## Parcours \"en profondeur\""
      ]
    },
    {
      "cell_type": "markdown",
      "metadata": {
        "id": "KWnF0_4MlGqP"
      },
      "source": [
        "### Parcours infixe"
      ]
    },
    {
      "cell_type": "code",
      "metadata": {
        "id": "O5JXPMnQEVsK",
        "trusted": true
      },
      "source": [
        "def parcours_infixe(arbre):\n",
        "    '''affiche le contenu d'un arbre :\n",
        "    - d'abord le sous-arbre gauche, \n",
        "    - puis la racine, \n",
        "    - puis le sous-arbre droit'''\n",
        "    if arbre is not None:\n",
        "        parcours_infixe(arbre.gauche)\n",
        "        print(arbre.valeur)\n",
        "        parcours_infixe(arbre.droit)\n"
      ],
      "execution_count": null,
      "outputs": []
    },
    {
      "cell_type": "code",
      "metadata": {
        "id": "jVAq9Z8tOueA",
        "trusted": true,
        "outputId": "16651c47-c9e7-4332-d433-2ec4ffdbf6a7"
      },
      "source": [
        "class Noeud:\n",
        "    def __init__(self, g, v, d):\n",
        "        self.gauche = g\n",
        "        self.valeur = v        \n",
        "        self.droit  = d\n",
        "\n",
        "parcours_infixe(Noeud( Noeud(None,'A',None), 'racine', Noeud(None,'B',None) ))"
      ],
      "execution_count": null,
      "outputs": [
        {
          "output_type": "stream",
          "text": "A\nracine\nB\n",
          "name": "stdout"
        }
      ]
    },
    {
      "cell_type": "code",
      "metadata": {
        "id": "xGr0OSLAWVrf",
        "trusted": true,
        "outputId": "b2f0d678-3f46-4c33-ee99-cacf7ef30a53"
      },
      "source": [
        "parcours_infixe(Noeud( Noeud(None,'A',None), 'racine', Noeud(None,'B',Noeud(None,'C', Noeud(None,'D',None))) ))"
      ],
      "execution_count": null,
      "outputs": [
        {
          "output_type": "stream",
          "text": "A\nracine\nB\nC\nD\n",
          "name": "stdout"
        }
      ]
    },
    {
      "cell_type": "markdown",
      "metadata": {
        "id": "YcbRYyRmmh-j"
      },
      "source": [
        "#### EXERCICE (infixe)\n",
        "\n",
        "Donner cinq arbres binaires de taille 3 dont l'affichage avec la fonction `parcours_infixe` ci-dessus produira : \n",
        "```\n",
        "1\n",
        "2\n",
        "3\n",
        "```\n"
      ]
    },
    {
      "cell_type": "markdown",
      "metadata": {
        "id": "tBTIHnjJlCbM"
      },
      "source": [
        "#### avec indentation"
      ]
    },
    {
      "cell_type": "code",
      "metadata": {
        "id": "hdTLzoI8Qm6I",
        "trusted": true,
        "outputId": "4e9f686f-775f-41b7-bd60-086b9daf4ad8"
      },
      "source": [
        "def parcours_infixe_indent(arbre,n=0):\n",
        "    '''affiche le contenu d'un arbre :\n",
        "    - d'abord le sous-arbre droit, \n",
        "    - puis la racine, \n",
        "    - puis le sous-arbre gauche'''\n",
        "    if arbre is not None:\n",
        "        parcours_infixe_indent(arbre.droit,n+1)\n",
        "        print('    '*n+'-', arbre.valeur)\n",
        "        parcours_infixe_indent(arbre.gauche,n+1)\n",
        "\n",
        "parcours_infixe_indent(Noeud( Noeud(None,'A',None), 'racine', Noeud(None,'B',None) ))\n",
        "print('\\n------------------\\n')\n",
        "parcours_infixe_indent(Noeud(Noeud(Noeud(None,'Ga',None),'A',Noeud(None,'Da',None)), 'R', Noeud(Noeud(None,'Gb',None),'B',Noeud(None,'Db',None))))"
      ],
      "execution_count": null,
      "outputs": [
        {
          "output_type": "stream",
          "text": "    - B\n- racine\n    - A\n\n------------------\n\n        - Db\n    - B\n        - Gb\n- R\n        - Da\n    - A\n        - Ga\n",
          "name": "stdout"
        }
      ]
    },
    {
      "cell_type": "markdown",
      "metadata": {
        "id": "UtorKt9Mk97i"
      },
      "source": [
        "### Parcours préfixe"
      ]
    },
    {
      "cell_type": "code",
      "metadata": {
        "id": "ULHedreFSMzA",
        "trusted": true,
        "outputId": "351159ca-89a5-4947-d829-fad071f5fdb1"
      },
      "source": [
        "def parcours_prefixe(arbre):\n",
        "    '''affiche le contenu d'un arbre :\n",
        "    - la racine,\n",
        "    - puis le sous-arbre droit, \n",
        "    - puis le sous-arbre gauche'''\n",
        "    if arbre is not None:\n",
        "        print(arbre.valeur)\n",
        "        parcours_prefixe(arbre.droit)\n",
        "        parcours_prefixe(arbre.gauche)\n",
        "\n",
        "parcours_prefixe(Noeud(Noeud(Noeud(None,'Ga',None),'A',Noeud(None,'Da',None)), 'R', Noeud(Noeud(None,'Gb',None),'B',Noeud(None,'Db',None))))"
      ],
      "execution_count": null,
      "outputs": [
        {
          "output_type": "stream",
          "text": "R\nB\nDb\nGb\nA\nDa\nGa\n",
          "name": "stdout"
        }
      ]
    },
    {
      "cell_type": "markdown",
      "metadata": {
        "id": "a9x_JnHjnM9G"
      },
      "source": [
        "#### EXERCICE (préfixe)\n",
        "\n",
        "Donner tous les arbres binaires de taille 3 dont l'affichage avec la fonction `parcours_prefixe` ci-dessus produira : \n",
        "```\n",
        "1\n",
        "2\n",
        "3\n",
        "```\n"
      ]
    },
    {
      "cell_type": "markdown",
      "metadata": {
        "id": "jQFSLPc7k67K"
      },
      "source": [
        "#### avec indentation"
      ]
    },
    {
      "cell_type": "code",
      "metadata": {
        "id": "qsPxhIqckgdT",
        "colab": {
          "base_uri": "https://localhost:8080/"
        },
        "trusted": true,
        "outputId": "c5dd16b0-3179-4a31-c984-a4270fee7f77"
      },
      "source": [
        "def parcours_prefixe_indent(arbre,n=0):\n",
        "    '''affiche le contenu d'un arbre :\n",
        "    - la racine,\n",
        "    - puis le sous-arbre droit, \n",
        "    - puis le sous-arbre gauche'''\n",
        "    if arbre is not None:\n",
        "        print('    '*n+'-', arbre.valeur)\n",
        "        parcours_prefixe_indent(arbre.droit,n+1)\n",
        "        parcours_prefixe_indent(arbre.gauche,n+1)\n",
        "\n",
        "\n",
        "\n",
        "parcours_prefixe_indent(Noeud(Noeud(Noeud(None,'Ga',None),'A',Noeud(None,'Da',None)), 'R', Noeud(Noeud(None,'Gb',None),'B',Noeud(None,'Db',None))))"
      ],
      "execution_count": null,
      "outputs": [
        {
          "output_type": "stream",
          "text": "- R\n    - B\n        - Db\n        - Gb\n    - A\n        - Da\n        - Ga\n",
          "name": "stdout"
        }
      ]
    },
    {
      "cell_type": "markdown",
      "metadata": {
        "id": "2ATBFmDtk4lM"
      },
      "source": [
        "### Parcours suffixe"
      ]
    },
    {
      "cell_type": "code",
      "metadata": {
        "id": "UyFzMvE78Txc",
        "trusted": true,
        "outputId": "9758e363-011a-45c1-9ec4-9336919d02e5"
      },
      "source": [
        "def parcours_suffixe(arbre):\n",
        "    '''affiche le contenu d'un arbre :\n",
        "    - le sous-arbre droit, \n",
        "    - puis le sous-arbre gauche\n",
        "    - puis la racine,'''\n",
        "    if arbre is not None:\n",
        "        parcours_suffixe(arbre.droit)\n",
        "        parcours_suffixe(arbre.gauche)\n",
        "        print(arbre.valeur)\n",
        "\n",
        "\n",
        "\n",
        "parcours_suffixe(Noeud(Noeud(Noeud(None,'Ga',None),'A',Noeud(None,'Da',None)), 'R', Noeud(Noeud(None,'Gb',None),'B',Noeud(None,'Db',None))))"
      ],
      "execution_count": null,
      "outputs": [
        {
          "output_type": "stream",
          "text": "Db\nGb\nB\nDa\nGa\nA\nR\n",
          "name": "stdout"
        }
      ]
    },
    {
      "cell_type": "markdown",
      "metadata": {
        "id": "TG4ZK0UOnjDe"
      },
      "source": [
        "#### EXERCICE (suffixe)\n",
        "\n",
        "Donner tous les arbres binaires de taille 3 dont l'affichage avec la fonction `parcours_suffixe` ci-dessus produira : \n",
        "```\n",
        "1\n",
        "2\n",
        "3\n",
        "```\n"
      ]
    },
    {
      "cell_type": "markdown",
      "metadata": {
        "id": "mwuaRiHKkusV"
      },
      "source": [
        "#### avec indentation"
      ]
    },
    {
      "cell_type": "code",
      "metadata": {
        "id": "CYdjqW1GkqMa",
        "colab": {
          "base_uri": "https://localhost:8080/"
        },
        "trusted": true,
        "outputId": "48a08ca3-5624-4754-d847-0c1bfd5edea6"
      },
      "source": [
        "def parcours_suffixe_indent(arbre,n=0):\n",
        "    '''affiche le contenu d'un arbre :\n",
        "    - la racine,\n",
        "    - puis le sous-arbre droit, \n",
        "    - puis le sous-arbre gauche'''\n",
        "    if arbre is not None:\n",
        "        parcours_suffixe_indent(arbre.droit,n+1)\n",
        "        parcours_suffixe_indent(arbre.gauche,n+1)\n",
        "        print('    '*n+'-', arbre.valeur)\n",
        "\n",
        "\n",
        "\n",
        "parcours_suffixe_indent(Noeud(Noeud(Noeud(None,'Ga',None),'A',Noeud(None,'Da',None)), 'R', Noeud(Noeud(None,'Gb',None),'B',Noeud(None,'Db',None))))"
      ],
      "execution_count": null,
      "outputs": [
        {
          "output_type": "stream",
          "text": "        - Db\n        - Gb\n    - B\n        - Da\n        - Ga\n    - A\n- R\n",
          "name": "stdout"
        }
      ]
    },
    {
      "cell_type": "markdown",
      "metadata": {
        "id": "qr7xRmOc9VXo"
      },
      "source": [
        "## Parcours \"en largeur\""
      ]
    },
    {
      "cell_type": "markdown",
      "metadata": {
        "id": "EBT4ES_R-dUL"
      },
      "source": [
        "L'idée est de parcourir les sommets, par ordre de profondeur\n",
        "* d'abord la racine = profondeur 1\n",
        "* puis les sommets de profondeur 2\n",
        "* et ainsi de suite...\n",
        "\n",
        "Autant le passage de la racine à la profondeur 2 est simple (il suffit d'explorer les sous-arbres gauche et droit), autant le passage d'une profondeur n>1 à n+1 peut s'avérer complexe.\n",
        "\n",
        "Plutôt que de démarrer à chaque fois depuis la racine, on peut stocker dans une **file** l'ensemble des noeuds de profondeur n, pour explorer plus facilement ceux de profondeur n+1 "
      ]
    },
    {
      "cell_type": "markdown",
      "metadata": {
        "id": "ZaQWR8uqCQKN"
      },
      "source": [
        "#### On utilise donc la classe File déjà étudiée"
      ]
    },
    {
      "cell_type": "code",
      "metadata": {
        "id": "6hce7x2ECTr1",
        "trusted": false
      },
      "source": [
        "class Maillon:\n",
        "    def __init__(self, val, suiv=None):\n",
        "        self.valeur = val\n",
        "        self.suivant = suiv\n",
        "\n",
        "    def __str__(self):\n",
        "        if self.suivant is None:\n",
        "            return str(self.valeur)\n",
        "        return str(self.valeur) + '-' + str(self.suivant)\n",
        "\n",
        "class File:\n",
        "    def __init__(self):\n",
        "        self.debut = None\n",
        "        self.fin = None \n",
        "\n",
        "    def est_vide(self):\n",
        "        return self.debut is None\n",
        "\n",
        "    def __str__(self):\n",
        "        return str(self.debut)\n",
        "\n",
        "    def ajouter(self, v):\n",
        "        m = Maillon(v)\n",
        "        # cas d'une file vide\n",
        "        if self.est_vide():\n",
        "            self.debut = m\n",
        "            self.fin = m\n",
        "        else: # cas d'une file avec au moins un maillon\n",
        "            self.fin.suivant = m\n",
        "            self.fin = m\n",
        "\n",
        "    def retirer(self):\n",
        "        if self.est_vide():\n",
        "            raise ValueError(\"impossible de retirer : la file est vide\")\n",
        "        premier_maillon = self.debut\n",
        "        self.debut = premier_maillon.suivant\n",
        "        if self.debut is None:\n",
        "            self.fin = None\n",
        "        return premier_maillon.valeur\n",
        "\n"
      ],
      "execution_count": null,
      "outputs": []
    },
    {
      "cell_type": "markdown",
      "metadata": {
        "id": "S63ZPibZCVTK"
      },
      "source": [
        "#### on peut alors programmer la fonction de manière itérative :"
      ]
    },
    {
      "cell_type": "code",
      "metadata": {
        "id": "NtUrKqXF_UcX",
        "trusted": false
      },
      "source": [
        "def parcours_en_largeur(noeud):\n",
        "    file = File()\n",
        "    file.ajouter(noeud)\n",
        "    while not file.est_vide():\n",
        "        n = file.retirer()\n",
        "        if n is not None:\n",
        "            print(n.valeur)\n",
        "            file.ajouter(n.gauche)\n",
        "            file.ajouter(n.droit)\n",
        "\n",
        "parcours_en_largeur(Noeud(Noeud(Noeud(None,'Ga',None),'A',Noeud(None,'Da',None)), 'R', Noeud(Noeud(None,'Gb',None),'B',Noeud(None,'Db',None))))"
      ],
      "execution_count": null,
      "outputs": []
    }
  ]
}