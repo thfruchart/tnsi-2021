{
  "nbformat": 4,
  "nbformat_minor": 0,
  "metadata": {
    "colab": {
      "name": "Chap08_EXERCICES_Arbres_binaires.ipynb",
      "provenance": [],
      "collapsed_sections": [],
      "authorship_tag": "ABX9TyOhMSG9fYsFJUkpp/C3mfmD",
      "include_colab_link": true
    },
    "kernelspec": {
      "name": "python3",
      "display_name": "Python 3"
    }
  },
  "cells": [
    {
      "cell_type": "markdown",
      "metadata": {
        "id": "view-in-github",
        "colab_type": "text"
      },
      "source": [
        "<a href=\"https://colab.research.google.com/github/thfruchart/tnsi/blob/main/08/EXERCICES_Arbres_binaires.ipynb\" target=\"_parent\"><img src=\"https://colab.research.google.com/assets/colab-badge.svg\" alt=\"Open In Colab\"/></a>"
      ]
    },
    {
      "cell_type": "markdown",
      "metadata": {
        "id": "FauHAYhW1rOW"
      },
      "source": [
        "###Activité 1"
      ]
    },
    {
      "cell_type": "markdown",
      "metadata": {
        "id": "3Z0YfJb01t9l"
      },
      "source": [
        "Représenter graphiquement\n",
        "1. tous les arbres binaires comportant 3 noeuds\n",
        "2. tous les arbres binaires comportant 4 noeuds\n",
        "3. un arbre binaire de hauteur 3, comportant 7 noeuds\n",
        "4. un arbre binaire de hauteur 4, comportant 20 noeuds... \n"
      ]
    },
    {
      "cell_type": "markdown",
      "metadata": {
        "id": "2vEGpdFk7YXi"
      },
      "source": [
        "## Activité 2"
      ]
    },
    {
      "cell_type": "markdown",
      "metadata": {
        "id": "F43haUPv7aO7"
      },
      "source": [
        "Représenter graphiquement les arbres obtenus avec les codes suivants :"
      ]
    },
    {
      "cell_type": "code",
      "metadata": {
        "id": "muit29397f00"
      },
      "source": [
        "class Noeud:\n",
        "    def __init__(self, g, v, d):\n",
        "        self.gauche = g\n",
        "        self.valeur = v        \n",
        "        self.droit  = d\n",
        "\n",
        "arbre1 = Noeud( Noeud(None,'A',None), 'racine', Noeud(None,'B',None) )\n",
        "arbre1.gauche.droit = Noeud(None,'C',None)"
      ],
      "execution_count": null,
      "outputs": []
    },
    {
      "cell_type": "markdown",
      "metadata": {
        "id": "HMTSxhg08ibF"
      },
      "source": [
        "[visualiser sur PythonTutor](http://www.pythontutor.com/visualize.html#code=class%20Noeud%3A%0A%20%20%20%20def%20__init__%28self,%20g,%20v,%20d%29%3A%0A%20%20%20%20%20%20%20%20self.gauche%20%3D%20g%0A%20%20%20%20%20%20%20%20self.valeur%20%3D%20v%20%20%20%20%20%20%20%20%0A%20%20%20%20%20%20%20%20self.droit%20%20%3D%20d%0A%0Aarbre1%20%3D%20Noeud%28%20Noeud%28None,'A',None%29,%20'racine',%20Noeud%28None,'B',None%29%20%29%0Aarbre1.gauche.droit%20%3D%20Noeud%28None,'C',None%29&cumulative=false&curInstr=23&heapPrimitives=nevernest&mode=display&origin=opt-frontend.js&py=3&rawInputLstJSON=%5B%5D&textReferences=false)"
      ]
    },
    {
      "cell_type": "code",
      "metadata": {
        "id": "XvNCUUNa7qQa"
      },
      "source": [
        "arbre2 = Noeud( Noeud(None,'A',None), 'racine', Noeud(None,'B',None) )\n",
        "arbre2.droit.gauche = Noeud(None,'C', Noeud(None,'D',None))"
      ],
      "execution_count": null,
      "outputs": []
    },
    {
      "cell_type": "markdown",
      "metadata": {
        "id": "lgg_3n3x8p1_"
      },
      "source": [
        "[visualiser sur PythonTutor](http://www.pythontutor.com/visualize.html#code=class%20Noeud%3A%0A%20%20%20%20def%20__init__%28self,%20g,%20v,%20d%29%3A%0A%20%20%20%20%20%20%20%20self.gauche%20%3D%20g%0A%20%20%20%20%20%20%20%20self.valeur%20%3D%20v%20%20%20%20%20%20%20%20%0A%20%20%20%20%20%20%20%20self.droit%20%20%3D%20d%0A%0Aarbre2%20%3D%20Noeud%28%20Noeud%28None,'A',None%29,%20'racine',%20Noeud%28None,'B',None%29%20%29%0Aarbre2.droit.gauche%20%3D%20Noeud%28None,'C',%20Noeud%28None,'D',None%29%29&cumulative=false&curInstr=28&heapPrimitives=nevernest&mode=display&origin=opt-frontend.js&py=3&rawInputLstJSON=%5B%5D&textReferences=false)"
      ]
    },
    {
      "cell_type": "markdown",
      "metadata": {
        "id": "_v7UipktRrJ7"
      },
      "source": [
        "# Activité 3"
      ]
    },
    {
      "cell_type": "markdown",
      "metadata": {
        "id": "VaeXmsfuRtHx"
      },
      "source": [
        "Ecrire une fonction `nombre_de_noeuds(arbre)` qui prend en argument un objet de type `Noeud` et qui renvoie le **nombre de noeuds** contenus dans `arbre` (à gauche ou à droite)!\n",
        "\n",
        "Exemple  :  \n",
        "\n",
        "    >>> nombre_de_noeuds(Noeud( Noeud(None,'A',None), 'racine', Noeud(None,'B',None) ))\n",
        "    3\n",
        "    >>> nombre_de_noeuds(Noeud(None,'A',None) )\n",
        "    1\n"
      ]
    },
    {
      "cell_type": "code",
      "metadata": {
        "id": "TP9zpSdhTnS1"
      },
      "source": [
        "class Noeud:\n",
        "    def __init__(self, g, v, d):\n",
        "        self.gauche = g\n",
        "        self.valeur = v        \n",
        "        self.droit  = d\n",
        "\n",
        "def nombre_de_noeuds(arbre):\n",
        "    return"
      ],
      "execution_count": null,
      "outputs": []
    },
    {
      "cell_type": "markdown",
      "metadata": {
        "id": "A2LCqMOGTPIR"
      },
      "source": [
        "# Activité 4"
      ]
    },
    {
      "cell_type": "markdown",
      "metadata": {
        "id": "Aft2pX28TRSq"
      },
      "source": [
        "1. Ecrire une fonction `affiche(a)` qui prend en argument un objet de type `Noeud` et qui affiche toutes la valeurs des noeuds de l'arbre.\n",
        "2. Proposer plusieures stratégies différentes pour traiter la question précédente."
      ]
    },
    {
      "cell_type": "code",
      "metadata": {
        "id": "XGm4p5wiTvPY"
      },
      "source": [
        "class Noeud:\n",
        "    def __init__(self, g, v, d):\n",
        "        self.gauche = g\n",
        "        self.valeur = v        \n",
        "        self.droit  = d\n",
        "\n",
        "def affiche(a):\n",
        "    return"
      ],
      "execution_count": null,
      "outputs": []
    },
    {
      "cell_type": "markdown",
      "metadata": {
        "id": "Vb2rlvmZoVyv"
      },
      "source": [
        "## Exercice 1"
      ]
    },
    {
      "cell_type": "markdown",
      "metadata": {
        "id": "kdkVjgDysJQD"
      },
      "source": [
        "Ecrire une fonction `identiques(a1, a2)` qui permet de tester si les deux objets `a1` et `a2`de type `Noeud`définissent des arbres identiques. "
      ]
    },
    {
      "cell_type": "code",
      "metadata": {
        "id": "9r-u2u52Uq_v"
      },
      "source": [
        "class Noeud:\n",
        "    def __init__(self, g, v, d):\n",
        "        self.gauche = g\n",
        "        self.valeur = v        \n",
        "        self.droit  = d\n",
        "\n",
        "def identiques(a1, a2):\n",
        "    \"\"\"a1 et a2 sont de type Noeud\n",
        "    renvoie True si a1 et a2 définissent des arbres binaires identiques\n",
        "    renvoie False sinon\"\"\"\n",
        "    \n",
        "    return"
      ],
      "execution_count": null,
      "outputs": []
    }
  ]
}