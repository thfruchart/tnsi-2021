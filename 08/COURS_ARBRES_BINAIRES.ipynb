{
  "cells": [
    {
      "cell_type": "markdown",
      "metadata": {
        "id": "view-in-github",
        "colab_type": "text"
      },
      "source": [
        "<a href=\"https://colab.research.google.com/github/thfruchart/tnsi/blob/main/08/COURS_ARBRES_BINAIRES.ipynb\" target=\"_parent\"><img src=\"https://colab.research.google.com/assets/colab-badge.svg\" alt=\"Open In Colab\"/></a>"
      ]
    },
    {
      "metadata": {
        "id": "inglW8Sj1H5B"
      },
      "cell_type": "markdown",
      "source": [
        "# Arborescence, arbre binaire"
      ]
    },
    {
      "metadata": {
        "id": "t3tO4iz91Ox9"
      },
      "cell_type": "markdown",
      "source": [
        "Lire le document : [https://pixees.fr/informatiquelycee/n_site/nsi_term_structDo_arbre.html](https://pixees.fr/informatiquelycee/n_site/nsi_term_structDo_arbre.html)"
      ]
    },
    {
      "metadata": {
        "id": "PkrEEyG_RAh7"
      },
      "cell_type": "markdown",
      "source": [
        "=> Activité 1 du NoteBook Exercice"
      ]
    },
    {
      "metadata": {
        "id": "EXCQPj8x3ZGw"
      },
      "cell_type": "markdown",
      "source": [
        "# Représentation d'un arbre binaire en Python"
      ]
    },
    {
      "metadata": {
        "id": "eBNI8hRk3dT5"
      },
      "cell_type": "markdown",
      "source": [
        "## avec des tuples"
      ]
    },
    {
      "metadata": {
        "id": "9LbS8oBF3Qhd"
      },
      "cell_type": "markdown",
      "source": [
        "On peut convenir de représenter un arbre binaire par un tuple \n",
        "* de longueur 0 pour un arbre vide\n",
        "* de longueur 3  sinon : \n",
        "`( sous_arbre_gauche, valeur, sous_arbre_droit)` "
      ]
    },
    {
      "metadata": {
        "id": "Z0z08vLS1BU4",
        "colab": {
          "base_uri": "https://localhost:8080/"
        },
        "outputId": "1b0e655f-d7b9-425d-8cca-dfbe9e39c4c6",
        "trusted": true
      },
      "cell_type": "code",
      "source": [
        "# arbre vide (hauteur 0)\n",
        "() \n",
        "\n",
        "# arbre réduit à un noeud racine (hauteur 1)\n",
        "( (), \"racine\", () ) \n",
        "\n",
        "# arbre de hauteur 2 où la racine possède un fils gauche A et un fils droit B\n",
        "( ((),\"A\",()), \"racine\", (((),\"B\",())) )  "
      ],
      "execution_count": 5,
      "outputs": [
        {
          "output_type": "execute_result",
          "data": {
            "text/plain": [
              "(((), 'A', ()), 'racine', ((), 'B', ()))"
            ]
          },
          "metadata": {},
          "execution_count": 5
        }
      ]
    },
    {
      "metadata": {
        "id": "c9gQmtcy4aPD"
      },
      "cell_type": "markdown",
      "source": [
        "## programmation orientée objet"
      ]
    },
    {
      "metadata": {
        "id": "WoS1alpm4dNq"
      },
      "cell_type": "markdown",
      "source": [
        "Comme pour les listes chaînées, les files et les piles, on peut définir un arbre comme une structure récursive : \n",
        "* soit un arbre vide, qui sera représenté par `None`\n",
        "* soit un noeud : `Noeud()` qui possède une valeur, et deux attributs gauche et droit, qui seront eux-mêmes des arbres  : \n",
        "  * soit vide : `None`\n",
        "  * soit un nouveau noeud :  `Noeud()`"
      ]
    },
    {
      "metadata": {
        "id": "V4rkE_4f4-Wm",
        "trusted": true
      },
      "cell_type": "code",
      "source": [
        "class Noeud:\n",
        "    def __init__(self, g, v, d):\n",
        "        self.gauche = g\n",
        "        self.valeur = v        \n",
        "        self.droit  = d"
      ],
      "execution_count": 6,
      "outputs": []
    },
    {
      "metadata": {
        "id": "yKV6l1OH6LUe"
      },
      "cell_type": "markdown",
      "source": [
        "Un arbre dont la racine possède un fils gauche A et un fils droit B peut alors s'écrire :"
      ]
    },
    {
      "metadata": {
        "id": "5i5959iE6SJN",
        "trusted": true
      },
      "cell_type": "code",
      "source": [
        "arbre1 = Noeud( Noeud(None,'A',None), 'racine', Noeud(None,'B',None) )"
      ],
      "execution_count": 7,
      "outputs": []
    },
    {
      "metadata": {
        "id": "grVyQ6wtQ3hI"
      },
      "cell_type": "markdown",
      "source": [
        "=> Activité 2 du NoteBook Exercice"
      ]
    },
    {
      "metadata": {
        "id": "n_D7Ly3QRd-P"
      },
      "cell_type": "markdown",
      "source": [
        "=> Activité 3 du NoteBook Exercice"
      ]
    },
    {
      "metadata": {
        "id": "uTjkQ5Ra87v4"
      },
      "cell_type": "markdown",
      "source": [
        "# Taille d'un arbre binaire"
      ]
    },
    {
      "metadata": {
        "id": "wlR2aA239FOo"
      },
      "cell_type": "markdown",
      "source": [
        "La taille d'un arbre est le nombre de noeuds qu'il contient. \n",
        "\n",
        "On peut programmer simplement le calcul de la taille d'un arbre de manière récursive\n",
        "* la taille d'un arbre vide `None`  vaut 0\n",
        "* la taille d'un arbre non vide vaut : \n",
        "  * 1 , pour le noeud racine \n",
        "  * plus la taille du sous-arbre gauche de ce noeud racine\n",
        "  * plus la taille du sous-arbre droit de ce même noeud racine"
      ]
    },
    {
      "metadata": {
        "id": "34idc1s3-xkj",
        "trusted": true
      },
      "cell_type": "code",
      "source": [
        "def taille(arbre):\n",
        "    if arbre is None:\n",
        "        return 0\n",
        "    else:\n",
        "        return 1 + taille(arbre.gauche) + taille(arbre.droit)"
      ],
      "execution_count": 8,
      "outputs": []
    },
    {
      "metadata": {
        "id": "QWZiJJ6i_Efx",
        "trusted": true,
        "outputId": "da2b06e1-4e01-4f47-b177-b8c3d7cac036",
        "colab": {
          "base_uri": "https://localhost:8080/"
        }
      },
      "cell_type": "code",
      "source": [
        "class Noeud:\n",
        "    def __init__(self, g, v, d):\n",
        "        self.gauche = g\n",
        "        self.valeur = v        \n",
        "        self.droit  = d\n",
        "\n",
        "arbre1 = Noeud( Noeud(None,'A',None), 'racine', Noeud(None,'B',None) )\n",
        "arbre2 = Noeud( Noeud(None,'A',None), 'racine', Noeud(None,'B',Noeud(None,'C', Noeud(None,'D',None))) )\n",
        "\n",
        "taille(arbre1)"
      ],
      "execution_count": 9,
      "outputs": [
        {
          "output_type": "execute_result",
          "data": {
            "text/plain": [
              "3"
            ]
          },
          "metadata": {},
          "execution_count": 9
        }
      ]
    },
    {
      "metadata": {
        "id": "EdoTWksL_J56",
        "trusted": true,
        "outputId": "7e50b137-d225-4a51-9192-4381bb03d95d",
        "colab": {
          "base_uri": "https://localhost:8080/"
        }
      },
      "cell_type": "code",
      "source": [
        "taille(arbre2)"
      ],
      "execution_count": 10,
      "outputs": [
        {
          "output_type": "execute_result",
          "data": {
            "text/plain": [
              "5"
            ]
          },
          "metadata": {},
          "execution_count": 10
        }
      ]
    },
    {
      "metadata": {
        "id": "kBJdc9xD_PeS"
      },
      "cell_type": "markdown",
      "source": [
        "# Hauteur d'un arbre binaire"
      ]
    },
    {
      "metadata": {
        "id": "RrQWqeAP_SAq"
      },
      "cell_type": "markdown",
      "source": [
        "La hauteur d'un arbre est le plus grand nombre de noeuds rencontrés en descendant de la racine jusqu'à une feuille (ou à un sous-arbre vide).\n",
        "\n",
        "Cette notion est simple à définir de manière récursive : \n",
        "* la hauteur d'un arbre vide vaut 0,\n",
        "* la hauteur d'un arbre non vide vaut :\n",
        "  * 1 (pour la racine)\n",
        "  * plus la plus grande hauteur des sous-arbres gauche et droit\n",
        "  "
      ]
    },
    {
      "metadata": {
        "id": "zDFfVpRx_OwL",
        "trusted": true
      },
      "cell_type": "code",
      "source": [
        "def hauteur(arbre):\n",
        "    if arbre is None : \n",
        "        return 0\n",
        "    else : return 1 + max(hauteur(arbre.gauche), hauteur(arbre.droit))"
      ],
      "execution_count": 11,
      "outputs": []
    },
    {
      "metadata": {
        "id": "8aha-tkbAJc_",
        "trusted": true,
        "outputId": "142c895b-ce42-4b1b-db0a-65e87c34426d",
        "colab": {
          "base_uri": "https://localhost:8080/"
        }
      },
      "cell_type": "code",
      "source": [
        "class Noeud:\n",
        "    def __init__(self, g, v, d):\n",
        "        self.gauche = g\n",
        "        self.valeur = v        \n",
        "        self.droit  = d\n",
        "\n",
        "arbre1 = Noeud( Noeud(None,'A',None), 'racine', Noeud(None,'B',None) )\n",
        "arbre2 = Noeud( Noeud(None,'A',None), 'racine', Noeud(None,'B',Noeud(None,'C', Noeud(None,'D',None))) )\n",
        "\n",
        "hauteur(arbre1)"
      ],
      "execution_count": 12,
      "outputs": [
        {
          "output_type": "execute_result",
          "data": {
            "text/plain": [
              "2"
            ]
          },
          "metadata": {},
          "execution_count": 12
        }
      ]
    },
    {
      "metadata": {
        "id": "lVTikgqEAL1g",
        "trusted": true,
        "outputId": "09276cd9-6af9-449b-8d83-6e30fcebd7c3",
        "colab": {
          "base_uri": "https://localhost:8080/"
        }
      },
      "cell_type": "code",
      "source": [
        "hauteur(arbre2)"
      ],
      "execution_count": 13,
      "outputs": [
        {
          "output_type": "execute_result",
          "data": {
            "text/plain": [
              "4"
            ]
          },
          "metadata": {},
          "execution_count": 13
        }
      ]
    },
    {
      "metadata": {
        "id": "KDWZRqHFH58Q"
      },
      "cell_type": "markdown",
      "source": [
        "**Remarque** : la fonction taille et la fonction hauteur explorent tous les noeuds de l'arbre. \n",
        "\n",
        "**PROPRIÉTÉ** : Leur **complexité** est **linéaire** en fonction du **nombre `n` de noeuds** de l'arbre: notation **O(`n`)**."
      ]
    },
    {
      "metadata": {
        "id": "E9d_k81WEWG3"
      },
      "cell_type": "markdown",
      "source": [
        "# Affichage des noeuds d'un arbre"
      ]
    },
    {
      "metadata": {
        "id": "9WCAFE649RHt"
      },
      "cell_type": "markdown",
      "source": [
        "## Parcours \"en profondeur\""
      ]
    },
    {
      "metadata": {
        "id": "KWnF0_4MlGqP"
      },
      "cell_type": "markdown",
      "source": [
        "### Parcours infixe"
      ]
    },
    {
      "metadata": {
        "id": "O5JXPMnQEVsK",
        "trusted": true
      },
      "cell_type": "code",
      "source": [
        "def parcours_infixe(arbre):\n",
        "    '''affiche le contenu d'un arbre :\n",
        "    - d'abord le sous-arbre gauche, \n",
        "    - puis la racine, \n",
        "    - puis le sous-arbre droit'''\n",
        "    if arbre is not None:\n",
        "        parcours_infixe(arbre.gauche)\n",
        "        print(arbre.valeur)\n",
        "        parcours_infixe(arbre.droit)\n"
      ],
      "execution_count": 14,
      "outputs": []
    },
    {
      "metadata": {
        "id": "jVAq9Z8tOueA",
        "trusted": true,
        "outputId": "1ba9a99c-6da0-4081-e5eb-1b5f65f622b8",
        "colab": {
          "base_uri": "https://localhost:8080/"
        }
      },
      "cell_type": "code",
      "source": [
        "class Noeud:\n",
        "    def __init__(self, g, v, d):\n",
        "        self.gauche = g\n",
        "        self.valeur = v        \n",
        "        self.droit  = d\n",
        "\n",
        "parcours_infixe(Noeud( Noeud(None,'A',None), 'racine', Noeud(None,'B',None) ))"
      ],
      "execution_count": 15,
      "outputs": [
        {
          "output_type": "stream",
          "name": "stdout",
          "text": [
            "A\n",
            "racine\n",
            "B\n"
          ]
        }
      ]
    },
    {
      "metadata": {
        "id": "xGr0OSLAWVrf",
        "trusted": true,
        "outputId": "21ef5630-949b-4d40-dee4-4b966f5e7e48",
        "colab": {
          "base_uri": "https://localhost:8080/"
        }
      },
      "cell_type": "code",
      "source": [
        "parcours_infixe(Noeud( Noeud(None,'A',None), 'racine', Noeud(None,'B',Noeud(None,'C', Noeud(None,'D',None))) ))"
      ],
      "execution_count": 16,
      "outputs": [
        {
          "output_type": "stream",
          "name": "stdout",
          "text": [
            "A\n",
            "racine\n",
            "B\n",
            "C\n",
            "D\n"
          ]
        }
      ]
    },
    {
      "metadata": {
        "id": "YcbRYyRmmh-j"
      },
      "cell_type": "markdown",
      "source": [
        "#### EXERCICE (infixe)\n",
        "\n",
        "Donner cinq arbres binaires de taille 3 dont l'affichage avec la fonction `parcours_infixe` ci-dessus produira : \n",
        "```\n",
        "1\n",
        "2\n",
        "3\n",
        "```\n"
      ]
    },
    {
      "metadata": {
        "id": "tBTIHnjJlCbM"
      },
      "cell_type": "markdown",
      "source": [
        "#### avec indentation"
      ]
    },
    {
      "metadata": {
        "id": "hdTLzoI8Qm6I",
        "trusted": true,
        "outputId": "9f70aa80-7454-4962-9264-8763c732a1aa",
        "colab": {
          "base_uri": "https://localhost:8080/"
        }
      },
      "cell_type": "code",
      "source": [
        "def parcours_infixe_indent(arbre,n=0):\n",
        "    '''affiche le contenu d'un arbre :\n",
        "    - d'abord le sous-arbre droit, \n",
        "    - puis la racine, \n",
        "    - puis le sous-arbre gauche'''\n",
        "    if arbre is not None:\n",
        "        parcours_infixe_indent(arbre.droit,n+1)\n",
        "        print('    '*n+'-', arbre.valeur)\n",
        "        parcours_infixe_indent(arbre.gauche,n+1)\n",
        "\n",
        "parcours_infixe_indent(arbre1)\n",
        "print('\\n------------------\\n')\n",
        "parcours_infixe_indent(Noeud(Noeud(Noeud(None,'Ga',None),'A',Noeud(None,'Da',None)), 'R', Noeud(Noeud(None,'Gb',None),'B',Noeud(None,'Db',None))))"
      ],
      "execution_count": 17,
      "outputs": [
        {
          "output_type": "stream",
          "name": "stdout",
          "text": [
            "    - B\n",
            "- racine\n",
            "    - A\n",
            "\n",
            "------------------\n",
            "\n",
            "        - Db\n",
            "    - B\n",
            "        - Gb\n",
            "- R\n",
            "        - Da\n",
            "    - A\n",
            "        - Ga\n"
          ]
        }
      ]
    },
    {
      "metadata": {
        "id": "UtorKt9Mk97i"
      },
      "cell_type": "markdown",
      "source": [
        "### Parcours préfixe"
      ]
    },
    {
      "metadata": {
        "id": "ULHedreFSMzA",
        "trusted": true,
        "outputId": "066d8974-c31f-4940-a85e-8405111d584f",
        "colab": {
          "base_uri": "https://localhost:8080/"
        }
      },
      "cell_type": "code",
      "source": [
        "def parcours_prefixe(arbre):\n",
        "    '''affiche le contenu d'un arbre :\n",
        "    - la racine,\n",
        "    - puis le sous-arbre droit, \n",
        "    - puis le sous-arbre gauche'''\n",
        "    if arbre is not None:\n",
        "        print(arbre.valeur)\n",
        "        parcours_prefixe(arbre.droit)\n",
        "        parcours_prefixe(arbre.gauche)\n",
        "\n",
        "parcours_prefixe(Noeud(Noeud(Noeud(None,'Ga',None),'A',Noeud(None,'Da',None)), 'R', Noeud(Noeud(None,'Gb',None),'B',Noeud(None,'Db',None))))"
      ],
      "execution_count": 18,
      "outputs": [
        {
          "output_type": "stream",
          "name": "stdout",
          "text": [
            "R\n",
            "B\n",
            "Db\n",
            "Gb\n",
            "A\n",
            "Da\n",
            "Ga\n"
          ]
        }
      ]
    },
    {
      "metadata": {
        "id": "a9x_JnHjnM9G"
      },
      "cell_type": "markdown",
      "source": [
        "#### EXERCICE (préfixe)\n",
        "\n",
        "Donner tous les arbres binaires de taille 3 dont l'affichage avec la fonction `parcours_prefixe` ci-dessus produira : \n",
        "```\n",
        "1\n",
        "2\n",
        "3\n",
        "```\n"
      ]
    },
    {
      "metadata": {
        "id": "jQFSLPc7k67K"
      },
      "cell_type": "markdown",
      "source": [
        "#### avec indentation"
      ]
    },
    {
      "metadata": {
        "id": "qsPxhIqckgdT",
        "colab": {
          "base_uri": "https://localhost:8080/"
        },
        "outputId": "c2369c62-d4a5-42bb-959d-52b747ac1dce",
        "trusted": true
      },
      "cell_type": "code",
      "source": [
        "def parcours_prefixe_indent(arbre,n=0):\n",
        "    '''affiche le contenu d'un arbre :\n",
        "    - la racine,\n",
        "    - puis le sous-arbre droit, \n",
        "    - puis le sous-arbre gauche'''\n",
        "    if arbre is not None:\n",
        "        print('    '*n+'-', arbre.valeur)\n",
        "        parcours_prefixe_indent(arbre.droit,n+1)\n",
        "        parcours_prefixe_indent(arbre.gauche,n+1)\n",
        "\n",
        "\n",
        "\n",
        "parcours_prefixe_indent(Noeud(Noeud(Noeud(None,'Ga',None),'A',Noeud(None,'Da',None)), 'R', Noeud(Noeud(None,'Gb',None),'B',Noeud(None,'Db',None))))"
      ],
      "execution_count": 19,
      "outputs": [
        {
          "output_type": "stream",
          "name": "stdout",
          "text": [
            "- R\n",
            "    - B\n",
            "        - Db\n",
            "        - Gb\n",
            "    - A\n",
            "        - Da\n",
            "        - Ga\n"
          ]
        }
      ]
    },
    {
      "metadata": {
        "id": "2ATBFmDtk4lM"
      },
      "cell_type": "markdown",
      "source": [
        "### Parcours suffixe"
      ]
    },
    {
      "metadata": {
        "id": "UyFzMvE78Txc",
        "trusted": true,
        "outputId": "8f4e5986-7591-4376-93b8-27e73014d948",
        "colab": {
          "base_uri": "https://localhost:8080/"
        }
      },
      "cell_type": "code",
      "source": [
        "def parcours_suffixe(arbre):\n",
        "    '''affiche le contenu d'un arbre :\n",
        "    - le sous-arbre droit, \n",
        "    - puis le sous-arbre gauche\n",
        "    - puis la racine,'''\n",
        "    if arbre is not None:\n",
        "        parcours_suffixe(arbre.droit)\n",
        "        parcours_suffixe(arbre.gauche)\n",
        "        print(arbre.valeur)\n",
        "\n",
        "\n",
        "\n",
        "parcours_suffixe(Noeud(Noeud(Noeud(None,'Ga',None),'A',Noeud(None,'Da',None)), 'R', Noeud(Noeud(None,'Gb',None),'B',Noeud(None,'Db',None))))"
      ],
      "execution_count": 20,
      "outputs": [
        {
          "output_type": "stream",
          "name": "stdout",
          "text": [
            "Db\n",
            "Gb\n",
            "B\n",
            "Da\n",
            "Ga\n",
            "A\n",
            "R\n"
          ]
        }
      ]
    },
    {
      "metadata": {
        "id": "TG4ZK0UOnjDe"
      },
      "cell_type": "markdown",
      "source": [
        "#### EXERCICE (suffixe)\n",
        "\n",
        "Donner tous les arbres binaires de taille 3 dont l'affichage avec la fonction `parcours_suffixe` ci-dessus produira : \n",
        "```\n",
        "1\n",
        "2\n",
        "3\n",
        "```\n"
      ]
    },
    {
      "metadata": {
        "id": "mwuaRiHKkusV"
      },
      "cell_type": "markdown",
      "source": [
        "#### avec indentation"
      ]
    },
    {
      "metadata": {
        "id": "CYdjqW1GkqMa",
        "colab": {
          "base_uri": "https://localhost:8080/"
        },
        "outputId": "277e4282-3261-4ec4-9816-9b36ad23d908",
        "trusted": true
      },
      "cell_type": "code",
      "source": [
        "def parcours_suffixe_indent(arbre,n=0):\n",
        "    '''affiche le contenu d'un arbre :\n",
        "    - la racine,\n",
        "    - puis le sous-arbre droit, \n",
        "    - puis le sous-arbre gauche'''\n",
        "    if arbre is not None:\n",
        "        parcours_suffixe_indent(arbre.droit,n+1)\n",
        "        parcours_suffixe_indent(arbre.gauche,n+1)\n",
        "        print('    '*n+'-', arbre.valeur)\n",
        "\n",
        "\n",
        "\n",
        "parcours_suffixe_indent(Noeud(Noeud(Noeud(None,'Ga',None),'A',Noeud(None,'Da',None)), 'R', Noeud(Noeud(None,'Gb',None),'B',Noeud(None,'Db',None))))"
      ],
      "execution_count": 21,
      "outputs": [
        {
          "output_type": "stream",
          "name": "stdout",
          "text": [
            "        - Db\n",
            "        - Gb\n",
            "    - B\n",
            "        - Da\n",
            "        - Ga\n",
            "    - A\n",
            "- R\n"
          ]
        }
      ]
    },
    {
      "metadata": {
        "id": "qr7xRmOc9VXo"
      },
      "cell_type": "markdown",
      "source": [
        "## Parcours \"en largeur\""
      ]
    },
    {
      "metadata": {
        "id": "EBT4ES_R-dUL"
      },
      "cell_type": "markdown",
      "source": [
        "L'idée est de parcourir les sommets, par ordre de profondeur\n",
        "* d'abord la racine = profondeur 1\n",
        "* puis les sommets de profondeur 2\n",
        "* et ainsi de suite...\n",
        "\n",
        "Autant le passage de la racine à la profondeur 2 est simple (il suffit d'explorer les sous-arbres gauche et droit), autant le passage d'une profondeur n>1 à n+1 peut s'avérer complexe.\n",
        "\n",
        "Plutôt que de démarrer à chaque fois depuis la racine, on peut stocker dans une **file** l'ensemble des noeuds de profondeur n, pour explorer plus facilement ceux de profondeur n+1 "
      ]
    },
    {
      "metadata": {
        "id": "ZaQWR8uqCQKN"
      },
      "cell_type": "markdown",
      "source": [
        "#### On utilise donc la classe File déjà étudiée"
      ]
    },
    {
      "metadata": {
        "id": "6hce7x2ECTr1",
        "trusted": true
      },
      "cell_type": "code",
      "source": [
        "class Maillon:\n",
        "    def __init__(self, val, suiv=None):\n",
        "        self.valeur = val\n",
        "        self.suivant = suiv\n",
        "\n",
        "    def __str__(self):\n",
        "        if self.suivant is None:\n",
        "            return str(self.valeur)\n",
        "        return str(self.valeur) + '-' + str(self.suivant)\n",
        "\n",
        "class File:\n",
        "    def __init__(self):\n",
        "        self.debut = None\n",
        "        self.fin = None \n",
        "\n",
        "    def est_vide(self):\n",
        "        return self.debut is None\n",
        "\n",
        "    def __str__(self):\n",
        "        return str(self.debut)\n",
        "\n",
        "    def ajouter(self, v):\n",
        "        m = Maillon(v)\n",
        "        # cas d'une file vide\n",
        "        if self.est_vide():\n",
        "            self.debut = m\n",
        "            self.fin = m\n",
        "        else: # cas d'une file avec au moins un maillon\n",
        "            self.fin.suivant = m\n",
        "            self.fin = m\n",
        "\n",
        "    def retirer(self):\n",
        "        if self.est_vide():\n",
        "            raise ValueError(\"impossible de retirer : la file est vide\")\n",
        "        premier_maillon = self.debut\n",
        "        self.debut = premier_maillon.suivant\n",
        "        if self.debut is None:\n",
        "            self.fin = None\n",
        "        return premier_maillon.valeur\n",
        "\n"
      ],
      "execution_count": 22,
      "outputs": []
    },
    {
      "metadata": {
        "id": "S63ZPibZCVTK"
      },
      "cell_type": "markdown",
      "source": [
        "#### on peut alors programmer la fonction de manière itérative :"
      ]
    },
    {
      "metadata": {
        "id": "NtUrKqXF_UcX",
        "trusted": true,
        "outputId": "60437752-39b5-47d7-ff26-26ce778b30d9",
        "colab": {
          "base_uri": "https://localhost:8080/"
        }
      },
      "cell_type": "code",
      "source": [
        "def parcours_en_largeur(noeud):\n",
        "    file = File()\n",
        "    file.ajouter(noeud)\n",
        "    while not file.est_vide():\n",
        "        n = file.retirer()\n",
        "        if n is not None:\n",
        "            print(n.valeur)\n",
        "            file.ajouter(n.gauche)\n",
        "            file.ajouter(n.droit)\n",
        "\n",
        "parcours_en_largeur(Noeud(Noeud(Noeud(None,'Ga',None),'A',Noeud(None,'Da',None)), 'R', Noeud(Noeud(None,'Gb',None),'B',Noeud(None,'Db',None))))"
      ],
      "execution_count": 23,
      "outputs": [
        {
          "output_type": "stream",
          "name": "stdout",
          "text": [
            "R\n",
            "A\n",
            "B\n",
            "Ga\n",
            "Da\n",
            "Gb\n",
            "Db\n"
          ]
        }
      ]
    }
  ],
  "metadata": {
    "colab": {
      "name": "Chap08_COURS_ARBRES_BINAIRES.ipynb",
      "provenance": [],
      "collapsed_sections": [
        "tBTIHnjJlCbM",
        "jQFSLPc7k67K",
        "mwuaRiHKkusV",
        "ZaQWR8uqCQKN"
      ],
      "include_colab_link": true
    },
    "kernelspec": {
      "name": "python3",
      "display_name": "Python 3"
    },
    "celltoolbar": "Slideshow"
  },
  "nbformat": 4,
  "nbformat_minor": 0
}