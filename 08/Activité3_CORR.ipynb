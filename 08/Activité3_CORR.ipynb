{
  "nbformat": 4,
  "nbformat_minor": 0,
  "metadata": {
    "colab": {
      "name": "08_Activité3_CORR.ipynb",
      "provenance": [],
      "authorship_tag": "ABX9TyMc1KrZjdhb360cpHSL0joX",
      "include_colab_link": true
    },
    "kernelspec": {
      "name": "python3",
      "display_name": "Python 3"
    },
    "language_info": {
      "name": "python"
    }
  },
  "cells": [
    {
      "cell_type": "markdown",
      "metadata": {
        "id": "view-in-github",
        "colab_type": "text"
      },
      "source": [
        "<a href=\"https://colab.research.google.com/github/thfruchart/tnsi/blob/main/08/Activit%C3%A93_CORR.ipynb\" target=\"_parent\"><img src=\"https://colab.research.google.com/assets/colab-badge.svg\" alt=\"Open In Colab\"/></a>"
      ]
    },
    {
      "cell_type": "markdown",
      "metadata": {
        "id": "_v7UipktRrJ7"
      },
      "source": [
        "# Activité 3"
      ]
    },
    {
      "cell_type": "markdown",
      "metadata": {
        "id": "VaeXmsfuRtHx"
      },
      "source": [
        "Ecrire une fonction `nombre_de_noeuds(arbre)` qui prend en argument un objet de type `Noeud` et qui renvoie le **nombre de noeuds** contenus dans `arbre` (à gauche ou à droite)!\n",
        "\n",
        "Exemple  :  \n",
        "\n",
        "    >>> nombre_de_noeuds(Noeud( Noeud(None,'A',None), 'racine', Noeud(None,'B',None) ))\n",
        "    3\n",
        "    >>> nombre_de_noeuds(Noeud(None,'A',None) )\n",
        "    1\n"
      ]
    },
    {
      "cell_type": "code",
      "metadata": {
        "id": "TP9zpSdhTnS1"
      },
      "source": [
        "class Noeud:\n",
        "    def __init__(self, g, v, d):\n",
        "        self.gauche = g\n",
        "        self.valeur = v        \n",
        "        self.droit  = d\n",
        "\n",
        "def nombre_de_noeuds(arbre):\n",
        "    if arbre == None:\n",
        "        return 0\n",
        "    else : \n",
        "        return 1 + nombre_de_noeuds(arbre.gauche) + nombre_de_noeuds(arbre.droit)"
      ],
      "execution_count": 1,
      "outputs": []
    },
    {
      "cell_type": "code",
      "metadata": {
        "colab": {
          "base_uri": "https://localhost:8080/"
        },
        "id": "BmSaILHv59Ee",
        "outputId": "718a3f27-99ea-4a59-bd5a-497c3a92a7ed"
      },
      "source": [
        "nombre_de_noeuds(Noeud( Noeud(None,'A',None), 'racine', Noeud(None,'B',None) ))"
      ],
      "execution_count": 2,
      "outputs": [
        {
          "output_type": "execute_result",
          "data": {
            "text/plain": [
              "3"
            ]
          },
          "metadata": {},
          "execution_count": 2
        }
      ]
    },
    {
      "cell_type": "code",
      "metadata": {
        "colab": {
          "base_uri": "https://localhost:8080/"
        },
        "id": "aY-pI7V56ByW",
        "outputId": "789f4468-5e64-47ef-9edc-5d64d37f5835"
      },
      "source": [
        "nombre_de_noeuds(Noeud(None,'A',None) )"
      ],
      "execution_count": 3,
      "outputs": [
        {
          "output_type": "execute_result",
          "data": {
            "text/plain": [
              "1"
            ]
          },
          "metadata": {},
          "execution_count": 3
        }
      ]
    }
  ]
}