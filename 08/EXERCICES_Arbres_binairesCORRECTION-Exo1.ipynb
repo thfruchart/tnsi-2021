{
  "nbformat": 4,
  "nbformat_minor": 0,
  "metadata": {
    "colab": {
      "name": "Chap08_EXERCICES_Arbres_binaires.ipynb",
      "provenance": [],
      "collapsed_sections": [],
      "authorship_tag": "ABX9TyMWw0Awo08GY1nCMm8s0isa",
      "include_colab_link": true
    },
    "kernelspec": {
      "name": "python3",
      "display_name": "Python 3"
    }
  },
  "cells": [
    {
      "cell_type": "markdown",
      "metadata": {
        "id": "view-in-github",
        "colab_type": "text"
      },
      "source": [
        "<a href=\"https://colab.research.google.com/github/thfruchart/tnsi/blob/main/08/EXERCICES_Arbres_binairesCORRECTION-Exo1.ipynb\" target=\"_parent\"><img src=\"https://colab.research.google.com/assets/colab-badge.svg\" alt=\"Open In Colab\"/></a>"
      ]
    },
    {
      "cell_type": "markdown",
      "metadata": {
        "id": "Vb2rlvmZoVyv"
      },
      "source": [
        "## Exercice 1"
      ]
    },
    {
      "cell_type": "markdown",
      "metadata": {
        "id": "kdkVjgDysJQD"
      },
      "source": [
        "Ecrire une fonction `identiques(a1, a2)` qui permet de tester si les deux objets `a1` et `a2`de type `Noeud`définissent des arbres identiques. "
      ]
    },
    {
      "cell_type": "code",
      "metadata": {
        "id": "9r-u2u52Uq_v"
      },
      "source": [
        "class Noeud:\n",
        "    def __init__(self, g, v, d):\n",
        "        self.gauche = g\n",
        "        self.valeur = v        \n",
        "        self.droit  = d\n",
        "\n",
        "def identiques(a1, a2):\n",
        "    \"\"\"a1 et a2 sont de type Noeud\n",
        "    renvoie True si a1 et a2 définissent des arbres binaires identiques\n",
        "    renvoie False sinon\"\"\"\n",
        "    # cas où les deux arbres sont vides\n",
        "    if a1 is None and a2 is None:\n",
        "        return True\n",
        "    # cas où l'un des arbres est vide\n",
        "    elif a1 is None or a2 is None:\n",
        "        return False\n",
        "\n",
        "    # comparaison des valeurs si les deux arbres sont non vides\n",
        "    elif a1.valeur != a2.valeur:\n",
        "        return False\n",
        "    else : # les deux valeurs sont identiques... \n",
        "    # il faut donc tester les sous-arbres GAUCHE et DROIT\n",
        "        return identiques(a1.gauche, a2.gauche) and identiques(a1.droit, a2.droit)"
      ],
      "execution_count": 1,
      "outputs": []
    },
    {
      "cell_type": "code",
      "metadata": {
        "id": "s3W-96IM0JbN",
        "outputId": "60572f79-2851-4c93-92bf-8683c174eb66",
        "colab": {
          "base_uri": "https://localhost:8080/"
        }
      },
      "source": [
        "a1 = Noeud( Noeud(None,'A',None), 'racine', Noeud(None,'B',None) )\n",
        "a2 = Noeud( Noeud(None,'A',None), 'racine', Noeud(None,'B',None) )\n",
        "identiques(a1,a2)"
      ],
      "execution_count": 3,
      "outputs": [
        {
          "output_type": "execute_result",
          "data": {
            "text/plain": [
              "True"
            ]
          },
          "metadata": {},
          "execution_count": 3
        }
      ]
    },
    {
      "cell_type": "markdown",
      "metadata": {
        "id": "Qxyg99M801PO"
      },
      "source": [
        "Représentation de a1 et a2 sur [Pythontutor](https://pythontutor.com/visualize.html#code=class%20Noeud%3A%0A%20%20%20%20def%20__init__%28self,%20g,%20v,%20d%29%3A%0A%20%20%20%20%20%20%20%20self.gauche%20%3D%20g%0A%20%20%20%20%20%20%20%20self.valeur%20%3D%20v%20%20%20%20%20%20%20%20%0A%20%20%20%20%20%20%20%20self.droit%20%20%3D%20d%0A%0Aa1%20%3D%20Noeud%28%20Noeud%28None,'A',None%29,%20'racine',%20Noeud%28None,'B',None%29%20%29%0Aa2%20%3D%20Noeud%28%20Noeud%28None,'A',None%29,%20'racine',%20Noeud%28None,'B',None%29%20%29&cumulative=false&curInstr=33&heapPrimitives=nevernest&mode=display&origin=opt-frontend.js&py=3&rawInputLstJSON=%5B%5D&textReferences=false)"
      ]
    },
    {
      "cell_type": "code",
      "metadata": {
        "id": "oWGtNtNC8TRV",
        "outputId": "5af6acb6-99a5-4807-8833-df9d3efe3267",
        "colab": {
          "base_uri": "https://localhost:8080/"
        }
      },
      "source": [
        "identiques(a1, None)"
      ],
      "execution_count": 5,
      "outputs": [
        {
          "output_type": "execute_result",
          "data": {
            "text/plain": [
              "False"
            ]
          },
          "metadata": {},
          "execution_count": 5
        }
      ]
    },
    {
      "cell_type": "code",
      "metadata": {
        "id": "pnxI32Lv8VT2",
        "outputId": "85e97ea2-b838-4e99-b81b-b2577a230c47",
        "colab": {
          "base_uri": "https://localhost:8080/"
        }
      },
      "source": [
        "identiques(None,a2)"
      ],
      "execution_count": 6,
      "outputs": [
        {
          "output_type": "execute_result",
          "data": {
            "text/plain": [
              "False"
            ]
          },
          "metadata": {},
          "execution_count": 6
        }
      ]
    },
    {
      "cell_type": "code",
      "metadata": {
        "id": "FzFuS9zA8YyL",
        "outputId": "3bc68b8f-a750-4ea7-f32c-0b0412b18b3e",
        "colab": {
          "base_uri": "https://localhost:8080/"
        }
      },
      "source": [
        "identiques(None, None)"
      ],
      "execution_count": 7,
      "outputs": [
        {
          "output_type": "execute_result",
          "data": {
            "text/plain": [
              "True"
            ]
          },
          "metadata": {},
          "execution_count": 7
        }
      ]
    },
    {
      "cell_type": "code",
      "metadata": {
        "id": "fSIANO5d8bLL"
      },
      "source": [
        ""
      ],
      "execution_count": null,
      "outputs": []
    }
  ]
}