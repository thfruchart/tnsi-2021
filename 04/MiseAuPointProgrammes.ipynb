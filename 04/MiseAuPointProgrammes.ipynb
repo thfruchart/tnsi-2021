{
  "nbformat": 4,
  "nbformat_minor": 0,
  "metadata": {
    "colab": {
      "name": "04-MiseAuPointProgrammes.ipynb",
      "provenance": [],
      "collapsed_sections": [],
      "authorship_tag": "ABX9TyMGvt8mRoU4ipVFhvCAavom",
      "include_colab_link": true
    },
    "kernelspec": {
      "name": "python3",
      "display_name": "Python 3"
    }
  },
  "cells": [
    {
      "cell_type": "markdown",
      "metadata": {
        "id": "view-in-github",
        "colab_type": "text"
      },
      "source": [
        "<a href=\"https://colab.research.google.com/github/thfruchart/tnsi/blob/main/04/MiseAuPointProgrammes.ipynb\" target=\"_parent\"><img src=\"https://colab.research.google.com/assets/colab-badge.svg\" alt=\"Open In Colab\"/></a>"
      ]
    },
    {
      "cell_type": "markdown",
      "metadata": {
        "id": "frJqpueMafOt"
      },
      "source": [
        "# Types en python"
      ]
    },
    {
      "cell_type": "markdown",
      "metadata": {
        "id": "wz7q6cyYaiQO"
      },
      "source": [
        "Chaque variable (et chaque objet) en python possède un type.\n",
        "\n",
        "La commande `type()` permet de tester le type de différents objets."
      ]
    },
    {
      "cell_type": "code",
      "metadata": {
        "id": "RB-aIgraaeau"
      },
      "source": [
        "n = 0\n",
        "print(type(n))"
      ],
      "execution_count": null,
      "outputs": []
    },
    {
      "cell_type": "code",
      "metadata": {
        "id": "qiPajRlmayL9"
      },
      "source": [
        "x = 0.0 \n",
        "print(type(x))"
      ],
      "execution_count": null,
      "outputs": []
    },
    {
      "cell_type": "code",
      "metadata": {
        "id": "f8xuSN1Aa1Jw"
      },
      "source": [
        "b = False\n",
        "print(type(b))"
      ],
      "execution_count": null,
      "outputs": []
    },
    {
      "cell_type": "code",
      "metadata": {
        "id": "JbHoBA3Nb1IR"
      },
      "source": [
        "s = ''\n",
        "print(type(s))"
      ],
      "execution_count": null,
      "outputs": []
    },
    {
      "cell_type": "code",
      "metadata": {
        "id": "P85_hCdKbOmw"
      },
      "source": [
        "t = ()\n",
        "print(type(t))"
      ],
      "execution_count": null,
      "outputs": []
    },
    {
      "cell_type": "code",
      "metadata": {
        "id": "d6CUKXcMbAsP"
      },
      "source": [
        "e = {1,2,3}\n",
        "print(type(e))"
      ],
      "execution_count": null,
      "outputs": []
    },
    {
      "cell_type": "code",
      "metadata": {
        "id": "fJWlKUX-bKAA"
      },
      "source": [
        "l= []\n",
        "print(type(l))"
      ],
      "execution_count": null,
      "outputs": []
    },
    {
      "cell_type": "code",
      "metadata": {
        "id": "6R5tjbc8a5vm"
      },
      "source": [
        "d = {}\n",
        "print(type(d))"
      ],
      "execution_count": null,
      "outputs": []
    },
    {
      "cell_type": "markdown",
      "metadata": {
        "id": "zK_MW0wUcaW6"
      },
      "source": [
        "## Annotations de type\n",
        "\n",
        "En Python, le typage est dynamique : chaque variable reçoit le type défini par son expression. \n",
        "\n",
        "Dans d'autres langages, le type des variables doit être **déclaré** avant leur utilisation. \n",
        "\n",
        "Python permet, pour améliorer la clarté du code, d'ajouter des **indications** précisant le type prévu pour ces variables. "
      ]
    },
    {
      "cell_type": "code",
      "metadata": {
        "id": "Sdz2NvDyc5EO"
      },
      "source": [
        "x:float = 5.2"
      ],
      "execution_count": null,
      "outputs": []
    },
    {
      "cell_type": "code",
      "metadata": {
        "id": "d_oHR_76c9i7"
      },
      "source": [
        "n:int = 5"
      ],
      "execution_count": null,
      "outputs": []
    },
    {
      "cell_type": "markdown",
      "metadata": {
        "id": "RM2wcE3OdCx0"
      },
      "source": [
        "## ATTENTION : ces indications sont la responsabilité du programmeur\n",
        "\n",
        "Python ne vérifie pas la cohérence des informations indiquées en \"indication\" : voir les exemples ci-dessous"
      ]
    },
    {
      "cell_type": "code",
      "metadata": {
        "id": "OuossUK_dQfd"
      },
      "source": [
        "z : float = 5\n",
        "print(type(z))"
      ],
      "execution_count": null,
      "outputs": []
    },
    {
      "cell_type": "markdown",
      "metadata": {
        "id": "4ZzLf1K4dc7M"
      },
      "source": [
        "A ne pas confondre avec : "
      ]
    },
    {
      "cell_type": "code",
      "metadata": {
        "id": "WloO9C6BdYMT"
      },
      "source": [
        "z =  float(5)\n",
        "print(type(z))"
      ],
      "execution_count": null,
      "outputs": []
    },
    {
      "cell_type": "code",
      "metadata": {
        "id": "XEYKqQNCdjgb"
      },
      "source": [
        "n:dict = 25\n",
        "print(type(n))"
      ],
      "execution_count": null,
      "outputs": []
    },
    {
      "cell_type": "markdown",
      "metadata": {
        "id": "0HEDtdVXdoID"
      },
      "source": [
        "Mais alors, à quoi servent les indications de type?\n",
        "\n",
        "Essentiellement à donner des renseignements sur les données manipulées, notamment dans le cas des **fonctions**."
      ]
    },
    {
      "cell_type": "code",
      "metadata": {
        "id": "tp5RUFu8dzSU"
      },
      "source": [
        "def recherche(v:int, t:list) -> bool :\n",
        "    '''renvoie True si et seulement si l'entier v se trouve dans la liste t'''\n",
        "    for x in t :\n",
        "        if x == v:\n",
        "            return True\n",
        "    return False "
      ],
      "execution_count": null,
      "outputs": []
    },
    {
      "cell_type": "markdown",
      "metadata": {
        "id": "kU4PljinkuOE"
      },
      "source": [
        "Remarquer la 'flèche' qui permet de définir le type du résultat renvoyé par la fonction : ` -> `"
      ]
    },
    {
      "cell_type": "markdown",
      "metadata": {
        "id": "u38trcfBeSau"
      },
      "source": [
        "Libre à chacun d'utiliser cette fonction en dehors des cas prévus"
      ]
    },
    {
      "cell_type": "code",
      "metadata": {
        "id": "U35clhibeWW7"
      },
      "source": [
        "recherche(3, {3:'trois'})"
      ],
      "execution_count": null,
      "outputs": []
    },
    {
      "cell_type": "code",
      "metadata": {
        "id": "1Mz8KrCVepc2"
      },
      "source": [
        "recherche(3, {'trois' : 3})"
      ],
      "execution_count": null,
      "outputs": []
    },
    {
      "cell_type": "markdown",
      "metadata": {
        "id": "ZLvG5OK4e0cK"
      },
      "source": [
        "On trouvera donc des \"annotations de type\" :\n",
        "* dans les énoncés\n",
        "* dans la spécification d'une fonction\n",
        "* dans les interfaces des modules\n",
        "\n",
        "Certains outils externes permettent de vérifier la cohérences des annotations de type, avant toute exécution du programme, ce qui permet d'éliminer certaines erreurs dans l'utilisation des données et fonctions. Le plus connu des ces outils est mypy ([voir intro ici](https://code.tutsplus.com/tutorials/python-3-type-hints-and-static-analysis--cms-25731))"
      ]
    },
    {
      "cell_type": "markdown",
      "metadata": {
        "id": "WzzPb-UihuTD"
      },
      "source": [
        "## Anotation de type et programmation orientée objet\n",
        "\n",
        "Une fois défini, le nom d'une classe est naturellement un type.\n",
        "\n",
        "Voir les exemples suivants :"
      ]
    },
    {
      "cell_type": "code",
      "metadata": {
        "id": "_TP8zMv9jAQv"
      },
      "source": [
        "class Eleve:\n",
        "    def __init__(self , nom : str, prenom : str, age : int):\n",
        "        self.nom = nom\n",
        "        self.prenom = prenom\n",
        "        self.age = age"
      ],
      "execution_count": null,
      "outputs": []
    },
    {
      "cell_type": "code",
      "metadata": {
        "id": "O1XsQRgjlmEX"
      },
      "source": [
        "john = Eleve('BOND', 'James',46)"
      ],
      "execution_count": null,
      "outputs": []
    },
    {
      "cell_type": "markdown",
      "metadata": {
        "id": "YiTFltIOkDAm"
      },
      "source": [
        "## proposer vos réponses...\n",
        "Ajouter les indications de type pour la méthode `compare` dans chacun des cas. "
      ]
    },
    {
      "cell_type": "code",
      "metadata": {
        "id": "PmQsFrkIkMP7"
      },
      "source": [
        "class Eleve:\n",
        "    def __init__(self , nom : str, prenom : str, age : int):\n",
        "        self.nom = nom\n",
        "        self.prenom = prenom\n",
        "        self.age = age\n",
        "\n",
        "    def compare(self, v):\n",
        "        return self.age > v "
      ],
      "execution_count": null,
      "outputs": []
    },
    {
      "cell_type": "code",
      "metadata": {
        "id": "kGN9fD-ukbSg"
      },
      "source": [
        "class Eleve:\n",
        "    def __init__(self , nom : str, prenom : str, age : int):\n",
        "        self.nom = nom\n",
        "        self.prenom = prenom\n",
        "        self.age = age\n",
        "\n",
        "    def compare(self, v):\n",
        "        return self.age > v.age"
      ],
      "execution_count": null,
      "outputs": []
    },
    {
      "cell_type": "markdown",
      "metadata": {
        "id": "T6c23crrRW6K"
      },
      "source": [
        "## Exercice \n",
        "Ajouter des indications de type pour chacune des fonctions suivantes"
      ]
    },
    {
      "cell_type": "code",
      "metadata": {
        "id": "7b1eSrbmRb7g"
      },
      "source": [
        "def f1(t) : \n",
        "    return t[0]+1"
      ],
      "execution_count": null,
      "outputs": []
    },
    {
      "cell_type": "code",
      "metadata": {
        "id": "31uVMOV7Rgwm"
      },
      "source": [
        "def f2(r) :\n",
        "    return str(2* 3.14 * r)"
      ],
      "execution_count": null,
      "outputs": []
    },
    {
      "cell_type": "code",
      "metadata": {
        "id": "QORRvszrRo3r"
      },
      "source": [
        "def f3(p) :\n",
        "    x, y = p\n",
        "    return 2*x + y "
      ],
      "execution_count": null,
      "outputs": []
    },
    {
      "cell_type": "code",
      "metadata": {
        "id": "gRl753zUR3k5"
      },
      "source": [
        "def f4(x) :\n",
        "    x.append(23)"
      ],
      "execution_count": null,
      "outputs": []
    },
    {
      "cell_type": "code",
      "metadata": {
        "id": "H06OUBNtR80d"
      },
      "source": [
        "def f5(d , s ) :\n",
        "    if s != 'quit':\n",
        "        d[s] +=1\n",
        "    return d[s]"
      ],
      "execution_count": null,
      "outputs": []
    },
    {
      "cell_type": "markdown",
      "metadata": {
        "id": "QEBTXeu0m7J0"
      },
      "source": [
        "# Invariant de structure"
      ]
    },
    {
      "cell_type": "markdown",
      "metadata": {
        "id": "SoDHee8HnBBy"
      },
      "source": [
        "Lorsqu'on programme un module ou une classe, il est fréquent de présupposer certaines propriétés.\n",
        "\n",
        "Dans le cas d'un objet qui possède certains attributs, certaines propriétés doivent être toujours vérifiées : \n",
        "* lors de la création de l'objet\n",
        "* lors de l'exécution de méthodes qui modifient cet objet.\n",
        "* de telles propriétés sont appelées : **\"invariants\"**\n",
        "\n",
        "Exemples : \n",
        "* dans la classe Date, l'entier indiquant le mois est compris entre 1 et 12\n",
        "* dans la classe Chrono, l'entier indiquant les secondes est compris entre 0 et 59\n",
        "* dans la classe Fraction, on peut souhaiter avoir toujours une écriture sous forme irréductible. \n",
        "* ... \n",
        "\n",
        "Pour s'assurer qu'un invariant de structure est bien présent, il est utile de programmer une méthode spécialement destinée à tester cet invariant.\n",
        "\n",
        "On détaille l'exemple de la classe Date"
      ]
    },
    {
      "cell_type": "code",
      "metadata": {
        "id": "PfwhDNoZpScu"
      },
      "source": [
        "def valide(j:int, m:int, a:int) -> bool:\n",
        "    '''renvoie True si et seulement si le jour j du mois m existe l'année a'''\n",
        "    if not (1 <= m <= 12  and j >= 1):\n",
        "        return False\n",
        "    if m in {1,3,5,7,8,10,12}:\n",
        "        return j <= 31\n",
        "    elif m in {4,6,9,11} :\n",
        "        return j <= 30\n",
        "    elif a%4==0  and  not a%100==0    or   a%400==00 : #année bissextile\n",
        "        return j<=29\n",
        "    else:\n",
        "        return j<=28\n",
        " \n",
        "\n",
        "class Date:\n",
        "    def __init__(self, j,m,a):\n",
        "        assert valide(j,m,a), \"La date n'est pas valide\"\n",
        "        self.jour = j\n",
        "        self.mois = m\n",
        "        self.annee = a\n",
        "\n",
        "    def __str__(self):  # ou texte(self)\n",
        "        dico = {1:'janvier',\n",
        "                2 : 'février',\n",
        "                3 : 'mars',\n",
        "                4 : 'avril',\n",
        "                5 : 'mai',\n",
        "                6 : 'juin',\n",
        "                7 : 'juillet',\n",
        "                8 : 'août',\n",
        "                9 : 'septembre',\n",
        "                10: 'octobre' ,\n",
        "                11: 'novembre',\n",
        "                12:'décembre'}\n",
        "        return str(self.jour) + ' ' + dico[self.mois] + ' ' + str(self.annee)\n",
        "\n",
        "\n",
        "print(Date(29,2,2020))"
      ],
      "execution_count": null,
      "outputs": []
    },
    {
      "cell_type": "code",
      "metadata": {
        "id": "V_AJbftssW64"
      },
      "source": [
        "print(Date(29,2,2021))"
      ],
      "execution_count": null,
      "outputs": []
    },
    {
      "cell_type": "markdown",
      "metadata": {
        "id": "jxCmcG4sw77d"
      },
      "source": [
        "# Tester un programme"
      ]
    },
    {
      "cell_type": "markdown",
      "metadata": {
        "id": "IrlmjDQLxDzE"
      },
      "source": [
        "On rappelle quelques principes permettant de bien tester un programme.\n",
        "\n",
        "* tester séparément les différentes fonctions qui composent le programme. \n",
        "* tester l'ensemble des valeurs significatives, y compris les valeurs \"limites\" : nombre nul, chaîne ou liste ou dictionnaire vide... \n",
        "* pour un tableau à deux dimensions, penser à tester le comportement aux \"bords\"\n",
        "\n",
        "L'instruction `assert`\n",
        "* évalue une expression booléenne\n",
        "* exécute la suite du programme si l'expression est `True`\n",
        "* interromp l'exécution du programme si l'expression est `False` et renvoie une `AssertionError`\n",
        "\n",
        "Dans certains cas, il est utile de prévoir une `fonction` qui teste la correction d'un programme.\n",
        "\n",
        "Dans le développement d'un projet, on peut confier à des **personnes différentes** les tâches  : \n",
        "* *programmer* une fonction\n",
        "* écrire un programme *test* pour cette fonction"
      ]
    },
    {
      "cell_type": "markdown",
      "metadata": {
        "id": "puThykOAyo9e"
      },
      "source": [
        "## Exemple : écrire un programme test pour une fonction de tri d'un tableau"
      ]
    },
    {
      "cell_type": "markdown",
      "metadata": {
        "id": "SzXRo3NMAjCa"
      },
      "source": [
        "On suppose donnée une fonction tri(t) qui trie le tableau t \"en place\", c'est à dire qu'une fois la fonction exécutée, le tableau t est trié (dans l'ordre croissant)\n",
        "\n",
        "On a vu en première deux algorithmes de tri : par sélection et par insertion"
      ]
    },
    {
      "cell_type": "code",
      "metadata": {
        "id": "8kdSRkMlBfiI"
      },
      "source": [
        "def tri(t):\n",
        "    for i in range(len(t)-1):\n",
        "        m = i\n",
        "        print('i =',i)\n",
        "        for j in range(i + 1, len(t)):\n",
        "            print('  j =',j)\n",
        "            if t[j] < t[m]:\n",
        "                m = j\n",
        "        t[i],t[m] = t[m],t[i] \n",
        "        print('échange entre indice', i, 'et', m)\n",
        "        print(t)"
      ],
      "execution_count": null,
      "outputs": []
    },
    {
      "cell_type": "code",
      "metadata": {
        "id": "C1hWaPqHCDVj"
      },
      "source": [
        "tri([30,50,80,10])"
      ],
      "execution_count": null,
      "outputs": []
    },
    {
      "cell_type": "code",
      "metadata": {
        "id": "EoM8TYYFCtuW"
      },
      "source": [
        "def tri(t):\n",
        "    for i in range(len(t)-1):\n",
        "        m = i\n",
        "        for j in range(i + 1, len(t)):\n",
        "            if t[j] < t[m]:\n",
        "                m = j\n",
        "        t[i],t[m] = t[m],t[i] "
      ],
      "execution_count": null,
      "outputs": []
    },
    {
      "cell_type": "markdown",
      "metadata": {
        "id": "LiPlE549DOEV"
      },
      "source": [
        "Dans la suite, on se proposer de vérifier que le tri proposé par Python est bien correct ! \n",
        "\n",
        "On va procéder sans accéder au code : donc en concevant une série de tests bien choisis."
      ]
    },
    {
      "cell_type": "code",
      "metadata": {
        "id": "GJCD2dLiDNUu"
      },
      "source": [
        "def tri(t:list):\n",
        "    t.sort()"
      ],
      "execution_count": null,
      "outputs": []
    },
    {
      "cell_type": "code",
      "metadata": {
        "id": "9yZCnRY9DfHk"
      },
      "source": [
        "t = [20,10,50,80,70]\n",
        "tri(t)\n",
        "print(t)"
      ],
      "execution_count": null,
      "outputs": []
    },
    {
      "cell_type": "markdown",
      "metadata": {
        "id": "uDWkDAXgD5oA"
      },
      "source": [
        "On peut effectuer une série de tests \"à la main\"...\n",
        "#### avantage\n",
        "* c'est simple\n",
        "\n",
        "#### inconvénients\n",
        "* c'est long !\n",
        "* si une modification est apportée au code... il faut tout recommencer depuis le début => trop long !"
      ]
    },
    {
      "cell_type": "markdown",
      "metadata": {
        "id": "oploEd2nC_yW"
      },
      "source": [
        "## Objectif : écrire un programme qui teste que cette fonction de tri est correcte."
      ]
    },
    {
      "cell_type": "code",
      "metadata": {
        "id": "84q5PXHHDr76"
      },
      "source": [
        "def est_trie(t):\n",
        "    '''renvoie True si le tableau t est trié par ordre croissant et False sinon'''\n",
        "    for i in range(len(t)-1):\n",
        "        if t[i]>t[i+1]:\n",
        "            return False\n",
        "    return True \n",
        "\n",
        "\n",
        "t = [20,10,50,80,70]\n",
        "tri(t)\n",
        "est_trie([])"
      ],
      "execution_count": null,
      "outputs": []
    },
    {
      "cell_type": "markdown",
      "metadata": {
        "id": "5LjujSrlEajP"
      },
      "source": [
        "Cette fonction est-elle suffisante pour tester `tri(t)` ?\n",
        "\n",
        "Donner un exemple de `tri(t)` qui passera toujours le test `est_trie(t)` sans pour autant être correcte"
      ]
    },
    {
      "cell_type": "code",
      "metadata": {
        "id": "bfyauhH7Ewpo"
      },
      "source": [
        "def tri(t):\n",
        "    for i in range(len(t)):\n",
        "        t[i]  = 0"
      ],
      "execution_count": null,
      "outputs": []
    },
    {
      "cell_type": "code",
      "metadata": {
        "id": "r1cTH026tfqo"
      },
      "source": [
        "t = [20,10,50,80,70]\n",
        "tri(t)\n",
        "print(t)\n",
        "est_trie(t)"
      ],
      "execution_count": null,
      "outputs": []
    },
    {
      "cell_type": "markdown",
      "metadata": {
        "id": "291z75EKE1Cg"
      },
      "source": [
        "Donner la liste des propriétés à vérifier pour s'assurer que le tri est correct"
      ]
    },
    {
      "cell_type": "markdown",
      "metadata": {
        "id": "Vo829DGfu_Ni"
      },
      "source": [
        "* à la fin de l'exécution, le tableau est trié\n",
        "* l'ensemble des valeurs du tableau est conservé\n",
        "  * si le tableau contient plusieurs valeurs indentiques, le nombre d'occurrences est conservé"
      ]
    }
  ]
}