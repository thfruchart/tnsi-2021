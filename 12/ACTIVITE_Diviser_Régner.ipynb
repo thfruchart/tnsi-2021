{
  "nbformat": 4,
  "nbformat_minor": 0,
  "metadata": {
    "colab": {
      "name": "Chap12_ACTIVITE_Diviser_Régner.ipynb",
      "provenance": [],
      "collapsed_sections": [],
      "authorship_tag": "ABX9TyOJfJ7ys1g9Ujxjuqe6QoeK",
      "include_colab_link": true
    },
    "kernelspec": {
      "name": "python3",
      "display_name": "Python 3"
    }
  },
  "cells": [
    {
      "cell_type": "markdown",
      "metadata": {
        "id": "view-in-github",
        "colab_type": "text"
      },
      "source": [
        "<a href=\"https://colab.research.google.com/github/thfruchart/tnsi/blob/main/12/ACTIVITE_Diviser_R%C3%A9gner.ipynb\" target=\"_parent\"><img src=\"https://colab.research.google.com/assets/colab-badge.svg\" alt=\"Open In Colab\"/></a>"
      ]
    },
    {
      "cell_type": "markdown",
      "metadata": {
        "id": "0NCZOOSj2rwn"
      },
      "source": [
        "# Rechercher une valeur dans une liste"
      ]
    },
    {
      "cell_type": "markdown",
      "metadata": {
        "id": "LwbJo5rP3MU9"
      },
      "source": [
        "## Exemple 1"
      ]
    },
    {
      "cell_type": "markdown",
      "metadata": {
        "id": "6AfdSWuo2u0u"
      },
      "source": [
        "Exécuter \"à la main\" le programme suivant, puis vérifier avec Python"
      ]
    },
    {
      "cell_type": "code",
      "metadata": {
        "id": "iKQCE9Lp2rLd"
      },
      "source": [
        "def est_present(t, e) :\n",
        "    bingo = False\n",
        "    i = 0\n",
        "    n = len(t)\n",
        "    while (i < n) and (bingo == False) :\n",
        "        if t[i] == e :\n",
        "            bingo = True\n",
        "        i = i + 1\n",
        "    return bingo\n",
        "    \n",
        "print(est_present([3,5,12,15,48],4))\n",
        "print(est_present([3,5,12,15,48],3))"
      ],
      "execution_count": null,
      "outputs": []
    },
    {
      "cell_type": "markdown",
      "metadata": {
        "id": "p9E6lfcv28ua"
      },
      "source": [
        "#### Quelle est la complexité en temps de la fonction `est_present`:\n",
        "* dans le meilleur des cas ?\n",
        "* dans le pire des cas ?"
      ]
    },
    {
      "cell_type": "markdown",
      "metadata": {
        "id": "jCGdy2Zl3VSQ"
      },
      "source": [
        "## Exemple 2"
      ]
    },
    {
      "cell_type": "code",
      "metadata": {
        "id": "mGd5d1O23ZEu"
      },
      "source": [
        "def mystere(t, e):\n",
        "    bingo = False\n",
        "    indiceGauche = 0\n",
        "    indiceDroite = len(t) - 1\n",
        "    while (indiceGauche <= indiceDroite) and (bingo == False) :\n",
        "        indiceMedian = (indiceGauche + indiceDroite) // 2\n",
        "        if t[indiceMedian] == e:\n",
        "                bingo = True\n",
        "        elif t[indiceMedian] < e:\n",
        "                indiceGauche = indiceMedian + 1\n",
        "        else:\n",
        "                indiceDroite =indiceMedian - 1\n",
        "    return bingo\n",
        "\n",
        "\n",
        "print(mystere([2, 12, 17, 25, 33, 35, 44, 54, 77, 91], 35))\n",
        "print(mystere([2, 12, 17, 25, 33, 35, 44, 54, 77, 91], 50))"
      ],
      "execution_count": null,
      "outputs": []
    },
    {
      "cell_type": "markdown",
      "metadata": {
        "id": "CLlgl9643kAb"
      },
      "source": [
        "1. A quelle précondition sur le tableau t la fonction mystère permet-elle de détecter la présence d'un élément e dans t ?\n",
        "2. Dans quel cas l'exécution de `mystere(t, e)` est-elle la plus longue possible ? "
      ]
    },
    {
      "cell_type": "markdown",
      "metadata": {
        "id": "3qiPIVJ74Q0Z"
      },
      "source": [
        "## Complexité de la fonction mystère"
      ]
    },
    {
      "cell_type": "code",
      "metadata": {
        "id": "DoMV8UQ94XPR"
      },
      "source": [
        "def nb_boucles_mystere(t, e):\n",
        "    cpt = 0\n",
        "    bingo = False\n",
        "    indiceGauche = 0\n",
        "    indiceDroite = len(t) - 1\n",
        "    while (indiceGauche <= indiceDroite) and (bingo == False) :\n",
        "        cpt += 1\n",
        "        indiceMedian = (indiceGauche + indiceDroite) // 2\n",
        "        if t[indiceMedian] == e:\n",
        "                bingo = True\n",
        "        elif t[indiceMedian] < e:\n",
        "                indiceGauche = indiceMedian + 1\n",
        "        else:\n",
        "                indiceDroite =indiceMedian - 1\n",
        "    return cpt"
      ],
      "execution_count": null,
      "outputs": []
    },
    {
      "cell_type": "markdown",
      "metadata": {
        "id": "PE7pFQpH4mqp"
      },
      "source": [
        "1. Exécuter la fonction `nb_boucles_mystere` sur des tableaux de taille 32, 64, 128... $2^k$ pour différentes valeur de k afin d'évaluer le nombre de boucles exécutées **dans le pire des cas**\n",
        "2. Que peut-on en conclure sur la complexité en temps de la fonction mystère."
      ]
    },
    {
      "cell_type": "markdown",
      "metadata": {
        "id": "PUr_WLeO5jGg"
      },
      "source": [
        "## Rappel "
      ]
    },
    {
      "cell_type": "markdown",
      "metadata": {
        "id": "YtLyD3J15mgY"
      },
      "source": [
        "![](https://codimd.s3.shivering-isles.com/demo/uploads/upload_fafe470b6fda17b1b8bc77f58fc6408f.png)\n"
      ]
    }
  ]
}