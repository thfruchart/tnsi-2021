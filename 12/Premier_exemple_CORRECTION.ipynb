{
  "nbformat": 4,
  "nbformat_minor": 0,
  "metadata": {
    "colab": {
      "name": "Chap12_Premier_exemple.ipynb",
      "provenance": [],
      "authorship_tag": "ABX9TyNTm71Wzap5XL0fhbpZTgX5",
      "include_colab_link": true
    },
    "kernelspec": {
      "name": "python3",
      "display_name": "Python 3"
    },
    "language_info": {
      "name": "python"
    }
  },
  "cells": [
    {
      "cell_type": "markdown",
      "metadata": {
        "id": "view-in-github",
        "colab_type": "text"
      },
      "source": [
        "<a href=\"https://colab.research.google.com/github/thfruchart/tnsi/blob/main/12/Premier_exemple_CORRECTION.ipynb\" target=\"_parent\"><img src=\"https://colab.research.google.com/assets/colab-badge.svg\" alt=\"Open In Colab\"/></a>"
      ]
    },
    {
      "cell_type": "markdown",
      "metadata": {
        "id": "kjRw8giuZu22"
      },
      "source": [
        "# Un premier exemple : recherche du minimum des valeurs d'un tableau. "
      ]
    },
    {
      "cell_type": "markdown",
      "metadata": {
        "id": "UJ9Gc8GQZ1Ea"
      },
      "source": [
        "## 1. Algorithme \"classique\""
      ]
    },
    {
      "cell_type": "markdown",
      "metadata": {
        "id": "Tdf3qNmtaMZR"
      },
      "source": [
        "#### Compléter la fonction suivante, qui utilise l'algorithme classique de recherche d'un minimum"
      ]
    },
    {
      "cell_type": "code",
      "metadata": {
        "id": "QjQurlUOZB2e"
      },
      "source": [
        "def minimum(t):\n",
        "    if len(t) == 0:\n",
        "        return None\n",
        "    minimum_temporaire = t[0]\n",
        "    for i in range(1, len(t)):\n",
        "        if t[i] < minimum_temporaire  : \n",
        "            minimum_temporaire = t[i]\n",
        "    return minimum_temporaire\n",
        "\n",
        "assert minimum([10,20,30,40,50]) == 10\n",
        "assert minimum([50,40,30,20,10])== 10\n",
        "assert minimum([-10,-20,-30,40,50]) == -30"
      ],
      "execution_count": 3,
      "outputs": []
    },
    {
      "cell_type": "markdown",
      "metadata": {
        "id": "PwnOvy2sfSHa"
      },
      "source": [
        "#### Quelle est la complexité en temps d'un tel algorithme ? Expliquer!"
      ]
    },
    {
      "cell_type": "markdown",
      "metadata": {
        "id": "k7v_OSbvf6tn"
      },
      "source": [
        "Dans le pire des cas (et en fait dans tous les cas) la complexité de cette fonction est **linéaire** car l'algorithme doit parcourir TOUTES les cases du tableau pour trouver le minimum."
      ]
    },
    {
      "cell_type": "markdown",
      "metadata": {
        "id": "qjDFO9mzgNuT"
      },
      "source": [
        "### Comment \"diviser\" le problème ?"
      ]
    },
    {
      "cell_type": "markdown",
      "metadata": {
        "id": "sY28VfAGgYi3"
      },
      "source": [
        "Exemple : on cherche quelle est la plus petite valeur d'un paquet de 8 cartes. \n",
        "\n",
        "* Pour un être humain, un simple coup d'oeil suffit, mais pour un ordinateur, la comparaison n'est possible qu'entre 2 cartes. \n",
        "* On va donc \"cacher\" les cartes, et chercher le minimum en ne découvrant au maximum que 2 cartes à la fois. \n",
        "* Proposer une \"division\" de ce problème pour un groupe de 4 élèves."
      ]
    },
    {
      "cell_type": "markdown",
      "metadata": {
        "id": "BU8kJfui2BVi"
      },
      "source": [
        "#### rappel : slice (tranche) extrait d'un tableau\n",
        "\n",
        "On utilisera cette syntaxe pour diviser le tableau en deux parties"
      ]
    },
    {
      "cell_type": "code",
      "metadata": {
        "id": "Iby90_YD2HYS"
      },
      "source": [
        "t = [0,11,22,33,44,55,66,77]"
      ],
      "execution_count": 4,
      "outputs": []
    },
    {
      "cell_type": "code",
      "metadata": {
        "id": "YfvhNLTK2LYs",
        "outputId": "a12b8417-6076-4d85-d5e7-f9278a043ed1",
        "colab": {
          "base_uri": "https://localhost:8080/"
        }
      },
      "source": [
        "t[0]"
      ],
      "execution_count": 5,
      "outputs": [
        {
          "output_type": "execute_result",
          "data": {
            "text/plain": [
              "0"
            ]
          },
          "metadata": {},
          "execution_count": 5
        }
      ]
    },
    {
      "cell_type": "code",
      "metadata": {
        "id": "saUAzHdJ2Miy",
        "outputId": "00768db2-1176-4f57-f068-090fea7ff6a8",
        "colab": {
          "base_uri": "https://localhost:8080/"
        }
      },
      "source": [
        "t[6]"
      ],
      "execution_count": 6,
      "outputs": [
        {
          "output_type": "execute_result",
          "data": {
            "text/plain": [
              "66"
            ]
          },
          "metadata": {},
          "execution_count": 6
        }
      ]
    },
    {
      "cell_type": "code",
      "metadata": {
        "id": "-4e0tYfD2NkT",
        "outputId": "a971c7fd-8fa1-4f3e-ce80-ce6cd13985cd",
        "colab": {
          "base_uri": "https://localhost:8080/"
        }
      },
      "source": [
        "t[2:4]"
      ],
      "execution_count": 7,
      "outputs": [
        {
          "output_type": "execute_result",
          "data": {
            "text/plain": [
              "[22, 33]"
            ]
          },
          "metadata": {},
          "execution_count": 7
        }
      ]
    },
    {
      "cell_type": "code",
      "metadata": {
        "id": "PI2pivAC2Pwy",
        "outputId": "f230cf42-f223-4e59-b4ee-ed222a7f81e9",
        "colab": {
          "base_uri": "https://localhost:8080/"
        }
      },
      "source": [
        "t[3:len(t)]"
      ],
      "execution_count": 8,
      "outputs": [
        {
          "output_type": "execute_result",
          "data": {
            "text/plain": [
              "[33, 44, 55, 66, 77]"
            ]
          },
          "metadata": {},
          "execution_count": 8
        }
      ]
    },
    {
      "cell_type": "code",
      "metadata": {
        "id": "hgVkGbry2SIa",
        "outputId": "cc303164-65a7-4012-bb1d-4d2013a00605",
        "colab": {
          "base_uri": "https://localhost:8080/"
        }
      },
      "source": [
        "t[0:3]"
      ],
      "execution_count": 9,
      "outputs": [
        {
          "output_type": "execute_result",
          "data": {
            "text/plain": [
              "[0, 11, 22]"
            ]
          },
          "metadata": {},
          "execution_count": 9
        }
      ]
    },
    {
      "cell_type": "code",
      "metadata": {
        "id": "H3_Wk3pu2biH",
        "outputId": "7810324e-a501-44d3-dec9-ea59af5ea0a9",
        "colab": {
          "base_uri": "https://localhost:8080/"
        }
      },
      "source": [
        "t[4:]"
      ],
      "execution_count": 10,
      "outputs": [
        {
          "output_type": "execute_result",
          "data": {
            "text/plain": [
              "[44, 55, 66, 77]"
            ]
          },
          "metadata": {},
          "execution_count": 10
        }
      ]
    },
    {
      "cell_type": "code",
      "metadata": {
        "id": "luSZ9C0K2cue",
        "outputId": "cf34cc1b-dff4-4adf-cc94-1ab254f5032e",
        "colab": {
          "base_uri": "https://localhost:8080/"
        }
      },
      "source": [
        "t[:4]"
      ],
      "execution_count": 11,
      "outputs": [
        {
          "output_type": "execute_result",
          "data": {
            "text/plain": [
              "[0, 11, 22, 33]"
            ]
          },
          "metadata": {},
          "execution_count": 11
        }
      ]
    },
    {
      "cell_type": "markdown",
      "metadata": {
        "id": "2yC4xnVSn5Ir"
      },
      "source": [
        "#### recherche d'un minimum par méthode \"diviser-régner\""
      ]
    },
    {
      "cell_type": "code",
      "metadata": {
        "id": "XlQfAwiGlml4",
        "outputId": "014a66d2-e07e-4f95-923b-faace5c9544f",
        "colab": {
          "base_uri": "https://localhost:8080/"
        }
      },
      "source": [
        "def minimum(liste):\n",
        "    taille = len(liste)\n",
        "    if taille == 1 :\n",
        "        return liste[0]\n",
        "    else :\n",
        "        milieu = taille // 2\n",
        "        x = minimum(liste[:milieu])\n",
        "        y = minimum(liste[milieu:])\n",
        "        if x < y :\n",
        "            return x\n",
        "        else :\n",
        "            return y\n",
        "\n",
        "print(minimum([23,12,4,56,35,57,3,11]))"
      ],
      "execution_count": 12,
      "outputs": [
        {
          "output_type": "stream",
          "name": "stdout",
          "text": [
            "3\n"
          ]
        }
      ]
    },
    {
      "cell_type": "markdown",
      "metadata": {
        "id": "Mu_RK40VloN2"
      },
      "source": [
        "Observer l'exécution sur [PythonTutor](http://www.pythontutor.com/visualize.html#code=def%20minimum%28liste%29%3A%0A%20%20%20%20taille%20%3D%20len%28liste%29%0A%20%20%20%20if%20taille%20%3D%3D%201%20%3A%0A%20%20%20%20%20%20%20%20return%20liste%5B0%5D%0A%20%20%20%20else%20%3A%0A%20%20%20%20%20%20%20%20milieu%20%3D%20taille%20//%202%0A%20%20%20%20%20%20%20%20x%20%3D%20minimum%28liste%5B%3Amilieu%5D%29%0A%20%20%20%20%20%20%20%20y%20%3D%20minimum%28liste%5Bmilieu%3A%5D%29%0A%20%20%20%20%20%20%20%20if%20x%20%3C%20y%20%3A%0A%20%20%20%20%20%20%20%20%20%20%20%20return%20x%0A%20%20%20%20%20%20%20%20else%20%3A%0A%20%20%20%20%20%20%20%20%20%20%20%20return%20y%0A%0Aprint%28minimum%28%5B23,12,4,56,35,57,3,11%5D%29%29&cumulative=false&curInstr=0&heapPrimitives=nevernest&mode=display&origin=opt-frontend.js&py=3&rawInputLstJSON=%5B%5D&textReferences=false)"
      ]
    },
    {
      "cell_type": "markdown",
      "metadata": {
        "id": "r5LfioIHmZbI"
      },
      "source": [
        "#### Dans cet exemple, préciser quelles lignes de code correspondent à chacune des parties de la méthode : "
      ]
    },
    {
      "cell_type": "markdown",
      "metadata": {
        "id": "XPzq5haLl2ua"
      },
      "source": [
        "\n",
        "\n",
        "* diviser\n",
        "\n",
        "        milieu = taille // 2\n",
        "        x = minimum(liste[:milieu])\n",
        "        y = minimum(liste[milieu:])\n",
        "\n",
        "* régner\n",
        "\n",
        "        if taille == 1 :\n",
        "            return liste[0]\n",
        "    \n",
        "* fusionner\n",
        "\n",
        "        if x < y :\n",
        "            return x\n",
        "        else :\n",
        "            return y"
      ]
    },
    {
      "cell_type": "markdown",
      "metadata": {
        "id": "ExHEcU1qmcVr"
      },
      "source": [
        "#### La méthode Diviser-Régner permet-elle d'améliorer la complexité en temps de la recherche du minimum ?\n",
        "\n",
        "* Chaque appel récursif est fait sur un tableau **deux fois plus petit** que le tableau de départ\n",
        "* mais il y a **2** appels récursifs.\n",
        "\n",
        "ici, la méthode Diviser-Régner**ne permet pas** d'améliorer la complexité en temps de la recherche du minimum"
      ]
    }
  ]
}