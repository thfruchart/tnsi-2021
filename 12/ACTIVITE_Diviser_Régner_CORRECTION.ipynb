{
  "nbformat": 4,
  "nbformat_minor": 0,
  "metadata": {
    "colab": {
      "name": "Chap12_ACTIVITE_Diviser_Régner.ipynb",
      "provenance": [],
      "collapsed_sections": [],
      "authorship_tag": "ABX9TyME5YhvQa64LvOgtj0l0+k8",
      "include_colab_link": true
    },
    "kernelspec": {
      "name": "python3",
      "display_name": "Python 3"
    }
  },
  "cells": [
    {
      "cell_type": "markdown",
      "metadata": {
        "id": "view-in-github",
        "colab_type": "text"
      },
      "source": [
        "<a href=\"https://colab.research.google.com/github/thfruchart/tnsi/blob/main/12/ACTIVITE_Diviser_R%C3%A9gner_CORRECTION.ipynb\" target=\"_parent\"><img src=\"https://colab.research.google.com/assets/colab-badge.svg\" alt=\"Open In Colab\"/></a>"
      ]
    },
    {
      "cell_type": "markdown",
      "metadata": {
        "id": "0NCZOOSj2rwn"
      },
      "source": [
        "# Rechercher une valeur dans une liste"
      ]
    },
    {
      "cell_type": "markdown",
      "metadata": {
        "id": "LwbJo5rP3MU9"
      },
      "source": [
        "## Exemple 1"
      ]
    },
    {
      "cell_type": "markdown",
      "metadata": {
        "id": "6AfdSWuo2u0u"
      },
      "source": [
        "Exécuter \"à la main\" le programme suivant, puis vérifier avec Python"
      ]
    },
    {
      "cell_type": "code",
      "metadata": {
        "id": "iKQCE9Lp2rLd",
        "outputId": "6051c2a7-a777-4a59-8b94-95196499508a",
        "colab": {
          "base_uri": "https://localhost:8080/"
        }
      },
      "source": [
        "def est_present(t, e) :\n",
        "    bingo = False\n",
        "    i = 0\n",
        "    n = len(t)\n",
        "    while (i < n) and (bingo == False) :\n",
        "        if t[i] == e :\n",
        "            bingo = True\n",
        "        i = i + 1\n",
        "    return bingo\n",
        "    \n",
        "print(est_present([3,5,12,15,48],4))  # la boucle while exécutée 5 fois\n",
        "print(est_present([3,5,12,15,48],3))  # la boucle while exécutée 1 fois"
      ],
      "execution_count": 1,
      "outputs": [
        {
          "output_type": "stream",
          "name": "stdout",
          "text": [
            "False\n",
            "True\n"
          ]
        }
      ]
    },
    {
      "cell_type": "markdown",
      "metadata": {
        "id": "p9E6lfcv28ua"
      },
      "source": [
        "#### Quelle est la complexité en temps de la fonction `est_present`:\n",
        "* dans le meilleur des cas ?\n",
        "  * cas où la valeur cherchée est au début du tableau\n",
        "  * recherche en temps constant :  O(1)\n",
        "* dans le pire des cas ?\n",
        "  * cas où la valeur cherchée n'est PAS dans le tableau\n",
        "  * recherche proportionnelle à la taille du tableau, notée n\n",
        "  * complexité **linéaire** : O(n)"
      ]
    },
    {
      "cell_type": "markdown",
      "metadata": {
        "id": "jCGdy2Zl3VSQ"
      },
      "source": [
        "## Exemple 2"
      ]
    },
    {
      "cell_type": "code",
      "metadata": {
        "id": "mGd5d1O23ZEu",
        "outputId": "56153a42-d9ce-4b45-ed3c-3cfaeae87838",
        "colab": {
          "base_uri": "https://localhost:8080/"
        }
      },
      "source": [
        "def mystere(t, e):\n",
        "    bingo = False\n",
        "    indiceGauche = 0\n",
        "    indiceDroite = len(t) - 1\n",
        "    while (indiceGauche <= indiceDroite) and (bingo == False) :\n",
        "        indiceMedian = (indiceGauche + indiceDroite) // 2\n",
        "        if t[indiceMedian] == e:\n",
        "                bingo = True\n",
        "        elif t[indiceMedian] < e:\n",
        "                indiceGauche = indiceMedian + 1\n",
        "        else:\n",
        "                indiceDroite =indiceMedian - 1\n",
        "    return bingo\n",
        "\n",
        "\n",
        "print(mystere([2, 12, 17, 25, 33, 35, 44, 54, 77, 91], 35))\n",
        "print(mystere([2, 12, 17, 25, 33, 35, 44, 54, 77, 91], 50))"
      ],
      "execution_count": 2,
      "outputs": [
        {
          "output_type": "stream",
          "name": "stdout",
          "text": [
            "True\n",
            "False\n"
          ]
        }
      ]
    },
    {
      "cell_type": "markdown",
      "metadata": {
        "id": "CLlgl9643kAb"
      },
      "source": [
        "1. A quelle précondition sur le tableau t la fonction mystère permet-elle de détecter la présence d'un élément e dans t ?\n",
        "  * il faut que t soit **trié**\n",
        "2. Dans quel cas l'exécution de `mystere(t, e)` est-elle la plus longue possible ? \n",
        "  * lorsque e ne figure pas dans le tableau t"
      ]
    },
    {
      "cell_type": "markdown",
      "metadata": {
        "id": "3qiPIVJ74Q0Z"
      },
      "source": [
        "## Complexité de la fonction mystère"
      ]
    },
    {
      "cell_type": "code",
      "metadata": {
        "id": "DoMV8UQ94XPR",
        "outputId": "c3bdcead-4ef4-48a8-aaec-f2b4620da4bc",
        "colab": {
          "base_uri": "https://localhost:8080/"
        }
      },
      "source": [
        "def nb_boucles_mystere(t, e):\n",
        "    cpt = 0\n",
        "    bingo = False\n",
        "    indiceGauche = 0\n",
        "    indiceDroite = len(t) - 1\n",
        "    while (indiceGauche <= indiceDroite) and (bingo == False) :\n",
        "        cpt += 1\n",
        "        indiceMedian = (indiceGauche + indiceDroite) // 2\n",
        "        if t[indiceMedian] == e:\n",
        "                bingo = True\n",
        "        elif t[indiceMedian] < e:\n",
        "                indiceGauche = indiceMedian + 1\n",
        "        else:\n",
        "                indiceDroite =indiceMedian - 1\n",
        "    return cpt\n",
        "\n",
        "\n",
        "e = 2022\n",
        "for k in range(1,11):\n",
        "    t = [ 0 for i in range(2**k)]\n",
        "    print(\"k=\", k, \"taille du tab\", 2**k, \"nb boucles = \", nb_boucles_mystere(t,e))"
      ],
      "execution_count": 8,
      "outputs": [
        {
          "output_type": "stream",
          "name": "stdout",
          "text": [
            "k= 1 taille du tab 2 nb boucles =  2\n",
            "k= 2 taille du tab 4 nb boucles =  3\n",
            "k= 3 taille du tab 8 nb boucles =  4\n",
            "k= 4 taille du tab 16 nb boucles =  5\n",
            "k= 5 taille du tab 32 nb boucles =  6\n",
            "k= 6 taille du tab 64 nb boucles =  7\n",
            "k= 7 taille du tab 128 nb boucles =  8\n",
            "k= 8 taille du tab 256 nb boucles =  9\n",
            "k= 9 taille du tab 512 nb boucles =  10\n",
            "k= 10 taille du tab 1024 nb boucles =  11\n"
          ]
        }
      ]
    },
    {
      "cell_type": "markdown",
      "metadata": {
        "id": "PE7pFQpH4mqp"
      },
      "source": [
        "1. Exécuter la fonction `nb_boucles_mystere` sur des tableaux de taille 32, 64, 128... $2^k$ pour différentes valeur de k afin d'évaluer le nombre de boucles exécutées **dans le pire des cas**\n",
        "  * le nombre de boucle vaut 1+k, dans le pire des cas, pour un tableau de taille $2^k$\n",
        "2. Que peut-on en conclure sur la complexité en temps de la fonction mystère.\n",
        "  * la complexité en temps de la fonction mystère est donc de l'ordre de k, pour un tableau de taille $2^k$\n",
        "  * si $n = 2^k$ alors $k = log_2(n)$\n",
        "  * on note $T(n) = O(log_2(n))$  -> complexité **logarithmique**"
      ]
    },
    {
      "cell_type": "markdown",
      "metadata": {
        "id": "PUr_WLeO5jGg"
      },
      "source": [
        "## Rappel "
      ]
    },
    {
      "cell_type": "markdown",
      "metadata": {
        "id": "YtLyD3J15mgY"
      },
      "source": [
        "![](https://codimd.s3.shivering-isles.com/demo/uploads/upload_fafe470b6fda17b1b8bc77f58fc6408f.png)\n"
      ]
    }
  ]
}