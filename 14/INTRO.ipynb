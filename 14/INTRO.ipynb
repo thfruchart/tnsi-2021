{
  "nbformat": 4,
  "nbformat_minor": 0,
  "metadata": {
    "colab": {
      "name": "Chap14_INTRO.ipynb",
      "provenance": [],
      "collapsed_sections": [],
      "authorship_tag": "ABX9TyMmhjmoqyR8RH9W+29EnYIc",
      "include_colab_link": true
    },
    "kernelspec": {
      "name": "python3",
      "display_name": "Python 3"
    }
  },
  "cells": [
    {
      "cell_type": "markdown",
      "metadata": {
        "id": "view-in-github",
        "colab_type": "text"
      },
      "source": [
        "<a href=\"https://colab.research.google.com/github/thfruchart/tnsi/blob/main/14/INTRO.ipynb\" target=\"_parent\"><img src=\"https://colab.research.google.com/assets/colab-badge.svg\" alt=\"Open In Colab\"/></a>"
      ]
    },
    {
      "cell_type": "markdown",
      "metadata": {
        "id": "UsKYyU4ovjqr"
      },
      "source": [
        "# Introduction"
      ]
    },
    {
      "cell_type": "code",
      "metadata": {
        "id": "qWpH_zdavK4v"
      },
      "source": [
        "def recherche(gene, seq_adn):\n",
        "    n = len(seq_adn)\n",
        "    g = len(gene)\n",
        "    i = 0\n",
        "    while i < n-g+1 :\n",
        "        j = 0\n",
        "        car_gene = gene[j]\n",
        "        car_adn = seq_adn[i+j]\n",
        "        while j < g and car_gene == car_adn:\n",
        "            j = j+1\n",
        "            if j == g:\n",
        "                return True\n",
        "            car_gene = gene[j]\n",
        "            car_adn = seq_adn[i+j]\n",
        "        \n",
        "        i = i+1\n",
        "    return False\n",
        "\n",
        "print(recherche(\"AGTC\", \"GTAGCAGTCTCGAAGTCGA\"))"
      ],
      "execution_count": null,
      "outputs": []
    },
    {
      "cell_type": "markdown",
      "metadata": {
        "id": "vdF0whgVkXCr"
      },
      "source": [
        "#### [Observer l'exécution du code sur PythonTutor](https://pythontutor.com/visualize.html#code=def%20recherche%28gene,%20seq_adn%29%3A%0A%20%20%20%20n%20%3D%20len%28seq_adn%29%0A%20%20%20%20g%20%3D%20len%28gene%29%0A%20%20%20%20i%20%3D%200%0A%20%20%20%20while%20i%20%3C%20n-g%2B1%20%3A%0A%20%20%20%20%20%20%20%20j%20%3D%200%0A%20%20%20%20%20%20%20%20car_gene%20%3D%20gene%5Bj%5D%0A%20%20%20%20%20%20%20%20car_adn%20%3D%20seq_adn%5Bi%2Bj%5D%0A%20%20%20%20%20%20%20%20while%20j%20%3C%20g%20and%20car_gene%20%3D%3D%20car_adn%3A%0A%20%20%20%20%20%20%20%20%20%20%20%20j%20%3D%20j%2B1%0A%20%20%20%20%20%20%20%20%20%20%20%20if%20j%20%3D%3D%20g%3A%0A%20%20%20%20%20%20%20%20%20%20%20%20%20%20%20%20return%20True%0A%20%20%20%20%20%20%20%20%20%20%20%20car_gene%20%3D%20gene%5Bj%5D%0A%20%20%20%20%20%20%20%20%20%20%20%20car_adn%20%3D%20seq_adn%5Bi%2Bj%5D%0A%20%20%20%20%20%20%20%20%0A%20%20%20%20%20%20%20%20i%20%3D%20i%2B1%0A%20%20%20%20return%20False%0A%0Aprint%28recherche%28%22AGTC%22,%20%22GTAGCAGTCTCGAAGTCGA%22%29%29&cumulative=false&curInstr=0&heapPrimitives=nevernest&mode=display&origin=opt-frontend.js&py=3&rawInputLstJSON=%5B%5D&textReferences=false) et expliquer le rôle de la fonction recherche."
      ]
    },
    {
      "cell_type": "markdown",
      "metadata": {
        "id": "P2UNowjLvlcL"
      },
      "source": [
        "La fonction recherche prend en paramètres deux chaines de caractères `gene` et `seq_adn` et renvoie `True` si on retrouve `gene` dans `seq_adn` et `False` sinon.\n",
        "\n",
        "\n",
        "\n",
        "```\n",
        ">>> recherche(\"AGTC\", \"GTAGCAGTCTCGAAGTCGA\")\n",
        "True\n",
        ">>> recherche(\"AGTC\", \"GTACAAATCTTGCC\")\n",
        "False\n",
        "```\n",
        "\n",
        "\n"
      ]
    },
    {
      "cell_type": "markdown",
      "metadata": {
        "id": "1XFHFhrgGvnY"
      },
      "source": [
        "             0            i    i+j             n\n",
        "     seq_adn|............| | | |c| | | .......| \n",
        "                     gene| | | |x| | | \n",
        "                          0     j     g"
      ]
    },
    {
      "cell_type": "markdown",
      "metadata": {
        "id": "SIh_WftkkvBT"
      },
      "source": [
        "## Estimation de la complexité de cette fonction, dans le pire des cas. \n",
        "En observant l'algorithme de la fonction ci-dessus :\n"
      ]
    },
    {
      "cell_type": "markdown",
      "metadata": {
        "id": "eZiRPvGUlgNG"
      },
      "source": [
        "#### estimer le nombre de fois où est exécutée la boucle `while j < g and car_gene == car_adn:`   dans le pire des cas"
      ]
    },
    {
      "cell_type": "markdown",
      "metadata": {
        "id": "NVFZYH3mlrkD"
      },
      "source": [
        "réponse : au maximum, cette boucle est exécutée ... fois"
      ]
    },
    {
      "cell_type": "markdown",
      "metadata": {
        "id": "Bkxw4NvzltDT"
      },
      "source": [
        "#### estimer le nombre de fois où est exécutée la boucle `while i < n-g+1 :`"
      ]
    },
    {
      "cell_type": "markdown",
      "metadata": {
        "id": "CyLym8y6lwpL"
      },
      "source": [
        "réponse : cette boucle est exécutée ... fois"
      ]
    },
    {
      "cell_type": "markdown",
      "metadata": {
        "id": "QQMUUcytlyMT"
      },
      "source": [
        "#### en déduire une estimation de la complexité en temps de cette fonction `recherche(gene, seq_adn)`, dans le pire des cas"
      ]
    },
    {
      "cell_type": "markdown",
      "metadata": {
        "id": "k-FncjgImPSr"
      },
      "source": [
        "réponse : pour des boucles imbriquées, on effectue le ... \n",
        "\n",
        "Ordre de grandeur : \n",
        "\n",
        "Pour un gène \"long\" et une séquence d'ADN TRÈS LONGUE, cet algorithme n'est pas très efficace!"
      ]
    }
  ]
}