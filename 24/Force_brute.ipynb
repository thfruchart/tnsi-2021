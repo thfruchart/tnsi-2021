{
  "nbformat": 4,
  "nbformat_minor": 0,
  "metadata": {
    "colab": {
      "name": "Force_brute.ipynb",
      "provenance": [],
      "authorship_tag": "ABX9TyPHE7mbDXPnPQarXtCl3MUb",
      "include_colab_link": true
    },
    "kernelspec": {
      "name": "python3",
      "display_name": "Python 3"
    },
    "language_info": {
      "name": "python"
    }
  },
  "cells": [
    {
      "cell_type": "markdown",
      "metadata": {
        "id": "view-in-github",
        "colab_type": "text"
      },
      "source": [
        "<a href=\"https://colab.research.google.com/github/thfruchart/tnsi/blob/main/24/Force_brute.ipynb\" target=\"_parent\"><img src=\"https://colab.research.google.com/assets/colab-badge.svg\" alt=\"Open In Colab\"/></a>"
      ]
    },
    {
      "cell_type": "code",
      "execution_count": null,
      "metadata": {
        "id": "Y3i_MEOYrDRC"
      },
      "outputs": [],
      "source": [
        ""
      ]
    },
    {
      "cell_type": "markdown",
      "metadata": {
        "id": "xIJ-3oNTEBDG"
      },
      "source": [
        "# Fonction de hachage"
      ]
    },
    {
      "cell_type": "code",
      "metadata": {
        "id": "penjTnU84Wr5"
      },
      "source": [
        "import hashlib\n",
        "\n",
        "def hache(txt :str):\n",
        "    m = hashlib.sha256(txt.encode())\n",
        "    return m.hexdigest()\n"
      ],
      "execution_count": null,
      "outputs": []
    },
    {
      "cell_type": "markdown",
      "metadata": {
        "id": "Pu_nj4qyD-DZ"
      },
      "source": [
        "## exemple de texte \"haché\""
      ]
    },
    {
      "cell_type": "code",
      "metadata": {
        "id": "bQCCWQlA4YSg",
        "colab": {
          "base_uri": "https://localhost:8080/",
          "height": 35
        },
        "outputId": "89749e5e-b7e3-4476-dcda-3c97f84c8e32"
      },
      "source": [
        "hache('pass')"
      ],
      "execution_count": null,
      "outputs": [
        {
          "output_type": "execute_result",
          "data": {
            "application/vnd.google.colaboratory.intrinsic+json": {
              "type": "string"
            },
            "text/plain": [
              "'d74ff0ee8da3b9806b18c877dbf29bbde50b5bd8e4dad7a3a725000feb82e8f1'"
            ]
          },
          "metadata": {},
          "execution_count": 2
        }
      ]
    },
    {
      "cell_type": "code",
      "source": [
        "hache('passe')"
      ],
      "metadata": {
        "colab": {
          "base_uri": "https://localhost:8080/",
          "height": 35
        },
        "id": "7cPNey3Mnm6h",
        "outputId": "602bb68f-ee67-4ede-f707-05907b438c60"
      },
      "execution_count": null,
      "outputs": [
        {
          "output_type": "execute_result",
          "data": {
            "application/vnd.google.colaboratory.intrinsic+json": {
              "type": "string"
            },
            "text/plain": [
              "'556972429c265aab19b92b814d2ffe9b2b4dc7e99176aae6e211ad425a37ec15'"
            ]
          },
          "metadata": {},
          "execution_count": 6
        }
      ]
    },
    {
      "cell_type": "code",
      "metadata": {
        "id": "S1dJDSeYuB7m",
        "colab": {
          "base_uri": "https://localhost:8080/",
          "height": 35
        },
        "outputId": "94622d7d-241d-4b21-a439-b13d26c9e116"
      },
      "source": [
        "hache('Pass')"
      ],
      "execution_count": null,
      "outputs": [
        {
          "output_type": "execute_result",
          "data": {
            "application/vnd.google.colaboratory.intrinsic+json": {
              "type": "string"
            },
            "text/plain": [
              "'ebdf8cc00bc4d9ceee633c56c63b49955769a92ca060825c9b08e4af61326e2b'"
            ]
          },
          "metadata": {},
          "execution_count": 7
        }
      ]
    },
    {
      "cell_type": "code",
      "metadata": {
        "id": "pI7_riRIuLV5",
        "colab": {
          "base_uri": "https://localhost:8080/",
          "height": 35
        },
        "outputId": "2b25a277-363c-43cd-b06a-73fcd73b649f"
      },
      "source": [
        "hache('bzm05')"
      ],
      "execution_count": null,
      "outputs": [
        {
          "output_type": "execute_result",
          "data": {
            "application/vnd.google.colaboratory.intrinsic+json": {
              "type": "string"
            },
            "text/plain": [
              "'1800a8d8ea19132af775f704bf94d62b40f0f047ec4460b2245303c290c2821d'"
            ]
          },
          "metadata": {},
          "execution_count": 4
        }
      ]
    },
    {
      "cell_type": "code",
      "metadata": {
        "id": "2yCaGnt-wCan",
        "colab": {
          "base_uri": "https://localhost:8080/",
          "height": 35
        },
        "outputId": "e43eec35-7141-44bf-e8e4-efb55887baba"
      },
      "source": [
        "hache('tp88bts')"
      ],
      "execution_count": null,
      "outputs": [
        {
          "output_type": "execute_result",
          "data": {
            "application/vnd.google.colaboratory.intrinsic+json": {
              "type": "string"
            },
            "text/plain": [
              "'6c88f895fd18d8c87072830b04314f9fc681a047f0cc0830677dbcc9f9dae790'"
            ]
          },
          "metadata": {},
          "execution_count": 5
        }
      ]
    },
    {
      "cell_type": "markdown",
      "source": [
        "# Exercice\n",
        "* écrire une fonction `force_brute` qui prend en argument `hash` une chaîne de caractères hexadécimaux de longueur 64 représentant le hash d'un mot de passe, et qui renvoie le mot de passe correspondant.\n",
        "* on pourra distinguer les cas suivants : \n",
        "  * le mot de passe ne contient que des chiffres\n",
        "  * le mot de passe ne contient que des minuscules\n",
        "  * le mot de passe contient des minuscules, majuscules ou chiffres..."
      ],
      "metadata": {
        "id": "G_NLYdnurF96"
      }
    },
    {
      "cell_type": "code",
      "source": [
        "# quatre chiffres\n",
        "h1 = '48e019050cd54d275eb1111c03d773f45bcb18d373ce1f3d7da5b046d21b262e'\n",
        "# trois minuscules\n",
        "h2='8a798890fe93817163b10b5f7bd2ca4d25d84c52739a645a889c173eee7d9d3d'\n",
        "# trois caractères\n",
        "h3 ='940b6b70c37f1b7c8101bf527f77ba9149bdadaf64e1ec2c3e8a1c100b187ef6'"
      ],
      "metadata": {
        "id": "AKqQgvZzr70n"
      },
      "execution_count": null,
      "outputs": []
    }
  ]
}