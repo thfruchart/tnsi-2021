{
  "nbformat": 4,
  "nbformat_minor": 0,
  "metadata": {
    "colab": {
      "name": "02-COURS-Ensemble.ipynb",
      "provenance": [],
      "collapsed_sections": [],
      "include_colab_link": true
    },
    "kernelspec": {
      "name": "python3",
      "display_name": "Python 3"
    },
    "celltoolbar": "Slideshow"
  },
  "cells": [
    {
      "cell_type": "markdown",
      "metadata": {
        "id": "view-in-github",
        "colab_type": "text"
      },
      "source": [
        "<a href=\"https://colab.research.google.com/github/thfruchart/tnsi/blob/main/02/COURS_Ensemble.ipynb\" target=\"_parent\"><img src=\"https://colab.research.google.com/assets/colab-badge.svg\" alt=\"Open In Colab\"/></a>"
      ]
    },
    {
      "cell_type": "markdown",
      "metadata": {
        "id": "RgfCIxM97OIg"
      },
      "source": [
        "# Liste ou dictionnaire ?\n"
      ]
    },
    {
      "cell_type": "markdown",
      "metadata": {
        "id": "LywZG7fe7RbM"
      },
      "source": [
        "Dans le problème des anniversaire, le meilleur algorithme consiste à chercher les doublons en parcourant une fois le tableau, et en \"cochant\" les valeurs déjà rencontrées dans une **structure adaptée**.\n",
        "* soit une liste : \n",
        "  * mais cela suppose de connaître d'avance les valeurs extrêmes qui peuvent être contenues dans le tableau\n",
        "  * une telle liste occupe en mémoire plus de place que ce qui est souvent utile. \n",
        "\n",
        "\n",
        "\n"
      ]
    },
    {
      "cell_type": "markdown",
      "metadata": {
        "id": "n1fP8tnkPI8H"
      },
      "source": [
        "* soit un dictionnaire :\n",
        "  * on peut stocker les valeurs du tableau au fur et à mesure, sans définir dès le départ la dimension de stockage.\n",
        "  * on pourrait chercher les doublons dans un tableau contenant des données de type `str` aussi bien que `int`.\n",
        "  * mais... seules les clés du dictionnaire sont vraiment utiles. Les valeurs stockées importent peu => on doit pouvoir encore économiser de la place avec une structure plus \"légère\".\n"
      ]
    },
    {
      "cell_type": "markdown",
      "metadata": {
        "id": "B8I4k3DLPI8J"
      },
      "source": [
        "  Une telle structure correspond à ce qu'on appelle habituellement : **ensemble**. \n",
        "  \n",
        "La détection de doublon pourrait s'écrire : "
      ]
    },
    {
      "cell_type": "code",
      "metadata": {
        "id": "8YC4lJ6A3mzh",
        "trusted": false
      },
      "source": [
        "def detecte_doublon_ensemble(t):\n",
        "    '''t est un tableau d'entiers compris entre 1 et 366\n",
        "\n",
        "    la fonction renvoie True si le tableau t contient deux fois la même valeur, \n",
        "    et False si t ne contient que des valeurs distinctes '''\n",
        "    s = cree_ensemble() #ensemble vide\n",
        "    # parcours du tableau \n",
        "    for v in t: \n",
        "        if appartient(v, s) : # si la valeur v figure déjà dans l'ensemble s\n",
        "            return True     # alors il y a un doublon\n",
        "        else :\n",
        "            ajoute(v, s)    # sinon, on ajoute v comme nouvelle valeur dans s\n",
        "    return False"
      ],
      "execution_count": null,
      "outputs": []
    },
    {
      "cell_type": "markdown",
      "metadata": {
        "id": "y3VSubcJ-Q2a"
      },
      "source": [
        "L'objectif de ce cours va être de créer cette structure \"ensemble\" uniquement à partir du type `list` de python.\n",
        "\n",
        "Cela permettra d'avoir une idée de la manière dont les dictionnaires sont implémentés. "
      ]
    },
    {
      "cell_type": "markdown",
      "metadata": {
        "id": "GFpPxSgt_2fU"
      },
      "source": [
        "## Avec un tableau de booléens"
      ]
    },
    {
      "cell_type": "code",
      "metadata": {
        "id": "Wx7kEJvT-k10",
        "trusted": false
      },
      "source": [
        "# première solution : tableau de booléens\n",
        "def cree_ensemble():\n",
        "    ''' crée un ensemble vide, pouvant contenir des entiers entre 0 et 366\n",
        "    implémenté sous la forme d'un tableau de booléens'''\n",
        "    return [False for i in range(367)]\n",
        "\n",
        "def appartient(v,s):\n",
        "    ''' teste si une valeur v (de 0 à 366) appartient à l'ensemble s'''\n",
        "    return s[v]\n",
        "\n",
        "def ajoute(v,s):\n",
        "    ''' ajoute la valeur v (de 0 à 366) à l'ensemble s'''\n",
        "    s[v]=True\n",
        "\n",
        "def detecte_doublon_ensemble(t):\n",
        "    '''t est un tableau d'entiers compris entre 1 et 366\n",
        "    la fonction renvoie True si le tableau t contient deux fois la même valeur, \n",
        "    et False si t ne contient que des valeurs distinctes '''\n",
        "    s = cree_ensemble() #ensemble vide\n",
        "    # parcours du tableau \n",
        "    for v in t: \n",
        "        if appartient(v, s) : \n",
        "            return True\n",
        "        else :\n",
        "            ajoute(v, s)\n",
        "    return False"
      ],
      "execution_count": null,
      "outputs": []
    },
    {
      "cell_type": "code",
      "metadata": {
        "id": "iSxa024R_i5g",
        "colab": {
          "base_uri": "https://localhost:8080/",
          "height": 34
        },
        "trusted": false,
        "outputId": "1718bb00-8f7b-42ee-ea15-ff837e293595"
      },
      "source": [
        "detecte_doublon_ensemble([0,1,2,3,4,5,1,0])"
      ],
      "execution_count": null,
      "outputs": [
        {
          "output_type": "execute_result",
          "data": {},
          "metadata": {
            "tags": []
          },
          "execution_count": 5
        }
      ]
    },
    {
      "cell_type": "code",
      "metadata": {
        "id": "xqvPJFqI_qFh",
        "colab": {
          "base_uri": "https://localhost:8080/",
          "height": 34
        },
        "trusted": false,
        "outputId": "1f4e6996-bc80-4a6c-f7b6-e674bc3f2fe9"
      },
      "source": [
        "detecte_doublon_ensemble([0,1,2,3,4,5,6])"
      ],
      "execution_count": null,
      "outputs": [
        {
          "output_type": "execute_result",
          "data": {},
          "metadata": {
            "tags": []
          },
          "execution_count": 6
        }
      ]
    },
    {
      "cell_type": "markdown",
      "metadata": {
        "id": "3DKiDI6ac7LC"
      },
      "source": [
        "Un exemple sur [PythonTutor](https://pythontutor.com/visualize.html#code=%23%20premi%C3%A8re%20solution%20%3A%20tableau%20de%20bool%C3%A9ens%0Adef%20cree_ensemble%28%29%3A%0A%20%20%20%20'''%20cr%C3%A9e%20un%20ensemble%20vide,%20pouvant%20contenir%20des%20entiers%20entre%200%20et%2012%0A%20%20%20%20impl%C3%A9ment%C3%A9%20sous%20la%20forme%20d'un%20tableau%20de%20bool%C3%A9ens'''%0A%20%20%20%20return%20%5BFalse%20for%20i%20in%20range%2813%29%5D%0A%0Adef%20appartient%28v,s%29%3A%0A%20%20%20%20'''%20teste%20si%20une%20valeur%20v%20%28de%200%20%C3%A0%2012%29%20appartient%20%C3%A0%20l'ensemble%20s'''%0A%20%20%20%20return%20s%5Bv%5D%0A%0Adef%20ajoute%28v,s%29%3A%0A%20%20%20%20'''%20ajoute%20la%20valeur%20v%20%28de%200%20%C3%A0%2012%29%20%C3%A0%20l'ensemble%20s'''%0A%20%20%20%20s%5Bv%5D%3DTrue%0A%0A%0Adef%20detecte_doublon_ensemble%28t%29%3A%0A%20%20%20%20'''t%20est%20un%20tableau%20d'entiers%20compris%20entre%201%20et%2012%0A%0A%20%20%20%20la%20fonction%20renvoie%20True%20si%20le%20tableau%20t%20contient%20deux%20fois%20la%20m%C3%AAme%20valeur,%20%0A%20%20%20%20et%20False%20si%20t%20ne%20contient%20que%20des%20valeurs%20distinctes%20'''%0A%20%20%20%20s%20%3D%20cree_ensemble%28%29%20%23ensemble%20vide%0A%20%20%20%20%23%20parcours%20du%20tableau%20%0A%20%20%20%20for%20v%20in%20t%3A%20%0A%20%20%20%20%20%20%20%20if%20appartient%28v,%20s%29%20%3A%20%0A%20%20%20%20%20%20%20%20%20%20%20%20return%20True%0A%20%20%20%20%20%20%20%20else%20%3A%0A%20%20%20%20%20%20%20%20%20%20%20%20ajoute%28v,%20s%29%0A%20%20%20%20return%20False%0A%0Adetecte_doublon_ensemble%28%5B5,4,3,5,7,1%5D%29&cumulative=false&curInstr=4&heapPrimitives=nevernest&mode=display&origin=opt-frontend.js&py=3&rawInputLstJSON=%5B%5D&textReferences=false) : sélectionner les lignes **16**, **23**, **25** et **27**"
      ]
    },
    {
      "cell_type": "markdown",
      "metadata": {
        "id": "jnRu7WQhACzX"
      },
      "source": [
        "## avec un dictionnaire"
      ]
    },
    {
      "cell_type": "code",
      "metadata": {
        "id": "Bk1LOUaLAFnt",
        "trusted": false
      },
      "source": [
        "# deuxième solution : dictionnaire\n",
        "def cree_ensemble():\n",
        "    ''' crée un ensemble vide, pouvant contenir des entiers ou des textes\n",
        "    implémenté sous la forme d'un dictionnaire de booléens'''\n",
        "    return {}\n",
        "\n",
        "def appartient(v,s):\n",
        "    ''' teste si une valeur v appartient à l'ensemble s'''\n",
        "    return v in s\n",
        "\n",
        "def ajoute(v,s):\n",
        "    ''' ajoute la valeur v à l'ensemble s'''\n",
        "    s[v]=True\n",
        "\n",
        "def detecte_doublon_ensemble(t):\n",
        "    '''t est un tableau d'entiers compris entre 1 et 366\n",
        "    la fonction renvoie True si le tableau t contient deux fois la même valeur, \n",
        "    et False si t ne contient que des valeurs distinctes '''\n",
        "    s = cree_ensemble() #ensemble vide\n",
        "    # parcours du tableau \n",
        "    for v in t: \n",
        "        if appartient(v, s) : \n",
        "            return True\n",
        "        else :\n",
        "            ajoute(v, s)\n",
        "    return False\n",
        "\n",
        "assert detecte_doublon_ensemble([10,180,234,345,10,57,1,321])==True\n",
        "assert detecte_doublon_ensemble([10,180,234,345,120,57,1,321]) == False"
      ],
      "execution_count": null,
      "outputs": []
    },
    {
      "cell_type": "markdown",
      "metadata": {
        "id": "y-DgIaJZoWbA"
      },
      "source": [
        "Exemple sur [PythonTutor](https://pythontutor.com/visualize.html#code=%23%20deuxi%C3%A8me%20solution%20%3A%20dictionnaire%0Adef%20cree_ensemble%28%29%3A%0A%20%20%20%20'''%20cr%C3%A9e%20un%20ensemble%20vide,%20pouvant%20contenir%20des%20entiers%20ou%20des%20textes%0A%20%20%20%20impl%C3%A9ment%C3%A9%20sous%20la%20forme%20d'un%20dictionnaire%20de%20bool%C3%A9ens'''%0A%20%20%20%20return%20%7B%7D%0A%0Adef%20appartient%28v,s%29%3A%0A%20%20%20%20'''%20teste%20si%20une%20valeur%20v%20appartient%20%C3%A0%20l'ensemble%20s'''%0A%20%20%20%20return%20v%20in%20s%0A%0Adef%20ajoute%28v,s%29%3A%0A%20%20%20%20'''%20ajoute%20la%20valeur%20v%20%C3%A0%20l'ensemble%20s'''%0A%20%20%20%20s%5Bv%5D%3DTrue%0A%0A%0Adef%20detecte_doublon_ensemble%28t%29%3A%0A%20%20%20%20'''t%20est%20un%20tableau%20d'entiers%20compris%20entre%201%20et%20366%0A%0A%20%20%20%20la%20fonction%20renvoie%20True%20si%20le%20tableau%20t%20contient%20deux%20fois%20la%20m%C3%AAme%20valeur,%20%0A%20%20%20%20et%20False%20si%20t%20ne%20contient%20que%20des%20valeurs%20distinctes%20'''%0A%20%20%20%20s%20%3D%20cree_ensemble%28%29%20%23ensemble%20vide%0A%20%20%20%20%23%20parcours%20du%20tableau%20%0A%20%20%20%20for%20v%20in%20t%3A%20%0A%20%20%20%20%20%20%20%20if%20appartient%28v,%20s%29%20%3A%20%0A%20%20%20%20%20%20%20%20%20%20%20%20return%20True%0A%20%20%20%20%20%20%20%20else%20%3A%0A%20%20%20%20%20%20%20%20%20%20%20%20ajoute%28v,%20s%29%0A%20%20%20%20return%20False%0A%0A%0Aprint%28detecte_doublon_ensemble%28%5B10,180,234,345,10,57,1,321%5D%29%29&cumulative=false&curInstr=3&heapPrimitives=nevernest&mode=display&origin=opt-frontend.js&py=3&rawInputLstJSON=%5B%5D&textReferences=false): sélectionner les lignes **16**, **23**, **25** et **27**"
      ]
    },
    {
      "cell_type": "markdown",
      "metadata": {
        "id": "P0RWRW6dAufN"
      },
      "source": [
        "# Nouvelle structure d'ensemble : liste de listes\n",
        "\n",
        "Chaque élément doit être stocké dans une liste, **de manière à pouvoir être trouvé très rapidement si on le cherche dans la liste**.\n",
        "* on pourrait envisager une liste triée, mais\n",
        "  * la recherche dans une liste triée s'effectue en O(log(n)) et non pas en temps constant\n",
        "  * pour insérer un nouvel élément, il y aurait un coût important\n",
        "    * pour trouver la place où l'insérer dans l'ensemble\n",
        "    * pour \"décaler\" les autres élements de l'ensemble\n",
        "\n",
        "\n",
        "* on va voir qu'une **liste de listes** est pertinente, si elle est bien construite."
      ]
    },
    {
      "cell_type": "code",
      "metadata": {
        "id": "YdiCbH8kCkvs",
        "trusted": false
      },
      "source": [
        "# troisième solution : liste de listes\n",
        "\n",
        "N = 10\n",
        "\n",
        "def cree_ensemble():\n",
        "    ''' crée un ensemble vide, pouvant contenir des entiers \n",
        "    implémenté sous la forme d'une liste de listes'''\n",
        "    return [ [] for i in range(N) ]\n",
        "\n",
        "def appartient(v,s):\n",
        "    ''' teste si une valeur v appartient à l'ensemble s'''\n",
        "    indice = v % N\n",
        "    return v in s[indice]\n",
        "\n",
        "def ajoute(v,s):\n",
        "    ''' ajoute la valeur v à l'ensemble s'''\n",
        "    indice = v % N\n",
        "    s[indice].append(v)\n",
        "\n",
        "\n",
        "def detecte_doublon_ensemble(t):\n",
        "    '''t est un tableau d'entiers compris entre 1 et 366\n",
        "\n",
        "    la fonction renvoie True si le tableau t contient deux fois la même valeur, \n",
        "    et False si t ne contient que des valeurs distinctes '''\n",
        "    s = cree_ensemble() #ensemble vide\n",
        "    # parcours du tableau \n",
        "    for v in t: \n",
        "        if appartient(v, s) : \n",
        "            return True\n",
        "        else :\n",
        "            ajoute(v, s)\n",
        "    return False\n",
        "\n",
        "\n",
        "assert detecte_doublon_ensemble([10,180,234,345,10,57,1,321])==True\n",
        "assert detecte_doublon_ensemble([10,180,234,345,120,57,1,321]) == False"
      ],
      "execution_count": null,
      "outputs": []
    },
    {
      "cell_type": "markdown",
      "metadata": {
        "id": "8dZ1O5JBp5cC"
      },
      "source": [
        "Exemple sur [PythonTutor](https://pythontutor.com/visualize.html#code=%23%20troisi%C3%A8me%20solution%20%3A%20liste%20de%20listes%0A%0AN%20%3D%2010%0A%0Adef%20cree_ensemble%28%29%3A%0A%20%20%20%20'''%20cr%C3%A9e%20un%20ensemble%20vide,%20pouvant%20contenir%20des%20entiers%20%0A%20%20%20%20impl%C3%A9ment%C3%A9%20sous%20la%20forme%20d'une%20liste%20de%20listes'''%0A%20%20%20%20return%20%5B%20%5B%5D%20for%20i%20in%20range%28N%29%20%5D%0A%0Adef%20appartient%28v,s%29%3A%0A%20%20%20%20'''%20teste%20si%20une%20valeur%20v%20appartient%20%C3%A0%20l'ensemble%20s'''%0A%20%20%20%20indice%20%3D%20v%20%25%20N%0A%20%20%20%20return%20v%20in%20s%5Bindice%5D%0A%0Adef%20ajoute%28v,s%29%3A%0A%20%20%20%20'''%20ajoute%20la%20valeur%20v%20%C3%A0%20l'ensemble%20s'''%0A%20%20%20%20indice%20%3D%20v%20%25%20N%0A%20%20%20%20s%5Bindice%5D.append%28v%29%0A%0A%0Adef%20detecte_doublon_ensemble%28t%29%3A%0A%20%20%20%20'''t%20est%20un%20tableau%20d'entiers%20compris%20entre%201%20et%20366%0A%0A%20%20%20%20la%20fonction%20renvoie%20True%20si%20le%20tableau%20t%20contient%20deux%20fois%20la%20m%C3%AAme%20valeur,%20%0A%20%20%20%20et%20False%20si%20t%20ne%20contient%20que%20des%20valeurs%20distinctes%20'''%0A%20%20%20%20s%20%3D%20cree_ensemble%28%29%20%23ensemble%20vide%0A%20%20%20%20%23%20parcours%20du%20tableau%20%0A%20%20%20%20for%20v%20in%20t%3A%20%0A%20%20%20%20%20%20%20%20if%20appartient%28v,%20s%29%20%3A%20%0A%20%20%20%20%20%20%20%20%20%20%20%20return%20True%0A%20%20%20%20%20%20%20%20else%20%3A%0A%20%20%20%20%20%20%20%20%20%20%20%20ajoute%28v,%20s%29%0A%20%20%20%20return%20False%0A%0A%0Aprint%28detecte_doublon_ensemble%28%5B10,180,234,345,10,57,1,321%5D%29%29&cumulative=false&curInstr=4&heapPrimitives=nevernest&mode=display&origin=opt-frontend.js&py=3&rawInputLstJSON=%5B%5D&textReferences=false), sélectionner les lignes **21**, **28**, **30** et **32**."
      ]
    },
    {
      "cell_type": "markdown",
      "metadata": {
        "id": "nSYGN5IguebU"
      },
      "source": [
        "1. Choix du nombre total de listes : ici on a une liste de `N = 10` listes. Il serait préférable de choisir `N = 23`. En effet, on s'attend à ce qu'un doublon soit probable si le nombre d'éléments dépasse 23. Si on utilise une liste de 23 listes pour tester des doublons, chacune de ces 23 listes ne devrait contenir qu'un petit nombre d'éléments.\n",
        "\n",
        "2. Chaque élément `v` est stocké dans l'une des N listes, selon la valeur de `v%N` : cela permet de \n",
        "  - choisir dans quelle liste stocker un élément avec la fonction `ajoute`\n",
        "  - chercher si cet élément est présent dans **une seule des N listes** avec la fonction `appartient`. Comme chacune de ces listes ne contient que peu d'éléments, cette recherche s'effectue pratiquement en temps constant\n",
        "\n",
        "3. Au niveau de l'occupation en mémoire, l'ensemble vide occupe certes un peu d'espace, mais beaucoup moins qu'avec une liste de 366 booléens ! Pour les ensembles non vides, la place occupée en mémoire augmente avec le nombre d'éléments. "
      ]
    },
    {
      "cell_type": "markdown",
      "metadata": {
        "id": "ayhQdUcRPI8a"
      },
      "source": [
        "# Conclusion"
      ]
    },
    {
      "cell_type": "markdown",
      "metadata": {
        "id": "I1ty9GKz2JgW"
      },
      "source": [
        "\n",
        "Il existe plusieurs manières de stocker l'information liée à la notion d'ensemble. Nous en avons détaillé trois :\n",
        "1. Tableau de booléens\n",
        "2. Dictionnaire\n",
        "3. Listes de listes\n",
        "\n",
        "On dit que ces trois types de données **implémentent** la structure \"ensemble\". \n",
        "Cette structure peut être caractérisée par son **interface**, c'est à dire ici, les spécifications de trois fonctions qui permettent de : \n",
        "* créer un ensemble vide\n",
        "* ajouter un élément à un ensemble\n",
        "* tester l'appartenance d'un élément à un ensemble. \n",
        "\n"
      ]
    }
  ]
}