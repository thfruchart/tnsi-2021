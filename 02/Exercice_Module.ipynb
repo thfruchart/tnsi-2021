{
  "nbformat": 4,
  "nbformat_minor": 0,
  "metadata": {
    "colab": {
      "name": "02-Exercice-Module.ipynb",
      "provenance": [],
      "collapsed_sections": [],
      "authorship_tag": "ABX9TyM9iLhoF5P0ixLvHD0JVeI8",
      "include_colab_link": true
    },
    "kernelspec": {
      "name": "python3",
      "display_name": "Python 3"
    },
    "language_info": {
      "name": "python"
    }
  },
  "cells": [
    {
      "cell_type": "markdown",
      "metadata": {
        "id": "view-in-github",
        "colab_type": "text"
      },
      "source": [
        "<a href=\"https://colab.research.google.com/github/thfruchart/tnsi/blob/main/02/Exercice_Module.ipynb\" target=\"_parent\"><img src=\"https://colab.research.google.com/assets/colab-badge.svg\" alt=\"Open In Colab\"/></a>"
      ]
    },
    {
      "cell_type": "markdown",
      "metadata": {
        "id": "1kczT7NrSeV7"
      },
      "source": [
        "# Exercice : création d'un module"
      ]
    },
    {
      "cell_type": "markdown",
      "metadata": {
        "id": "-cNrwHdzSg6C"
      },
      "source": [
        "Avant de traiter cet exercice dans Edupython :\n",
        "* copier le code ci-dessous dans un fichier **`dessin.py`**\n",
        "* créer un nouveau fichier **`figures.py`** dans le même répertoire que dessin.py\n",
        "  * la première ligne de ce fichier doit être : `from turtle import *`\n",
        "\n",
        "#### 1.**Compléter le fichier figures.py** de sorte que, lorsque on exécute `dessin.py`, on obtient :\n",
        "  * un rectangle\n",
        "  * un triangle équilatéral\n",
        "  * un cercle\n",
        "\n",
        "On pourra utiliser les liens suivants pour les principales commandes du module Turtle\n",
        "* [https://fr.wikibooks.org/wiki/Programmation_Python/Turtle](https://fr.wikibooks.org/wiki/Programmation_Python/Turtle)\n",
        "* [https://docs.python.org/fr/3/library/turtle.html](https://docs.python.org/fr/3/library/turtle.html)\n",
        "\n",
        "#### 2.  Pour aller plus loin\n",
        " \n",
        " Modifier votre module figures pour faire afficher l'aire et le périmètre de la figure tracée."
      ]
    },
    {
      "cell_type": "code",
      "metadata": {
        "id": "csPLdWXOSdo5"
      },
      "source": [
        "# dessin.py\n",
        "\n",
        "from turtle import *\n",
        "\n",
        "import figures\n",
        "\n",
        "up()\n",
        "goto(50,-60)\n",
        "down()\n",
        "figures.rectangle(100,75,'red')\n",
        "\n",
        "up()\n",
        "goto(-80,-20)\n",
        "down()\n",
        "figures.triange(85,'blue')\n",
        "\n",
        "up()\n",
        "goto(20,60)\n",
        "down()\n",
        "figures.cercle(60,'green')\n"
      ],
      "execution_count": null,
      "outputs": []
    }
  ]
}