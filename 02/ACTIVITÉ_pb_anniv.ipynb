{
  "nbformat": 4,
  "nbformat_minor": 0,
  "metadata": {
    "colab": {
      "name": "02-ACTIVITÉ-pb-anniv.ipynb",
      "provenance": [],
      "collapsed_sections": [],
      "authorship_tag": "ABX9TyNQpBASwvVrumNRi038V0p/",
      "include_colab_link": true
    },
    "kernelspec": {
      "name": "python3",
      "display_name": "Python 3"
    }
  },
  "cells": [
    {
      "cell_type": "markdown",
      "metadata": {
        "id": "view-in-github",
        "colab_type": "text"
      },
      "source": [
        "<a href=\"https://colab.research.google.com/github/thfruchart/tnsi/blob/main/02/ACTIVIT%C3%89_pb_anniv.ipynb\" target=\"_parent\"><img src=\"https://colab.research.google.com/assets/colab-badge.svg\" alt=\"Open In Colab\"/></a>"
      ]
    },
    {
      "cell_type": "markdown",
      "metadata": {
        "id": "DUzs00yn6IpZ"
      },
      "source": [
        "# Paradoxe des anniversaires"
      ]
    },
    {
      "cell_type": "markdown",
      "metadata": {
        "id": "mLNF8x-i6MB-"
      },
      "source": [
        "Il y a au maximum 366 jours dans une année (bissextile).\n",
        "\n",
        "Dans un groupe de $n$ personnes, la probabilité que deux personnes aient la même date anniversaire dépasse $1/2$ dès que $n \\geq 23$.\n",
        "\n",
        "On se propose de vérifier ce \"paradoxe\" en utilisant des **listes d'entiers**."
      ]
    },
    {
      "cell_type": "markdown",
      "metadata": {
        "id": "gFDAXE1d6uYX"
      },
      "source": [
        "## générer une liste aléatoire de n entiers compris entre 1 et 366\n",
        "\n",
        "On rappelle que le module random contient une méthode randint(a,b) qui retourne un nombre entier aléatoire compris entre a et b.\n",
        "\n",
        "Compléter le code de la fonction genere_list(n) ci-dessous"
      ]
    },
    {
      "cell_type": "code",
      "metadata": {
        "id": "TadknNfH6BbG"
      },
      "source": [
        "from random import randint\n",
        "\n",
        "def genere_list(n):\n",
        "    ''' retourne un tableau de longeur n, \n",
        "    contenant des entiers choisis aléatoirement entre 1 et 366 inclus'''\n",
        "    t = [0] * n  \n",
        "    for i in range (n):\n",
        "        t[i] = 0 # valeur à modifier !\n",
        "    return t\n"
      ],
      "execution_count": null,
      "outputs": []
    },
    {
      "cell_type": "markdown",
      "metadata": {
        "id": "tYzHcVeHzHuy"
      },
      "source": [
        "Compléter le code de la cellule suivante aux endroits indiqués `###`"
      ]
    },
    {
      "cell_type": "code",
      "metadata": {
        "id": "rZ_FTZKPhC9-"
      },
      "source": [
        "def detecte_doublon(t):\n",
        "    '''t est un tableau d'entiers compris entre 1 et 366\n",
        "\n",
        "    la fonction renvoie True si le tableau t contient deux fois la même valeur, \n",
        "    et False si t ne contient que des valeurs distinctes '''\n",
        "    for i in range(1, len(t)):\n",
        "        for j in range(i):\n",
        "            if t[i] == t[j]:\n",
        "                return ###\n",
        "    return ###\n"
      ],
      "execution_count": null,
      "outputs": []
    },
    {
      "cell_type": "markdown",
      "metadata": {
        "id": "5NBAxTAF1Jtb"
      },
      "source": [
        "**Tester la fonction,** sur différents exemples bien choisis"
      ]
    },
    {
      "cell_type": "code",
      "metadata": {
        "id": "f84k2tvA1Spm"
      },
      "source": [
        ""
      ],
      "execution_count": null,
      "outputs": []
    },
    {
      "cell_type": "code",
      "metadata": {
        "id": "48hOppY31SI6"
      },
      "source": [
        ""
      ],
      "execution_count": null,
      "outputs": []
    },
    {
      "cell_type": "code",
      "metadata": {
        "id": "X5sRDQiN1R6z"
      },
      "source": [
        ""
      ],
      "execution_count": null,
      "outputs": []
    },
    {
      "cell_type": "markdown",
      "metadata": {
        "id": "P0Wdfh5UzSv4"
      },
      "source": [
        "Pour évaluer la **rapidité d'exécution** de cette fonction, on va la tester \"dans le pire des cas\"\n",
        "* pour un tableau \"grand\"\n",
        "* qui ne contient pas de doublon"
      ]
    },
    {
      "cell_type": "code",
      "metadata": {
        "id": "9TJVm4-Vh-GY"
      },
      "source": [
        "from time import perf_counter\n",
        "t_test = [i for i in range(1,367)]\n",
        "\n",
        "start = perf_counter() # début du chrono\n",
        "detecte_doublon(t_test)\n",
        "end = perf_counter()   # fin du chrono\n",
        "print('test effectué en', (end-start)*1000,'ms' )"
      ],
      "execution_count": null,
      "outputs": []
    },
    {
      "cell_type": "markdown",
      "metadata": {
        "id": "uH24tMzxuMA_"
      },
      "source": [
        "# Estimation de la probabilité de doublon lorsque n=23"
      ]
    },
    {
      "cell_type": "code",
      "metadata": {
        "id": "I4_qRRL0uaXG"
      },
      "source": [
        "def evalue_proba(n, taille):\n",
        "    '''n : nombre de valeurs contenues dans une liste de l'échantillon\n",
        "    taille : nombre total de liste générées dans l'échantillon\n",
        "    \n",
        "    La fonction retourne la fréquence des doublons dans un échantillon de taille listes contenant n valeurs chacunes '''\n",
        "    nb_doublons = 0\n",
        "    for i in range(taille):\n",
        "        t = genere_list(n)\n",
        "        if detecte_doublon(t):\n",
        "            ###\n",
        "    return ###"
      ],
      "execution_count": null,
      "outputs": []
    },
    {
      "cell_type": "code",
      "metadata": {
        "id": "iyB6RS5WvMND"
      },
      "source": [
        "evalue_proba(23,1000)"
      ],
      "execution_count": null,
      "outputs": []
    },
    {
      "cell_type": "markdown",
      "metadata": {
        "id": "H3407nZ2jBJ1"
      },
      "source": [
        "# Trier le tableau avant de tester les doublons"
      ]
    },
    {
      "cell_type": "markdown",
      "metadata": {
        "id": "mnDtAR5U0CK1"
      },
      "source": [
        "Il est possible d'améliorer la rapidité de detecte_doublon si le tableau est trié.\n",
        "\n",
        "On peut utiliser pour cela la commande sorted(tab) qui retoune un tableau trié, contenant les même valeurs que tab, sans modifier tab."
      ]
    },
    {
      "cell_type": "code",
      "metadata": {
        "id": "KstdsD-Hjmli"
      },
      "source": [
        "def detecte_doublon_tri(tab):\n",
        "    '''t est un tableau d'entiers compris entre 1 et 366\n",
        "\n",
        "    la fonction renvoie True si le tableau t contient deux fois la même valeur, \n",
        "    et False si t ne contient que des valeurs distinctes '''\n",
        "    t = sorted(tab)\n",
        "    for i in range(len(t)-1):\n",
        "        ###\n",
        "    return ###\n",
        "\n"
      ],
      "execution_count": null,
      "outputs": []
    },
    {
      "cell_type": "code",
      "metadata": {
        "id": "G4HugL50k0f7"
      },
      "source": [
        "from random import shuffle\n",
        "t = [1,2,3,4]\n",
        "shuffle(t)\n",
        "t"
      ],
      "execution_count": null,
      "outputs": []
    },
    {
      "cell_type": "code",
      "metadata": {
        "id": "IcQp2_Jrj6qo"
      },
      "source": [
        "from time import perf_counter\n",
        "from random import shuffle\n",
        "\n",
        "t_test =  [i for i in range(1,367)]\n",
        "shuffle(t_test)\n",
        "\n",
        "start = perf_counter() #début du chrono\n",
        "detecte_doublon_tri(t_test)\n",
        "end = perf_counter() #fin du chrono\n",
        "print('test effectué en', (end-start)*1000,'ms' )"
      ],
      "execution_count": null,
      "outputs": []
    }
  ]
}