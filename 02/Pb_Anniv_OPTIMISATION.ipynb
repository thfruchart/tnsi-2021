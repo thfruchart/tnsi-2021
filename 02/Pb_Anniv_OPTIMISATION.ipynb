{
  "nbformat": 4,
  "nbformat_minor": 0,
  "metadata": {
    "colab": {
      "name": "02-Pb-Anniv-OPTIMISATION.ipynb",
      "provenance": [],
      "collapsed_sections": [],
      "include_colab_link": true
    },
    "kernelspec": {
      "name": "python3",
      "display_name": "Python 3"
    },
    "celltoolbar": "Slideshow"
  },
  "cells": [
    {
      "cell_type": "markdown",
      "metadata": {
        "id": "view-in-github",
        "colab_type": "text"
      },
      "source": [
        "<a href=\"https://colab.research.google.com/github/thfruchart/tnsi/blob/main/02/Pb_Anniv_OPTIMISATION.ipynb\" target=\"_parent\"><img src=\"https://colab.research.google.com/assets/colab-badge.svg\" alt=\"Open In Colab\"/></a>"
      ]
    },
    {
      "cell_type": "markdown",
      "metadata": {
        "id": "DUzs00yn6IpZ"
      },
      "source": [
        "# Paradoxe des anniversaires : ÉLÉMENTS DE CORRECTION\n",
        "\n"
      ]
    },
    {
      "cell_type": "markdown",
      "metadata": {
        "id": "mLNF8x-i6MB-"
      },
      "source": [
        "Il y a au maximum 366 jours dans une année (bissextile).\n",
        "\n",
        "Dans un groupe de $n$ personnes, la probabilité que deux personnes aient la même date anniversaire dépasse $1/2$ dès que $n \\geq 23$.\n",
        "\n",
        "On se propose de vérifier ce \"paradoxe\" en utilisant des **listes d'entiers**."
      ]
    },
    {
      "cell_type": "markdown",
      "metadata": {
        "id": "gFDAXE1d6uYX"
      },
      "source": [
        "## générer une liste aléatoire de n entiers compris entre 1 et 366\n",
        "\n",
        "On rappelle que le module random contient une méthode randint(a,b) qui retourne un nombre entier aléatoire compris entre a et b.\n",
        "\n",
        "Compléter le code de la fonction genere_list(n) ci-dessous"
      ]
    },
    {
      "cell_type": "code",
      "metadata": {
        "id": "TadknNfH6BbG",
        "trusted": false
      },
      "source": [
        "from random import randint\n",
        "\n",
        "def genere_list(n):\n",
        "    ''' retourne un tableau de longeur n, \n",
        "    contenant des entiers choisis aléatoirement entre 1 et 366 inclus'''\n",
        "    t = [0] * n  # tableau de longueur n, dont les cellules sont initialisées à 0\n",
        "    for i in range (n):\n",
        "        t[i] = randint(1,366)\n",
        "\n",
        "    return t\n"
      ],
      "execution_count": null,
      "outputs": []
    },
    {
      "cell_type": "code",
      "metadata": {
        "id": "3qeN63027BLm",
        "trusted": false
      },
      "source": [
        "# Autre solution... encore plus rapide\n",
        "from random import randint\n",
        "\n",
        "def genere_list(n):\n",
        "    ''' retourne un tableau de longeur n, \n",
        "    contenant des entiers choisis aléatoirement entre 1 et 366 inclus'''\n",
        "    return [randint(1,366) for i in range(n)]\n"
      ],
      "execution_count": null,
      "outputs": []
    },
    {
      "cell_type": "code",
      "metadata": {
        "id": "IN-T_OBMg-QA",
        "colab": {
          "base_uri": "https://localhost:8080/",
          "height": 34
        },
        "trusted": false,
        "outputId": "45f0673e-8f7c-4509-9cba-2bd0115ab046"
      },
      "source": [
        "genere_list(5)"
      ],
      "execution_count": null,
      "outputs": [
        {
          "output_type": "execute_result",
          "data": {},
          "metadata": {
            "tags": []
          },
          "execution_count": 15
        }
      ]
    },
    {
      "cell_type": "code",
      "metadata": {
        "id": "sOWmw93khA5I",
        "colab": {
          "base_uri": "https://localhost:8080/",
          "height": 34
        },
        "trusted": false,
        "outputId": "9fe64b1c-72e8-4706-c427-b44c859e3717"
      },
      "source": [
        "genere_list(5)"
      ],
      "execution_count": null,
      "outputs": [
        {
          "output_type": "execute_result",
          "data": {},
          "metadata": {
            "tags": []
          },
          "execution_count": 16
        }
      ]
    },
    {
      "cell_type": "code",
      "metadata": {
        "id": "rZ_FTZKPhC9-",
        "trusted": false
      },
      "source": [
        "def detecte_doublon(t):\n",
        "    '''t est un tableau d'entiers compris entre 1 et 366\n",
        "\n",
        "    la fonction renvoie True si le tableau t contient deux fois la même valeur, \n",
        "    et False si t ne contient que des valeurs distinctes '''\n",
        "    for i in range(1, len(t)):\n",
        "        for j in range(i):\n",
        "            if t[i] == t[j]:\n",
        "                return True\n",
        "    return False\n"
      ],
      "execution_count": null,
      "outputs": []
    },
    {
      "cell_type": "code",
      "metadata": {
        "id": "amDq8JJZhw4T",
        "colab": {
          "base_uri": "https://localhost:8080/",
          "height": 34
        },
        "trusted": false,
        "outputId": "d7ef258a-2617-47ac-f4b6-9dbcb28bbd03"
      },
      "source": [
        "detecte_doublon([0,1,2,3,4,0])"
      ],
      "execution_count": null,
      "outputs": [
        {
          "output_type": "execute_result",
          "data": {},
          "metadata": {
            "tags": []
          },
          "execution_count": 18
        }
      ]
    },
    {
      "cell_type": "code",
      "metadata": {
        "id": "LDEljNvKh0tS",
        "colab": {
          "base_uri": "https://localhost:8080/",
          "height": 34
        },
        "trusted": false,
        "outputId": "c4a1487b-3599-4092-87d1-b27376da8818"
      },
      "source": [
        "detecte_doublon([0,1,2,3,4,5,6])"
      ],
      "execution_count": null,
      "outputs": [
        {
          "output_type": "execute_result",
          "data": {},
          "metadata": {
            "tags": []
          },
          "execution_count": 19
        }
      ]
    },
    {
      "cell_type": "code",
      "metadata": {
        "id": "W7jTCjRVh6EB",
        "colab": {
          "base_uri": "https://localhost:8080/",
          "height": 34
        },
        "trusted": false,
        "outputId": "8ffe3d3e-fab4-4204-e025-810f56d76ef8"
      },
      "source": [
        "detecte_doublon([0,1,2,3,4,5,6,6])"
      ],
      "execution_count": null,
      "outputs": [
        {
          "output_type": "execute_result",
          "data": {},
          "metadata": {
            "tags": []
          },
          "execution_count": 20
        }
      ]
    },
    {
      "cell_type": "code",
      "metadata": {
        "id": "9TJVm4-Vh-GY",
        "colab": {
          "base_uri": "https://localhost:8080/",
          "height": 34
        },
        "trusted": false,
        "outputId": "b6a56690-fbf9-4ad6-ebba-9630cfff8eee"
      },
      "source": [
        "from time import perf_counter\n",
        "t_test = [i for i in range(1,367)]\n",
        "\n",
        "start = perf_counter()\n",
        "detecte_doublon(t_test)\n",
        "end = perf_counter()\n",
        "print('test effectué en', (end-start)*1000,'ms' )"
      ],
      "execution_count": null,
      "outputs": [
        {
          "output_type": "stream",
          "text": "test effectué en 7.964052999909654 ms\n",
          "name": "stdout"
        }
      ]
    },
    {
      "cell_type": "markdown",
      "metadata": {
        "id": "uH24tMzxuMA_"
      },
      "source": [
        "# Estimation de la probabilité de doublon lorsque n=23"
      ]
    },
    {
      "cell_type": "code",
      "metadata": {
        "id": "I4_qRRL0uaXG",
        "trusted": false
      },
      "source": [
        "def evalue_proba(n, taille):\n",
        "    '''n : nombre de valeurs contenues dans une liste de l'échantillon\n",
        "    taille : nombre total de liste générées dans l'échantillon\n",
        "    \n",
        "    La fonction retourne la fréquence des doublons dans un échantillon de taille listes contenant n valeurs chacunes '''\n",
        "    nb_doublons = 0\n",
        "    for i in range(taille):\n",
        "        t = genere_list(n)\n",
        "        if detecte_doublon(t):\n",
        "            nb_doublons += 1\n",
        "    return nb_doublons / taille\n"
      ],
      "execution_count": null,
      "outputs": []
    },
    {
      "cell_type": "code",
      "metadata": {
        "id": "iyB6RS5WvMND",
        "colab": {
          "base_uri": "https://localhost:8080/",
          "height": 34
        },
        "trusted": false,
        "outputId": "16e330d9-94e5-4d21-ed60-e046654ab047"
      },
      "source": [
        "evalue_proba(23,1000)"
      ],
      "execution_count": null,
      "outputs": [
        {
          "output_type": "execute_result",
          "data": {},
          "metadata": {
            "tags": []
          },
          "execution_count": 23
        }
      ]
    },
    {
      "cell_type": "markdown",
      "metadata": {
        "id": "H3407nZ2jBJ1"
      },
      "source": [
        "# Trier le tableau avant de tester les doublons"
      ]
    },
    {
      "cell_type": "code",
      "metadata": {
        "id": "KstdsD-Hjmli",
        "trusted": false
      },
      "source": [
        "def detecte_doublon_tri(tab):\n",
        "    '''t est un tableau d'entiers compris entre 1 et 366\n",
        "\n",
        "    la fonction renvoie True si le tableau t contient deux fois la même valeur, \n",
        "    et False si t ne contient que des valeurs distinctes '''\n",
        "    t = sorted(tab)\n",
        "    for i in range(len(t)-1):\n",
        "        if t[i]==t[i+1]:\n",
        "            return True\n",
        "    return False\n",
        "\n"
      ],
      "execution_count": null,
      "outputs": []
    },
    {
      "cell_type": "code",
      "metadata": {
        "id": "G4HugL50k0f7",
        "colab": {
          "base_uri": "https://localhost:8080/",
          "height": 34
        },
        "trusted": false,
        "outputId": "4095d1e7-0fe7-4ea4-dfa9-0eaa84c79b9e"
      },
      "source": [
        "from random import shuffle\n",
        "t = [1,2,3,4]\n",
        "shuffle(t)\n",
        "t"
      ],
      "execution_count": null,
      "outputs": [
        {
          "output_type": "execute_result",
          "data": {},
          "metadata": {
            "tags": []
          },
          "execution_count": 25
        }
      ]
    },
    {
      "cell_type": "code",
      "metadata": {
        "id": "IcQp2_Jrj6qo",
        "colab": {
          "base_uri": "https://localhost:8080/",
          "height": 34
        },
        "trusted": false,
        "outputId": "fd03ffbf-af11-4346-cecc-01a9ef7d3095"
      },
      "source": [
        "from time import perf_counter\n",
        "from random import shuffle\n",
        "\n",
        "t_test =  [i for i in range(1,367)]\n",
        "shuffle(t_test)\n",
        "\n",
        "start = perf_counter() #début du chrono\n",
        "detecte_doublon_tri(t_test)\n",
        "end = perf_counter() #fin du chrono\n",
        "print('test effectué en', (end-start)*1000,'ms' )"
      ],
      "execution_count": null,
      "outputs": [
        {
          "output_type": "stream",
          "text": "test effectué en 0.16123199998219206 ms\n",
          "name": "stdout"
        }
      ]
    },
    {
      "cell_type": "markdown",
      "metadata": {
        "id": "OkR86CVM1tc9"
      },
      "source": [
        "# Améliorer encore l'efficacité de l'algorithme de recherche de doublon ?\n",
        "\n",
        "Ordre de grandeur de la complexité des algorithmes précédents :\n",
        "* detecte_doublon : $ O(n^2) $ (quadratique)\n",
        "* detecte_doublon_tri : $O(n log(n) )$ (à cause du tri)\n",
        "\n"
      ]
    },
    {
      "cell_type": "markdown",
      "metadata": {
        "id": "zzeGAo3qfU7B"
      },
      "source": [
        "On peut optimiser davantage, il faudrait écrire un algorithme de recherche de doublons qui :\n",
        "* ne parcourt qu'une seule fois le tableau\n",
        "* effectue, pour chaque valeur du tableau, des opérations en temps constant"
      ]
    },
    {
      "cell_type": "markdown",
      "metadata": {
        "id": "sHyG80bPl4Y6"
      },
      "source": [
        "# En \"cochant des cases\" dans une liste\n",
        "\n"
      ]
    },
    {
      "cell_type": "markdown",
      "metadata": {
        "id": "tUQFAz_JtS_J"
      },
      "source": [
        "Compléter le code manquant à la place des `###`\n",
        "\n",
        "\n"
      ]
    },
    {
      "cell_type": "code",
      "metadata": {
        "id": "AXSOFHYEl9Mg",
        "trusted": false
      },
      "source": [
        "def detecte_doublon_coche_liste(t):\n",
        "    '''t est un tableau d'entiers compris entre 1 et 366\n",
        "\n",
        "    la fonction renvoie True si le tableau t contient deux fois la même valeur, \n",
        "    et False si t ne contient que des valeurs distinctes '''\n",
        "    aux = [False for i in range(367)]\n",
        "    for v in t: \n",
        "        if aux[v]: \n",
        "            ###\n",
        "        else :\n",
        "            ###\n",
        "    return False\n",
        "\n",
        "\n",
        "assert detecte_doublon_coche_liste([0,1,2,3,4,0])==True\n",
        "assert detecte_doublon_coche_liste([0,1,2,3,4,5])==False\n",
        "assert detecte_doublon_coche_liste([0,1,2,3,4,5,6,6])==True\n",
        "print('test OK')"
      ],
      "execution_count": null,
      "outputs": []
    },
    {
      "cell_type": "code",
      "metadata": {
        "id": "vDF8ljhZnBdP",
        "trusted": false
      },
      "source": [
        "from time import perf_counter\n",
        "from random import shuffle\n",
        "t_test =  [i for i in range(1,367)]\n",
        "shuffle(t_test)\n",
        "\n",
        "start = perf_counter() #début du chrono\n",
        "detecte_doublon_coche_liste(t_test)\n",
        "end = perf_counter() #fin du chrono\n",
        "\n",
        "print('test effectué en', (end-start)*1000,'ms' )"
      ],
      "execution_count": null,
      "outputs": []
    },
    {
      "cell_type": "markdown",
      "metadata": {
        "id": "A0FQIfcHnuBH"
      },
      "source": [
        "# En \"cochant des cases\" dans un dictionnaire"
      ]
    },
    {
      "cell_type": "markdown",
      "metadata": {
        "id": "LFk_iuQQtdD8"
      },
      "source": [
        "Compléter le code manquant à la place des `###`"
      ]
    },
    {
      "cell_type": "code",
      "metadata": {
        "id": "RXg8yCM4nwxI",
        "trusted": false
      },
      "source": [
        "def detecte_doublon_coche_dictionnaire(t):\n",
        "    '''t est un tableau d'entiers compris entre 1 et 366\n",
        "\n",
        "    la fonction renvoie True si le tableau t contient deux fois la même valeur, \n",
        "    et False si t ne contient que des valeurs distinctes '''\n",
        "    d = {} #dictionnaire vide\n",
        "    for v in t: \n",
        "        if v in d : \n",
        "            ###\n",
        "        else :\n",
        "            ###\n",
        "    return False\n",
        "\n",
        "\n",
        "assert detecte_doublon_coche_dictionnaire([0,1,2,3,4,0])==True\n",
        "assert detecte_doublon_coche_dictionnaire([0,1,2,3,4,5])==False\n",
        "assert detecte_doublon_coche_dictionnaire([0,1,2,3,4,5,6,6])==True\n",
        "print('test OK')"
      ],
      "execution_count": null,
      "outputs": []
    },
    {
      "cell_type": "code",
      "metadata": {
        "id": "du1tBMfsoWN9",
        "trusted": false
      },
      "source": [
        "from time import perf_counter\n",
        "from random import shuffle\n",
        "t_test =  [i for i in range(1,367)]\n",
        "shuffle(t_test)\n",
        "\n",
        "start = perf_counter() #début du chrono\n",
        "detecte_doublon_coche_dictionnaire(t_test)\n",
        "end = perf_counter() #fin du chrono\n",
        "\n",
        "print('test effectué en', (end-start)*1000,'ms' )"
      ],
      "execution_count": null,
      "outputs": []
    },
    {
      "cell_type": "markdown",
      "metadata": {
        "id": "A16ffVWTpnsz"
      },
      "source": [
        "# comparaisons entre les différentes fonctions qui détectent un doublon"
      ]
    },
    {
      "cell_type": "markdown",
      "metadata": {
        "id": "7lSOYo54qa1L"
      },
      "source": [
        "Avec `%timeit`"
      ]
    },
    {
      "cell_type": "code",
      "metadata": {
        "id": "dgRgmMRMxDP7",
        "trusted": false
      },
      "source": [
        "t_test =  [i for i in range(1,367)]\n",
        "shuffle(t_test)\n",
        "\n",
        "%timeit(detecte_doublon(t_test))"
      ],
      "execution_count": null,
      "outputs": []
    },
    {
      "cell_type": "code",
      "metadata": {
        "id": "J7uEQlS5xRG4",
        "trusted": false
      },
      "source": [
        "%timeit(detecte_doublon_tri(t_test))"
      ],
      "execution_count": null,
      "outputs": []
    },
    {
      "cell_type": "code",
      "metadata": {
        "id": "odW3-FnZqKe5",
        "trusted": false
      },
      "source": [
        "%timeit(detecte_doublon_coche_liste(t_test))"
      ],
      "execution_count": null,
      "outputs": []
    },
    {
      "cell_type": "code",
      "metadata": {
        "id": "DoekjHxQp5yl",
        "trusted": false
      },
      "source": [
        "%timeit(detecte_doublon_coche_dictionnaire(t_test))"
      ],
      "execution_count": null,
      "outputs": []
    }
  ]
}