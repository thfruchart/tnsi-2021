{
  "nbformat": 4,
  "nbformat_minor": 0,
  "metadata": {
    "colab": {
      "name": "02-Modules_COURS2_Exception.ipynb",
      "provenance": [],
      "collapsed_sections": [],
      "authorship_tag": "ABX9TyMj16QYEUuPKBSGs/j0eXnR",
      "include_colab_link": true
    },
    "kernelspec": {
      "name": "python3",
      "display_name": "Python 3"
    }
  },
  "cells": [
    {
      "cell_type": "markdown",
      "metadata": {
        "id": "view-in-github",
        "colab_type": "text"
      },
      "source": [
        "<a href=\"https://colab.research.google.com/github/thfruchart/tnsi/blob/main/02/Modules_COURS2_Exception.ipynb\" target=\"_parent\"><img src=\"https://colab.research.google.com/assets/colab-badge.svg\" alt=\"Open In Colab\"/></a>"
      ]
    },
    {
      "cell_type": "markdown",
      "metadata": {
        "id": "CWv7UrjhS-6x"
      },
      "source": [
        "# Un premier exemple"
      ]
    },
    {
      "cell_type": "markdown",
      "metadata": {
        "id": "AUlhH7qwTCtl"
      },
      "source": [
        "Reprenons l'exemple du module `ensemble1`."
      ]
    },
    {
      "cell_type": "markdown",
      "metadata": {
        "id": "FWX7xxe7rwsf"
      },
      "source": [
        "###Contenu du module ensemble1.py"
      ]
    },
    {
      "cell_type": "code",
      "metadata": {
        "id": "oxv92K_Y6dSR"
      },
      "source": [
        "def cree_ensemble():\n",
        "    ''' crée un ensemble vide, pouvant contenir des entiers entre 0 et 366\n",
        "    implémenté sous la forme d'un tableau de booléens'''\n",
        "    return [False for i in range(367)]\n",
        "\n",
        "def appartient(v,s):\n",
        "    ''' teste si une valeur v (de 0 à 366) appartient à l'ensemble s'''\n",
        "    return s[v]\n",
        "\n",
        "def ajoute(v,s):\n",
        "    ''' ajoute la valeur v (de 0 à 366) à l'ensemble s'''\n",
        "    s[v]=True"
      ],
      "execution_count": null,
      "outputs": []
    },
    {
      "cell_type": "markdown",
      "metadata": {
        "id": "HO_-NPgfTLNT"
      },
      "source": [
        "Que se passe-t-il si un utilisateur utilise ce module de la manière suivante :"
      ]
    },
    {
      "cell_type": "code",
      "metadata": {
        "id": "SPeNmJIOS2wd"
      },
      "source": [
        "s1 = cree_ensemble()\n",
        "ajoute(31, s1)\n",
        "ajoute(399, s1)"
      ],
      "execution_count": null,
      "outputs": []
    },
    {
      "cell_type": "markdown",
      "metadata": {
        "id": "41FbNFfOTdAs"
      },
      "source": [
        "Les deux premières instructions sont correctement exécutées, mais la troisième renvoie un message d'erreur... qui convient mal : expliquer pourquoi !"
      ]
    },
    {
      "cell_type": "markdown",
      "metadata": {
        "id": "XGGmn8z2ToS9"
      },
      "source": [
        "... "
      ]
    },
    {
      "cell_type": "markdown",
      "metadata": {
        "id": "OlfI930BTq-k"
      },
      "source": [
        "# Notion d'exception"
      ]
    },
    {
      "cell_type": "markdown",
      "metadata": {
        "id": "gslWD5bxTvu0"
      },
      "source": [
        "Un module bien écrit doit pouvoir donner une information claire à l'utilisateur qui en a fait une utilisation incorrecte : les exceptions sont destinées à cet usage."
      ]
    },
    {
      "cell_type": "markdown",
      "metadata": {
        "id": "UgEcfd6eWmxE"
      },
      "source": [
        "Liste de quelques exceptions courantes de python\n",
        "\n",
        "|exception|contexte|\n",
        "|:--------:|:------:|\n",
        "|NameError|nom de variable inexistant|\n",
        "|IndexError|accès à un indice invalide dans une liste ou un objet indexé |\n",
        "|ValueError|valeur incorrecte dans le contexte |\n",
        "|KeyError|accès à une clé inexistante dans un dictionnaire|\n",
        "|ZeroDivisionError|division par zéro|\n",
        "|TypeError|opération appliquée à des valeurs dont le type ne correspond pas|"
      ]
    },
    {
      "cell_type": "markdown",
      "metadata": {
        "id": "IVLEbzexWTH7"
      },
      "source": [
        "# Lever une exception"
      ]
    },
    {
      "cell_type": "markdown",
      "metadata": {
        "id": "kNUSK23WYTt3"
      },
      "source": [
        "Une exception \n",
        "* met fin au programme en cours\n",
        "* informe du motif pour lequel le programme est interrompu"
      ]
    },
    {
      "cell_type": "markdown",
      "metadata": {
        "id": "E1OnfBwxUEmC"
      },
      "source": [
        "###Contenu du module ensemble1.py avec EXCEPTION"
      ]
    },
    {
      "cell_type": "code",
      "metadata": {
        "id": "wNE1rVr9UEmF"
      },
      "source": [
        "def cree_ensemble():\n",
        "    ''' crée un ensemble vide, pouvant contenir des entiers entre 0 et 366\n",
        "    implémenté sous la forme d'un tableau de booléens'''\n",
        "    return [False for i in range(367)]\n",
        "\n",
        "def appartient(v,s):\n",
        "    ''' teste si une valeur v (de 0 à 366) appartient à l'ensemble s'''\n",
        "    return s[v]\n",
        "\n",
        "def ajoute(v,s):\n",
        "    ''' ajoute la valeur v (de 0 à 366) à l'ensemble s'''\n",
        "    if type(v) != int :\n",
        "        raise TypeError(\"la valeur n'est pas de type int\")\n",
        "    if v<1 or v>366 :\n",
        "        raise ValueError(\"valeurs entre 1 et 366 uniquement\")\n",
        "    s[v]=True"
      ],
      "execution_count": null,
      "outputs": []
    },
    {
      "cell_type": "markdown",
      "metadata": {
        "id": "hVt4mUB6UEmW"
      },
      "source": [
        "Observer l'exécution du code suivant :"
      ]
    },
    {
      "cell_type": "code",
      "metadata": {
        "id": "cabFxzTGVqR4"
      },
      "source": [
        "s1 = cree_ensemble()\n",
        "ajoute(31, s1)\n",
        "ajoute(399, s1)"
      ],
      "execution_count": null,
      "outputs": []
    },
    {
      "cell_type": "code",
      "metadata": {
        "id": "FWz9caiCYxDr"
      },
      "source": [
        "ajoute(15.78, s1)"
      ],
      "execution_count": null,
      "outputs": []
    },
    {
      "cell_type": "markdown",
      "metadata": {
        "id": "dnqiDHdwV1xC"
      },
      "source": [
        "## reste à modifier la fonction `appartient`"
      ]
    },
    {
      "cell_type": "code",
      "metadata": {
        "id": "J4VhyOTbWCoq"
      },
      "source": [
        "def cree_ensemble():\n",
        "    ''' crée un ensemble vide, pouvant contenir des entiers entre 0 et 366\n",
        "    implémenté sous la forme d'un tableau de booléens'''\n",
        "    return [False for i in range(367)]\n",
        "\n",
        "def appartient(v,s):\n",
        "    ''' teste si une valeur v (de 0 à 366) appartient à l'ensemble s'''\n",
        "    if type(v) != int :\n",
        "        return False\n",
        "    if v<1 or v>366 :\n",
        "        return False\n",
        "    return s[v]\n",
        "\n",
        "def ajoute(v,s):\n",
        "    ''' ajoute la valeur v (de 0 à 366) à l'ensemble s'''\n",
        "    if type(v) != int :\n",
        "        raise TypeError(\"la valeur n'est pas de type int\")\n",
        "    if v<1 or v>366 :\n",
        "        raise ValueError(\"valeurs entre 1 et 366 uniquement\")\n",
        "    s[v]=True"
      ],
      "execution_count": null,
      "outputs": []
    },
    {
      "cell_type": "code",
      "metadata": {
        "id": "VXiZfuc0Y_Ar"
      },
      "source": [
        "s2 = cree_ensemble()\n",
        "ajoute(310, s2)\n",
        "ajoute(57,s2)\n",
        "print(appartient(5899, s2))\n",
        "print(appartient(58.3, s2))"
      ],
      "execution_count": null,
      "outputs": []
    },
    {
      "cell_type": "markdown",
      "metadata": {
        "id": "tDcUklosZcC8"
      },
      "source": [
        "# Mise à jour de l'interface du module `ensemble1`"
      ]
    },
    {
      "cell_type": "markdown",
      "metadata": {
        "id": "NMbRfgQ6uhPU"
      },
      "source": [
        "\n",
        "|fonction           |description|\n",
        "| :--------------- :| :-------- :|\n",
        "|  `cree_ensemble()` |  crée un ensemble vide de dates|\n",
        "| `appartient(v,s)`  | renvoie `True` si et seulement si la date `v` est dans l'ensemble `s` |\n",
        "| `ajoute(v,s)`      | ajoute la date `v` (de type `int`) dans l'ensemble `s` si $1\\leq v \\leq 366$ et renvoie une exception `ValeurError` sinon|\n",
        "\n"
      ]
    },
    {
      "cell_type": "markdown",
      "metadata": {
        "id": "x9KWChrVWMHj"
      },
      "source": [
        "# Rattraper une exception"
      ]
    },
    {
      "cell_type": "markdown",
      "metadata": {
        "id": "pcGhf3xGWWyH"
      },
      "source": [
        "Un programme peut prévoir quoi faire dans le cas où certaines exceptions surviennent. "
      ]
    },
    {
      "cell_type": "markdown",
      "metadata": {
        "id": "-zhf3Pziao_u"
      },
      "source": [
        "## Exemple 1 : saisie d'un entier"
      ]
    },
    {
      "cell_type": "code",
      "metadata": {
        "id": "_bqePULTad2C"
      },
      "source": [
        "try:\n",
        "    n = int(input('entrer un entier'))\n",
        "except ValueError :\n",
        "    print(\"Entrer un nombre entier valide\")"
      ],
      "execution_count": null,
      "outputs": []
    },
    {
      "cell_type": "markdown",
      "metadata": {
        "id": "28SozfOvbLMd"
      },
      "source": [
        "## Exemple 2 : saisie répétée, jusqu'à obtenir un entier valide"
      ]
    },
    {
      "cell_type": "code",
      "metadata": {
        "id": "Vsle7f-CbUY2"
      },
      "source": [
        "print('entrer un entier')\n",
        "boucle = True\n",
        "while boucle:\n",
        "    try:\n",
        "        n = int(input())\n",
        "        boucle = False\n",
        "    except ValueError :\n",
        "        print(\"Entrer un nombre entier valide\")\n",
        "print(\"entier saisi : \", n )"
      ],
      "execution_count": null,
      "outputs": []
    },
    {
      "cell_type": "markdown",
      "metadata": {
        "id": "HU4KMB0HcZVu"
      },
      "source": [
        "On peut également utiliser la syntaxe : "
      ]
    },
    {
      "cell_type": "code",
      "metadata": {
        "id": "30Knbb-Icc_G"
      },
      "source": [
        "print('entrer un entier')\n",
        "while True:\n",
        "    try:\n",
        "        n = int(input())\n",
        "        break\n",
        "    except ValueError :\n",
        "        print(\"Entrer un nombre entier valide\")\n",
        "\n",
        "print(\"entier saisi : \", n )"
      ],
      "execution_count": null,
      "outputs": []
    }
  ]
}