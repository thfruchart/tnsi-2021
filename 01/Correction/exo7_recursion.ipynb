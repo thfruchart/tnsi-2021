{
  "nbformat": 4,
  "nbformat_minor": 0,
  "metadata": {
    "colab": {
      "name": "01exercices_recursion.ipynb",
      "provenance": [],
      "collapsed_sections": [],
      "authorship_tag": "ABX9TyNG5TC7S2rUIpcz5jvQxQHI",
      "include_colab_link": true
    },
    "kernelspec": {
      "name": "python3",
      "display_name": "Python 3"
    }
  },
  "cells": [
    {
      "cell_type": "markdown",
      "metadata": {
        "id": "view-in-github",
        "colab_type": "text"
      },
      "source": [
        "<a href=\"https://colab.research.google.com/github/thfruchart/tnsi/blob/main/01/Correction/exo7_recursion.ipynb\" target=\"_parent\"><img src=\"https://colab.research.google.com/assets/colab-badge.svg\" alt=\"Open In Colab\"/></a>"
      ]
    },
    {
      "cell_type": "markdown",
      "metadata": {
        "id": "8wI7fUUL9jN3"
      },
      "source": [
        "**Exercice 7**\n",
        "\n",
        "Ecrire une fonction récursive `appartient(v,t,i)` dont les paramètres sont : \n",
        "* une valeur `v`\n",
        "* un tableau `t` (de type list)\n",
        "* un indice `i` (de type int)\n",
        "\n",
        "On suppose que $0 \\leq i \\leq$ `len(t)`\n",
        "\n",
        "Cette fonction doit retourner `True` si la valeur `v` figure dans le tableau `t` à un indice compris entre `i` inclus et `len(t)` exclu. \n",
        "\n",
        "La fonction retourne `False` sinon. "
      ]
    },
    {
      "cell_type": "code",
      "metadata": {
        "id": "dbplANa6oxxP"
      },
      "source": [
        "def appartient(v,t,i):\n",
        "    if i==len(t):\n",
        "        return False\n",
        "    elif v == t[i] :\n",
        "        return True\n",
        "    else:\n",
        "        return appartient(v,t,i+1)\n"
      ],
      "execution_count": null,
      "outputs": []
    },
    {
      "cell_type": "code",
      "metadata": {
        "id": "0QEzxmC1q3Jy",
        "colab": {
          "base_uri": "https://localhost:8080/",
          "height": 34
        },
        "outputId": "7716ec0b-ce44-4f03-b8b2-4d5888a8b493"
      },
      "source": [
        "appartient('b',['a','b','c'],0)"
      ],
      "execution_count": null,
      "outputs": [
        {
          "output_type": "execute_result",
          "data": {
            "text/plain": [
              "True"
            ]
          },
          "metadata": {
            "tags": []
          },
          "execution_count": 7
        }
      ]
    }
  ]
}