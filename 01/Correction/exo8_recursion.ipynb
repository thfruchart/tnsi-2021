{
  "nbformat": 4,
  "nbformat_minor": 0,
  "metadata": {
    "colab": {
      "name": "01exercices_recursion.ipynb",
      "provenance": [],
      "collapsed_sections": [],
      "include_colab_link": true
    },
    "kernelspec": {
      "name": "python3",
      "display_name": "Python 3"
    }
  },
  "cells": [
    {
      "cell_type": "markdown",
      "metadata": {
        "id": "view-in-github",
        "colab_type": "text"
      },
      "source": [
        "<a href=\"https://colab.research.google.com/github/thfruchart/tnsi/blob/main/01/Correction/exo8_recursion.ipynb\" target=\"_parent\"><img src=\"https://colab.research.google.com/assets/colab-badge.svg\" alt=\"Open In Colab\"/></a>"
      ]
    },
    {
      "cell_type": "markdown",
      "metadata": {
        "id": "iQv7LZiO-tMT"
      },
      "source": [
        "**Exercice 8**\n",
        "\n",
        "Les tours de Hanoï sont un casse-tête célèbre. Le jeu comporte trois tiges, et plusieurs disques de diamètres différents. Initialement, tous les disques sont empilés sur la tige n°1, par ordre décroissant (le plus petit disque en haut, le plus grand disque en bas). \n",
        "\n",
        "Le but du jeu est de déplacer toute la pile de disques vers la tige n°3 en respectant les règles suivantes : \n",
        "- on ne peut déplacer qu'un seul disque à la fois\n",
        "- un disque plus grand ne peut jamais être posé sur un disque plus petit. \n",
        "\n",
        "1. Ecrire une fonction récursive `deplace(k,depart,arrivee,interm)` qui affiche la liste des déplacements élémentaires permettant de faire passer `k` disques de la tige n° `depart` vers la tige n° `arrivee`, la troisième tige ayant le n° `interm`. \n",
        "\n",
        "2. En déduire une fonction `hanoi(n)` qui affiche la solution du problème des tours de hanoi à `n` disques. \n",
        "\n",
        "Par exemple, `hanoi(3)` devra afficher :\n",
        "```\n",
        "1  =>  3\n",
        "1  =>  2\n",
        "3  =>  2\n",
        "1  =>  3\n",
        "2  =>  1\n",
        "2  =>  3\n",
        "1  =>  3\n",
        "```\n",
        "\n"
      ]
    },
    {
      "cell_type": "code",
      "metadata": {
        "id": "EM-cQquj-n48"
      },
      "source": [
        "def deplace(k,depart,arrivee,interm):\n",
        "    \"\"\"décrit le déplacement de 'k' disques \n",
        "    depuis la tour n° 'depart' vers la tour n° 'arrivee' \"\"\"\n",
        "    if k==0:\n",
        "        return \n",
        "    if k==1:\n",
        "        print(depart, \"=>\", arrivee)\n",
        "    else : \n",
        "        deplace(k-1, depart,interm,arrivee)\n",
        "        print(depart, \"=>\", arrivee)\n",
        "        deplace(k-1, interm, arrivee,depart)"
      ],
      "execution_count": 3,
      "outputs": []
    },
    {
      "cell_type": "code",
      "metadata": {
        "id": "8LZHlylx_7BP",
        "outputId": "6608ca1b-9da4-45ba-b56c-579e69ba56d2",
        "colab": {
          "base_uri": "https://localhost:8080/"
        }
      },
      "source": [
        "deplace(3, 'A','C','B')"
      ],
      "execution_count": 5,
      "outputs": [
        {
          "output_type": "stream",
          "name": "stdout",
          "text": [
            "A => C\n",
            "A => B\n",
            "C => B\n",
            "A => C\n",
            "B => A\n",
            "B => C\n",
            "A => C\n"
          ]
        }
      ]
    },
    {
      "cell_type": "markdown",
      "metadata": {
        "id": "yt6XGB-RDGnp"
      },
      "source": [
        "**Exercice 9**\n",
        "\n",
        "1. Ecrire une fonction recursive `nombre_mouvements_hanoi(n)` qui calcule le nombre de déplacements élémentaires effectués pour résoudre le problème des tours de Hanoï (exercice précédent).\n",
        "\n",
        "2. Proposer une conjecture, exprimant  `nombre_mouvements_hanoi(n)` en fonction de `n`. \n",
        "\n",
        "3. *Facultatif : démontrer cette conjecture, grâce à un raisonnement par récurrence.*\n"
      ]
    }
  ]
}