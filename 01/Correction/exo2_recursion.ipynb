{
  "nbformat": 4,
  "nbformat_minor": 0,
  "metadata": {
    "colab": {
      "name": "01-Correction-exo2-recursion.ipynb",
      "provenance": [],
      "collapsed_sections": [],
      "authorship_tag": "ABX9TyPkx0zkhnkWwI8kDX1Yfh+w",
      "include_colab_link": true
    },
    "kernelspec": {
      "name": "python3",
      "display_name": "Python 3"
    }
  },
  "cells": [
    {
      "cell_type": "markdown",
      "metadata": {
        "id": "view-in-github",
        "colab_type": "text"
      },
      "source": [
        "<a href=\"https://colab.research.google.com/github/thfruchart/tnsi/blob/main/01/Correction/exo2_recursion.ipynb\" target=\"_parent\"><img src=\"https://colab.research.google.com/assets/colab-badge.svg\" alt=\"Open In Colab\"/></a>"
      ]
    },
    {
      "cell_type": "markdown",
      "metadata": {
        "id": "s3RHaAq_5xEM"
      },
      "source": [
        "**Exercice 2**\n",
        "\n",
        "Soit $a$ et $b$ deux nombre réels, et $(u_n)$ la suite définie par : \n",
        "$$u_n =  \\left\\lbrace \\matrix{\n",
        "     a &\\textrm{si $n$=0 }\n",
        "     \\\\ b &\\textrm{si $n$=1 }\n",
        "     \\\\ u_{n-1} +2  u_{n-2} & \\textrm{si $n \\geq 2$ }\n",
        "     } \\right. \n",
        "$$\n",
        "\n",
        "Compléter la définition de la fonction récursive `u(n,a,b)` en python :"
      ]
    },
    {
      "cell_type": "code",
      "metadata": {
        "id": "2jfAJ4gx7EcM"
      },
      "source": [
        "def u(n, a, b):\n",
        "    if n == 0 :\n",
        "        return a\n",
        "    if n==1:\n",
        "        return b\n",
        "    # else... \n",
        "    return u(n-1, a, b) + 2 * u(n-2, a, b)\n"
      ],
      "execution_count": null,
      "outputs": []
    },
    {
      "cell_type": "code",
      "metadata": {
        "id": "eu_yec9MAVvc"
      },
      "source": [
        "u(3, 0, 0)"
      ],
      "execution_count": null,
      "outputs": []
    },
    {
      "cell_type": "code",
      "metadata": {
        "id": "OJpaQ0YFAaeg"
      },
      "source": [
        "u(3, 100, 1000)"
      ],
      "execution_count": null,
      "outputs": []
    },
    {
      "cell_type": "code",
      "metadata": {
        "id": "jx0LgC-GAlMB"
      },
      "source": [
        "# on peut ajouter quelques affichages\n",
        "space = ' . '\n",
        "def u(n, a, b, prof=0):\n",
        "    if n == 0 :\n",
        "        print(space*prof, f\"u0={a}\")\n",
        "        return a\n",
        "    if n==1:\n",
        "        print(space*prof, f\"u1={b}\")\n",
        "        return b\n",
        "    # else... \n",
        "    print(space*prof, f\"u{n}=u{n-1} + 2 u{n-2}\")\n",
        "    return u(n-1, a, b, prof+1) + 2 * u(n-2, a, b, prof+1)\n"
      ],
      "execution_count": null,
      "outputs": []
    },
    {
      "cell_type": "code",
      "metadata": {
        "id": "vCDiIpYtBG0k"
      },
      "source": [
        "u(3, 100, 1000)"
      ],
      "execution_count": null,
      "outputs": []
    }
  ]
}