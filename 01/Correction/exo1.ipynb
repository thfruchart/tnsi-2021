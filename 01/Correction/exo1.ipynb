{
  "nbformat": 4,
  "nbformat_minor": 0,
  "metadata": {
    "colab": {
      "name": "01-Correction-exo1.ipynb",
      "provenance": [],
      "authorship_tag": "ABX9TyMmRA3tpenI1ZUNUNVwKo/M",
      "include_colab_link": true
    },
    "kernelspec": {
      "name": "python3",
      "display_name": "Python 3"
    },
    "language_info": {
      "name": "python"
    }
  },
  "cells": [
    {
      "cell_type": "markdown",
      "metadata": {
        "id": "view-in-github",
        "colab_type": "text"
      },
      "source": [
        "<a href=\"https://colab.research.google.com/github/thfruchart/tnsi/blob/main/01/Correction/exo1.ipynb\" target=\"_parent\"><img src=\"https://colab.research.google.com/assets/colab-badge.svg\" alt=\"Open In Colab\"/></a>"
      ]
    },
    {
      "cell_type": "markdown",
      "metadata": {
        "id": "Pd0P8hKRwpv8"
      },
      "source": [
        "**Exercice 1**\n",
        "\n",
        "L'image d'un entier naturel $n$ par la fonction **factorielle** se note $n!$ et est défini par : \n",
        "$0!=1$ et $n! = 1 \\times 2 \\times \\cdots \\times n$ lorsque  $n>0$.\n",
        "\n",
        "1. Donner une écriture récursive de cette définition\n",
        "\n",
        "2. Donner le code d'une fonction python `fact(n)` qui implémente cette définition"
      ]
    },
    {
      "cell_type": "markdown",
      "metadata": {
        "id": "dVSIUdQaNzHP"
      },
      "source": [
        "* cas de base : si n=0, sa factorielle vaut 1\n",
        "* cas récursif : factorielle(n) = n * factorielle(n-1)"
      ]
    },
    {
      "cell_type": "code",
      "metadata": {
        "id": "Z2p_H0V2NwSA"
      },
      "source": [
        "def fact(n) : \n",
        "    if n==0:\n",
        "        return 1\n",
        "    else : \n",
        "        return n * fact(n-1)"
      ],
      "execution_count": 1,
      "outputs": []
    },
    {
      "cell_type": "code",
      "metadata": {
        "colab": {
          "base_uri": "https://localhost:8080/"
        },
        "id": "2g2CRFmqOd1c",
        "outputId": "afbfb3f4-c7f0-473f-e018-7cb3f0976cad"
      },
      "source": [
        "fact(0), fact(3)"
      ],
      "execution_count": 2,
      "outputs": [
        {
          "output_type": "execute_result",
          "data": {
            "text/plain": [
              "(1, 6)"
            ]
          },
          "metadata": {},
          "execution_count": 2
        }
      ]
    },
    {
      "cell_type": "code",
      "metadata": {
        "id": "XKgfMVarOqTE"
      },
      "source": [
        "# on peut simplifier le code\n",
        "\n",
        "def fact(n) : \n",
        "    if n==0:\n",
        "        return 1\n",
        "    return n * fact(n-1)"
      ],
      "execution_count": null,
      "outputs": []
    }
  ]
}