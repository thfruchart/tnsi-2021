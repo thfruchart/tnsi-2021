{
  "nbformat": 4,
  "nbformat_minor": 0,
  "metadata": {
    "colab": {
      "name": "01-Correction-exo3-recursion.ipynb",
      "provenance": [],
      "collapsed_sections": [],
      "authorship_tag": "ABX9TyNUCI0crqscFopGlXxknjA3",
      "include_colab_link": true
    },
    "kernelspec": {
      "name": "python3",
      "display_name": "Python 3"
    }
  },
  "cells": [
    {
      "cell_type": "markdown",
      "metadata": {
        "id": "view-in-github",
        "colab_type": "text"
      },
      "source": [
        "<a href=\"https://colab.research.google.com/github/thfruchart/tnsi/blob/main/01/Correction/exo3_recursion.ipynb\" target=\"_parent\"><img src=\"https://colab.research.google.com/assets/colab-badge.svg\" alt=\"Open In Colab\"/></a>"
      ]
    },
    {
      "cell_type": "markdown",
      "metadata": {
        "id": "fQK9MS84wsuA"
      },
      "source": [
        "**Exercice 3** : suite de Syracuse\n",
        "\n",
        "Soit $(u_n)$ la suite d'entiers définie par :\n",
        "-  $u_0 = A$ :   un entier quelconque supérieur à 1,  \n",
        "- et pour tout entier naturel $n$ :  $u_{n+1} = \\left\\lbrace \\matrix{ u_n/2 & \\textrm{si $u_n$ est pair }  \\\\3 \\times u_n + 1 & \\textrm{sinon } } \\right. $\n",
        "\n",
        "1. Calculer \"à la main\" les premiers termes de la suite, jusqu'à $u_5$ dans les cas suivants : \n",
        "  - $A= 1$\n",
        "  - $A = 10$\n",
        "\n",
        "2. Compléter le code suivant qui définit la fonction récursive `syracuse` dans le cas où A=100. "
      ]
    },
    {
      "cell_type": "markdown",
      "metadata": {
        "id": "6vuTziazCV1n"
      },
      "source": [
        "#### Réponse à la question 1"
      ]
    },
    {
      "cell_type": "markdown",
      "metadata": {
        "id": "bxvZv49qCcb3"
      },
      "source": [
        "Si A = 1 :\n",
        "\n",
        "    u0 = 1 impair\n",
        "    u1 = 3*1+1 = 4  pair\n",
        "    u2 = 4/2 = 2 pair\n",
        "    u3 = 2/2 = 1 impair\n",
        "    u4 = 3*1+1 = 4... et ainsi de suite\n",
        "\n",
        "\n",
        "Si A = 10 :\n",
        "\n",
        "    u0 = 10 pair\n",
        "    u1 = 10/2 = 5  impair\n",
        "    u2 = 3*5+1=16 pair\n",
        "    u3 = 16/2 = 8 pair\n",
        "    u4 = 8/2 = 4 pair\n",
        "    u5 = 4/2 = 2 pair\n",
        "    u6 = 2/2 = 1 impair\n",
        "    u7 = 3*1+1 = 4... et ainsi de suite\n",
        "\n",
        "\n",
        "\n"
      ]
    },
    {
      "cell_type": "markdown",
      "metadata": {
        "id": "F0Aao9G6CZa6"
      },
      "source": [
        "#### Réponse à la question 2"
      ]
    },
    {
      "cell_type": "code",
      "metadata": {
        "id": "ePm9VSSK1SAO"
      },
      "source": [
        "a = 100\n",
        "\n",
        "def syracuse(n):\n",
        "    if n==0:\n",
        "        return a\n",
        "    else : \n",
        "        # compléter le code ici\n",
        "        precedent = syracuse(n-1)\n",
        "        if precedent%2==0 :\n",
        "            # precedent est pair\n",
        "            return precedent //2\n",
        "        else : \n",
        "            return 3*precedent+1\n",
        "\n"
      ],
      "execution_count": null,
      "outputs": []
    },
    {
      "cell_type": "code",
      "metadata": {
        "id": "eZRihgtSDx16"
      },
      "source": [
        "syracuse(4)"
      ],
      "execution_count": null,
      "outputs": []
    },
    {
      "cell_type": "markdown",
      "metadata": {
        "id": "BNAR56lXOVLZ"
      },
      "source": [
        "* Visualiser le calcul de syracuse(4) sur [Python Tutor](https://pythontutor.com/visualize.html#code=a%20%3D%20100%0A%0Adef%20syracuse%28n%29%3A%0A%20%20%20%20if%20n%3D%3D0%3A%0A%20%20%20%20%20%20%20%20return%20a%0A%20%20%20%20else%20%3A%20%0A%20%20%20%20%20%20%20%20%23%20compl%C3%A9ter%20le%20code%20ici%0A%20%20%20%20%20%20%20%20precedent%20%3D%20syracuse%28n-1%29%0A%20%20%20%20%20%20%20%20if%20precedent%252%3D%3D0%20%3A%0A%20%20%20%20%20%20%20%20%20%20%20%20%23%20precedent%20est%20pair%0A%20%20%20%20%20%20%20%20%20%20%20%20return%20precedent%20//2%0A%20%20%20%20%20%20%20%20else%20%3A%20%0A%20%20%20%20%20%20%20%20%20%20%20%20return%203*precedent%2B1%0A%0Aprint%28syracuse%284%29%29&cumulative=false&curInstr=2&heapPrimitives=nevernest&mode=display&origin=opt-frontend.js&py=3&rawInputLstJSON=%5B%5D&textReferences=false)"
      ]
    },
    {
      "cell_type": "markdown",
      "metadata": {
        "id": "CoayAy-93vic"
      },
      "source": [
        "3.\n",
        " Compéter le code de la fonction récursive `explore(a)` qui affiche **tous les termes** de la suite de syracuse $u_n$  de terme initial $u_0 = a$, jusqu'au premier terme (inférieur ou) égal à 1. "
      ]
    },
    {
      "cell_type": "code",
      "metadata": {
        "id": "w17YJe5C4P7R"
      },
      "source": [
        "def explore(a):\n",
        "    print(a)\n",
        "    if a>1:\n",
        "        # compléter le code ici\n",
        "        if a%2==0 :\n",
        "            explore(a//2)\n",
        "        else : \n",
        "            explore(3*a+1)      \n"
      ],
      "execution_count": 1,
      "outputs": []
    },
    {
      "cell_type": "code",
      "metadata": {
        "id": "cWEAqCggNeIH",
        "outputId": "51844cbd-bb08-4d68-f45f-3816e4aa41a8",
        "colab": {
          "base_uri": "https://localhost:8080/"
        }
      },
      "source": [
        "explore(100)"
      ],
      "execution_count": 2,
      "outputs": [
        {
          "output_type": "stream",
          "name": "stdout",
          "text": [
            "100\n",
            "50\n",
            "25\n",
            "76\n",
            "38\n",
            "19\n",
            "58\n",
            "29\n",
            "88\n",
            "44\n",
            "22\n",
            "11\n",
            "34\n",
            "17\n",
            "52\n",
            "26\n",
            "13\n",
            "40\n",
            "20\n",
            "10\n",
            "5\n",
            "16\n",
            "8\n",
            "4\n",
            "2\n",
            "1\n"
          ]
        }
      ]
    },
    {
      "cell_type": "markdown",
      "metadata": {
        "id": "1Gqs0ub8O4T9"
      },
      "source": [
        "* Visualiser l'exécution de `explore(5)` sur [Puthon Tutor](https://pythontutor.com/visualize.html#code=def%20explore%28a%29%3A%0A%20%20%20%20print%28a%29%0A%20%20%20%20if%20a%3E1%3A%0A%20%20%20%20%20%20%20%20if%20a%252%3D%3D0%20%3A%0A%20%20%20%20%20%20%20%20%20%20%20%20explore%28a//2%29%0A%20%20%20%20%20%20%20%20else%20%3A%20%0A%20%20%20%20%20%20%20%20%20%20%20%20explore%283*a%2B1%29%20%20%20%20%20%20%0A%0Aexplore%285%29&cumulative=false&curInstr=1&heapPrimitives=nevernest&mode=display&origin=opt-frontend.js&py=3&rawInputLstJSON=%5B%5D&textReferences=false)"
      ]
    }
  ]
}