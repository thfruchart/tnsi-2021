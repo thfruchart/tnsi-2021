{
  "nbformat": 4,
  "nbformat_minor": 0,
  "metadata": {
    "colab": {
      "name": "01exercices_recursion.ipynb",
      "provenance": [],
      "collapsed_sections": [],
      "include_colab_link": true
    },
    "kernelspec": {
      "name": "python3",
      "display_name": "Python 3"
    }
  },
  "cells": [
    {
      "cell_type": "markdown",
      "metadata": {
        "id": "view-in-github",
        "colab_type": "text"
      },
      "source": [
        "<a href=\"https://colab.research.google.com/github/thfruchart/tnsi/blob/main/01/Correction/exo9_recursion.ipynb\" target=\"_parent\"><img src=\"https://colab.research.google.com/assets/colab-badge.svg\" alt=\"Open In Colab\"/></a>"
      ]
    },
    {
      "cell_type": "markdown",
      "metadata": {
        "id": "yt6XGB-RDGnp"
      },
      "source": [
        "**Exercice 9**\n",
        "\n",
        "1. Ecrire une fonction recursive `nombre_mouvements_hanoi(n)` qui calcule le nombre de déplacements élémentaires effectués pour résoudre le problème des tours de Hanoï (exercice précédent).\n",
        "\n",
        "2. Proposer une conjecture, exprimant  `nombre_mouvements_hanoi(n)` en fonction de `n`. \n",
        "\n",
        "3. *Facultatif : démontrer cette conjecture, grâce à un raisonnement par récurrence.*\n"
      ]
    },
    {
      "cell_type": "code",
      "metadata": {
        "id": "rsl_6ULk33-C"
      },
      "source": [
        "def nombre_mouvements_hanoi(k):\n",
        "    \"\"\"compte le nombre de déplacement de 'k' disques  \"\"\"\n",
        "    if k==0:\n",
        "        return \n",
        "    if k==1:\n",
        "        return 1\n",
        "    else : \n",
        "        return 2* nombre_mouvements_hanoi(k-1)+1"
      ],
      "execution_count": 9,
      "outputs": []
    },
    {
      "cell_type": "code",
      "metadata": {
        "id": "sT81_-nm4f1c",
        "outputId": "f569002e-a513-40eb-f9f1-3a2c22d2cabd",
        "colab": {
          "base_uri": "https://localhost:8080/"
        }
      },
      "source": [
        "nombre_mouvements_hanoi(1)"
      ],
      "execution_count": 10,
      "outputs": [
        {
          "output_type": "execute_result",
          "data": {
            "text/plain": [
              "1"
            ]
          },
          "metadata": {},
          "execution_count": 10
        }
      ]
    },
    {
      "cell_type": "code",
      "metadata": {
        "id": "Bzltc7XH4hGv",
        "outputId": "083f186f-af89-4eb9-ce52-e31bef9bf0b9",
        "colab": {
          "base_uri": "https://localhost:8080/"
        }
      },
      "source": [
        "nombre_mouvements_hanoi(2)"
      ],
      "execution_count": 11,
      "outputs": [
        {
          "output_type": "execute_result",
          "data": {
            "text/plain": [
              "3"
            ]
          },
          "metadata": {},
          "execution_count": 11
        }
      ]
    },
    {
      "cell_type": "code",
      "metadata": {
        "id": "8nF0bX3k4ipW",
        "outputId": "b3164ac8-5255-415b-f7df-097a51e353fe",
        "colab": {
          "base_uri": "https://localhost:8080/"
        }
      },
      "source": [
        "nombre_mouvements_hanoi(10)"
      ],
      "execution_count": 12,
      "outputs": [
        {
          "output_type": "execute_result",
          "data": {
            "text/plain": [
              "1023"
            ]
          },
          "metadata": {},
          "execution_count": 12
        }
      ]
    },
    {
      "cell_type": "code",
      "metadata": {
        "id": "wbBl-2id4kmv"
      },
      "source": [
        ""
      ],
      "execution_count": null,
      "outputs": []
    }
  ]
}