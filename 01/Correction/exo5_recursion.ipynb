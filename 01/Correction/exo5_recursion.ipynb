{
  "nbformat": 4,
  "nbformat_minor": 0,
  "metadata": {
    "colab": {
      "name": "01exercices_recursion.ipynb",
      "provenance": [],
      "collapsed_sections": [],
      "authorship_tag": "ABX9TyPYYlkKQPQAz4nCoVOqDAJu",
      "include_colab_link": true
    },
    "kernelspec": {
      "name": "python3",
      "display_name": "Python 3"
    }
  },
  "cells": [
    {
      "cell_type": "markdown",
      "metadata": {
        "id": "view-in-github",
        "colab_type": "text"
      },
      "source": [
        "<a href=\"https://colab.research.google.com/github/thfruchart/tnsi/blob/main/01/Correction/exo5_recursion.ipynb\" target=\"_parent\"><img src=\"https://colab.research.google.com/assets/colab-badge.svg\" alt=\"Open In Colab\"/></a>"
      ]
    },
    {
      "cell_type": "markdown",
      "metadata": {
        "id": "-Fy1JDu38Ook"
      },
      "source": [
        "**Exercice 5**\n",
        "\n",
        "Ecrire une fonction récursive `nombre_de_chiffres(n)` dont le paramètre $n$ est un entier naturel, et qui retourne le nombre de chiffres de l'écriture en base 10 de n. \n",
        "\n",
        "Par exemple, `nombre_de_chiffres(2021)` doit retourner 4."
      ]
    },
    {
      "cell_type": "code",
      "metadata": {
        "id": "STjTnmKy_O9Q",
        "colab": {
          "base_uri": "https://localhost:8080/",
          "height": 34
        },
        "outputId": "0f2b1c44-c3ef-4f71-81b8-5c0155ae5fbd"
      },
      "source": [
        "def nombre_de_chiffres(n) :\n",
        "    if n<10:\n",
        "        return 1\n",
        "    else :\n",
        "        return 1 + nombre_de_chiffres(n//10)\n",
        "\n",
        "nombre_de_chiffres(173)"
      ],
      "execution_count": null,
      "outputs": [
        {
          "output_type": "execute_result",
          "data": {
            "text/plain": [
              "3"
            ]
          },
          "metadata": {
            "tags": []
          },
          "execution_count": 5
        }
      ]
    }
  ]
}