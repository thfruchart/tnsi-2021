{
  "nbformat": 4,
  "nbformat_minor": 0,
  "metadata": {
    "colab": {
      "name": "01exercices_recursion.ipynb",
      "provenance": [],
      "collapsed_sections": [],
      "authorship_tag": "ABX9TyMKKD6uFfzlqMSeoUZGEWjN",
      "include_colab_link": true
    },
    "kernelspec": {
      "name": "python3",
      "display_name": "Python 3"
    }
  },
  "cells": [
    {
      "cell_type": "markdown",
      "metadata": {
        "id": "view-in-github",
        "colab_type": "text"
      },
      "source": [
        "<a href=\"https://colab.research.google.com/github/thfruchart/tnsi/blob/main/01/Correction/exo5_recursion.ipynb\" target=\"_parent\"><img src=\"https://colab.research.google.com/assets/colab-badge.svg\" alt=\"Open In Colab\"/></a>"
      ]
    },
    {
      "cell_type": "markdown",
      "metadata": {
        "id": "-Fy1JDu38Ook"
      },
      "source": [
        "**Exercice 5**\n",
        "\n",
        "Ecrire une fonction récursive `nombre_de_chiffres(n)` dont le paramètre $n$ est un entier naturel, et qui retourne le nombre de chiffres de l'écriture en base 10 de n. \n",
        "\n",
        "Par exemple, `nombre_de_chiffres(2021)` doit retourner 4."
      ]
    },
    {
      "cell_type": "code",
      "metadata": {
        "id": "STjTnmKy_O9Q",
        "colab": {
          "base_uri": "https://localhost:8080/",
          "height": 34
        },
        "outputId": "0f2b1c44-c3ef-4f71-81b8-5c0155ae5fbd"
      },
      "source": [
        "def nombre_de_chiffres(n) :\n",
        "    if n<10:\n",
        "        return 1\n",
        "    else :\n",
        "        return 1 + nombre_de_chiffres(n//10)\n",
        "\n",
        "nombre_de_chiffres(173)"
      ],
      "execution_count": null,
      "outputs": [
        {
          "output_type": "execute_result",
          "data": {
            "text/plain": [
              "3"
            ]
          },
          "metadata": {
            "tags": []
          },
          "execution_count": 5
        }
      ]
    },
    {
      "cell_type": "markdown",
      "metadata": {
        "id": "bCi0VlJ78kk2"
      },
      "source": [
        "**Exercice 6**\n",
        "\n",
        "Ecrire une fonction récursive `nombre_de_bits_a_1(n)` dont le paramètre $n$ est un entier naturel, et qui retourne le nombre de bits égaux à 1 dans l'écriture en base 2 de n.\n",
        "\n",
        "Par exemple :  \n",
        "* `nombre_de_bits_a_1(15)` doit retourner 4 puisque $(15)_10 = (1111)_2$\n",
        "* `nombre_de_bits_a_1(17)` doit retourner 2 puisque $(17)_10 = (10001)_2$"
      ]
    },
    {
      "cell_type": "markdown",
      "metadata": {
        "id": "8wI7fUUL9jN3"
      },
      "source": [
        "**Exercice 7**\n",
        "\n",
        "Ecrire une fonction récursive `appartient(v,t,i)` dont les paramètres sont : \n",
        "* une valeur `v`\n",
        "* un tableau `t` (de type list)\n",
        "* un indice `i` (de type int)\n",
        "\n",
        "On suppose que $0 \\leq i \\leq$ `len(t)`\n",
        "\n",
        "Cette fonction doit retourner `True` si la valeur `v` figure dans le tableau `t` à un indice compris entre `i` inclus et `len(t)` exclu. \n",
        "\n",
        "La fonction retourne `False` sinon. "
      ]
    },
    {
      "cell_type": "code",
      "metadata": {
        "id": "dbplANa6oxxP"
      },
      "source": [
        "def appartient(v,t,i):\n",
        "    if i==len(t):\n",
        "        return False\n",
        "    elif v == t[i] :\n",
        "        return True\n",
        "    else:\n",
        "        return appartient(v,t,i+1)\n"
      ],
      "execution_count": null,
      "outputs": []
    },
    {
      "cell_type": "code",
      "metadata": {
        "id": "0QEzxmC1q3Jy",
        "colab": {
          "base_uri": "https://localhost:8080/",
          "height": 34
        },
        "outputId": "7716ec0b-ce44-4f03-b8b2-4d5888a8b493"
      },
      "source": [
        "appartient('b',['a','b','c'],0)"
      ],
      "execution_count": null,
      "outputs": [
        {
          "output_type": "execute_result",
          "data": {
            "text/plain": [
              "True"
            ]
          },
          "metadata": {
            "tags": []
          },
          "execution_count": 7
        }
      ]
    },
    {
      "cell_type": "markdown",
      "metadata": {
        "id": "iQv7LZiO-tMT"
      },
      "source": [
        "**Exercice 8**\n",
        "\n",
        "Les tours de Hanoï sont un casse-tête célèbre. Le jeu comporte trois tiges, et plusieurs disques de diamètres différents. Initialement, tous les disques sont empilés sur la tige n°1, par ordre décroissant (le plus petit disque en haut, le plus grand disque en bas). \n",
        "\n",
        "Le but du jeu est de déplacer toute la pile de disques vers la tige n°3 en respectant les règles suivantes : \n",
        "- on ne peut déplacer qu'un seul disque à la fois\n",
        "- un disque plus grand ne peut jamais être posé sur un disque plus petit. \n",
        "\n",
        "1. Ecrire une fonction récursive `deplace(k,depart,arrivee,interm)` qui affiche la liste des déplacements élémentaires permettant de faire passer `k` disques de la tige n° `depart` vers la tige n° `arrivee`, la troisième tige ayant le n° `interm`. \n",
        "\n",
        "2. En déduire une fonction `hanoi(n)` qui affiche la solution du problème des tours de hanoi à `n` disques. \n",
        "\n",
        "Par exemple, `hanoi(3)` devra afficher :\n",
        "```\n",
        "1  =>  3\n",
        "1  =>  2\n",
        "3  =>  2\n",
        "1  =>  3\n",
        "2  =>  1\n",
        "2  =>  3\n",
        "1  =>  3\n",
        "```\n",
        "\n"
      ]
    },
    {
      "cell_type": "markdown",
      "metadata": {
        "id": "yt6XGB-RDGnp"
      },
      "source": [
        "**Exercice 9**\n",
        "\n",
        "1. Ecrire une fonction recursive `nombre_mouvements_hanoi(n)` qui calcule le nombre de déplacements élémentaires effectués pour résoudre le problème des tours de Hanoï (exercice précédent).\n",
        "\n",
        "2. Proposer une conjecture, exprimant  `nombre_mouvements_hanoi(n)` en fonction de `n`. \n",
        "\n",
        "3. *Facultatif : démontrer cette conjecture, grâce à un raisonnement par récurrence.*\n"
      ]
    }
  ]
}