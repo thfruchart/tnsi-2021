{
  "nbformat": 4,
  "nbformat_minor": 0,
  "metadata": {
    "colab": {
      "name": "01-RECURSIVITE-COURS.ipynb",
      "provenance": [],
      "collapsed_sections": [
        "pFWFjZcAfXhr",
        "rgQ1WYa2gxXt",
        "frBH4XXztHOk",
        "80eIytOI05d5",
        "2fIHjKP7APSn",
        "XAb5OLkDCSkV",
        "ZxKUh6NijpBJ",
        "H6_nZL8z0XuW",
        "vYpJlJuokwgp",
        "bD2y8DIik-n6",
        "TM-ldbbA_CX9",
        "saWQX44m1q6D",
        "aV2Bc7VdzX8v",
        "_fosqDf10rFN",
        "v0rNtg-j0zOr",
        "3U-Yge_bEOW0",
        "O2DAeuUkEv-K",
        "Gzs-C-PkFf9u",
        "ms_5itvQnTdt",
        "M6Hg-c4AI9Ab",
        "FVKdgXcSKinO",
        "sq3jg4VRoXYM"
      ],
      "authorship_tag": "ABX9TyPAvbXJJlZAWgFyyCc9JJCp",
      "include_colab_link": true
    },
    "kernelspec": {
      "name": "python3",
      "display_name": "Python 3"
    }
  },
  "cells": [
    {
      "cell_type": "markdown",
      "metadata": {
        "id": "view-in-github",
        "colab_type": "text"
      },
      "source": [
        "<a href=\"https://colab.research.google.com/github/thfruchart/tnsi/blob/main/01/RECURSIVITE_COURS.ipynb\" target=\"_parent\"><img src=\"https://colab.research.google.com/assets/colab-badge.svg\" alt=\"Open In Colab\"/></a>"
      ]
    },
    {
      "cell_type": "markdown",
      "metadata": {
        "id": "dqS2JlLGiJqL"
      },
      "source": [
        "#Récursivité\n",
        "\n",
        "Notions clé:\n",
        "* définitions récursives\n",
        "* programmation avec fonctions récursives\n",
        "* arbre d'appels  / pile d'appel récursifs\n"
      ]
    },
    {
      "cell_type": "markdown",
      "metadata": {
        "id": "nol6wd4vi4Kh"
      },
      "source": [
        "## 1. Exemple d'introduction"
      ]
    },
    {
      "cell_type": "markdown",
      "metadata": {
        "id": "RTTjrDB_EGeA"
      },
      "source": [
        "On note `somme(n)` la somme des premiers nombres entiers, de 0 à n inclus. \n",
        "\n",
        "Habituellement, on écrit :  `somme(n) = 0 + 1 + ... + n`\n",
        "\n"
      ]
    },
    {
      "cell_type": "markdown",
      "metadata": {
        "id": "pFWFjZcAfXhr"
      },
      "source": [
        "#### Question : quel est le sens de cette notation lorsque n = 1 ? Et lorsque n = 0 ?"
      ]
    },
    {
      "cell_type": "markdown",
      "metadata": {
        "id": "55g79XaCfVH_"
      },
      "source": [
        "somme(0) = 0  \n",
        "\n",
        "somme(0) = 0 + 1 "
      ]
    },
    {
      "cell_type": "markdown",
      "metadata": {
        "id": "OrhxB4fajhGO"
      },
      "source": [
        "### a) Définition mathématique rigoureuse\n",
        "Une **meilleure définition** mathématique de la fonction `somme` peut se faire *par récurrence*. \n",
        "\n",
        "$somme(n) = \\left\\lbrace \\matrix{ 0 & \\textrm{si } n=0 \\\\n + somme(n-1) & \\textrm{si } n>0 } \\right. $\n",
        "\n",
        "Ainsi, on définit rigoureusement l'image de chaque entier naturel. "
      ]
    },
    {
      "cell_type": "markdown",
      "metadata": {
        "id": "zO68mUhyl3Yc"
      },
      "source": [
        "#### Exemple : \n",
        "\n",
        "Calculer : somme(3)"
      ]
    },
    {
      "cell_type": "markdown",
      "metadata": {
        "id": "y2p-0KcJfrqT"
      },
      "source": [
        "    somme(3) = 3 + somme (2)\n",
        "            = 3 + (2 + somme(1) )\n",
        "            = 3 + (2 + (1 + somme(0)))\n",
        "            = 3 + (2 + (1 + 0))\n",
        "            = 3 + (2 + (1))\n",
        "            = 3 + (3)\n",
        "            = 6"
      ]
    },
    {
      "cell_type": "markdown",
      "metadata": {
        "id": "vIFWISAImd1s"
      },
      "source": [
        "### b) traduction en python\n",
        "\n",
        "La définition en python de la fonction somme ne pose aucune difficulté : \n"
      ]
    },
    {
      "cell_type": "code",
      "metadata": {
        "id": "sb79JOfdnetW"
      },
      "source": [
        "def somme(n) : \n",
        "    if n == 0 :\n",
        "        return 0\n",
        "    else :\n",
        "        return n + somme(n-1)"
      ],
      "execution_count": null,
      "outputs": []
    },
    {
      "cell_type": "code",
      "metadata": {
        "id": "Wjuja5Kknyb7"
      },
      "source": [
        "somme(3)"
      ],
      "execution_count": null,
      "outputs": []
    },
    {
      "cell_type": "code",
      "metadata": {
        "id": "W8YCQ-tQm47m"
      },
      "source": [
        "# Remarque : on peut simplifier un peu le code\n",
        "\n",
        "def somme(n) : \n",
        "    if n == 0 :\n",
        "        return 0\n",
        "    return n + somme(n-1)"
      ],
      "execution_count": null,
      "outputs": []
    },
    {
      "cell_type": "markdown",
      "metadata": {
        "id": "NvmCcgHBo-42"
      },
      "source": [
        "Visualiser l'exécution sur [Python tutor](http://www.pythontutor.com/visualize.html#code=def%20somme%28n%29%20%3A%20%0A%20%20%20%20if%20n%20%3D%3D%200%20%3A%0A%20%20%20%20%20%20%20%20return%200%0A%20%20%20%20%23%20else%0A%20%20%20%20return%20n%20%2B%20somme%28n-1%29%0A%0Aprint%20%28somme%284%29%29&cumulative=false&curInstr=0&heapPrimitives=nevernest&mode=display&origin=opt-frontend.js&py=3&rawInputLstJSON=%5B%5D&textReferences=false)\n",
        "\n",
        "Python tutor permet de visualiser la **pile d'appels récursifs**."
      ]
    },
    {
      "cell_type": "markdown",
      "metadata": {
        "id": "MgjVnCvmn8Yf"
      },
      "source": [
        "### c) vocabulaire\n",
        "\n",
        "Une fonction qui, comme la fonction somme, fait appel à elle-même est appelée **fonction récursive**. \n",
        "\n",
        "La notion *informatique* de **récursivité** est particulièrement adaptée aux définitions *mathématiques* par **récurrence**. "
      ]
    },
    {
      "cell_type": "markdown",
      "metadata": {
        "id": "Ng0aXU4fp3MV"
      },
      "source": [
        "##   2. Définitions récursives\n",
        "\n",
        "### Une définition récursive comporte toujours au moins\n",
        "* un cas de base\n",
        "* un appel récursif\n",
        "\n",
        "### Mais une définition récursive peut comporter\n",
        "* un *ou plusieurs* cas de base\n",
        "* un *ou plusieurs* appels récursifs\n",
        "\n",
        "On donne ci-dessous **différents exemples** de fonctions récursives."
      ]
    },
    {
      "cell_type": "markdown",
      "metadata": {
        "id": "TkFlBlwgxIzF"
      },
      "source": [
        "### 2.1. Fonction puissance\n",
        "\n",
        "Définition récursive de la fonction puissance telle que puissance($x$, $n$) = $x^n$ où $n$ est un entier naturel."
      ]
    },
    {
      "cell_type": "markdown",
      "metadata": {
        "id": "rgQ1WYa2gxXt"
      },
      "source": [
        "#### a) avec un seul cas de base."
      ]
    },
    {
      "cell_type": "markdown",
      "metadata": {
        "id": "f0eYmIUAgkEp"
      },
      "source": [
        "$ puissance(x, n) =  \\left\\lbrace \\matrix{ 1 & \\textrm{si } n=0      \\\\ x \\times puissance(x, n-1) & \\textrm{sinon }       } \\right. $"
      ]
    },
    {
      "cell_type": "markdown",
      "metadata": {
        "id": "frBH4XXztHOk"
      },
      "source": [
        "#### b) avec deux cas de base"
      ]
    },
    {
      "cell_type": "markdown",
      "metadata": {
        "id": "ujdEfPhCg9rV"
      },
      "source": [
        "$ puissance(x, n) = \\left\\lbrace \\matrix{      1 & \\textrm{si } n=0      \\\\ x & \\textrm{si } n=1      \\\\ x \\times puissance(x, n-1) & \\textrm{sinon }       } \\right. $"
      ]
    },
    {
      "cell_type": "markdown",
      "metadata": {
        "id": "80eIytOI05d5"
      },
      "source": [
        "#### Code python"
      ]
    },
    {
      "cell_type": "code",
      "metadata": {
        "id": "IwIsoL3b09CR"
      },
      "source": [
        "def puissance(x,n):\n",
        "    if n==0:\n",
        "        return 1\n",
        "    elif n==1 :\n",
        "        return x\n",
        "    else :\n",
        "        return x * puissance(x, n-1)"
      ],
      "execution_count": null,
      "outputs": []
    },
    {
      "cell_type": "markdown",
      "metadata": {
        "id": "wJrgBv3ShPTR"
      },
      "source": [
        "EXEMPLE : calcul de $2^ 3$ avec  [Python tutor](https://pythontutor.com/visualize.html#code=def%20puissance%28x,n%29%3A%0A%20%20%20%20if%20n%3D%3D0%3A%0A%20%20%20%20%20%20%20%20return%201%0A%20%20%20%20elif%20n%3D%3D1%20%3A%0A%20%20%20%20%20%20%20%20return%20x%0A%20%20%20%20else%20%3A%0A%20%20%20%20%20%20%20%20return%20x%20*%20puissance%28x,%20n-1%29%0A%0Aprint%28puissance%282,3%29%29&cumulative=false&curInstr=1&heapPrimitives=nevernest&mode=display&origin=opt-frontend.js&py=3&rawInputLstJSON=%5B%5D&textReferences=false)"
      ]
    },
    {
      "cell_type": "markdown",
      "metadata": {
        "id": "0hoxkzQOvJh9"
      },
      "source": [
        "### 2.2. Suite de Fibonacci\n",
        "\n",
        "On donne la définition de la suite de Fibonacci avec les notations mathématiques usuelles.\n",
        "\n",
        "Soit $(u_n)$ la suite définie par : \n",
        "\n",
        "$$ \\left\\lbrace \\matrix{      u_0=1&      \\\\u_1 = 1&      \\\\ u_{n+2} = u_{n+1} + u_n& \\textrm{pour tout entier naturel } n       } \\right. $$"
      ]
    },
    {
      "cell_type": "markdown",
      "metadata": {
        "id": "9QUt_8v8wpZZ"
      },
      "source": [
        "On peut ré-écrire cette définition de la manière suivante : "
      ]
    },
    {
      "cell_type": "markdown",
      "metadata": {
        "id": "JZ9x0a4EwjSc"
      },
      "source": [
        "$$fibo(n) = \\left\\lbrace \\matrix{      1 & \\textrm{si } n=0      \\\\ 1 & \\textrm{si } n=1      \\\\ fibo(n-1)+fibo(n-2) & \\textrm{si }  n \\geq 2      } \\right. $$"
      ]
    },
    {
      "cell_type": "markdown",
      "metadata": {
        "id": "lFOxw9bKw7Qd"
      },
      "source": [
        "#### Code python :"
      ]
    },
    {
      "cell_type": "code",
      "metadata": {
        "id": "-3YxsbrAiUDB"
      },
      "source": [
        "def fibo(n):\n",
        "    if n == 0:\n",
        "        return 1\n",
        "    elif n == 1:\n",
        "        return 1\n",
        "    else :\n",
        "        return fibo(n-1) + fibo(n-2)"
      ],
      "execution_count": null,
      "outputs": []
    },
    {
      "cell_type": "markdown",
      "metadata": {
        "id": "uEg-WDPQimPt"
      },
      "source": [
        "* Observer l'exécution de fibo(4) sur [Python Tutor](https://pythontutor.com/visualize.html#code=def%20fibo%28n%29%3A%0A%20%20%20%20if%20n%20%3D%3D%200%3A%0A%20%20%20%20%20%20%20%20return%201%0A%20%20%20%20elif%20n%20%3D%3D%201%3A%0A%20%20%20%20%20%20%20%20return%201%0A%20%20%20%20else%20%3A%0A%20%20%20%20%20%20%20%20return%20fibo%28n-1%29%20%2B%20fibo%28n-2%29%0A%0Aprint%28fibo%284%29%29&cumulative=false&curInstr=1&heapPrimitives=nevernest&mode=display&origin=opt-frontend.js&py=3&rawInputLstJSON=%5B%5D&textReferences=false)\n",
        "* Remarquer que l'exécution de cette fonction n'est pas  \"optimale\"... "
      ]
    },
    {
      "cell_type": "markdown",
      "metadata": {
        "id": "2fIHjKP7APSn"
      },
      "source": [
        "### 2.3. Récurrence mutuelle"
      ]
    },
    {
      "cell_type": "markdown",
      "metadata": {
        "id": "AnqHzwoMAToj"
      },
      "source": [
        "Il peut arriver que deux suites soient définies par récurrence mutuelle. La traduction en python ne pose pas de problème, mais complexifie l'arbre d'appels.\n"
      ]
    },
    {
      "cell_type": "markdown",
      "metadata": {
        "id": "XMeGzy_2Apln"
      },
      "source": [
        "Soit $(a_n)$ et $(b_n)$ les suites définies pour tout entier naturel $n$ par : \n",
        "\n",
        "$ a_n =  \\left\\lbrace \\matrix{      1&\\textrm{si } n=0       \\\\ 2 a_{n-1} + 3 b_{n-1}& \\textrm{si } n>0       } \\right. $\n",
        "\n",
        "$ b_n =  \\left\\lbrace \\matrix{      2 &\\textrm{si } n=0       \\\\  a_{n-1} - b_{n-1}& \\textrm{si } n>0       } \\right. $"
      ]
    },
    {
      "cell_type": "markdown",
      "metadata": {
        "id": "XAb5OLkDCSkV"
      },
      "source": [
        "#### Exemple\n",
        "calculer \"à la main\" b(2)"
      ]
    },
    {
      "cell_type": "markdown",
      "metadata": {
        "id": "Y8SNbPiyjjNa"
      },
      "source": [
        "\n",
        "    b(2) = a(1) - b(1)  \n",
        "         = 2 a(0) + 3 b(0) - (a(0) - b(0))\n",
        "         = 2 * 1 + 3 * 2 - (1 - (-1))\n",
        "        = 9"
      ]
    },
    {
      "cell_type": "markdown",
      "metadata": {
        "id": "ZxKUh6NijpBJ"
      },
      "source": [
        "#### Code Python"
      ]
    },
    {
      "cell_type": "code",
      "metadata": {
        "id": "bwLZCDF1jrNL"
      },
      "source": [
        "def a(n):\n",
        "    if n==0:\n",
        "        return 1\n",
        "    return 2*a(n-1)+3*b(n-1)\n",
        "\n",
        "\n",
        "def b(n):\n",
        "    if n==0:\n",
        "        return 2\n",
        "    return a(n-1)-b(n-1)"
      ],
      "execution_count": null,
      "outputs": []
    },
    {
      "cell_type": "markdown",
      "metadata": {
        "id": "Vdt06JgEjv5n"
      },
      "source": [
        "* Observer le calcul de `b(2)` sur [Python Tutor](https://pythontutor.com/visualize.html#code=def%20a%28n%29%3A%0A%20%20%20%20if%20n%3D%3D0%3A%0A%20%20%20%20%20%20%20%20return%201%0A%20%20%20%20return%202*a%28n-1%29%2B3*b%28n-1%29%0A%0A%0Adef%20b%28n%29%3A%0A%20%20%20%20if%20n%3D%3D0%3A%0A%20%20%20%20%20%20%20%20return%202%0A%20%20%20%20return%20a%28n-1%29-b%28n-1%29%0A%0Aprint%28b%282%29%29&cumulative=false&curInstr=2&heapPrimitives=nevernest&mode=display&origin=opt-frontend.js&py=3&rawInputLstJSON=%5B%5D&textReferences=false)"
      ]
    },
    {
      "cell_type": "markdown",
      "metadata": {
        "id": "H6_nZL8z0XuW"
      },
      "source": [
        "### 2.4 Fonction puissance, suivant la parité de l'exposant"
      ]
    },
    {
      "cell_type": "markdown",
      "metadata": {
        "id": "x2D6QC2A0ppw"
      },
      "source": [
        "Pour optimiser la calcul de $x^n$ on va chercher à effectuer le moins de multiplications possibles."
      ]
    },
    {
      "cell_type": "markdown",
      "metadata": {
        "id": "vYpJlJuokwgp"
      },
      "source": [
        "#### Exemple \n",
        "\n",
        "Justifier qu'on peut calculer $x^8$ avec seulement trois multiplications."
      ]
    },
    {
      "cell_type": "markdown",
      "metadata": {
        "id": "8k7dPW5-k3h7"
      },
      "source": [
        "    a = x*x\n",
        "    b = a*a\n",
        "    c = b*b"
      ]
    },
    {
      "cell_type": "markdown",
      "metadata": {
        "id": "bD2y8DIik-n6"
      },
      "source": [
        "#### Fonction récursive"
      ]
    },
    {
      "cell_type": "markdown",
      "metadata": {
        "id": "xd3Yjfkp1qqA"
      },
      "source": [
        "**Propriété**\n",
        "\n",
        "Si $n = 2 p$ alors $x^n = (x^p)^2$\n",
        "\n",
        "Si $n = 2 p + 1$  alors  $x^n = (x^p)^2 \\times x $\n",
        "\n",
        "Ceci permet d'écrire une définition avec 2 cas de base et 2 cas récursifs :"
      ]
    },
    {
      "cell_type": "markdown",
      "metadata": {
        "id": "xx8yy7CN-KGg"
      },
      "source": [
        "$ puiss(x, n) = \\left\\lbrace \\matrix{      1 & \\textrm{si } n=0       \\\\ x & \\textrm{si } n=1       \\\\ carre(puiss(x, n/2)) & \\textrm{si $n$ est pair, } n>1        \\\\ x \\times carre(puiss(x, (n-1)/2)) & \\textrm{si $n$ est impair, }  n>1     } \\right. $"
      ]
    },
    {
      "cell_type": "markdown",
      "metadata": {
        "id": "TM-ldbbA_CX9"
      },
      "source": [
        "#### Code python"
      ]
    },
    {
      "cell_type": "code",
      "metadata": {
        "id": "BrLZ58mMlTGP"
      },
      "source": [
        "def puiss(x,n):\n",
        "    if n==0 :\n",
        "        return 1\n",
        "    if n==1 :\n",
        "        return x\n",
        "    r = puiss(x, n//2)\n",
        "    if n%2==0: \n",
        "        return r*r \n",
        "    else :\n",
        "        return r * r *x"
      ],
      "execution_count": null,
      "outputs": []
    },
    {
      "cell_type": "markdown",
      "metadata": {
        "id": "HVFh6EnZlX9t"
      },
      "source": [
        "* Observer le calcul de $2 ^ {12}$ sur [Python Tutor](https://pythontutor.com/visualize.html#code=def%20puiss%28x,n%29%3A%0A%20%20%20%20if%20n%3D%3D0%20%3A%0A%20%20%20%20%20%20%20%20return%201%0A%20%20%20%20if%20n%3D%3D1%20%3A%0A%20%20%20%20%20%20%20%20return%20x%0A%20%20%20%20r%20%3D%20puiss%28x,%20n//2%29%0A%20%20%20%20if%20n%252%3D%3D0%3A%20%0A%20%20%20%20%20%20%20%20return%20r*r%20%0A%20%20%20%20else%20%3A%0A%20%20%20%20%20%20%20%20return%20r%20*%20r%20*x%0A%0Aprint%28puiss%282,12%29%29&cumulative=false&curInstr=1&heapPrimitives=nevernest&mode=display&origin=opt-frontend.js&py=3&rawInputLstJSON=%5B%5D&textReferences=false)"
      ]
    },
    {
      "cell_type": "markdown",
      "metadata": {
        "id": "saWQX44m1q6D"
      },
      "source": [
        "### 2.5 Récurrence sur d'autres structures"
      ]
    },
    {
      "cell_type": "markdown",
      "metadata": {
        "id": "6zLT0AFfC0ee"
      },
      "source": [
        "\n",
        "\n",
        "Dans ce chapitre, on se limite aux fonctions récursives définies sur les **nombres entiers**. \n",
        "\n",
        "Dans la suite du cours, on verra des exemples de fonctions récursives définies sur des structures récursives, comme les listes (puis les piles, les files, les arbres...).\n",
        "\n",
        "Un exemple classique consistera à trier une liste avec un algorithme récursif. "
      ]
    },
    {
      "cell_type": "markdown",
      "metadata": {
        "id": "aV2Bc7VdzX8v"
      },
      "source": [
        "### Ne pas oublier le \"return\""
      ]
    },
    {
      "cell_type": "markdown",
      "metadata": {
        "id": "sqSk_CMdze5j"
      },
      "source": [
        "Comparer l'exécution des deux codes suivants sur Python Tutor"
      ]
    },
    {
      "cell_type": "markdown",
      "metadata": {
        "id": "_fosqDf10rFN"
      },
      "source": [
        "#### [Code1](https://pythontutor.com/visualize.html#code=def%20copy%28a%20%3Aint%20,b%20%3A%20str%29%3A%0A%20%20%20%20if%20a%3D%3D1%3A%0A%20%20%20%20%20%20%20%20return%20b%0A%20%20%20%20else%20%3A%0A%20%20%20%20%20%20%20%20copy%28%20a-1%20,%20b%2Bb%29%0A%0Aprint%28copy%281,%22Hello%22%29%29%0Aprint%28copy%282,%22Hello%22%29%29&cumulative=false&curInstr=1&heapPrimitives=nevernest&mode=display&origin=opt-frontend.js&py=3&rawInputLstJSON=%5B%5D&textReferences=false)"
      ]
    },
    {
      "cell_type": "code",
      "metadata": {
        "id": "JX6ogLa7zkJr",
        "colab": {
          "base_uri": "https://localhost:8080/"
        },
        "outputId": "927c5ae9-8548-4aea-ae94-7bf9175cfc9e"
      },
      "source": [
        "def copy(a :int ,b : str):\n",
        "    if a==1:\n",
        "        return b\n",
        "    else :\n",
        "        copy( a-1 , b+b)\n",
        "\n",
        "print(copy(1,\"Hello\"))\n",
        "print(copy(2,\"Hello\"))"
      ],
      "execution_count": 2,
      "outputs": [
        {
          "output_type": "stream",
          "name": "stdout",
          "text": [
            "Hello\n",
            "None\n"
          ]
        }
      ]
    },
    {
      "cell_type": "markdown",
      "metadata": {
        "id": "v0rNtg-j0zOr"
      },
      "source": [
        "#### [Code2](https://pythontutor.com/visualize.html#code=def%20copy%28a%20%3Aint%20,b%20%3A%20str%29%3A%0A%20%20%20%20if%20a%3D%3D1%3A%0A%20%20%20%20%20%20%20%20return%20b%0A%20%20%20%20else%20%3A%0A%20%20%20%20%20%20%20%20return%20copy%28%20a-1%20,%20b%2Bb%29%0A%0Aprint%28copy%281,%22Hello%22%29%29%0Aprint%28copy%282,%22Hello%22%29%29&cumulative=false&curInstr=1&heapPrimitives=nevernest&mode=display&origin=opt-frontend.js&py=3&rawInputLstJSON=%5B%5D&textReferences=false)"
      ]
    },
    {
      "cell_type": "code",
      "metadata": {
        "id": "hV-DY8Js0NDT",
        "colab": {
          "base_uri": "https://localhost:8080/"
        },
        "outputId": "0c2d1aaf-3d9d-48d0-f644-fffbd6a3a1d4"
      },
      "source": [
        "def copy(a :int ,b : str):\n",
        "    if a==1:\n",
        "        return b\n",
        "    else :\n",
        "        return copy( a-1 , b+b)\n",
        "\n",
        "print(copy(1,\"Hello\"))\n",
        "print(copy(2,\"Hello\"))"
      ],
      "execution_count": 3,
      "outputs": [
        {
          "output_type": "stream",
          "name": "stdout",
          "text": [
            "Hello\n",
            "HelloHello\n"
          ]
        }
      ]
    },
    {
      "cell_type": "markdown",
      "metadata": {
        "id": "aVBFJeUv05bS"
      },
      "source": [
        "Avec le code2, quelle sera la valeur de l'expression :\n",
        "`copy(3,'?')`"
      ]
    },
    {
      "cell_type": "code",
      "metadata": {
        "id": "1mizG-M90ZyU",
        "colab": {
          "base_uri": "https://localhost:8080/",
          "height": 35
        },
        "outputId": "9341dd05-e3ad-44a2-b60e-21068b3b9bed"
      },
      "source": [
        "copy(3,'?')"
      ],
      "execution_count": 4,
      "outputs": [
        {
          "output_type": "execute_result",
          "data": {
            "application/vnd.google.colaboratory.intrinsic+json": {
              "type": "string"
            },
            "text/plain": [
              "'????'"
            ]
          },
          "metadata": {},
          "execution_count": 4
        }
      ]
    },
    {
      "cell_type": "markdown",
      "metadata": {
        "id": "xKnGN-_h1RO0"
      },
      "source": [
        "[Python Tutor](https://pythontutor.com/visualize.html#code=def%20copy%28a%20%3Aint%20,b%20%3A%20str%29%3A%0A%20%20%20%20if%20a%3D%3D1%3A%0A%20%20%20%20%20%20%20%20return%20b%0A%20%20%20%20else%20%3A%0A%20%20%20%20%20%20%20%20return%20copy%28%20a-1%20,%20b%2Bb%29%0A%0Aprint%28copy%283,'%3F'%29%29&cumulative=false&curInstr=1&heapPrimitives=nevernest&mode=display&origin=opt-frontend.js&py=3&rawInputLstJSON=%5B%5D&textReferences=false)"
      ]
    },
    {
      "cell_type": "markdown",
      "metadata": {
        "id": "3U-Yge_bEOW0"
      },
      "source": [
        "## 3. Programmation récursive"
      ]
    },
    {
      "cell_type": "markdown",
      "metadata": {
        "id": "x_3PRWdJEbTd"
      },
      "source": [
        "Une fois écrite mathématiquement, une définition récursive se programme très simplement. \n",
        "* veiller à bien définir le(s) cas de base\n",
        "* veiller à la cohérence des appels récursifs\n",
        "\n",
        "Deux points d'attention sont cependant importants."
      ]
    },
    {
      "cell_type": "markdown",
      "metadata": {
        "id": "O2DAeuUkEv-K"
      },
      "source": [
        "### 3.1. Types de données python <> domaine mathématique"
      ]
    },
    {
      "cell_type": "markdown",
      "metadata": {
        "id": "oqaDNI5XE_Yu"
      },
      "source": [
        "On reprend l'exemple d'introduction :\n",
        "\n",
        "\n",
        "    \n",
        "\n"
      ]
    },
    {
      "cell_type": "code",
      "metadata": {
        "id": "0rSRzlK8mrpe"
      },
      "source": [
        "def somme(n) : \n",
        "    if n == 0 :\n",
        "        return 0\n",
        "    # else\n",
        "    return n + somme(n-1)"
      ],
      "execution_count": 5,
      "outputs": []
    },
    {
      "cell_type": "markdown",
      "metadata": {
        "id": "Gzs-C-PkFf9u"
      },
      "source": [
        "#### que penser de l'appel : ` somme(-1)` ? "
      ]
    },
    {
      "cell_type": "markdown",
      "metadata": {
        "id": "t_oWVS4QmaRA"
      },
      "source": [
        "    somme(-1) = -1 + somme(-2)\n",
        "\n",
        "    somme(-2) = -2 + somme(-3) ..."
      ]
    },
    {
      "cell_type": "code",
      "metadata": {
        "id": "eJT_S8itmk9n",
        "colab": {
          "base_uri": "https://localhost:8080/",
          "height": 309
        },
        "outputId": "e35cc5c8-1bc3-45d3-e816-2bdf1199b28b"
      },
      "source": [
        "somme(-1)"
      ],
      "execution_count": 7,
      "outputs": [
        {
          "output_type": "error",
          "ename": "RecursionError",
          "evalue": "ignored",
          "traceback": [
            "\u001b[0;31m---------------------------------------------------------------------------\u001b[0m",
            "\u001b[0;31mRecursionError\u001b[0m                            Traceback (most recent call last)",
            "\u001b[0;32m<ipython-input-7-2263d90c8da2>\u001b[0m in \u001b[0;36m<module>\u001b[0;34m()\u001b[0m\n\u001b[0;32m----> 1\u001b[0;31m \u001b[0msomme\u001b[0m\u001b[0;34m(\u001b[0m\u001b[0;34m-\u001b[0m\u001b[0;36m1\u001b[0m\u001b[0;34m)\u001b[0m\u001b[0;34m\u001b[0m\u001b[0;34m\u001b[0m\u001b[0m\n\u001b[0m",
            "\u001b[0;32m<ipython-input-5-e26c14ea6647>\u001b[0m in \u001b[0;36msomme\u001b[0;34m(n)\u001b[0m\n\u001b[1;32m      3\u001b[0m         \u001b[0;32mreturn\u001b[0m \u001b[0;36m0\u001b[0m\u001b[0;34m\u001b[0m\u001b[0;34m\u001b[0m\u001b[0m\n\u001b[1;32m      4\u001b[0m     \u001b[0;31m# else\u001b[0m\u001b[0;34m\u001b[0m\u001b[0;34m\u001b[0m\u001b[0;34m\u001b[0m\u001b[0m\n\u001b[0;32m----> 5\u001b[0;31m     \u001b[0;32mreturn\u001b[0m \u001b[0mn\u001b[0m \u001b[0;34m+\u001b[0m \u001b[0msomme\u001b[0m\u001b[0;34m(\u001b[0m\u001b[0mn\u001b[0m\u001b[0;34m-\u001b[0m\u001b[0;36m1\u001b[0m\u001b[0;34m)\u001b[0m\u001b[0;34m\u001b[0m\u001b[0;34m\u001b[0m\u001b[0m\n\u001b[0m",
            "... last 1 frames repeated, from the frame below ...\n",
            "\u001b[0;32m<ipython-input-5-e26c14ea6647>\u001b[0m in \u001b[0;36msomme\u001b[0;34m(n)\u001b[0m\n\u001b[1;32m      3\u001b[0m         \u001b[0;32mreturn\u001b[0m \u001b[0;36m0\u001b[0m\u001b[0;34m\u001b[0m\u001b[0;34m\u001b[0m\u001b[0m\n\u001b[1;32m      4\u001b[0m     \u001b[0;31m# else\u001b[0m\u001b[0;34m\u001b[0m\u001b[0;34m\u001b[0m\u001b[0;34m\u001b[0m\u001b[0m\n\u001b[0;32m----> 5\u001b[0;31m     \u001b[0;32mreturn\u001b[0m \u001b[0mn\u001b[0m \u001b[0;34m+\u001b[0m \u001b[0msomme\u001b[0m\u001b[0;34m(\u001b[0m\u001b[0mn\u001b[0m\u001b[0;34m-\u001b[0m\u001b[0;36m1\u001b[0m\u001b[0;34m)\u001b[0m\u001b[0;34m\u001b[0m\u001b[0;34m\u001b[0m\u001b[0m\n\u001b[0m",
            "\u001b[0;31mRecursionError\u001b[0m: maximum recursion depth exceeded in comparison"
          ]
        }
      ]
    },
    {
      "cell_type": "markdown",
      "metadata": {
        "id": "ms_5itvQnTdt"
      },
      "source": [
        "#### Une solution possible avec une assertion"
      ]
    },
    {
      "cell_type": "markdown",
      "metadata": {
        "id": "5DwlBWVGFpj5"
      },
      "source": [
        "Pour faire coïncider le domaine mathématique (entiers naturels) et les valeurs des paramètres passés à la fonction en python, on peut utiliser une **assertion**"
      ]
    },
    {
      "cell_type": "code",
      "metadata": {
        "id": "w_8FdDdNF4K6"
      },
      "source": [
        "def somme(n) : \n",
        "    assert n >=0 , \"n doit être un entier naturel\"\n",
        "    if n == 0 :\n",
        "        return 0\n",
        "    # else\n",
        "    return n + somme(n-1)"
      ],
      "execution_count": 8,
      "outputs": []
    },
    {
      "cell_type": "markdown",
      "metadata": {
        "id": "OCzP8IsGHWkQ"
      },
      "source": [
        "Combien de fois faut-il tester la correction du paramètre ? \n",
        "\n",
        "- il suffit de tester la  une seule fois !\n",
        "\n",
        "Or, notre assertion est testée à chaque appel récursif ! Peut-on faire mieux ?\n",
        "\n",
        "- la réponse est oui, à condition d'utiliser une fonction auxiliaire."
      ]
    },
    {
      "cell_type": "code",
      "metadata": {
        "id": "X6cXSFJ7H5fW"
      },
      "source": [
        "def _somme(n):\n",
        "    if n == 0 :\n",
        "        return 0\n",
        "    # else\n",
        "    return n + _somme(n-1)\n",
        "\n",
        "def somme(n) : \n",
        "    assert n >=0 , \"n doit être un entier naturel\"\n",
        "    return _somme(n)"
      ],
      "execution_count": 9,
      "outputs": []
    },
    {
      "cell_type": "code",
      "metadata": {
        "id": "AqCvrTJpnebL",
        "colab": {
          "base_uri": "https://localhost:8080/",
          "height": 268
        },
        "outputId": "ba5a0174-a3e5-4a15-c075-4507fd742116"
      },
      "source": [
        "somme(-2)"
      ],
      "execution_count": 10,
      "outputs": [
        {
          "output_type": "error",
          "ename": "AssertionError",
          "evalue": "ignored",
          "traceback": [
            "\u001b[0;31m---------------------------------------------------------------------------\u001b[0m",
            "\u001b[0;31mAssertionError\u001b[0m                            Traceback (most recent call last)",
            "\u001b[0;32m<ipython-input-10-0af9a1f93ae3>\u001b[0m in \u001b[0;36m<module>\u001b[0;34m()\u001b[0m\n\u001b[0;32m----> 1\u001b[0;31m \u001b[0msomme\u001b[0m\u001b[0;34m(\u001b[0m\u001b[0;34m-\u001b[0m\u001b[0;36m2\u001b[0m\u001b[0;34m)\u001b[0m\u001b[0;34m\u001b[0m\u001b[0;34m\u001b[0m\u001b[0m\n\u001b[0m",
            "\u001b[0;32m<ipython-input-9-7c5090b8c366>\u001b[0m in \u001b[0;36msomme\u001b[0;34m(n)\u001b[0m\n\u001b[1;32m      6\u001b[0m \u001b[0;34m\u001b[0m\u001b[0m\n\u001b[1;32m      7\u001b[0m \u001b[0;32mdef\u001b[0m \u001b[0msomme\u001b[0m\u001b[0;34m(\u001b[0m\u001b[0mn\u001b[0m\u001b[0;34m)\u001b[0m \u001b[0;34m:\u001b[0m\u001b[0;34m\u001b[0m\u001b[0;34m\u001b[0m\u001b[0m\n\u001b[0;32m----> 8\u001b[0;31m     \u001b[0;32massert\u001b[0m \u001b[0mn\u001b[0m \u001b[0;34m>=\u001b[0m\u001b[0;36m0\u001b[0m \u001b[0;34m,\u001b[0m \u001b[0;34m\"n doit être un entier naturel\"\u001b[0m\u001b[0;34m\u001b[0m\u001b[0;34m\u001b[0m\u001b[0m\n\u001b[0m\u001b[1;32m      9\u001b[0m     \u001b[0;32mreturn\u001b[0m \u001b[0m_somme\u001b[0m\u001b[0;34m(\u001b[0m\u001b[0mn\u001b[0m\u001b[0;34m)\u001b[0m\u001b[0;34m\u001b[0m\u001b[0;34m\u001b[0m\u001b[0m\n",
            "\u001b[0;31mAssertionError\u001b[0m: n doit être un entier naturel"
          ]
        }
      ]
    },
    {
      "cell_type": "markdown",
      "metadata": {
        "id": "M6Hg-c4AI9Ab"
      },
      "source": [
        "### 3.2. Question d'efficacité et RecursionError"
      ]
    },
    {
      "cell_type": "markdown",
      "metadata": {
        "id": "KFN4_TEJJOGB"
      },
      "source": [
        "Reprenons l'exemple du calcul de $x^n$.\n",
        "\n",
        "Nous disposons de deux fonctions : `puissance`  et `puiss`\n",
        "\n"
      ]
    },
    {
      "cell_type": "code",
      "metadata": {
        "id": "GaS3DjRwJgrB"
      },
      "source": [
        "def puissance(x,n):\n",
        "    if n==0 :\n",
        "        return 1\n",
        "    if n==1 :\n",
        "        return x\n",
        "    return x * puissance(x,n-1)\n",
        " \n",
        "def puiss(x,n):\n",
        "    if n==0 :\n",
        "        return 1\n",
        "    if n==1 :\n",
        "        return x\n",
        "    r = puiss(x, n//2)\n",
        "    if n%2==0: \n",
        "        return r*r\n",
        "    else :\n",
        "        return x*r*r "
      ],
      "execution_count": 11,
      "outputs": []
    },
    {
      "cell_type": "markdown",
      "metadata": {
        "id": "AoDCKDWFKRIi"
      },
      "source": [
        "Comparer les exécutions des cellules suivantes, puis expliquer les différences"
      ]
    },
    {
      "cell_type": "code",
      "metadata": {
        "id": "OwKTXH6xJy4-",
        "colab": {
          "base_uri": "https://localhost:8080/"
        },
        "outputId": "a49bc764-b2ea-43b4-dedb-95c593b3f1e9"
      },
      "source": [
        "puissance(2,100)"
      ],
      "execution_count": 12,
      "outputs": [
        {
          "output_type": "execute_result",
          "data": {
            "text/plain": [
              "1267650600228229401496703205376"
            ]
          },
          "metadata": {},
          "execution_count": 12
        }
      ]
    },
    {
      "cell_type": "code",
      "metadata": {
        "id": "M4cueYqPJ3jK",
        "colab": {
          "base_uri": "https://localhost:8080/",
          "height": 344
        },
        "outputId": "f46c9d0e-4f00-4fb8-eec4-b9928c5cad1a"
      },
      "source": [
        "puissance(2,1000)"
      ],
      "execution_count": 13,
      "outputs": [
        {
          "output_type": "error",
          "ename": "RecursionError",
          "evalue": "ignored",
          "traceback": [
            "\u001b[0;31m---------------------------------------------------------------------------\u001b[0m",
            "\u001b[0;31mRecursionError\u001b[0m                            Traceback (most recent call last)",
            "\u001b[0;32m<ipython-input-13-4c460f0a3976>\u001b[0m in \u001b[0;36m<module>\u001b[0;34m()\u001b[0m\n\u001b[0;32m----> 1\u001b[0;31m \u001b[0mpuissance\u001b[0m\u001b[0;34m(\u001b[0m\u001b[0;36m2\u001b[0m\u001b[0;34m,\u001b[0m\u001b[0;36m1000\u001b[0m\u001b[0;34m)\u001b[0m\u001b[0;34m\u001b[0m\u001b[0;34m\u001b[0m\u001b[0m\n\u001b[0m",
            "\u001b[0;32m<ipython-input-11-15c72779373c>\u001b[0m in \u001b[0;36mpuissance\u001b[0;34m(x, n)\u001b[0m\n\u001b[1;32m      4\u001b[0m     \u001b[0;32mif\u001b[0m \u001b[0mn\u001b[0m\u001b[0;34m==\u001b[0m\u001b[0;36m1\u001b[0m \u001b[0;34m:\u001b[0m\u001b[0;34m\u001b[0m\u001b[0;34m\u001b[0m\u001b[0m\n\u001b[1;32m      5\u001b[0m         \u001b[0;32mreturn\u001b[0m \u001b[0mx\u001b[0m\u001b[0;34m\u001b[0m\u001b[0;34m\u001b[0m\u001b[0m\n\u001b[0;32m----> 6\u001b[0;31m     \u001b[0;32mreturn\u001b[0m \u001b[0mx\u001b[0m \u001b[0;34m*\u001b[0m \u001b[0mpuissance\u001b[0m\u001b[0;34m(\u001b[0m\u001b[0mx\u001b[0m\u001b[0;34m,\u001b[0m\u001b[0mn\u001b[0m\u001b[0;34m-\u001b[0m\u001b[0;36m1\u001b[0m\u001b[0;34m)\u001b[0m\u001b[0;34m\u001b[0m\u001b[0;34m\u001b[0m\u001b[0m\n\u001b[0m\u001b[1;32m      7\u001b[0m \u001b[0;34m\u001b[0m\u001b[0m\n\u001b[1;32m      8\u001b[0m \u001b[0;32mdef\u001b[0m \u001b[0mpuiss\u001b[0m\u001b[0;34m(\u001b[0m\u001b[0mx\u001b[0m\u001b[0;34m,\u001b[0m\u001b[0mn\u001b[0m\u001b[0;34m)\u001b[0m\u001b[0;34m:\u001b[0m\u001b[0;34m\u001b[0m\u001b[0;34m\u001b[0m\u001b[0m\n",
            "... last 1 frames repeated, from the frame below ...\n",
            "\u001b[0;32m<ipython-input-11-15c72779373c>\u001b[0m in \u001b[0;36mpuissance\u001b[0;34m(x, n)\u001b[0m\n\u001b[1;32m      4\u001b[0m     \u001b[0;32mif\u001b[0m \u001b[0mn\u001b[0m\u001b[0;34m==\u001b[0m\u001b[0;36m1\u001b[0m \u001b[0;34m:\u001b[0m\u001b[0;34m\u001b[0m\u001b[0;34m\u001b[0m\u001b[0m\n\u001b[1;32m      5\u001b[0m         \u001b[0;32mreturn\u001b[0m \u001b[0mx\u001b[0m\u001b[0;34m\u001b[0m\u001b[0;34m\u001b[0m\u001b[0m\n\u001b[0;32m----> 6\u001b[0;31m     \u001b[0;32mreturn\u001b[0m \u001b[0mx\u001b[0m \u001b[0;34m*\u001b[0m \u001b[0mpuissance\u001b[0m\u001b[0;34m(\u001b[0m\u001b[0mx\u001b[0m\u001b[0;34m,\u001b[0m\u001b[0mn\u001b[0m\u001b[0;34m-\u001b[0m\u001b[0;36m1\u001b[0m\u001b[0;34m)\u001b[0m\u001b[0;34m\u001b[0m\u001b[0;34m\u001b[0m\u001b[0m\n\u001b[0m\u001b[1;32m      7\u001b[0m \u001b[0;34m\u001b[0m\u001b[0m\n\u001b[1;32m      8\u001b[0m \u001b[0;32mdef\u001b[0m \u001b[0mpuiss\u001b[0m\u001b[0;34m(\u001b[0m\u001b[0mx\u001b[0m\u001b[0;34m,\u001b[0m\u001b[0mn\u001b[0m\u001b[0;34m)\u001b[0m\u001b[0;34m:\u001b[0m\u001b[0;34m\u001b[0m\u001b[0;34m\u001b[0m\u001b[0m\n",
            "\u001b[0;31mRecursionError\u001b[0m: maximum recursion depth exceeded in comparison"
          ]
        }
      ]
    },
    {
      "cell_type": "code",
      "metadata": {
        "id": "FgGtk7B7J_Mr",
        "colab": {
          "base_uri": "https://localhost:8080/"
        },
        "outputId": "eb467d0e-85b2-4d00-bd5c-6e3c2ffcf522"
      },
      "source": [
        "puiss(2,100)"
      ],
      "execution_count": 15,
      "outputs": [
        {
          "output_type": "execute_result",
          "data": {
            "text/plain": [
              "1267650600228229401496703205376"
            ]
          },
          "metadata": {},
          "execution_count": 15
        }
      ]
    },
    {
      "cell_type": "code",
      "metadata": {
        "id": "aKM7-GStKCwO",
        "colab": {
          "base_uri": "https://localhost:8080/"
        },
        "outputId": "1e317390-38fe-45ba-880b-3ca6c3ec7e49"
      },
      "source": [
        "puiss(2,1000)"
      ],
      "execution_count": 14,
      "outputs": [
        {
          "output_type": "execute_result",
          "data": {
            "text/plain": [
              "10715086071862673209484250490600018105614048117055336074437503883703510511249361224931983788156958581275946729175531468251871452856923140435984577574698574803934567774824230985421074605062371141877954182153046474983581941267398767559165543946077062914571196477686542167660429831652624386837205668069376"
            ]
          },
          "metadata": {},
          "execution_count": 14
        }
      ]
    },
    {
      "cell_type": "markdown",
      "metadata": {
        "id": "FVKdgXcSKinO"
      },
      "source": [
        "#### RecursionError"
      ]
    },
    {
      "cell_type": "markdown",
      "metadata": {
        "id": "92PRgG61k9ON"
      },
      "source": [
        "**Python limite la taille de la pile d'appels récursifs.**\n",
        "\n",
        "Lors de l'exécution d'un programme en python, la mémoire de la machine sert à stocker à la fois le programme et les données manipulées par le programme. On distingue quatre segments :\n",
        " - segment de **code** : pour le programme qui est exécuté\n",
        " - segment de **données** : pour les données statiques, c'est à dires les données dont l'adresse mémoire et la valeur sont connues lors de l'*initialisation* du programme. La taille de ces données statiques ne peut pas être modifiée pendant l'exécution du programme\n",
        " - le segment du **tas** et le segment de la **pile** contiennent les données allouées dynamiquement, pendant l'exécution du programme. \n",
        "   - la *pile* est utilisée pour les appels de fonctions : en effet, à la fin d'un appel de fonction, les données utilisées peuvent souvent être libérées de la mémoire, lorsque la fonction retourne un résultat. Ainsi, les variables *locales* à la fonction sont stockées dans la pile pendant l'exécution de la fonction, et sont libérées après. \n",
        "   Pythontutor donne une idée des données stockées dans le pile d'appel lorsqu'on exécute une fonction récursive. => [exemple](http://www.pythontutor.com/visualize.html#code=def%20somme%28n%29%20%3A%20%0A%20%20%20%20if%20n%20%3D%3D%200%20%3A%0A%20%20%20%20%20%20%20%20return%200%0A%20%20%20%20%23%20else%0A%20%20%20%20return%20n%20%2B%20somme%28n-1%29%0A%0Aprint%20%28somme%284%29%29&cumulative=false&curInstr=22&heapPrimitives=nevernest&mode=display&origin=opt-frontend.js&py=3&rawInputLstJSON=%5B%5D&textReferences=false)\n",
        "   - le *tas* contient toutes les autres données allouées dynamiquement : par exemple les listes, dont la taille peut être modifiée pendant l'exécution du programme. "
      ]
    },
    {
      "cell_type": "markdown",
      "metadata": {
        "id": "sq3jg4VRoXYM"
      },
      "source": [
        "#### Pour connaître et modifier la taille de la pile d'appels récursifs\n",
        "\n",
        "[sys.getrecursionlimit()](https://docs.python.org/fr/3/library/sys.html#sys.getrecursionlimit)\n",
        "\n",
        "[sys.setrecursionlimit(limit)](https://docs.python.org/fr/3/library/sys.html#sys.setrecursionlimit)"
      ]
    },
    {
      "cell_type": "code",
      "metadata": {
        "id": "Ne4-Lsj6o4m1"
      },
      "source": [
        "import sys\n",
        "print(sys.getrecursionlimit()  )"
      ],
      "execution_count": null,
      "outputs": []
    },
    {
      "cell_type": "code",
      "metadata": {
        "id": "qNxx0rAlpCGd"
      },
      "source": [
        "sys.setrecursionlimit(2000)"
      ],
      "execution_count": null,
      "outputs": []
    },
    {
      "cell_type": "code",
      "metadata": {
        "id": "0_JJ3dAXpJi4"
      },
      "source": [
        "puissance(2, 1000)"
      ],
      "execution_count": null,
      "outputs": []
    },
    {
      "cell_type": "markdown",
      "metadata": {
        "id": "p4LzJZQMp6HH"
      },
      "source": [
        "* avantage de recursionlimit : \n",
        "  - évite les \"boucles infinies\" en cas d'erreur dans l'écriture d'une fonction récursive\n",
        "* inconvénient :\n",
        "  - renvoie une erreur dans certains cas **bien écrits** mais qui nécessitent un *grand nombre* d'appels récursifs. \n",
        "\n",
        "\n",
        "En python, c'est au programmeur de prévoir éventuellement d'augmenter la valeur recursionlimit, en fonction de ses besoins. \n",
        "\n",
        "D'autres langages (par exemple Caml) sont conçus principalement pour la récursivité (et la programmation fonctionnelle, dans le cas de Caml). La philosophie de python n'est pas de favoriser la récursivité..."
      ]
    },
    {
      "cell_type": "markdown",
      "metadata": {
        "id": "YhA3Wok8tKiO"
      },
      "source": [
        "# Conclusion\n",
        "\n",
        "Une **définition récursive** comporte toujours au moins un **cas de base**, et au moins un **appel récursif** à l'objet qui est en train d'être défini.\n",
        "Une telle définition est parfois plus simple, parfois plus efficace, mais pas toujours !\n",
        "\n",
        "La **traduction en python** d'une définition mathématique récursive est très **simple**, mais il faut veiller à :\n",
        "- la différence entre **type de données** en python et **domaine** d'une fonction mathématique => instruction `assert`\n",
        "- la **limite** des appels récursifs en python et la gestion de la mémoire (pile d'appels)"
      ]
    }
  ]
}