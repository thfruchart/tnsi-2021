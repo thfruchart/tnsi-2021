{
  "nbformat": 4,
  "nbformat_minor": 0,
  "metadata": {
    "colab": {
      "name": "01-RECURSIVITE-COURS.ipynb",
      "provenance": [],
      "collapsed_sections": [],
      "authorship_tag": "ABX9TyNw0SlRYtWQKsbbOLZ0iJ1S",
      "include_colab_link": true
    },
    "kernelspec": {
      "name": "python3",
      "display_name": "Python 3"
    }
  },
  "cells": [
    {
      "cell_type": "markdown",
      "metadata": {
        "id": "view-in-github",
        "colab_type": "text"
      },
      "source": [
        "<a href=\"https://colab.research.google.com/github/thfruchart/tnsi/blob/main/01/RECURSIVITE_COURS.ipynb\" target=\"_parent\"><img src=\"https://colab.research.google.com/assets/colab-badge.svg\" alt=\"Open In Colab\"/></a>"
      ]
    },
    {
      "cell_type": "markdown",
      "metadata": {
        "id": "dqS2JlLGiJqL"
      },
      "source": [
        "#Récursivité\n",
        "\n",
        "Notions clé:\n",
        "* définitions récursives\n",
        "* programmation avec fonctions récursives\n",
        "* arbre d'appels  / pile d'appel récursifs\n"
      ]
    },
    {
      "cell_type": "markdown",
      "metadata": {
        "id": "nol6wd4vi4Kh"
      },
      "source": [
        "## 1. Exemple d'introduction"
      ]
    },
    {
      "cell_type": "markdown",
      "metadata": {
        "id": "RTTjrDB_EGeA"
      },
      "source": [
        "On note `somme(n)` la somme des premiers nombres entiers, de 0 à n inclus. \n",
        "\n",
        "Habituellement, on écrit :  `somme(n) = 0 + 1 + ... + n`\n",
        "\n",
        "Question : quel est le sens de cette notation lorsque n = 1 ? Et lorsque n = 0 ?"
      ]
    },
    {
      "cell_type": "markdown",
      "metadata": {
        "id": "oGsXu_N4jfDt"
      },
      "source": [
        "... "
      ]
    },
    {
      "cell_type": "markdown",
      "metadata": {
        "id": "OrhxB4fajhGO"
      },
      "source": [
        "### a) Définition mathématique rigoureuse\n",
        "Une **meilleure définition** mathématique de la fonction `somme` peut se faire *par récurrence*. \n",
        "\n",
        "$$somme(n) = \\left\\lbrace \\matrix{ 0 & \\textrm{si } n=0 \\\\n + somme(n-1) & \\textrm{si } n>0 } \\right. $$"
      ]
    },
    {
      "cell_type": "markdown",
      "metadata": {
        "id": "zO68mUhyl3Yc"
      },
      "source": [
        "Ainsi, on définit rigoureusement l'image de chaque entier naturel. \n",
        "\n",
        "Calculer : somme(3)"
      ]
    },
    {
      "cell_type": "markdown",
      "metadata": {
        "id": "maK_erT-mcXk"
      },
      "source": [
        "... "
      ]
    },
    {
      "cell_type": "markdown",
      "metadata": {
        "id": "vIFWISAImd1s"
      },
      "source": [
        "### b) traduction en python\n",
        "\n",
        "La définition en python de la fonction somme ne pose aucune difficulté : \n"
      ]
    },
    {
      "cell_type": "code",
      "metadata": {
        "id": "sb79JOfdnetW"
      },
      "source": [
        "def somme(n) : \n",
        "    if n == 0 :\n",
        "        return 0\n",
        "    # else\n",
        "    return n + somme(n-1)"
      ],
      "execution_count": null,
      "outputs": []
    },
    {
      "cell_type": "code",
      "metadata": {
        "id": "Wjuja5Kknyb7"
      },
      "source": [
        "somme(3)"
      ],
      "execution_count": null,
      "outputs": []
    },
    {
      "cell_type": "markdown",
      "metadata": {
        "id": "MgjVnCvmn8Yf"
      },
      "source": [
        "### c) vocabulaire\n",
        "\n",
        "Une fonction qui, comme la fonction somme, fait appel à elle-même est appelée **fonction récursive**. \n",
        "\n",
        "La notion *informatique* de **récursivité** est particulièrement adaptée aux définitions *mathématiques* par **récurrence**. "
      ]
    },
    {
      "cell_type": "markdown",
      "metadata": {
        "id": "NvmCcgHBo-42"
      },
      "source": [
        "Visualiser l'exécution sur [Python tutor](http://www.pythontutor.com/visualize.html#code=def%20somme%28n%29%20%3A%20%0A%20%20%20%20if%20n%20%3D%3D%200%20%3A%0A%20%20%20%20%20%20%20%20return%200%0A%20%20%20%20%23%20else%0A%20%20%20%20return%20n%20%2B%20somme%28n-1%29%0A%0Aprint%20%28somme%284%29%29&cumulative=false&curInstr=0&heapPrimitives=nevernest&mode=display&origin=opt-frontend.js&py=3&rawInputLstJSON=%5B%5D&textReferences=false)"
      ]
    },
    {
      "cell_type": "markdown",
      "metadata": {
        "id": "gfGkJfXXpZ74"
      },
      "source": [
        "A faire sur feuille : \n",
        "\n",
        "dessiner **l'arbre d'appel** correspondant à l'éxécution de `somme(4)`"
      ]
    },
    {
      "cell_type": "markdown",
      "metadata": {
        "id": "Ut_hV50sprm3"
      },
      "source": [
        ""
      ]
    },
    {
      "cell_type": "markdown",
      "metadata": {
        "id": "Ng0aXU4fp3MV"
      },
      "source": [
        "##   2. Définitions récursives\n",
        "\n",
        "### Une définition récursive comporte toujours au moins\n",
        "* un cas de base\n",
        "* un appel récursif\n",
        "\n",
        "### Mais une définition récursive peut comporter\n",
        "* un *ou plusieurs* cas de base\n",
        "* un *ou plusieurs* appels récursifs"
      ]
    },
    {
      "cell_type": "markdown",
      "metadata": {
        "id": "TkFlBlwgxIzF"
      },
      "source": [
        "### 2.1. Fonction puissance\n",
        "\n",
        "a) Donner une définition récursive de la fonction puissance telle que puissance($x$, $n$) = $x^n$ où $n$ est un entier naturel."
      ]
    },
    {
      "cell_type": "markdown",
      "metadata": {
        "id": "Rr9vinCJqYFn"
      },
      "source": [
        "$$puissance(x, n) = \\left\\lbrace \\matrix{\n",
        "     ... & \\textrm{si } ... \n",
        "     \\\\ ... & \\textrm{si } ... \n",
        "     } \\right. $$"
      ]
    },
    {
      "cell_type": "markdown",
      "metadata": {
        "id": "zRbnfwwPs00Q"
      },
      "source": [
        "b) Décrire l'arbre d'appel de puissance(x,1)"
      ]
    },
    {
      "cell_type": "markdown",
      "metadata": {
        "id": "frBH4XXztHOk"
      },
      "source": [
        "\n",
        "\n",
        "c) proposer une définition récursive qui \"évite les multiplications inutiles\" grâce à un second cas de base"
      ]
    },
    {
      "cell_type": "markdown",
      "metadata": {
        "id": "nGeF4OdJtSIt"
      },
      "source": [
        "$$puissance(x, n) = \\left\\lbrace \\matrix{\n",
        "     ... & \\textrm{si } ... \n",
        "     \\\\ ... & \\textrm{si } ... \n",
        "     \\\\ ... & \\textrm{si } ... \n",
        "     } \\right. $$"
      ]
    },
    {
      "cell_type": "markdown",
      "metadata": {
        "id": "80eIytOI05d5"
      },
      "source": [
        "Coder cette fonction en python"
      ]
    },
    {
      "cell_type": "code",
      "metadata": {
        "id": "IwIsoL3b09CR"
      },
      "source": [
        "def puissance(x,n):\n",
        "    ... "
      ],
      "execution_count": null,
      "outputs": []
    },
    {
      "cell_type": "markdown",
      "metadata": {
        "id": "0hoxkzQOvJh9"
      },
      "source": [
        "### 2.2. Suite de Fibonacci\n",
        "\n",
        "On donne la définition de la suite de Fibonacci avec les notations mathématiques usuelles.\n",
        "\n",
        "Soit $(u_n)$ la suite définie par : \n",
        "\n",
        "$$ \\left\\lbrace \\matrix{\n",
        "     u_0=1&\n",
        "     \\\\u_1 = 1&\n",
        "     \\\\ u_{n+2} = u_{n+1} + u_n& \\textrm{pour tout entier naturel } n \n",
        "     } \\right. $$"
      ]
    },
    {
      "cell_type": "markdown",
      "metadata": {
        "id": "9QUt_8v8wpZZ"
      },
      "source": [
        "Traduire cette définition en termes récursifs traduisibles directement en python"
      ]
    },
    {
      "cell_type": "markdown",
      "metadata": {
        "id": "JZ9x0a4EwjSc"
      },
      "source": [
        "$$fibo(n) = \\left\\lbrace \\matrix{\n",
        "     ... & \\textrm{si } ... \n",
        "     \\\\ ... & \\textrm{si } ... \n",
        "     \\\\ ... & \\textrm{si } ... \n",
        "     } \\right. $$"
      ]
    },
    {
      "cell_type": "markdown",
      "metadata": {
        "id": "GQ7BDM_9zbZQ"
      },
      "source": [
        "Calculer \"à la main\" fibo(5)... "
      ]
    },
    {
      "cell_type": "markdown",
      "metadata": {
        "id": "lFOxw9bKw7Qd"
      },
      "source": [
        "Compléter la définition en python :"
      ]
    },
    {
      "cell_type": "code",
      "metadata": {
        "id": "IeBu2SFQw11A"
      },
      "source": [
        "def fibo(n):\n",
        "    ..."
      ],
      "execution_count": null,
      "outputs": []
    },
    {
      "cell_type": "markdown",
      "metadata": {
        "id": "2fIHjKP7APSn"
      },
      "source": [
        "### 2.3. Récurrence mutuelle"
      ]
    },
    {
      "cell_type": "markdown",
      "metadata": {
        "id": "AnqHzwoMAToj"
      },
      "source": [
        "Il peut arriver que deux suites soient définies par récurrence mutuelle. La traduction en python ne pose pas de problème, mais complexifie l'arbre d'appels.\n",
        "\n",
        "Exemple : "
      ]
    },
    {
      "cell_type": "markdown",
      "metadata": {
        "id": "XMeGzy_2Apln"
      },
      "source": [
        "Soit $(a_n)$ et $(b_n)$ les suites définies pour tout entier naturel $n$ par : \n",
        "\n",
        "$$ a_n =  \\left\\lbrace \\matrix{\n",
        "     1&\\textrm{si } n=0 \n",
        "     \\\\ 2 a_{n-1} + 3 b_{n-1}& \\textrm{si } n>0 \n",
        "     } \\right. $$\n",
        "\n",
        "$$ b_n =  \\left\\lbrace \\matrix{\n",
        "     2 &\\textrm{si } n=0 \n",
        "     \\\\  a_{n-1} - b_{n-1}& \\textrm{si } n>0 \n",
        "     } \\right. $$"
      ]
    },
    {
      "cell_type": "markdown",
      "metadata": {
        "id": "XAb5OLkDCSkV"
      },
      "source": [
        "Calculer \"à la main\" b(2)\n",
        "\n",
        "... "
      ]
    },
    {
      "cell_type": "markdown",
      "metadata": {
        "id": "MqGL-AAHCe0c"
      },
      "source": [
        "Compléter le code python :"
      ]
    },
    {
      "cell_type": "code",
      "metadata": {
        "id": "lYi1pbUABi4b"
      },
      "source": [
        "def a(n):\n",
        "    if n==0:\n",
        "        return 1\n",
        "    return # compléter cette ligne\n",
        "\n",
        "\n",
        "def b(n):\n",
        "    if n==0:\n",
        "        return 2\n",
        "    return # compléter cette ligne"
      ],
      "execution_count": null,
      "outputs": []
    },
    {
      "cell_type": "markdown",
      "metadata": {
        "id": "H6_nZL8z0XuW"
      },
      "source": [
        "### 2.4 Fonction puissance, suivant la parité de l'exposant"
      ]
    },
    {
      "cell_type": "markdown",
      "metadata": {
        "id": "x2D6QC2A0ppw"
      },
      "source": [
        "Pour optimiser la calcul de $x^n$ on va chercher à effectuer le moins de multiplications possibles.\n",
        "\n",
        "Justifier qu'on peut calculer $x^8$ avec seulement trois multiplications.\n",
        "\n",
        "... "
      ]
    },
    {
      "cell_type": "markdown",
      "metadata": {
        "id": "xd3Yjfkp1qqA"
      },
      "source": [
        "**Propriété**\n",
        "\n",
        "Si $n = 2 p$ alors $x^n = (x^p)^2$\n",
        "\n",
        "Si $n = 2 p + 1$  alors  $x^n = (x^p)^2 \\times x $\n",
        "\n",
        "Ceci permet d'écrire une définition avec 2 cas de base et 2 cas récursifs :"
      ]
    },
    {
      "cell_type": "markdown",
      "metadata": {
        "id": "xx8yy7CN-KGg"
      },
      "source": [
        "$$puiss(x, n) = \\left\\lbrace \\matrix{\n",
        "     1 & \\textrm{si } n=0 \n",
        "     \\\\ x & \\textrm{si } n=1 \n",
        "     \\\\ carre(puiss(x, n/2)) & \\textrm{si $n$ est pair, } n>1  \n",
        "     \\\\ x \\times carre(puiss(x, (n-1)/2)) & \\textrm{si $n$ est impair, } n>1  \n",
        "     } \\right. $$"
      ]
    },
    {
      "cell_type": "markdown",
      "metadata": {
        "id": "TM-ldbbA_CX9"
      },
      "source": [
        "Compléter la définition en python :"
      ]
    },
    {
      "cell_type": "code",
      "metadata": {
        "id": "MogR7k80_FND"
      },
      "source": [
        "def puiss(x,n):\n",
        "    if n==0 :\n",
        "        return 1\n",
        "    if n==1 :\n",
        "        return x\n",
        "    r = puiss(x, n//2)\n",
        "    if n%2==0: \n",
        "        return # compléter cette ligne\n",
        "    else :\n",
        "        return # compléter cette ligne "
      ],
      "execution_count": null,
      "outputs": []
    },
    {
      "cell_type": "markdown",
      "metadata": {
        "id": "6zLT0AFfC0ee"
      },
      "source": [
        "### 2.5 Récurrence sur d'autres structures\n",
        "\n",
        "Dans ce chapitre, on se limite aux fonctions récursives définies sur les **nombres entiers**. \n",
        "\n",
        "Dans la suite du cours, on verra des exemples de fonctions récursives définies sur des structures récursives, comme les listes (puis les piles, les files, les arbres...).\n",
        "\n",
        "Un exemple classique consistera à trier une liste avec un algorithme récursif. "
      ]
    },
    {
      "cell_type": "markdown",
      "metadata": {
        "id": "3U-Yge_bEOW0"
      },
      "source": [
        "## 3. Programmation récursive"
      ]
    },
    {
      "cell_type": "markdown",
      "metadata": {
        "id": "x_3PRWdJEbTd"
      },
      "source": [
        "Une fois écrite mathématiquement, une définition récursive se programme très simplement. \n",
        "* veiller à bien définir le(s) cas de base\n",
        "* veiller à la cohérence des appels récursifs\n",
        "\n",
        "Deux points d'attention sont cependant importants."
      ]
    },
    {
      "cell_type": "markdown",
      "metadata": {
        "id": "O2DAeuUkEv-K"
      },
      "source": [
        "### 3.1. Types de données python <> domaine mathématique"
      ]
    },
    {
      "cell_type": "markdown",
      "metadata": {
        "id": "oqaDNI5XE_Yu"
      },
      "source": [
        "On reprend l'exemple d'introduction :\n",
        "\n",
        "    def somme(n) : \n",
        "        if n == 0 :\n",
        "            return 0\n",
        "        # else\n",
        "        return n + somme(n-1)\n",
        "    \n",
        "\n",
        "que penser de l'appel : ` somme(-1)` ? "
      ]
    },
    {
      "cell_type": "markdown",
      "metadata": {
        "id": "Gzs-C-PkFf9u"
      },
      "source": [
        "... "
      ]
    },
    {
      "cell_type": "markdown",
      "metadata": {
        "id": "5DwlBWVGFpj5"
      },
      "source": [
        "Pour faire coïncider le domaine mathématique (entiers naturels) et les valeurs des paramètres passés à la fonction en python, on peut utiliser une **assertion**"
      ]
    },
    {
      "cell_type": "code",
      "metadata": {
        "id": "w_8FdDdNF4K6"
      },
      "source": [
        "def somme(n) : \n",
        "    assert n >=0 , \"n doit être un entier naturel\"\n",
        "    if n == 0 :\n",
        "        return 0\n",
        "    # else\n",
        "    return n + somme(n-1)"
      ],
      "execution_count": null,
      "outputs": []
    },
    {
      "cell_type": "markdown",
      "metadata": {
        "id": "OCzP8IsGHWkQ"
      },
      "source": [
        "Combien de fois faut-il tester la correction du paramètre ? \n",
        "\n",
        "- il suffit de tester la  une seule fois !\n",
        "\n",
        "Or, notre assertion est testée à chaque appel récursif ! Peut-on faire mieux ?\n",
        "\n",
        "- la réponse est oui, à condition d'utiliser une fonction auxiliaire."
      ]
    },
    {
      "cell_type": "code",
      "metadata": {
        "id": "X6cXSFJ7H5fW"
      },
      "source": [
        "def _somme(n):\n",
        "    if n == 0 :\n",
        "        return 0\n",
        "    # else\n",
        "    return n + _somme(n-1)\n",
        "\n",
        "def somme(n) : \n",
        "    assert n >=0 , \"n doit être un entier naturel\"\n",
        "    return _somme(n)"
      ],
      "execution_count": null,
      "outputs": []
    },
    {
      "cell_type": "markdown",
      "metadata": {
        "id": "M6Hg-c4AI9Ab"
      },
      "source": [
        "### 3.2. Question d'efficacité et RecursionError"
      ]
    },
    {
      "cell_type": "markdown",
      "metadata": {
        "id": "KFN4_TEJJOGB"
      },
      "source": [
        "Reprenons l'exemple du calcul de $x^n$.\n",
        "\n",
        "Nous disposons de deux fonctions : `puissance`  et `puiss`\n",
        "\n"
      ]
    },
    {
      "cell_type": "code",
      "metadata": {
        "id": "GaS3DjRwJgrB"
      },
      "source": [
        "def puissance(x,n):\n",
        "    if n==0 :\n",
        "        return 1\n",
        "    if n==1 :\n",
        "        return x\n",
        "    return x * puissance(x,n-1)\n",
        " \n",
        "def puiss(x,n):\n",
        "    if n==0 :\n",
        "        return 1\n",
        "    if n==1 :\n",
        "        return x\n",
        "    r = puiss(x, n//2)\n",
        "    if n%2==0: \n",
        "        return r*r\n",
        "    else :\n",
        "        return x*r*r "
      ],
      "execution_count": null,
      "outputs": []
    },
    {
      "cell_type": "markdown",
      "metadata": {
        "id": "AoDCKDWFKRIi"
      },
      "source": [
        "Comparer les exécutions des cellules suivantes, puis expliquer les différences"
      ]
    },
    {
      "cell_type": "code",
      "metadata": {
        "id": "OwKTXH6xJy4-"
      },
      "source": [
        "puissance(2,100)"
      ],
      "execution_count": null,
      "outputs": []
    },
    {
      "cell_type": "code",
      "metadata": {
        "id": "M4cueYqPJ3jK"
      },
      "source": [
        "puissance(2,1000)"
      ],
      "execution_count": null,
      "outputs": []
    },
    {
      "cell_type": "code",
      "metadata": {
        "id": "FgGtk7B7J_Mr"
      },
      "source": [
        "puiss(2,100)"
      ],
      "execution_count": null,
      "outputs": []
    },
    {
      "cell_type": "code",
      "metadata": {
        "id": "aKM7-GStKCwO"
      },
      "source": [
        "puiss(2,1000)"
      ],
      "execution_count": null,
      "outputs": []
    },
    {
      "cell_type": "markdown",
      "metadata": {
        "id": "GhPLnKJLKYBq"
      },
      "source": [
        "... "
      ]
    },
    {
      "cell_type": "markdown",
      "metadata": {
        "id": "FVKdgXcSKinO"
      },
      "source": [
        "### RecursionError"
      ]
    },
    {
      "cell_type": "markdown",
      "metadata": {
        "id": "92PRgG61k9ON"
      },
      "source": [
        "#### Python limite la taille de la **pile d'appels récursifs**.\n",
        "\n",
        "Lors de l'exécution d'un programme en python, la mémoire de la machine sert à stocker à la fois le programme et les données manipulées par le programme. On distingue quatre segments :\n",
        " - segment de **code** : pour le programme qui est exécuté\n",
        " - segment de **données** : pour les données statiques, c'est à dires les données dont l'adresse mémoire et la valeur sont connues lors de l'*initialisation* du programme. La taille de ces données statiques ne peut pas être modifiée pendant l'exécution du programme\n",
        " - le segment du **tas** et le segment de la **pile** contiennent les données allouées dynamiquement, pendant l'exécution du programme. \n",
        "   - la *pile* est utilisée pour les appels de fonctions : en effet, à la fin d'un appel de fonction, les données utilisées peuvent souvent être libérées de la mémoire, lorsque la fonction retourne un résultat. Ainsi, les variables *locales* à la fonction sont stockées dans la pile pendant l'exécution de la fonction, et sont libérées après. \n",
        "   Pythontutor donne une idée des données stockées dans le pile d'appel lorsqu'on exécute une fonction récursive. => [exemple](http://www.pythontutor.com/visualize.html#code=def%20somme%28n%29%20%3A%20%0A%20%20%20%20if%20n%20%3D%3D%200%20%3A%0A%20%20%20%20%20%20%20%20return%200%0A%20%20%20%20%23%20else%0A%20%20%20%20return%20n%20%2B%20somme%28n-1%29%0A%0Aprint%20%28somme%284%29%29&cumulative=false&curInstr=22&heapPrimitives=nevernest&mode=display&origin=opt-frontend.js&py=3&rawInputLstJSON=%5B%5D&textReferences=false)\n",
        "   - le *tas* contient toutes les autres données allouées dynamiquement : par exemple les listes, dont la taille peut être modifiée pendant l'exécution du programme. "
      ]
    },
    {
      "cell_type": "markdown",
      "metadata": {
        "id": "sq3jg4VRoXYM"
      },
      "source": [
        "#### Pour connaître et modifier la taille de la pile d'appels récursifs\n",
        "\n",
        "[sys.getrecursionlimit()](https://docs.python.org/fr/3/library/sys.html#sys.getrecursionlimit)\n",
        "\n",
        "[sys.setrecursionlimit(limit)](https://docs.python.org/fr/3/library/sys.html#sys.setrecursionlimit)"
      ]
    },
    {
      "cell_type": "code",
      "metadata": {
        "id": "Ne4-Lsj6o4m1"
      },
      "source": [
        "import sys\n",
        "print(sys.getrecursionlimit()  )"
      ],
      "execution_count": null,
      "outputs": []
    },
    {
      "cell_type": "code",
      "metadata": {
        "id": "qNxx0rAlpCGd"
      },
      "source": [
        "sys.setrecursionlimit(2000)"
      ],
      "execution_count": null,
      "outputs": []
    },
    {
      "cell_type": "code",
      "metadata": {
        "id": "0_JJ3dAXpJi4"
      },
      "source": [
        "puissance(2, 1000)"
      ],
      "execution_count": null,
      "outputs": []
    },
    {
      "cell_type": "markdown",
      "metadata": {
        "id": "p4LzJZQMp6HH"
      },
      "source": [
        "* avantage de recursionlimit : \n",
        "  - évite les \"boucles infinies\" en cas d'erreur dans l'écriture d'une fonction récursive\n",
        "* inconvénient :\n",
        "  - renvoie une erreur dans certains cas **bien écrits** mais qui nécessitent un *grand nombre* d'appels récursifs. \n",
        "\n",
        "\n",
        "En python, c'est au programmeur de prévoir éventuellement d'augmenter la valeur recursionlimit, en fonction de ses besoins. \n",
        "\n",
        "D'autres langages (par exemple Caml) sont conçus principalement pour la récursivité (et la programmation fonctionnelle, dans le cas de Caml). La philosophie de python n'est pas de favoriser la récursivité..."
      ]
    },
    {
      "cell_type": "markdown",
      "metadata": {
        "id": "YhA3Wok8tKiO"
      },
      "source": [
        "# Conclusion\n",
        "\n",
        "Une **définition récursive** comporte toujours au moins un **cas de base**, et au moins un **appel récursif** à l'objet qui est en train d'être défini.\n",
        "Une telle définition est parfois plus simple, parfois plus efficace, mais pas toujours !\n",
        "\n",
        "La **traduction en python** d'une définition mathématique récursive est très **simple**, mais il faut veiller à :\n",
        "- la différence entre **type de données** en python et **domaine** d'une fonction mathématique => instruction `assert`\n",
        "- la **limite** des appels récursifs en python et la gestion de la mémoire (pile d'appels)"
      ]
    }
  ]
}