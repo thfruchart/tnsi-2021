{
  "nbformat": 4,
  "nbformat_minor": 0,
  "metadata": {
    "colab": {
      "name": "01exercices_recursion.ipynb",
      "provenance": [],
      "collapsed_sections": [],
      "include_colab_link": true
    },
    "kernelspec": {
      "name": "python3",
      "display_name": "Python 3"
    }
  },
  "cells": [
    {
      "cell_type": "markdown",
      "metadata": {
        "id": "view-in-github",
        "colab_type": "text"
      },
      "source": [
        "<a href=\"https://colab.research.google.com/github/thfruchart/tnsi/blob/main/01/exercices_recursion.ipynb\" target=\"_parent\"><img src=\"https://colab.research.google.com/assets/colab-badge.svg\" alt=\"Open In Colab\"/></a>"
      ]
    },
    {
      "cell_type": "markdown",
      "metadata": {
        "id": "Pd0P8hKRwpv8"
      },
      "source": [
        "**Exercice 1**\n",
        "\n",
        "L'image d'un entier naturel $n$ par la fonction **factorielle** se note $n!$ et est défini par : \n",
        "$0!=1$ et $n! = 1 \\times 2 \\times \\cdots \\times n$ lorsque  $n>0$.\n",
        "\n",
        "1. Donner une écriture récursive de cette définition\n",
        "\n",
        "2. Donner le code d'une fonction python `fact(n)` qui implémente cette définition"
      ]
    },
    {
      "cell_type": "code",
      "metadata": {
        "id": "4HXu5alLwJRR"
      },
      "source": [
        ""
      ],
      "execution_count": null,
      "outputs": []
    },
    {
      "cell_type": "markdown",
      "metadata": {
        "id": "s3RHaAq_5xEM"
      },
      "source": [
        "**Exercice 2**\n",
        "\n",
        "Soit $a$ et $b$ deux nombre réels, et $(u_n)$ la suite définie par : \n",
        "$ u_n =  \\left\\lbrace \\matrix{      a &\\textrm{si $n$=0 }     \\\\ b &\\textrm{si $n$=1 }      \\\\ u_{n-1} +2  u_{n-2} & \\textrm{si $n \\geq 2$ }      } \\right.  $\n",
        "\n",
        "Compléter la définition de la fonction récursive `u(n,a,b)` en python :"
      ]
    },
    {
      "cell_type": "code",
      "metadata": {
        "id": "2jfAJ4gx7EcM"
      },
      "source": [
        "def u(n, a, b):\n"
      ],
      "execution_count": null,
      "outputs": []
    },
    {
      "cell_type": "markdown",
      "metadata": {
        "id": "fQK9MS84wsuA"
      },
      "source": [
        "**Exercice 3** : suite de Syracuse\n",
        "\n",
        "Soit $(u_n)$ la suite d'entiers définie par :\n",
        "-  $u_0 = A$ :   un entier quelconque supérieur à 1,  \n",
        "- et pour tout entier naturel $n$ :  $u_{n+1} = \\left\\lbrace \\matrix{ u_n/2 & \\textrm{si $u_n$ est pair }  \\\\3 \\times u_n + 1 & \\textrm{sinon } } \\right. $\n",
        "\n",
        "1. Calculer \"à la main\" les premiers termes de la suite, jusqu'à $u_5$ dans les cas suivants : \n",
        "  - $A= 1$\n",
        "  - $A = 10$\n",
        "\n",
        "2. Compléter le code suivant qui définit la fonction récursive `syracuse` dans le cas où A=100. "
      ]
    },
    {
      "cell_type": "code",
      "metadata": {
        "id": "ePm9VSSK1SAO"
      },
      "source": [
        "a = 100\n",
        "\n",
        "def syracuse(n):\n",
        "    if n==0:\n",
        "        return a\n",
        "    else : \n",
        "        # compléter le code ici\n",
        "\n"
      ],
      "execution_count": null,
      "outputs": []
    },
    {
      "cell_type": "markdown",
      "metadata": {
        "id": "CoayAy-93vic"
      },
      "source": [
        "3.\n",
        " Compéter le code de la fonction récursive `explore(a)` qui affiche **tous les termes** de la suite de syracuse $u_n$  de terme initial $u_0 = a$, jusqu'au premier terme (inférieur ou) égal à 1. "
      ]
    },
    {
      "cell_type": "code",
      "metadata": {
        "id": "w17YJe5C4P7R"
      },
      "source": [
        "def explore(a):\n",
        "    print(a)\n",
        "    if a>1:\n",
        "        # compléter le code ici\n"
      ],
      "execution_count": null,
      "outputs": []
    },
    {
      "cell_type": "markdown",
      "metadata": {
        "id": "HWclomk87v1_"
      },
      "source": [
        "**Exercice 4**\n",
        "\n",
        "Ecrire une fonction récursive `entiers_entre(a,b)` qui affiche tous les entiers compris entre a et b inclus, dans le cas où $a \\leq b$. "
      ]
    },
    {
      "cell_type": "markdown",
      "metadata": {
        "id": "-Fy1JDu38Ook"
      },
      "source": [
        "**Exercice 5**\n",
        "\n",
        "Ecrire une fonction récursive `nombre_de_chiffres(n)` dont le paramètre $n$ est un entier naturel, et qui retourne le nombre de chiffres de l'écriture en base 10 de n. \n",
        "\n",
        "Par exemple, `nombre_de_chiffres(2021)` doit retourner 4."
      ]
    },
    {
      "cell_type": "markdown",
      "metadata": {
        "id": "bCi0VlJ78kk2"
      },
      "source": [
        "**Exercice 6**\n",
        "\n",
        "Ecrire une fonction récursive `nombre_de_bits_a_1(n)` dont le paramètre $n$ est un entier naturel, et qui retourne le nombre de bits égaux à 1 dans l'écriture en base 2 de n.\n",
        "\n",
        "Par exemple :  \n",
        "* `nombre_de_bits_a_1(15)` doit retourner 4 puisque $(15)_10 = (1111)_2$\n",
        "* `nombre_de_bits_a_1(17)` doit retourner 2 puisque $(17)_10 = (10001)_2$"
      ]
    },
    {
      "cell_type": "markdown",
      "metadata": {
        "id": "8wI7fUUL9jN3"
      },
      "source": [
        "**Exercice 7**\n",
        "\n",
        "Ecrire une fonction récursive `appartient(v,t,i)` dont les paramètres sont : \n",
        "* une valeur `v`\n",
        "* un tableau `t` (de type list)\n",
        "* un indice `i` (de type int)\n",
        "\n",
        "On suppose que $0 \\leq i \\leq$ `len(t)`\n",
        "\n",
        "Cette fonction doit retourner `True` si la valeur `v` figure dans le tableau `t` à un indice compris entre `i` inclus et `len(t)` exclu. \n",
        "\n",
        "La fonction retourne `False` sinon. "
      ]
    },
    {
      "cell_type": "markdown",
      "metadata": {
        "id": "iQv7LZiO-tMT"
      },
      "source": [
        "**Exercice 8**\n",
        "\n",
        "Les tours de Hanoï sont un casse-tête célèbre. Le jeu comporte trois tiges, et plusieurs disques de diamètres différents. Initialement, tous les disques sont empilés sur la tige n°1, par ordre décroissant (le plus petit disque en haut, le plus grand disque en bas). \n",
        "\n",
        "Le but du jeu est de déplacer toute la pile de disques vers la tige n°3 en respectant les règles suivantes : \n",
        "- on ne peut déplacer qu'un seul disque à la fois\n",
        "- un disque plus grand ne peut jamais être posé sur un disque plus petit. \n",
        "\n",
        "1. Ecrire une fonction récursive `deplace(k,depart,arrivee,interm)` qui affiche la liste des déplacements élémentaires permettant de faire passer `k` disques de la tige n° `depart` vers la tige n° `arrivee`, la troisième tige ayant le n° `interm`. \n",
        "\n",
        "2. En déduire une fonction `hanoi(n)` qui affiche la solution du problème des tours de hanoi à `n` disques. \n",
        "\n",
        "Par exemple, `hanoi(3)` devra afficher :\n",
        "```\n",
        "1  =>  3\n",
        "1  =>  2\n",
        "3  =>  2\n",
        "1  =>  3\n",
        "2  =>  1\n",
        "2  =>  3\n",
        "1  =>  3\n",
        "```\n",
        "\n"
      ]
    },
    {
      "cell_type": "markdown",
      "metadata": {
        "id": "yt6XGB-RDGnp"
      },
      "source": [
        "**Exercice 9**\n",
        "\n",
        "1. Ecrire une fonction recursive `nombre_mouvements_hanoi(n)` qui calcule le nombre de déplacements élémentaires effectués pour résoudre le problème des tours de Hanoï (exercice précédent).\n",
        "\n",
        "2. Proposer une conjecture, exprimant  `nombre_mouvements_hanoi(n)` en fonction de `n`. \n",
        "\n",
        "3. *Facultatif : démontrer cette conjecture, grâce à un raisonnement par récurrence.*\n"
      ]
    }
  ]
}