{
  "nbformat": 4,
  "nbformat_minor": 0,
  "metadata": {
    "colab": {
      "name": "01-RECURSIVITE-TRAVAIL_PERSO.ipynb",
      "provenance": [],
      "collapsed_sections": [],
      "authorship_tag": "ABX9TyNMd6cgLMLhC4ZBiuTnnsaX",
      "include_colab_link": true
    },
    "kernelspec": {
      "name": "python3",
      "display_name": "Python 3"
    }
  },
  "cells": [
    {
      "cell_type": "markdown",
      "metadata": {
        "id": "view-in-github",
        "colab_type": "text"
      },
      "source": [
        "<a href=\"https://colab.research.google.com/github/thfruchart/tnsi/blob/main/01/RECURSIVITE_TRAVAIL_PERSO.ipynb\" target=\"_parent\"><img src=\"https://colab.research.google.com/assets/colab-badge.svg\" alt=\"Open In Colab\"/></a>"
      ]
    },
    {
      "cell_type": "markdown",
      "metadata": {
        "id": "YR0bvGqqcsvH"
      },
      "source": [
        "## Calcul \"à la main\""
      ]
    },
    {
      "cell_type": "markdown",
      "metadata": {
        "id": "e0uvnKUNc1s7"
      },
      "source": [
        "On donne le code qui définit deux fonctions récursives :  \n",
        "`compteur1`  et `compteur2`"
      ]
    },
    {
      "cell_type": "code",
      "metadata": {
        "id": "IQ2YD582ce9Q"
      },
      "source": [
        "def compteur1(n):\n",
        "    if n>=0:\n",
        "        print(n)\n",
        "        compteur1(n-1)"
      ],
      "execution_count": null,
      "outputs": []
    },
    {
      "cell_type": "code",
      "metadata": {
        "id": "-JpkJ06hdJtE"
      },
      "source": [
        "def compteur2(n):\n",
        "    if n>=0:\n",
        "        compteur2(n-1)\n",
        "        print(n)"
      ],
      "execution_count": null,
      "outputs": []
    },
    {
      "cell_type": "markdown",
      "metadata": {
        "id": "mBhYA8bHdO17"
      },
      "source": [
        "# AUTO-TEST\n",
        "1. Déterminer \"à la main\" que sera l'affichage obtenu par chacune des commandes : \n",
        "- `compteur1(4)`\n",
        "- `compteur2(4)`\n",
        "- `compteur1('4')`\n",
        "2. Vérifier en exécutant les cellules ci-dessous"
      ]
    },
    {
      "cell_type": "code",
      "metadata": {
        "id": "tRGJtHhBjQis"
      },
      "source": [
        "compteur1(4)"
      ],
      "execution_count": null,
      "outputs": []
    },
    {
      "cell_type": "code",
      "metadata": {
        "id": "1-D3Y6RJjbQT"
      },
      "source": [
        "compteur2(4)"
      ],
      "execution_count": null,
      "outputs": []
    },
    {
      "cell_type": "code",
      "metadata": {
        "id": "zU5fvrslkXqt"
      },
      "source": [
        "compteur1('4')"
      ],
      "execution_count": null,
      "outputs": []
    }
  ]
}