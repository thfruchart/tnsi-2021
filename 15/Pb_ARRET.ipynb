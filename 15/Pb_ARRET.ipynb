{
  "nbformat": 4,
  "nbformat_minor": 0,
  "metadata": {
    "colab": {
      "name": "Chap15_Pb_ARRET.ipynb",
      "provenance": [],
      "collapsed_sections": [],
      "authorship_tag": "ABX9TyOKB1dMOoRiU/LsVkcHnb0Y",
      "include_colab_link": true
    },
    "kernelspec": {
      "name": "python3",
      "display_name": "Python 3"
    }
  },
  "cells": [
    {
      "cell_type": "markdown",
      "metadata": {
        "id": "view-in-github",
        "colab_type": "text"
      },
      "source": [
        "<a href=\"https://colab.research.google.com/github/thfruchart/tnsi/blob/main/15/Pb_ARRET.ipynb\" target=\"_parent\"><img src=\"https://colab.research.google.com/assets/colab-badge.svg\" alt=\"Open In Colab\"/></a>"
      ]
    },
    {
      "cell_type": "markdown",
      "metadata": {
        "id": "AM0yGHUZgzT8"
      },
      "source": [
        "# Le problème de l'arrêt"
      ]
    },
    {
      "cell_type": "markdown",
      "metadata": {
        "id": "OZvovDqhg1_Q"
      },
      "source": [
        "Un programme peut toujours être écrit sous forme d'une **fonction**, qui prend un paramètre (éventuellement un tuple si on a besoin de plusieurs paramètres!).\n",
        "\n",
        "Supposons qu'il existe un programme permettant de **tester si l'exécution d'un programme s'arrête ou non**. \n",
        "\n",
        "En python, cela reviendrait à définir une fonction **`arret(f,x)`** ayant la spécification suivante :"
      ]
    },
    {
      "cell_type": "code",
      "metadata": {
        "id": "ITQadrq6gyjp"
      },
      "source": [
        "def arret(f,x):\n",
        "    '''renvoie True si l'exécution de f(x) s'arrête\n",
        "    renvoie False sinon'''\n"
      ],
      "execution_count": null,
      "outputs": []
    },
    {
      "cell_type": "markdown",
      "metadata": {
        "id": "N36c6jevhXT1"
      },
      "source": [
        "Est-il possible d'implémenter une telle fonction ?\n",
        "\n",
        "Si c'était possible, on pourrait alors programmer une autre fonction `fou(f)` qui fait appel à la fonction  `boucle_infinie()`"
      ]
    },
    {
      "cell_type": "code",
      "metadata": {
        "id": "D4tRYuVjhfqG"
      },
      "source": [
        "def boucle_infinie():\n",
        "    x = 1\n",
        "    while x == 1:\n",
        "        x = 1\n",
        "\n",
        "\n",
        "def fou(f):\n",
        "    if arret(f,f):\n",
        "        boucle_infinie()\n",
        "    else : \n",
        "        print(\"Le programme est terminé\")"
      ],
      "execution_count": null,
      "outputs": []
    },
    {
      "cell_type": "markdown",
      "metadata": {
        "id": "jIbR-rD0hv9K"
      },
      "source": [
        "Question : \n",
        "\n",
        "si on exécute `fou(fou)`, est-ce que l'exécution termine ? \n",
        "\n",
        "* si `fou(fou)` termine, alors \n",
        "  * `arret(fou,fou)` renvoie `True`, donc :\n",
        "  * dans le code de fou, la condition `arret(f,f)` est évaluée à `True`, donc :\n",
        "  * la commande `boucle_infinie()` est exécutée, donc :\n",
        "  * `fou(fou)` ne termine jamais\n",
        "  * impossible !\n",
        "\n",
        "MAIS\n",
        "\n",
        "\n",
        "* si `fou(fou)` ne termine pas, alors \n",
        "  * `arret(fou,fou)` renvoie `False`,\n",
        "  * dans le code de fou, la condition `arret(f,f)` est évaluée à `False`, \n",
        "  * la commande `print(\"Le programme est terminé\")` est exécutée,\n",
        "  * `fou(fou)` termine \n",
        "  * impossible aussi!"
      ]
    },
    {
      "cell_type": "markdown",
      "metadata": {
        "id": "lkO7t6UMiyyY"
      },
      "source": [
        "La seule conclusion logique est que la fonction `fou` ne peut pas être programmée!\n",
        "\n",
        "Or on l'a programmée... mais en supposant qu'il existait une fonction `arret`.\n",
        "\n",
        "La conclusion est donc que cette fonction `arret` ne peut pas être implémentée !"
      ]
    }
  ]
}