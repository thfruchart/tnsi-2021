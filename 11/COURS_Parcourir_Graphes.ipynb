{
  "nbformat": 4,
  "nbformat_minor": 0,
  "metadata": {
    "colab": {
      "name": "Chap11_COURS_Parcourir_Graphes.ipynb",
      "provenance": [],
      "collapsed_sections": [
        "rcBYIgldvOUp"
      ],
      "authorship_tag": "ABX9TyNaq5ctQcXbrACl/rm3CMXx",
      "include_colab_link": true
    },
    "kernelspec": {
      "name": "python3",
      "display_name": "Python 3"
    }
  },
  "cells": [
    {
      "cell_type": "markdown",
      "metadata": {
        "id": "view-in-github",
        "colab_type": "text"
      },
      "source": [
        "<a href=\"https://colab.research.google.com/github/thfruchart/tnsi/blob/main/11/COURS_Parcourir_Graphes.ipynb\" target=\"_parent\"><img src=\"https://colab.research.google.com/assets/colab-badge.svg\" alt=\"Open In Colab\"/></a>"
      ]
    },
    {
      "cell_type": "markdown",
      "metadata": {
        "id": "DxGuLl4AsHbB"
      },
      "source": [
        "# Problèmes posés"
      ]
    },
    {
      "cell_type": "markdown",
      "metadata": {
        "id": "RD2pGa2_sKtw"
      },
      "source": [
        "Dans un graphe, certaines questions simples doivent pouvoir être traitées (et programmées!)\n",
        "* existe-t-il un chemin entre un sommet A et un sommet B ?\n",
        "* quels sont les sommets accessibles depuis le  sommet  A ?\n",
        "* quelle est la distance entre deux sommets?\n",
        "*  existe-t-il un cycle partant de A, et revenant vers A? \n",
        "* etc..."
      ]
    },
    {
      "cell_type": "markdown",
      "metadata": {
        "id": "N0-1aGmfsxWy"
      },
      "source": [
        "### Existe-t-il un chemin entre A et B ?"
      ]
    },
    {
      "cell_type": "markdown",
      "metadata": {
        "id": "HhUkflqys0Sp"
      },
      "source": [
        "Si la réponse est : OUI\n",
        "* il suffit construire un chemin dans le graphe allant de A à B\n",
        "\n",
        "Si la réponse est : NON\n",
        "*  on doit pouvoir s'assurer qu'aucun chemin partant de A n'arrive jusqu'à B... pour cela il faudrait pouvoir essayer tous les chemins possibles!\n",
        "\n",
        "On va donc d'abord chercher comment **parcourir un graphe** à partir d'un sommet. "
      ]
    },
    {
      "cell_type": "markdown",
      "metadata": {
        "id": "wnc4qJUztQf4"
      },
      "source": [
        "# Parcours en largeur d'abord"
      ]
    },
    {
      "cell_type": "markdown",
      "metadata": {
        "id": "GJL76fx1uA-g"
      },
      "source": [
        "#### Graphe exemple\n",
        "\n",
        "![image.png](data:image/png;base64,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)"
      ]
    },
    {
      "cell_type": "markdown",
      "metadata": {
        "id": "F_4w6ZfwuJBo"
      },
      "source": [
        "Le principe du parcours en largeur d'abord est de selectionner \n",
        "* un sommet de départ\n",
        "* ensuite : les voisins du sommet de départ\n",
        "* puis : les voisins de ces voisins\n",
        "* etc... en évitant de \"revenir en arrière\"\n",
        "\n",
        "#### Exemple\n",
        "en partant du sommet A dans le graphe exemple, un parcours en largeur pourra être:\n",
        "\n",
        "\n",
        "```\n",
        "# distance 0 depuis A\n",
        "A  \n",
        "# distance 1 depuis A\n",
        "B  F\n",
        "# distance 2 depuis A\n",
        "C  D  G  H \n",
        "# distance 3 depuis A\n",
        "E  I\n",
        "```\n",
        "\n",
        "Remarque : l'ordre est arbitraire entre les sommets situés à la même distance de A !\n"
      ]
    },
    {
      "cell_type": "markdown",
      "metadata": {
        "id": "rcBYIgldvOUp"
      },
      "source": [
        "#### Graphe Exemple en Python"
      ]
    },
    {
      "cell_type": "code",
      "metadata": {
        "id": "us35iJ21r8Am"
      },
      "source": [
        "class Graphe:\n",
        "    ''' graphe représenté par un dictionnaire d'adjacence'''\n",
        "    def __init__(self):\n",
        "        self.dico = {}\n",
        "    \n",
        "    def ajouter_sommet(self,s):\n",
        "        if s not in self.dico:\n",
        "            self.dico[s] = []\n",
        "    \n",
        "    def ajouter_arc(self,s1,s2):\n",
        "        self.ajouter_sommet(s1)\n",
        "        self.ajouter_sommet(s2)\n",
        "        self.dico[s1].append(s2)\n",
        "    \n",
        "    def ajouter_arete(self,s1,s2):\n",
        "        self.ajouter_sommet(s1)\n",
        "        self.ajouter_sommet(s2)\n",
        "        self.dico[s1].append(s2)\n",
        "        self.dico[s2].append(s1)\n",
        "    \n",
        "    def arc(self,s1,s2):\n",
        "        return s2 in self.dico[s1]\n",
        "    \n",
        "    def sommets(self):\n",
        "        return list(self.dico)\n",
        "\n",
        "    def voisins(self,s):\n",
        "        return self.dico[s]\n",
        "    \n",
        "graphex = Graphe()\n",
        "graphex.ajouter_arete('A','B')\n",
        "graphex.ajouter_arete('A','F')\n",
        "graphex.ajouter_arete('B','C')\n",
        "graphex.ajouter_arete('B','D')\n",
        "graphex.ajouter_arete('B','G')\n",
        "graphex.ajouter_arete('F','G')\n",
        "graphex.ajouter_arete('F','H')\n",
        "graphex.ajouter_arete('C','E')\n",
        "graphex.ajouter_arete('E','I')\n",
        "graphex.ajouter_arete('D','I')\n",
        "graphex.ajouter_arete('G','I')\n",
        "graphex.ajouter_arete('H','I')\n",
        "\n"
      ],
      "execution_count": null,
      "outputs": []
    },
    {
      "cell_type": "markdown",
      "metadata": {
        "id": "-aOu5Bt21eEJ"
      },
      "source": [
        "#### 1) Parcours en largeur (avec deux listes)"
      ]
    },
    {
      "cell_type": "code",
      "metadata": {
        "colab": {
          "base_uri": "https://localhost:8080/"
        },
        "id": "e0xGf9UfwVHh",
        "outputId": "df9f4664-15fc-44ba-d90f-89c267217a03"
      },
      "source": [
        "def parcours_largeur(g,depart):\n",
        "    '''parcours en largeur d'un graphe g depuis un sommet depart\n",
        "    la fonction renvoie un dictionnaire avec\n",
        "    - comme clés : les sommets accessibles depuis le sommet depart\n",
        "    - comme valeurs : la distance au sommet depart'''\n",
        "    dist = {depart:0}\n",
        "    courant = [depart]  # liste des sommets à une distance 'n'\n",
        "    suivant = []        # liste des sommets à une distance 'n+1'\n",
        "    while len(courant)>0:\n",
        "        s = courant.pop()  #on retire un sommet à la distance n\n",
        "        # la liste 'courant' est utilisée comme une PILE\n",
        "        for v in g.voisins(s): \n",
        "            if v not in dist:\n",
        "                #  v (voisin de s) est inscrit dans le dictionnaire\n",
        "                dist[v] = dist[s] + 1 \n",
        "                # et on ajoute v dans 'suivant'\n",
        "                suivant.append(v)\n",
        "        # si on a épuisé tous les sommets de 'courant', \n",
        "        # on passe à la distance n+1\n",
        "        if len(courant)==0:\n",
        "            suivant.reverse()  # juste pour l'esthétique... on reverse la pile\n",
        "            courant = suivant\n",
        "            suivant = []\n",
        "    return dist\n",
        "\n",
        "print(parcours_largeur(graphex,'I'))"
      ],
      "execution_count": null,
      "outputs": [
        {
          "output_type": "stream",
          "text": [
            "{'I': 0, 'E': 1, 'D': 1, 'G': 1, 'H': 1, 'C': 2, 'B': 2, 'F': 2, 'A': 3}\n"
          ],
          "name": "stdout"
        }
      ]
    },
    {
      "cell_type": "markdown",
      "source": [
        "[visualiser sur PythonTutor](https://pythontutor.com/visualize.html#code=class%20Graphe%3A%0A%20%20%20%20'''%20graphe%20repr%C3%A9sent%C3%A9%20par%20un%20dictionnaire%20d'adjacence'''%0A%20%20%20%20def%20__init__%28self%29%3A%0A%20%20%20%20%20%20%20%20self.dico%20%3D%20%7B%7D%0A%20%20%20%20%0A%20%20%20%20def%20ajouter_sommet%28self,s%29%3A%0A%20%20%20%20%20%20%20%20if%20s%20not%20in%20self.dico%3A%0A%20%20%20%20%20%20%20%20%20%20%20%20self.dico%5Bs%5D%20%3D%20%5B%5D%0A%20%20%20%20%0A%20%20%20%20def%20ajouter_arc%28self,s1,s2%29%3A%0A%20%20%20%20%20%20%20%20self.ajouter_sommet%28s1%29%0A%20%20%20%20%20%20%20%20self.ajouter_sommet%28s2%29%0A%20%20%20%20%20%20%20%20self.dico%5Bs1%5D.append%28s2%29%0A%20%20%20%20%0A%20%20%20%20def%20ajouter_arete%28self,s1,s2%29%3A%0A%20%20%20%20%20%20%20%20self.ajouter_sommet%28s1%29%0A%20%20%20%20%20%20%20%20self.ajouter_sommet%28s2%29%0A%20%20%20%20%20%20%20%20self.dico%5Bs1%5D.append%28s2%29%0A%20%20%20%20%20%20%20%20self.dico%5Bs2%5D.append%28s1%29%0A%20%20%20%20%0A%20%20%20%20def%20arc%28self,s1,s2%29%3A%0A%20%20%20%20%20%20%20%20return%20s2%20in%20self.dico%5Bs1%5D%0A%20%20%20%20%0A%20%20%20%20def%20sommets%28self%29%3A%0A%20%20%20%20%20%20%20%20return%20list%28self.dico%29%0A%0A%20%20%20%20def%20voisins%28self,s%29%3A%0A%20%20%20%20%20%20%20%20return%20self.dico%5Bs%5D%0A%20%20%20%20%0Agraphex%20%3D%20Graphe%28%29%0Agraphex.ajouter_arete%28'A','B'%29%0Agraphex.ajouter_arete%28'A','F'%29%0Agraphex.ajouter_arete%28'B','C'%29%0Agraphex.ajouter_arete%28'B','D'%29%0Agraphex.ajouter_arete%28'B','G'%29%0Agraphex.ajouter_arete%28'F','G'%29%0Agraphex.ajouter_arete%28'F','H'%29%0Agraphex.ajouter_arete%28'C','E'%29%0Agraphex.ajouter_arete%28'E','I'%29%0Agraphex.ajouter_arete%28'D','I'%29%0Agraphex.ajouter_arete%28'G','I'%29%0Agraphex.ajouter_arete%28'H','I'%29%0A%0Adef%20parcours_largeur%28g,depart%29%3A%0A%20%20%20%20'''parcours%20en%20largeur%20d'un%20graphe%20g%20depuis%20un%20sommet%20depart%0A%20%20%20%20la%20fonction%20renvoie%20un%20dictionnaire%20avec%0A%20%20%20%20-%20comme%20cl%C3%A9s%20%3A%20les%20sommets%20accessibles%20depuis%20le%20sommet%20depart%0A%20%20%20%20-%20comme%20valeurs%20%3A%20la%20distance%20au%20sommet%20depart'''%0A%20%20%20%20dist%20%3D%20%7Bdepart%3A0%7D%0A%20%20%20%20courant%20%3D%20%5Bdepart%5D%20%20%23%20liste%20des%20sommets%20%C3%A0%20une%20distance%20'n'%0A%20%20%20%20suivant%20%3D%20%5B%5D%20%20%20%20%20%20%20%20%23%20liste%20des%20sommets%20%C3%A0%20une%20distance%20'n%2B1'%0A%20%20%20%20while%20len%28courant%29%3E0%3A%0A%20%20%20%20%20%20%20%20s%20%3D%20courant.pop%28%29%20%20%23on%20retire%20un%20sommet%20%C3%A0%20la%20distance%20n%0A%20%20%20%20%20%20%20%20%23%20la%20liste%20'courant'%20est%20utilis%C3%A9e%20comme%20une%20PILE%0A%20%20%20%20%20%20%20%20for%20v%20in%20g.voisins%28s%29%3A%20%0A%20%20%20%20%20%20%20%20%20%20%20%20if%20v%20not%20in%20dist%3A%0A%20%20%20%20%20%20%20%20%20%20%20%20%20%20%20%20%23%20%20v%20%28voisin%20de%20s%29%20est%20inscrit%20dans%20le%20dictionnaire%0A%20%20%20%20%20%20%20%20%20%20%20%20%20%20%20%20dist%5Bv%5D%20%3D%20dist%5Bs%5D%20%2B%201%20%0A%20%20%20%20%20%20%20%20%20%20%20%20%20%20%20%20%23%20et%20on%20ajoute%20v%20dans%20'suivant'%0A%20%20%20%20%20%20%20%20%20%20%20%20%20%20%20%20suivant.append%28v%29%0A%20%20%20%20%20%20%20%20%23%20si%20on%20a%20%C3%A9puis%C3%A9%20tous%20les%20sommets%20de%20'courant',%20%0A%20%20%20%20%20%20%20%20%23%20on%20passe%20%C3%A0%20la%20distance%20n%2B1%0A%20%20%20%20%20%20%20%20if%20len%28courant%29%3D%3D0%3A%0A%20%20%20%20%20%20%20%20%20%20%20%20suivant.reverse%28%29%20%20%23%20juste%20pour%20l'esth%C3%A9tique...%20on%20reverse%20la%20pile%0A%20%20%20%20%20%20%20%20%20%20%20%20courant%20%3D%20suivant%0A%20%20%20%20%20%20%20%20%20%20%20%20suivant%20%3D%20%5B%5D%0A%20%20%20%20return%20dist%0A%0Aprint%28parcours_largeur%28graphex,'I'%29%29&cumulative=false&curInstr=171&heapPrimitives=nevernest&mode=display&origin=opt-frontend.js&py=3&rawInputLstJSON=%5B%5D&textReferences=false)\n",
        "\n",
        "On pourra cacher les variables `graphex, g, Graphe, parcours_largeur`  \n",
        "et sélectionner uniquement les lignes : 53, 56, 58, 60, 63, 64, 65, 66"
      ],
      "metadata": {
        "id": "coy41xpli94c"
      }
    },
    {
      "cell_type": "markdown",
      "metadata": {
        "id": "C3PUTNnH1i9X"
      },
      "source": [
        "#### 2) Parcours en largeur (avec une file)"
      ]
    },
    {
      "cell_type": "markdown",
      "metadata": {
        "id": "16Vszv7u1mUA"
      },
      "source": [
        "On rappelle que le module queue contient une classe Queue qu'il suffit d'importer avec la commande `from queue import Queue`\n",
        "\n",
        "La documentation officielle de Python fournit les éléments suivants :\n",
        "* `Queue()` crée une file vide\n",
        "* `Queue.put(item)` : met item dans la file\n",
        "* `Queue.get()` : retire et renvoie un élément de la file.\n",
        "* `Queue.empty()` : Renvoie True si la file est vide, False sinon.\n",
        "\n",
        "Notre algorithme de parcours en largeur peut donc s'écrire : "
      ]
    },
    {
      "cell_type": "code",
      "metadata": {
        "colab": {
          "base_uri": "https://localhost:8080/"
        },
        "id": "FcuOf8sP19z0",
        "outputId": "58e3d9e4-c116-4b20-a983-7052aafc638f"
      },
      "source": [
        "from queue import Queue\n",
        "\n",
        "def parcours_largeur(g,depart):\n",
        "    '''parcours en largeur d'un graphe g depuis un sommet depart\n",
        "    la fonction renvoie un dictionnaire avec\n",
        "    - comme clés : les sommets accessibles depuis depart\n",
        "    - comme valeurs : la distance au sommet depart'''\n",
        "    dist = {depart:0}\n",
        "    file = Queue() #file vide\n",
        "    file.put(depart)\n",
        "    while not file.empty():\n",
        "        s = file.get()  #on retire un sommet de la file\n",
        "        for v in g.voisins(s): \n",
        "            if v not in dist:\n",
        "                #  v (voisin de s) est inscrit dans le dictionnaire\n",
        "                dist[v] = dist[s] + 1 \n",
        "                # et on ajoute v dans la file\n",
        "                file.put(v)\n",
        "    return dist\n",
        "\n",
        "print(parcours_largeur(graphex,'A'))"
      ],
      "execution_count": null,
      "outputs": [
        {
          "output_type": "stream",
          "text": [
            "{'A': 0, 'B': 1, 'F': 1, 'C': 2, 'D': 2, 'G': 2, 'H': 2, 'E': 3, 'I': 3}\n"
          ],
          "name": "stdout"
        }
      ]
    },
    {
      "cell_type": "markdown",
      "metadata": {
        "id": "HJdSfcsi5vKv"
      },
      "source": [
        "# Parcours en profondeur"
      ]
    },
    {
      "cell_type": "markdown",
      "metadata": {
        "id": "YKO1jp1ZILDo"
      },
      "source": [
        "On a déjà étudié le parcours préfixe, pour un arbre binaire. \n",
        "\n",
        "Dans le cas des graphes, un algorithme 'similaire' est appelé :  **parcours en profondeur d'abord**. "
      ]
    },
    {
      "cell_type": "markdown",
      "metadata": {
        "id": "3A7XT4fCKS64"
      },
      "source": [
        "## 1) Avec une fonction récursive"
      ]
    },
    {
      "cell_type": "code",
      "metadata": {
        "id": "ZB9h3Bm2zRsu",
        "colab": {
          "base_uri": "https://localhost:8080/"
        },
        "outputId": "727a2635-7eb1-4a36-a160-a1761d916e6d"
      },
      "source": [
        "def parcours_profondeur(g,s,visites=[]):\n",
        "    '''parcours en profondeur d'un graphe 'g' depuis un sommet 's'\n",
        "    la fonction renvoie une liste de sommets visités depuis 's' récursivement'''\n",
        "    if s not in visites:\n",
        "        visites.append(s)\n",
        "        for v in g.voisins(s):\n",
        "            visites = parcours_profondeur(g,v,visites)\n",
        "    return visites\n",
        "\n",
        "print(parcours_profondeur(graphex,'A'))"
      ],
      "execution_count": null,
      "outputs": [
        {
          "output_type": "stream",
          "text": [
            "['A', 'B', 'C', 'E', 'I', 'D', 'G', 'F', 'H']\n"
          ],
          "name": "stdout"
        }
      ]
    },
    {
      "cell_type": "markdown",
      "metadata": {
        "id": "aQfinTmwKWgw"
      },
      "source": [
        "## 2) Avec une pile"
      ]
    },
    {
      "cell_type": "code",
      "metadata": {
        "colab": {
          "base_uri": "https://localhost:8080/"
        },
        "id": "rIs3WEU2KbeG",
        "outputId": "dff4bf68-cb59-4a4a-9173-acc8e1bbee0d"
      },
      "source": [
        "def parcours_profondeur_pile(g,depart):\n",
        "    '''parcours en profondeur d'un graphe 'g' depuis un sommet 'depart'\n",
        "    la fonction renvoie une liste des sommets parcourus'''\n",
        "    pile = [depart]\n",
        "    visites = []\n",
        "    while len(pile)>0:\n",
        "        s = pile.pop()  #on retire le sommet 's' en haut de la pile\n",
        "        if s not in visites:\n",
        "            visites.append(s)  #on \"visite\" le sommet 's'\n",
        "            for v in g.voisins(s): \n",
        "                pile.append(v)  # et on ajoute ses voisins (encore à visiter) dans la pile\n",
        "    return visites\n",
        "\n",
        "print(parcours_profondeur_pile(graphex,'A'))"
      ],
      "execution_count": null,
      "outputs": [
        {
          "output_type": "stream",
          "text": [
            "['A', 'F', 'H', 'I', 'G', 'B', 'D', 'C', 'E']\n"
          ],
          "name": "stdout"
        }
      ]
    },
    {
      "cell_type": "markdown",
      "metadata": {
        "id": "bgf6boh6z0dC"
      },
      "source": [
        "## Efficacité\n",
        "\n",
        "Si n est le nombre de sommets du graphe et m le nombre d'arcs, on rappelle que la taille du graphe est (n+m)\n",
        "\n",
        "On peut montrer que le coût d'un parcours en profondeur, ou d'un parcours en largeur est de l'ordre de (n+m), c'est à dire qu'il est proportionnel à la taille du graphe (dans le pire de cas). \n",
        "\n",
        "Remarque : si tous les sommets ne sont pas accessibles depuis le sommet de départ, le parcours est plus rapide! \n"
      ]
    },
    {
      "cell_type": "markdown",
      "metadata": {
        "id": "tQAr45vawH3S"
      },
      "source": [
        "# Application : détecter un cycle dans un graphe"
      ]
    },
    {
      "cell_type": "markdown",
      "metadata": {
        "id": "Rop8RR80w6uW"
      },
      "source": [
        "## 1) Cycle dans un graphe orienté : test depuis un sommet"
      ]
    },
    {
      "cell_type": "markdown",
      "metadata": {
        "id": "HDSmwpINxV8x"
      },
      "source": [
        "* Un **cycle** est un cas particulier de chemin, qui est : \n",
        "   * **fermé** : c'est à dire que le sommet de départ est identique au sommet d'arrivée.\n",
        "   * **et simple** : tous les arcs qui le composent  sont distincts.\n",
        "\n",
        "Dans le cas d'un graphe orienté, on parle aussi de **circuit** pour désigner un cycle. "
      ]
    },
    {
      "cell_type": "markdown",
      "metadata": {
        "id": "gTx42mWLw-z2"
      },
      "source": [
        "On reprend l'exemple : `graphex1`\n",
        "\n",
        "\n",
        "![image.png](data:image/png;base64,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)\n"
      ]
    },
    {
      "cell_type": "markdown",
      "metadata": {
        "id": "S8t2NHSKyX8i"
      },
      "source": [
        "#### Combien ce graphe possède-t-il de cycles\n",
        "* issus du sommet 1?\n",
        "* issus du sommet 0?"
      ]
    },
    {
      "cell_type": "markdown",
      "metadata": {
        "id": "B_DU_hEZxV5q"
      },
      "source": [
        "**Réponse** : ce graphe contient plusieurs cycles issus du sommet 1 : \n",
        "\n",
        "* cycle de longueur 3: `1-3-4-1`\n",
        "* cycle de longueur 4: `1-5-3-4-1`\n",
        "* cycle de longueur 5: `1-2-5-3-4-1`\n",
        "\n",
        "Ce graphe ne contient aucun cycle issus du sommet 0. \n"
      ]
    },
    {
      "cell_type": "code",
      "metadata": {
        "id": "Cg8uJxT936Pp"
      },
      "source": [
        "def cycle_depuis_sommet(g,depart):\n",
        "    '''parcours en profondeur d'un graphe 'g' depuis un sommet 'depart'\n",
        "    pour chercher un éventuel cycle \n",
        "    la fonction renvoie True s'il existe un cycle issu du sommet 'depart' \n",
        "    et False sinon '''\n",
        "    # initialisation avec le sommet 'depart'\n",
        "    visites = [depart]\n",
        "    pile = []  \n",
        "    for v in g.voisins(depart): \n",
        "        pile.append(v)  # on ajoute les voisins de 'depart' dans la pile\n",
        "    while len(pile)>0:\n",
        "        s = pile.pop()  #on retire le sommet 's' en haut de la pile\n",
        "        if s==depart:\n",
        "            return True\n",
        "        if s not in visites:\n",
        "            visites.append(s)  #on \"visite\" le sommet 's'\n",
        "            for v in g.voisins(s): \n",
        "                pile.append(v)  # et on ajoute ses voisins (encore à visiter) dans la pile\n",
        "    return False"
      ],
      "execution_count": null,
      "outputs": []
    },
    {
      "cell_type": "markdown",
      "metadata": {
        "id": "nR0vALhI6bOx"
      },
      "source": [
        "#### définition du graphe : graphex1"
      ]
    },
    {
      "cell_type": "code",
      "metadata": {
        "id": "VXMpzFdZ585N"
      },
      "source": [
        "class Graphe:\n",
        "    ''' graphe représenté par une matrice d'adjacence\n",
        "    les sommets sont les entiers de 0 à n-1, avec n = ordre du graphe'''\n",
        "    def __init__(self, n):\n",
        "        self.n = n \n",
        "        self.tab = [ [0 for j in range(n)] for i in range(n)] \n",
        "\n",
        "    def ajouter_arc(self,s1,s2):\n",
        "        self.tab[s1][s2] = 1\n",
        "\n",
        "    def arc(self,s1,s2):\n",
        "        return self.tab[s1][s2] == 1\n",
        "    \n",
        "    def voisins(self,s):\n",
        "        return [j for j in range(self.n) if self.arc(s,j)]\n",
        "\n",
        "    def sommets(self):\n",
        "        return [i for i in range(self.n)]\n",
        "\n",
        "    def afficher(self):\n",
        "        for s in range(self.n):\n",
        "            print(s, '->', end=' ')\n",
        "            for v in self.voisins(s):\n",
        "                print(v, end=' ')\n",
        "            print()\n",
        "\n",
        "graphex1 = Graphe(6)\n",
        "graphex1.ajouter_arc(0,1)\n",
        "graphex1.ajouter_arc(0,2)\n",
        "graphex1.ajouter_arc(1,2)\n",
        "graphex1.ajouter_arc(1,3)\n",
        "graphex1.ajouter_arc(1,5)\n",
        "graphex1.ajouter_arc(2,5)\n",
        "graphex1.ajouter_arc(3,4)\n",
        "graphex1.ajouter_arc(4,1)\n",
        "graphex1.ajouter_arc(5,3)"
      ],
      "execution_count": null,
      "outputs": []
    },
    {
      "cell_type": "markdown",
      "metadata": {
        "id": "5JkR4q8J6gNu"
      },
      "source": [
        "#### test de la fonction"
      ]
    },
    {
      "cell_type": "code",
      "metadata": {
        "id": "dQaD-dm46fyR"
      },
      "source": [
        "assert cycle_depuis_sommet(graphex1,0)==False\n",
        "assert cycle_depuis_sommet(graphex1,1)\n",
        "print('test ok')"
      ],
      "execution_count": null,
      "outputs": []
    },
    {
      "cell_type": "markdown",
      "metadata": {
        "id": "96vEnfQE7BaN"
      },
      "source": [
        "## 2) Présence d'un cycle dans un graphe orienté"
      ]
    },
    {
      "cell_type": "markdown",
      "metadata": {
        "id": "1hEOzXiK7GPu"
      },
      "source": [
        "Pour tester la présence d'un cycle dans un graphe orienté, on peut appeler la fonction cycle_depuis_sommet sur chacun des sommets du graphe, mais...\n",
        "\n",
        "Cette méthode ne serait pas efficace, en particulier lorsque le graphe ne contient pas de cycle.\n",
        "\n",
        "En effet, certains sommets seraient parcourus un grand nombre de fois : on va donc chercher à améliorer la détection de cycle en \"colorant\" les sommets du graphe. "
      ]
    },
    {
      "cell_type": "markdown",
      "metadata": {
        "id": "_bVL2gEf8oNI"
      },
      "source": [
        "* initialement, chaque sommet aura la couleur \"BLANC\"\n",
        "* un sommet recevra la couleur \"NOIR\" après la visite de tous ses voisins!\n",
        "* un sommet aura la couleur \"GRIS\" lorsque\n",
        "   * ce sommet a déjà été visité au moins une fois\n",
        "   * les voisins de ce sommet n'ont pas tous été visités."
      ]
    },
    {
      "cell_type": "markdown",
      "metadata": {
        "id": "ub3Btv37BLgO"
      },
      "source": [
        "Exemples"
      ]
    },
    {
      "cell_type": "markdown",
      "metadata": {
        "id": "UlurKp06FLED"
      },
      "source": [
        "![image.png](data:image/png;base64,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)"
      ]
    },
    {
      "cell_type": "markdown",
      "metadata": {
        "id": "gSGFGvwdBy2w"
      },
      "source": [
        "![image.png](data:image/png;base64,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)"
      ]
    },
    {
      "cell_type": "markdown",
      "metadata": {
        "id": "yZl0GjiF9cUK"
      },
      "source": [
        "![image.png](data:image/png;base64,iVBORw0KGgoAAAANSUhEUgAAANwAAACxCAIAAAAgUkRSAAAgAElEQVR4Ae1dIbOrvtPuJ0BVoZjB4XAYHAKHQiIwyFgkogaJRVRgI7FILA5VgUfhmEEwwzv/s+8vlwuUBgiUntsjzqQhbDabh2yy2Wwu3ffvK4GTSeByMn6+7Hwl0H1B+QXB6SSwGJRVVcVx7LquYRjyf3+apiGEoigqiuJ0TWTNUFEUYRg6jqOq6n8CkA3DcF03juO6rllXeGp6ZVlGUYQQ0jSNSEPXddd1McZVVa3gfgEosywzDIPnedu2oyhK07QoiqqqyrLMsgxj7LquJEmKomCM27Zdwc2ZX2nbNooikDvgL8uysiyrqiqKIk3T+/1uWRbP85Zl5Xl+5rYw4S2OY1VVRVFECGGMB9KIoshxHEEQdF1P03RRjVSgfDweuq4rihLH8Uu0ZVlmWZYkSXEcL2LlzIUxxqIo2rb9Em1N02CMZfl/Y+dv1RtpmkIDX6KtbdskSTRNU1U1yzLKLn4Nyvv9LggCxpiSIhTLskyWZYRQ0zSLXjxb4bquLctSVfXxeNDz1rbtOrnRV/GWkm3bep4nSdJLOA7Yi+NYFMUgCAb5kz9fgBLmCmVZTr48n9k0DUJIUZR1E4t54sc8LctSlmXP817qh0l+iqJQFOV2u00+/bjMuq51Xbdte928uaoqwzAsy3opzDlQuq5rmubGoS4IAlmW1zXjvd1W17Usy1EUbWGjrmtN0zzP20LkDO+2bWsYxsaGtG3rOI5pmvO4fApKjLGqqhsRCdK83W6GYZxBsvQ8QB9Qqpt5snVdK4qyEdzzVRzw1HVd27a3V9S2rWmaruvOkJoGZZ7nkiSt09qTlZmmyaSDJ4nvkXm73Zj0AfBWlqUoip+77mE4QnVd1zSNLMtJkjzruAlQtm2rKMrMO89ozeSXZSkIAkOUz9S1/dHj8RBFke2UI4qij1MXIMmqqph/UVmWSZL0TA9PgBJjvIf4giBwHGc7Yg6gYJrmUmsDDVeqqi5dtNKQ3buM9/PHvBbHccIwnCQ7AUpFUehNSpNEJzObphFF8fwr8aIoJEman4lPNvBlZpIke3ztL+vdUqBpGkEQ9ug1kPMkb0NQPh4PWZYni27PdF332cexnTgrCrfbzfd9VtT6dNq2FUXxU+YwwDnGmOHcui+NruuebfYMQen//A1eZvUzTVNd11lR24mOLMv7rUjAQ2Anzvcga1nWfjtzYRhOLsOHoDQMg37ew/X+aDR+27Y8z++hGVn1R13XgiDQUMvz/HK5EAFQvhXH8X4DDw3bS8tQzrjKsgQnDMdxLMuiXCM+Hg9FUcYsDUG5aNU5CfNxHf0cRVH2G4f6Fa1Lg9MJzbt5npPFUJZllAYv2OOhoX+GMnVdi6JIw0lZlmQsW2SU5Xl+TH8IyslC49cgZwUoTdMk3D8j+8b8OI4RQksZoB8bQFcspf+u8o/HQ1XVRbW3bbtoZ1ySpPEq6i9QwlKLngnYd0II+b5POWI7jrPfHIWe82cloyha+qWlabpoYbTos3/G5zH59HoD+EEIqaq6aK9/UnP+BcrV37HjOJQDjG3bbM3ybLtnBShN06T8IIHVzwLl0oVp27aWZdHjUpblsTniL1B2XbdOZLANRYMPwzBolkQ0pPYos3QhkqYpfQd0XUe/kNqjdUtprpsB04Oh67rJNcwQlJPInWxM+vMHj263G+VuzeQcYpL+WzKXzqIMwxhPiWY4z/Nc07SZAqd6RK85+ydhPM+jBMOz6eIQlPR2qTzPwQqAELJtm6Zvzj9OLDJaJUmy1JULjrOcCnnzzFBabWGzynVdhJBlWTRg6Louy7LJ6cEQlPf7nXJ2ON+YyadxHFuWNfnoPJmapu03waD/5k8ikF2t/c82z4agrKpKEISd7NuWZRHb3kmEPmYjDMOdPsu6rnmef+YaM+bkDDm7bsI9G4aHoOy6bicfGfBeO3+XwGdJqYAW4QYO5i565QyFJUladD6Jkuc0TZ8ZQSdACWe+mA+WYM6k5Pi9xVzXXbSmpuEWdkfOvJv1rBVRFJmm+ezp6nxVVZ8ZBydA2XWdbduU+2aUPM07dVISOawYuLWyHR48z1tqlj+svfMV7eH0Pe/yPA1K6BVW+4F1XUuS9OyzmJfIu55ijAVBWGQVn2E1TVNJklhRm6lop0dBEAiCwGqYL4pinto0KLuuy/OciRN827a6rjPXhjtJH8gWRSHLsqZpTNQWHK7Yb0W/qyjgXKxhGBBhYft3VVXVy0AVT0HZdV0cx5Ikbfk+6ro2DGOnxexOnQFjJGzQWz9/WxZn8G1/lpYggk3TVBRF4pft+76qqluWgHCOnhAkFQ0Sc6AEXAqCsE6mMN580ESqbVvXdft2CjinrKrqeH92IMfJn4DvddKbJHhYJkTCEEVxMMD7vi9J0svYNZN8AsRpjhq/AGXXdXBAwnEc+o5pmsb3fVEUz+wQNBBcVVW6rk96V0RRBAMGvUWiKArTNFVV3aJnBhwe9hNUtmmak4NikiSiKHqeR6/Kq6pCCEmSNID4sxa9BmXXdW3bwlQXITRPtyxLgKPjOJNNesbHe/PhnPuMWinLEqJ2BUEw/3GmaWrbdl/rvbdpS2uH8Wze9lLXteu6giB4njf/1eV5DiVvtxv9LIgKlNCwpmmiKFJVVRAEy7I8z7vf7xjjKIp833ccR5ZlSZJ835/vtqVi2rs8RFSjMTUUReF5niiKELvL9/0oijDGYRh6nmeapiAImqZ9biTEIAjox7OqqiAmjyRJjuPcbjeQxv1+h1AOoigqihKGIf2YCn29AJQEHFVVJUkSBAF8BGAVj+P4s7AIGsB13Uk/U9LYyURRFBjj2+0GWglOaaZpulT6k8TfkgkqW9f1FfqtLMs4jn3fd133er26rhsEQZIkK0hB29eAsi81ele3/ltnSMMk0rZterUyZpv+FMv43fPkwOxlXmVTcrvOH3dA/B8F5ctJ5EBMMz+ZdMMM/b0fwWqBZvZCwwkTafyLoKSfRNJ0w6TvNM2Lby8D8WB1XWc47/qCcnG3tm0LcVwZdsOKKelivnd4AXTF6niwzzj6gvKZZKbzy7JUVdVxnC2TyDHpk586GjPcdR2Evt7Dqv8F5aTApzOzLBNFkWY7Yfr957knP585YJyEcGeoK/pVfEHZl8ZcOooievPbHKGpZwihT9m4go1f5iq7L5UvKPvSmE7D5rWmaTsNDF3Xua67xwA83Z4NuX1Hkw1kXrz6BeULAcEk0nVd+j3rFxSnHt9ut5n9yak3js5rmsZxnGMWZF9QzvXufpPIQa3Bz98g8zw/ia/Wrl8mae8XlEQUw8T9ft9vEjmoLAzD07owH6Oy+wL5grIvjf9Pk0nk6o3XCaKzWSvCD83SY/MQLLKyLLM9afSSuS8ohyKC7WyE0DGqCqo/ISjLstQ0jT5A4VCOG35/QfmX8OBw1vHWmbOBEhwi7/f7X9I56scXlH8k7fv+8aoKqscYn+QQ0rtU9p9uWBu1r0+h67qPd8iALYrJYwyDpu708ySgBPvX268N/o6UHdg7FgXSZQ7NM4AySRJBEM5gw//XQZkkyaLw2szhCATXhUlnxQw5gXnwKvsZ//8uKKEnjtmieCZ9kh/HMWWMUPIKqwTxezrPMYx/FJRwmoS5B9pqoLwLlOdR2X3R/YugZHiMoS/KLenjQXk2ld2X3j8HSozxYZuHfUHPp5MkOfISsROq7L583gZKCF1+/fnjOA4SPM/v4ckMDT5+87Av6Pn0kaA8p8ruy+dtoOy6TtO0y99/HMfttLl3jAdaX7I06bquq5+/OI4hwgn8pHl3RRkI7vOuDQJ6ht8JSowxx3F9WDKJmjdu/Ls2D8ecDHLCMCRaAhIcx0mSNCjG5Ocb97KX8v9OUDZN0wclx3GsDg73pQBRQU5igesz1nVdVVV9CcCNtnuY8c+vsvuSeScoIV4/GSmv1ytb3f32zcO+oJ+lVVUlEgBQsj10ASr7hGu7ZwJZfWPdgOD6ve8kSchQwdYj4QybhwMxTf6MoohI4HK5yLI8WWxdJqjsN+7pr2P7zSNl27bQJRzHzccHXNQ82DzcbyG/iJn5wnVdE1ByHMfQW4w+vug8h8c/fTMo4RKJy+XChA+IgeZ53kk2Dym7U9d10OAcxzHxdf9Eld2XFRMwrFffXdelaXq5XNYFkIbAm6Q9sHm4MQYaoXZYIo5jGCyf3VO0iBMSTZgJvhdVzarwG0DZtm2WZb7vm6Ypy7IoipfLRRAESZIMw3BdN0kSSucA27YvlwscTj3h5iFlJ8EchuO4Fdf7xXHcdzYDlX3y07ovxXIoKKuq8jwPItX6vp+mKaw0Qax1XWdZdr/fTdPked627Xk7DlkkcRwHsd0ZzkpfCo5tAcuyLpcL5adIqq6q6nq9chz3eDw+XWWTRh23+iYBrm+3G43Jo67rKIpkWTZNczIgdl3X1+uVGFOgY/oNO3m6rmuMsW3biqIIggDqm6gL3/cnWz1oFJmMCoJgmua6ELoDmmf4ecRICTrFdd2lIwEJ7TWODwtDCwHl5XKZvPT5DCIe8PB4PBzHEUURIYQxhkGubVvYOCjLMkmS2+2mKIqqqjORzwf7YWxtSQOeD/65OygXhWWfbDzM3C3LItH30jQlZhSCS47jTj6XAnUhSVIURTTbBFmWwZUl4ytnyrLsKwqwujM0J012xGGZ+4Jy+/VSRBAIIV3X27aFC68JFsGcdL1eTdM8/mgsYe9lgsQXJZ/Wy1egAOiZga4wDKMvAZKen4VT1vj2YjuCMgxDRVFWqOxnQkEImaZJFPf1euV53nXdLMtoBp5nZA/Ih63n1Tv7VVVpmkZ2vAaKm/v5k2X54+55eSb5vUAJjjnMTWXg7Xa9Xh3HSdP05FgEoed5LgjCxjGsbVvTNBFCxIcDsKiqahiGNGvHZwg4Yf4uoIQ7OMYzoe3tD8NQEIQPMv2UZSmKIpMNz6ZpNE2TZZnjOF3XMcYMtdD2rmFIgef57cPNcEfHdV3P8xhy2SeVJImiKP2cM6d1XWe4/Mrz/Hq97vG1n0qGgiAwBmVZlgxvXp8UlmEYZ17TEJ4xxswNVXvQJAyfJMEelJ7n7R1qMcuy8w+WbdtKkrRxKjmJElVVV6+ZJgmeLZMxKNu2FQSB+fpmLDVFUU6uxZIkMQxjzPn2HDjQs53OaSkwBmWapswV1qTsgiDYezyerJc+07KsneYYh3359I1lW1IUxaXW3DEDfxY6/s/fuATznCzLNE1jTpYVwbZteZ7fLtln/DiOs8Kl6Bm1s+UzuRTwDyhN06Sc7sCd9P2p4ThnRljQ6zMF3vsoz3N650jXdR3HcV3XMAzKmc/ZgqyylbYkSdutXX9ASX9JMv75E0WRtGecQx5NJujrmnx910yMMWXAqizLiK3YcRxKU1qWZcdMk3aV0jPikiRRfpzPKPwVNJXId6Y0eQQXgpCfXdeNc/pPB2ld10+71gmCgPKkbFEU1+sVFL1pmpRGzbIsf5Nb0KBnPxiUhmFQThUGbT7gp+/7AxeKmUp931cUxTRNTdMojca/4976ZzJhogP/qO+DR8rT7jfSj5RZlsmyDFhECFGq76qqdgqk8QwoR+YzBuWiddNYWY9zZmRx5iOL9AuR2+1G4q3Fcdxf+c20/fF40C+kZuic85GiKNtdTP6MlIvmeWMIjnNmpMZk236G/pZHaZpSWs6jKCJLliAIKKMpxXFMoLyFz3O+y2S4+QNKhFD/cN1Mm+M4dl33er2GYQjrlXHOzOtlWZ5Zf1VVJQjCDP/kEQQoBBcWwzBojuZ0Xed5Hv2cldT1KQnGoDzsC46iiDi9nlPWu26EKoqyx676SSSpqirlxznD8J+REkYIyiXkDMWXj05++KHruiAI1kVYeNl2CJP0stjnFlBVdfsn9weUEEhtpz1fImWAPhPPWUKTeQKY3L4zMWbMcZxfrLshmi5jUB7gV+Z5HkLIMAxZlsMw3KPjx1BYkeO6LnOvkaIoBEHYb1d9RTOZv6Jp2vZtkb9GSkD6foMlOBHDNlRZlhAbw3Gc7c1gLlwYLLd/9H3GdF2nXEr23/qs9CIbzrOmDUEJx0l3GsAsyxoor7quwzCUZRk80g+Y0T4TxDgfghJu38kFyhCAaVzLL8vRdX37tsgQlF3X+b5vWRZzYUVRNLMXl6apZVmiKHqet335xor5IAjgxPpGghhjWZZZ4XsjM7u+bhjGLqBs21bXdUqnBMoWpmkqCIJhGPPm/qqqICyHpmkY4zNMv2AGvEV1RFEkSdJ8wynFeP5ie4Gy67q6rhVFGaja1RIBROZ5Hscx5aFVGDh5nkcIvX3GCeGBVswvIdiLqqr/CCLBgLPd1WZCfQP4qqpSVRUhtHGehzEWRZEAa1E8cwjgpmmaJEm+779R/UGcDNd1KXlo2xYa7rruRgGuHgve8iK9q/gMe09B2XVd0zSO46ze3qiqyrKssYm/rmvz549eJz4eD9d1eZ43TfNdNs66rm+3G8/z8xE+iqIAq4JhGORTnOmAX/Zod1CCvOI4liTJcRz69Udd177vi6Lo+/6zcQLmjot0YtM0GGPDMARBcF2Xnh+GHV9VVRRFhmHwPA+axHVdhBCciBBFUVEUz/MWtYshe28nZVnW9lFjbqQkLazrGjBkGAbG+NkMqa7rJEkcxwHQPCtGyEJQshVmUbBxiqII66FnuCcV7ZFo27YoCvBEATayLKMf+/dg6Qw0jwMlaW2SJAghSZJgnLAsyzAMy7J0XRdFURAEy7KiKKLvm7IsFUVZN/GCgVPXdUEQ3mhIut/vlO69RIy/OGHb9kEj5ViIVVVlWZYkiSiKGGMSAn1c8mVO0zS2bW+Jr1wUBcRjh9hRBw+ci45PvJTGpxdwHGeF6hu0mkp9D97p/2Ti/t51XRiGkiRtXBlkWeY4DqxFtptw+82cSUOo6ZkC/9QjhNDvASXcyiOK4vbd4aqqwjBUVVWW5SAIKI04q6HDZBa1uvazvcjkEz3LSAnChQsJHcdhooLzPD/AkMTEBeFs2FrNj+u624eVc4ESLsNzXZfhLgish4gF/qVNYGl/MDkAsLTS05b3PG/7pQKnAyWIO4oiURS3b1j1O+/xeHieJ4oiuL4zGYy7rmNy/L7P50enPc+jDMow08yTghJCbkiSxGr/nYigbdskSUzTZGWBX3Q0mbDxWxNMbBHnBWXXdXC1gmVZ9IZP+s5mZYFfFMSBnr0PLRn8/G1k/tSgJFNMWZZ32lSE+8JgF2qdR9IXlH0I0scX6b81SJ8dlMAuvc/boHn0P8GQJP/8LTo89AVlX8hhGG7f3/oMUHZd93g8wIGtL4I90oss8E3TUEYu2IPVE9Jksun6MaAE12Pj529vezi47WGM4fKbGQv87w6htgL09JGYZoh/EigPmGKOJQWunHAB8tjV4HeHUBtL42UOxnh7+JMPAyUIBWMsCMIYIi9FtrpA0zRwsQNMIYgF/gvKgUjjOP5HQUmmmDsFVxkIuv+THFcnrqVnDtbV5/yYdBzHlMG5Z/j5yJES2rPiWMWMIBY96lvgr9frTuaqRSydpHCSJNvPZ38wKKEbfN/fz4r5sqcfj4cgCLIsv9EH/iWTRxZI05QyTucMVx8Pyq7rDrBiPpMgiaoPhiRRFNdZ4J/R/7j8Lyj/dNlhVsw/Vf6kCCghv+/KucgCPyD7uT+zLKOMgzzTxt8wUkLz6rqGA0N7bJQ/kyCcMRo/BVdOURQdxznMB37MxvE5eZ6TkNura/89oAQRHDzFLIpiJv4+ceU8xgd+NQgYvvh4PLbfcfjbQEmmmGx9MZ912zwoyVt5niOEYMb5uwfOoii2333xC0EJVkwIykpgsVNiUR+QM8G/b+AsyzL5+cMYS5IE6SRJ1oUo+52g7LquLEsmsZDm0bwIlIQU8UjSNG3RMXlC4WyJPM8vlwv399/1el3n3r8GlBCVBa5i5nne8zxIbzwgy1zQbdsihDRNY+7AkWUZNNl1XYhOAz+X9kGWZaDWIT4RcwkcSVAQhMvff6v3G9eAsus6nuf/ZuB/v865sQHRz9jO5GBgGEhg9X4jWQ8NNtaPhNT2um63W18g1+t19SC1EpQDDi6Xy5lvZl0dtGimqwYDA8dx2w9M9SO2YYyXjrsz3B7wqCgKjuMILrf4Pq8E5YADJl2yq+DAyr3dKZowOfgsOY5jNUmAjXUItv1Z+0OSJBFQbhH1SlDC0VLCAcMuIb3OPAHWddM0mVjXB5/ldjvIuL1kPfQpq/UgCGCw5Dhuy1xuPSgJB5fLZY8uGXfS9hy4TVFVVSajGhkYOI7bHhZipnWwP/TM0XjmxYMflWUJoBRFcUvV60FJONi7S7Y0b/JdiLW55VMGsuSz5DiOyeg7yS3JJI7GrE6sE8oME7IsXy6Xjbc4rAdl13XAwTFdwlBwXddBDPOB7/rS4ZN8ltt3exe1joQ+BEfjdQbqRTXSFK6qKk1T13UvlwvGOMuy1YxtAmUYhpfLZfteJ02bmZfJ87wf5C1JEp7nl+ISPkuMMXP2XhIkjsZwhwZbm9fL2qEAGLNgTSaKoq7rhmFcr1fTNFVVBU9ThNDSLd+VoITPIoqiy+Xium6SJNu1IaUgGBYDHx/P88qyvF6vl8uF0kGVxJZ2HOdyuURRlGXZUkCzaggg4+BQ8GVZIoR4nrdtO47jftv7SCiK4n6/a5omimIQBJRj5zJQwg6E9PNnmqbjOJIkIYRs21YUBcJLx3H8QQa2uq51XQdEwkbZzLAH3Q9xiFRVtW3bcRxZlh3HMU1TkiRZll3XXW003gjTsiyDIIB4CjPHgjfW0rYtuWWBfiZdFAWghSakKi0okyTRNE1RlDAMyVk+CPdDGlnXNTnyd7/fPwWaCKG+1fd6vfa/e2hd0zRBEIiiCCFS+198vzCBha7rS3UWEeP2RJ7nnudJkgSTToYdAV5Rtm33W03PcJ7nsiwjhPoCHL/+GpRwHY4sy/RSLorCNE1Zls9/c0eSJH1EguV14DudZRlc2tL/Gsei7OeQe17ox5L+60zSZLUuSZLnedvHb5iFz2gSGrabpkEI6bo+I5kXoIRLbYMgWPG1kTD9NLy+pQwEXRmDkuM4sjCHYOwrlhFt23qe98ZDbUSkcCwY1Lrv+/05HykTRdH8Hgwgkn5gIpQnE77vK4ryDJdzoMzzXBCELXzA5t72TeHJhjHJJFHXrj9/ZI8KlDjIbp2qAvbgUNtJNEZRFDDpHHt+SJLEcZxpmpOjT1mWzGPY+r4/0EikQ5+CsixLSZJWjBCENCSqqpJleeOYP6C5x09AJ6woYd2jqurM10zPQ5qmZ7vFNk1TaClMOrMsA3XBcdw4MHHbtuD3Sd9kypKmaU6a2adB2TSNqqqsts7gOzvJaEEjryzLbNsGIzBN+ZdloihSVXVyEHr57n4FiOeHYRhERVwuF57n+50VBMH2+AKTraiqShTFfl1QbBqUcN/gJKF1mUmSKIpytl551pamaSRJStN0i+IeELdte3JUGBQ7/mdd1+NZ9fV6BSVZlqUgCPQrvKX8x3E83g+bAGVRFIIgPJuELq2VlDdNk9XQS2julAiCYHtAnAFvZVmu2DEaENnj5/1+H4MSTLZw8+Te35KqqoN1ywQoHcfZY2kC8QLOP1jCknyPseF2u82vcPfA3EuaiqJwHAfrPPgPJ21AoU9abV/SXFQAYzyYHgxBWdc1z/PMh0ngUtd1YmpZxPeRhccyYlV7VVWCIJzts2yapqqqoigej0eWZWmaJkmCMY6iCCHE6prDGRk2TTOA3BCUGGPbtmdIbHkURRFztbiFn8l3d73n3jCMgaqa5OEkmUzutKNpi2VZ/e3HISgdx9nPfANmJhou31WmbVue5+c3wbbwFgTBCTX4sxYdZskaBKUegpL+UreiKHRdd13XsiyEEKVWEkWR4ZL2mTRX51NGvIBA1+i/P/rLJLMsGy82V3O764ugVWmqaNs2CIJ++JooiizLchyHEhgDsQxByfM8JbyKoiATREmSKMdXXde3G+RpJLWuTJIklLOXKIoIvAzDoLyQ8IMC99PHWcA/f+QIBEydQduYpkkDDDBYki77C5SgvMgz+oSqqpS9Yts2gTI9/cNK0seR75tygyCgdMSEI/OHNWdLRYuC+mVZRkAZRRHZPwzDkFIy/SO5f4Fy3a0wsGCntKE4jtOf0m6R2h7vDiY3M1VEUUS2A+73e195zbz1QaBcFP60D0rf94m2wRhTSuYpKNeJDCFEj7OTX9lOP1J2Xef7vmVZruvatk1/nrMv/Xn4vvfpokiTA1ASuyMlKAcq+q+Rsuu6RXs54J21SB2rqjre63yv9Pu1p2lKVE8/fz7teR6lqWsQ+Xee7HufLmK1D8oV6ntQ1xCU9AuRuq4RQksRRr+QekuX0N+L83g8wDGxaRpRFClXb0wuTzhMMvSDeh+UKxY6cNk1adcQlLfbjfKK7SAI+tHfaEJs5XlOr+YIiwcnKI1zWZaZpum6rmEY9Hv6TO5oP0wgqqrS+KvDFvn1eg3DEMqDSQgsZjTGHIhZR9o1BGWWZfsdmfV9/3a7kbrPmUAI7bH1D409gyM6vdg9z6McoehpTpbUNK2vaoaghCBBkx7zk+ToM9u2lSRpD8r0PNCUzLKMcsFIQ61fZj/K/VoYph+PxwHB9MDdts/2BCjDMKTRxX0qNGmMMaXJiobarmU0Tdtjh5rSkrxr05YSVxSlP4YtfZ2m/Nh5agKUMHOnmUzQVAllwG2WLU362peWTNNUlmWayRA95T1o0te+uuTeQ0ld14IgDHaeJ0AJFyzIsszQga2//7FaQEe+aNs2Q8+Juq7Blf3IJjCpq23bRaerl1bquu5YztOg7LrO8zxW2hZjLMvyfq43SwVBU76ua1bn3dq2NU3z/Cu8Z2KBY+8MRyhSERiSxpSfgrLrOjB5EBLrEnD6+/zrm3Hr4FjI9sklQsiyLLaTgTG3u+Z4nkc2aVhVBCbhSfHOgRLi7D576G0AAAG6SURBVDiOs3qQi6JIkqSlBnZWzd5OBz5l+k3UQY3k8ufVAhwQfNdPGOzHenY1P3Vdq6r6zPQ2B0riNagoytI1SlVVsCNM6aixunl7v1gUBYS/GWuZ+apB6zHsyPnq9n5a17Wmaa7rbq+oqipVVWfmMy9ACRxAmAeEEI0Wrus6CAJBENYFe9neZuYUmqbxPE8URcqLaR+Ph23bH7qymZFe0zSmaeq6Plgsz7wyfgTK59kYCeWpQNl1XdM0EFVH07QgCPI8748cEK8RjlxB8ONPHyDH0iyKAiEkCIJt2xjjoij608S6rrMsC4JAVVVZlqMo6j8dU/vcHIg+R7+zSlpa17XrujTfKi0oCek0TT3P0zSN53ly69n1elUUBXzYPn3+RFo6majrGmPsOI6iKNfrlUhAEARd12+3296m5kmuDs4sisIwDPj2+mPTMzbKsrzdbjBa0ZRfDMpnFX/z/zUJZFlmWRbP86Zp3u/3LMv6gCvLMk1T3/c1TRMEAcIlU4roC0pKQX2LTUugruskScBbSpIk0J8Q7RziV61QHV9QTsv6m/tGCXxB+Ubhf6uelsAXlNNy+ea+UQL/B5s9dJxM8cMKAAAAAElFTkSuQmCC)"
      ]
    },
    {
      "cell_type": "code",
      "metadata": {
        "id": "TAvG97j4GMTQ"
      },
      "source": [
        "BLANC = 1\n",
        "GRIS = 2\n",
        "NOIR = 3\n",
        "\n",
        "def parcours_recherche_cycle(g, couleur, s):\n",
        "    ''' parcours en profondeur du graphe g à partir du sommet s\n",
        "    couleur est un dictionnaire dont les clés sont les sommets de g et les valeurs sont les couleurs\n",
        "    la fonction renvoie True s'il existe un cycle passant par s '''\n",
        "    if couleur[s]==NOIR:\n",
        "        return False \n",
        "    if couleur[s]==GRIS:\n",
        "        return True \n",
        "    #sinon, le sommet est BLANC : on le colore en GRIS, PUIS on explore ses voisins, PUIS on le colore en NOIR\n",
        "    couleur[s]=GRIS\n",
        "    for v in g.voisins(s):\n",
        "        if parcours_recherche_cycle(g,couleur,v):\n",
        "            return True \n",
        "    couleur[s]=NOIR \n",
        "    return False \n",
        "\n",
        "def existe_cycle(g):\n",
        "    couleur = {}\n",
        "    for s in g.sommets():\n",
        "        couleur[s]=BLANC\n",
        "    for s in g.sommets():\n",
        "        if parcours_recherche_cycle(g,couleur,s):\n",
        "            return True \n",
        "    return False "
      ],
      "execution_count": null,
      "outputs": []
    },
    {
      "cell_type": "markdown",
      "metadata": {
        "id": "C_6e_gc-BINc"
      },
      "source": [
        "![image.png](data:image/png;base64,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)"
      ]
    },
    {
      "cell_type": "code",
      "metadata": {
        "id": "CWkRKr8cJrNs"
      },
      "source": [
        "existe_cycle(graphex1)"
      ],
      "execution_count": null,
      "outputs": []
    },
    {
      "cell_type": "code",
      "metadata": {
        "id": "xuKMe-ooKh0s"
      },
      "source": [
        "graphe_sans_cycle = Graphe(6)\n",
        "graphe_sans_cycle.ajouter_arc(1,2)\n",
        "graphe_sans_cycle.ajouter_arc(1,3)\n",
        "graphe_sans_cycle.ajouter_arc(1,4)\n",
        "graphe_sans_cycle.ajouter_arc(3,2)\n",
        "graphe_sans_cycle.ajouter_arc(3,4)\n",
        "graphe_sans_cycle.ajouter_arc(3,5)\n",
        "graphe_sans_cycle.ajouter_arc(4,5)\n",
        "\n",
        "existe_cycle(graphe_sans_cycle)"
      ],
      "execution_count": null,
      "outputs": []
    }
  ]
}