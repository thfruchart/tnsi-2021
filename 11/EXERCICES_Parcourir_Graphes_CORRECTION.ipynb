{
  "nbformat": 4,
  "nbformat_minor": 0,
  "metadata": {
    "colab": {
      "name": "Chap11_EXERCICES_Parcourir_Graphes.ipynb",
      "provenance": [],
      "collapsed_sections": [],
      "authorship_tag": "ABX9TyNPjFiFozIEXFZpI7AinWOF",
      "include_colab_link": true
    },
    "kernelspec": {
      "name": "python3",
      "display_name": "Python 3"
    }
  },
  "cells": [
    {
      "cell_type": "markdown",
      "metadata": {
        "id": "view-in-github",
        "colab_type": "text"
      },
      "source": [
        "<a href=\"https://colab.research.google.com/github/thfruchart/tnsi/blob/main/11/EXERCICES_Parcourir_Graphes_CORRECTION.ipynb\" target=\"_parent\"><img src=\"https://colab.research.google.com/assets/colab-badge.svg\" alt=\"Open In Colab\"/></a>"
      ]
    },
    {
      "cell_type": "markdown",
      "metadata": {
        "id": "u1WCV29TuXkc"
      },
      "source": [
        "# Exercice 0 : suivi de variables"
      ]
    },
    {
      "cell_type": "markdown",
      "metadata": {
        "id": "I7zSBqAiuaCh"
      },
      "source": [
        "Effectuer le suivi des variables locales à la fonction `parcours_largeur` lorsqu'on exécute la commande : \n",
        "\n",
        "`parcours_largeur(graphex,'H')`    ![image.png](data:image/png;base64,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)\n",
        "\n"
      ]
    },
    {
      "cell_type": "markdown",
      "metadata": {
        "id": "pBy7lyja4O9T"
      },
      "source": [
        "#### code fourni"
      ]
    },
    {
      "cell_type": "code",
      "metadata": {
        "id": "6gY6Zulq4Kkj"
      },
      "source": [
        "from queue import Queue\n",
        "\n",
        "class Graphe:\n",
        "    ''' graphe représenté par un dictionnaire d'adjacence'''\n",
        "    def __init__(self):\n",
        "        self.dico = {}\n",
        "    \n",
        "    def ajouter_sommet(self,s):\n",
        "        if s not in self.dico:\n",
        "            self.dico[s] = []\n",
        "    \n",
        "    def ajouter_arc(self,s1,s2):\n",
        "        self.ajouter_sommet(s1)\n",
        "        self.ajouter_sommet(s2)\n",
        "        self.dico[s1].append(s2)\n",
        "    \n",
        "    def ajouter_arete(self,s1,s2):\n",
        "        self.ajouter_sommet(s1)\n",
        "        self.ajouter_sommet(s2)\n",
        "        self.dico[s1].append(s2)\n",
        "        self.dico[s2].append(s1)\n",
        "    \n",
        "    def arc(self,s1,s2):\n",
        "        return s2 in self.dico[s1]\n",
        "    \n",
        "    def sommets(self):\n",
        "        return list(self.dico)\n",
        "\n",
        "    def voisins(self,s):\n",
        "        return self.dico[s]\n",
        "    \n",
        "def parcours_largeur(g,depart):\n",
        "    '''parcours en largeur d'un graphe g depuis un sommet depart\n",
        "    la fonction renvoie un dictionnaire avec\n",
        "    - comme clés : les sommets accessibles depuis depart\n",
        "    - comme valeurs : la distance au sommet depart'''\n",
        "    dist = {depart:0}\n",
        "    file = Queue() #file vide\n",
        "    file.put(depart)\n",
        "    while not file.empty():\n",
        "        s = file.get()  #on retire un sommet de la file\n",
        "        for v in g.voisins(s): \n",
        "            if v not in dist:\n",
        "                #  v (voisin de s) est inscrit dans le dictionnaire\n",
        "                dist[v] = dist[s] + 1 \n",
        "                # et on ajoute v dans la file\n",
        "                file.put(v)\n",
        "    return dist\n",
        "\n",
        "graphex = Graphe()\n",
        "graphex.ajouter_arete('A','B')\n",
        "graphex.ajouter_arete('A','F')\n",
        "graphex.ajouter_arete('B','C')\n",
        "graphex.ajouter_arete('B','D')\n",
        "graphex.ajouter_arete('B','G')\n",
        "graphex.ajouter_arete('F','G')\n",
        "graphex.ajouter_arete('F','H')\n",
        "graphex.ajouter_arete('C','E')\n",
        "graphex.ajouter_arete('E','I')\n",
        "graphex.ajouter_arete('D','I')\n",
        "graphex.ajouter_arete('G','I')\n",
        "graphex.ajouter_arete('H','I')"
      ],
      "execution_count": 1,
      "outputs": []
    },
    {
      "cell_type": "markdown",
      "metadata": {
        "id": "1sJ67hZc3kOB"
      },
      "source": [
        "## Exercice 1 : distance entre deux sommets"
      ]
    },
    {
      "cell_type": "markdown",
      "metadata": {
        "id": "U-xndtCb3mE_"
      },
      "source": [
        "En utilisant la fonction `parcours_largeur`, écrire une fonction `distance` qui:\n",
        "* prend en arguments \n",
        "   * un graphe `g`\n",
        "   * et deux sommets `s1`, `s2` du graphe `g`\n",
        "* renvoie la **distance entre `s1` et `s2`** lorsque `s2` est accessible depuis `s1`\n",
        "* renvoie `None` sinon."
      ]
    },
    {
      "cell_type": "markdown",
      "metadata": {
        "id": "L9ezTgzC4mkS"
      },
      "source": [
        "#### réponse"
      ]
    },
    {
      "cell_type": "code",
      "metadata": {
        "id": "GXW-TEXi4bWg",
        "outputId": "dc46a08f-5c21-4ec0-9a2a-aec62fe15eb7",
        "colab": {
          "base_uri": "https://localhost:8080/"
        }
      },
      "source": [
        "def distance(g,s1,s2):\n",
        "    dico = parcours_largeur(g,s1)\n",
        "    if s2 in dico:\n",
        "        return dico[s2]\n",
        "    else :\n",
        "        return None\n",
        "\n",
        "print(distance(graphex,'A','I'))"
      ],
      "execution_count": 8,
      "outputs": [
        {
          "output_type": "stream",
          "name": "stdout",
          "text": [
            "3\n"
          ]
        }
      ]
    },
    {
      "cell_type": "markdown",
      "metadata": {
        "id": "-XpyCCCM3-l3"
      },
      "source": [
        "## Exercice 2"
      ]
    },
    {
      "cell_type": "markdown",
      "metadata": {
        "id": "yO1_hPTB4D83"
      },
      "source": [
        "La méthode proposée dans l'exercice 1 peut être améliorée!\n",
        "\n",
        "En effet, si on cherche uniquement la distance entre s1 et s2, il est inutile de compléter le dictionnaire donnant la distance entre s1 et **tous** les sommets du graphe... il suffit de s'interrompre dès qu'on arrive à s2!\n",
        "\n",
        "Ré-écrire la fonction distance, en tenant compte de cette observation."
      ]
    },
    {
      "cell_type": "code",
      "metadata": {
        "id": "5djJ6wwO3gbx"
      },
      "source": [
        "def distance(g,s1,s2):\n",
        "    dist = {s1:0}\n",
        "    file = Queue() #file vide\n",
        "    file.put(s1)\n",
        "    while not file.empty():\n",
        "        s = file.get()  #on retire un sommet de la file\n",
        "        for v in g.voisins(s): \n",
        "            if v not in dist:\n",
        "                #  v (voisin de s) est inscrit dans le dictionnaire\n",
        "                dist[v] = dist[s] + 1 \n",
        "                # et on ajoute v dans la file\n",
        "                file.put(v)\n",
        "            if v == s2:\n",
        "                return dist[s2]\n",
        "    return "
      ],
      "execution_count": 12,
      "outputs": []
    },
    {
      "cell_type": "code",
      "source": [
        "print(distance(graphex,'A','I'))"
      ],
      "metadata": {
        "id": "IWIsX_fxnrno",
        "outputId": "7f8e1458-379d-40f1-a28f-1c56c56246e8",
        "colab": {
          "base_uri": "https://localhost:8080/"
        }
      },
      "execution_count": 14,
      "outputs": [
        {
          "output_type": "stream",
          "name": "stdout",
          "text": [
            "3\n"
          ]
        }
      ]
    },
    {
      "cell_type": "markdown",
      "metadata": {
        "id": "0-gNrD-VaREQ"
      },
      "source": [
        "# Exercice 3 : plus court chemin (nombre d'arêtes)"
      ]
    },
    {
      "cell_type": "markdown",
      "metadata": {
        "id": "GP_8NoyMaREb"
      },
      "source": [
        "**1)** En s'inspirant de l'exercice 1, écrire une fonction `optimal_predecesseurs(g,depart)` qui:\n",
        "* prend en arguments :\n",
        "   * un graphe `g`\n",
        "   * un sommet `depart`\n",
        "* et qui renvoie :\n",
        "   * un dictionnaire indiquant, pour chaque sommet, le prédécesseur optimal permettant d'atteindre ce sommet en partant de `depart`. \n",
        "   * dans ce dictionnaire, la valeur `None` sera associé à la clé `depart`"
      ]
    },
    {
      "cell_type": "code",
      "metadata": {
        "id": "bJQE4So0aacu"
      },
      "source": [
        "def optimal_predecesseurs(g,depart):\n",
        "    '''renvoie un dictionnaire donnant , pour chaque sommet accessible depuis départ\n",
        "    un prédécesseur optimal depuis ce sommet 'depart'  '''\n",
        "    predecesseur = {depart:None}\n",
        "    # pour parcourir avec une variable s : les voisins de depart, \n",
        "    # puis les voisins des voisins, etc...\n",
        "    # on utilise une file\n",
        "    file = Queue() #file vide\n",
        "    file.put(depart)\n",
        "    while not file.empty():\n",
        "        s = file.get()  #on retire un sommet de la file\n",
        "        for v in g.voisins(s): \n",
        "            if v not in predecesseur:\n",
        "                #  v (voisin de s) est inscrit dans le dictionnaire\n",
        "                predecesseur[v] = s\n",
        "                # et on ajoute v dans la file\n",
        "                file.put(v)\n",
        "    return predecesseur"
      ],
      "execution_count": 18,
      "outputs": []
    },
    {
      "cell_type": "code",
      "source": [
        "optimal_predecesseurs(graphex,'H')"
      ],
      "metadata": {
        "id": "FK0OZjSLsKyK",
        "outputId": "15e6392e-18ea-486a-e634-0e62a194c745",
        "colab": {
          "base_uri": "https://localhost:8080/"
        }
      },
      "execution_count": 19,
      "outputs": [
        {
          "output_type": "execute_result",
          "data": {
            "text/plain": [
              "{'A': 'F',\n",
              " 'B': 'A',\n",
              " 'C': 'E',\n",
              " 'D': 'I',\n",
              " 'E': 'I',\n",
              " 'F': 'H',\n",
              " 'G': 'F',\n",
              " 'H': None,\n",
              " 'I': 'H'}"
            ]
          },
          "metadata": {},
          "execution_count": 19
        }
      ]
    },
    {
      "cell_type": "markdown",
      "metadata": {
        "id": "1Ry1cnBoVshd"
      },
      "source": [
        "**2)** En déduire une fonction `chemin(g,s1,s2)` qui\n",
        "* prend en arguments \n",
        "   * un graphe `g`\n",
        "   * et deux sommets `s1`, `s2` du graphe `g`\n",
        "* renvoie un **plus court chemin entre `s1` et `s2`** lorsque `s2` est accessible depuis `s1`\n",
        "* renvoie `None` sinon."
      ]
    },
    {
      "cell_type": "code",
      "metadata": {
        "id": "89n2y6mFajAu",
        "outputId": "535eef3f-557c-438d-c6f1-9fd4cae8c51b",
        "colab": {
          "base_uri": "https://localhost:8080/"
        }
      },
      "source": [
        "def chemin(g,s1,s2):\n",
        "    '''renvoie un (plus court) chemin entre s1 et s2,\n",
        "    ou None si s2 n'est pas accessible depuis s1'''\n",
        "    dico = optimal_predecesseurs(g,s1)\n",
        "    chemin = [s2]\n",
        "    # on ajoute les prédecesseurs\n",
        "\n",
        "    # on remet le chemin dans l'ordre\n",
        "    chemin.reverse()\n",
        "    return chemin\n",
        "\n",
        "chemin(graphex,'H','B')"
      ],
      "execution_count": 21,
      "outputs": [
        {
          "output_type": "execute_result",
          "data": {
            "text/plain": [
              "['B']"
            ]
          },
          "metadata": {},
          "execution_count": 21
        }
      ]
    },
    {
      "cell_type": "code",
      "source": [
        ""
      ],
      "metadata": {
        "id": "mEM9oIB_vU6_"
      },
      "execution_count": null,
      "outputs": []
    }
  ]
}