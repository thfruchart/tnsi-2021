{
  "nbformat": 4,
  "nbformat_minor": 0,
  "metadata": {
    "colab": {
      "name": "Chap13_COURS_Programmation_Dynamique.ipynb",
      "provenance": [],
      "collapsed_sections": [
        "4qKPWI_T11QN",
        "rMSXfeWP1uwl"
      ],
      "authorship_tag": "ABX9TyN8cWEodW2/Tk3XgD7YE4Id",
      "include_colab_link": true
    },
    "kernelspec": {
      "name": "python3",
      "display_name": "Python 3"
    }
  },
  "cells": [
    {
      "cell_type": "markdown",
      "metadata": {
        "id": "view-in-github",
        "colab_type": "text"
      },
      "source": [
        "<a href=\"https://colab.research.google.com/github/thfruchart/tnsi/blob/main/13/COURS_Programmation_Dynamique.ipynb\" target=\"_parent\"><img src=\"https://colab.research.google.com/assets/colab-badge.svg\" alt=\"Open In Colab\"/></a>"
      ]
    },
    {
      "cell_type": "markdown",
      "metadata": {
        "id": "NiZlK3PavqKD"
      },
      "source": [
        "# Principe de la programmation dynamique"
      ]
    },
    {
      "cell_type": "markdown",
      "metadata": {
        "id": "8PIynBPyvszC"
      },
      "source": [
        "1. La méthode diviser pour régner conduit à écrire des fonctions **récursives**. \n",
        "2. Dans certains problèmes d'optimisation,  on recherche une solution optimale en **combinant plusieurs solutions** obtenus sur des problèmes de plus petite taille. \n",
        "\n",
        "Mais dans certains cas, les problèmes obtenus par division ne sont pas tous indépendants : il est alors possible que la récursivité consuise à résoudre **plusieurs fois un même problème** de base... \n",
        "\n",
        "C'est à cet inconvénient que répond la **programmation dynamique**.\n",
        "\n",
        "L'idée essentielle est de stocker les résultats déjà obtenus pour éviter de recalculer plusieurs fois la même chose!"
      ]
    },
    {
      "cell_type": "markdown",
      "metadata": {
        "id": "qOglyKbUxA7j"
      },
      "source": [
        "## Mémoïsation"
      ]
    },
    {
      "cell_type": "markdown",
      "metadata": {
        "id": "kBeglLYJya_D"
      },
      "source": [
        "### On reprend l'exemple de la suite de Fibonacci"
      ]
    },
    {
      "cell_type": "markdown",
      "metadata": {
        "id": "I23vqTSaxR1e"
      },
      "source": [
        "#### mémoïsation dans une liste"
      ]
    },
    {
      "cell_type": "code",
      "metadata": {
        "id": "wQWitIljvl-N"
      },
      "source": [
        "def fibo_memo_tableau(n, tab = []):\n",
        "    if n == 0:\n",
        "        return [0]\n",
        "    elif n == 1:\n",
        "        return [0, 1]\n",
        "    else :\n",
        "        tab = fibo_memo_tableau(n-1, tab)\n",
        "        tab.append(tab[n-1]+tab[n-2])\n",
        "        return tab"
      ],
      "execution_count": null,
      "outputs": []
    },
    {
      "cell_type": "markdown",
      "metadata": {
        "id": "tL9B-4T1zVrl"
      },
      "source": [
        "#### visualisation des appels récursifs"
      ]
    },
    {
      "cell_type": "code",
      "metadata": {
        "colab": {
          "base_uri": "https://localhost:8080/"
        },
        "id": "V9VX1dw7zZVb",
        "outputId": "4463da6d-8e96-43cd-c52c-fd8e9ddaffc6"
      },
      "source": [
        "space = '  *  '\n",
        "\n",
        "def fibo_memo_tableau(n, tab = [], depth=0):\n",
        "    if n == 0:\n",
        "        print(space * depth, [0])\n",
        "        return [0]\n",
        "    elif n == 1:\n",
        "        print(space * depth, [0, 1])\n",
        "        return [0, 1]\n",
        "    else :\n",
        "        print(space * depth, f'fibo_memo_tableau({n-1}, {tab})')\n",
        "        tab = fibo_memo_tableau(n-1, tab, depth+1)\n",
        "        tab.append(tab[n-1]+tab[n-2])\n",
        "        print(space * depth, tab)\n",
        "        return tab\n",
        "\n",
        "fibo_memo_tableau(5)"
      ],
      "execution_count": null,
      "outputs": [
        {
          "output_type": "stream",
          "text": [
            " fibo_memo_tableau(4, [])\n",
            "  *   fibo_memo_tableau(3, [])\n",
            "  *    *   fibo_memo_tableau(2, [])\n",
            "  *    *    *   fibo_memo_tableau(1, [])\n",
            "  *    *    *    *   [0, 1]\n",
            "  *    *    *   [0, 1, 1]\n",
            "  *    *   [0, 1, 1, 2]\n",
            "  *   [0, 1, 1, 2, 3]\n",
            " [0, 1, 1, 2, 3, 5]\n"
          ],
          "name": "stdout"
        },
        {
          "output_type": "execute_result",
          "data": {
            "text/plain": [
              "[0, 1, 1, 2, 3, 5]"
            ]
          },
          "metadata": {
            "tags": []
          },
          "execution_count": 7
        }
      ]
    },
    {
      "cell_type": "markdown",
      "metadata": {
        "id": "Cm_kEqtd0c-a"
      },
      "source": [
        "#### mémoïsation dans un dictionnaire"
      ]
    },
    {
      "cell_type": "code",
      "metadata": {
        "colab": {
          "base_uri": "https://localhost:8080/"
        },
        "id": "tQm-LN0n0sPP",
        "outputId": "7c2a0ced-5692-4484-9c7d-46c4d7d51921"
      },
      "source": [
        "def fibo_memo_dico(n, d= {}):\n",
        "    if n in d:\n",
        "        return d[n]\n",
        "    elif n <=1:\n",
        "        return n\n",
        "    else : \n",
        "        resu = fibo_memo_dico(n-1, d) + fibo_memo_dico(n-2, d)\n",
        "        d[n] = resu\n",
        "        print(d)\n",
        "        return resu \n",
        "\n",
        "fibo_memo_dico(7)"
      ],
      "execution_count": null,
      "outputs": [
        {
          "output_type": "stream",
          "text": [
            "{2: 1}\n",
            "{2: 1, 3: 2}\n",
            "{2: 1, 3: 2, 4: 3}\n",
            "{2: 1, 3: 2, 4: 3, 5: 5}\n",
            "{2: 1, 3: 2, 4: 3, 5: 5, 6: 8}\n",
            "{2: 1, 3: 2, 4: 3, 5: 5, 6: 8, 7: 13}\n"
          ],
          "name": "stdout"
        },
        {
          "output_type": "execute_result",
          "data": {
            "text/plain": [
              "13"
            ]
          },
          "metadata": {
            "tags": []
          },
          "execution_count": 13
        }
      ]
    },
    {
      "cell_type": "code",
      "metadata": {
        "colab": {
          "base_uri": "https://localhost:8080/"
        },
        "id": "pkkVudKk1xKZ",
        "outputId": "1bf5f3c3-b3a5-4f8e-818f-4cf162d1c9ac"
      },
      "source": [
        "fibo_memo_dico(12)"
      ],
      "execution_count": null,
      "outputs": [
        {
          "output_type": "stream",
          "text": [
            "{2: 1, 3: 2, 4: 3, 5: 5, 6: 8, 7: 13, 8: 21, 9: 34}\n",
            "{2: 1, 3: 2, 4: 3, 5: 5, 6: 8, 7: 13, 8: 21, 9: 34, 10: 55}\n",
            "{2: 1, 3: 2, 4: 3, 5: 5, 6: 8, 7: 13, 8: 21, 9: 34, 10: 55, 11: 89}\n",
            "{2: 1, 3: 2, 4: 3, 5: 5, 6: 8, 7: 13, 8: 21, 9: 34, 10: 55, 11: 89, 12: 144}\n"
          ],
          "name": "stdout"
        },
        {
          "output_type": "execute_result",
          "data": {
            "text/plain": [
              "144"
            ]
          },
          "metadata": {
            "tags": []
          },
          "execution_count": 15
        }
      ]
    },
    {
      "cell_type": "markdown",
      "metadata": {
        "id": "i2v1lsEB2c_-"
      },
      "source": [
        "#### solution itérative"
      ]
    },
    {
      "cell_type": "markdown",
      "metadata": {
        "id": "LyUVe2ne2gZR"
      },
      "source": [
        "La suite de Fibonacci est un bon exemple pour expliquer le principe de la programmation dynamique...\n",
        "\n",
        "Mais la meilleure façon de programmer une fonction qui calcule cette suite est d'utiliser une version itérative !"
      ]
    },
    {
      "cell_type": "code",
      "metadata": {
        "id": "ebdFS29s2xff"
      },
      "source": [
        "def fibo(n):\n",
        "    if n <= 1:\n",
        "        return n\n",
        "    a, b = 0, 1\n",
        "    for i in range(1,n):\n",
        "        c = a+b \n",
        "        print( a, '+',b,'=',c)\n",
        "        a = b \n",
        "        b = c \n",
        "    \n",
        "    return c "
      ],
      "execution_count": null,
      "outputs": []
    },
    {
      "cell_type": "code",
      "metadata": {
        "id": "WVyt-Hi437D1"
      },
      "source": [
        "fibo(7)"
      ],
      "execution_count": null,
      "outputs": []
    },
    {
      "cell_type": "markdown",
      "metadata": {
        "id": "umccgTkG4kcd"
      },
      "source": [
        "ou encore plus simple (avec seulement deux variables)"
      ]
    },
    {
      "cell_type": "code",
      "metadata": {
        "id": "llCUKsfS4mtL"
      },
      "source": [
        "def fibo(n):\n",
        "    if n <= 1:\n",
        "        return n\n",
        "    a, b = 0, 1\n",
        "    for i in range(1,n):\n",
        "        a, b = b, a+b     \n",
        "    return b "
      ],
      "execution_count": null,
      "outputs": []
    },
    {
      "cell_type": "markdown",
      "metadata": {
        "id": "-WHscFjSq_IO"
      },
      "source": [
        "# Problème du \"rendu monnaie\""
      ]
    },
    {
      "cell_type": "markdown",
      "metadata": {
        "id": "P5mX1RiarCam"
      },
      "source": [
        "On rappelle que ce problème consiste à trouver comment rendre une somme S en un minimum de pièces (ou billets). \n",
        "\n",
        "Il est possible de travailler avec des centimes, ou des euros (ou les deux). \n",
        "\n",
        "Pour simplifier, nous allons considérer le problème qui consiste à rendre une somme inférieure à 1€, donc entre 1 et 99 centimes.\n",
        "\n",
        "Le système monétaire classique peut se représenter sous la forme `[50, 20, 10, 5, 2, 1]` qui sont les valeurs des pièces inférieures à 1€.\n",
        "\n",
        "\n",
        "Nous avons vu en première que pour ce système, un algorithme glouton donne une solution optimale (voir cellule suivante)."
      ]
    },
    {
      "cell_type": "code",
      "metadata": {
        "colab": {
          "base_uri": "https://localhost:8080/"
        },
        "id": "JshbGq-2sKZJ",
        "outputId": "fa92624c-3ce5-46f0-e022-f9a16c51f6eb"
      },
      "source": [
        "def monnaie(valeur):\n",
        "    \"\"\" valeur est un nombre entier entre 1 et 99 qui représente un nombre de centimes\n",
        "    la fonction calcule le plus petit nombre de pièces parmi 1, 2, 5, 10, 20, 50\n",
        "    dont la somme est égale à valeur.\n",
        "    la fonction AFFICHE les pièces qu'il faut rendre, et\n",
        "    RETOURNE le nombre de pièces utilisées\"\"\"\n",
        "    resu = 0\n",
        "    for piece in [50, 20, 10, 5, 2, 1]:\n",
        "        while valeur >= piece:\n",
        "            print(piece, \"c\")\n",
        "            valeur = valeur - piece\n",
        "            resu +=1\n",
        "    return resu\n",
        "\n",
        "monnaie(93)"
      ],
      "execution_count": null,
      "outputs": [
        {
          "output_type": "stream",
          "text": [
            "50 c\n",
            "20 c\n",
            "20 c\n",
            "2 c\n",
            "1 c\n"
          ],
          "name": "stdout"
        },
        {
          "output_type": "execute_result",
          "data": {
            "text/plain": [
              "5"
            ]
          },
          "metadata": {
            "tags": []
          },
          "execution_count": 1
        }
      ]
    },
    {
      "cell_type": "markdown",
      "metadata": {
        "id": "kuE1lbCZs1_l"
      },
      "source": [
        "#### que donne l'algorithme glouton avec un système \"non conventionnel\"? "
      ]
    },
    {
      "cell_type": "markdown",
      "metadata": {
        "id": "uspINxpNs66z"
      },
      "source": [
        "Dans la suite, on considère des systèmes non conventionnels, dans lesquels il existe au moins une pièce de valeur 1. \n",
        "\n",
        "Imaginons un système dans lequel les valeurs des pièces (en centimes) sont : `[60, 50, 30, 15, 7, 3, 1]`. \n",
        "* Quelle solution donnerait l'algorithme glouton ci-dessus pour rendre 65 centimes  ?\n",
        "* Pourquoi cette solution n'est-elle pas optimale?"
      ]
    },
    {
      "cell_type": "code",
      "metadata": {
        "id": "PccxDR_huGgo"
      },
      "source": [
        ""
      ],
      "execution_count": null,
      "outputs": []
    },
    {
      "cell_type": "markdown",
      "metadata": {
        "id": "M-jT1qDCuIy9"
      },
      "source": [
        "#### Explorer toutes les possibilités ?"
      ]
    },
    {
      "cell_type": "markdown",
      "metadata": {
        "id": "2etv44zfuMmR"
      },
      "source": [
        "Pour un système non conventionnel (et pour un grand nombre de problèmes d'optimisation), il est parfois nécessaire de tester **toutes** les possibilités pour être certain de trouver la meilleure. \n",
        "\n",
        "Observer le programme ci-dessous, écrit pour réaliser cet objectif. "
      ]
    },
    {
      "cell_type": "code",
      "metadata": {
        "id": "ag-oy2vhudyZ"
      },
      "source": [
        "pieces = [60, 50, 30, 15, 7, 3, 1]\n",
        "\n",
        "def rendu_monnaie(s):\n",
        "    ''' renvoie le nombre minimum de pieces nécessaires pour rendre la somme s'''\n",
        "    if s == 0:\n",
        "        return 0\n",
        "    rendu = s # solution non optimale qui consiste à ne rendre que des pièces de 1 centime!\n",
        "    for p in pieces :\n",
        "        if p <= s : \n",
        "            rendu = min(rendu, 1+rendu_monnaie(s-p))\n",
        "    return rendu \n",
        "\n",
        "rendu_monnaie(8)"
      ],
      "execution_count": null,
      "outputs": []
    },
    {
      "cell_type": "markdown",
      "metadata": {
        "id": "2OUlSJKov4S4"
      },
      "source": [
        "* que se passe-t-il si on exécute rendu_monnaie(65) ?"
      ]
    },
    {
      "cell_type": "code",
      "metadata": {
        "id": "9mLyAoe7wEfs"
      },
      "source": [
        ""
      ],
      "execution_count": null,
      "outputs": []
    },
    {
      "cell_type": "markdown",
      "metadata": {
        "id": "VHzzImOjwFEu"
      },
      "source": [
        "Écrire les appels récursifs effectués par `rendu_monnaie(10)`"
      ]
    },
    {
      "cell_type": "code",
      "metadata": {
        "id": "s11fQO4DwYl9"
      },
      "source": [
        "pieces = [60, 50, 30, 15, 7, 3, 1]\n",
        "space = ' . '\n",
        "def appels_rec_rendu_monnaie(s, depth=0):\n",
        "    ''' renvoie le nombre minimum de pieces nécessaires pour rendre la somme s'''\n",
        "    if s == 0:\n",
        "        return 0\n",
        "    rendu = s # solution non optimale qui consiste à ne rendre que des pièces de 1 centime!\n",
        "    for p in pieces :\n",
        "        if p <= s : \n",
        "            print(space * depth, p, f'+ rendu_monnaie({s-p})')\n",
        "            rendu = min(rendu, 1+appels_rec_rendu_monnaie(s-p, depth+1))\n",
        "    return rendu \n",
        "\n",
        "appels_rec_rendu_monnaie(10)"
      ],
      "execution_count": null,
      "outputs": []
    },
    {
      "cell_type": "markdown",
      "metadata": {
        "id": "C4NP2FgKxUS_"
      },
      "source": [
        "## Mémoïsation"
      ]
    },
    {
      "cell_type": "markdown",
      "metadata": {
        "id": "Q7X1vsPrxYde"
      },
      "source": [
        "On va écrire une fonction `rendu_monnaie_tab(s)` qui:\n",
        "* prend en argument une somme s\n",
        "* renvoie un tableau contenant le nombre de pièces du rendu optimal pour chaque somme de 0 à s. "
      ]
    },
    {
      "cell_type": "code",
      "metadata": {
        "colab": {
          "base_uri": "https://localhost:8080/"
        },
        "id": "pKA2rqsBxzzP",
        "outputId": "20702da6-aabf-4734-f50f-a6a781e47d9d"
      },
      "source": [
        "pieces = [60, 50, 30, 15, 7, 3, 1]\n",
        "\n",
        "def rendu_monnaie_tab(s):\n",
        "    ''' renvoie le nombre minimum de pieces nécessaires pour rendre la somme s'''\n",
        "    tab = [ n for n in range(s+1)]# solution non optimale qui consiste à ne rendre que des pièces de 1 centime!\n",
        "    for n in range(2, s+1):\n",
        "        for p in pieces :\n",
        "            if p <= n : \n",
        "                tab[n] = min(tab[n], 1+tab[n-p])\n",
        "    return tab \n",
        "\n",
        "rendu_monnaie_tab(10)"
      ],
      "execution_count": null,
      "outputs": [
        {
          "output_type": "execute_result",
          "data": {
            "text/plain": [
              "[0, 1, 2, 1, 2, 3, 2, 1, 2, 3, 2]"
            ]
          },
          "metadata": {
            "tags": []
          },
          "execution_count": 10
        }
      ]
    },
    {
      "cell_type": "markdown",
      "metadata": {
        "id": "4qKPWI_T11QN"
      },
      "source": [
        "### Correction"
      ]
    },
    {
      "cell_type": "markdown",
      "metadata": {
        "id": "rUk1eHwWzI_I"
      },
      "source": [
        "\n",
        "\n",
        "Pour chaque nombre `n` à rendre : \n",
        "* toutes les possibilités sont explorées pour le choix de la première pièce avec la boucle `for p in pieces :`\n",
        "* la solution obtenue est optimale grâce à la fonction **`min`**, du moment que `tab[:n]` ne contient que des valeurs optimales. \n",
        "\n",
        "On peut donc écrire un **invariant** pour la boucle `for n in range(2, s+1):`\n",
        "* `tab[:n]` donne le nombre minimal de pièces à rendre pour toutes les sommes strictement inférieures à  `n`. \n",
        "\n",
        "Cet invariant justifie la **correction** de l'algorithme."
      ]
    },
    {
      "cell_type": "markdown",
      "metadata": {
        "id": "rMSXfeWP1uwl"
      },
      "source": [
        "### Efficacité"
      ]
    },
    {
      "cell_type": "markdown",
      "metadata": {
        "id": "mzyetkbh13SQ"
      },
      "source": [
        "L'algorithme contient deux boucles for imbriquées:\n",
        "* `for n in range(2, s+1):` est exécutée `s-1` fois\n",
        "* à chaque fois, `for p in pieces :` est exécutée 7 fois (nombre de pièces dans le système non conventionnel). \n",
        "\n",
        "Le coût est temps est donc de l'ordre de `len(pieces) x s`"
      ]
    },
    {
      "cell_type": "markdown",
      "metadata": {
        "id": "Bp-PylP52oZu"
      },
      "source": [
        "### Construire une solution"
      ]
    },
    {
      "cell_type": "markdown",
      "metadata": {
        "id": "BBKt6Smu2sBV"
      },
      "source": [
        "Compléter la fonction suivante pour qu'elle renvoie, non pas le nombre de pièces minimal, mais la liste des pièces qui permet de rendre la somme s. "
      ]
    },
    {
      "cell_type": "code",
      "metadata": {
        "colab": {
          "base_uri": "https://localhost:8080/"
        },
        "id": "GrbbWE1z27ea",
        "outputId": "979e3e98-a7bf-4aae-c01e-06b34c161d3b"
      },
      "source": [
        "pieces = [60, 50, 30, 15, 7, 3, 1]\n",
        "\n",
        "def rendu_monnaie_detail(s):\n",
        "    ''' renvoie la plus petite liste pieces nécessaires pour rendre la somme s'''\n",
        "    tab = [ n for n in range(s+1)]# solution non optimale qui consiste à ne rendre que des pièces de 1 centime!\n",
        "    details = [ [] for n in range(s+1)] # liste vide = solution correcte uniquement pour 0\n",
        "    for n in range(1, s+1):\n",
        "        for p in pieces :\n",
        "            if p <= n  and tab[n] >= 1+tab[n-p]: \n",
        "                tab[n] = 1+tab[n-p]\n",
        "                details[n] = details[...]+[p] # ligne à compléter\n",
        "    return details[s] \n",
        "\n",
        "rendu_monnaie_detail(65)"
      ],
      "execution_count": null,
      "outputs": [
        {
          "output_type": "execute_result",
          "data": {
            "text/plain": [
              "[50, 15]"
            ]
          },
          "metadata": {
            "tags": []
          },
          "execution_count": 21
        }
      ]
    },
    {
      "cell_type": "markdown",
      "metadata": {
        "id": "bKs31V6d4kUO"
      },
      "source": [
        "## Autres exemples \n",
        "\n",
        "* [chemins de Pascal](http://therese.eveilleau.pagesperso-orange.fr/pages/truc_mat/textes/chemins.htm)"
      ]
    }
  ]
}
