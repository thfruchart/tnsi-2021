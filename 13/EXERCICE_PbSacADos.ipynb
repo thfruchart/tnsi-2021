{
  "nbformat": 4,
  "nbformat_minor": 0,
  "metadata": {
    "colab": {
      "name": "Chap13_EXERCICE_PbSacADos.ipynb",
      "provenance": [],
      "collapsed_sections": [],
      "authorship_tag": "ABX9TyOH7DkRMcGHuTdGKI3FALQ6",
      "include_colab_link": true
    },
    "kernelspec": {
      "name": "python3",
      "display_name": "Python 3"
    }
  },
  "cells": [
    {
      "cell_type": "markdown",
      "metadata": {
        "id": "view-in-github",
        "colab_type": "text"
      },
      "source": [
        "<a href=\"https://colab.research.google.com/github/thfruchart/tnsi/blob/main/13/EXERCICE_PbSacADos.ipynb\" target=\"_parent\"><img src=\"https://colab.research.google.com/assets/colab-badge.svg\" alt=\"Open In Colab\"/></a>"
      ]
    },
    {
      "cell_type": "markdown",
      "metadata": {
        "id": "BPy_jekSEe7c"
      },
      "source": [
        "# EXERCICE : problème du sac à dos"
      ]
    },
    {
      "cell_type": "markdown",
      "metadata": {
        "id": "SvZlyehHEikf"
      },
      "source": [
        "On dispose d'une liste de 6 objets dont on donne la valeur et la masse :\n",
        "\n",
        "|Objet|Valeur|Masse|\n",
        "|:----|:-----|:-----|\n",
        "|Objet1|126|14|\n",
        "|Objet2|32|2|\n",
        "|Objet3|20|5|\n",
        "|Objet4|5|1|\n",
        "|Objet5|18|6|\n",
        "|Objet6|80|8|\n",
        "\n",
        "On dispose d'un sac à dos pouvant porter au maximum 15kg.\n",
        "\n",
        "Quel(s) objet(s) faut-il prendre pour maximiser la valeur transportée dans ce sac ?"
      ]
    },
    {
      "cell_type": "code",
      "metadata": {
        "id": "H4stFSbFEW1I"
      },
      "source": [
        "objets = [('objet1', 126, 14),\n",
        "          ('objet2', 32, 2),\n",
        "          ('objet3', 20, 5),\n",
        "          ('objet4', 5, 1),\n",
        "          ('objet5', 18, 6),\n",
        "          ('objet6', 80, 8)]\n",
        "\n",
        "def nom(objet):\n",
        "    return objet[0]\n",
        "\n",
        "def valeur(objet):\n",
        "    return objet[1]\n",
        "\n",
        "def masse(objet) : \n",
        "    return objet[2]"
      ],
      "execution_count": 1,
      "outputs": []
    },
    {
      "cell_type": "markdown",
      "metadata": {
        "id": "QTtPJOvzF4Kc"
      },
      "source": [
        "On définit une fonction récursive, qui :\n",
        "* prend en arguments : \n",
        "   * une liste d'objets encore disponibles (non déjà mis dans le sac)\n",
        "   * un poids encore disponible dans le sac\n",
        "* cette fonction renvoie un tuple de longueur 2 contenant : \n",
        "   * la valeur maximale des objets qu'on peut mettre dans le sac\n",
        "   * la liste des objets choisis donnant cette valeur maximale."
      ]
    },
    {
      "cell_type": "code",
      "metadata": {
        "id": "HdV9mVMDHJVw"
      },
      "source": [
        "def optimise(liste_objets_dispo, masse_restante):\n",
        "    if liste_objets_dispo == []  or masse_restante == 0:\n",
        "        return (0, [])\n",
        "    # on prend le premier élément disponible\n",
        "    element = liste_objets_dispo[0] \n",
        "    # cas où cet élément est trop lourd : \n",
        "    if masse(element) > masse_restante:\n",
        "        return optimise(liste_objets_dispo[1:], masse_restante)\n",
        "    # sinon\n",
        "    # valeur optimale AVEC l'élément\n",
        "    valeur_avec, liste_avec = optimise(liste_objets_dispo[1:], masse_restante-masse(element))\n",
        "    valeur_avec += valeur(element)\n",
        "    # valeur optimale SANS l'élément\n",
        "    valeur_sans, liste_sans = optimise (liste_objets_dispo[1:], masse_restante)\n",
        "    # on retient le meilleur choix\n",
        "    if valeur_avec > valeur_sans:\n",
        "        return (valeur_avec, liste_avec + [element])\n",
        "    else :\n",
        "        return (valeur_sans, liste_sans)"
      ],
      "execution_count": 4,
      "outputs": []
    },
    {
      "cell_type": "markdown",
      "metadata": {
        "id": "InQ4iPCbUBxl"
      },
      "source": [
        "1. étudier l'algorithme de cette fonction pour comprendre comment il fonctionne\n",
        "2. si on souhaite résoudre ce problème avec une liste d'objets disponible de plus en plus longue, quel impact cela a-t-il sur le temps d'exécution de la fonction?\n",
        "   * on pourra tester avec une liste `objets` contenant 10, 15, 20 valeurs...\n",
        "3. Proposer une nouvelle fonction d'optimisation, qui utilise la technique de mémoïsation (programmation dynamique). On pourra utiliser un dictionnaire.\n",
        "   * tester cette nouvelle fonction avec une liste `objets` contenant 10, 15, 20 valeurs...\n",
        "   * conclure sur l'utilité de la programmation dynamique. "
      ]
    },
    {
      "cell_type": "code",
      "source": [
        "optimise(objets,20)"
      ],
      "metadata": {
        "id": "5cJnGVlDi3Cx",
        "outputId": "5be52c6f-e289-455e-b109-54cdd7447692",
        "colab": {
          "base_uri": "https://localhost:8080/"
        }
      },
      "execution_count": 5,
      "outputs": [
        {
          "output_type": "execute_result",
          "data": {
            "text/plain": [
              "(163, [('objet4', 5, 1), ('objet2', 32, 2), ('objet1', 126, 14)])"
            ]
          },
          "metadata": {},
          "execution_count": 5
        }
      ]
    }
  ]
}