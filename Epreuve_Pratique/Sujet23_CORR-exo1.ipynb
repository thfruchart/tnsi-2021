{
  "nbformat": 4,
  "nbformat_minor": 0,
  "metadata": {
    "colab": {
      "name": "Epreuve_Pratique_Sujet23.ipynb",
      "provenance": [],
      "authorship_tag": "ABX9TyMYr+tj+crkEB17Iy6dx17V",
      "include_colab_link": true
    },
    "kernelspec": {
      "name": "python3",
      "display_name": "Python 3"
    },
    "language_info": {
      "name": "python"
    }
  },
  "cells": [
    {
      "cell_type": "markdown",
      "metadata": {
        "id": "view-in-github",
        "colab_type": "text"
      },
      "source": [
        "<a href=\"https://colab.research.google.com/github/thfruchart/tnsi/blob/main/Epreuve_Pratique/Sujet23_CORR-exo1.ipynb\" target=\"_parent\"><img src=\"https://colab.research.google.com/assets/colab-badge.svg\" alt=\"Open In Colab\"/></a>"
      ]
    },
    {
      "cell_type": "markdown",
      "source": [
        "# Exercice 1"
      ],
      "metadata": {
        "id": "ZdsRVYloi8lK"
      }
    },
    {
      "cell_type": "markdown",
      "source": [
        "L’occurrence d’un caractère dans un phrase est le nombre de fois où ce caractère est\n",
        "présent.\n",
        "\n",
        "Exemples :\n",
        "\n",
        "* l’occurrence du caractère ‘o’ dans ‘bonjour’ est 2 ;\n",
        "* l’occurrence du caractère ‘b’ dans ‘Bébé’ est 1 ;\n",
        "* l’occurrence du caractère ‘B’ dans ‘Bébé’ est 1 ;\n",
        "* l’occurrence du caractère ‘ ‘ dans ‘Hello world !’ est 2.\n",
        "\n",
        "On cherche les occurrences des caractères dans une phrase. On souhaite stocker ces\n",
        "occurrences dans un dictionnaire dont les clefs seraient les caractères de la phrase et\n",
        "les valeurs l’occurrence de ces caractères.\n",
        "Par exemple : avec la phrase `'Hello world !'` le dictionnaire est le suivant :\n",
        "`{'H': 1,'e': 1,'l': 3,'o': 2,' ': 2,'w': 1,'r': 1,'d': 1,'!': 1}`\n",
        "(l’ordre des clefs n’ayant pas d’importance).\n",
        "\n",
        "Écrire une fonction `occurence_lettres` avec prenant comme paramètre une variable\n",
        "`phrase` de type str. Cette fonction doit renvoyer un dictionnaire de type `dict` constitué des\n",
        "occurrences des caractères présents dans la phrase."
      ],
      "metadata": {
        "id": "1YmwcMyNideo"
      }
    },
    {
      "cell_type": "code",
      "execution_count": 11,
      "metadata": {
        "id": "a_m3R_coibZH"
      },
      "outputs": [],
      "source": [
        "def occurence_lettres(phrase):\n",
        "    d = {}\n",
        "    for lettre in phrase : \n",
        "        if lettre in d : # si lettre est déjà une clé du dictionnaire d \n",
        "            d[lettre] += 1\n",
        "        else : # c'est la première occurrence de la lettre\n",
        "            d[lettre] = 1\n",
        "        \n",
        "    return d "
      ]
    },
    {
      "cell_type": "code",
      "source": [
        "occurence_lettres('Abba')"
      ],
      "metadata": {
        "id": "2rdDyW5JcFFV",
        "outputId": "d962ea7b-b315-42c1-dcc8-f425cccc287e",
        "colab": {
          "base_uri": "https://localhost:8080/"
        }
      },
      "execution_count": 12,
      "outputs": [
        {
          "output_type": "execute_result",
          "data": {
            "text/plain": [
              "{'A': 1, 'a': 1, 'b': 2}"
            ]
          },
          "metadata": {},
          "execution_count": 12
        }
      ]
    },
    {
      "cell_type": "code",
      "source": [
        "occurence_lettres('Hello world !')"
      ],
      "metadata": {
        "id": "4mMkh4dJ66na",
        "outputId": "6eac5635-8bf9-4276-f2df-ff63bf10d86c",
        "colab": {
          "base_uri": "https://localhost:8080/"
        }
      },
      "execution_count": 13,
      "outputs": [
        {
          "output_type": "execute_result",
          "data": {
            "text/plain": [
              "{' ': 2, '!': 1, 'H': 1, 'd': 1, 'e': 1, 'l': 3, 'o': 2, 'r': 1, 'w': 1}"
            ]
          },
          "metadata": {},
          "execution_count": 13
        }
      ]
    },
    {
      "cell_type": "markdown",
      "source": [
        "# Exercice 2"
      ],
      "metadata": {
        "id": "zXT8qsnbi_ki"
      }
    },
    {
      "cell_type": "markdown",
      "source": [
        "La fonction `fusion` prend deux listes `L1`,`L2` d’entiers triées par ordre croissant et les \n",
        "fusionne en une liste triée `L12` qu’elle renvoie.\n",
        "Le code Python de la fonction est\n",
        "\n",
        "    def fusion(L1,L2):\n",
        "        n1 = len(L1)\n",
        "        n2 = len(L2)\n",
        "        L12 = [0]*(n1+n2)\n",
        "        i1 = 0\n",
        "        i2 = 0\n",
        "        i = 0\n",
        "        while i1 < n1 and ... :\n",
        "            if L1[i1] < L2[i2]:\n",
        "                L12[i] = ...\n",
        "                i1 = ...\n",
        "            else:\n",
        "                L12[i] = L2[i2]\n",
        "                i2 = ...\n",
        "            i += 1\n",
        "        while i1 < n1:\n",
        "            L12[i] = ...\n",
        "            i1 = i1 + 1\n",
        "            i = ...\n",
        "        while i2 < n2:\n",
        "            L12[i] = ...\n",
        "            i2 = i2 + 1\n",
        "            i = ...\n",
        "        return L12"
      ],
      "metadata": {
        "id": "ZSuigYbNjEfE"
      }
    },
    {
      "cell_type": "markdown",
      "source": [
        "Compléter le code.\n",
        "\n",
        "Exemple :\n",
        "\n",
        "    >>> fusion([1,6,10],[0,7,8,9])\n",
        "    [0, 1, 6, 7, 8, 9, 10]"
      ],
      "metadata": {
        "id": "TwyiqD-EjTRz"
      }
    },
    {
      "cell_type": "code",
      "source": [
        "def fusion(L1,L2):\n",
        "    n1 = len(L1)\n",
        "    n2 = len(L2)\n",
        "    L12 = [0]*(n1+n2)\n",
        "    i1 = 0\n",
        "    i2 = 0\n",
        "    i = 0\n",
        "    while i1 < n1 and ... :\n",
        "        if L1[i1] < L2[i2]:\n",
        "            L12[i] = ...\n",
        "            i1 = ...\n",
        "        else:\n",
        "            L12[i] = L2[i2]\n",
        "            i2 = ...\n",
        "        i += 1\n",
        "    while i1 < n1:\n",
        "    \tL12[i] = ...\n",
        "    \ti1 = i1 + 1\n",
        "    \ti = ...\n",
        "    while i2 < n2:\n",
        "    \tL12[i] = ...\n",
        "    \ti2 = i2 + 1\n",
        "    \ti = ...\n",
        "    return L12\n"
      ],
      "metadata": {
        "id": "2ui-7fmkjVfF"
      },
      "execution_count": null,
      "outputs": []
    }
  ]
}