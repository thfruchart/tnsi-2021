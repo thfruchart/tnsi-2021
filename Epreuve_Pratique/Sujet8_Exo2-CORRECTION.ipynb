{
  "nbformat": 4,
  "nbformat_minor": 0,
  "metadata": {
    "colab": {
      "name": "Epreuve_Pratique_Sujet8.ipynb",
      "provenance": [],
      "collapsed_sections": [],
      "authorship_tag": "ABX9TyMbro/YhTdnTcoDwx3Wk3/S",
      "include_colab_link": true
    },
    "kernelspec": {
      "name": "python3",
      "display_name": "Python 3"
    }
  },
  "cells": [
    {
      "cell_type": "markdown",
      "metadata": {
        "id": "view-in-github",
        "colab_type": "text"
      },
      "source": [
        "<a href=\"https://colab.research.google.com/github/thfruchart/tnsi/blob/main/Epreuve_Pratique/Sujet8_Exo2-CORRECTION.ipynb\" target=\"_parent\"><img src=\"https://colab.research.google.com/assets/colab-badge.svg\" alt=\"Open In Colab\"/></a>"
      ]
    },
    {
      "cell_type": "markdown",
      "metadata": {
        "id": "XJNLFqJshz4d"
      },
      "source": [
        "# Exercice 2"
      ]
    },
    {
      "cell_type": "markdown",
      "metadata": {
        "id": "jfAisy9qzFyZ"
      },
      "source": [
        "## AVANT d'aborder l'exercice 2 : revoir le concept d'[algorithme **glouton**](https://pixees.fr/informatiquelycee/n_site/nsi_prem_glouton_algo.html)"
      ]
    },
    {
      "cell_type": "markdown",
      "metadata": {
        "id": "EHbzpJSGh3xE"
      },
      "source": [
        "On s’intéresse à un algorithme récursif qui permet de rendre la monnaie à partir d’une liste donnée de valeurs de pièces et de billets \n",
        "* le système monétaire est donné sous forme d’une `liste pieces=[100, 50, 20, 10, 5, 2, 1]` \n",
        "* on supposera qu’il n’y a pas de limitation quant à leur nombre, \n",
        "* on cherche à donner la liste de pièces à rendre pour une somme donnée en argument.\n",
        "\n",
        "\n",
        "Compléter le code Python ci-dessous de la fonction `rendu_glouton` qui implémente cet algorithme et renvoie la liste des pièces à rendre\n",
        "\n",
        "\n",
        "On devra obtenir :\n",
        "```\n",
        ">>>rendu_glouton(68,[],0)\n",
        "[50, 10, 5, 2, 1]\n",
        ">>>rendu_glouton(291,[],0)\n",
        "[100, 100, 50, 20, 20, 1]\n",
        "```\n",
        "\n"
      ]
    },
    {
      "cell_type": "code",
      "metadata": {
        "id": "n3CPJuCehPPk"
      },
      "source": [
        "pieces = [100,50,20,10,5,2,1]\n",
        "\n",
        "def rendu_glouton(arendre, solution=[], i=0):\n",
        "    if arendre == 0:\n",
        "       return ...\n",
        "    p = pieces[i]\n",
        "    if p <= ... :\n",
        "        solution.append(...)\n",
        "        return rendu_glouton(arendre - p, solution ,i)\n",
        "    else :\n",
        "        return rendu_glouton(arendre, solution, ...)"
      ],
      "execution_count": null,
      "outputs": []
    },
    {
      "cell_type": "code",
      "metadata": {
        "id": "dkpLXDeKN1e8",
        "outputId": "7309c342-645f-4dc0-e9c2-30a19ab6e9a3",
        "colab": {
          "base_uri": "https://localhost:8080/"
        }
      },
      "source": [
        "pieces = [100,50,20,10,5,2,1]\n",
        "\n",
        "def rendu_glouton(arendre, solution=[], i=0):\n",
        "    if arendre == 0:\n",
        "       return solution\n",
        "    p = pieces[i]\n",
        "    if p <= arendre :\n",
        "        solution.append(p)\n",
        "        return rendu_glouton(arendre - p, solution ,i)\n",
        "    else :\n",
        "        return rendu_glouton(arendre, solution, i+1)\n",
        "\n",
        "assert rendu_glouton(68,[],0)==[50, 10, 5, 2, 1]\n",
        "assert rendu_glouton(291,[],0) == [100, 100, 50, 20, 20, 1]\n",
        "assert rendu_glouton(0)==[]\n",
        "print(\"test OK\")"
      ],
      "execution_count": 3,
      "outputs": [
        {
          "output_type": "stream",
          "name": "stdout",
          "text": [
            "test OK\n"
          ]
        }
      ]
    }
  ]
}