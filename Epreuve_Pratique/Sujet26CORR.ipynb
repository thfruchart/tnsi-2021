{
  "nbformat": 4,
  "nbformat_minor": 0,
  "metadata": {
    "colab": {
      "name": "Sujet26.ipynb",
      "provenance": []
    },
    "kernelspec": {
      "name": "python3",
      "display_name": "Python 3"
    },
    "language_info": {
      "name": "python"
    }
  },
  "cells": [
    {
      "cell_type": "markdown",
      "metadata": {
        "id": "ahgy7Vl2Fvlh"
      },
      "source": [
        "# Exercice 1\n",
        "\n",
        "Écrire une fonction `occurrence_max` prenant en paramètres une chaîne de caractères\n",
        "`chaine` et qui renvoie le caractère le plus fréquent de la chaîne. La chaîne ne contient\n",
        "que des lettres en minuscules sans accent.\n",
        "On pourra s’aider du tableau\n",
        "\n",
        "`alphabet=['a','b','c','d','e','f','g','h','i','j','k','l','m','n','o,','p','q','r','s','t','u','v','w','x','y','z']`\n",
        "\n",
        "et du tableau `occurrence` de 26 éléments où l’on mettra dans `occurrence[i]` le\n",
        "nombre d’apparitions de `alphabet[i]` dans la chaine. Puis on calculera l’indice `k` d’un\n",
        "maximum du tableau occurrence et on affichera `alphabet[k]`.\n",
        "\n",
        "Exemple :\n",
        "\n",
        "    >>> ch='je suis en terminale et je passe le bac et je souhaite poursuivre des etudes pour devenir expert en informatique’\n",
        "    >>> occurrence_max(ch)\n",
        "    ‘e’"
      ]
    },
    {
      "cell_type": "markdown",
      "metadata": {
        "id": "eLdgyGMBK__p"
      },
      "source": [
        "REMARQUE : plutôt que de stocker le nombre d'occurence de chaque lettre dans un tableau, il est préférable d'utiliser un dictionnaire ! "
      ]
    },
    {
      "cell_type": "code",
      "metadata": {
        "id": "T3rDnNRsFuuc"
      },
      "source": [
        "def dico_occurrences(chn):\n",
        "    \"\"\"le paramètre 'chn' est de type str\n",
        "     renvoie un DICTIONNAIRE dont :\n",
        "    - les CLÉS sont les lettres minuscules de l'alphabet\n",
        "    - les VALEURS sont les occurrences de chacune de ces lettres dans 'chn'\n",
        "    \"\"\"\n",
        "    alphabet = \"abcdefghijklmnopqrstuvwxyz\"\n",
        "    # initialisation du dictionnaire\n",
        "    dico = {}\n",
        "    for lettre in alphabet:\n",
        "        dico[lettre] = 0\n",
        "    # parcours de la chaine de caractère\n",
        "    for lettre in chn:\n",
        "        if lettre in alphabet : # si le caractère est bien une lettre minuscule\n",
        "            dico[lettre] += 1\n",
        "    return dico"
      ],
      "execution_count": 1,
      "outputs": []
    },
    {
      "cell_type": "code",
      "metadata": {
        "id": "vyjBtapxMgn4"
      },
      "source": [
        "ch='je suis en terminale et je passe le bac et je souhaite poursuivre des etudes pour devenir expert en informatique'\n",
        "dico_occurrences(ch)"
      ],
      "execution_count": null,
      "outputs": []
    },
    {
      "cell_type": "markdown",
      "metadata": {
        "id": "fG01JHvoMz-1"
      },
      "source": [
        "Il reste alors à chercher une clé dont la valeur est maximale."
      ]
    },
    {
      "cell_type": "code",
      "metadata": {
        "id": "sTJVVbUsM5J7"
      },
      "source": [
        "def cle_de_valeur_max(d):\n",
        "    \"\"\"le paramètre d est un dictionnaire dont \n",
        "    les valeurs sont toutes POSITIVES ou nulles\n",
        "\n",
        "    la fonction renvoie une CLÉ de valeur maximale\"\"\"\n",
        "    m = 0\n",
        "    cle_max = None\n",
        "    for cle in d:\n",
        "        if d[cle] > m:\n",
        "            cle_max = cle \n",
        "            m = d[cle]\n",
        "    return cle_max "
      ],
      "execution_count": 10,
      "outputs": []
    },
    {
      "cell_type": "code",
      "metadata": {
        "id": "4QkyGk-7N1Lj"
      },
      "source": [
        "ch='je suis en terminale et je passe le bac et je souhaite poursuivre des etudes pour devenir expert en informatique'\n",
        "dic = dico_occurrences(ch)\n",
        "cle_de_valeur_max(dic)"
      ],
      "execution_count": null,
      "outputs": []
    },
    {
      "cell_type": "markdown",
      "metadata": {
        "id": "I8LnKreTN9lP"
      },
      "source": [
        "Pour définir la fonction demandée dans le sujet, il suffit d'écrire : "
      ]
    },
    {
      "cell_type": "code",
      "metadata": {
        "id": "Fn9OKQYiOBvA"
      },
      "source": [
        "def occurrence_max(chaine):\n",
        "    return cle_de_valeur_max(dico_occurrences(chaine))"
      ],
      "execution_count": 11,
      "outputs": []
    },
    {
      "cell_type": "markdown",
      "metadata": {
        "id": "ENt420BFONsj"
      },
      "source": [
        "il reste à tester cette fonction sur des exemples bien choisis"
      ]
    },
    {
      "cell_type": "code",
      "metadata": {
        "id": "a_gdovX-ONCZ",
        "outputId": "dd6ae86a-bffd-4e20-a655-92388dec61ad",
        "colab": {
          "base_uri": "https://localhost:8080/",
          "height": 35
        }
      },
      "source": [
        "occurrence_max('aaaabbbcc')"
      ],
      "execution_count": 12,
      "outputs": [
        {
          "output_type": "execute_result",
          "data": {
            "application/vnd.google.colaboratory.intrinsic+json": {
              "type": "string"
            },
            "text/plain": [
              "'a'"
            ]
          },
          "metadata": {},
          "execution_count": 12
        }
      ]
    },
    {
      "cell_type": "code",
      "metadata": {
        "id": "7sbTNxOsOYIc"
      },
      "source": [
        "occurrence_max('')"
      ],
      "execution_count": 13,
      "outputs": []
    },
    {
      "cell_type": "code",
      "metadata": {
        "id": "uQnDqOMgOtwp",
        "outputId": "22a73ed7-b66b-460c-94e5-7dc5f0be4e96",
        "colab": {
          "base_uri": "https://localhost:8080/",
          "height": 35
        }
      },
      "source": [
        "occurrence_max('AAAbbbC,;:854')"
      ],
      "execution_count": 14,
      "outputs": [
        {
          "output_type": "execute_result",
          "data": {
            "application/vnd.google.colaboratory.intrinsic+json": {
              "type": "string"
            },
            "text/plain": [
              "'b'"
            ]
          },
          "metadata": {},
          "execution_count": 14
        }
      ]
    },
    {
      "cell_type": "markdown",
      "metadata": {
        "id": "9-mcJI1rGl8z"
      },
      "source": [
        "# Exercice 2\n",
        "\n",
        "On considère une image en 256 niveaux de gris que l’on représente par une grille de\n",
        "nombres, c’est-à-dire une liste composée de sous-listes toutes de longueurs identiques.\n",
        "La largeur de l’image est donc la longueur d’une sous-liste et la hauteur de l’image est le\n",
        "nombre de sous-listes.\n",
        "Chaque sous-liste représente une ligne de l’image et chaque élément des sous-listes est\n",
        "un entier compris entre 0 et 255, représentant l’intensité lumineuse du pixel.\n",
        "Compléter le programme ci-dessous :"
      ]
    },
    {
      "cell_type": "code",
      "metadata": {
        "id": "FmE915COGr9H"
      },
      "source": [
        "def nbLig(image):\n",
        "    '''renvoie le nombre de lignes de l'image'''\n",
        "    return ...\n",
        "\n",
        "def nbCol(image):\n",
        "    '''renvoie la largeur de l'image'''\n",
        "    return ...\n",
        "\n",
        "def negatif(image):\n",
        "    '''renvoie le négatif de l'image sous la forme\n",
        "    d'une liste de listes'''\n",
        "    # on créé une image de 0 aux mêmes dimensions que le paramètre image\n",
        "    L = [[0 for k in range(nbCol(image))] for i in range(nbLig(image))] \n",
        "    for i in range(len(image)):\n",
        "        for j in range(...):\n",
        "            L[i][j] = ...\n",
        "    return L\n",
        "\n",
        "def binaire(image, seuil):\n",
        "    '''renvoie une image binarisée de l'image sous la forme\n",
        "    d'une liste de listes contenant des 0 si la valeur\n",
        "    du pixel est strictement inférieure au seuil\n",
        "    et 1 sinon'''\n",
        "    # on crée une image de 0 aux mêmes dimensions que le paramètre image\n",
        "    L = [[0 for k in range(nbCol(image))] for i in range(nbLig(image))] \n",
        "    for i in range(len(image)):\n",
        "        for j in range(...):\n",
        "            if L[i][j] < ... :\n",
        "                L[i][j] = ...\n",
        "            else:\n",
        "                L[i][j] = ...\n",
        "    return L"
      ],
      "execution_count": null,
      "outputs": []
    },
    {
      "cell_type": "markdown",
      "metadata": {
        "id": "KBOU8f6yHeLB"
      },
      "source": [
        "Exemple :\n",
        "\n",
        "    >>> img=[[20, 34, 254, 145, 6], [23, 124, 287, 225, 69], [197, 174, 207, 25, 87], [255, 0, 24, 197, 189]]\n",
        "    >>> nbLig(img)\n",
        "    4\n",
        "    >>> nbCol(img)\n",
        "    5\n",
        "    >>> negatif(img)\n",
        "    [[235, 221, 1, 110, 249], [232, 131,-32, 30, 186], [58, 81, 48, 230, 168], [0, 255, 231, 58, 66]]\n",
        "    >>> binaire(img,120)\n",
        "    [[1, 1, 0, 0, 1], [1, 1, 0, 0, 1], [0, 0, 0, 1, 1], [0, 1, 1, 0, 0]]"
      ]
    }
  ]
}