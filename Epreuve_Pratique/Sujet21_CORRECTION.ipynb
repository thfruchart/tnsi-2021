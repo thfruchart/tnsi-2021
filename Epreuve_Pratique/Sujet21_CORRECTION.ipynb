{
  "nbformat": 4,
  "nbformat_minor": 0,
  "metadata": {
    "colab": {
      "name": "Untitled3.ipynb",
      "provenance": [],
      "authorship_tag": "ABX9TyP0bSNDTzRCJEzyu5zdgUoM",
      "include_colab_link": true
    },
    "kernelspec": {
      "name": "python3",
      "display_name": "Python 3"
    },
    "language_info": {
      "name": "python"
    }
  },
  "cells": [
    {
      "cell_type": "markdown",
      "metadata": {
        "id": "view-in-github",
        "colab_type": "text"
      },
      "source": [
        "<a href=\"https://colab.research.google.com/github/thfruchart/tnsi/blob/main/Epreuve_Pratique/Sujet21_CORRECTION.ipynb\" target=\"_parent\"><img src=\"https://colab.research.google.com/assets/colab-badge.svg\" alt=\"Open In Colab\"/></a>"
      ]
    },
    {
      "cell_type": "markdown",
      "source": [
        "# Epreuve pratique 21"
      ],
      "metadata": {
        "id": "nUUsOkplIMEW"
      }
    },
    {
      "cell_type": "code",
      "execution_count": 3,
      "metadata": {
        "colab": {
          "base_uri": "https://localhost:8080/"
        },
        "id": "2rHbcGn0ILBE",
        "outputId": "4b939713-0b8d-41ac-89ef-8d54366da589"
      },
      "outputs": [
        {
          "output_type": "stream",
          "name": "stdout",
          "text": [
            "test OK\n"
          ]
        }
      ],
      "source": [
        "def nb_repetitions(elt, tab):\n",
        "    cpt = 0\n",
        "    for v in tab : \n",
        "        if elt == v :\n",
        "            cpt += 1\n",
        "    return cpt\n",
        "\n",
        "assert nb_repetitions(5, [2,5,3,5,6,9,5]) == 3\n",
        "assert nb_repetitions('A', ['B', 'A', 'B', 'A', 'R']) == 2\n",
        "assert nb_repetitions(12, [1,'!', 7, 21, 36, 44]) == 0\n",
        "print('test OK')"
      ]
    },
    {
      "cell_type": "code",
      "source": [
        "def binaire(a) : \n",
        "    bin_a = str(a%2)\n",
        "    a = a//2\n",
        "    while a>0 :\n",
        "        bin_a = str(a%2) + bin_a\n",
        "        a = a //2\n",
        "    return bin_a\n",
        "\n",
        "assert binaire(0) == '0'\n",
        "assert binaire(77) == '1001101'"
      ],
      "metadata": {
        "id": "smHfSvSlJQg8"
      },
      "execution_count": 4,
      "outputs": []
    }
  ]
}