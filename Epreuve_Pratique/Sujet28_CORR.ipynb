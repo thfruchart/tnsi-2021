{
  "nbformat": 4,
  "nbformat_minor": 0,
  "metadata": {
    "colab": {
      "name": "Sujet28.ipynb",
      "provenance": [],
      "authorship_tag": "ABX9TyPoSJjBVpzgu9pRxfvh8t15",
      "include_colab_link": true
    },
    "kernelspec": {
      "name": "python3",
      "display_name": "Python 3"
    },
    "language_info": {
      "name": "python"
    }
  },
  "cells": [
    {
      "cell_type": "markdown",
      "metadata": {
        "id": "view-in-github",
        "colab_type": "text"
      },
      "source": [
        "<a href=\"https://colab.research.google.com/github/thfruchart/tnsi/blob/main/Epreuve_Pratique/Sujet28_CORR.ipynb\" target=\"_parent\"><img src=\"https://colab.research.google.com/assets/colab-badge.svg\" alt=\"Open In Colab\"/></a>"
      ]
    },
    {
      "cell_type": "markdown",
      "source": [
        "# Exercice 1"
      ],
      "metadata": {
        "id": "bybuy9T93uDd"
      }
    },
    {
      "cell_type": "markdown",
      "source": [
        "Dans cet exercice, un arbre binaire de caractères est stocké sous la forme d’un\n",
        "dictionnaire où les clefs sont les caractères des nœuds de l’arbre et les valeurs, pour\n",
        "chaque clef, la liste des caractères des fils gauche et droit du nœud.\n",
        "\n",
        "Exemple : "
      ],
      "metadata": {
        "id": "VEwTyIXv3v1U"
      }
    },
    {
      "cell_type": "code",
      "execution_count": 1,
      "metadata": {
        "id": "OucN00eo3rhn"
      },
      "outputs": [],
      "source": [
        "a = {'F':['B','G'], 'B':['A','D'], 'A':['',''], 'D':['C','E'],\n",
        "     'C':['',''], 'E':['',''], 'G':['','I'], 'I':['','H'],'H':['','']}"
      ]
    },
    {
      "cell_type": "code",
      "source": [
        "a['F']"
      ],
      "metadata": {
        "id": "U_0uRkhSueG5",
        "outputId": "0e8fe57e-edc0-4feb-8da2-14bde0d5c1b8",
        "colab": {
          "base_uri": "https://localhost:8080/"
        }
      },
      "execution_count": 2,
      "outputs": [
        {
          "output_type": "execute_result",
          "data": {
            "text/plain": [
              "['B', 'G']"
            ]
          },
          "metadata": {},
          "execution_count": 2
        }
      ]
    },
    {
      "cell_type": "code",
      "source": [
        "a['F'][0]"
      ],
      "metadata": {
        "id": "mfj7l5U5ufhp",
        "outputId": "6b682b5d-3901-47db-faa4-485ed7dbbab9",
        "colab": {
          "base_uri": "https://localhost:8080/",
          "height": 35
        }
      },
      "execution_count": 3,
      "outputs": [
        {
          "output_type": "execute_result",
          "data": {
            "application/vnd.google.colaboratory.intrinsic+json": {
              "type": "string"
            },
            "text/plain": [
              "'B'"
            ]
          },
          "metadata": {},
          "execution_count": 3
        }
      ]
    },
    {
      "cell_type": "code",
      "source": [
        "a['F'][1]"
      ],
      "metadata": {
        "id": "y5JT25gHuh1R",
        "outputId": "2da86df2-61b9-4d04-b866-074b595cce72",
        "colab": {
          "base_uri": "https://localhost:8080/",
          "height": 35
        }
      },
      "execution_count": 4,
      "outputs": [
        {
          "output_type": "execute_result",
          "data": {
            "application/vnd.google.colaboratory.intrinsic+json": {
              "type": "string"
            },
            "text/plain": [
              "'G'"
            ]
          },
          "metadata": {},
          "execution_count": 4
        }
      ]
    },
    {
      "cell_type": "markdown",
      "source": [
        "Écrire une fonction récursive `taille` prenant en paramètres un arbre binaire `arbre`\n",
        "sous la forme d’un dictionnaire et un caractère lettre qui est la valeur du sommet de\n",
        "l’arbre, et qui renvoie la taille de l’arbre à savoir le nombre total de nœud.\n",
        "On pourra distinguer les 4 cas où les deux « fils » du nœud sont '', le fils gauche\n",
        "seulement est '', le fils droit seulement est '', aucun des deux fils n’est ''.\n",
        "Exemple :\n",
        "\n",
        "    >>> taille(a, ’F’)\n",
        "    9"
      ],
      "metadata": {
        "id": "9xjqIqiF4HeO"
      }
    },
    {
      "cell_type": "code",
      "source": [
        "def taille(arbre, lettre):\n",
        "    # cas d'une feuille\n",
        "    if arbre[lettre] == ['','']:\n",
        "        return 1\n",
        "    elif arbre[lettre][0]=='' and arbre[lettre][1]!='':\n",
        "        fils_droit = arbre[lettre][1]\n",
        "        return 1 + taille(arbre,fils_droit )\n",
        "    elif arbre[lettre][0]!='' and arbre[lettre][1]=='':\n",
        "        return 1 + taille(arbre, arbre[lettre][0])\n",
        "    else:\n",
        "        return 1 + taille(arbre, arbre[lettre][0]) + taille(arbre,arbre[lettre][1] )\n",
        "\n",
        "assert taille(a,'F') == 9\n",
        "assert taille(a,'C') == 1\n",
        "assert taille(a,'B') == 5\n",
        "print ('tests OK')"
      ],
      "metadata": {
        "id": "tZxUgBP04NkE",
        "outputId": "29097cb1-613a-4e58-f597-8f58e07dda3f",
        "colab": {
          "base_uri": "https://localhost:8080/"
        }
      },
      "execution_count": 6,
      "outputs": [
        {
          "output_type": "stream",
          "name": "stdout",
          "text": [
            "tests OK\n"
          ]
        }
      ]
    },
    {
      "cell_type": "markdown",
      "source": [
        "# Exercice 2"
      ],
      "metadata": {
        "id": "p1PPeQMX4N8g"
      }
    },
    {
      "cell_type": "markdown",
      "source": [
        "On considère l'algorithme de tri de tableau suivant : à chaque étape, on parcourt depuis\n",
        "le début du tableau tous les éléments non rangés et on place en dernière position le plus\n",
        "grand élément.\n",
        "\n",
        "Exemple avec le tableau :\n",
        "\n",
        "    t = [41, 55, 21, 18, 12, 6, 25]\n",
        "\n",
        "**Etape 1** : on parcourt tous les éléments du tableau, on permute le plus grand élément avec\n",
        "le dernier. Le tableau devient\n",
        "\n",
        "`t = [41, 25, 21, 18, 12, 6, `**`55`**`]`\n",
        "\n",
        "\n",
        "**Etape 2** : on parcourt tous les éléments sauf le dernier, on permute le plus grand élément\n",
        "trouvé avec l'avant dernier. Le tableau devient :\n",
        "\n",
        "`t = [6, 25, 21, 18, 12,`**`41`**`, 55]`\n",
        "\n",
        "Et ainsi de suite.\n",
        "\n",
        "La code de la fonction tri_iteratif qui implémente cet algorithme est donné ci-\n",
        "dessous.\n",
        "\n",
        "Compléter le code qui doit donner :\n",
        "\n",
        "    >>> tri_iteratif([41, 55, 21, 18, 12, 6, 25])\n",
        "    [6, 18, 12, 21, 25, 41, 55]\n",
        "\n",
        "On rappelle que l’instruction\n",
        "\n",
        "    a, b = b, a\n",
        "    \n",
        "échange les contenus de a et de b."
      ],
      "metadata": {
        "id": "YJC5Qwai4RPg"
      }
    },
    {
      "cell_type": "code",
      "source": [
        "def tri_iteratif(tab):\n",
        "    # k parcourt les indices du tableau, en commençant par la dernière case\n",
        "    for k in range( len(tab)-1 , 0, -1): \n",
        "        imax = 0 # imax vaut initialement l'un des indices de t[0:k]\n",
        "        for i in range(0 , k ): # on cherche l'indice du maximum du tableau t[0:k]\n",
        "            if tab[i] > tab[imax] :\n",
        "                imax = i\n",
        "        # à la fin de la boucle for, imax contient l'indice du maximum de t[0:k]\n",
        "        if tab[imax] > tab[k] :\n",
        "            tab[k] , tab[imax] = tab[imax] , tab[k]\n",
        "    return tab"
      ],
      "metadata": {
        "id": "iQF7sOJi5EK1"
      },
      "execution_count": 11,
      "outputs": []
    },
    {
      "cell_type": "code",
      "source": [
        "tri_iteratif([41, 55, 21, 18, 12, 6, 25])"
      ],
      "metadata": {
        "id": "1BfoOHjXyUeZ",
        "outputId": "ee440ff8-30a3-4ed3-dc2c-67687905cfcb",
        "colab": {
          "base_uri": "https://localhost:8080/"
        }
      },
      "execution_count": 12,
      "outputs": [
        {
          "output_type": "execute_result",
          "data": {
            "text/plain": [
              "[6, 12, 18, 21, 25, 41, 55]"
            ]
          },
          "metadata": {},
          "execution_count": 12
        }
      ]
    },
    {
      "cell_type": "code",
      "source": [
        "# on ajoute d'autres tests, comme le cas d'un tableau vide\n",
        "tri_iteratif([])"
      ],
      "metadata": {
        "id": "hQGmD2rrywBB",
        "outputId": "bbe0f0d9-7a17-475a-8bfc-6a73336a7418",
        "colab": {
          "base_uri": "https://localhost:8080/"
        }
      },
      "execution_count": 13,
      "outputs": [
        {
          "output_type": "execute_result",
          "data": {
            "text/plain": [
              "[]"
            ]
          },
          "metadata": {},
          "execution_count": 13
        }
      ]
    },
    {
      "cell_type": "code",
      "source": [
        "# tableau contenant plusieurs fois la même valeur\n",
        "tri_iteratif([20,10,20,30,10,-40])"
      ],
      "metadata": {
        "id": "5Jhyoip7y1OZ",
        "outputId": "9b4e56de-b8df-4730-da8f-53e59630c5b0",
        "colab": {
          "base_uri": "https://localhost:8080/"
        }
      },
      "execution_count": 14,
      "outputs": [
        {
          "output_type": "execute_result",
          "data": {
            "text/plain": [
              "[-40, 10, 10, 20, 20, 30]"
            ]
          },
          "metadata": {},
          "execution_count": 14
        }
      ]
    }
  ]
}