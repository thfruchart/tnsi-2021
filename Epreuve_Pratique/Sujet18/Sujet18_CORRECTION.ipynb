{
  "nbformat": 4,
  "nbformat_minor": 0,
  "metadata": {
    "colab": {
      "name": "Sujet18_CORRECTION.ipynb",
      "provenance": [],
      "authorship_tag": "ABX9TyMcbZ0/VPbHE1XZo/2HA1uz",
      "include_colab_link": true
    },
    "kernelspec": {
      "name": "python3",
      "display_name": "Python 3"
    },
    "language_info": {
      "name": "python"
    }
  },
  "cells": [
    {
      "cell_type": "markdown",
      "metadata": {
        "id": "view-in-github",
        "colab_type": "text"
      },
      "source": [
        "<a href=\"https://colab.research.google.com/github/thfruchart/tnsi/blob/main/Epreuve_Pratique/Sujet18/Sujet18_CORRECTION.ipynb\" target=\"_parent\"><img src=\"https://colab.research.google.com/assets/colab-badge.svg\" alt=\"Open In Colab\"/></a>"
      ]
    },
    {
      "cell_type": "markdown",
      "source": [
        "# Sujet 18"
      ],
      "metadata": {
        "id": "VLh87cAglhbI"
      }
    },
    {
      "cell_type": "markdown",
      "source": [
        "# Exercice 1"
      ],
      "metadata": {
        "id": "4TJMGDAgljmG"
      }
    },
    {
      "cell_type": "code",
      "execution_count": 1,
      "metadata": {
        "colab": {
          "base_uri": "https://localhost:8080/"
        },
        "id": "u3VG6Eoglg61",
        "outputId": "b394e893-8955-44fc-9670-dca44969b5f3"
      },
      "outputs": [
        {
          "output_type": "stream",
          "name": "stdout",
          "text": [
            "tests ok\n"
          ]
        }
      ],
      "source": [
        "def recherche(elt, tab):\n",
        "    for i in range(len(tab)):\n",
        "        if elt == tab[i]:\n",
        "            return i\n",
        "    return -1\n",
        "\n",
        "assert recherche(1, [2,3,4]) == -1\n",
        "assert recherche(1, [2,3,1,4]) == 2\n",
        "assert recherche(2, [2,3,1,4,2]) == 0\n",
        "assert recherche(200, [2,3,1,4,200]) == 4\n",
        "print('tests ok')"
      ]
    },
    {
      "cell_type": "markdown",
      "source": [
        "## Exercice 2"
      ],
      "metadata": {
        "id": "hhy38UkdmQSO"
      }
    },
    {
      "cell_type": "code",
      "source": [
        "def insere(a, tab):\n",
        "    l = list(tab) #l contient les mêmes éléments que tab\n",
        "    l.append(a)\n",
        "    i = len(tab) - 1\n",
        "    while a < l[i] and i >=0: \n",
        "      l[i+1] = l[i]\n",
        "      l[i] = a\n",
        "      i = i-1\n",
        "    return l\n",
        "\n",
        "assert insere(3,[1,2,4,5]) == [1,2,3,4,5]\n",
        "assert insere(10,[1,2,7,12,14,25]) == [1,2,7,10,12,14,25]\n",
        "assert insere(1,[2,3,4]) == [1,2,3,4]\n",
        "assert insere(5,[2,3,4]) == [2,3,4,5]\n",
        "print('tests OK')"
      ],
      "metadata": {
        "colab": {
          "base_uri": "https://localhost:8080/"
        },
        "id": "Q5aXFi-CmTg_",
        "outputId": "03b2379c-1da4-458a-e09e-4ee0e295d515"
      },
      "execution_count": 12,
      "outputs": [
        {
          "output_type": "stream",
          "name": "stdout",
          "text": [
            "tests OK\n"
          ]
        }
      ]
    },
    {
      "cell_type": "markdown",
      "source": [
        "Brouillon utile : "
      ],
      "metadata": {
        "id": "tPQr6uwpoKTn"
      }
    },
    {
      "cell_type": "code",
      "source": [
        "tab = [10,20,40,50]\n",
        "l = list(tab) #l contient les mêmes éléments que tab\n",
        "a = 30\n",
        "l.append(a)\n",
        "i = len(tab) - 1\n",
        "print(tab) \n",
        "print(l) \n",
        "print(i)"
      ],
      "metadata": {
        "colab": {
          "base_uri": "https://localhost:8080/"
        },
        "id": "0dTjjgLTnUzA",
        "outputId": "18fe3ada-f142-4b97-f8a1-9dd14418c87e"
      },
      "execution_count": 13,
      "outputs": [
        {
          "output_type": "stream",
          "name": "stdout",
          "text": [
            "[10, 20, 40, 50]\n",
            "[10, 20, 40, 50, 30]\n",
            "3\n"
          ]
        }
      ]
    }
  ]
}