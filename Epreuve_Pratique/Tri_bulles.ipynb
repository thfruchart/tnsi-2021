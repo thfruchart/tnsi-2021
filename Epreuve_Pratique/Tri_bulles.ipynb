{
  "nbformat": 4,
  "nbformat_minor": 0,
  "metadata": {
    "colab": {
      "name": "Untitled6.ipynb",
      "provenance": [],
      "authorship_tag": "ABX9TyNrw1vGVnuQzxvQszo9T0hb",
      "include_colab_link": true
    },
    "kernelspec": {
      "name": "python3",
      "display_name": "Python 3"
    },
    "language_info": {
      "name": "python"
    }
  },
  "cells": [
    {
      "cell_type": "markdown",
      "metadata": {
        "id": "view-in-github",
        "colab_type": "text"
      },
      "source": [
        "<a href=\"https://colab.research.google.com/github/thfruchart/tnsi/blob/main/Epreuve_Pratique/Tri_bulles.ipynb\" target=\"_parent\"><img src=\"https://colab.research.google.com/assets/colab-badge.svg\" alt=\"Open In Colab\"/></a>"
      ]
    },
    {
      "cell_type": "markdown",
      "source": [
        "# tri à bulles"
      ],
      "metadata": {
        "id": "mXglAFBgs6R8"
      }
    },
    {
      "cell_type": "code",
      "execution_count": 5,
      "metadata": {
        "id": "9r2xirYbs5BG"
      },
      "outputs": [],
      "source": [
        "def tri_bulles(T):\n",
        "    n = len(T)\n",
        "    for i in range(n-1,0, -1):\n",
        "        for j in range(i):\n",
        "            if T[j]>T[j+1]:\n",
        "                temp = T[j]\n",
        "                T[j] = T[j+1]\n",
        "                T[j+1] = temp\n",
        "    return T"
      ]
    },
    {
      "cell_type": "code",
      "source": [
        "tri_bulles([10,50,20,30,0])"
      ],
      "metadata": {
        "colab": {
          "base_uri": "https://localhost:8080/"
        },
        "id": "xDT_l7mjuxU9",
        "outputId": "e42e8a62-9be7-47ee-919a-bccb4e03a16a"
      },
      "execution_count": 6,
      "outputs": [
        {
          "output_type": "execute_result",
          "data": {
            "text/plain": [
              "[0, 10, 20, 30, 50]"
            ]
          },
          "metadata": {},
          "execution_count": 6
        }
      ]
    }
  ]
}