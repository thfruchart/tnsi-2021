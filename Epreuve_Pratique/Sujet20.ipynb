{
  "nbformat": 4,
  "nbformat_minor": 0,
  "metadata": {
    "colab": {
      "name": "Epreuve_Pratique_Sujet20.ipynb",
      "provenance": [],
      "authorship_tag": "ABX9TyMV7nPShD4siamuMbLCMG+a",
      "include_colab_link": true
    },
    "kernelspec": {
      "name": "python3",
      "display_name": "Python 3"
    },
    "language_info": {
      "name": "python"
    }
  },
  "cells": [
    {
      "cell_type": "markdown",
      "metadata": {
        "id": "view-in-github",
        "colab_type": "text"
      },
      "source": [
        "<a href=\"https://colab.research.google.com/github/thfruchart/tnsi/blob/main/Epreuve_Pratique/Sujet20.ipynb\" target=\"_parent\"><img src=\"https://colab.research.google.com/assets/colab-badge.svg\" alt=\"Open In Colab\"/></a>"
      ]
    },
    {
      "cell_type": "markdown",
      "metadata": {
        "id": "jo55hdG5KPWb"
      },
      "source": [
        "# Exercice 1"
      ]
    },
    {
      "cell_type": "markdown",
      "metadata": {
        "id": "pu1HniOnJ4TZ"
      },
      "source": [
        "On a relevé les valeurs moyennes annuelles des températures à Paris pour la période\n",
        "allant de 2013 à 2019. \n",
        "\n",
        "Les résultats ont été récupérés sous la forme de deux listes : l’une\n",
        "pour les températures, l’autre pour les années :\n",
        "\n",
        "    t_moy = [14.9, 13.3, 13.1, 12.5, 13.0, 13.6, 13.7]\n",
        "    annees = [2013, 2014, 2015, 2016, 2017, 2018, 2019]\n",
        "Écrire la fonction `mini` qui prend en paramètres le tableau `releve` des relevés et le\n",
        "tableau `date` des dates et qui renvoie la plus petite valeur relevée au cours de la\n",
        "période et l’année correspondante.\n",
        "\n",
        "\n",
        "Exemple :\n",
        "\n",
        "    >>> mini(t_moy, annees)\n",
        "    (12.5, 2016)"
      ]
    },
    {
      "cell_type": "markdown",
      "metadata": {
        "id": "5opvAZUkKOVI"
      },
      "source": [
        "# Exercice 2"
      ]
    },
    {
      "cell_type": "markdown",
      "metadata": {
        "id": "RWASyhbkKVNe"
      },
      "source": [
        "Un mot palindrome peut se lire de la même façon de gauche à droite ou de droite à\n",
        "gauche : **bob**, **radar**, et **non** sont des mots palindromes.\n",
        "\n",
        "De même certains nombres sont eux aussi des palindromes : **33**, **121**, **345543**.\n",
        "\n",
        "L’objectif de cet exercice est d’obtenir un programme Python permettant de tester si un\n",
        "nombre est un nombre palindrome.\n",
        "\n",
        "\n",
        "Pour remplir cette tâche, on vous demande de compléter le code des trois fonctions ci-\n",
        "dessous sachant que la fonction `est_nbre_palindrome` s’appuiera sur la fonction\n",
        "`est_palindrome` qui elle-même s’appuiera sur la fonction `inverse_chaine`.\n",
        "\n",
        "* La fonction `inverse_chaine` inverse l'ordre des caractères d'une chaîne de caractères\n",
        "`chaine` et renvoie la chaîne inversée.\n",
        "* La fonction `est_palindrome` teste si une chaine de caractères `chaine` est un\n",
        "palindrome. Elle renvoie `True` si c’est le cas et `False` sinon. Cette fonction s’appuie sur la fonction précédente.\n",
        "* La fonction `est_nbre_palindrome` teste si un nombre `nbre` est un palindrome. Elle renvoie `True` si c’est le cas et `False` sinon. Cette fonction s’appuie sur la fonction précédente."
      ]
    },
    {
      "cell_type": "code",
      "metadata": {
        "id": "NWpWAN_UJv1S"
      },
      "source": [
        "def inverse_chaine(chaine):\n",
        "    result = ...\n",
        "    for caractere in chaine:\n",
        "       result = ...\n",
        "    return result\n",
        "\n",
        "def est_palindrome(chaine):\n",
        "    inverse = inverse_chaine(chaine)\n",
        "    return ...\n",
        "    \n",
        "def est_nbre_palindrome(nbre):\n",
        "    chaine = ...\n",
        "    return est_palindrome(chaine)"
      ],
      "execution_count": null,
      "outputs": []
    }
  ]
}