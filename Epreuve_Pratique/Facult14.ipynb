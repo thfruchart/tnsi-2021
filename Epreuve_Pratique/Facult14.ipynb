{
  "nbformat": 4,
  "nbformat_minor": 0,
  "metadata": {
    "colab": {
      "name": "Untitled4.ipynb",
      "provenance": [],
      "authorship_tag": "ABX9TyMrZQDQElSl53K/n97d7EXr",
      "include_colab_link": true
    },
    "kernelspec": {
      "name": "python3",
      "display_name": "Python 3"
    },
    "language_info": {
      "name": "python"
    }
  },
  "cells": [
    {
      "cell_type": "markdown",
      "metadata": {
        "id": "view-in-github",
        "colab_type": "text"
      },
      "source": [
        "<a href=\"https://colab.research.google.com/github/thfruchart/tnsi/blob/main/Epreuve_Pratique/Facult14.ipynb\" target=\"_parent\"><img src=\"https://colab.research.google.com/assets/colab-badge.svg\" alt=\"Open In Colab\"/></a>"
      ]
    },
    {
      "cell_type": "markdown",
      "source": [
        "# exo 1"
      ],
      "metadata": {
        "id": "zk5Yj_mnEu4J"
      }
    },
    {
      "cell_type": "markdown",
      "source": [
        "Écrire une fonction recherche qui prend en paramètres elt un nombre et tab un\n",
        "tableau de nombres, et qui renvoie le tableau des indices de elt dans tab si elt est\n",
        "dans tab et le tableau vide [] sinon."
      ],
      "metadata": {
        "id": "fzd8mAbSELwn"
      }
    },
    {
      "cell_type": "code",
      "source": [
        "def recherche(elt, tab):\n",
        "    resu = []\n",
        "    for i in range(len(tab)):\n",
        "        if tab[i] == elt :\n",
        "            resu.append(i)\n",
        "    return resu"
      ],
      "metadata": {
        "id": "aA8G7_W4EFdp"
      },
      "execution_count": 1,
      "outputs": []
    },
    {
      "cell_type": "code",
      "source": [
        "recherche(3, [3, 2, 1, 3, 2, 1])"
      ],
      "metadata": {
        "colab": {
          "base_uri": "https://localhost:8080/"
        },
        "id": "JUts6bLkEmzY",
        "outputId": "67f7859e-0525-4ce8-e48c-854c62cc5e78"
      },
      "execution_count": 2,
      "outputs": [
        {
          "output_type": "execute_result",
          "data": {
            "text/plain": [
              "[0, 3]"
            ]
          },
          "metadata": {},
          "execution_count": 2
        }
      ]
    },
    {
      "cell_type": "code",
      "source": [
        "recherche(4, [1, 2, 3])"
      ],
      "metadata": {
        "colab": {
          "base_uri": "https://localhost:8080/"
        },
        "id": "i8lkp45BEpJH",
        "outputId": "3bcbc475-d39d-400d-df9e-3e99bb7ef48b"
      },
      "execution_count": 3,
      "outputs": [
        {
          "output_type": "execute_result",
          "data": {
            "text/plain": [
              "[]"
            ]
          },
          "metadata": {},
          "execution_count": 3
        }
      ]
    },
    {
      "cell_type": "markdown",
      "source": [
        "# exo 2"
      ],
      "metadata": {
        "id": "jpvWSnxLEwzJ"
      }
    },
    {
      "cell_type": "code",
      "execution_count": 4,
      "metadata": {
        "id": "U1xfWXunEAu4"
      },
      "outputs": [],
      "source": [
        "resultats = {'Dupont':{'DS1' : [15.5, 4],\n",
        "                       'DM1' : [14.5, 1],\n",
        "                       'DS2' : [13, 4],\n",
        "                       'PROJET1' : [16, 3],\n",
        "                       'DS3' : [14, 4]},\n",
        "             'Durand':{'DS1' : [6 , 4],\n",
        "                       'DM1' : [14.5, 1],\n",
        "                       'DS2' : [8, 4],\n",
        "                       'PROJET1' : [9, 3],\n",
        "                       'IE1' : [7, 2],\n",
        "                       'DS3' : [8, 4],\n",
        "                       'DS4' :[15, 4]}}\n",
        "\n",
        "\n",
        "def moyenne(nom):\n",
        "    if nom in resultats:\n",
        "        notes = resultats[nom]\n",
        "        total_points = 0\n",
        "        total_coefficients = 0\n",
        "        for valeurs  in notes.values():\n",
        "            note , coefficient = valeurs\n",
        "            total_points = total_points + note * coefficient\n",
        "            total_coefficients = total_coefficients + coefficient\n",
        "        return round( total_points/ total_coefficients , 1 )\n",
        "    else:\n",
        "        return -1"
      ]
    },
    {
      "cell_type": "code",
      "source": [
        "moyenne('Dupont')"
      ],
      "metadata": {
        "colab": {
          "base_uri": "https://localhost:8080/"
        },
        "id": "gKWxyG80FwcZ",
        "outputId": "641240d5-c5da-41b8-e674-ba976960ff1a"
      },
      "execution_count": 5,
      "outputs": [
        {
          "output_type": "execute_result",
          "data": {
            "text/plain": [
              "14.5"
            ]
          },
          "metadata": {},
          "execution_count": 5
        }
      ]
    },
    {
      "cell_type": "code",
      "source": [
        "moyenne('Durand')"
      ],
      "metadata": {
        "colab": {
          "base_uri": "https://localhost:8080/"
        },
        "id": "hPSQaSJbF0c5",
        "outputId": "a5b2c65e-5fec-4fcc-ff4d-243d072b5ee0"
      },
      "execution_count": 6,
      "outputs": [
        {
          "output_type": "execute_result",
          "data": {
            "text/plain": [
              "9.2"
            ]
          },
          "metadata": {},
          "execution_count": 6
        }
      ]
    },
    {
      "cell_type": "code",
      "source": [
        "moyenne('Toto')"
      ],
      "metadata": {
        "colab": {
          "base_uri": "https://localhost:8080/"
        },
        "id": "TsbmqZ9WF2ah",
        "outputId": "32dde778-04db-4692-dba2-c6fe7732142d"
      },
      "execution_count": 7,
      "outputs": [
        {
          "output_type": "execute_result",
          "data": {
            "text/plain": [
              "-1"
            ]
          },
          "metadata": {},
          "execution_count": 7
        }
      ]
    }
  ]
}