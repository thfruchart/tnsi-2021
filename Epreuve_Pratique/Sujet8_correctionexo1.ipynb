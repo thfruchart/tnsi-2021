{
  "nbformat": 4,
  "nbformat_minor": 0,
  "metadata": {
    "colab": {
      "name": "Epreuve_Pratique_Sujet8.ipynb",
      "provenance": [],
      "collapsed_sections": [],
      "authorship_tag": "ABX9TyOzkfxbgpQsraOWAUDy08el",
      "include_colab_link": true
    },
    "kernelspec": {
      "name": "python3",
      "display_name": "Python 3"
    }
  },
  "cells": [
    {
      "cell_type": "markdown",
      "metadata": {
        "id": "view-in-github",
        "colab_type": "text"
      },
      "source": [
        "<a href=\"https://colab.research.google.com/github/thfruchart/tnsi/blob/main/Epreuve_Pratique/Sujet8_correctionexo1.ipynb\" target=\"_parent\"><img src=\"https://colab.research.google.com/assets/colab-badge.svg\" alt=\"Open In Colab\"/></a>"
      ]
    },
    {
      "cell_type": "markdown",
      "metadata": {
        "id": "RiTwvMn0hXFW"
      },
      "source": [
        "# Exercice 1"
      ]
    },
    {
      "cell_type": "markdown",
      "metadata": {
        "id": "q-gYdOzehnps"
      },
      "source": [
        "Écrire une fonction `recherche` qui prend en paramètres `caractere`, un caractère, et `mot`, une chaîne de caractères, et qui renvoie le nombre d’occurrences de `caractere` dans `mot`, c’est-à-dire le nombre de fois où `caractere` apparaît dans `mot`.\n",
        "\n",
        "\n",
        "Exemples :\n",
        "\n",
        "\n",
        "```\n",
        ">>> recherche('e', \"sciences\")\n",
        "2\n",
        ">>> recherche('i',\"mississippi\")\n",
        "4\n",
        ">>> recherche('a',\"mississippi\")\n",
        "0\n",
        "```\n",
        "\n",
        "\n"
      ]
    },
    {
      "cell_type": "code",
      "metadata": {
        "colab": {
          "base_uri": "https://localhost:8080/"
        },
        "id": "8eRbBvgC2um3",
        "outputId": "2ce4c003-17e8-4197-d824-e30010e86aa7"
      },
      "source": [
        "def recherche(caractere, mot):\n",
        "    total = 0\n",
        "    for i in range(len(mot)):\n",
        "        if mot[i] == caractere :\n",
        "            total += 1\n",
        "    return total\n",
        "\n",
        "assert recherche('e', \"sciences\")==2\n",
        "assert recherche('i',\"mississippi\")==4\n",
        "assert recherche('a',\"mississippi\")==0\n",
        "assert recherche('a',\"\") == 0\n",
        "assert recherche('a',\"aaa\") == 3\n",
        "print(\"test OK\")"
      ],
      "execution_count": 5,
      "outputs": [
        {
          "output_type": "stream",
          "name": "stdout",
          "text": [
            "test OK\n"
          ]
        }
      ]
    },
    {
      "cell_type": "code",
      "metadata": {
        "colab": {
          "base_uri": "https://localhost:8080/"
        },
        "id": "lmYXT4B33Xf9",
        "outputId": "7d5e78e5-8b23-4411-a539-9cd2d360d2f2"
      },
      "source": [
        "recherche('e', \"sciences\")"
      ],
      "execution_count": 2,
      "outputs": [
        {
          "output_type": "execute_result",
          "data": {
            "text/plain": [
              "2"
            ]
          },
          "metadata": {},
          "execution_count": 2
        }
      ]
    },
    {
      "cell_type": "code",
      "metadata": {
        "colab": {
          "base_uri": "https://localhost:8080/"
        },
        "id": "WaWk4o6N3a-N",
        "outputId": "c94f8ab9-6fbe-445e-9a94-bf802d9dcd5f"
      },
      "source": [
        "recherche('i',\"mississippi\")"
      ],
      "execution_count": 3,
      "outputs": [
        {
          "output_type": "execute_result",
          "data": {
            "text/plain": [
              "4"
            ]
          },
          "metadata": {},
          "execution_count": 3
        }
      ]
    },
    {
      "cell_type": "code",
      "metadata": {
        "colab": {
          "base_uri": "https://localhost:8080/"
        },
        "id": "pvpYHIv63fVl",
        "outputId": "8486184b-fb47-48e5-efbf-9da1eb412a14"
      },
      "source": [
        "recherche('a',\"mississippi\")"
      ],
      "execution_count": 4,
      "outputs": [
        {
          "output_type": "execute_result",
          "data": {
            "text/plain": [
              "0"
            ]
          },
          "metadata": {},
          "execution_count": 4
        }
      ]
    },
    {
      "cell_type": "markdown",
      "metadata": {
        "id": "XJNLFqJshz4d"
      },
      "source": [
        "# Exercice 2"
      ]
    },
    {
      "cell_type": "markdown",
      "metadata": {
        "id": "EHbzpJSGh3xE"
      },
      "source": [
        "On s’intéresse à un algorithme récursif qui permet de rendre la monnaie à partir d’une liste donnée de valeurs de pièces et de billets \n",
        "* le système monétaire est donné sous forme d’une `liste pieces=[100, 50, 20, 10, 5, 2, 1]` \n",
        "* on supposera qu’il n’y a pas de limitation quant à leur nombre, \n",
        "* on cherche à donner la liste de pièces à rendre pour une somme donnée en argument.\n",
        "\n",
        "\n",
        "Compléter le code Python ci-dessous de la fonction `rendu_glouton` qui implémente cet algorithme et renvoie la liste des pièces à rendre\n",
        "\n",
        "\n",
        "On devra obtenir :\n",
        "```\n",
        ">>>rendu_glouton(68,[],0)\n",
        "[50, 10, 5, 2, 1]\n",
        ">>>rendu_glouton(291,[],0)\n",
        "[100, 100, 50, 20, 20, 1]\n",
        "```\n",
        "\n"
      ]
    },
    {
      "cell_type": "code",
      "metadata": {
        "id": "n3CPJuCehPPk"
      },
      "source": [
        "pieces = [100,50,20,10,5,2,1]\n",
        "\n",
        "def rendu_glouton(arendre, solution=[], i=0):\n",
        "    if arendre == 0:\n",
        "       return ...\n",
        "    p = pieces[i]\n",
        "    if p <= ... :\n",
        "        solution.append(...)\n",
        "        return rendu_glouton(arendre - p, solution ,i)\n",
        "    else :\n",
        "        return rendu_glouton(arendre, solution, ...)"
      ],
      "execution_count": null,
      "outputs": []
    }
  ]
}