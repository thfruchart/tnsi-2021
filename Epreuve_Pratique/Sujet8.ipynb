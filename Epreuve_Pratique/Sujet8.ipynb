{
  "nbformat": 4,
  "nbformat_minor": 0,
  "metadata": {
    "colab": {
      "name": "Epreuve_Pratique_Sujet8.ipynb",
      "provenance": [],
      "collapsed_sections": [],
      "authorship_tag": "ABX9TyM90TxzLjkO93EHld5A3jU+",
      "include_colab_link": true
    },
    "kernelspec": {
      "name": "python3",
      "display_name": "Python 3"
    }
  },
  "cells": [
    {
      "cell_type": "markdown",
      "metadata": {
        "id": "view-in-github",
        "colab_type": "text"
      },
      "source": [
        "<a href=\"https://colab.research.google.com/github/thfruchart/tnsi/blob/main/Epreuve_Pratique/Sujet8.ipynb\" target=\"_parent\"><img src=\"https://colab.research.google.com/assets/colab-badge.svg\" alt=\"Open In Colab\"/></a>"
      ]
    },
    {
      "cell_type": "markdown",
      "metadata": {
        "id": "RiTwvMn0hXFW"
      },
      "source": [
        "# Exercice 1"
      ]
    },
    {
      "cell_type": "markdown",
      "metadata": {
        "id": "q-gYdOzehnps"
      },
      "source": [
        "Écrire une fonction `recherche` qui prend en paramètres `caractere`, un caractère, et `mot`, une chaîne de caractères, et qui renvoie le nombre d’occurrences de `caractere` dans `mot`, c’est-à-dire le nombre de fois où `caractere` apparaît dans `mot`.\n",
        "\n",
        "\n",
        "Exemples :\n",
        "\n",
        "\n",
        "```\n",
        ">>> recherche('e', \"sciences\")\n",
        "2\n",
        ">>> recherche('i',\"mississippi\")\n",
        "4\n",
        ">>> recherche('a',\"mississippi\")\n",
        "0\n",
        "```\n",
        "\n",
        "\n"
      ]
    },
    {
      "cell_type": "markdown",
      "metadata": {
        "id": "XJNLFqJshz4d"
      },
      "source": [
        "# Exercice 2"
      ]
    },
    {
      "cell_type": "markdown",
      "metadata": {
        "id": "jfAisy9qzFyZ"
      },
      "source": [
        "## AVANT d'aborder l'exercice 2 : revoir le concept d'[algorithme **glouton**](https://pixees.fr/informatiquelycee/n_site/nsi_prem_glouton_algo.html)"
      ]
    },
    {
      "cell_type": "markdown",
      "metadata": {
        "id": "EHbzpJSGh3xE"
      },
      "source": [
        "On s’intéresse à un algorithme récursif qui permet de rendre la monnaie à partir d’une liste donnée de valeurs de pièces et de billets \n",
        "* le système monétaire est donné sous forme d’une `liste pieces=[100, 50, 20, 10, 5, 2, 1]` \n",
        "* on supposera qu’il n’y a pas de limitation quant à leur nombre, \n",
        "* on cherche à donner la liste de pièces à rendre pour une somme donnée en argument.\n",
        "\n",
        "\n",
        "Compléter le code Python ci-dessous de la fonction `rendu_glouton` qui implémente cet algorithme et renvoie la liste des pièces à rendre\n",
        "\n",
        "\n",
        "On devra obtenir :\n",
        "```\n",
        ">>>rendu_glouton(68,[],0)\n",
        "[50, 10, 5, 2, 1]\n",
        ">>>rendu_glouton(291,[],0)\n",
        "[100, 100, 50, 20, 20, 1]\n",
        "```\n",
        "\n"
      ]
    },
    {
      "cell_type": "code",
      "metadata": {
        "id": "n3CPJuCehPPk"
      },
      "source": [
        "pieces = [100,50,20,10,5,2,1]\n",
        "\n",
        "def rendu_glouton(arendre, solution=[], i=0):\n",
        "    if arendre == 0:\n",
        "       return ...\n",
        "    p = pieces[i]\n",
        "    if p <= ... :\n",
        "        solution.append(...)\n",
        "        return rendu_glouton(arendre - p, solution ,i)\n",
        "    else :\n",
        "        return rendu_glouton(arendre, solution, ...)"
      ],
      "execution_count": null,
      "outputs": []
    }
  ]
}