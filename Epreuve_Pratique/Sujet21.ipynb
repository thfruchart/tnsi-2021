{
  "nbformat": 4,
  "nbformat_minor": 0,
  "metadata": {
    "colab": {
      "name": "Untitled3.ipynb",
      "provenance": [],
      "authorship_tag": "ABX9TyN2IQWyCVnSxErUUt7nBwrK",
      "include_colab_link": true
    },
    "kernelspec": {
      "name": "python3",
      "display_name": "Python 3"
    },
    "language_info": {
      "name": "python"
    }
  },
  "cells": [
    {
      "cell_type": "markdown",
      "metadata": {
        "id": "view-in-github",
        "colab_type": "text"
      },
      "source": [
        "<a href=\"https://colab.research.google.com/github/thfruchart/tnsi/blob/main/Epreuve_Pratique/Sujet21.ipynb\" target=\"_parent\"><img src=\"https://colab.research.google.com/assets/colab-badge.svg\" alt=\"Open In Colab\"/></a>"
      ]
    },
    {
      "cell_type": "markdown",
      "source": [
        "# Epreuve pratique 21"
      ],
      "metadata": {
        "id": "nUUsOkplIMEW"
      }
    },
    {
      "cell_type": "code",
      "execution_count": 2,
      "metadata": {
        "colab": {
          "base_uri": "https://localhost:8080/"
        },
        "id": "2rHbcGn0ILBE",
        "outputId": "a74b0047-c1f0-415c-f6be-7330314c4f01"
      },
      "outputs": [
        {
          "output_type": "stream",
          "name": "stdout",
          "text": [
            "test OK\n"
          ]
        }
      ],
      "source": [
        "def nb_repetitions(elt, tab):\n",
        "    return \n",
        "\n",
        "assert nb_repetitions(5, [2,5,3,5,6,9,5]) == 3\n",
        "assert nb_repetitions('A', ['B', 'A', 'B', 'A', 'R']) == 2\n",
        "assert nb_repetitions(12, [1,'!', 7, 21, 36, 44]) == 0\n",
        "print('test OK')"
      ]
    },
    {
      "cell_type": "code",
      "source": [
        "def binaire(a) : \n",
        "    bin_a = str()\n",
        "    a = a//2\n",
        "    while a    :\n",
        "        bin_a =   (a%2) + \n",
        "        a = \n",
        "    return bin_a\n",
        "\n",
        "assert binaire(0) == '0'\n",
        "assert binaire(77) == '1001101'"
      ],
      "metadata": {
        "id": "smHfSvSlJQg8"
      },
      "execution_count": null,
      "outputs": []
    }
  ]
}