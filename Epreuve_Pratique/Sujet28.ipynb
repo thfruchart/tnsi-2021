{
  "nbformat": 4,
  "nbformat_minor": 0,
  "metadata": {
    "colab": {
      "name": "Sujet28.ipynb",
      "provenance": [],
      "authorship_tag": "ABX9TyOK5exWRwsWASn5RxCZDevD",
      "include_colab_link": true
    },
    "kernelspec": {
      "name": "python3",
      "display_name": "Python 3"
    },
    "language_info": {
      "name": "python"
    }
  },
  "cells": [
    {
      "cell_type": "markdown",
      "metadata": {
        "id": "view-in-github",
        "colab_type": "text"
      },
      "source": [
        "<a href=\"https://colab.research.google.com/github/thfruchart/tnsi/blob/main/Epreuve_Pratique/Sujet28.ipynb\" target=\"_parent\"><img src=\"https://colab.research.google.com/assets/colab-badge.svg\" alt=\"Open In Colab\"/></a>"
      ]
    },
    {
      "cell_type": "markdown",
      "source": [
        "# Exercice 1"
      ],
      "metadata": {
        "id": "bybuy9T93uDd"
      }
    },
    {
      "cell_type": "markdown",
      "source": [
        "Dans cet exercice, un arbre binaire de caractères est stocké sous la forme d’un\n",
        "dictionnaire où les clefs sont les caractères des nœuds de l’arbre et les valeurs, pour\n",
        "chaque clef, la liste des caractères des fils gauche et droit du nœud.\n",
        "\n",
        "Exemple : "
      ],
      "metadata": {
        "id": "VEwTyIXv3v1U"
      }
    },
    {
      "cell_type": "code",
      "execution_count": 1,
      "metadata": {
        "id": "OucN00eo3rhn"
      },
      "outputs": [],
      "source": [
        "a = {'F':['B','G'], 'B':['A','D'], 'A':['',''], 'D':['C','E'],\n",
        "     'C':['',''], 'E':['',''], 'G':['','I'], 'I':['','H'],'H':['','']}"
      ]
    },
    {
      "cell_type": "markdown",
      "source": [
        "Écrire une fonction récursive `taille` prenant en paramètres un arbre binaire `arbre`\n",
        "sous la forme d’un dictionnaire et un caractère lettre qui est la valeur du sommet de\n",
        "l’arbre, et qui renvoie la taille de l’arbre à savoir le nombre total de nœud.\n",
        "On pourra distinguer les 4 cas où les deux « fils » du nœud sont '', le fils gauche\n",
        "seulement est '', le fils droit seulement est '', aucun des deux fils n’est ''.\n",
        "Exemple :\n",
        "\n",
        "    >>> taille(a, ’F’)\n",
        "    9"
      ],
      "metadata": {
        "id": "9xjqIqiF4HeO"
      }
    },
    {
      "cell_type": "code",
      "source": [
        ""
      ],
      "metadata": {
        "id": "tZxUgBP04NkE"
      },
      "execution_count": null,
      "outputs": []
    },
    {
      "cell_type": "markdown",
      "source": [
        "# Exercice 2"
      ],
      "metadata": {
        "id": "p1PPeQMX4N8g"
      }
    },
    {
      "cell_type": "markdown",
      "source": [
        "On considère l'algorithme de tri de tableau suivant : à chaque étape, on parcourt depuis\n",
        "le début du tableau tous les éléments non rangés et on place en dernière position le plus\n",
        "grand élément.\n",
        "\n",
        "Exemple avec le tableau :\n",
        "\n",
        "    t = [41, 55, 21, 18, 12, 6, 25]\n",
        "\n",
        "**Etape 1** : on parcourt tous les éléments du tableau, on permute le plus grand élément avec\n",
        "le dernier. Le tableau devient\n",
        "\n",
        "`t = [41, 25, 21, 18, 12, 6, `**`55`**`]`\n",
        "\n",
        "\n",
        "**Etape 2** : on parcourt tous les éléments sauf le dernier, on permute le plus grand élément\n",
        "trouvé avec l'avant dernier. Le tableau devient :\n",
        "\n",
        "`t = [6, 25, 21, 18, 12,`**`41`**`, 55]`\n",
        "\n",
        "Et ainsi de suite.\n",
        "\n",
        "La code de la fonction tri_iteratif qui implémente cet algorithme est donné ci-\n",
        "dessous.\n",
        "\n",
        "Compléter le code qui doit donner :\n",
        "\n",
        "    >>> tri_iteratif([41, 55, 21, 18, 12, 6, 25])\n",
        "    [6, 18, 12, 21, 25, 41, 55]\n",
        "\n",
        "On rappelle que l’instruction\n",
        "\n",
        "    a, b = b, a\n",
        "    \n",
        "échange les contenus de a et de b."
      ],
      "metadata": {
        "id": "YJC5Qwai4RPg"
      }
    },
    {
      "cell_type": "code",
      "source": [
        "def tri_iteratif(tab):\n",
        "    for k in range( ... , 0, -1):\n",
        "        imax = ...\n",
        "        for i in range(0 , ... ):\n",
        "            if tab[i] > ... :\n",
        "                imax = i\n",
        "        if tab[max] > ... :\n",
        "            ... , tab[imax] = tab[imax] , ...\n",
        "    return tab"
      ],
      "metadata": {
        "id": "iQF7sOJi5EK1"
      },
      "execution_count": null,
      "outputs": []
    }
  ]
}