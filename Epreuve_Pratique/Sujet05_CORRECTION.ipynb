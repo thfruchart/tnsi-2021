{
  "nbformat": 4,
  "nbformat_minor": 0,
  "metadata": {
    "colab": {
      "name": "Sujet05.ipynb",
      "provenance": [],
      "authorship_tag": "ABX9TyObR1cm8bZKg3aOPZspHI/f",
      "include_colab_link": true
    },
    "kernelspec": {
      "name": "python3",
      "display_name": "Python 3"
    },
    "language_info": {
      "name": "python"
    }
  },
  "cells": [
    {
      "cell_type": "markdown",
      "metadata": {
        "id": "view-in-github",
        "colab_type": "text"
      },
      "source": [
        "<a href=\"https://colab.research.google.com/github/thfruchart/tnsi/blob/main/Epreuve_Pratique/Sujet05_CORRECTION.ipynb\" target=\"_parent\"><img src=\"https://colab.research.google.com/assets/colab-badge.svg\" alt=\"Open In Colab\"/></a>"
      ]
    },
    {
      "cell_type": "markdown",
      "source": [
        "# Exercice 1"
      ],
      "metadata": {
        "id": "mTbKyfAlJx3G"
      }
    },
    {
      "cell_type": "markdown",
      "source": [
        "Écrire une fonction `RechercheMinMax` qui prend en paramètre un tableau de nombres non triés `tab`, et qui renvoie la plus petite et la plus grande valeur du tableau sous la forme d’un dictionnaire à deux clés ‘min’ et ‘max’. Les tableaux seront représentés sous\n",
        "forme de liste Python.  \n",
        "\n",
        "Exemples :\n",
        "\n",
        "    >>> tableau = [0, 1, 4, 2, -2, 9, 3, 1, 7, 1]\n",
        "    >>> resultat = rechercheMinMax(tableau)\n",
        "    >>> resultat\n",
        "    {'min': -2, 'max': 9}\n",
        "    >>> tableau = []\n",
        "    >>> resultat = rechercheMinMax(tableau)\n",
        "    >>> resultat\n",
        "    {'min': None, 'max': None}"
      ],
      "metadata": {
        "id": "gs_-XvNXDevB"
      }
    },
    {
      "cell_type": "code",
      "execution_count": 12,
      "metadata": {
        "id": "_jBbOp7yDcoI"
      },
      "outputs": [],
      "source": [
        "def RechercheMinMax (tab):\n",
        "    if len(tab)==0: \n",
        "        return {'min': None, 'max':None}\n",
        "    else : \n",
        "        m = tab[0]\n",
        "        M = tab[0]\n",
        "        for v in tab[1:] :\n",
        "            if v < m :\n",
        "                m = v \n",
        "            if v > M :\n",
        "                M = v \n",
        "        return {'min': m, 'max':M}\n"
      ]
    },
    {
      "cell_type": "code",
      "source": [
        "tableau = [0, 1, 4, 2, -2, 9, 3, 1, 7, 1]\n",
        "RechercheMinMax(tableau)"
      ],
      "metadata": {
        "id": "ILJg079LJh9t",
        "outputId": "6e33a901-7287-46b6-831e-cac01608185e",
        "colab": {
          "base_uri": "https://localhost:8080/"
        }
      },
      "execution_count": 13,
      "outputs": [
        {
          "output_type": "execute_result",
          "data": {
            "text/plain": [
              "{'max': 9, 'min': -2}"
            ]
          },
          "metadata": {},
          "execution_count": 13
        }
      ]
    },
    {
      "cell_type": "code",
      "source": [
        "RechercheMinMax([])"
      ],
      "metadata": {
        "id": "HTXHQp7hJuwt",
        "outputId": "2652e357-46e5-4a3b-b54a-3e2b62946ec3",
        "colab": {
          "base_uri": "https://localhost:8080/"
        }
      },
      "execution_count": 14,
      "outputs": [
        {
          "output_type": "execute_result",
          "data": {
            "text/plain": [
              "{'max': None, 'min': None}"
            ]
          },
          "metadata": {},
          "execution_count": 14
        }
      ]
    },
    {
      "cell_type": "markdown",
      "source": [
        "# Exercice 2"
      ],
      "metadata": {
        "id": "Z5cF7KaGDq3S"
      }
    },
    {
      "cell_type": "markdown",
      "source": [
        "On dispose d’un programme permettant de créer un objet de type PaquetDeCarte,\n",
        "selon les éléments indiqués dans le code ci-dessous.\n",
        "\n",
        "Compléter ce code aux endroits indiqués par `#A compléter`, puis ajouter des\n",
        "assertions dans l’initialiseur de `Carte`, ainsi que dans la méthode `getCarteAt()`."
      ],
      "metadata": {
        "id": "hnfZdWivDxBg"
      }
    },
    {
      "cell_type": "markdown",
      "source": [
        "\n",
        "\n",
        "```\n",
        "class Carte:\n",
        "    \"\"\"Initialise Couleur (entre 1 à 4), et Valeur (entre 1 à 13)\"\"\"\n",
        "    def __init__(self, c, v):\n",
        "        self.Couleur = c\n",
        "        self.Valeur = v\n",
        "\n",
        "    \"\"\"Renvoie le nom de la Carte As, 2, ... 10, \n",
        "       Valet, Dame, Roi\"\"\"\n",
        "    def getNom(self):\n",
        "        if ( self.Valeur > 1 and self.Valeur < 11):\n",
        "            return str( self.Valeur)\n",
        "        elif self.Valeur == 11:\n",
        "            return \"Valet\"\n",
        "        elif self.Valeur == 12:\n",
        "            return \"Dame\"\n",
        "        elif self.Valeur == 13:\n",
        "            return \"Roi\"\n",
        "        else:\n",
        "            return \"As\"\n",
        "\n",
        "    \"\"\"Renvoie la couleur de la Carte (parmi pique, coeur, carreau, trefle\"\"\"\n",
        "    def getCouleur(self):\n",
        "        return ['pique', 'coeur', 'carreau', 'trefle' ][self.Couleur - 1]\n",
        "\n",
        "class PaquetDeCarte:\n",
        "    def __init__(self):\n",
        "        self.contenu = []\n",
        "\n",
        "    \"\"\"Remplit le paquet de cartes\"\"\"\n",
        "    def remplir(self):\n",
        "\t#A compléter\n",
        "\n",
        "    \"\"\"Renvoie la Carte qui se trouve à la position donnée\"\"\"\n",
        "    def getCarteAt(self, pos):\n",
        "        #A compléter\n",
        "\n",
        "```\n",
        "\n"
      ],
      "metadata": {
        "id": "Zw2olB9rEyrU"
      }
    },
    {
      "cell_type": "markdown",
      "source": [
        "Exemple :\n",
        "\n",
        "    >>> unPaquet = PaquetDeCarte()\n",
        "    >>> unPaquet.remplir()\n",
        "    >>> uneCarte = unPaquet.getCarteAt(20)\n",
        "    >>> print(uneCarte.getNom() + \" de \" + uneCarte.getCouleur())\n",
        "    6 de coeur"
      ],
      "metadata": {
        "id": "v-n5XKsKHi-M"
      }
    },
    {
      "cell_type": "code",
      "source": [
        "class Carte:\n",
        "    \"\"\"Initialise Couleur (entre 1 à 4), et Valeur (entre 1 à 13)\"\"\"\n",
        "    def __init__(self, c, v):\n",
        "        assert 1<= c <= 4, 'la couleur doit être entre 1 et 4'\n",
        "        assert 1 <= v <= 13, 'la valeur doit être entre 1 et 13'\n",
        "        self.Couleur = c\n",
        "        self.Valeur = v\n",
        "\n",
        "    \"\"\"Renvoie le nom de la Carte As, 2, ... 10, \n",
        "       Valet, Dame, Roi\"\"\"\n",
        "    def getNom(self):\n",
        "        if ( self.Valeur > 1 and self.Valeur < 11):\n",
        "            return str( self.Valeur)\n",
        "        elif self.Valeur == 11:\n",
        "            return \"Valet\"\n",
        "        elif self.Valeur == 12:\n",
        "            return \"Dame\"\n",
        "        elif self.Valeur == 13:\n",
        "            return \"Roi\"\n",
        "        else:\n",
        "            return \"As\"\n",
        "\n",
        "    \"\"\"Renvoie la couleur de la Carte (parmi pique, coeur, carreau, trefle\"\"\"\n",
        "    def getCouleur(self):\n",
        "        return ['pique', 'coeur', 'carreau', 'trefle' ][self.Couleur - 1]\n",
        "    \n",
        "    def __str__(self):\n",
        "        return self.getNom()+' de '+self.getCouleur()\n",
        "\n",
        "class PaquetDeCarte:\n",
        "    def __init__(self):\n",
        "        self.contenu = []\n",
        "\n",
        "    \"\"\"Remplit le paquet de cartes\"\"\"\n",
        "    def remplir(self):\n",
        "\t    #A compléter\n",
        "        for c in range(1,4+1): # pour chaque couleur\n",
        "            for v in range(13,0,-1): # pour chaque valeur \n",
        "                self.contenu.append(Carte(c,v))\n",
        "\n",
        "    \"\"\"Renvoie la Carte qui se trouve à la position donnée\"\"\"\n",
        "    def getCarteAt(self, pos):\n",
        "        assert 0<=pos<=len(self.contenu)\n",
        "        #A compléter\n",
        "        return self.contenu[pos]\n",
        "    \n",
        "    def __getitem__(self,i):\n",
        "        assert 0<=i<=len(self.contenu)\n",
        "        #A compléter\n",
        "        return self.contenu[i]\n"
      ],
      "metadata": {
        "id": "nQ3VqlhXDtJc"
      },
      "execution_count": 35,
      "outputs": []
    },
    {
      "cell_type": "code",
      "source": [
        "unPaquet = PaquetDeCarte()\n",
        "unPaquet.remplir()\n",
        "uneCarte = unPaquet.getCarteAt(20)\n",
        "print(uneCarte.getNom() + \" de \" + uneCarte.getCouleur())"
      ],
      "metadata": {
        "id": "Y1vk5OT-DsXI",
        "outputId": "192ff6eb-8091-4cf7-bffe-41d40c7f79db",
        "colab": {
          "base_uri": "https://localhost:8080/"
        }
      },
      "execution_count": 39,
      "outputs": [
        {
          "output_type": "stream",
          "name": "stdout",
          "text": [
            "6 de coeur\n"
          ]
        }
      ]
    },
    {
      "cell_type": "code",
      "source": [
        "for i in range(52):\n",
        "    print(unPaquet.getCarteAt(i))   "
      ],
      "metadata": {
        "id": "KUvLbf4xKUh1",
        "outputId": "24ccafbf-6d9e-44de-c20f-1140bf53e94e",
        "colab": {
          "base_uri": "https://localhost:8080/"
        }
      },
      "execution_count": 25,
      "outputs": [
        {
          "output_type": "stream",
          "name": "stdout",
          "text": [
            "Roi de pique\n",
            "Dame de pique\n",
            "Valet de pique\n",
            "10 de pique\n",
            "9 de pique\n",
            "8 de pique\n",
            "7 de pique\n",
            "6 de pique\n",
            "5 de pique\n",
            "4 de pique\n",
            "3 de pique\n",
            "2 de pique\n",
            "As de pique\n",
            "Roi de coeur\n",
            "Dame de coeur\n",
            "Valet de coeur\n",
            "10 de coeur\n",
            "9 de coeur\n",
            "8 de coeur\n",
            "7 de coeur\n",
            "6 de coeur\n",
            "5 de coeur\n",
            "4 de coeur\n",
            "3 de coeur\n",
            "2 de coeur\n",
            "As de coeur\n",
            "Roi de carreau\n",
            "Dame de carreau\n",
            "Valet de carreau\n",
            "10 de carreau\n",
            "9 de carreau\n",
            "8 de carreau\n",
            "7 de carreau\n",
            "6 de carreau\n",
            "5 de carreau\n",
            "4 de carreau\n",
            "3 de carreau\n",
            "2 de carreau\n",
            "As de carreau\n",
            "Roi de trefle\n",
            "Dame de trefle\n",
            "Valet de trefle\n",
            "10 de trefle\n",
            "9 de trefle\n",
            "8 de trefle\n",
            "7 de trefle\n",
            "6 de trefle\n",
            "5 de trefle\n",
            "4 de trefle\n",
            "3 de trefle\n",
            "2 de trefle\n",
            "As de trefle\n"
          ]
        }
      ]
    },
    {
      "cell_type": "code",
      "source": [
        "for i in range(52):\n",
        "    print(unPaquet[i])"
      ],
      "metadata": {
        "id": "faOSxZYmLvD-",
        "outputId": "4e422712-e94f-41cf-e7ae-155c2595ed34",
        "colab": {
          "base_uri": "https://localhost:8080/"
        }
      },
      "execution_count": 38,
      "outputs": [
        {
          "output_type": "stream",
          "name": "stdout",
          "text": [
            "Roi de pique\n",
            "Dame de pique\n",
            "Valet de pique\n",
            "10 de pique\n",
            "9 de pique\n",
            "8 de pique\n",
            "7 de pique\n",
            "6 de pique\n",
            "5 de pique\n",
            "4 de pique\n",
            "3 de pique\n",
            "2 de pique\n",
            "As de pique\n",
            "Roi de coeur\n",
            "Dame de coeur\n",
            "Valet de coeur\n",
            "10 de coeur\n",
            "9 de coeur\n",
            "8 de coeur\n",
            "7 de coeur\n",
            "6 de coeur\n",
            "5 de coeur\n",
            "4 de coeur\n",
            "3 de coeur\n",
            "2 de coeur\n",
            "As de coeur\n",
            "Roi de carreau\n",
            "Dame de carreau\n",
            "Valet de carreau\n",
            "10 de carreau\n",
            "9 de carreau\n",
            "8 de carreau\n",
            "7 de carreau\n",
            "6 de carreau\n",
            "5 de carreau\n",
            "4 de carreau\n",
            "3 de carreau\n",
            "2 de carreau\n",
            "As de carreau\n",
            "Roi de trefle\n",
            "Dame de trefle\n",
            "Valet de trefle\n",
            "10 de trefle\n",
            "9 de trefle\n",
            "8 de trefle\n",
            "7 de trefle\n",
            "6 de trefle\n",
            "5 de trefle\n",
            "4 de trefle\n",
            "3 de trefle\n",
            "2 de trefle\n",
            "As de trefle\n"
          ]
        }
      ]
    }
  ]
}