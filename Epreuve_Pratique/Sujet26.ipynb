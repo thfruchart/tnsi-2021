{
  "nbformat": 4,
  "nbformat_minor": 0,
  "metadata": {
    "colab": {
      "name": "Sujet26.ipynb",
      "provenance": [],
      "authorship_tag": "ABX9TyM8xThA4JwJK0ITscwgJy3N",
      "include_colab_link": true
    },
    "kernelspec": {
      "name": "python3",
      "display_name": "Python 3"
    },
    "language_info": {
      "name": "python"
    }
  },
  "cells": [
    {
      "cell_type": "markdown",
      "metadata": {
        "id": "view-in-github",
        "colab_type": "text"
      },
      "source": [
        "<a href=\"https://colab.research.google.com/github/thfruchart/tnsi/blob/main/Epreuve_Pratique/Sujet26.ipynb\" target=\"_parent\"><img src=\"https://colab.research.google.com/assets/colab-badge.svg\" alt=\"Open In Colab\"/></a>"
      ]
    },
    {
      "cell_type": "markdown",
      "metadata": {
        "id": "ahgy7Vl2Fvlh"
      },
      "source": [
        "# Exercice 1\n",
        "\n",
        "Écrire une fonction `occurrence_max` prenant en paramètres une chaîne de caractères\n",
        "`chaine` et qui renvoie le caractère le plus fréquent de la chaîne. La chaîne ne contient\n",
        "que des lettres en minuscules sans accent.\n",
        "On pourra s’aider du tableau\n",
        "\n",
        "`alphabet=['a','b','c','d','e','f','g','h','i','j','k','l','m','n','o,','p','q','r','s','t','u','v','w','x','y','z']`\n",
        "\n",
        "et du tableau `occurrence` de 26 éléments où l’on mettra dans `occurrence[i]` le\n",
        "nombre d’apparitions de `alphabet[i]` dans la chaine. Puis on calculera l’indice `k` d’un\n",
        "maximum du tableau occurrence et on affichera `alphabet[k]`.\n",
        "\n",
        "Exemple :\n",
        "\n",
        "    >>> ch='je suis en terminale et je passe le bac et je souhaite poursuivre des etudes pour devenir expert en informatique’\n",
        "    >>> occurrence_max(ch)\n",
        "    ‘e’"
      ]
    },
    {
      "cell_type": "code",
      "metadata": {
        "id": "T3rDnNRsFuuc"
      },
      "source": [
        ""
      ],
      "execution_count": null,
      "outputs": []
    },
    {
      "cell_type": "markdown",
      "metadata": {
        "id": "9-mcJI1rGl8z"
      },
      "source": [
        "# Exercice 2\n",
        "\n",
        "On considère une image en 256 niveaux de gris que l’on représente par une grille de\n",
        "nombres, c’est-à-dire une liste composée de sous-listes toutes de longueurs identiques.\n",
        "La largeur de l’image est donc la longueur d’une sous-liste et la hauteur de l’image est le\n",
        "nombre de sous-listes.\n",
        "Chaque sous-liste représente une ligne de l’image et chaque élément des sous-listes est\n",
        "un entier compris entre 0 et 255, représentant l’intensité lumineuse du pixel.\n",
        "Compléter le programme ci-dessous :"
      ]
    },
    {
      "cell_type": "code",
      "metadata": {
        "id": "FmE915COGr9H"
      },
      "source": [
        "def nbLig(image):\n",
        "    '''renvoie le nombre de lignes de l'image'''\n",
        "    return ...\n",
        "\n",
        "def nbCol(image):\n",
        "    '''renvoie la largeur de l'image'''\n",
        "    return ...\n",
        "\n",
        "def negatif(image):\n",
        "    '''renvoie le négatif de l'image sous la forme\n",
        "    d'une liste de listes'''\n",
        "    # on créé une image de 0 aux mêmes dimensions que le paramètre image\n",
        "    L = [[0 for k in range(nbCol(image))] for i in range(nbLig(image))] \n",
        "    for i in range(len(image)):\n",
        "        for j in range(...):\n",
        "            L[i][j] = ...\n",
        "    return L\n",
        "\n",
        "def binaire(image, seuil):\n",
        "    '''renvoie une image binarisée de l'image sous la forme\n",
        "    d'une liste de listes contenant des 0 si la valeur\n",
        "    du pixel est strictement inférieure au seuil\n",
        "    et 1 sinon'''\n",
        "    # on crée une image de 0 aux mêmes dimensions que le paramètre image\n",
        "    L = [[0 for k in range(nbCol(image))] for i in range(nbLig(image))] \n",
        "    for i in range(len(image)):\n",
        "        for j in range(...):\n",
        "            if L[i][j] < ... :\n",
        "                L[i][j] = ...\n",
        "            else:\n",
        "                L[i][j] = ...\n",
        "    return L"
      ],
      "execution_count": null,
      "outputs": []
    },
    {
      "cell_type": "markdown",
      "metadata": {
        "id": "KBOU8f6yHeLB"
      },
      "source": [
        "Exemple :\n",
        "\n",
        "    >>> img=[[20, 34, 254, 145, 6], [23, 124, 287, 225, 69], [197, 174, 207, 25, 87], [255, 0, 24, 197, 189]]\n",
        "    >>> nbLig(img)\n",
        "    4\n",
        "    >>> nbCol(img)\n",
        "    5\n",
        "    >>> negatif(img)\n",
        "    [[235, 221, 1, 110, 249], [232, 131,-32, 30, 186], [58, 81, 48, 230, 168], [0, 255, 231, 58, 66]]\n",
        "    >>> binaire(img,120)\n",
        "    [[1, 1, 0, 0, 1], [1, 1, 0, 0, 1], [0, 0, 0, 1, 1], [0, 1, 1, 0, 0]]"
      ]
    }
  ]
}