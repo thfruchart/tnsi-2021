{
  "nbformat": 4,
  "nbformat_minor": 0,
  "metadata": {
    "colab": {
      "name": "Sujet05.ipynb",
      "provenance": [],
      "authorship_tag": "ABX9TyPwOkizsfabFc9urIVJJoW1",
      "include_colab_link": true
    },
    "kernelspec": {
      "name": "python3",
      "display_name": "Python 3"
    },
    "language_info": {
      "name": "python"
    }
  },
  "cells": [
    {
      "cell_type": "markdown",
      "metadata": {
        "id": "view-in-github",
        "colab_type": "text"
      },
      "source": [
        "<a href=\"https://colab.research.google.com/github/thfruchart/tnsi/blob/main/Epreuve_Pratique/Sujet05.ipynb\" target=\"_parent\"><img src=\"https://colab.research.google.com/assets/colab-badge.svg\" alt=\"Open In Colab\"/></a>"
      ]
    },
    {
      "cell_type": "markdown",
      "source": [
        "Écrire une fonction `RechercheMinMax` qui prend en paramètre un tableau de nombres non triés `tab`, et qui renvoie la plus petite et la plus grande valeur du tableau sous la forme d’un dictionnaire à deux clés ‘min’ et ‘max’. Les tableaux seront représentés sous\n",
        "forme de liste Python.  \n",
        "\n",
        "Exemples :\n",
        "\n",
        "    >>> tableau = [0, 1, 4, 2, -2, 9, 3, 1, 7, 1]\n",
        "    >>> resultat = rechercheMinMax(tableau)\n",
        "    >>> resultat\n",
        "    {'min': -2, 'max': 9}\n",
        "    >>> tableau = []\n",
        "    >>> resultat = rechercheMinMax(tableau)\n",
        "    >>> resultat\n",
        "    {'min': None, 'max': None}"
      ],
      "metadata": {
        "id": "gs_-XvNXDevB"
      }
    },
    {
      "cell_type": "code",
      "execution_count": null,
      "metadata": {
        "id": "_jBbOp7yDcoI"
      },
      "outputs": [],
      "source": [
        ""
      ]
    },
    {
      "cell_type": "markdown",
      "source": [
        "# Exercice 2"
      ],
      "metadata": {
        "id": "Z5cF7KaGDq3S"
      }
    },
    {
      "cell_type": "markdown",
      "source": [
        "On dispose d’un programme permettant de créer un objet de type PaquetDeCarte,\n",
        "selon les éléments indiqués dans le code ci-dessous.\n",
        "\n",
        "Compléter ce code aux endroits indiqués par `#A compléter`, puis ajouter des\n",
        "assertions dans l’initialiseur de `Carte`, ainsi que dans la méthode `getCarteAt()`."
      ],
      "metadata": {
        "id": "hnfZdWivDxBg"
      }
    },
    {
      "cell_type": "markdown",
      "source": [
        "\n",
        "\n",
        "```\n",
        "class Carte:\n",
        "    \"\"\"Initialise Couleur (entre 1 à 4), et Valeur (entre 1 à 13)\"\"\"\n",
        "    def __init__(self, c, v):\n",
        "        self.Couleur = c\n",
        "        self.Valeur = v\n",
        "\n",
        "    \"\"\"Renvoie le nom de la Carte As, 2, ... 10, \n",
        "       Valet, Dame, Roi\"\"\"\n",
        "    def getNom(self):\n",
        "        if ( self.Valeur > 1 and self.Valeur < 11):\n",
        "            return str( self.Valeur)\n",
        "        elif self.Valeur == 11:\n",
        "            return \"Valet\"\n",
        "        elif self.Valeur == 12:\n",
        "            return \"Dame\"\n",
        "        elif self.Valeur == 13:\n",
        "            return \"Roi\"\n",
        "        else:\n",
        "            return \"As\"\n",
        "\n",
        "    \"\"\"Renvoie la couleur de la Carte (parmi pique, coeur, carreau, trefle\"\"\"\n",
        "    def getCouleur(self):\n",
        "        return ['pique', 'coeur', 'carreau', 'trefle' ][self.Couleur - 1]\n",
        "\n",
        "class PaquetDeCarte:\n",
        "    def __init__(self):\n",
        "        self.contenu = []\n",
        "\n",
        "    \"\"\"Remplit le paquet de cartes\"\"\"\n",
        "    def remplir(self):\n",
        "\t#A compléter\n",
        "\n",
        "    \"\"\"Renvoie la Carte qui se trouve à la position donnée\"\"\"\n",
        "    def getCarteAt(self, pos):\n",
        "        #A compléter\n",
        "\n",
        "```\n",
        "\n"
      ],
      "metadata": {
        "id": "Zw2olB9rEyrU"
      }
    },
    {
      "cell_type": "markdown",
      "source": [
        "Exemple :\n",
        "\n",
        "    >>> unPaquet = PaquetDeCarte()\n",
        "    >>> unPaquet.remplir()\n",
        "    >>> uneCarte = unPaquet.getCarteAt(20)\n",
        "    >>> print(uneCarte.getNom() + \" de \" + uneCarte.getCouleur())\n",
        "    6 de coeur"
      ],
      "metadata": {
        "id": "l522gb2zG9eF"
      }
    },
    {
      "cell_type": "code",
      "source": [
        "class Carte:\n",
        "    \"\"\"Initialise Couleur (entre 1 à 4), et Valeur (entre 1 à 13)\"\"\"\n",
        "    def __init__(self, c, v):\n",
        "        self.Couleur = c\n",
        "        self.Valeur = v\n",
        "\n",
        "    \"\"\"Renvoie le nom de la Carte As, 2, ... 10, \n",
        "       Valet, Dame, Roi\"\"\"\n",
        "    def getNom(self):\n",
        "        if ( self.Valeur > 1 and self.Valeur < 11):\n",
        "            return str( self.Valeur)\n",
        "        elif self.Valeur == 11:\n",
        "            return \"Valet\"\n",
        "        elif self.Valeur == 12:\n",
        "            return \"Dame\"\n",
        "        elif self.Valeur == 13:\n",
        "            return \"Roi\"\n",
        "        else:\n",
        "            return \"As\"\n",
        "\n",
        "    \"\"\"Renvoie la couleur de la Carte (parmi pique, coeur, carreau, trefle\"\"\"\n",
        "    def getCouleur(self):\n",
        "        return ['pique', 'coeur', 'carreau', 'trefle' ][self.Couleur - 1]\n",
        "\n",
        "class PaquetDeCarte:\n",
        "    def __init__(self):\n",
        "        self.contenu = []\n",
        "\n",
        "    \"\"\"Remplit le paquet de cartes\"\"\"\n",
        "    def remplir(self):\n",
        "\t#A compléter\n",
        "\n",
        "    \"\"\"Renvoie la Carte qui se trouve à la position donnée\"\"\"\n",
        "    def getCarteAt(self, pos):\n",
        "        #A compléter\n"
      ],
      "metadata": {
        "id": "nQ3VqlhXDtJc"
      },
      "execution_count": null,
      "outputs": []
    },
    {
      "cell_type": "code",
      "source": [
        ""
      ],
      "metadata": {
        "id": "Y1vk5OT-DsXI"
      },
      "execution_count": null,
      "outputs": []
    }
  ]
}