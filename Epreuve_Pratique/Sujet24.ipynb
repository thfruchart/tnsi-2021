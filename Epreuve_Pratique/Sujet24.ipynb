{
  "nbformat": 4,
  "nbformat_minor": 0,
  "metadata": {
    "colab": {
      "name": "Epreuve_Pratique_Sujet24.ipynb",
      "provenance": [],
      "authorship_tag": "ABX9TyOdtJlIq+vx/cThbEM2BzqX",
      "include_colab_link": true
    },
    "kernelspec": {
      "name": "python3",
      "display_name": "Python 3"
    },
    "language_info": {
      "name": "python"
    }
  },
  "cells": [
    {
      "cell_type": "markdown",
      "metadata": {
        "id": "view-in-github",
        "colab_type": "text"
      },
      "source": [
        "<a href=\"https://colab.research.google.com/github/thfruchart/tnsi/blob/main/Epreuve_Pratique/Sujet24.ipynb\" target=\"_parent\"><img src=\"https://colab.research.google.com/assets/colab-badge.svg\" alt=\"Open In Colab\"/></a>"
      ]
    },
    {
      "cell_type": "markdown",
      "source": [
        "# Exercice 1"
      ],
      "metadata": {
        "id": "YvJSuVCngZCS"
      }
    },
    {
      "cell_type": "markdown",
      "source": [
        "Écrire une fonction `recherche` qui prend en paramètres `elt` un nombre et `tab` un\n",
        "tableau de nombres, et qui renvoie l’indice de la dernière occurrence de `elt` dans `tab` si\n",
        "`elt` est dans `tab` et le -1 sinon.\n",
        "\n",
        "Exemples :\n",
        "\n",
        "\n",
        "    >>> recherche(1,[2,3,4])\n",
        "    -1\n",
        "    >>> recherche(1,[10,12,1,56])\n",
        "    2\n",
        "    >>> recherche(1,[1,50,1])\n",
        "    2\n",
        "    >>> recherche(1,[8,1,10,1,7,1,8])\n",
        "    5\n",
        "\n",
        "\n",
        "\n"
      ],
      "metadata": {
        "id": "rh_7yA2JgIMo"
      }
    },
    {
      "cell_type": "markdown",
      "source": [
        "# Exercice 2"
      ],
      "metadata": {
        "id": "wZCNZjMoga6B"
      }
    },
    {
      "cell_type": "markdown",
      "source": [
        "On définit une classe gérant une adresse IPv4.\n",
        "\n",
        "On rappelle qu’une adresse IPv4 est une adresse de longueur 4 octets, notée en décimale\n",
        "à point, en séparant chacun des octets par un point. On considère un réseau privé avec\n",
        "une plage d’adresses IP de 192.168.0.0 à 192.168.0.255.\n",
        "\n",
        "On considère que les adresses IP saisies sont valides.\n",
        "\n",
        "Les adresses IP 192.168.0.0 et 192.168.0.255 sont des adresses réservées.\n",
        "\n",
        "Le code ci-dessous implémente la classe AdresseIP."
      ],
      "metadata": {
        "id": "E15CsXWGgcq0"
      }
    },
    {
      "cell_type": "markdown",
      "source": [
        "    class AdresseIP:\n",
        "\n",
        "        def __init__(self, adresse):\n",
        "            self.adresse = ...\n",
        "    \n",
        "        def liste_octet(self):\n",
        "            \"\"\"renvoie une liste de nombres entiers,\n",
        "            la liste des octets de l'adresse IP\"\"\"\n",
        "            return [int(i) for i in self.adresse.split(\".\")] \n",
        "            \n",
        "        def est_reservee(self):\n",
        "            \"\"\"renvoie True si l'adresse IP est une adresse\n",
        "            réservée, False sinon\"\"\"\n",
        "            return ... or ...\n",
        "                \n",
        "        def adresse_suivante(self):\n",
        "            \"\"\"renvoie un objet de AdresseIP avec l'adresse \n",
        "            IP qui suit l’adresse self\n",
        "            si elle existe et False sinon\"\"\"\n",
        "            if ... < 254:\n",
        "                octet_nouveau = ... + ...\n",
        "                return AdresseIP('192.168.0.' + ...)\n",
        "            else:\n",
        "                return False\n",
        "\n"
      ],
      "metadata": {
        "id": "ylR5K9aLgmUk"
      }
    },
    {
      "cell_type": "markdown",
      "source": [
        "Compléter le code ci-dessous et instancier trois objets : adresse1, adresse2,\n",
        "adresse3 avec respectivement les arguments suivants :\n",
        "'192.168.0.1', '192.168.0.2', '192.168.0.0'\n",
        "\n",
        "Vérifier que :\n",
        "\n",
        "    >>> adresse1.est_reservee()\n",
        "    False\n",
        "    >>> adresse3.est_reservee()\n",
        "    True\n",
        "    >>> adresse2.adresse_suivante().adresse\n",
        "    '192.168.0.3'"
      ],
      "metadata": {
        "id": "lx9O5wY9gwAK"
      }
    },
    {
      "cell_type": "code",
      "execution_count": null,
      "metadata": {
        "id": "IBqEW184f4py"
      },
      "outputs": [],
      "source": [
        "class AdresseIP:\n",
        "\n",
        "    def __init__(self, adresse):\n",
        "        self.adresse = ...\n",
        "   \n",
        "    def liste_octet(self):\n",
        "        \"\"\"renvoie une liste de nombres entiers,\n",
        "           la liste des octets de l'adresse IP\"\"\"\n",
        "        return [int(i) for i in self.adresse.split(\".\")] \n",
        "        \n",
        "    def est_reservee(self):\n",
        "        \"\"\"renvoie True si l'adresse IP est une adresse\n",
        "           réservée, False sinon\"\"\"\n",
        "        return ... or ...\n",
        "             \n",
        "    def adresse_suivante(self):\n",
        "        \"\"\"renvoie un objet de AdresseIP avec l'adresse \n",
        "           IP qui suit l’adresse self\n",
        "           si elle existe et False sinon\"\"\"\n",
        "        if ... < 254:\n",
        "            octet_nouveau = ... + ...\n",
        "            return AdresseIP('192.168.0.' + ...)\n",
        "        else:\n",
        "            return False\n"
      ]
    }
  ]
}