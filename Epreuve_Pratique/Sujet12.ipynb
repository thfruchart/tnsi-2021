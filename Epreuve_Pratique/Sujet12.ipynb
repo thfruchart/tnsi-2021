{
  "nbformat": 4,
  "nbformat_minor": 0,
  "metadata": {
    "colab": {
      "name": "Epreuve_Pratique_Sujet12.ipynb",
      "provenance": [],
      "authorship_tag": "ABX9TyN/oydjbqyTSC2QIzYXX8yH",
      "include_colab_link": true
    },
    "kernelspec": {
      "name": "python3",
      "display_name": "Python 3"
    }
  },
  "cells": [
    {
      "cell_type": "markdown",
      "metadata": {
        "id": "view-in-github",
        "colab_type": "text"
      },
      "source": [
        "<a href=\"https://colab.research.google.com/github/thfruchart/tnsi/blob/main/Epreuve_Pratique/Sujet12.ipynb\" target=\"_parent\"><img src=\"https://colab.research.google.com/assets/colab-badge.svg\" alt=\"Open In Colab\"/></a>"
      ]
    },
    {
      "cell_type": "markdown",
      "metadata": {
        "id": "wU0U7leJVEsX"
      },
      "source": [
        "**Enregistrer une copie** de ce notebookdans votre drive, puis **partager** ce notebook avec thfruchart.stpbb@gmail.com une fois votre travail terminé et enregistré."
      ]
    },
    {
      "cell_type": "markdown",
      "metadata": {
        "id": "av8nyt8rvalz"
      },
      "source": [
        "# Exercice 1"
      ]
    },
    {
      "cell_type": "markdown",
      "metadata": {
        "id": "pJpylXO7vcUt"
      },
      "source": [
        "Écrire une fonction `maxi` qui prend en paramètre une liste tab de nombres entiers et qui renvoie un couple donnant le plus grand élément de cette liste ainsi que l’indice de la première apparition de ce maximum dans la liste.\n",
        "\n",
        "Exemple :\n",
        "```\n",
        ">>> maxi([1,5,6,9,1,2,3,7,9,8])\n",
        "(9,3)\n",
        "```\n"
      ]
    },
    {
      "cell_type": "markdown",
      "metadata": {
        "id": "UsKYyU4ovjqr"
      },
      "source": [
        "# Exercice 2"
      ]
    },
    {
      "cell_type": "markdown",
      "metadata": {
        "id": "P2UNowjLvlcL"
      },
      "source": [
        "La fonction recherche prend en paramètres deux chaines de caractères `gene` et `seq_adn` et renvoie `True` si on retrouve `gene` dans `seq_adn` et `False` sinon.\n",
        "\n",
        "Compléter le code Python ci-dessous pour qu’il implémente la fonction recherche.\n",
        "\n",
        "Exemples :\n",
        "\n",
        "\n",
        "```\n",
        ">>> recherche(\"AATC\", \"GTACAAATCTTGCC\")\n",
        "True\n",
        ">>> recherche(\"AGTC\", \"GTACAAATCTTGCC\")\n",
        "False\n",
        "```\n",
        "\n",
        "\n"
      ]
    },
    {
      "cell_type": "code",
      "metadata": {
        "id": "qWpH_zdavK4v"
      },
      "source": [
        "def recherche(gene, seq_adn):\n",
        "    n = len(seq_adn)\n",
        "    g = len(gene)\n",
        "    i = ...\n",
        "    trouve = False\n",
        "    while i < ... and trouve == ... :\n",
        "        j = 0\n",
        "        while j < g and gene[j] == seq_adn[i+j]:\n",
        "            ...\n",
        "        if j == g:\n",
        "            trouve = True\n",
        "        ...\n",
        "    return trouve\n"
      ],
      "execution_count": null,
      "outputs": []
    }
  ]
}