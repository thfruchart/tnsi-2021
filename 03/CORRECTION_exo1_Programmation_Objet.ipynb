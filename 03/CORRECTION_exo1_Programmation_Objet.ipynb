{
  "nbformat": 4,
  "nbformat_minor": 0,
  "metadata": {
    "colab": {
      "name": "03_CORRECTION-exo1_Programmation_Objet.ipynb",
      "provenance": [],
      "collapsed_sections": [],
      "authorship_tag": "ABX9TyPrUsTSeFNbBMmaCIw/8nAm",
      "include_colab_link": true
    },
    "kernelspec": {
      "name": "python3",
      "display_name": "Python 3"
    }
  },
  "cells": [
    {
      "cell_type": "markdown",
      "metadata": {
        "id": "view-in-github",
        "colab_type": "text"
      },
      "source": [
        "<a href=\"https://colab.research.google.com/github/thfruchart/tnsi/blob/main/03/CORRECTION_exo1_Programmation_Objet.ipynb\" target=\"_parent\"><img src=\"https://colab.research.google.com/assets/colab-badge.svg\" alt=\"Open In Colab\"/></a>"
      ]
    },
    {
      "cell_type": "markdown",
      "metadata": {
        "id": "_gVpEk9K6bin"
      },
      "source": [
        "\n",
        "**Exercice 1**\n",
        "\n",
        "1. Créer une classe `Eleve` dans laquelle chaque objet possède trois attributs : `nom`  `prenom` et `age`\n",
        "\n",
        "2. Créer l’objet  `bill`  correspondant aux attributs suivants :\n",
        "\n",
        "|nom |  prenom |  age|\n",
        "|:---:|:-------:|:----:|\n",
        "|GATES | Bill | 65|\n",
        "\n",
        "3. Créer un objet `moi` correspondant à votre identité.\n",
        "\n",
        "4. Ajouter une méthode `__str__(self)` qui retourne une chaîne de caractères sous la forme :\n",
        "`'Bill  GATES, 65 ans'`\n",
        "\n",
        "5. Tester cette méthode en exécutant la commande `print(moi)`\n"
      ]
    },
    {
      "cell_type": "markdown",
      "metadata": {
        "id": "72XIxCKL34mS"
      },
      "source": [
        "# corrigé de l'exercice 1"
      ]
    },
    {
      "cell_type": "code",
      "metadata": {
        "id": "SDZ2N1Zi3y8q",
        "colab": {
          "base_uri": "https://localhost:8080/"
        },
        "outputId": "72ec5d31-0ed7-490c-dfe5-545bc4dffe59"
      },
      "source": [
        "class Eleve:\n",
        "    def __init__(self, n,p,a):\n",
        "        self.nom = n\n",
        "        self.prenom = p\n",
        "        self.age = a\n",
        "\n",
        "    def affiche(self):\n",
        "        print(self.prenom , self.nom , str(self.age) , ' ans')\n",
        "\n",
        "    def __str__(self):\n",
        "        return self.prenom + ' ' + self.nom + ', '+ str(self.age) + ' ans'\n",
        "\n",
        "\n",
        "bill = Eleve('GATE','Bill',64)\n",
        "moi = Eleve('FRUCHART', 'Thomas', 46)\n",
        "bill.affiche()\n",
        "print(bill)\n",
        "print(moi)"
      ],
      "execution_count": null,
      "outputs": [
        {
          "output_type": "stream",
          "name": "stdout",
          "text": [
            "Bill GATE 64  ans\n",
            "Bill GATE, 64 ans\n",
            "Thomas FRUCHART, 46 ans\n"
          ]
        }
      ]
    },
    {
      "cell_type": "markdown",
      "metadata": {
        "id": "NtB7XVN82Oel"
      },
      "source": [
        "# Travail personnel sur l'exercice 1\n",
        "\n",
        "Avant d'exécuter chaque cellule, déterminer ce qui sera affiché, puis vérifier en exécutant la cellule.\n",
        "\n",
        "En cas de difficulté : \n",
        "* visualiser l'exécution sur PythonTutor\n",
        "* préparer des questions à poser en classe"
      ]
    },
    {
      "cell_type": "markdown",
      "metadata": {
        "id": "nZXtrMSh3QNP"
      },
      "source": [
        "### question 1\n",
        "\n",
        "qu'affiche ce code ?"
      ]
    },
    {
      "cell_type": "code",
      "metadata": {
        "id": "cpwjAqgv2g73"
      },
      "source": [
        "class Eleve:\n",
        "    def __init__(self, n,p,a):\n",
        "        self.nom = n\n",
        "        self.prenom = p\n",
        "        self.age = a\n",
        "\n",
        "james = Eleve('BOND', 'James', 33)\n",
        "print(james.n)"
      ],
      "execution_count": null,
      "outputs": []
    },
    {
      "cell_type": "markdown",
      "metadata": {
        "id": "5Fq85zjA3Sl6"
      },
      "source": [
        "### question 2\n",
        "\n",
        "qu'affiche ce code ?"
      ]
    },
    {
      "cell_type": "code",
      "metadata": {
        "id": "PseYBA6k23z7"
      },
      "source": [
        "class Eleve:\n",
        "    def __init__(self, n,p,a):\n",
        "        self.nom = n\n",
        "        self.prenom = p\n",
        "        self.age = a\n",
        "\n",
        "    def compare(self, v):\n",
        "        return self.age > v \n",
        "\n",
        "\n",
        "bill = Eleve('GATE','Bill',64)\n",
        "james = Eleve('BOND', 'James', 46)\n",
        "print(bill.compare(50))\n",
        "print(james.compare(bill.age))"
      ],
      "execution_count": null,
      "outputs": []
    },
    {
      "cell_type": "markdown",
      "metadata": {
        "id": "nxcWnL7q3baJ"
      },
      "source": [
        "### question 3\n",
        "\n",
        "qu'affiche ce code ?"
      ]
    },
    {
      "cell_type": "code",
      "metadata": {
        "id": "9YEFM6IH3ePh",
        "outputId": "3c347959-9a13-44e4-89eb-c411b3bf1016",
        "colab": {
          "base_uri": "https://localhost:8080/",
          "height": 339
        }
      },
      "source": [
        "class Eleve:\n",
        "    def __init__(self, n,p,a):\n",
        "        self.nom = n\n",
        "        self.prenom = p\n",
        "        self.age = a\n",
        "\n",
        "    def compare(self, v):\n",
        "        return self.age > v.age\n",
        "\n",
        "\n",
        "bill = Eleve('GATE','Bill',64)\n",
        "james = Eleve('BOND', 'James', 46)\n",
        "\n",
        "print(james.compare(bill))\n",
        "print(bill.compare(50))"
      ],
      "execution_count": 4,
      "outputs": [
        {
          "output_type": "stream",
          "name": "stdout",
          "text": [
            "False\n"
          ]
        },
        {
          "output_type": "error",
          "ename": "AttributeError",
          "evalue": "ignored",
          "traceback": [
            "\u001b[0;31m---------------------------------------------------------------------------\u001b[0m",
            "\u001b[0;31mAttributeError\u001b[0m                            Traceback (most recent call last)",
            "\u001b[0;32m<ipython-input-4-ee0f32ed7872>\u001b[0m in \u001b[0;36m<module>\u001b[0;34m()\u001b[0m\n\u001b[1;32m     13\u001b[0m \u001b[0;34m\u001b[0m\u001b[0m\n\u001b[1;32m     14\u001b[0m \u001b[0mprint\u001b[0m\u001b[0;34m(\u001b[0m\u001b[0mjames\u001b[0m\u001b[0;34m.\u001b[0m\u001b[0mcompare\u001b[0m\u001b[0;34m(\u001b[0m\u001b[0mbill\u001b[0m\u001b[0;34m)\u001b[0m\u001b[0;34m)\u001b[0m\u001b[0;34m\u001b[0m\u001b[0;34m\u001b[0m\u001b[0m\n\u001b[0;32m---> 15\u001b[0;31m \u001b[0mprint\u001b[0m\u001b[0;34m(\u001b[0m\u001b[0mbill\u001b[0m\u001b[0;34m.\u001b[0m\u001b[0mcompare\u001b[0m\u001b[0;34m(\u001b[0m\u001b[0;36m50\u001b[0m\u001b[0;34m)\u001b[0m\u001b[0;34m)\u001b[0m\u001b[0;34m\u001b[0m\u001b[0;34m\u001b[0m\u001b[0m\n\u001b[0m",
            "\u001b[0;32m<ipython-input-4-ee0f32ed7872>\u001b[0m in \u001b[0;36mcompare\u001b[0;34m(self, v)\u001b[0m\n\u001b[1;32m      6\u001b[0m \u001b[0;34m\u001b[0m\u001b[0m\n\u001b[1;32m      7\u001b[0m     \u001b[0;32mdef\u001b[0m \u001b[0mcompare\u001b[0m\u001b[0;34m(\u001b[0m\u001b[0mself\u001b[0m\u001b[0;34m,\u001b[0m \u001b[0mv\u001b[0m\u001b[0;34m)\u001b[0m\u001b[0;34m:\u001b[0m\u001b[0;34m\u001b[0m\u001b[0;34m\u001b[0m\u001b[0m\n\u001b[0;32m----> 8\u001b[0;31m         \u001b[0;32mreturn\u001b[0m \u001b[0mself\u001b[0m\u001b[0;34m.\u001b[0m\u001b[0mage\u001b[0m \u001b[0;34m>\u001b[0m \u001b[0mv\u001b[0m\u001b[0;34m.\u001b[0m\u001b[0mage\u001b[0m\u001b[0;34m\u001b[0m\u001b[0;34m\u001b[0m\u001b[0m\n\u001b[0m\u001b[1;32m      9\u001b[0m \u001b[0;34m\u001b[0m\u001b[0m\n\u001b[1;32m     10\u001b[0m \u001b[0;34m\u001b[0m\u001b[0m\n",
            "\u001b[0;31mAttributeError\u001b[0m: 'int' object has no attribute 'age'"
          ]
        }
      ]
    }
  ]
}