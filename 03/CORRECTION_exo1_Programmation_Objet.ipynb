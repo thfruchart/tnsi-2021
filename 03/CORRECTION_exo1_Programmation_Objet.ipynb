{
  "nbformat": 4,
  "nbformat_minor": 0,
  "metadata": {
    "colab": {
      "name": "03_CORRECTION-exo1_Programmation_Objet.ipynb",
      "provenance": [],
      "collapsed_sections": [],
      "authorship_tag": "ABX9TyNxUtf96BD56k1TWgq6SJJP",
      "include_colab_link": true
    },
    "kernelspec": {
      "name": "python3",
      "display_name": "Python 3"
    }
  },
  "cells": [
    {
      "cell_type": "markdown",
      "metadata": {
        "id": "view-in-github",
        "colab_type": "text"
      },
      "source": [
        "<a href=\"https://colab.research.google.com/github/thfruchart/tnsi/blob/main/03/CORRECTION_exo1_Programmation_Objet.ipynb\" target=\"_parent\"><img src=\"https://colab.research.google.com/assets/colab-badge.svg\" alt=\"Open In Colab\"/></a>"
      ]
    },
    {
      "cell_type": "markdown",
      "metadata": {
        "id": "_gVpEk9K6bin"
      },
      "source": [
        "\n",
        "**Exercice 1**\n",
        "\n",
        "1. Créer une classe `Eleve` dans laquelle chaque objet possède trois attributs : `nom`  `prenom` et `age`\n",
        "\n",
        "2. Créer l’objet  `bill`  correspondant aux attributs suivants :\n",
        "\n",
        "|nom |  prenom |  age|\n",
        "|:---:|:-------:|:----:|\n",
        "|GATES | Bill | 65|\n",
        "\n",
        "3. Créer un objet `moi` correspondant à votre identité.\n",
        "\n",
        "4. Ajouter une méthode `__str__(self)` qui retourne une chaîne de caractères sous la forme :\n",
        "`'Bill  GATES, 65 ans'`\n",
        "\n",
        "5. Tester cette méthode en exécutant la commande `print(moi)`\n"
      ]
    },
    {
      "cell_type": "markdown",
      "metadata": {
        "id": "72XIxCKL34mS"
      },
      "source": [
        "# corrigé de l'exercice 1"
      ]
    },
    {
      "cell_type": "code",
      "metadata": {
        "id": "SDZ2N1Zi3y8q",
        "colab": {
          "base_uri": "https://localhost:8080/"
        },
        "outputId": "72ec5d31-0ed7-490c-dfe5-545bc4dffe59"
      },
      "source": [
        "class Eleve:\n",
        "    def __init__(self, n,p,a):\n",
        "        self.nom = n\n",
        "        self.prenom = p\n",
        "        self.age = a\n",
        "\n",
        "    def affiche(self):\n",
        "        print(self.prenom , self.nom , str(self.age) , ' ans')\n",
        "\n",
        "    def __str__(self):\n",
        "        return self.prenom + ' ' + self.nom + ', '+ str(self.age) + ' ans'\n",
        "\n",
        "\n",
        "bill = Eleve('GATE','Bill',64)\n",
        "moi = Eleve('FRUCHART', 'Thomas', 46)\n",
        "bill.affiche()\n",
        "print(bill)\n",
        "print(moi)"
      ],
      "execution_count": 2,
      "outputs": [
        {
          "output_type": "stream",
          "name": "stdout",
          "text": [
            "Bill GATE 64  ans\n",
            "Bill GATE, 64 ans\n",
            "Thomas FRUCHART, 46 ans\n"
          ]
        }
      ]
    },
    {
      "cell_type": "markdown",
      "metadata": {
        "id": "NtB7XVN82Oel"
      },
      "source": [
        "# Travail personnel sur l'exercice 1\n",
        "\n",
        "Avant d'exécuter chaque cellule, déterminer ce qui sera affiché, puis vérifier en exécutant la cellule.\n",
        "\n",
        "En cas de difficulté : \n",
        "* visualiser l'exécution sur PythonTutor\n",
        "* préparer des questions à poser en classe"
      ]
    },
    {
      "cell_type": "markdown",
      "metadata": {
        "id": "nZXtrMSh3QNP"
      },
      "source": [
        "### question 1\n",
        "\n",
        "qu'affiche ce code ?"
      ]
    },
    {
      "cell_type": "code",
      "metadata": {
        "id": "cpwjAqgv2g73"
      },
      "source": [
        "class Eleve:\n",
        "    def __init__(self, n,p,a):\n",
        "        self.nom = n\n",
        "        self.prenom = p\n",
        "        self.age = a\n",
        "\n",
        "james = Eleve('BOND', 'James', 33)\n",
        "print(james.n)"
      ],
      "execution_count": null,
      "outputs": []
    },
    {
      "cell_type": "markdown",
      "metadata": {
        "id": "5Fq85zjA3Sl6"
      },
      "source": [
        "### question 2\n",
        "\n",
        "qu'affiche ce code ?"
      ]
    },
    {
      "cell_type": "code",
      "metadata": {
        "id": "PseYBA6k23z7"
      },
      "source": [
        "class Eleve:\n",
        "    def __init__(self, n,p,a):\n",
        "        self.nom = n\n",
        "        self.prenom = p\n",
        "        self.age = a\n",
        "\n",
        "    def compare(self, v):\n",
        "        return self.age > v \n",
        "\n",
        "\n",
        "bill = Eleve('GATE','Bill',64)\n",
        "james = Eleve('BOND', 'James', 46)\n",
        "print(bill.compare(50))\n",
        "print(james.compare(bill.age))"
      ],
      "execution_count": null,
      "outputs": []
    },
    {
      "cell_type": "markdown",
      "metadata": {
        "id": "nxcWnL7q3baJ"
      },
      "source": [
        "### question 3\n",
        "\n",
        "qu'affiche ce code ?"
      ]
    },
    {
      "cell_type": "code",
      "metadata": {
        "id": "9YEFM6IH3ePh"
      },
      "source": [
        "class Eleve:\n",
        "    def __init__(self, n,p,a):\n",
        "        self.nom = n\n",
        "        self.prenom = p\n",
        "        self.age = a\n",
        "\n",
        "    def compare(self, v):\n",
        "        return self.age > v.age\n",
        "\n",
        "\n",
        "bill = Eleve('GATE','Bill',64)\n",
        "james = Eleve('BOND', 'James', 46)\n",
        "\n",
        "print(james.compare(bill))\n",
        "print(bill.compare(50))"
      ],
      "execution_count": null,
      "outputs": []
    },
    {
      "cell_type": "markdown",
      "metadata": {
        "id": "Op9Arxxb39Qy"
      },
      "source": [
        "# Corrigé de l'exercice 2"
      ]
    },
    {
      "cell_type": "code",
      "metadata": {
        "id": "tpHk6R4x7-L4"
      },
      "source": [
        "class Date:\n",
        "    def __init__(self, j,m,a):\n",
        "        self.jour = j\n",
        "        self.mois = m\n",
        "        self.annee = a\n",
        "\n",
        "    def __str__(self):  # ou texte(self)\n",
        "        dico = {1:'janvier',\n",
        "                2 : 'février',\n",
        "                3 : 'mars',\n",
        "                4 : 'avril',\n",
        "                5 : 'mai',\n",
        "                6 : 'juin',\n",
        "                7 : 'juillet',\n",
        "                8 : 'août',\n",
        "                9 : 'septembre',\n",
        "                10: 'octobre' ,\n",
        "                11: 'novembre',\n",
        "                12:'décembre'}\n",
        "        return str(self.jour) + ' ' + dico[self.mois] + ' ' + str(self.annee)\n",
        "\n",
        "        def __eq__(self, v):  # ou egale(self,v)\n",
        "            return\n",
        "        \n",
        "        def __lt__(self, v):  # ou anterieure(self,v)\n",
        "            return\n",
        "\n",
        "d1 = Date(1,1,2000)\n",
        "d2 = Date(31,12,2020)\n",
        "d3 = Date(31,12,2020)"
      ],
      "execution_count": null,
      "outputs": []
    },
    {
      "cell_type": "code",
      "metadata": {
        "id": "an73alV8u5bj",
        "colab": {
          "base_uri": "https://localhost:8080/",
          "height": 51
        },
        "outputId": "ecda04af-4973-4791-f6cd-6b4bade5f1b1"
      },
      "source": [
        "print(d1)\n",
        "print(d2==d3)"
      ],
      "execution_count": null,
      "outputs": [
        {
          "output_type": "stream",
          "text": [
            "1 janvier 2000\n",
            "False\n"
          ],
          "name": "stdout"
        }
      ]
    },
    {
      "cell_type": "markdown",
      "metadata": {
        "id": "2ADqILpu5ZG0"
      },
      "source": [
        "# Corrigé de l'exercice 3... à venir"
      ]
    }
  ]
}