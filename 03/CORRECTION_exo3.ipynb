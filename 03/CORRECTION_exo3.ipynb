{
  "nbformat": 4,
  "nbformat_minor": 0,
  "metadata": {
    "colab": {
      "name": "03_CORRECTION_exo3.ipynb",
      "provenance": [],
      "authorship_tag": "ABX9TyP7a9gLc0O5ypc0l744j90O",
      "include_colab_link": true
    },
    "kernelspec": {
      "name": "python3",
      "display_name": "Python 3"
    },
    "language_info": {
      "name": "python"
    }
  },
  "cells": [
    {
      "cell_type": "markdown",
      "metadata": {
        "id": "view-in-github",
        "colab_type": "text"
      },
      "source": [
        "<a href=\"https://colab.research.google.com/github/thfruchart/tnsi/blob/main/03/CORRECTION_exo3.ipynb\" target=\"_parent\"><img src=\"https://colab.research.google.com/assets/colab-badge.svg\" alt=\"Open In Colab\"/></a>"
      ]
    },
    {
      "cell_type": "markdown",
      "metadata": {
        "id": "ZcB7WpOzJhRG"
      },
      "source": [
        "### question 1"
      ]
    },
    {
      "cell_type": "code",
      "metadata": {
        "id": "PN5zwjIiJRwJ"
      },
      "source": [
        "class Fraction:\n",
        "    def __init__(self,n,d):\n",
        "        self.num = n\n",
        "        self.denom = d\n",
        "\n",
        "\n",
        "a = Fraction(35,7)\n",
        "b = Fraction (3,1)"
      ],
      "execution_count": 1,
      "outputs": []
    },
    {
      "cell_type": "code",
      "metadata": {
        "colab": {
          "base_uri": "https://localhost:8080/"
        },
        "id": "p_w8XcNBJeal",
        "outputId": "c2da573d-0b33-4971-e947-3f2d210ced61"
      },
      "source": [
        "a.num, a.denom"
      ],
      "execution_count": 2,
      "outputs": [
        {
          "output_type": "execute_result",
          "data": {
            "text/plain": [
              "(35, 7)"
            ]
          },
          "metadata": {},
          "execution_count": 2
        }
      ]
    },
    {
      "cell_type": "markdown",
      "metadata": {
        "id": "pU-lPIzFJm3N"
      },
      "source": [
        "### question 2"
      ]
    },
    {
      "cell_type": "code",
      "metadata": {
        "id": "rPJjGzLDJz4F"
      },
      "source": [
        "class Fraction:\n",
        "    def __init__(self,n,d):\n",
        "        if d==0 : \n",
        "            raise ValueError(\"le dénominateur ne doit pas être nul ! \")\n",
        "        self.num = n\n",
        "        self.denom = d\n",
        "\n",
        "\n",
        "a = Fraction(35,7)\n",
        "b = Fraction (3,1)"
      ],
      "execution_count": 4,
      "outputs": []
    },
    {
      "cell_type": "code",
      "metadata": {
        "colab": {
          "base_uri": "https://localhost:8080/",
          "height": 287
        },
        "id": "P5zqycbNKPnu",
        "outputId": "cc97e4e1-eef6-4932-9322-580ce35de9b5"
      },
      "source": [
        "Fraction(5,0)"
      ],
      "execution_count": 5,
      "outputs": [
        {
          "output_type": "error",
          "ename": "ValueError",
          "evalue": "ignored",
          "traceback": [
            "\u001b[0;31m---------------------------------------------------------------------------\u001b[0m",
            "\u001b[0;31mValueError\u001b[0m                                Traceback (most recent call last)",
            "\u001b[0;32m<ipython-input-5-9b828eddda4d>\u001b[0m in \u001b[0;36m<module>\u001b[0;34m()\u001b[0m\n\u001b[0;32m----> 1\u001b[0;31m \u001b[0mFraction\u001b[0m\u001b[0;34m(\u001b[0m\u001b[0;36m5\u001b[0m\u001b[0;34m,\u001b[0m\u001b[0;36m0\u001b[0m\u001b[0;34m)\u001b[0m\u001b[0;34m\u001b[0m\u001b[0;34m\u001b[0m\u001b[0m\n\u001b[0m",
            "\u001b[0;32m<ipython-input-4-8b56ddd96994>\u001b[0m in \u001b[0;36m__init__\u001b[0;34m(self, n, d)\u001b[0m\n\u001b[1;32m      2\u001b[0m     \u001b[0;32mdef\u001b[0m \u001b[0m__init__\u001b[0m\u001b[0;34m(\u001b[0m\u001b[0mself\u001b[0m\u001b[0;34m,\u001b[0m\u001b[0mn\u001b[0m\u001b[0;34m,\u001b[0m\u001b[0md\u001b[0m\u001b[0;34m)\u001b[0m\u001b[0;34m:\u001b[0m\u001b[0;34m\u001b[0m\u001b[0;34m\u001b[0m\u001b[0m\n\u001b[1;32m      3\u001b[0m         \u001b[0;32mif\u001b[0m \u001b[0md\u001b[0m\u001b[0;34m==\u001b[0m\u001b[0;36m0\u001b[0m \u001b[0;34m:\u001b[0m\u001b[0;34m\u001b[0m\u001b[0;34m\u001b[0m\u001b[0m\n\u001b[0;32m----> 4\u001b[0;31m             \u001b[0;32mraise\u001b[0m \u001b[0mValueError\u001b[0m\u001b[0;34m(\u001b[0m\u001b[0;34m\"le dénominateur ne doit pas être nul ! \"\u001b[0m\u001b[0;34m)\u001b[0m\u001b[0;34m\u001b[0m\u001b[0;34m\u001b[0m\u001b[0m\n\u001b[0m\u001b[1;32m      5\u001b[0m         \u001b[0mself\u001b[0m\u001b[0;34m.\u001b[0m\u001b[0mnum\u001b[0m \u001b[0;34m=\u001b[0m \u001b[0mn\u001b[0m\u001b[0;34m\u001b[0m\u001b[0;34m\u001b[0m\u001b[0m\n\u001b[1;32m      6\u001b[0m         \u001b[0mself\u001b[0m\u001b[0;34m.\u001b[0m\u001b[0mdenom\u001b[0m \u001b[0;34m=\u001b[0m \u001b[0md\u001b[0m\u001b[0;34m\u001b[0m\u001b[0;34m\u001b[0m\u001b[0m\n",
            "\u001b[0;31mValueError\u001b[0m: le dénominateur ne doit pas être nul ! "
          ]
        }
      ]
    },
    {
      "cell_type": "markdown",
      "metadata": {
        "id": "usnqfaFmKKwO"
      },
      "source": [
        "### question 3"
      ]
    },
    {
      "cell_type": "code",
      "metadata": {
        "id": "N2M0px-JKMFW"
      },
      "source": [
        "class Fraction:\n",
        "    def __init__(self,n,d):\n",
        "        if d==0 : \n",
        "            raise ValueError(\"le dénominateur ne doit pas être nul ! \")\n",
        "        self.num = n\n",
        "        self.denom = d\n",
        "\n",
        "    def __str__(self):\n",
        "        if self.denom==1 : \n",
        "            return str(self.num)\n",
        "        else : \n",
        "            return str(self.num) + \"/\" + str(self.denom)\n",
        "\n",
        "a = Fraction(35,7)\n",
        "b = Fraction (3,1)"
      ],
      "execution_count": 8,
      "outputs": []
    },
    {
      "cell_type": "code",
      "metadata": {
        "colab": {
          "base_uri": "https://localhost:8080/"
        },
        "id": "RGhyuJ7JKhyn",
        "outputId": "46ff479a-08cc-4131-e4aa-fc1a3297bc92"
      },
      "source": [
        "print(a)\n",
        "print(b)"
      ],
      "execution_count": 9,
      "outputs": [
        {
          "output_type": "stream",
          "name": "stdout",
          "text": [
            "35/7\n",
            "3\n"
          ]
        }
      ]
    },
    {
      "cell_type": "markdown",
      "metadata": {
        "id": "FS-fyUFRPMjC"
      },
      "source": [
        "### question 4"
      ]
    },
    {
      "cell_type": "code",
      "metadata": {
        "id": "G761TlmBOo9q"
      },
      "source": [
        "class Fraction:\n",
        "    def __init__(self,n,d):\n",
        "        if d==0 : \n",
        "            raise ValueError(\"le dénominateur ne doit pas être nul ! \")\n",
        "        self.num = n\n",
        "        self.denom = d\n",
        "\n",
        "    def __str__(self):\n",
        "        if self.denom==1 : \n",
        "            return str(self.num)\n",
        "        else : \n",
        "            return str(self.num) + \"/\" + str(self.denom)\n",
        "    \n",
        "    def __eq__(self, v):\n",
        "        if self.num * v.denom == v.num * self.denom :\n",
        "            return True\n",
        "        return False\n",
        "\n",
        "a = Fraction(35,7)\n",
        "b = Fraction (3,1)"
      ],
      "execution_count": 13,
      "outputs": []
    },
    {
      "cell_type": "code",
      "metadata": {
        "colab": {
          "base_uri": "https://localhost:8080/"
        },
        "id": "pWee2lnCO85i",
        "outputId": "48790960-b5e7-444f-b43c-794fc7ce2380"
      },
      "source": [
        "a == b"
      ],
      "execution_count": 14,
      "outputs": [
        {
          "output_type": "execute_result",
          "data": {
            "text/plain": [
              "False"
            ]
          },
          "metadata": {},
          "execution_count": 14
        }
      ]
    },
    {
      "cell_type": "code",
      "metadata": {
        "colab": {
          "base_uri": "https://localhost:8080/"
        },
        "id": "zz1SPZX2O-98",
        "outputId": "644df2a7-3574-49b8-a227-d7ca2c2de142"
      },
      "source": [
        "Fraction(2,3) == Fraction(4,6)"
      ],
      "execution_count": 15,
      "outputs": [
        {
          "output_type": "execute_result",
          "data": {
            "text/plain": [
              "True"
            ]
          },
          "metadata": {},
          "execution_count": 15
        }
      ]
    },
    {
      "cell_type": "markdown",
      "metadata": {
        "id": "dZ44wx2APQ86"
      },
      "source": [
        "### question 5"
      ]
    },
    {
      "cell_type": "code",
      "metadata": {
        "id": "o1B1LEGVPYUN"
      },
      "source": [
        "class Fraction:\n",
        "    def __init__(self,n,d):\n",
        "        if d==0 : \n",
        "            raise ValueError(\"le dénominateur ne doit pas être nul ! \")\n",
        "        self.num = n\n",
        "        self.denom = d\n",
        "\n",
        "    def __str__(self):\n",
        "        if self.denom==1 : \n",
        "            return str(self.num)\n",
        "        else : \n",
        "            return str(self.num) + \"/\" + str(self.denom)\n",
        "    \n",
        "    def __eq__(self, v):\n",
        "        if self.num * v.denom == v.num * self.denom :\n",
        "            return True\n",
        "        return False\n",
        "\n",
        "    def __mul__(self,v):\n",
        "        return Fraction(self.num * v.num, self.denom * v.denom)\n",
        "\n",
        "a = Fraction(35,7)\n",
        "b = Fraction (3,2)"
      ],
      "execution_count": 17,
      "outputs": []
    },
    {
      "cell_type": "markdown",
      "metadata": {
        "id": "V3I4lZtHPr8a"
      },
      "source": [
        "### question 7"
      ]
    },
    {
      "cell_type": "code",
      "metadata": {
        "id": "YGC23HyLPvdq"
      },
      "source": [
        "class Fraction:\n",
        "    def __init__(self,n,d):\n",
        "        if d==0 : \n",
        "            raise ValueError(\"le dénominateur ne doit pas être nul ! \")\n",
        "        self.num = n\n",
        "        self.denom = d\n",
        "\n",
        "    def __str__(self):\n",
        "        if self.denom==1 : \n",
        "            return str(self.num)\n",
        "        else : \n",
        "            return str(self.num) + \"/\" + str(self.denom)\n",
        "    \n",
        "    def __eq__(self, v):\n",
        "        if self.num * v.denom == v.num * self.denom :\n",
        "            return True\n",
        "        return False\n",
        "\n",
        "    def __mul__(self,v):\n",
        "        return Fraction(self.num * v.num, self.denom * v.denom)\n",
        "    \n",
        "    def __add__(self,v):\n",
        "        return Fraction (self.num * v.denom + v.num * self.denom, self.denom * v.denom)\n",
        "\n",
        "a = Fraction(35,7)\n",
        "b = Fraction (3,2)"
      ],
      "execution_count": 19,
      "outputs": []
    },
    {
      "cell_type": "code",
      "metadata": {
        "colab": {
          "base_uri": "https://localhost:8080/"
        },
        "id": "-BCHMjwiPoPs",
        "outputId": "4719cdf3-9278-4067-85b3-cde9a13b666a"
      },
      "source": [
        "print(a+b)"
      ],
      "execution_count": 20,
      "outputs": [
        {
          "output_type": "stream",
          "name": "stdout",
          "text": [
            "91/14\n"
          ]
        }
      ]
    },
    {
      "cell_type": "markdown",
      "metadata": {
        "id": "lVnQXlk0QCij"
      },
      "source": [
        "### bonus"
      ]
    },
    {
      "cell_type": "code",
      "metadata": {
        "id": "4A9-3FW_QEUL"
      },
      "source": [
        "def pgcd(a,b):\n",
        "    if b == 0:\n",
        "        return a\n",
        "    return pgcd(b, a%b)\n",
        "\n",
        "class Fraction:\n",
        "    def __init__(self,n,d):\n",
        "        if d==0 : \n",
        "            raise ValueError(\"le dénominateur ne doit pas être nul ! \")\n",
        "        self.num = n\n",
        "        self.denom = d\n",
        "    \n",
        "    def reduire(self):\n",
        "        d = pgcd(self.num, self.denom)\n",
        "        return Fraction(self.num // d, self.denom //d)\n",
        "\n",
        "    def __str__(self):\n",
        "        if self.denom==1 : \n",
        "            return str(self.num)\n",
        "        else : \n",
        "            return str(self.num) + \"/\" + str(self.denom)\n",
        "    \n",
        "    def __eq__(self, v):\n",
        "        if self.num * v.denom == v.num * self.denom :\n",
        "            return True\n",
        "        return False\n",
        "\n",
        "    def __mul__(self,v):\n",
        "        return Fraction(self.num * v.num, self.denom * v.denom).reduire()\n",
        "\n",
        "    def __add__(self,v):\n",
        "        return Fraction(self.num * v.denom + v.num * self.denom, self.denom * v.denom).reduire()\n",
        "\n",
        "\n",
        "a = Fraction(35,8)\n",
        "b = Fraction (3,2)"
      ],
      "execution_count": 29,
      "outputs": []
    },
    {
      "cell_type": "code",
      "metadata": {
        "colab": {
          "base_uri": "https://localhost:8080/"
        },
        "id": "7DmxUGpaNVD4",
        "outputId": "ca81d2f3-8793-491c-dc8f-63996eaccd48"
      },
      "source": [
        "print(\"a =\",a, \"b =\",b)\n",
        "print(\"somme :\", a+b, \"produit :\",a*b)"
      ],
      "execution_count": 33,
      "outputs": [
        {
          "output_type": "stream",
          "name": "stdout",
          "text": [
            "a = 35/8 b = 3/2\n",
            "somme : 47/8 produit : 105/16\n"
          ]
        }
      ]
    }
  ]
}