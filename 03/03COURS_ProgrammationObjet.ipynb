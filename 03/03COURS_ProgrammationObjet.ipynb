{
 "cells": [
  {
   "cell_type": "markdown",
   "metadata": {
    "id": "cQMmpbhVzwOX",
    "slideshow": {
     "slide_type": "slide"
    }
   },
   "source": [
    "# Introduction"
   ]
  },
  {
   "cell_type": "markdown",
   "metadata": {
    "slideshow": {
     "slide_type": "fragment"
    }
   },
   "source": [
    "Imaginons qu'on souhaite programmer un jeu multijoueurs."
   ]
  },
  {
   "cell_type": "markdown",
   "metadata": {
    "slideshow": {
     "slide_type": "subslide"
    }
   },
   "source": [
    "Imaginons que chaque personnage possède : \n",
    "- un nombre de points de vie\n",
    "- un nombre de points de succès\n",
    "- un nombre mesurant sa capacité d'attaque\n",
    "- un nombre mesurant sa capacité de défense\n",
    "- une position dans le jeu, par exemple sous forme de coordonnées (x;y)"
   ]
  },
  {
   "cell_type": "markdown",
   "metadata": {
    "slideshow": {
     "slide_type": "subslide"
    }
   },
   "source": [
    "De plus, chaque personnage doit pouvoir : \n",
    "* se déplacer (dans différentes directions)\n",
    "* attaquer\n",
    "* se défendre"
   ]
  },
  {
   "cell_type": "markdown",
   "metadata": {
    "slideshow": {
     "slide_type": "subslide"
    }
   },
   "source": [
    "Ces différentes informations/actions correspondent\n",
    "* à des variables : pv(points de vie), ps(points de succès), ca(capacité d'attaque), cd(capacité de défense), x(abscisse), y(ordonnée)\n",
    "* à des commandes (ou fonctions) : gauche(), droite(), haut(), bas() attaquer(), defendre()"
   ]
  },
  {
   "cell_type": "markdown",
   "metadata": {
    "id": "zmFsthpu0G-6",
    "slideshow": {
     "slide_type": "subslide"
    }
   },
   "source": [
    "En mode multijoueur, il peut devenir très compliqué de gérer toutes les variables et surtout, toutes les actions des différents joueurs.\n",
    "\n",
    "La programmation objet permet de relever ce défi !"
   ]
  },
  {
   "cell_type": "markdown",
   "metadata": {
    "id": "bR9ZI30l1lwg",
    "slideshow": {
     "slide_type": "slide"
    }
   },
   "source": [
    "# Exemple1"
   ]
  },
  {
   "cell_type": "code",
   "execution_count": null,
   "metadata": {
    "id": "p13hpoqHzvKU",
    "slideshow": {
     "slide_type": "fragment"
    }
   },
   "outputs": [],
   "source": [
    "class Joueur:\n",
    "    def __init__(self):\n",
    "        self.pv = 100\n",
    "        self.ps = 0\n",
    "        self.ca = 20\n",
    "        self.cd = 30\n",
    "        self.x = 0\n",
    "        self.y = 0\n",
    "    \n",
    "    def affiche(self):\n",
    "        print ('le joueur : ', self, 'se trouve à la position : ', (self.x, self.y))\n",
    "        print('PV',self.pv, ', PS', self.ps, ', CA', self.ca, ', CD', self.cd, sep=': ')"
   ]
  },
  {
   "cell_type": "markdown",
   "metadata": {
    "id": "I8etlbCC5J6J",
    "slideshow": {
     "slide_type": "subslide"
    }
   },
   "source": [
    "Créer une instance de la classe Joueur"
   ]
  },
  {
   "cell_type": "code",
   "execution_count": null,
   "metadata": {
    "id": "wOyoM9rN3Ey7",
    "slideshow": {
     "slide_type": "fragment"
    }
   },
   "outputs": [],
   "source": [
    "alix = Joueur()"
   ]
  },
  {
   "cell_type": "code",
   "execution_count": null,
   "metadata": {
    "id": "r81xoJvR3wTn",
    "slideshow": {
     "slide_type": "fragment"
    }
   },
   "outputs": [],
   "source": [
    "alix"
   ]
  },
  {
   "cell_type": "code",
   "execution_count": null,
   "metadata": {
    "id": "bJJmxCI4UPtr"
   },
   "outputs": [],
   "source": [
    "type(alix)"
   ]
  },
  {
   "cell_type": "markdown",
   "metadata": {
    "id": "9BNNEObd5U8i",
    "slideshow": {
     "slide_type": "subslide"
    }
   },
   "source": [
    "Accéder aux attributs "
   ]
  },
  {
   "cell_type": "code",
   "execution_count": null,
   "metadata": {
    "id": "2m1vIkt33ugC",
    "slideshow": {
     "slide_type": "fragment"
    }
   },
   "outputs": [],
   "source": [
    "alix.x , alix.y"
   ]
  },
  {
   "cell_type": "markdown",
   "metadata": {
    "id": "JyjkNtfc5aUy",
    "slideshow": {
     "slide_type": "subslide"
    }
   },
   "source": [
    "Exécuter une méthode"
   ]
  },
  {
   "cell_type": "code",
   "execution_count": null,
   "metadata": {
    "id": "6SQyJTD63bY2",
    "slideshow": {
     "slide_type": "fragment"
    }
   },
   "outputs": [],
   "source": [
    "alix.affiche()"
   ]
  },
  {
   "cell_type": "code",
   "execution_count": null,
   "metadata": {
    "id": "vQbLlH4jJj0P"
   },
   "outputs": [],
   "source": [
    "Joueur.affiche(alix)"
   ]
  },
  {
   "cell_type": "markdown",
   "metadata": {
    "id": "H4HQoydl5hCN",
    "slideshow": {
     "slide_type": "subslide"
    }
   },
   "source": [
    "Modifier certains attributs"
   ]
  },
  {
   "cell_type": "code",
   "execution_count": null,
   "metadata": {
    "id": "sKIEnaE44k5n",
    "slideshow": {
     "slide_type": "fragment"
    }
   },
   "outputs": [],
   "source": [
    "alix.x, alix.y = 50, 30"
   ]
  },
  {
   "cell_type": "code",
   "execution_count": null,
   "metadata": {
    "id": "MDwSO6pu45F5",
    "slideshow": {
     "slide_type": "fragment"
    }
   },
   "outputs": [],
   "source": [
    "alix.affiche()"
   ]
  },
  {
   "cell_type": "markdown",
   "metadata": {
    "id": "Rjzqc2Pb5qHZ",
    "slideshow": {
     "slide_type": "subslide"
    }
   },
   "source": [
    "Créer une autre instance de la même classe"
   ]
  },
  {
   "cell_type": "code",
   "execution_count": null,
   "metadata": {
    "id": "CKF9Phc75pz1",
    "slideshow": {
     "slide_type": "fragment"
    }
   },
   "outputs": [],
   "source": [
    "bob = Joueur()"
   ]
  },
  {
   "cell_type": "code",
   "execution_count": null,
   "metadata": {
    "id": "-24C9dNW5wr7",
    "slideshow": {
     "slide_type": "fragment"
    }
   },
   "outputs": [],
   "source": [
    "bob.affiche()"
   ]
  },
  {
   "cell_type": "code",
   "execution_count": null,
   "metadata": {
    "id": "U1QT_CGx6bys",
    "slideshow": {
     "slide_type": "fragment"
    }
   },
   "outputs": [],
   "source": [
    "n = id(bob)\n",
    "hex(n)"
   ]
  },
  {
   "cell_type": "code",
   "execution_count": null,
   "metadata": {
    "id": "5Hz_MlZt_83m",
    "slideshow": {
     "slide_type": "subslide"
    }
   },
   "outputs": [],
   "source": [
    "alix.ps += 10\n",
    "bob.ps += 5\n",
    "print(alix.ps)\n",
    "print(bob.ps)"
   ]
  },
  {
   "cell_type": "markdown",
   "metadata": {
    "id": "E0bztGavAjjL",
    "slideshow": {
     "slide_type": "subslide"
    }
   },
   "source": [
    "les \"variables\" alix.ps  et  bob.ps sont deux variables différentes.\n",
    "\n",
    "Ce sont les attributs de **deux objets différents** de classe Joueur"
   ]
  },
  {
   "cell_type": "markdown",
   "metadata": {
    "id": "xsT89cjxADil",
    "slideshow": {
     "slide_type": "skip"
    }
   },
   "source": []
  },
  {
   "cell_type": "markdown",
   "metadata": {
    "id": "LdiZmEPc5lxr",
    "slideshow": {
     "slide_type": "slide"
    }
   },
   "source": [
    "# Exemple 2\n",
    "\n"
   ]
  },
  {
   "cell_type": "markdown",
   "metadata": {
    "id": "ezxJYyHl8QLp",
    "slideshow": {
     "slide_type": "fragment"
    }
   },
   "source": [
    "On reprend l'exemple 1, mais en permettant de particulariser les attributs des instances lors de leur création, avec l'ajout d'un attribut `name`."
   ]
  },
  {
   "cell_type": "code",
   "execution_count": null,
   "metadata": {
    "id": "4Lm4Hs3O8cCv",
    "slideshow": {
     "slide_type": "subslide"
    }
   },
   "outputs": [],
   "source": [
    "class Joueur:\n",
    "    def __init__(self, nom):  # remarquer l'ajout du paramètre nom\n",
    "        self.pv = 100\n",
    "        self.ps = 0\n",
    "        self.ca = 20\n",
    "        self.cd = 30\n",
    "        self.x = 0\n",
    "        self.y = 0\n",
    "        self.name = nom  # remarquer l'ajout de cette ligne\n",
    "    \n",
    "    def affiche(self):\n",
    "        print ('le joueur : ', self.name,'se trouve à la position : ', (self.x, self.y))  #utilisation de self.name au lieu de self\n",
    "        print('PV',self.pv, ', PS', self.ps, ', CA', self.ca, ', CD', self.cd, sep=': ')\n"
   ]
  },
  {
   "cell_type": "markdown",
   "metadata": {
    "id": "ZGwVJ7vJ81Ek",
    "slideshow": {
     "slide_type": "subslide"
    }
   },
   "source": [
    "Création d'une instance de la classe Joueur ainsi modifiée"
   ]
  },
  {
   "cell_type": "code",
   "execution_count": null,
   "metadata": {
    "id": "OddtVKNj87p2",
    "slideshow": {
     "slide_type": "fragment"
    }
   },
   "outputs": [],
   "source": [
    "alix = Joueur()"
   ]
  },
  {
   "cell_type": "markdown",
   "metadata": {
    "id": "_u3Hf_Au8-sD",
    "slideshow": {
     "slide_type": "fragment"
    }
   },
   "source": [
    "Lors de la création d'une instance de classe, la méthode **`__init__`** est automatiquement exécutée. \n",
    "\n",
    "Ici, cette méthode exige, en plus du paramètre `self`, le paramètre `name`... qui n'a pas été fourni !"
   ]
  },
  {
   "cell_type": "code",
   "execution_count": null,
   "metadata": {
    "id": "zI5ZWaZJ9Yxp",
    "slideshow": {
     "slide_type": "subslide"
    }
   },
   "outputs": [],
   "source": [
    "alix = Joueur('Alice')"
   ]
  },
  {
   "cell_type": "markdown",
   "metadata": {
    "id": "7Y3JzAUc9e3x",
    "slideshow": {
     "slide_type": "fragment"
    }
   },
   "source": [
    "Exécuter une méthode"
   ]
  },
  {
   "cell_type": "code",
   "execution_count": null,
   "metadata": {
    "id": "VHxwrnYb9hKe",
    "slideshow": {
     "slide_type": "fragment"
    }
   },
   "outputs": [],
   "source": [
    "alix.affiche()"
   ]
  },
  {
   "cell_type": "markdown",
   "metadata": {
    "id": "K9NLAeoR_psV",
    "slideshow": {
     "slide_type": "subslide"
    }
   },
   "source": [
    "Créer une autre instance de la même classe"
   ]
  },
  {
   "cell_type": "code",
   "execution_count": null,
   "metadata": {
    "id": "pUOVyLnk_Qza",
    "slideshow": {
     "slide_type": "fragment"
    }
   },
   "outputs": [],
   "source": [
    "bob = Joueur('Boby')"
   ]
  },
  {
   "cell_type": "code",
   "execution_count": null,
   "metadata": {
    "id": "ge8GVIzU_USn",
    "slideshow": {
     "slide_type": "fragment"
    }
   },
   "outputs": [],
   "source": [
    "bob.affiche()"
   ]
  },
  {
   "cell_type": "markdown",
   "metadata": {
    "id": "uPIreyEm_tM0",
    "slideshow": {
     "slide_type": "subslide"
    }
   },
   "source": [
    "Remarque : ici les deux instances alix et bob ont tous leurs attributs identique, à l'exception de l'attribut `name`."
   ]
  },
  {
   "cell_type": "markdown",
   "metadata": {
    "id": "FJzSIleCBBCW",
    "slideshow": {
     "slide_type": "subslide"
    }
   },
   "source": [
    "# A retenir"
   ]
  },
  {
   "cell_type": "markdown",
   "metadata": {
    "slideshow": {
     "slide_type": "fragment"
    }
   },
   "source": [
    "La programmation orientée objet permet de **structurer** des programmes, de manière à regrouper les variables et les fonctions relatives à un même objet. \n",
    "* variable => **attribut** d'un objet\n",
    "* fonction => **méthode** attachée à un objet"
   ]
  },
  {
   "cell_type": "markdown",
   "metadata": {
    "id": "kzXdewDeBep0",
    "slideshow": {
     "slide_type": "subslide"
    }
   },
   "source": [
    "Chaque objet est défini comme **instance** d'une **classe**.\n",
    "\n",
    "On commence donc par définir la classe, en définissant les attributs et les méthodes qui possédera chaque instance de cette classe (donc chaque objet). \n",
    "\n",
    "On peut accéder aux attributs et méthodes d'un objet avec la notation pointée : **`nom_objet.nom_attribut`** ou **`nom_objet.nom_methode()`**"
   ]
  },
  {
   "cell_type": "markdown",
   "metadata": {
    "id": "t5f61at5L2jn",
    "slideshow": {
     "slide_type": "slide"
    }
   },
   "source": [
    "# Un exemple complet : class Chrono"
   ]
  },
  {
   "cell_type": "code",
   "execution_count": null,
   "metadata": {
    "id": "cgnDWe_4L_mC",
    "slideshow": {
     "slide_type": "fragment"
    }
   },
   "outputs": [],
   "source": [
    "class Chrono:\n",
    "    \"\"\"classe dont les objets représentent un temps mesuré en heures, minutes, secondes\"\"\"\n",
    "    def __init__(self, h,m,s):\n",
    "        self.heures = h \n",
    "        self.minutes = m \n",
    "        self.secondes = s \n"
   ]
  },
  {
   "cell_type": "markdown",
   "metadata": {
    "id": "kLrMUqIUMfZE",
    "slideshow": {
     "slide_type": "subslide"
    }
   },
   "source": [
    "## Syntaxe\n",
    "\n",
    "**`class Nom_de_classe : `**\n",
    "\n",
    "L'usage est de mettre une majuscule au début du nom de la classe.\n",
    "\n",
    "\n",
    "\n",
    "`__init__`\n",
    "est le **constructeur** de la classe. \n",
    "\n",
    "Ce constructeur a toujours au minimum un paramètre, souvent nommé `self`, qui désigne l'objet créé par le constructeur. \n"
   ]
  },
  {
   "cell_type": "markdown",
   "metadata": {
    "id": "hsukE6ykNgCG",
    "slideshow": {
     "slide_type": "subslide"
    }
   },
   "source": [
    "### Remarque\n",
    "le nom self n'est pas obligatoire, mais usuel. On pourrait tout aussi bien écrire \n",
    "\n",
    "    class Chrono:\n",
    "        \"\"\"classe dont les objets représentent un temps mesuré en heures, minutes, secondes\"\"\"\n",
    "        def __init__(obj, h,m,s):\n",
    "            obj.heures = h \n",
    "            obj.minutes = m \n",
    "            obj.secondes = s"
   ]
  },
  {
   "cell_type": "markdown",
   "metadata": {
    "id": "AxoIWBYdN2H5",
    "slideshow": {
     "slide_type": "subslide"
    }
   },
   "source": [
    "## Appel au constructeur"
   ]
  },
  {
   "cell_type": "markdown",
   "metadata": {
    "id": "dg6OfZ6iN4kZ",
    "slideshow": {
     "slide_type": "fragment"
    }
   },
   "source": [
    "Le constructeur `__init__` est appelé lorsqu'un nouvel objet est créé avec `Nom_de_classe` (ici : `Chrono`)"
   ]
  },
  {
   "cell_type": "code",
   "execution_count": null,
   "metadata": {
    "id": "VyZvuusDOK1Z",
    "slideshow": {
     "slide_type": "fragment"
    }
   },
   "outputs": [],
   "source": [
    "t = Chrono(2,30,45)"
   ]
  },
  {
   "cell_type": "markdown",
   "metadata": {
    "id": "6oSZjdvJOmLR",
    "slideshow": {
     "slide_type": "subslide"
    }
   },
   "source": [
    "On peut accéder à chaque **attribut** de l'objet ainsi créé"
   ]
  },
  {
   "cell_type": "code",
   "execution_count": null,
   "metadata": {
    "id": "YWpPtobSOxLX",
    "slideshow": {
     "slide_type": "fragment"
    }
   },
   "outputs": [],
   "source": [
    "print(t.heures)\n",
    "print(t.minutes)\n",
    "print(t.secondes)"
   ]
  },
  {
   "cell_type": "markdown",
   "metadata": {
    "id": "c9gilznBQKUV",
    "slideshow": {
     "slide_type": "fragment"
    }
   },
   "source": [
    "[Visualiser la création de deux objets de classe Chrono](http://www.pythontutor.com/visualize.html#code=class%20Chrono%3A%0A%20%20%20%20%22%22%22classe%20dont%20les%20objets%20repr%C3%A9sentent%20un%20temps%20mesur%C3%A9%20en%20heures,%20minutes,%20secondes%22%22%22%0A%20%20%20%20def%20__init__%28self,%20h,m,s%29%3A%0A%20%20%20%20%20%20%20%20self.heures%20%3D%20h%20%0A%20%20%20%20%20%20%20%20self.minutes%20%3D%20m%20%0A%20%20%20%20%20%20%20%20self.secondes%20%3D%20s%20%0A%0At%20%3D%20Chrono%282,30,45%29%0Au%20%3D%20Chrono%283,2,12%29&cumulative=false&curInstr=0&heapPrimitives=nevernest&mode=display&origin=opt-frontend.js&py=3&rawInputLstJSON=%5B%5D&textReferences=false)"
   ]
  },
  {
   "cell_type": "markdown",
   "metadata": {
    "id": "5WPZTx54Rn1J",
    "slideshow": {
     "slide_type": "fragment"
    }
   },
   "source": [
    "[Visualiser l'ajout d'un attribut de classe](http://www.pythontutor.com/visualize.html#code=class%20Chrono%3A%0A%20%20%20%20%22%22%22classe%20dont%20les%20objets%20repr%C3%A9sentent%20un%20temps%20mesur%C3%A9%20en%20heures,%20minutes,%20secondes%22%22%22%0A%20%20%20%20heure_max%3D24%0A%20%20%20%20def%20__init__%28self,%20h,m,s%29%3A%0A%20%20%20%20%20%20%20%20self.heures%20%3D%20h%20%0A%20%20%20%20%20%20%20%20self.minutes%20%3D%20m%20%0A%20%20%20%20%20%20%20%20self.secondes%20%3D%20s%20%0A%0At%20%3D%20Chrono%282,30,45%29%0Au%20%3D%20Chrono%283,2,12%29%0Aprint%28t.secondes%29%0Aprint%28u.heure_max%29&cumulative=false&curInstr=0&heapPrimitives=nevernest&mode=display&origin=opt-frontend.js&py=3&rawInputLstJSON=%5B%5D&textReferences=false)"
   ]
  },
  {
   "cell_type": "markdown",
   "metadata": {
    "id": "tiFuvWbkQUnp",
    "slideshow": {
     "slide_type": "subslide"
    }
   },
   "source": [
    "## définir une méthode"
   ]
  },
  {
   "cell_type": "markdown",
   "metadata": {
    "id": "vN2O15P5v-0Z",
    "slideshow": {
     "slide_type": "fragment"
    }
   },
   "source": [
    "Une méthode est une **fonction** définie dans une **classe**, dont le premier paramètre, nommé `self`, désigne l'objet auquel la méthode sera appliquée. \n",
    "La syntaxe est celle des fonctions de python : en particulier, une méthode peut retourner un résultat avec le mot clé `return`"
   ]
  },
  {
   "cell_type": "code",
   "execution_count": null,
   "metadata": {
    "id": "mWndv7CzQXNS",
    "slideshow": {
     "slide_type": "subslide"
    }
   },
   "outputs": [],
   "source": [
    "class Chrono:\n",
    "    \"\"\"classe dont les objets représentent un temps mesuré en heures, minutes, secondes\"\"\"\n",
    "    def __init__(self, h,m,s):\n",
    "        self.heures = h \n",
    "        self.minutes = m \n",
    "        self.secondes = s \n",
    "    \n",
    "    def avance(self, duree):\n",
    "        \"\"\"ajoute à un objet de type Chrono une durée mesurée en secondes\"\"\"\n",
    "        self.secondes += duree\n",
    "        # dépassement possible au delà de 60 secondes:\n",
    "        self.minutes += self.secondes // 60\n",
    "        self.secondes = self.secondes % 60\n",
    "        # dépassement possible au delà de 60 minutes\n",
    "        self.heures += self.minutes // 60\n",
    "        self.minutes = self.minutes % 60"
   ]
  },
  {
   "cell_type": "code",
   "execution_count": null,
   "metadata": {
    "id": "nlosiDtXUEpC",
    "slideshow": {
     "slide_type": "subslide"
    }
   },
   "outputs": [],
   "source": [
    "u = Chrono(1,59,59)\n",
    "u.avance(100)"
   ]
  },
  {
   "cell_type": "code",
   "execution_count": null,
   "metadata": {
    "id": "vDCUJuZ0URNv",
    "slideshow": {
     "slide_type": "fragment"
    }
   },
   "outputs": [],
   "source": [
    "print(u.heures, u.minutes, u.secondes)"
   ]
  },
  {
   "cell_type": "markdown",
   "metadata": {
    "id": "AagI8GptUfgZ",
    "slideshow": {
     "slide_type": "subslide"
    }
   },
   "source": [
    "En programmation orientée objet, l'essentiel du travail s'effectue en programmant les méthodes, donc au niveau de la définition de la classe !"
   ]
  },
  {
   "cell_type": "markdown",
   "metadata": {
    "id": "BCDLOpl5Upip",
    "slideshow": {
     "slide_type": "subslide"
    }
   },
   "source": [
    "### Ajoute d'une méthode `texte` \n",
    "\n",
    "qui retourne un texte au format `**h ** min **s` pour un objet de type Chrono."
   ]
  },
  {
   "cell_type": "code",
   "execution_count": null,
   "metadata": {
    "id": "Jw6JSLIqVGfb",
    "slideshow": {
     "slide_type": "subslide"
    }
   },
   "outputs": [],
   "source": [
    "class Chrono:\n",
    "    \"\"\"classe dont les objets représentent un temps mesuré en heures, minutes, secondes\"\"\"\n",
    "    def __init__(self, h,m,s):\n",
    "        self.heures = h \n",
    "        self.minutes = m \n",
    "        self.secondes = s \n",
    "    \n",
    "    def avance(self, duree):\n",
    "        \"\"\"ajoute à un objet de type Chrono une durée mesurée en secondes\"\"\"\n",
    "        self.secondes += duree\n",
    "        # dépassement possible au delà de 60 secondes:\n",
    "        self.minutes += self.secondes // 60\n",
    "        self.secondes = self.secondes % 60\n",
    "        # dépassement possible au delà de 60 minutes\n",
    "        self.heures += self.minutes // 60\n",
    "        self.minutes = self.minutes % 60\n",
    "\n",
    "    def texte(self):\n",
    "        return str(self.heures) +'h ' + str(self.minutes) + 'min ' + str(self.secondes) + 's'"
   ]
  },
  {
   "cell_type": "code",
   "execution_count": null,
   "metadata": {
    "id": "PigkmcQcVpD2",
    "slideshow": {
     "slide_type": "subslide"
    }
   },
   "outputs": [],
   "source": [
    "v = Chrono(1,30,40)\n",
    "print(v.texte())"
   ]
  },
  {
   "cell_type": "markdown",
   "metadata": {
    "id": "7qiCHdI3W6VE",
    "slideshow": {
     "slide_type": "subslide"
    }
   },
   "source": [
    "# Encapsulation"
   ]
  },
  {
   "cell_type": "markdown",
   "metadata": {
    "id": "cW5r5fm_W8KG",
    "slideshow": {
     "slide_type": "fragment"
    }
   },
   "source": [
    "La programmation orientée objet permet d'implémenter des modules réalisant une **interface** donnée. \n",
    "\n",
    "Par convention, les détail de l'implémentation peuvent être signalés par un nom qui débute par le caractère de soulignement : `_`"
   ]
  },
  {
   "cell_type": "markdown",
   "metadata": {
    "id": "V0rl24J3Xfrk",
    "slideshow": {
     "slide_type": "subslide"
    }
   },
   "source": [
    "## Interface d'un module Chrono\n",
    "\n",
    "|commande|description|\n",
    "|:-------|:----------|\n",
    "|`Chrono(h,m,s)`|crée un objet de type `Chrono`, initialisé avec les valeurs `h` heures `m` minutes `s` secondes|\n",
    "|`c.texte()`| retourne un texte décrivant le contenu de l'objet `c` de type Chrono|\n",
    "|` c.avance(duree)`| ajoute  `duree` secondes à l'objet `c` de type `Chrono`|\n",
    "|`c1.additionne(c2)`|retourne un nouvel objet de type `Chrono` contenant la somme des durée de `c1` et `c2`|\n"
   ]
  },
  {
   "cell_type": "markdown",
   "metadata": {
    "id": "vJ43symqZfWy",
    "slideshow": {
     "slide_type": "subslide"
    }
   },
   "source": [
    "## Exemple d'implémentation"
   ]
  },
  {
   "cell_type": "code",
   "execution_count": null,
   "metadata": {
    "id": "e93ttOz2Zis5",
    "slideshow": {
     "slide_type": "subslide"
    }
   },
   "outputs": [],
   "source": [
    "class Chrono:\n",
    "    def __init__(self, h,m,s):\n",
    "        self._nb_secondes = h*3600 + m*60 +s \n",
    "    \n",
    "    def _conversion(self):\n",
    "        s = self._nb_secondes\n",
    "        m = s // 60\n",
    "        s = s % 60\n",
    "        h = m // 60\n",
    "        m = m % 60\n",
    "        return (h,m,s)\n",
    "    \n",
    "    def texte(self) :\n",
    "        h,m,s = self._conversion()\n",
    "        return str(h)+'h '+str(m)+'min '+str(s)+'s'\n",
    "    \n",
    "    def avance(self, duree):\n",
    "        self._nb_secondes += duree\n",
    "    \n",
    "    def additionne(self, c2):\n",
    "        resu = Chrono(0,0,0)\n",
    "        resu._nb_secondes = self._nb_secondes + c2._nb_secondes\n",
    "        return resu\n",
    "    \n",
    "t1 = Chrono(1,20,30)\n",
    "t2 = Chrono(2,41,31)\n",
    "\n"
   ]
  },
  {
   "cell_type": "code",
   "execution_count": null,
   "metadata": {
    "id": "kUzusuAasl74",
    "slideshow": {
     "slide_type": "subslide"
    }
   },
   "outputs": [],
   "source": [
    "t = t1.additionne(t2)\n",
    "print(t.texte())"
   ]
  },
  {
   "cell_type": "markdown",
   "metadata": {
    "id": "Mthn0gxbtBa_",
    "slideshow": {
     "slide_type": "subslide"
    }
   },
   "source": [
    "## Méthodes particulières de Python\n",
    "\n",
    "Python permet de définir certaines méthodes particulières, qui sont automatiquement appelées dans certains cas\n",
    "\n",
    "|méthode|appel|effet|\n",
    "|:------|:-----|:----|\n",
    "|`__str__(self)`|`str(obj)`|retourne une chaîne de caractère décrivant l'objet `obj`|\n",
    "|`__add__(self, v)`|`obj + v`| retourne un objet calculant la somme de obj et v|\n",
    "|`__eq__(self,v)`|`obj == v`|retourne True s'il y a égalité entre obj et v|\n",
    "|`__lt__(self,v)`|`obj < v`|retourne True si obj est strictement plus petit que v|\n"
   ]
  },
  {
   "cell_type": "code",
   "execution_count": null,
   "metadata": {
    "id": "TnAUjqxGyTG0",
    "slideshow": {
     "slide_type": "subslide"
    }
   },
   "outputs": [],
   "source": [
    "print(t1)"
   ]
  },
  {
   "cell_type": "markdown",
   "metadata": {
    "id": "ERnaNtQ6zViZ",
    "slideshow": {
     "slide_type": "fragment"
    }
   },
   "source": [
    "### ajout de la méthode `__str__`"
   ]
  },
  {
   "cell_type": "code",
   "execution_count": null,
   "metadata": {
    "id": "fabJJjrmyhto",
    "slideshow": {
     "slide_type": "subslide"
    }
   },
   "outputs": [],
   "source": [
    "class Chrono:\n",
    "    def __init__(self, h,m,s):\n",
    "        self._nb_secondes = h*3600 + m*60 +s \n",
    "    \n",
    "    def _conversion(self):\n",
    "        s = self._nb_secondes\n",
    "        m = s // 60\n",
    "        s = s % 60\n",
    "        h = m // 60\n",
    "        m = m % 60\n",
    "        return (h,m,s)\n",
    "    \n",
    "    def texte(self) :\n",
    "        h,m,s = self._conversion()\n",
    "        return str(h)+'h '+str(m)+'min '+str(s)+'s'\n",
    "    \n",
    "    ########################################\n",
    "    #   ajout de la méthode particulière  ##\n",
    "    ########################################\n",
    "    def __str__(self):\n",
    "        return self.texte()\n",
    "\n",
    "    \n",
    "    def avance(self, duree):\n",
    "        self._nb_secondes += duree\n",
    "    \n",
    "    def additionne(self, c2):\n",
    "        resu = Chrono(0,0,0)\n",
    "        resu._nb_secondes = self._nb_secondes + c2._nb_secondes\n",
    "        return resu\n",
    "    \n",
    "t1 = Chrono(1,20,30)\n",
    "t2 = Chrono(1,41,31)"
   ]
  },
  {
   "cell_type": "code",
   "execution_count": null,
   "metadata": {
    "id": "zMm8ThMSzDpB",
    "slideshow": {
     "slide_type": "subslide"
    }
   },
   "outputs": [],
   "source": [
    "print(t1)"
   ]
  },
  {
   "cell_type": "code",
   "execution_count": null,
   "metadata": {
    "id": "-StbVs9kzQBw",
    "slideshow": {
     "slide_type": "subslide"
    }
   },
   "outputs": [],
   "source": [
    "t1 + t2"
   ]
  },
  {
   "cell_type": "markdown",
   "metadata": {
    "id": "cHji1rx4zlgq",
    "slideshow": {
     "slide_type": "fragment"
    }
   },
   "source": [
    "### Ajout de la méthode `__add__`"
   ]
  },
  {
   "cell_type": "code",
   "execution_count": null,
   "metadata": {
    "id": "_pQBu_Utzo5P",
    "slideshow": {
     "slide_type": "subslide"
    }
   },
   "outputs": [],
   "source": [
    "class Chrono:\n",
    "    def __init__(self, h,m,s):\n",
    "        self._nb_secondes = h*3600 + m*60 +s \n",
    "    \n",
    "    def _conversion(self):\n",
    "        s = self._nb_secondes\n",
    "        m = s // 60\n",
    "        s = s % 60\n",
    "        h = m // 60\n",
    "        m = m % 60\n",
    "        return (h,m,s)\n",
    "    \n",
    "    def texte(self) :\n",
    "        h,m,s = self._conversion()\n",
    "        return str(h)+'h '+str(m)+'min '+str(s)+'s'\n",
    "    \n",
    "    def __str__(self):\n",
    "        return self.texte()\n",
    "\n",
    "    \n",
    "    def avance(self, duree):\n",
    "        self._nb_secondes += duree\n",
    "    \n",
    "    def additionne(self, c2):\n",
    "        resu = Chrono(0,0,0)\n",
    "        resu._nb_secondes = self._nb_secondes + c2._nb_secondes\n",
    "        return resu\n",
    "    \n",
    "    ########################################\n",
    "    #   ajout de la méthode particulière  ##\n",
    "    ########################################\n",
    "    def __add__(self,v):\n",
    "        return self.additionne(v)\n",
    "\n",
    "t1 = Chrono(1,20,30)\n",
    "t2 = Chrono(1,41,31)"
   ]
  },
  {
   "cell_type": "code",
   "execution_count": null,
   "metadata": {
    "id": "Iz72NuRCz4nz",
    "slideshow": {
     "slide_type": "subslide"
    }
   },
   "outputs": [],
   "source": [
    "t3 = t1+t2\n",
    "print(t3)"
   ]
  },
  {
   "cell_type": "code",
   "execution_count": null,
   "metadata": {
    "id": "j3XP2Z2_z9CG",
    "slideshow": {
     "slide_type": "fragment"
    }
   },
   "outputs": [],
   "source": [
    "t4 = Chrono(3,2,1)\n",
    "print(t3 == t4)"
   ]
  },
  {
   "cell_type": "markdown",
   "metadata": {
    "id": "hIGubHIJ07_k",
    "slideshow": {
     "slide_type": "fragment"
    }
   },
   "source": [
    "[Visualiser l'égalité entre objets sur PythonTutor](http://www.pythontutor.com/visualize.html#code=class%20Chrono%3A%0A%20%20%20%20def%20__init__%28self,%20h,m,s%29%3A%0A%20%20%20%20%20%20%20%20self._nb_secondes%20%3D%20h*3600%20%2B%20m*60%20%2Bs%20%0A%0At3%20%3D%20Chrono%281,2,3%29%0At4%20%3D%20Chrono%281,2,3%29%0Aprint%28t3%3D%3Dt4%29%0At5%20%3D%20t4%0Aprint%28t5%3D%3Dt4%29&cumulative=false&curInstr=0&heapPrimitives=nevernest&mode=display&origin=opt-frontend.js&py=3&rawInputLstJSON=%5B%5D&textReferences=false)"
   ]
  },
  {
   "cell_type": "markdown",
   "metadata": {
    "id": "VUF9fWLQ1DT_",
    "slideshow": {
     "slide_type": "subslide"
    }
   },
   "source": [
    "### ajout de la méthode `__eq__`"
   ]
  },
  {
   "cell_type": "code",
   "execution_count": null,
   "metadata": {
    "id": "uxTAkN0r1GF2",
    "slideshow": {
     "slide_type": "subslide"
    }
   },
   "outputs": [],
   "source": [
    "class Chrono:\n",
    "    def __init__(self, h,m,s):\n",
    "        self._nb_secondes = h*3600 + m*60 +s \n",
    "    \n",
    "    def _conversion(self):\n",
    "        s = self._nb_secondes\n",
    "        m = s // 60\n",
    "        s = s % 60\n",
    "        h = m // 60\n",
    "        m = m % 60\n",
    "        return (h,m,s)\n",
    "    \n",
    "    def texte(self) :\n",
    "        h,m,s = self._conversion()\n",
    "        return str(h)+'h '+str(m)+'min '+str(s)+'s'\n",
    "    \n",
    "    def __str__(self):\n",
    "        return self.texte()\n",
    "\n",
    "    \n",
    "    def avance(self, duree):\n",
    "        self._nb_secondes += duree\n",
    "    \n",
    "    def additionne(self, c2):\n",
    "        resu = Chrono(0,0,0)\n",
    "        resu._nb_secondes = self._nb_secondes + c2._nb_secondes\n",
    "        return resu\n",
    "    \n",
    "    def __add__(self,v):\n",
    "        return self.additionne(v)\n",
    "        \n",
    "    ########################################\n",
    "    #   ajout de la méthode particulière  ##\n",
    "    ########################################\n",
    "    def __eq__(self,v):\n",
    "        return self._nb_secondes == v._nb_secondes\n",
    "\n",
    "t3 = Chrono(1,2,3)\n",
    "t4 = Chrono(1,2,3)"
   ]
  },
  {
   "cell_type": "code",
   "execution_count": null,
   "metadata": {
    "id": "OAt6WOgO1aXZ",
    "slideshow": {
     "slide_type": "subslide"
    }
   },
   "outputs": [],
   "source": [
    "print(id(t3))\n",
    "print(id(t4))\n",
    "print( t3 == t4)"
   ]
  },
  {
   "cell_type": "markdown",
   "metadata": {
    "id": "mUkmG-I61-QL",
    "slideshow": {
     "slide_type": "fragment"
    }
   },
   "source": [
    "[Visuliser l'appel de `__eq__` sur PythonTutor](http://www.pythontutor.com/visualize.html#code=class%20Chrono%3A%0A%20%20%20%20def%20__init__%28self,%20h,m,s%29%3A%0A%20%20%20%20%20%20%20%20self._nb_secondes%20%3D%20h*3600%20%2B%20m*60%20%2Bs%20%0A%20%20%20%20def%20__eq__%28self,v%29%3A%0A%20%20%20%20%20%20%20%20return%20self._nb_secondes%20%3D%3D%20v._nb_secondes%0A%0At3%20%3D%20Chrono%281,2,3%29%0At4%20%3D%20Chrono%281,2,3%29%0Aprint%28t3%3D%3Dt4%29&cumulative=false&curInstr=0&heapPrimitives=nevernest&mode=display&origin=opt-frontend.js&py=3&rawInputLstJSON=%5B%5D&textReferences=false)"
   ]
  }
 ],
 "metadata": {
  "celltoolbar": "Diaporama",
  "colab": {
   "authorship_tag": "ABX9TyNoxZhHEVcUtALjKhUJ1AEf",
   "collapsed_sections": [
    "cQMmpbhVzwOX",
    "bR9ZI30l1lwg",
    "LdiZmEPc5lxr",
    "FJzSIleCBBCW",
    "hsukE6ykNgCG",
    "AxoIWBYdN2H5",
    "tiFuvWbkQUnp",
    "BCDLOpl5Upip"
   ],
   "name": "03COURS_ProgrammationObjet.ipynb",
   "private_outputs": true,
   "provenance": []
  },
  "kernelspec": {
   "display_name": "Python 3",
   "language": "python",
   "name": "python3"
  },
  "language_info": {
   "codemirror_mode": {
    "name": "ipython",
    "version": 3
   },
   "file_extension": ".py",
   "mimetype": "text/x-python",
   "name": "python",
   "nbconvert_exporter": "python",
   "pygments_lexer": "ipython3",
   "version": "3.7.6"
  }
 },
 "nbformat": 4,
 "nbformat_minor": 2
}
