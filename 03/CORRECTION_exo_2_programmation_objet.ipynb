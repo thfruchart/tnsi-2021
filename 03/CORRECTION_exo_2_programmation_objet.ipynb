{
  "nbformat": 4,
  "nbformat_minor": 0,
  "metadata": {
    "colab": {
      "name": "03_CORRECTION-exo-2_programmation_objet.ipynb",
      "provenance": [],
      "authorship_tag": "ABX9TyOqV6Qx95WZn5hAdr+SbSKK",
      "include_colab_link": true
    },
    "kernelspec": {
      "name": "python3",
      "display_name": "Python 3"
    },
    "language_info": {
      "name": "python"
    }
  },
  "cells": [
    {
      "cell_type": "markdown",
      "metadata": {
        "id": "view-in-github",
        "colab_type": "text"
      },
      "source": [
        "<a href=\"https://colab.research.google.com/github/thfruchart/tnsi/blob/main/03/CORRECTION_exo_2_programmation_objet.ipynb\" target=\"_parent\"><img src=\"https://colab.research.google.com/assets/colab-badge.svg\" alt=\"Open In Colab\"/></a>"
      ]
    },
    {
      "cell_type": "markdown",
      "metadata": {
        "id": "Op9Arxxb39Qy"
      },
      "source": [
        "# Corrigé de l'exercice 2"
      ]
    },
    {
      "cell_type": "code",
      "metadata": {
        "id": "tpHk6R4x7-L4"
      },
      "source": [
        "class Date:\n",
        "    def __init__(self, j,m,a):\n",
        "        self.jour = j\n",
        "        self.mois = m\n",
        "        self.annee = a\n",
        "\n",
        "    def __str__(self):  # ou texte(self)\n",
        "        dico = {1:'janvier',\n",
        "                2 : 'février',\n",
        "                3 : 'mars',\n",
        "                4 : 'avril',\n",
        "                5 : 'mai',\n",
        "                6 : 'juin',\n",
        "                7 : 'juillet',\n",
        "                8 : 'août',\n",
        "                9 : 'septembre',\n",
        "                10: 'octobre' ,\n",
        "                11: 'novembre',\n",
        "                12:'décembre'}\n",
        "        return str(self.jour) + ' ' + dico[self.mois] + ' ' + str(self.annee)\n",
        "\n",
        "        def __eq__(self, v):  # ou egale(self,v)\n",
        "            return\n",
        "        \n",
        "        def __lt__(self, v):  # ou anterieure(self,v)\n",
        "            return\n",
        "\n",
        "d1 = Date(1,1,2000)\n",
        "d2 = Date(31,12,2020)\n",
        "d3 = Date(31,12,2020)"
      ],
      "execution_count": 1,
      "outputs": []
    },
    {
      "cell_type": "code",
      "metadata": {
        "id": "an73alV8u5bj",
        "colab": {
          "base_uri": "https://localhost:8080/",
          "height": 51
        },
        "outputId": "ecda04af-4973-4791-f6cd-6b4bade5f1b1"
      },
      "source": [
        "print(d1)\n",
        "print(d2==d3)"
      ],
      "execution_count": null,
      "outputs": [
        {
          "output_type": "stream",
          "text": [
            "1 janvier 2000\n",
            "False\n"
          ],
          "name": "stdout"
        }
      ]
    }
  ]
}