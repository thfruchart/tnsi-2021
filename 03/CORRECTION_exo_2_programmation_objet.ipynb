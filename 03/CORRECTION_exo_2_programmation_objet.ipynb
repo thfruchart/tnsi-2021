{
  "nbformat": 4,
  "nbformat_minor": 0,
  "metadata": {
    "colab": {
      "name": "03_CORRECTION-exo-2_programmation_objet.ipynb",
      "provenance": [],
      "authorship_tag": "ABX9TyP5Jziygsm8kc5LuntGMk9v",
      "include_colab_link": true
    },
    "kernelspec": {
      "name": "python3",
      "display_name": "Python 3"
    },
    "language_info": {
      "name": "python"
    }
  },
  "cells": [
    {
      "cell_type": "markdown",
      "metadata": {
        "id": "view-in-github",
        "colab_type": "text"
      },
      "source": [
        "<a href=\"https://colab.research.google.com/github/thfruchart/tnsi/blob/main/03/CORRECTION_exo_2_programmation_objet.ipynb\" target=\"_parent\"><img src=\"https://colab.research.google.com/assets/colab-badge.svg\" alt=\"Open In Colab\"/></a>"
      ]
    },
    {
      "cell_type": "markdown",
      "metadata": {
        "id": "Op9Arxxb39Qy"
      },
      "source": [
        "# Corrigé de l'exercice 2"
      ]
    },
    {
      "cell_type": "code",
      "metadata": {
        "id": "tpHk6R4x7-L4"
      },
      "source": [
        "class Date:\n",
        "    def __init__(self, j,m,a):\n",
        "        self.jour = j\n",
        "        self.mois = m\n",
        "        self.annee = a\n",
        "\n",
        "    def __str__(self):  # ou texte(self)\n",
        "        dico = {1:'janvier',\n",
        "                2 : 'février',\n",
        "                3 : 'mars',\n",
        "                4 : 'avril',\n",
        "                5 : 'mai',\n",
        "                6 : 'juin',\n",
        "                7 : 'juillet',\n",
        "                8 : 'août',\n",
        "                9 : 'septembre',\n",
        "                10: 'octobre' ,\n",
        "                11: 'novembre',\n",
        "                12:'décembre'}\n",
        "        return str(self.jour) + ' ' + dico[self.mois] + ' ' + str(self.annee)\n",
        "\n",
        "    def egale(self, v): \n",
        "        if self.jour==v.jour:\n",
        "            if self.mois == v.mois :\n",
        "                if self.annee == v.annee :\n",
        "                    return True\n",
        "        return False\n",
        "    \n",
        "    def __eq__(self, v): \n",
        "        if self.jour==v.jour:\n",
        "            if self.mois == v.mois :\n",
        "                if self.annee == v.annee :\n",
        "                    return True\n",
        "        return False\n",
        "    \n",
        "    def __lt__(self, v):  # ou anterieure(self,v)\n",
        "        if self.annee < v.annee:\n",
        "            return True\n",
        "        elif self.annee > v.annee :\n",
        "            return False\n",
        "        else : \n",
        "            if self.mois < v.mois:\n",
        "                return True\n",
        "            elif self.mois > v.mois :\n",
        "                return False\n",
        "            else : \n",
        "                return self.jour < v.jour\n",
        "\n",
        "d1 = Date(1,1,2000)\n",
        "d2 = Date(31,12,2020)\n",
        "d3 = Date(31,12,2020)"
      ],
      "execution_count": 19,
      "outputs": []
    },
    {
      "cell_type": "code",
      "metadata": {
        "id": "an73alV8u5bj",
        "colab": {
          "base_uri": "https://localhost:8080/"
        },
        "outputId": "bf311781-553d-4a9f-8ab0-ced73cd916e8"
      },
      "source": [
        "print(d1)"
      ],
      "execution_count": 13,
      "outputs": [
        {
          "output_type": "stream",
          "name": "stdout",
          "text": [
            "1 janvier 2000\n"
          ]
        }
      ]
    },
    {
      "cell_type": "code",
      "metadata": {
        "id": "U7D7UBJFDOpG",
        "outputId": "477927a4-3f83-4768-a247-5b5e88846c7e",
        "colab": {
          "base_uri": "https://localhost:8080/"
        }
      },
      "source": [
        "d2.egale(d3)"
      ],
      "execution_count": 22,
      "outputs": [
        {
          "output_type": "execute_result",
          "data": {
            "text/plain": [
              "True"
            ]
          },
          "metadata": {},
          "execution_count": 22
        }
      ]
    },
    {
      "cell_type": "code",
      "metadata": {
        "id": "vspY3VaPDRbV",
        "outputId": "d777053c-cc22-41d3-d517-39e63e149696",
        "colab": {
          "base_uri": "https://localhost:8080/"
        }
      },
      "source": [
        "d2 == d3"
      ],
      "execution_count": 23,
      "outputs": [
        {
          "output_type": "execute_result",
          "data": {
            "text/plain": [
              "True"
            ]
          },
          "metadata": {},
          "execution_count": 23
        }
      ]
    },
    {
      "cell_type": "code",
      "metadata": {
        "id": "zZQKOeBGDVCt",
        "outputId": "b835cacc-7fd1-4be4-c8b1-8d4f19399304",
        "colab": {
          "base_uri": "https://localhost:8080/"
        }
      },
      "source": [
        "d1 == d2"
      ],
      "execution_count": 24,
      "outputs": [
        {
          "output_type": "execute_result",
          "data": {
            "text/plain": [
              "False"
            ]
          },
          "metadata": {},
          "execution_count": 24
        }
      ]
    },
    {
      "cell_type": "code",
      "metadata": {
        "id": "GcWX5KVFEDF4",
        "outputId": "2935197b-d817-41d8-870e-87c452c1a6fa",
        "colab": {
          "base_uri": "https://localhost:8080/"
        }
      },
      "source": [
        "d1<d2, d2<d1, d3<d3"
      ],
      "execution_count": 25,
      "outputs": [
        {
          "output_type": "execute_result",
          "data": {
            "text/plain": [
              "(True, False, False)"
            ]
          },
          "metadata": {},
          "execution_count": 25
        }
      ]
    }
  ]
}