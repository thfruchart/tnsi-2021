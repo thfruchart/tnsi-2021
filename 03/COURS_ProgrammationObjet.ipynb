{
  "nbformat": 4,
  "nbformat_minor": 0,
  "metadata": {
    "celltoolbar": "Diaporama",
    "colab": {
      "name": "03COURS_ProgrammationObjet.ipynb",
      "private_outputs": true,
      "provenance": [],
      "collapsed_sections": [
        "cQMmpbhVzwOX",
        "bR9ZI30l1lwg",
        "LdiZmEPc5lxr",
        "FJzSIleCBBCW",
        "hsukE6ykNgCG",
        "AxoIWBYdN2H5",
        "tiFuvWbkQUnp",
        "BCDLOpl5Upip"
      ],
      "include_colab_link": true
    },
    "kernelspec": {
      "display_name": "Python 3",
      "language": "python",
      "name": "python3"
    },
    "language_info": {
      "codemirror_mode": {
        "name": "ipython",
        "version": 3
      },
      "file_extension": ".py",
      "mimetype": "text/x-python",
      "name": "python",
      "nbconvert_exporter": "python",
      "pygments_lexer": "ipython3",
      "version": "3.7.6"
    }
  },
  "cells": [
    {
      "cell_type": "markdown",
      "metadata": {
        "id": "view-in-github",
        "colab_type": "text"
      },
      "source": [
        "<a href=\"https://colab.research.google.com/github/thfruchart/tnsi/blob/main/03/COURS_ProgrammationObjet.ipynb\" target=\"_parent\"><img src=\"https://colab.research.google.com/assets/colab-badge.svg\" alt=\"Open In Colab\"/></a>"
      ]
    },
    {
      "cell_type": "markdown",
      "metadata": {
        "id": "cQMmpbhVzwOX"
      },
      "source": [
        "# Introduction"
      ]
    },
    {
      "cell_type": "markdown",
      "metadata": {
        "id": "mArXc78bVprR"
      },
      "source": [
        "Imaginons qu'on souhaite programmer un jeu multijoueurs."
      ]
    },
    {
      "cell_type": "markdown",
      "metadata": {
        "id": "277RWIPtVprV"
      },
      "source": [
        "Imaginons que chaque personnage possède : \n",
        "- un nombre de points de vie\n",
        "- un nombre de points de succès\n",
        "- un nombre mesurant sa capacité d'attaque\n",
        "- un nombre mesurant sa capacité de défense\n",
        "- une position dans le jeu, par exemple sous forme de coordonnées (x;y)"
      ]
    },
    {
      "cell_type": "markdown",
      "metadata": {
        "id": "k4I5QH34VprY"
      },
      "source": [
        "De plus, chaque personnage doit pouvoir : \n",
        "* se déplacer (dans différentes directions)\n",
        "* attaquer\n",
        "* se défendre"
      ]
    },
    {
      "cell_type": "markdown",
      "metadata": {
        "id": "Ygo9RhRiVpra"
      },
      "source": [
        "Ces différentes informations/actions correspondent\n",
        "* à des variables : pv(points de vie), ps(points de succès), ca(capacité d'attaque), cd(capacité de défense), x(abscisse), y(ordonnée)\n",
        "* à des commandes (ou fonctions) : gauche(), droite(), haut(), bas() attaquer(), defendre()"
      ]
    },
    {
      "cell_type": "markdown",
      "metadata": {
        "id": "zmFsthpu0G-6"
      },
      "source": [
        "En mode multijoueur, il peut devenir très compliqué de gérer toutes les variables et surtout, toutes les actions des différents joueurs.\n",
        "\n",
        "La programmation objet permet de relever ce défi !"
      ]
    },
    {
      "cell_type": "markdown",
      "metadata": {
        "id": "bR9ZI30l1lwg"
      },
      "source": [
        "# Exemple1"
      ]
    },
    {
      "cell_type": "code",
      "metadata": {
        "id": "p13hpoqHzvKU"
      },
      "source": [
        "class Joueur:\n",
        "    def __init__(self):\n",
        "        self.pv = 100\n",
        "        self.ps = 0\n",
        "        self.ca = 20\n",
        "        self.cd = 30\n",
        "        self.x = 0\n",
        "        self.y = 0\n",
        "    \n",
        "    def affiche(self):\n",
        "        print ('le joueur : ', self, 'se trouve à la position : ', (self.x, self.y))\n",
        "        print('PV',self.pv, ', PS', self.ps, ', CA', self.ca, ', CD', self.cd, sep=': ')"
      ],
      "execution_count": null,
      "outputs": []
    },
    {
      "cell_type": "markdown",
      "metadata": {
        "id": "I8etlbCC5J6J"
      },
      "source": [
        "Créer une instance de la classe Joueur"
      ]
    },
    {
      "cell_type": "code",
      "metadata": {
        "id": "wOyoM9rN3Ey7"
      },
      "source": [
        "alix = Joueur()"
      ],
      "execution_count": null,
      "outputs": []
    },
    {
      "cell_type": "code",
      "metadata": {
        "id": "r81xoJvR3wTn"
      },
      "source": [
        "alix"
      ],
      "execution_count": null,
      "outputs": []
    },
    {
      "cell_type": "code",
      "metadata": {
        "id": "bJJmxCI4UPtr"
      },
      "source": [
        "type(alix)"
      ],
      "execution_count": null,
      "outputs": []
    },
    {
      "cell_type": "markdown",
      "metadata": {
        "id": "9BNNEObd5U8i"
      },
      "source": [
        "Accéder aux attributs "
      ]
    },
    {
      "cell_type": "code",
      "metadata": {
        "id": "2m1vIkt33ugC"
      },
      "source": [
        "alix.x , alix.y"
      ],
      "execution_count": null,
      "outputs": []
    },
    {
      "cell_type": "markdown",
      "metadata": {
        "id": "JyjkNtfc5aUy"
      },
      "source": [
        "Exécuter une méthode"
      ]
    },
    {
      "cell_type": "code",
      "metadata": {
        "id": "6SQyJTD63bY2"
      },
      "source": [
        "alix.affiche()"
      ],
      "execution_count": null,
      "outputs": []
    },
    {
      "cell_type": "code",
      "metadata": {
        "id": "vQbLlH4jJj0P"
      },
      "source": [
        "Joueur.affiche(alix)"
      ],
      "execution_count": null,
      "outputs": []
    },
    {
      "cell_type": "markdown",
      "metadata": {
        "id": "H4HQoydl5hCN"
      },
      "source": [
        "Modifier certains attributs"
      ]
    },
    {
      "cell_type": "code",
      "metadata": {
        "id": "sKIEnaE44k5n"
      },
      "source": [
        "alix.x, alix.y = 50, 30"
      ],
      "execution_count": null,
      "outputs": []
    },
    {
      "cell_type": "code",
      "metadata": {
        "id": "MDwSO6pu45F5"
      },
      "source": [
        "alix.affiche()"
      ],
      "execution_count": null,
      "outputs": []
    },
    {
      "cell_type": "markdown",
      "metadata": {
        "id": "Rjzqc2Pb5qHZ"
      },
      "source": [
        "Créer une autre instance de la même classe"
      ]
    },
    {
      "cell_type": "code",
      "metadata": {
        "id": "CKF9Phc75pz1"
      },
      "source": [
        "bob = Joueur()"
      ],
      "execution_count": null,
      "outputs": []
    },
    {
      "cell_type": "code",
      "metadata": {
        "id": "-24C9dNW5wr7"
      },
      "source": [
        "bob.affiche()"
      ],
      "execution_count": null,
      "outputs": []
    },
    {
      "cell_type": "code",
      "metadata": {
        "id": "U1QT_CGx6bys"
      },
      "source": [
        "n = id(bob)\n",
        "hex(n)"
      ],
      "execution_count": null,
      "outputs": []
    },
    {
      "cell_type": "code",
      "metadata": {
        "id": "5Hz_MlZt_83m"
      },
      "source": [
        "alix.ps += 10\n",
        "bob.ps += 5\n",
        "print(alix.ps)\n",
        "print(bob.ps)"
      ],
      "execution_count": null,
      "outputs": []
    },
    {
      "cell_type": "markdown",
      "metadata": {
        "id": "E0bztGavAjjL"
      },
      "source": [
        "les \"variables\" alix.ps  et  bob.ps sont deux variables différentes.\n",
        "\n",
        "Ce sont les attributs de **deux objets différents** de classe Joueur"
      ]
    },
    {
      "cell_type": "markdown",
      "metadata": {
        "id": "xsT89cjxADil"
      },
      "source": [
        ""
      ]
    },
    {
      "cell_type": "markdown",
      "metadata": {
        "id": "LdiZmEPc5lxr"
      },
      "source": [
        "# Exemple 2\n",
        "\n"
      ]
    },
    {
      "cell_type": "markdown",
      "metadata": {
        "id": "ezxJYyHl8QLp"
      },
      "source": [
        "On reprend l'exemple 1, mais en permettant de particulariser les attributs des instances lors de leur création, avec l'ajout d'un attribut `name`."
      ]
    },
    {
      "cell_type": "code",
      "metadata": {
        "id": "4Lm4Hs3O8cCv"
      },
      "source": [
        "class Joueur:\n",
        "    def __init__(self, nom):  # remarquer l'ajout du paramètre nom\n",
        "        self.pv = 100\n",
        "        self.ps = 0\n",
        "        self.ca = 20\n",
        "        self.cd = 30\n",
        "        self.x = 0\n",
        "        self.y = 0\n",
        "        self.name = nom  # remarquer l'ajout de cette ligne\n",
        "    \n",
        "    def affiche(self):\n",
        "        print ('le joueur : ', self.name,'se trouve à la position : ', (self.x, self.y))  #utilisation de self.name au lieu de self\n",
        "        print('PV',self.pv, ', PS', self.ps, ', CA', self.ca, ', CD', self.cd, sep=': ')\n"
      ],
      "execution_count": null,
      "outputs": []
    },
    {
      "cell_type": "markdown",
      "metadata": {
        "id": "ZGwVJ7vJ81Ek"
      },
      "source": [
        "Création d'une instance de la classe Joueur ainsi modifiée"
      ]
    },
    {
      "cell_type": "code",
      "metadata": {
        "id": "OddtVKNj87p2"
      },
      "source": [
        "alix = Joueur()"
      ],
      "execution_count": null,
      "outputs": []
    },
    {
      "cell_type": "markdown",
      "metadata": {
        "id": "_u3Hf_Au8-sD"
      },
      "source": [
        "Lors de la création d'une instance de classe, la méthode **`__init__`** est automatiquement exécutée. \n",
        "\n",
        "Ici, cette méthode exige, en plus du paramètre `self`, le paramètre `name`... qui n'a pas été fourni !"
      ]
    },
    {
      "cell_type": "code",
      "metadata": {
        "id": "zI5ZWaZJ9Yxp"
      },
      "source": [
        "alix = Joueur('Alice')"
      ],
      "execution_count": null,
      "outputs": []
    },
    {
      "cell_type": "markdown",
      "metadata": {
        "id": "7Y3JzAUc9e3x"
      },
      "source": [
        "Exécuter une méthode"
      ]
    },
    {
      "cell_type": "code",
      "metadata": {
        "id": "VHxwrnYb9hKe"
      },
      "source": [
        "alix.affiche()"
      ],
      "execution_count": null,
      "outputs": []
    },
    {
      "cell_type": "markdown",
      "metadata": {
        "id": "K9NLAeoR_psV"
      },
      "source": [
        "Créer une autre instance de la même classe"
      ]
    },
    {
      "cell_type": "code",
      "metadata": {
        "id": "pUOVyLnk_Qza"
      },
      "source": [
        "bob = Joueur('Boby')"
      ],
      "execution_count": null,
      "outputs": []
    },
    {
      "cell_type": "code",
      "metadata": {
        "id": "ge8GVIzU_USn"
      },
      "source": [
        "bob.affiche()"
      ],
      "execution_count": null,
      "outputs": []
    },
    {
      "cell_type": "markdown",
      "metadata": {
        "id": "uPIreyEm_tM0"
      },
      "source": [
        "Remarque : ici les deux instances alix et bob ont tous leurs attributs identique, à l'exception de l'attribut `name`."
      ]
    },
    {
      "cell_type": "markdown",
      "metadata": {
        "id": "FJzSIleCBBCW"
      },
      "source": [
        "# A retenir"
      ]
    },
    {
      "cell_type": "markdown",
      "metadata": {
        "id": "lnzyh49YVpr4"
      },
      "source": [
        "La programmation orientée objet permet de **structurer** des programmes, de manière à regrouper les variables et les fonctions relatives à un même objet. \n",
        "* variable => **attribut** d'un objet\n",
        "* fonction => **méthode** attachée à un objet"
      ]
    },
    {
      "cell_type": "markdown",
      "metadata": {
        "id": "kzXdewDeBep0"
      },
      "source": [
        "Chaque objet est défini comme **instance** d'une **classe**.\n",
        "\n",
        "On commence donc par définir la classe, en définissant les attributs et les méthodes qui possédera chaque instance de cette classe (donc chaque objet). \n",
        "\n",
        "On peut accéder aux attributs et méthodes d'un objet avec la notation pointée : **`nom_objet.nom_attribut`** ou **`nom_objet.nom_methode()`**"
      ]
    },
    {
      "cell_type": "markdown",
      "metadata": {
        "id": "t5f61at5L2jn"
      },
      "source": [
        "# Un exemple complet : class Chrono"
      ]
    },
    {
      "cell_type": "code",
      "metadata": {
        "id": "cgnDWe_4L_mC"
      },
      "source": [
        "class Chrono:\n",
        "    \"\"\"classe dont les objets représentent un temps mesuré en heures, minutes, secondes\"\"\"\n",
        "    def __init__(self, h,m,s):\n",
        "        self.heures = h \n",
        "        self.minutes = m \n",
        "        self.secondes = s \n"
      ],
      "execution_count": null,
      "outputs": []
    },
    {
      "cell_type": "markdown",
      "metadata": {
        "id": "kLrMUqIUMfZE"
      },
      "source": [
        "## Syntaxe\n",
        "\n",
        "**`class Nom_de_classe : `**\n",
        "\n",
        "L'usage est de mettre une majuscule au début du nom de la classe.\n",
        "\n",
        "\n",
        "\n",
        "`__init__`\n",
        "est le **constructeur** de la classe. \n",
        "\n",
        "Ce constructeur a toujours au minimum un paramètre, souvent nommé `self`, qui désigne l'objet créé par le constructeur. \n"
      ]
    },
    {
      "cell_type": "markdown",
      "metadata": {
        "id": "hsukE6ykNgCG"
      },
      "source": [
        "### Remarque\n",
        "le nom self n'est pas obligatoire, mais usuel. On pourrait tout aussi bien écrire \n",
        "\n",
        "    class Chrono:\n",
        "        \"\"\"classe dont les objets représentent un temps mesuré en heures, minutes, secondes\"\"\"\n",
        "        def __init__(obj, h,m,s):\n",
        "            obj.heures = h \n",
        "            obj.minutes = m \n",
        "            obj.secondes = s"
      ]
    },
    {
      "cell_type": "markdown",
      "metadata": {
        "id": "AxoIWBYdN2H5"
      },
      "source": [
        "## Appel au constructeur"
      ]
    },
    {
      "cell_type": "markdown",
      "metadata": {
        "id": "dg6OfZ6iN4kZ"
      },
      "source": [
        "Le constructeur `__init__` est appelé lorsqu'un nouvel objet est créé avec `Nom_de_classe` (ici : `Chrono`)"
      ]
    },
    {
      "cell_type": "code",
      "metadata": {
        "id": "VyZvuusDOK1Z"
      },
      "source": [
        "t = Chrono(2,30,45)"
      ],
      "execution_count": null,
      "outputs": []
    },
    {
      "cell_type": "markdown",
      "metadata": {
        "id": "6oSZjdvJOmLR"
      },
      "source": [
        "On peut accéder à chaque **attribut** de l'objet ainsi créé"
      ]
    },
    {
      "cell_type": "code",
      "metadata": {
        "id": "YWpPtobSOxLX"
      },
      "source": [
        "print(t.heures)\n",
        "print(t.minutes)\n",
        "print(t.secondes)"
      ],
      "execution_count": null,
      "outputs": []
    },
    {
      "cell_type": "markdown",
      "metadata": {
        "id": "c9gilznBQKUV"
      },
      "source": [
        "[Visualiser la création de deux objets de classe Chrono](http://www.pythontutor.com/visualize.html#code=class%20Chrono%3A%0A%20%20%20%20%22%22%22classe%20dont%20les%20objets%20repr%C3%A9sentent%20un%20temps%20mesur%C3%A9%20en%20heures,%20minutes,%20secondes%22%22%22%0A%20%20%20%20def%20__init__%28self,%20h,m,s%29%3A%0A%20%20%20%20%20%20%20%20self.heures%20%3D%20h%20%0A%20%20%20%20%20%20%20%20self.minutes%20%3D%20m%20%0A%20%20%20%20%20%20%20%20self.secondes%20%3D%20s%20%0A%0At%20%3D%20Chrono%282,30,45%29%0Au%20%3D%20Chrono%283,2,12%29&cumulative=false&curInstr=0&heapPrimitives=nevernest&mode=display&origin=opt-frontend.js&py=3&rawInputLstJSON=%5B%5D&textReferences=false)"
      ]
    },
    {
      "cell_type": "markdown",
      "metadata": {
        "id": "5WPZTx54Rn1J"
      },
      "source": [
        "[Visualiser l'ajout d'un attribut de classe](http://www.pythontutor.com/visualize.html#code=class%20Chrono%3A%0A%20%20%20%20%22%22%22classe%20dont%20les%20objets%20repr%C3%A9sentent%20un%20temps%20mesur%C3%A9%20en%20heures,%20minutes,%20secondes%22%22%22%0A%20%20%20%20heure_max%3D24%0A%20%20%20%20def%20__init__%28self,%20h,m,s%29%3A%0A%20%20%20%20%20%20%20%20self.heures%20%3D%20h%20%0A%20%20%20%20%20%20%20%20self.minutes%20%3D%20m%20%0A%20%20%20%20%20%20%20%20self.secondes%20%3D%20s%20%0A%0At%20%3D%20Chrono%282,30,45%29%0Au%20%3D%20Chrono%283,2,12%29%0Aprint%28t.secondes%29%0Aprint%28u.heure_max%29&cumulative=false&curInstr=0&heapPrimitives=nevernest&mode=display&origin=opt-frontend.js&py=3&rawInputLstJSON=%5B%5D&textReferences=false)"
      ]
    },
    {
      "cell_type": "markdown",
      "metadata": {
        "id": "tiFuvWbkQUnp"
      },
      "source": [
        "## définir une méthode"
      ]
    },
    {
      "cell_type": "markdown",
      "metadata": {
        "id": "vN2O15P5v-0Z"
      },
      "source": [
        "Une méthode est une **fonction** définie dans une **classe**, dont le premier paramètre, nommé `self`, désigne l'objet auquel la méthode sera appliquée. \n",
        "La syntaxe est celle des fonctions de python : en particulier, une méthode peut retourner un résultat avec le mot clé `return`"
      ]
    },
    {
      "cell_type": "code",
      "metadata": {
        "id": "mWndv7CzQXNS"
      },
      "source": [
        "class Chrono:\n",
        "    \"\"\"classe dont les objets représentent un temps mesuré en heures, minutes, secondes\"\"\"\n",
        "    def __init__(self, h,m,s):\n",
        "        self.heures = h \n",
        "        self.minutes = m \n",
        "        self.secondes = s \n",
        "    \n",
        "    def avance(self, duree):\n",
        "        \"\"\"ajoute à un objet de type Chrono une durée mesurée en secondes\"\"\"\n",
        "        self.secondes += duree\n",
        "        # dépassement possible au delà de 60 secondes:\n",
        "        self.minutes += self.secondes // 60\n",
        "        self.secondes = self.secondes % 60\n",
        "        # dépassement possible au delà de 60 minutes\n",
        "        self.heures += self.minutes // 60\n",
        "        self.minutes = self.minutes % 60"
      ],
      "execution_count": null,
      "outputs": []
    },
    {
      "cell_type": "code",
      "metadata": {
        "id": "nlosiDtXUEpC"
      },
      "source": [
        "u = Chrono(1,59,59)\n",
        "u.avance(100)"
      ],
      "execution_count": null,
      "outputs": []
    },
    {
      "cell_type": "code",
      "metadata": {
        "id": "vDCUJuZ0URNv"
      },
      "source": [
        "print(u.heures, u.minutes, u.secondes)"
      ],
      "execution_count": null,
      "outputs": []
    },
    {
      "cell_type": "markdown",
      "metadata": {
        "id": "AagI8GptUfgZ"
      },
      "source": [
        "En programmation orientée objet, l'essentiel du travail s'effectue en programmant les méthodes, donc au niveau de la définition de la classe !"
      ]
    },
    {
      "cell_type": "markdown",
      "metadata": {
        "id": "BCDLOpl5Upip"
      },
      "source": [
        "### Ajoute d'une méthode `texte` \n",
        "\n",
        "qui retourne un texte au format `**h ** min **s` pour un objet de type Chrono."
      ]
    },
    {
      "cell_type": "code",
      "metadata": {
        "id": "Jw6JSLIqVGfb"
      },
      "source": [
        "class Chrono:\n",
        "    \"\"\"classe dont les objets représentent un temps mesuré en heures, minutes, secondes\"\"\"\n",
        "    def __init__(self, h,m,s):\n",
        "        self.heures = h \n",
        "        self.minutes = m \n",
        "        self.secondes = s \n",
        "    \n",
        "    def avance(self, duree):\n",
        "        \"\"\"ajoute à un objet de type Chrono une durée mesurée en secondes\"\"\"\n",
        "        self.secondes += duree\n",
        "        # dépassement possible au delà de 60 secondes:\n",
        "        self.minutes += self.secondes // 60\n",
        "        self.secondes = self.secondes % 60\n",
        "        # dépassement possible au delà de 60 minutes\n",
        "        self.heures += self.minutes // 60\n",
        "        self.minutes = self.minutes % 60\n",
        "\n",
        "    def texte(self):\n",
        "        return str(self.heures) +'h ' + str(self.minutes) + 'min ' + str(self.secondes) + 's'"
      ],
      "execution_count": null,
      "outputs": []
    },
    {
      "cell_type": "code",
      "metadata": {
        "id": "PigkmcQcVpD2"
      },
      "source": [
        "v = Chrono(1,30,40)\n",
        "print(v.texte())"
      ],
      "execution_count": null,
      "outputs": []
    },
    {
      "cell_type": "markdown",
      "metadata": {
        "id": "7qiCHdI3W6VE"
      },
      "source": [
        "# Encapsulation"
      ]
    },
    {
      "cell_type": "markdown",
      "metadata": {
        "id": "cW5r5fm_W8KG"
      },
      "source": [
        "La programmation orientée objet permet d'implémenter des modules réalisant une **interface** donnée. \n",
        "\n",
        "Par convention, les détail de l'implémentation peuvent être signalés par un nom qui débute par le caractère de soulignement : `_`"
      ]
    },
    {
      "cell_type": "markdown",
      "metadata": {
        "id": "V0rl24J3Xfrk"
      },
      "source": [
        "## Interface d'un module Chrono\n",
        "\n",
        "|commande|description|\n",
        "|:-------|:----------|\n",
        "|`Chrono(h,m,s)`|crée un objet de type `Chrono`, initialisé avec les valeurs `h` heures `m` minutes `s` secondes|\n",
        "|`c.texte()`| retourne un texte décrivant le contenu de l'objet `c` de type Chrono|\n",
        "|` c.avance(duree)`| ajoute  `duree` secondes à l'objet `c` de type `Chrono`|\n",
        "|`c1.additionne(c2)`|retourne un nouvel objet de type `Chrono` contenant la somme des durée de `c1` et `c2`|\n"
      ]
    },
    {
      "cell_type": "markdown",
      "metadata": {
        "id": "vJ43symqZfWy"
      },
      "source": [
        "## Exemple d'implémentation"
      ]
    },
    {
      "cell_type": "code",
      "metadata": {
        "id": "e93ttOz2Zis5"
      },
      "source": [
        "class Chrono:\n",
        "    def __init__(self, h,m,s):\n",
        "        self._nb_secondes = h*3600 + m*60 +s \n",
        "    \n",
        "    def _conversion(self):\n",
        "        s = self._nb_secondes\n",
        "        m = s // 60\n",
        "        s = s % 60\n",
        "        h = m // 60\n",
        "        m = m % 60\n",
        "        return (h,m,s)\n",
        "    \n",
        "    def texte(self) :\n",
        "        h,m,s = self._conversion()\n",
        "        return str(h)+'h '+str(m)+'min '+str(s)+'s'\n",
        "    \n",
        "    def avance(self, duree):\n",
        "        self._nb_secondes += duree\n",
        "    \n",
        "    def additionne(self, c2):\n",
        "        resu = Chrono(0,0,0)\n",
        "        resu._nb_secondes = self._nb_secondes + c2._nb_secondes\n",
        "        return resu\n",
        "    \n",
        "t1 = Chrono(1,20,30)\n",
        "t2 = Chrono(2,41,31)\n",
        "\n"
      ],
      "execution_count": null,
      "outputs": []
    },
    {
      "cell_type": "code",
      "metadata": {
        "id": "kUzusuAasl74"
      },
      "source": [
        "t = t1.additionne(t2)\n",
        "print(t.texte())"
      ],
      "execution_count": null,
      "outputs": []
    },
    {
      "cell_type": "markdown",
      "metadata": {
        "id": "Mthn0gxbtBa_"
      },
      "source": [
        "## Méthodes particulières de Python\n",
        "\n",
        "Python permet de définir certaines méthodes particulières, qui sont automatiquement appelées dans certains cas\n",
        "\n",
        "|méthode|appel|effet|\n",
        "|:------|:-----|:----|\n",
        "|`__str__(self)`|`str(obj)`|retourne une chaîne de caractère décrivant l'objet `obj`|\n",
        "|`__add__(self, v)`|`obj + v`| retourne un objet calculant la somme de obj et v|\n",
        "|`__eq__(self,v)`|`obj == v`|retourne True s'il y a égalité entre obj et v|\n",
        "|`__lt__(self,v)`|`obj < v`|retourne True si obj est strictement plus petit que v|\n"
      ]
    },
    {
      "cell_type": "code",
      "metadata": {
        "id": "TnAUjqxGyTG0"
      },
      "source": [
        "print(t1)"
      ],
      "execution_count": null,
      "outputs": []
    },
    {
      "cell_type": "markdown",
      "metadata": {
        "id": "ERnaNtQ6zViZ"
      },
      "source": [
        "### ajout de la méthode `__str__`"
      ]
    },
    {
      "cell_type": "code",
      "metadata": {
        "id": "fabJJjrmyhto"
      },
      "source": [
        "class Chrono:\n",
        "    def __init__(self, h,m,s):\n",
        "        self._nb_secondes = h*3600 + m*60 +s \n",
        "    \n",
        "    def _conversion(self):\n",
        "        s = self._nb_secondes\n",
        "        m = s // 60\n",
        "        s = s % 60\n",
        "        h = m // 60\n",
        "        m = m % 60\n",
        "        return (h,m,s)\n",
        "    \n",
        "    def texte(self) :\n",
        "        h,m,s = self._conversion()\n",
        "        return str(h)+'h '+str(m)+'min '+str(s)+'s'\n",
        "    \n",
        "    ########################################\n",
        "    #   ajout de la méthode particulière  ##\n",
        "    ########################################\n",
        "    def __str__(self):\n",
        "        return self.texte()\n",
        "\n",
        "    \n",
        "    def avance(self, duree):\n",
        "        self._nb_secondes += duree\n",
        "    \n",
        "    def additionne(self, c2):\n",
        "        resu = Chrono(0,0,0)\n",
        "        resu._nb_secondes = self._nb_secondes + c2._nb_secondes\n",
        "        return resu\n",
        "    \n",
        "t1 = Chrono(1,20,30)\n",
        "t2 = Chrono(1,41,31)"
      ],
      "execution_count": null,
      "outputs": []
    },
    {
      "cell_type": "code",
      "metadata": {
        "id": "zMm8ThMSzDpB"
      },
      "source": [
        "print(t1)"
      ],
      "execution_count": null,
      "outputs": []
    },
    {
      "cell_type": "code",
      "metadata": {
        "id": "-StbVs9kzQBw"
      },
      "source": [
        "t1 + t2"
      ],
      "execution_count": null,
      "outputs": []
    },
    {
      "cell_type": "markdown",
      "metadata": {
        "id": "cHji1rx4zlgq"
      },
      "source": [
        "### Ajout de la méthode `__add__`"
      ]
    },
    {
      "cell_type": "code",
      "metadata": {
        "id": "_pQBu_Utzo5P"
      },
      "source": [
        "class Chrono:\n",
        "    def __init__(self, h,m,s):\n",
        "        self._nb_secondes = h*3600 + m*60 +s \n",
        "    \n",
        "    def _conversion(self):\n",
        "        s = self._nb_secondes\n",
        "        m = s // 60\n",
        "        s = s % 60\n",
        "        h = m // 60\n",
        "        m = m % 60\n",
        "        return (h,m,s)\n",
        "    \n",
        "    def texte(self) :\n",
        "        h,m,s = self._conversion()\n",
        "        return str(h)+'h '+str(m)+'min '+str(s)+'s'\n",
        "    \n",
        "    def __str__(self):\n",
        "        return self.texte()\n",
        "\n",
        "    \n",
        "    def avance(self, duree):\n",
        "        self._nb_secondes += duree\n",
        "    \n",
        "    def additionne(self, c2):\n",
        "        resu = Chrono(0,0,0)\n",
        "        resu._nb_secondes = self._nb_secondes + c2._nb_secondes\n",
        "        return resu\n",
        "    \n",
        "    ########################################\n",
        "    #   ajout de la méthode particulière  ##\n",
        "    ########################################\n",
        "    def __add__(self,v):\n",
        "        return self.additionne(v)\n",
        "\n",
        "t1 = Chrono(1,20,30)\n",
        "t2 = Chrono(1,41,31)"
      ],
      "execution_count": null,
      "outputs": []
    },
    {
      "cell_type": "code",
      "metadata": {
        "id": "Iz72NuRCz4nz"
      },
      "source": [
        "t3 = t1+t2\n",
        "print(t3)"
      ],
      "execution_count": null,
      "outputs": []
    },
    {
      "cell_type": "code",
      "metadata": {
        "id": "j3XP2Z2_z9CG"
      },
      "source": [
        "t4 = Chrono(3,2,1)\n",
        "print(t3 == t4)"
      ],
      "execution_count": null,
      "outputs": []
    },
    {
      "cell_type": "markdown",
      "metadata": {
        "id": "hIGubHIJ07_k"
      },
      "source": [
        "[Visualiser l'égalité entre objets sur PythonTutor](http://www.pythontutor.com/visualize.html#code=class%20Chrono%3A%0A%20%20%20%20def%20__init__%28self,%20h,m,s%29%3A%0A%20%20%20%20%20%20%20%20self._nb_secondes%20%3D%20h*3600%20%2B%20m*60%20%2Bs%20%0A%0At3%20%3D%20Chrono%281,2,3%29%0At4%20%3D%20Chrono%281,2,3%29%0Aprint%28t3%3D%3Dt4%29%0At5%20%3D%20t4%0Aprint%28t5%3D%3Dt4%29&cumulative=false&curInstr=0&heapPrimitives=nevernest&mode=display&origin=opt-frontend.js&py=3&rawInputLstJSON=%5B%5D&textReferences=false)"
      ]
    },
    {
      "cell_type": "markdown",
      "metadata": {
        "id": "VUF9fWLQ1DT_"
      },
      "source": [
        "### ajout de la méthode `__eq__`"
      ]
    },
    {
      "cell_type": "code",
      "metadata": {
        "id": "uxTAkN0r1GF2"
      },
      "source": [
        "class Chrono:\n",
        "    def __init__(self, h,m,s):\n",
        "        self._nb_secondes = h*3600 + m*60 +s \n",
        "    \n",
        "    def _conversion(self):\n",
        "        s = self._nb_secondes\n",
        "        m = s // 60\n",
        "        s = s % 60\n",
        "        h = m // 60\n",
        "        m = m % 60\n",
        "        return (h,m,s)\n",
        "    \n",
        "    def texte(self) :\n",
        "        h,m,s = self._conversion()\n",
        "        return str(h)+'h '+str(m)+'min '+str(s)+'s'\n",
        "    \n",
        "    def __str__(self):\n",
        "        return self.texte()\n",
        "\n",
        "    \n",
        "    def avance(self, duree):\n",
        "        self._nb_secondes += duree\n",
        "    \n",
        "    def additionne(self, c2):\n",
        "        resu = Chrono(0,0,0)\n",
        "        resu._nb_secondes = self._nb_secondes + c2._nb_secondes\n",
        "        return resu\n",
        "    \n",
        "    def __add__(self,v):\n",
        "        return self.additionne(v)\n",
        "        \n",
        "    ########################################\n",
        "    #   ajout de la méthode particulière  ##\n",
        "    ########################################\n",
        "    def __eq__(self,v):\n",
        "        return self._nb_secondes == v._nb_secondes\n",
        "\n",
        "t3 = Chrono(1,2,3)\n",
        "t4 = Chrono(1,2,3)"
      ],
      "execution_count": null,
      "outputs": []
    },
    {
      "cell_type": "code",
      "metadata": {
        "id": "OAt6WOgO1aXZ"
      },
      "source": [
        "print(id(t3))\n",
        "print(id(t4))\n",
        "print( t3 == t4)"
      ],
      "execution_count": null,
      "outputs": []
    },
    {
      "cell_type": "markdown",
      "metadata": {
        "id": "mUkmG-I61-QL"
      },
      "source": [
        "[Visuliser l'appel de `__eq__` sur PythonTutor](http://www.pythontutor.com/visualize.html#code=class%20Chrono%3A%0A%20%20%20%20def%20__init__%28self,%20h,m,s%29%3A%0A%20%20%20%20%20%20%20%20self._nb_secondes%20%3D%20h*3600%20%2B%20m*60%20%2Bs%20%0A%20%20%20%20def%20__eq__%28self,v%29%3A%0A%20%20%20%20%20%20%20%20return%20self._nb_secondes%20%3D%3D%20v._nb_secondes%0A%0At3%20%3D%20Chrono%281,2,3%29%0At4%20%3D%20Chrono%281,2,3%29%0Aprint%28t3%3D%3Dt4%29&cumulative=false&curInstr=0&heapPrimitives=nevernest&mode=display&origin=opt-frontend.js&py=3&rawInputLstJSON=%5B%5D&textReferences=false)"
      ]
    }
  ]
}