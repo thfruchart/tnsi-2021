{
  "nbformat": 4,
  "nbformat_minor": 0,
  "metadata": {
    "colab": {
      "name": "07-ExoPython2.ipynb",
      "provenance": [],
      "collapsed_sections": [],
      "authorship_tag": "ABX9TyNxxn4NjAz3AVCb9Jt6ZBJ6",
      "include_colab_link": true
    },
    "kernelspec": {
      "name": "python3",
      "display_name": "Python 3"
    }
  },
  "cells": [
    {
      "cell_type": "markdown",
      "metadata": {
        "id": "view-in-github",
        "colab_type": "text"
      },
      "source": [
        "<a href=\"https://colab.research.google.com/github/thfruchart/tnsi/blob/main/07/ExoPython2.ipynb\" target=\"_parent\"><img src=\"https://colab.research.google.com/assets/colab-badge.svg\" alt=\"Open In Colab\"/></a>"
      ]
    },
    {
      "cell_type": "markdown",
      "metadata": {
        "id": "TVpw9R-VVb3l"
      },
      "source": [
        "## Exercice 2"
      ]
    },
    {
      "cell_type": "markdown",
      "metadata": {
        "id": "ZScb-fzybjn3"
      },
      "source": [
        "On décide de définir deux attributs pour chaque objet de la classe File : `debut` et `fin`\n",
        "\n",
        "Ainsi, il sera rapide d'ajouter un nouvel élément à la fin de la file. \n",
        "\n",
        "1. Compléter le code de la fonction `ajouter` ci-dessous\n",
        "2. Proposer une série de tests"
      ]
    },
    {
      "cell_type": "code",
      "metadata": {
        "id": "2XniZ_5TVz46"
      },
      "source": [
        "class Maillon:\n",
        "    def __init__(self, val, suiv=None):\n",
        "        self.valeur = val\n",
        "        self.suivant = suiv\n",
        "\n",
        "    def __str__(self):\n",
        "        if self.suivant is None:\n",
        "            return str(self.valeur)\n",
        "        return str(self.valeur) + '-' + str(self.suivant)\n",
        "\n",
        "class File:\n",
        "    def __init__(self):\n",
        "        self.debut = None\n",
        "        self.fin = None \n",
        "\n",
        "    def est_vide(self):\n",
        "        return self.debut is None\n",
        "\n",
        "    def __str__(self):\n",
        "        return str(self.debut)\n",
        "\n",
        "def retirer(f):\n",
        "    if f.est_vide():\n",
        "        raise ValueError(\"impossible de retirer : la file est vide\")\n",
        "    premier_maillon = f.debut\n",
        "    f.debut = premier_maillon.suivant\n",
        "    if f.debut is None:\n",
        "        f.fin = None\n",
        "    return premier_maillon.valeur\n",
        "\n",
        "\n",
        "def ajouter(f, v):\n",
        "    m = Maillon(v)\n",
        "    # cas d'une file vide\n",
        "    if f.est_vide():\n",
        "        f\n",
        "    else: # cas d'une file avec au moins un maillon\n",
        "        f\n"
      ],
      "execution_count": null,
      "outputs": []
    }
  ]
}