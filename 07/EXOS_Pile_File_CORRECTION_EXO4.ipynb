{
  "nbformat": 4,
  "nbformat_minor": 0,
  "metadata": {
    "kernelspec": {
      "display_name": "Python 3",
      "language": "python",
      "name": "python3"
    },
    "language_info": {
      "codemirror_mode": {
        "name": "ipython",
        "version": 3
      },
      "file_extension": ".py",
      "mimetype": "text/x-python",
      "name": "python",
      "nbconvert_exporter": "python",
      "pygments_lexer": "ipython3",
      "version": "3.7.6"
    },
    "colab": {
      "name": "EXOS_Pile_File.ipynb",
      "provenance": [],
      "include_colab_link": true
    }
  },
  "cells": [
    {
      "cell_type": "markdown",
      "metadata": {
        "id": "view-in-github",
        "colab_type": "text"
      },
      "source": [
        "<a href=\"https://colab.research.google.com/github/thfruchart/tnsi/blob/main/07/EXOS_Pile_File_CORRECTION_EXO4.ipynb\" target=\"_parent\"><img src=\"https://colab.research.google.com/assets/colab-badge.svg\" alt=\"Open In Colab\"/></a>"
      ]
    },
    {
      "cell_type": "markdown",
      "metadata": {
        "id": "ZcCpnTBDPSNW"
      },
      "source": [
        "# Exercice  4\n",
        "On donne ci-dessous une définition d'une classe File"
      ]
    },
    {
      "cell_type": "code",
      "metadata": {
        "id": "6Fmi-_6LPSNQ"
      },
      "source": [
        "class Maillon:\n",
        "    def __init__(self, val, suiv=None):\n",
        "        self.valeur = val\n",
        "        self.suivant = suiv\n",
        "\n",
        "    def __str__(self):\n",
        "        if self.suivant is None:\n",
        "            return str(self.valeur)\n",
        "        return str(self.valeur) + '\\n' + str(self.suivant)\n",
        "\n",
        "class Pile:\n",
        "    def __init__(self):\n",
        "        self.haut = None\n",
        "\n",
        "    def est_vide(self):\n",
        "        return self.haut is None\n",
        "\n",
        "    def empiler(self, val):\n",
        "        self.haut = Maillon(val, self.haut)\n",
        "\n",
        "    def __str__(self):\n",
        "        return str(self.haut)\n",
        "\n",
        "\n",
        "def creer_pile():\n",
        "    return Pile()\n",
        "\n",
        "def pile_est_vide(p):\n",
        "    return p.est_vide()\n",
        "\n",
        "\n",
        "def empiler(p,v):\n",
        "    p.empiler(v)\n",
        "\n",
        "\n",
        "\n",
        "def depiler(p):\n",
        "    if p.est_vide():\n",
        "        raise ValueError(\"impossible de dépiler une pile vide\")\n",
        "    premier_maillon = p.haut\n",
        "    p.haut = premier_maillon.suivant\n",
        "    return premier_maillon.valeur\n",
        "\n"
      ],
      "execution_count": 2,
      "outputs": []
    },
    {
      "cell_type": "code",
      "metadata": {
        "id": "TD5sQKG0PSNX"
      },
      "source": [
        "class File:\n",
        "    def __init__(self):\n",
        "        self.debut = None\n",
        "        self.fin = None\n",
        "\n",
        "    def est_vide(self):\n",
        "        return self.debut is None\n",
        "\n",
        "    def __str__(self):\n",
        "        return str(self.debut)\n",
        "\n",
        "    def ajouter(self, v):\n",
        "        m = Maillon(v)\n",
        "        # cas d'une file vide\n",
        "        if self.est_vide():\n",
        "            self.debut = m\n",
        "            self.fin = m\n",
        "        else: # cas d'une file avec au moins un maillon\n",
        "            self.fin.suivant = m\n",
        "            self.fin = m\n",
        "\n",
        "    def retirer(self):\n",
        "        if self.est_vide():\n",
        "            raise ValueError(\"impossible de retirer : la file est vide\")\n",
        "        premier_maillon = self.debut\n",
        "        self.debut = premier_maillon.suivant\n",
        "        if self.debut is None:\n",
        "            self.fin = None\n",
        "        return premier_maillon.valeur\n",
        "\n",
        "def creer_file():\n",
        "    return File()\n",
        "    \n",
        "def file_est_vide(f):\n",
        "    return f.est_vide()\n",
        "\n",
        "def enfiler(f,v):\n",
        "    f.ajouter(v)\n",
        "\n",
        "def defiler(f):\n",
        "    return f.retirer()\n"
      ],
      "execution_count": 3,
      "outputs": []
    },
    {
      "cell_type": "markdown",
      "metadata": {
        "id": "SXzrhXjEPSNY"
      },
      "source": [
        "Dans tout l'exercice, on n'utilisera uniquement les fonctions suivantes,  qui pourraient constituer **l'interface** d'un module File: \n",
        "* `creer_file` : renvoie une file vide\n",
        "* `file_est_vide`: prend en argument une file `f` et renvoie un booléen qui indique si cette file est vide ou pas.\n",
        "* `enfiler` : prend deux arguments `f` une file et `v` une valeur, et ajoute la valeur à la fin de la file\n",
        "* `defiler` :  prend en argument une file `f` et renvoie la valeur en début de file en la retirant de la file. Une erreur est levée si la file est vide."
      ]
    },
    {
      "cell_type": "markdown",
      "metadata": {
        "id": "XXNYDoHtPSNZ"
      },
      "source": [
        "1) Avec les instructions ci-dessus, créer une file contenant les entiers 10,20,30 avec l'entier 10 en début de file."
      ]
    },
    {
      "cell_type": "code",
      "metadata": {
        "id": "fi3Db3IYPSNa"
      },
      "source": [
        "f = creer_file() # file vide\n",
        "enfiler(f, 10)\n",
        "enfiler(f, 20)\n",
        "enfiler(f, 30)"
      ],
      "execution_count": 22,
      "outputs": []
    },
    {
      "cell_type": "code",
      "metadata": {
        "id": "pyHHd2gGzcSN",
        "outputId": "a010306b-e196-45a3-bfb1-839a951802b4",
        "colab": {
          "base_uri": "https://localhost:8080/"
        }
      },
      "source": [
        "print(f)"
      ],
      "execution_count": 23,
      "outputs": [
        {
          "output_type": "stream",
          "name": "stdout",
          "text": [
            "10\n",
            "20\n",
            "30\n"
          ]
        }
      ]
    },
    {
      "cell_type": "markdown",
      "metadata": {
        "id": "COPZc24RPSNb"
      },
      "source": [
        "2)  Avec les instructions listées ci-dessus, écrire une fonction `longueur` qui prend en argument une file `f` et renvoie le nombre d'éléments contenus dans cette file. Attention, après l'exécution de `longueur(f)` la file doit retrouver son état initial."
      ]
    },
    {
      "cell_type": "code",
      "metadata": {
        "id": "GZZWO4b1zgig"
      },
      "source": [
        "def longueur(f):\n",
        "    i = 0\n",
        "    sauvegarde = creer_file()\n",
        "    while not file_est_vide(f):\n",
        "        enfiler(sauvegarde, defiler(f))\n",
        "        i +=1\n",
        "\n",
        "    while not file_est_vide(sauvegarde):\n",
        "        enfiler(f, defiler(sauvegarde))\n",
        "    return i"
      ],
      "execution_count": 24,
      "outputs": []
    },
    {
      "cell_type": "code",
      "metadata": {
        "id": "xKOXDi4O1ovm",
        "outputId": "905a5083-9ef6-4e43-e273-34d270d3922e",
        "colab": {
          "base_uri": "https://localhost:8080/"
        }
      },
      "source": [
        "longueur(f)"
      ],
      "execution_count": 25,
      "outputs": [
        {
          "output_type": "execute_result",
          "data": {
            "text/plain": [
              "3"
            ]
          },
          "metadata": {},
          "execution_count": 25
        }
      ]
    },
    {
      "cell_type": "code",
      "metadata": {
        "id": "OJOg345E15ag",
        "outputId": "8bdfc49c-382d-4bce-b3f5-9e607ec05dda",
        "colab": {
          "base_uri": "https://localhost:8080/"
        }
      },
      "source": [
        "longueur(f)"
      ],
      "execution_count": 26,
      "outputs": [
        {
          "output_type": "execute_result",
          "data": {
            "text/plain": [
              "3"
            ]
          },
          "metadata": {},
          "execution_count": 26
        }
      ]
    },
    {
      "cell_type": "markdown",
      "metadata": {
        "id": "vwvpBIWzPSNb"
      },
      "source": [
        "3) Avec les instructions listées ci-dessus, écrire une fonction `inverser`  qui prend en argument une file `f` et qui inverse tous les éléments contenus dans cette file :\n",
        "\n",
        "Par exemple, la file 10-20-30  une fois inversée, donnera 30-20-10\n",
        "\n",
        "Remarque : on pourra utiliser certaines fonctions listées dans l'interface de l'exercice 1."
      ]
    },
    {
      "cell_type": "code",
      "metadata": {
        "id": "C-L3ou_MPSNc"
      },
      "source": [
        ""
      ],
      "execution_count": null,
      "outputs": []
    }
  ]
}