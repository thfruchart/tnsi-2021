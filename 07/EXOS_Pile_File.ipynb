{
 "cells": [
  {
   "cell_type": "markdown",
   "metadata": {},
   "source": [
    "# Exercice 3\n",
    "On donne ci-dessous une définition d'une classe Pile."
   ]
  },
  {
   "cell_type": "code",
   "execution_count": 1,
   "metadata": {},
   "outputs": [],
   "source": [
    "class Maillon:\n",
    "    def __init__(self, val, suiv=None):\n",
    "        self.valeur = val\n",
    "        self.suivant = suiv\n",
    "\n",
    "    def __str__(self):\n",
    "        if self.suivant is None:\n",
    "            return str(self.valeur)\n",
    "        return str(self.valeur) + '\\n' + str(self.suivant)\n",
    "\n",
    "class Pile:\n",
    "    def __init__(self):\n",
    "        self.haut = None\n",
    "\n",
    "    def est_vide(self):\n",
    "        return self.haut is None\n",
    "\n",
    "    def empiler(self, val):\n",
    "        self.haut = Maillon(val, self.haut)\n",
    "\n",
    "    def __str__(self):\n",
    "        return str(self.haut)\n",
    "\n",
    "\n",
    "def creer_pile():\n",
    "    return Pile()\n",
    "\n",
    "def pile_est_vide(p):\n",
    "    return p.est_vide()\n",
    "\n",
    "\n",
    "def empiler(p,v):\n",
    "    p.empiler(v)\n",
    "\n",
    "\n",
    "\n",
    "def depiler(p):\n",
    "    if p.est_vide():\n",
    "        raise ValueError(\"impossible de dépiler une pile vide\")\n",
    "    premier_maillon = p.haut\n",
    "    p.haut = premier_maillon.suivant\n",
    "    return premier_maillon.valeur\n",
    "\n"
   ]
  },
  {
   "cell_type": "markdown",
   "metadata": {},
   "source": [
    "Dans tout l'exercice, on n'utilisera uniquement les fonctions suivantes, qui pourraient constituer **l'interface** d'un module Pile : \n",
    "* `creer_pile` : renvoie une pile vide\n",
    "* `pile_est_vide`: prend en argument une pile `p` et renvoie un booléen qui indique si cette pile est vide ou pas.\n",
    "* `empiler` : prend deux arguments `p` une pile et `v` une valeur, et ajoute la valeur au sommet de la pile\n",
    "* `depiler` :  prend en argument une pile `p` et renvoie la valeur au sommet de la pile en la retirant de la pile. Une erreur est levée si la pile est vide."
   ]
  },
  {
   "cell_type": "markdown",
   "metadata": {},
   "source": [
    "1) Avec les instructions listées ci-dessus, créer une pile contenant dans les entiers de 1 à 4, rangés dans l'ordre, avec la valeur **1** au sommet de la pile."
   ]
  },
  {
   "cell_type": "code",
   "execution_count": null,
   "metadata": {},
   "outputs": [],
   "source": []
  },
  {
   "cell_type": "markdown",
   "metadata": {},
   "source": [
    "2)  Avec les instructions listées ci-dessus, écrire une fonction `hauteur` qui prend en argument une pile `p` et renvoie le nombre d'éléments contenus dans cette pile. Attention, après l'exécution de `hauteur(p)` la pile doit retrouver son état initial. "
   ]
  },
  {
   "cell_type": "code",
   "execution_count": null,
   "metadata": {},
   "outputs": [],
   "source": []
  },
  {
   "cell_type": "markdown",
   "metadata": {},
   "source": [
    "3) Avec les instructions listées ci-dessus, écrire une fonction `renverser`  qui prend en argument une pile `p` et qui inverse l'ordre de tous les éléments contenus dans cette pile :\n",
    "\n",
    "Par exemple, la pile 1-2-3  une fois inversée, donnera 3-2-1"
   ]
  },
  {
   "cell_type": "code",
   "execution_count": null,
   "metadata": {},
   "outputs": [],
   "source": []
  },
  {
   "cell_type": "markdown",
   "metadata": {},
   "source": [
    "# Exercice  4\n",
    "On donne ci-dessous une définition d'une classe File"
   ]
  },
  {
   "cell_type": "code",
   "execution_count": 2,
   "metadata": {},
   "outputs": [],
   "source": [
    "class File:\n",
    "    def __init__(self):\n",
    "        self.debut = None\n",
    "        self.fin = None\n",
    "\n",
    "    def est_vide(self):\n",
    "        return self.debut is None\n",
    "\n",
    "    def __str__(self):\n",
    "        return str(self.debut)\n",
    "\n",
    "    def ajouter(self, v):\n",
    "        m = Maillon(v)\n",
    "        # cas d'une file vide\n",
    "        if self.est_vide():\n",
    "            self.debut = m\n",
    "            self.fin = m\n",
    "        else: # cas d'une file avec au moins un maillon\n",
    "            self.fin.suivant = m\n",
    "            self.fin = m\n",
    "\n",
    "    def retirer(self):\n",
    "        if self.est_vide():\n",
    "            raise ValueError(\"impossible de retirer : la file est vide\")\n",
    "        premier_maillon = self.debut\n",
    "        self.debut = premier_maillon.suivant\n",
    "        if self.debut is None:\n",
    "            self.fin = None\n",
    "        return premier_maillon.valeur\n",
    "\n",
    "def creer_file():\n",
    "    return File()\n",
    "    \n",
    "def file_est_vide(f):\n",
    "    return f.est_vide()\n",
    "\n",
    "def enfiler(f,v):\n",
    "    f.ajouter(v)\n",
    "\n",
    "def defiler(f):\n",
    "    return f.retirer()\n"
   ]
  },
  {
   "cell_type": "markdown",
   "metadata": {},
   "source": [
    "Dans tout l'exercice, on n'utilisera uniquement les fonctions suivantes,  qui pourraient constituer **l'interface** d'un module File: \n",
    "* `creer_file` : renvoie une file vide\n",
    "* `file_est_vide`: prend en argument une file `f` et renvoie un booléen qui indique si cette file est vide ou pas.\n",
    "* `enfiler` : prend deux arguments `f` une file et `v` une valeur, et ajoute la valeur à la fin de la file\n",
    "* `defiler` :  prend en argument une file `f` et renvoie la valeur en début de file en la retirant de la file. Une erreur est levée si la file est vide."
   ]
  },
  {
   "cell_type": "markdown",
   "metadata": {},
   "source": [
    "1) Avec les instructions ci-dessus, créer une file contenant les entiers 10,20,30 avec l'entier 10 en début de file."
   ]
  },
  {
   "cell_type": "code",
   "execution_count": null,
   "metadata": {},
   "outputs": [],
   "source": []
  },
  {
   "cell_type": "markdown",
   "metadata": {},
   "source": [
    "2)  Avec les instructions listées ci-dessus, écrire une fonction `longueur` qui prend en argument une file `f` et renvoie le nombre d'éléments contenus dans cette file. Attention, après l'exécution de `longueur(f)` la file doit retrouver son état initial."
   ]
  },
  {
   "cell_type": "code",
   "execution_count": null,
   "metadata": {},
   "outputs": [],
   "source": []
  },
  {
   "cell_type": "markdown",
   "metadata": {},
   "source": [
    "3) Avec les instructions listées ci-dessus, écrire une fonction `inverser`  qui prend en argument une pile `p` et qui inverse tous les éléments contenus dans cette pile :\n",
    "\n",
    "Par exemple, la file 10-20-30  une fois inversée, donnera 30-20-10\n",
    "\n",
    "Remarque : on pourra utiliser certaines fonctions listées dans l'interface de l'exercice 1."
   ]
  },
  {
   "cell_type": "code",
   "execution_count": null,
   "metadata": {},
   "outputs": [],
   "source": []
  }
 ],
 "metadata": {
  "kernelspec": {
   "display_name": "Python 3",
   "language": "python",
   "name": "python3"
  },
  "language_info": {
   "codemirror_mode": {
    "name": "ipython",
    "version": 3
   },
   "file_extension": ".py",
   "mimetype": "text/x-python",
   "name": "python",
   "nbconvert_exporter": "python",
   "pygments_lexer": "ipython3",
   "version": "3.7.6"
  }
 },
 "nbformat": 4,
 "nbformat_minor": 4
}
