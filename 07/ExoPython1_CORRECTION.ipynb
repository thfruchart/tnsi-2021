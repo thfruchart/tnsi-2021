{
  "nbformat": 4,
  "nbformat_minor": 0,
  "metadata": {
    "colab": {
      "name": "07-ExoPython1.ipynb",
      "provenance": [],
      "collapsed_sections": [],
      "authorship_tag": "ABX9TyOoYGvewYYwJZfsHSwD/Zwd",
      "include_colab_link": true
    },
    "kernelspec": {
      "name": "python3",
      "display_name": "Python 3"
    }
  },
  "cells": [
    {
      "cell_type": "markdown",
      "metadata": {
        "id": "view-in-github",
        "colab_type": "text"
      },
      "source": [
        "<a href=\"https://colab.research.google.com/github/thfruchart/tnsi/blob/main/07/ExoPython1_CORRECTION.ipynb\" target=\"_parent\"><img src=\"https://colab.research.google.com/assets/colab-badge.svg\" alt=\"Open In Colab\"/></a>"
      ]
    },
    {
      "cell_type": "markdown",
      "metadata": {
        "id": "pgSyd00vFMqR"
      },
      "source": [
        "## Exercice 1\n",
        "\n",
        "Compléter le code ci-dessous pour définir\n",
        "1. la fonction sommet\n",
        "2. la fonction depiler\n",
        "\n"
      ]
    },
    {
      "cell_type": "markdown",
      "metadata": {
        "id": "gtPr96fNcomP"
      },
      "source": [
        "\n",
        "\n",
        "|fonction  |description|\n",
        "|:---------|:------------|\n",
        "|`depiler(p:Pile[T]) -> T` | retire et renvoie l'élément au sommet de `p`|\n",
        "|`sommet(p:Pile[T]) -> T`|renvoie l'élément au sommet de `p` sans le retirer|"
      ]
    },
    {
      "cell_type": "code",
      "metadata": {
        "id": "NgOiBRR8E9ax"
      },
      "source": [
        "class Maillon:\n",
        "    def __init__(self, val, suiv=None):\n",
        "        self.valeur = val\n",
        "        self.suivant = suiv\n",
        "\n",
        "    def __str__(self):\n",
        "        if self.suivant is None:\n",
        "            return str(self.valeur)\n",
        "        return str(self.valeur) + '-' + str(self.suivant)\n",
        "\n",
        "class Pile:\n",
        "    def __init__(self):\n",
        "        self.haut = None\n",
        "\n",
        "    def est_vide(self):\n",
        "        return self.haut is None\n",
        "\n",
        "    def empiler(self, val):\n",
        "        self.haut = Maillon(val, self.haut)\n",
        "\n",
        "    def __str__(self):\n",
        "        return str(self.haut)\n",
        "    \n",
        "def sommet(p):\n",
        "    if p.haut is None : # la pile est vide\n",
        "        raise ValueError(\"une pile vide n'a pas de sommet !\")\n",
        "    return p.haut.valeur\n",
        "\n",
        "def depiler(p):\n",
        "    if p.haut is None : # la pile est vide\n",
        "        raise ValueError(\"impossible de dépiler une pile vide !\")\n",
        "    val = p.haut.valeur\n",
        "    # on modifie le haut de la pile\n",
        "    p.haut = p.haut.suivant\n",
        "    return val"
      ],
      "execution_count": 13,
      "outputs": []
    },
    {
      "cell_type": "markdown",
      "metadata": {
        "id": "mN-hYomxF0Nq"
      },
      "source": [
        "## Tester le code\n",
        "\n",
        "On pourra tester le programme proposé avec les instructions suivantes"
      ]
    },
    {
      "cell_type": "code",
      "metadata": {
        "id": "a0aatxPZF9UN",
        "outputId": "47083565-283a-4155-a592-29fd3ee0b330",
        "colab": {
          "base_uri": "https://localhost:8080/"
        }
      },
      "source": [
        "p = Pile()\n",
        "p.empiler(5)\n",
        "p.empiler(10)\n",
        "p.empiler(20)\n",
        "\n",
        "assert sommet(p)==20\n",
        "assert depiler(p) == 20\n",
        "assert depiler(p) == 10 \n",
        "assert depiler(p) == 5\n",
        "assert p.est_vide()\n",
        "print(\"test ok\")"
      ],
      "execution_count": 14,
      "outputs": [
        {
          "output_type": "stream",
          "name": "stdout",
          "text": [
            "test ok\n"
          ]
        }
      ]
    }
  ]
}